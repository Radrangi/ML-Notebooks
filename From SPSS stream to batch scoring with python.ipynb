{
    "metadata": {
        "kernelspec": {
            "language": "python", 
            "display_name": "Python 2 with Spark 2.0", 
            "name": "python2-spark20"
        }, 
        "language_info": {
            "version": "2.7.11", 
            "file_extension": ".py", 
            "mimetype": "text/x-python", 
            "name": "python", 
            "nbconvert_exporter": "python", 
            "pygments_lexer": "ipython2", 
            "codemirror_mode": {
                "version": 2, 
                "name": "ipython"
            }
        }
    }, 
    "cells": [
        {
            "metadata": {}, 
            "cell_type": "markdown", 
            "source": "<table style=\"border: none\" align=\"left\">\n   <tr style=\"border: none\">\n      <th style=\"border: none\"><font face=\"verdana\" size=\"5\" color=\"black\"><b>Predict the best drug for heart treatment with IBM Watson Machine Learning (SPSS)</b></th>\n      <th style=\"border: none\"><img src=\"https://github.com/pmservice/customer-satisfaction-prediction/blob/master/app/static/images/ml_icon_gray.png?raw=true\" alt=\"Watson Machine Learning icon\" height=\"40\" width=\"40\"></th>\n   </tr>\n   <tr style=\"border: none\">\n       <th style=\"border: none\"><img src=\"https://github.com/pmservice/drug-selection/raw/master/images/heart_banner.png\" width=\"600\" alt=\"Icon\"> </th>\n   </tr>\n</table>"
        }, 
        {
            "metadata": {}, 
            "cell_type": "markdown", 
            "source": "This notebook contains steps and code to load SPSS predictive model to Bluemix Cloud and start scoring new data. This notebook introduces commands for getting data, model persistance to Watson Machine Learning repository, model deployment, and batch scoring.\n\nSome familiarity with Python is helpful. This notebook uses Python 2.0.\n\nYou will use published on git data set, **drug_batch_data**, which details anonymous patients records. Use the details of this data set to predict best drug for heart disease treatment.\n\n## Learning goals\n\nThe learning goals of this notebook are:\n\n-  Load a CSV file into DashDB on Bluemix.\n-  Persist SPSS model in Watson Machine Learning repository.\n-  Deploy a model for batch scoring using Wastson Machine Learning API.\n-  Score sample scoring data using the Watson Machine Learning API.\n-  Explore and visualize prediction result using the plotly package.\n\n\n## Contents\n\nThis notebook contains the following parts:\n\n1.\t[Setup](#setup)\n2.\t[Persist model](#persistence)\n3.\t[Score in a Cloud](#scoring)\n4.\t[Explore predictions](#predictions)\n4.\t[Summary and next steps](#summary)"
        }, 
        {
            "metadata": {}, 
            "cell_type": "markdown", 
            "source": "<a id=\"setup\"></a>\n## 1. Setup\n\nBefore you use the sample code in this notebook, you must perform the following setup tasks:\n\n-  Create a [Watson Machine Learning Service](https://console.ng.bluemix.net/catalog/services/ibm-watson-machine-learning/) instance (a free plan is offered). \n-  Create a [DashDB for Analytics](https://console.ng.bluemix.net/catalog/services/dashdb-for-analytics/) instance (an entry plan is offered). \n-  Upload **drugTrain2** data to DashDB.\n\n\n### Create the DRUGTRAIN2 table in DashDB  \n\n1.  Download [drug_batch_data.csv](https://github.com/pmservice/drug-selection/blob/master/data/drug_batch_data.csv) file from git repository.\n2.  Click the **Open the console to get started with dashDB** icon.\n3.  Select the **Load Data** and **Desktop** load type.\n4.  Drug and drop previously downloaded file and press **Next**\n5.  Table **DRUG_BATCH_DATA** with uploaded data should be created for you."
        }, 
        {
            "metadata": {
                "collapsed": true
            }, 
            "cell_type": "markdown", 
            "source": "<a id=\"persistence\"></a>\n## 2. Persist model"
        }, 
        {
            "metadata": {}, 
            "cell_type": "markdown", 
            "source": "In this section you will learn how to store your model in Watson Machine Learning repository by using REST API."
        }, 
        {
            "metadata": {}, 
            "cell_type": "markdown", 
            "source": "**Action**: Put the credentials of your Watson Machine Learning service instance."
        }, 
        {
            "execution_count": 22, 
            "cell_type": "code", 
            "source": "wml_credentials={\n  \"url\": \"https://ibm-watson-ml.mybluemix.net\",\n  \"access_key\": \"***\",\n  \"username\": \"***\",\n  \"password\": \"***\",\n  \"instance_id\": \"***\"\n}", 
            "metadata": {
                "collapsed": true
            }, 
            "outputs": []
        }, 
        {
            "metadata": {
                "collapsed": true
            }, 
            "cell_type": "markdown", 
            "source": "**Tip**: Credentials can be found on **Service Credentials** tab of service instance created in Bluemix."
        }, 
        {
            "metadata": {}, 
            "cell_type": "markdown", 
            "source": "### 2.1: Download sample SPSS stream"
        }, 
        {
            "metadata": {}, 
            "cell_type": "markdown", 
            "source": "**Action**: Download sample SPSS stream from git project using wget command.</div>"
        }, 
        {
            "metadata": {}, 
            "cell_type": "markdown", 
            "source": "**Example**: First, you need to install required packages. You can do it by running the following code. Run it only one time.<BR><BR>\n!pip install wget --user <BR>"
        }, 
        {
            "execution_count": 68, 
            "cell_type": "code", 
            "source": "!wget https://github.com/pmservice/drug-selection/raw/master/model/Drug1n_capitalized.str", 
            "metadata": {}, 
            "outputs": [
                {
                    "output_type": "stream", 
                    "name": "stdout", 
                    "text": "--2017-05-31 05:15:42--  https://github.com/pmservice/drug-selection/raw/master/model/Drug1n_capitalized.str\nResolving github.com (github.com)... 192.30.253.113, 192.30.253.112\nConnecting to github.com (github.com)|192.30.253.113|:443... connected.\nHTTP request sent, awaiting response... 302 Found\nLocation: https://raw.githubusercontent.com/pmservice/drug-selection/master/model/Drug1n_capitalized.str [following]\n--2017-05-31 05:15:43--  https://raw.githubusercontent.com/pmservice/drug-selection/master/model/Drug1n_capitalized.str\nResolving raw.githubusercontent.com (raw.githubusercontent.com)... 151.101.48.133\nConnecting to raw.githubusercontent.com (raw.githubusercontent.com)|151.101.48.133|:443... connected.\nHTTP request sent, awaiting response... 200 OK\nLength: 47368 (46K) [application/octet-stream]\nSaving to: \u2018Drug1n_capitalized.str\u2019\n\n100%[======================================>] 47,368      --.-K/s   in 0.002s  \n\n2017-05-31 05:15:43 (18.3 MB/s) - \u2018Drug1n_capitalized.str\u2019 saved [47368/47368]\n\n"
                }
            ]
        }, 
        {
            "metadata": {}, 
            "cell_type": "markdown", 
            "source": "**Tip**: if you are using your own stream make sure that columns names used in stream and one in database have the same capitalization (e.g: UPPER_CASE letters)."
        }, 
        {
            "metadata": {}, 
            "cell_type": "markdown", 
            "source": "### 2.2: Deploy the Drug1n_capitalized.str to Watson Machine Learning service"
        }, 
        {
            "execution_count": 38, 
            "cell_type": "code", 
            "source": "import urllib3, requests, json", 
            "metadata": {
                "collapsed": true
            }, 
            "outputs": []
        }, 
        {
            "execution_count": 69, 
            "cell_type": "code", 
            "source": "context_id = \"drug_cap_stream\"\nupload_endpoint = wml_credentials['url'] + \"/pm/v1/file/\" + context_id + \"?accesskey=\" + wml_credentials['access_key']\nfiles = {'file': ('Drug1n_capitalized.str', open('Drug1n_capitalized.str', 'rb'))}", 
            "metadata": {
                "collapsed": true
            }, 
            "outputs": []
        }, 
        {
            "execution_count": 70, 
            "cell_type": "code", 
            "source": "upload_response = requests.put(upload_endpoint, files=files)\n\nprint upload_response\nprint upload_response.text", 
            "metadata": {}, 
            "outputs": [
                {
                    "output_type": "stream", 
                    "name": "stdout", 
                    "text": "<Response [200]>\nhttps://palbyp.pmservice.ibmcloud.com/pm/v1/file/drug_cap_stream\n"
                }
            ]
        }, 
        {
            "metadata": {}, 
            "cell_type": "markdown", 
            "source": "As you can see model is deployed successfuly to Watson Machine Learning service on Cloud."
        }, 
        {
            "metadata": {}, 
            "cell_type": "markdown", 
            "source": "**Tip**: *context_id* can be any string that describes your model"
        }, 
        {
            "metadata": {}, 
            "cell_type": "markdown", 
            "source": "<a id=\"scoring\"></a>\n## 3. Score in a Cloud using batch job"
        }, 
        {
            "metadata": {}, 
            "cell_type": "markdown", 
            "source": "In this section you will learn how to create batch job and score records present in DashDB using the Watson Machine Learning REST API. \nFor more information about REST APIs, see the [Bluemix Documentation](https://console.ng.bluemix.net/docs/services/PredictiveModeling/index.html)."
        }, 
        {
            "metadata": {}, 
            "cell_type": "markdown", 
            "source": "### 3.1: Create connection map to DashDB table with data"
        }, 
        {
            "metadata": {}, 
            "cell_type": "markdown", 
            "source": "Using DashDB credentials information from Bluemix update **host**,**port**,**db**,**username** and **password** values in dbDefinitions dictionary below."
        }, 
        {
            "execution_count": 71, 
            "cell_type": "code", 
            "source": "dbDefinitions = {\n    \"db1\":{\n         \"type\":\"DashDB\",\n         \"host\":\"awh-yp-small02.services.dal.bluemix.net\",\n         \"port\":50000,\n         \"db\":\"BLUDB\",\n         \"username\":\"***\",\n         \"password\":\"***\"\n      }\n   }", 
            "metadata": {
                "collapsed": true
            }, 
            "outputs": []
        }, 
        {
            "metadata": {}, 
            "cell_type": "markdown", 
            "source": "**Tip**: all required fields can be found on **Service Credentials** tab of DashDB service instance created in Bluemix."
        }, 
        {
            "metadata": {}, 
            "cell_type": "markdown", 
            "source": "Update **table** name (if you used different than DRUG_BATCH_DATA) and **node** name to reflect you model's input/output node name in below dictionary. \nYou can also update result **table** name from RESULTS to any custom string in exports section."
        }, 
        {
            "execution_count": 72, 
            "cell_type": "code", 
            "source": "settings = {\n      \"inputs\":[\n         {\n            \"odbc\":{\n               \"dbRef\":\"db1\",\n               \"table\":\"DRUG_BATCH_DATA\"\n            },\n            \"node\":\"scoreInput\",\n            \"attributes\":[\n\n            ]\n         }\n      ],\n      \"exports\":[\n         {\n            \"odbc\":{\n               \"dbRef\":\"db1\",\n               \"table\":\"RESULTS_DRUG\",\n               \"insertMode\":\"Create\"\n            },\n            \"node\":\"Table\",\n            \"attributes\":[\n\n            ]\n         }\n      ]\n   }", 
            "metadata": {
                "collapsed": true
            }, 
            "outputs": []
        }, 
        {
            "metadata": {}, 
            "cell_type": "markdown", 
            "source": "**Tip**: database table name with data to score should be put into **inputs: table**; **inputs/exports: node** is the name of input and output node used in modeler stream"
        }, 
        {
            "metadata": {}, 
            "cell_type": "markdown", 
            "source": "### 3.2: Submit batch job"
        }, 
        {
            "execution_count": 73, 
            "cell_type": "code", 
            "source": "job_id = \"drug_job5\"\nbatch_endpoint = wml_credentials['url'] + \"/pm/v1/jobs/\" + job_id + \"?accesskey=\" + wml_credentials['access_key']\n\nbatch_payload = {\n    \"action\":\"BATCH_SCORE\", \n    \"model\":{\n      \"id\":\"drug_cap_stream\",\n      \"name\":\"Drug1n_capitalized.str\"\n   },\n   \"dbDefinitions\": dbDefinitions,\n   \"setting\": settings\n}\n\nbatch_header = {\"Content-Type\": \"application/json\"}", 
            "metadata": {
                "collapsed": true
            }, 
            "outputs": []
        }, 
        {
            "execution_count": 74, 
            "cell_type": "code", 
            "source": "batch_response = requests.post(batch_endpoint, json=batch_payload, headers=batch_header)\n\nprint batch_response\nprint batch_response.text", 
            "metadata": {}, 
            "outputs": [
                {
                    "output_type": "stream", 
                    "name": "stdout", 
                    "text": "<Response [200]>\n{\"namespace\":\"us-south$634640a0-1f9f-4df8-8ea6-95ca7326df20\",\"storageId\":\"us-south$634640a0-1f9f-4df8-8ea6-95ca7326df20/drug_job5\",\"action\":\"BATCH_SCORE\",\"createdAt\":1496225893369,\"creater\":\"Tenant [instanceId=634640a0-1f9f-4df8-8ea6-95ca7326df20, planId=3f6acf43-ede8-413a-ac69-f8af3bb0cbfe, appId=null, enable=true]\",\"id\":\"drug_job5\",\"model\":{\"id\":\"drug_cap_stream\",\"name\":\"Drug1n_capitalized.str\"},\"status\":\"PENDING\",\"setting\":{\"exports\":[{\"odbc\":{\"insertMode\":\"Create\",\"dbRef\":\"db1\",\"table\":\"RESULTS_DRUG\"},\"node\":\"Table\",\"attributes\":[]}],\"inputs\":[{\"odbc\":{\"dbRef\":\"db1\",\"table\":\"DRUG_BATCH_DATA\"},\"node\":\"scoreInput\",\"attributes\":[]}],\"parameterOverride\":[]},\"dbDefinitions\":{\"db1\":{\"db\":\"BLUDB\",\"host\":\"awh-yp-small02.services.dal.bluemix.net\",\"password\":\"n2#BP@mwW6Dl\",\"port\":50000,\"username\":\"dash111858\",\"type\":\"DashDB\"}}}\n"
                }
            ]
        }, 
        {
            "metadata": {}, 
            "cell_type": "markdown", 
            "source": "Batch job has been submitted. Now, you can check the status of your batch job using the following REST API method."
        }, 
        {
            "execution_count": 76, 
            "cell_type": "code", 
            "source": "batch_status_response = requests.get(batch_endpoint)\n\nprint batch_status_response\nprint batch_status_response.text", 
            "metadata": {}, 
            "outputs": [
                {
                    "output_type": "stream", 
                    "name": "stdout", 
                    "text": "<Response [200]>\n{\"result\":{\"jobId\":\"drug_job5\",\"jobStatus\":\"SUCCESS\"},\"namespace\":\"us-south$634640a0-1f9f-4df8-8ea6-95ca7326df20\",\"storageId\":\"us-south$634640a0-1f9f-4df8-8ea6-95ca7326df20/drug_job5\",\"action\":\"BATCH_SCORE\",\"createdAt\":1496225893369,\"creater\":\"Tenant [instanceId=634640a0-1f9f-4df8-8ea6-95ca7326df20, planId=3f6acf43-ede8-413a-ac69-f8af3bb0cbfe, appId=null, enable=true]\",\"finishedAt\":1496225918066,\"id\":\"drug_job5\",\"model\":{\"id\":\"drug_cap_stream\",\"name\":\"Drug1n_capitalized.str\"},\"status\":\"SUCCESS\",\"setting\":{\"exports\":[{\"odbc\":{\"insertMode\":\"Create\",\"dbRef\":\"db1\",\"table\":\"RESULTS_DRUG\"},\"node\":\"Table\",\"attributes\":[]}],\"inputs\":[{\"odbc\":{\"dbRef\":\"db1\",\"table\":\"DRUG_BATCH_DATA\"},\"node\":\"scoreInput\",\"attributes\":[]}],\"parameterOverride\":[]},\"dbDefinitions\":{\"db1\":{\"db\":\"BLUDB\",\"host\":\"awh-yp-small02.services.dal.bluemix.net\",\"password\":\"n2#BP@mwW6Dl\",\"port\":50000,\"username\":\"dash111858\",\"type\":\"DashDB\"}}}\n"
                }
            ]
        }, 
        {
            "metadata": {}, 
            "cell_type": "markdown", 
            "source": "As we can see our batch job status is SUCCESS. Prediction results are store in table RESULTS_DRUG. Let's connect to DashDB and explore it."
        }, 
        {
            "metadata": {}, 
            "cell_type": "markdown", 
            "source": "## 4. Explore predictions "
        }, 
        {
            "metadata": {}, 
            "cell_type": "markdown", 
            "source": "In this section we will connect to RESULTS_DRUG table using Spark read method and explore prediction results."
        }, 
        {
            "metadata": {}, 
            "cell_type": "markdown", 
            "source": "### 4.1: Data exploration"
        }, 
        {
            "metadata": {}, 
            "cell_type": "markdown", 
            "source": "Using below code you can read predictions results into Spark Data Frame."
        }, 
        {
            "execution_count": null, 
            "cell_type": "code", 
            "source": "db2_credentials = {\n    'jdbcurl': 'jdbc:db2://awh-yp-small02.services.dal.bluemix.net:50000/BLUDB',\n    'user': '***',\n    'password': '***'\n}", 
            "metadata": {
                "collapsed": true
            }, 
            "outputs": []
        }, 
        {
            "execution_count": null, 
            "cell_type": "code", 
            "source": "db2_properties = {x: db2_credentials.get(x) for x in db2_credentials.keys() if x in ['jdbcurl', 'user', 'password']}\ntablename = \"{schema}.{table}\".format(schema=db2_credentials['user'], table='RESULTS_DRUG')", 
            "metadata": {
                "collapsed": true
            }, 
            "outputs": []
        }, 
        {
            "execution_count": 80, 
            "cell_type": "code", 
            "source": "from pyspark.sql import SparkSession\n\nspark = SparkSession.builder.getOrCreate()\ndata = spark.read.jdbc(db2_properties['jdbcurl'], table=tablename, properties=db2_properties)\ndata.head()", 
            "metadata": {}, 
            "outputs": [
                {
                    "output_type": "execute_result", 
                    "data": {
                        "text/plain": "Row(AGE=23, SEX=u'F', BP=u'HIGH', CHOLESTEROL=u'HIGH', NA=0.792535, K=0.031258, $N-DRUG=u'drugY', $NC-DRUG=0.9999929901781156)"
                    }, 
                    "metadata": {}, 
                    "execution_count": 80
                }
            ]
        }, 
        {
            "metadata": {}, 
            "cell_type": "markdown", 
            "source": "As you can see data has been loaded correctly. Now we can check the schema of prediction data using printSchema() method."
        }, 
        {
            "execution_count": 78, 
            "cell_type": "code", 
            "source": "data.printSchema()", 
            "metadata": {}, 
            "outputs": [
                {
                    "output_type": "stream", 
                    "name": "stdout", 
                    "text": "root\n |-- AGE: long (nullable = true)\n |-- SEX: string (nullable = true)\n |-- BP: string (nullable = true)\n |-- CHOLESTEROL: string (nullable = true)\n |-- NA: double (nullable = true)\n |-- K: double (nullable = true)\n |-- $N-DRUG: string (nullable = true)\n |-- $NC-DRUG: double (nullable = true)\n\n"
                }
            ]
        }, 
        {
            "metadata": {}, 
            "cell_type": "markdown", 
            "source": "Now you can call show() method to preview prediction data."
        }, 
        {
            "execution_count": 79, 
            "cell_type": "code", 
            "source": "data.show()", 
            "metadata": {}, 
            "outputs": [
                {
                    "output_type": "stream", 
                    "name": "stdout", 
                    "text": "+---+---+------+-----------+--------+--------+-------+------------------+\n|AGE|SEX|    BP|CHOLESTEROL|      NA|       K|$N-DRUG|          $NC-DRUG|\n+---+---+------+-----------+--------+--------+-------+------------------+\n| 23|  F|  HIGH|       HIGH|0.792535|0.031258|  drugY|0.9999929901781156|\n| 47|  M|   LOW|       HIGH|0.739309|0.056468|  drugC|0.9745257637443014|\n| 47|  M|   LOW|       HIGH|0.697269|0.068944|  drugC|0.9991828775434979|\n| 28|  F|NORMAL|       HIGH|0.563682|0.072289|  drugX|0.9956213726883215|\n| 61|  F|   LOW|       HIGH|0.559294|0.030998|  drugY|0.9997859875220865|\n| 22|  F|NORMAL|       HIGH|0.676901|0.078647|  drugX|0.9943009058967174|\n| 49|  F|NORMAL|       HIGH|0.789637|0.048518|  drugY|0.9994412857017156|\n| 41|  M|   LOW|       HIGH|0.766635|0.069461|  drugC|0.9992996209099003|\n| 60|  M|NORMAL|       HIGH|0.777205| 0.05123|  drugY|0.9961953878310243|\n| 43|  M|   LOW|     NORMAL|0.526102|0.027164|  drugY|0.9909220997143252|\n| 47|  F|   LOW|       HIGH|0.896056|0.076147|  drugC|0.9962770170425455|\n| 34|  F|  HIGH|     NORMAL|0.667775|0.034782|  drugY| 0.999998611342213|\n| 43|  M|   LOW|       HIGH|0.626527|0.040746|  drugY|0.9892782842810034|\n| 74|  F|   LOW|       HIGH|0.792674|0.037851|  drugY|0.9986936848748698|\n| 50|  F|NORMAL|       HIGH| 0.82778|0.065166|  drugX|0.9991198943663002|\n| 16|  F|  HIGH|     NORMAL|0.833837|0.053742|  drugY|0.9872330858595681|\n| 69|  M|   LOW|     NORMAL|0.848948|0.074111|  drugX|0.9826188710577708|\n| 43|  M|  HIGH|       HIGH|0.656371|0.046979|  drugA|0.9900793988476249|\n| 23|  M|   LOW|       HIGH| 0.55906|0.076609|  drugC|0.9655907050935728|\n| 32|  F|  HIGH|     NORMAL|0.643455|0.024773|  drugY| 0.999999462468896|\n+---+---+------+-----------+--------+--------+-------+------------------+\nonly showing top 20 rows\n\n"
                }
            ]
        }, 
        {
            "metadata": {}, 
            "cell_type": "markdown", 
            "source": "As you can see two columns with predicted drug (N-DRUG) and probability (NC-DRUG) are shown."
        }, 
        {
            "execution_count": 83, 
            "cell_type": "code", 
            "source": "data.select(\"$N-DRUG\").groupBy(\"$N-DRUG\").count().show()", 
            "metadata": {}, 
            "outputs": [
                {
                    "output_type": "stream", 
                    "name": "stdout", 
                    "text": "+-------+-----+\n|$N-DRUG|count|\n+-------+-----+\n|  drugC|    5|\n|  drugA|    1|\n|  drugY|   12|\n|  drugX|    4|\n+-------+-----+\n\n"
                }
            ]
        }, 
        {
            "metadata": {}, 
            "cell_type": "markdown", 
            "source": "You can easily calculate drugs distribution using select statement."
        }, 
        {
            "metadata": {}, 
            "cell_type": "markdown", 
            "source": "### 4.2: Sample visualization of data with Plotly package"
        }, 
        {
            "metadata": {}, 
            "cell_type": "markdown", 
            "source": "In this subsection you will explore prediction results with Plotly, which is an online analytics and data visualization tool."
        }, 
        {
            "metadata": {}, 
            "cell_type": "markdown", 
            "source": "**Example**:  First, you need to install required packages. You can do it by running the following code. Run it only one time.\n\n!pip install plotly --user\n\n!pip install cufflinks --user"
        }, 
        {
            "execution_count": null, 
            "cell_type": "code", 
            "source": "!pip install plotly --user \n!pip install cufflinks --user", 
            "metadata": {
                "collapsed": true
            }, 
            "outputs": []
        }, 
        {
            "metadata": {}, 
            "cell_type": "markdown", 
            "source": "Import Plotly and other required packages."
        }, 
        {
            "execution_count": 85, 
            "cell_type": "code", 
            "source": "import sys\nimport pandas\nimport plotly.plotly as py\nfrom plotly.offline import download_plotlyjs, init_notebook_mode, plot, iplot\nimport cufflinks as cf\nimport plotly.graph_objs as go\n\ninit_notebook_mode(connected=True)\nsys.path.append(\"\".join([os.environ[\"HOME\"]])) ", 
            "metadata": {}, 
            "outputs": [
                {
                    "output_type": "display_data", 
                    "data": {
                        "text/html": "<script>requirejs.config({paths: { 'plotly': ['https://cdn.plot.ly/plotly-latest.min']},});if(!window.Plotly) {{require(['plotly'],function(plotly) {window.Plotly=plotly;});}}</script>", 
                        "text/vnd.plotly.v1+html": "<script>requirejs.config({paths: { 'plotly': ['https://cdn.plot.ly/plotly-latest.min']},});if(!window.Plotly) {{require(['plotly'],function(plotly) {window.Plotly=plotly;});}}</script>"
                    }, 
                    "metadata": {}
                }
            ]
        }, 
        {
            "metadata": {}, 
            "cell_type": "markdown", 
            "source": "Convert the Apache Spark DataFrame to a Pandas DataFrame."
        }, 
        {
            "execution_count": 86, 
            "cell_type": "code", 
            "source": "data_pdf = data.toPandas()", 
            "metadata": {
                "collapsed": true
            }, 
            "outputs": []
        }, 
        {
            "metadata": {}, 
            "cell_type": "markdown", 
            "source": "Plot a pie chart that shows drugs distribution."
        }, 
        {
            "execution_count": 90, 
            "cell_type": "code", 
            "source": "cumulative_stats = data_pdf.groupby(['$N-DRUG']).count()\n\ndrug_data = [go.Pie(\n            labels=cumulative_stats.index,\n            values=cumulative_stats['$NC-DRUG'],\n    )]\n\ndrug_layout = go.Layout(\n    title='Heart treatment drugs distribution',\n)\n\nfig = go.Figure(data=drug_data, layout=drug_layout)\niplot(fig)", 
            "metadata": {}, 
            "outputs": [
                {
                    "output_type": "display_data", 
                    "data": {
                        "application/vnd.plotly.v1+json": {
                            "data": [
                                {
                                    "labels": [
                                        "drugA", 
                                        "drugC", 
                                        "drugX", 
                                        "drugY"
                                    ], 
                                    "type": "pie", 
                                    "values": [
                                        1, 
                                        5, 
                                        4, 
                                        12
                                    ]
                                }
                            ], 
                            "layout": {
                                "title": "Heart treatment drugs distribution"
                            }
                        }, 
                        "text/html": "<div id=\"9086c858-4ba8-4071-9b4e-180b6d73e6ca\" style=\"height: 525px; width: 100%;\" class=\"plotly-graph-div\"></div><script type=\"text/javascript\">require([\"plotly\"], function(Plotly) { window.PLOTLYENV=window.PLOTLYENV || {};window.PLOTLYENV.BASE_URL=\"https://plot.ly\";Plotly.newPlot(\"9086c858-4ba8-4071-9b4e-180b6d73e6ca\", [{\"type\": \"pie\", \"labels\": [\"drugA\", \"drugC\", \"drugX\", \"drugY\"], \"values\": [1, 5, 4, 12]}], {\"title\": \"Heart treatment drugs distribution\"}, {\"linkText\": \"Export to plot.ly\", \"showLink\": true})});</script>", 
                        "text/vnd.plotly.v1+html": "<div id=\"9086c858-4ba8-4071-9b4e-180b6d73e6ca\" style=\"height: 525px; width: 100%;\" class=\"plotly-graph-div\"></div><script type=\"text/javascript\">require([\"plotly\"], function(Plotly) { window.PLOTLYENV=window.PLOTLYENV || {};window.PLOTLYENV.BASE_URL=\"https://plot.ly\";Plotly.newPlot(\"9086c858-4ba8-4071-9b4e-180b6d73e6ca\", [{\"type\": \"pie\", \"labels\": [\"drugA\", \"drugC\", \"drugX\", \"drugY\"], \"values\": [1, 5, 4, 12]}], {\"title\": \"Heart treatment drugs distribution\"}, {\"linkText\": \"Export to plot.ly\", \"showLink\": true})});</script>"
                    }, 
                    "metadata": {}
                }
            ]
        }, 
        {
            "metadata": {}, 
            "cell_type": "markdown", 
            "source": "With this data set, you might want to do some analysis of the mean K value per drug type by using a bar chart."
        }, 
        {
            "execution_count": 96, 
            "cell_type": "code", 
            "source": "age_data = [go.Bar(\n            y=data_pdf.groupby(['$N-DRUG']).mean()[\"K\"],\n            x=cumulative_stats.index\n            \n    )]\n\nage_layout = go.Layout(\n    title='Mean K per recommended drug',\n    xaxis=dict(\n        title = \"Drug\",\n        showline=False,),\n    yaxis=dict(\n        title = \"Mean K\",\n        ),\n)\n\nfig = go.Figure(data=age_data, layout=age_layout)\niplot(fig)", 
            "metadata": {}, 
            "outputs": [
                {
                    "output_type": "display_data", 
                    "data": {
                        "application/vnd.plotly.v1+json": {
                            "data": [
                                {
                                    "type": "bar", 
                                    "y": [
                                        0.046979, 
                                        0.0695258, 
                                        0.07255325, 
                                        0.036074666666666665
                                    ], 
                                    "x": [
                                        "drugA", 
                                        "drugC", 
                                        "drugX", 
                                        "drugY"
                                    ]
                                }
                            ], 
                            "layout": {
                                "xaxis": {
                                    "showline": false, 
                                    "title": "Drug"
                                }, 
                                "yaxis": {
                                    "title": "Mean K"
                                }, 
                                "title": "Mean K per recommended drug"
                            }
                        }, 
                        "text/html": "<div id=\"91de43b9-bc9a-4c8c-ba41-6cae5fad20a4\" style=\"height: 525px; width: 100%;\" class=\"plotly-graph-div\"></div><script type=\"text/javascript\">require([\"plotly\"], function(Plotly) { window.PLOTLYENV=window.PLOTLYENV || {};window.PLOTLYENV.BASE_URL=\"https://plot.ly\";Plotly.newPlot(\"91de43b9-bc9a-4c8c-ba41-6cae5fad20a4\", [{\"y\": [0.046979, 0.0695258, 0.07255325, 0.036074666666666665], \"x\": [\"drugA\", \"drugC\", \"drugX\", \"drugY\"], \"type\": \"bar\"}], {\"title\": \"Mean K per recommended drug\", \"xaxis\": {\"showline\": false, \"title\": \"Drug\"}, \"yaxis\": {\"title\": \"Mean K\"}}, {\"linkText\": \"Export to plot.ly\", \"showLink\": true})});</script>", 
                        "text/vnd.plotly.v1+html": "<div id=\"91de43b9-bc9a-4c8c-ba41-6cae5fad20a4\" style=\"height: 525px; width: 100%;\" class=\"plotly-graph-div\"></div><script type=\"text/javascript\">require([\"plotly\"], function(Plotly) { window.PLOTLYENV=window.PLOTLYENV || {};window.PLOTLYENV.BASE_URL=\"https://plot.ly\";Plotly.newPlot(\"91de43b9-bc9a-4c8c-ba41-6cae5fad20a4\", [{\"y\": [0.046979, 0.0695258, 0.07255325, 0.036074666666666665], \"x\": [\"drugA\", \"drugC\", \"drugX\", \"drugY\"], \"type\": \"bar\"}], {\"title\": \"Mean K per recommended drug\", \"xaxis\": {\"showline\": false, \"title\": \"Drug\"}, \"yaxis\": {\"title\": \"Mean K\"}}, {\"linkText\": \"Export to plot.ly\", \"showLink\": true})});</script>"
                    }, 
                    "metadata": {}
                }
            ]
        }, 
        {
            "metadata": {}, 
            "cell_type": "markdown", 
            "source": "Based on bar plot you created, you might make the following conclusion: The drugC and drugX is recommended for patients with high value of K."
        }, 
        {
            "metadata": {
                "collapsed": true
            }, 
            "cell_type": "markdown", 
            "source": "<a id=\"summary\"></a>\n## 7. Summary and next steps     "
        }, 
        {
            "metadata": {
                "collapsed": true
            }, 
            "cell_type": "markdown", 
            "source": " You successfully completed this notebook! You learned how to use Apache Spark machine learning as well as Watson Machine Learning for model creation and deployment. Check out our _[Online Documentation](www.ibm.com)_ for more samples, tutorials, documentation, how-tos, and blog posts. "
        }, 
        {
            "metadata": {}, 
            "cell_type": "markdown", 
            "source": "### Authors\n\n**Lukasz Cmielowski**, PhD, is a Automation Architect and Data Scientist in IBM with a track record of developing enterprise-level applications that substantially increases clients' ability to turn data into actionable knowledge."
        }, 
        {
            "metadata": {}, 
            "cell_type": "markdown", 
            "source": "Copyright \u00a9 2017 IBM. This notebook and its source code are released under the terms of the MIT License."
        }
    ], 
    "nbformat": 4, 
    "nbformat_minor": 1
}