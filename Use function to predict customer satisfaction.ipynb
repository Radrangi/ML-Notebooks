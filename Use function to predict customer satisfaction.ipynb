{
    "nbformat_minor": 1, 
    "cells": [
        {
            "source": "<table style=\"border: none\" align=\"left\">\n    <tr style=\"border: none\">\n       <th style=\"border: none\"><img src=\"https://raw.githubusercontent.com/pmservice/cars-4-you/master/static/images/logo.png\" width=\"200\" alt=\"Icon\"></th>\n       <th style=\"border: none\"><font face=\"verdana\" size=\"5\" color=\"black\"><b>Use python function to predict customer satisfaction.</b></th>\n   </tr>\n</table>", 
            "cell_type": "markdown", 
            "metadata": {}
        }, 
        {
            "source": "<img align=left src=\"https://github.com/pmservice/cars-4-you/raw/master/static/images/ai_function.png\" alt=\"Icon\" width=\"664\">", 
            "cell_type": "markdown", 
            "metadata": {}
        }, 
        {
            "source": "Keras model and AI function to determine if comment is a complain.", 
            "cell_type": "markdown", 
            "metadata": {}
        }, 
        {
            "source": "Contents\n\n- [0. Setup](#setup)\n- [1. Introduction](#introduction)\n- [2. Load and explore data](#load)\n- [3. Create Keras model using TensorFlow backend](#model)\n- [4. Store the model in the repository](#persistence)\n- [5. Deploy the model](#deployment)\n- [6. Python function](#ai_function)\n- [7. Payload logging for AI function](#ai_function)", 
            "cell_type": "markdown", 
            "metadata": {}
        }, 
        {
            "source": "<a id=\"setup\"></a>\n## 0. Setup", 
            "cell_type": "markdown", 
            "metadata": {}
        }, 
        {
            "source": "Install TensorFlow version 1.5 and newest version of watson-machine-learning-client.", 
            "cell_type": "markdown", 
            "metadata": {}
        }, 
        {
            "execution_count": 1, 
            "cell_type": "code", 
            "metadata": {}, 
            "outputs": [
                {
                    "output_type": "stream", 
                    "name": "stdout", 
                    "text": "Collecting tensorflow==1.5\n  Downloading https://files.pythonhosted.org/packages/43/aa/fe3e9d0b48db4adde9781658b9354814b6cdf6acbfeaa7b2677c7b8002d6/tensorflow-1.5.0-cp35-cp35m-manylinux1_x86_64.whl (44.4MB)\n\u001b[K    100% |\u2588\u2588\u2588\u2588\u2588\u2588\u2588\u2588\u2588\u2588\u2588\u2588\u2588\u2588\u2588\u2588\u2588\u2588\u2588\u2588\u2588\u2588\u2588\u2588\u2588\u2588\u2588\u2588\u2588\u2588\u2588\u2588| 44.4MB 22kB/s  eta 0:00:01\n\u001b[?25hRequirement not upgraded as not directly required: protobuf>=3.4.0 in /opt/conda/envs/DSX-Python35/lib/python3.5/site-packages (from tensorflow==1.5)\nRequirement not upgraded as not directly required: six>=1.10.0 in /opt/conda/envs/DSX-Python35/lib/python3.5/site-packages (from tensorflow==1.5)\nRequirement not upgraded as not directly required: numpy>=1.12.1 in /opt/conda/envs/DSX-Python35/lib/python3.5/site-packages (from tensorflow==1.5)\nCollecting absl-py>=0.1.6 (from tensorflow==1.5)\n  Downloading https://files.pythonhosted.org/packages/16/db/cce5331638138c178dd1d5fb69f3f55eb3787a12efd9177177ae203e847f/absl-py-0.5.0.tar.gz (90kB)\n\u001b[K    100% |\u2588\u2588\u2588\u2588\u2588\u2588\u2588\u2588\u2588\u2588\u2588\u2588\u2588\u2588\u2588\u2588\u2588\u2588\u2588\u2588\u2588\u2588\u2588\u2588\u2588\u2588\u2588\u2588\u2588\u2588\u2588\u2588| 92kB 8.6MB/s eta 0:00:01\n\u001b[?25hCollecting tensorflow-tensorboard<1.6.0,>=1.5.0 (from tensorflow==1.5)\n  Downloading https://files.pythonhosted.org/packages/cc/fa/91c06952517b4f1bc075545b062a4112e30cebe558a6b962816cb33efa27/tensorflow_tensorboard-1.5.1-py3-none-any.whl (3.0MB)\n\u001b[K    100% |\u2588\u2588\u2588\u2588\u2588\u2588\u2588\u2588\u2588\u2588\u2588\u2588\u2588\u2588\u2588\u2588\u2588\u2588\u2588\u2588\u2588\u2588\u2588\u2588\u2588\u2588\u2588\u2588\u2588\u2588\u2588\u2588| 3.0MB 346kB/s eta 0:00:01\n\u001b[?25hRequirement not upgraded as not directly required: wheel>=0.26 in /opt/conda/envs/DSX-Python35/lib/python3.5/site-packages (from tensorflow==1.5)\nRequirement not upgraded as not directly required: setuptools in /opt/conda/envs/DSX-Python35/lib/python3.5/site-packages (from protobuf>=3.4.0->tensorflow==1.5)\nRequirement not upgraded as not directly required: markdown>=2.6.8 in /opt/conda/envs/DSX-Python35/lib/python3.5/site-packages (from tensorflow-tensorboard<1.6.0,>=1.5.0->tensorflow==1.5)\nCollecting html5lib==0.9999999 (from tensorflow-tensorboard<1.6.0,>=1.5.0->tensorflow==1.5)\n  Downloading https://files.pythonhosted.org/packages/ae/ae/bcb60402c60932b32dfaf19bb53870b29eda2cd17551ba5639219fb5ebf9/html5lib-0.9999999.tar.gz (889kB)\n\u001b[K    100% |\u2588\u2588\u2588\u2588\u2588\u2588\u2588\u2588\u2588\u2588\u2588\u2588\u2588\u2588\u2588\u2588\u2588\u2588\u2588\u2588\u2588\u2588\u2588\u2588\u2588\u2588\u2588\u2588\u2588\u2588\u2588\u2588| 890kB 1.2MB/s eta 0:00:01\n\u001b[?25hRequirement not upgraded as not directly required: werkzeug>=0.11.10 in /opt/conda/envs/DSX-Python35/lib/python3.5/site-packages (from tensorflow-tensorboard<1.6.0,>=1.5.0->tensorflow==1.5)\nCollecting bleach==1.5.0 (from tensorflow-tensorboard<1.6.0,>=1.5.0->tensorflow==1.5)\n  Downloading https://files.pythonhosted.org/packages/33/70/86c5fec937ea4964184d4d6c4f0b9551564f821e1c3575907639036d9b90/bleach-1.5.0-py2.py3-none-any.whl\nBuilding wheels for collected packages: absl-py, html5lib\n  Running setup.py bdist_wheel for absl-py ... \u001b[?25ldone\n\u001b[?25h  Stored in directory: /home/dsxuser/.cache/pip/wheels/3c/33/ae/db8cd618e62f87594c13a5483f96e618044f9b01596efd013f\n  Running setup.py bdist_wheel for html5lib ... \u001b[?25ldone\n\u001b[?25h  Stored in directory: /home/dsxuser/.cache/pip/wheels/50/ae/f9/d2b189788efcf61d1ee0e36045476735c838898eef1cad6e29\nSuccessfully built absl-py html5lib\nInstalling collected packages: absl-py, html5lib, bleach, tensorflow-tensorboard, tensorflow\n  Found existing installation: html5lib 0.999999999\n    Uninstalling html5lib-0.999999999:\n      Successfully uninstalled html5lib-0.999999999\n  Found existing installation: bleach 2.0.0\n    Uninstalling bleach-2.0.0:\n      Successfully uninstalled bleach-2.0.0\n  Found existing installation: tensorflow 1.3.0\n    Uninstalling tensorflow-1.3.0:\n      Successfully uninstalled tensorflow-1.3.0\nSuccessfully installed absl-py-0.5.0 bleach-1.5.0 html5lib-0.9999999 tensorflow-1.5.0 tensorflow-tensorboard-1.5.1\n"
                }
            ], 
            "source": "!pip install --upgrade tensorflow==1.5"
        }, 
        {
            "execution_count": 2, 
            "cell_type": "code", 
            "metadata": {}, 
            "outputs": [
                {
                    "output_type": "stream", 
                    "name": "stdout", 
                    "text": "Collecting watson-machine-learning-client\n  Downloading https://files.pythonhosted.org/packages/48/00/19361177289dd7290c63d9f3807dd00fc2b0b2bb3e4f3bb17daa2b58e1f2/watson_machine_learning_client-1.0.331-py3-none-any.whl (932kB)\n\u001b[K    100% |\u2588\u2588\u2588\u2588\u2588\u2588\u2588\u2588\u2588\u2588\u2588\u2588\u2588\u2588\u2588\u2588\u2588\u2588\u2588\u2588\u2588\u2588\u2588\u2588\u2588\u2588\u2588\u2588\u2588\u2588\u2588\u2588| 942kB 1.1MB/s eta 0:00:01\n\u001b[?25hRequirement not upgraded as not directly required: requests in /opt/conda/envs/DSX-Python35/lib/python3.5/site-packages (from watson-machine-learning-client)\nRequirement not upgraded as not directly required: certifi in /opt/conda/envs/DSX-Python35/lib/python3.5/site-packages (from watson-machine-learning-client)\nRequirement not upgraded as not directly required: lomond in /opt/conda/envs/DSX-Python35/lib/python3.5/site-packages (from watson-machine-learning-client)\nRequirement not upgraded as not directly required: pandas in /opt/conda/envs/DSX-Python35/lib/python3.5/site-packages (from watson-machine-learning-client)\nRequirement not upgraded as not directly required: tqdm in /opt/conda/envs/DSX-Python35/lib/python3.5/site-packages (from watson-machine-learning-client)\nRequirement not upgraded as not directly required: urllib3 in /opt/conda/envs/DSX-Python35/lib/python3.5/site-packages (from watson-machine-learning-client)\nRequirement not upgraded as not directly required: tabulate in /opt/conda/envs/DSX-Python35/lib/python3.5/site-packages (from watson-machine-learning-client)\nRequirement not upgraded as not directly required: ibm-cos-sdk in /opt/conda/envs/DSX-Python35/lib/python3.5/site-packages (from watson-machine-learning-client)\nRequirement not upgraded as not directly required: chardet<3.1.0,>=3.0.2 in /opt/conda/envs/DSX-Python35/lib/python3.5/site-packages (from requests->watson-machine-learning-client)\nRequirement not upgraded as not directly required: idna<2.7,>=2.5 in /opt/conda/envs/DSX-Python35/lib/python3.5/site-packages (from requests->watson-machine-learning-client)\nRequirement not upgraded as not directly required: six>=1.10.0 in /opt/conda/envs/DSX-Python35/lib/python3.5/site-packages (from lomond->watson-machine-learning-client)\nRequirement not upgraded as not directly required: python-dateutil>=2 in /opt/conda/envs/DSX-Python35/lib/python3.5/site-packages (from pandas->watson-machine-learning-client)\nRequirement not upgraded as not directly required: pytz>=2011k in /opt/conda/envs/DSX-Python35/lib/python3.5/site-packages (from pandas->watson-machine-learning-client)\nRequirement not upgraded as not directly required: numpy>=1.9.0 in /opt/conda/envs/DSX-Python35/lib/python3.5/site-packages (from pandas->watson-machine-learning-client)\nRequirement not upgraded as not directly required: ibm-cos-sdk-core==2.*,>=2.0.0 in /opt/conda/envs/DSX-Python35/lib/python3.5/site-packages (from ibm-cos-sdk->watson-machine-learning-client)\nRequirement not upgraded as not directly required: ibm-cos-sdk-s3transfer==2.*,>=2.0.0 in /opt/conda/envs/DSX-Python35/lib/python3.5/site-packages (from ibm-cos-sdk->watson-machine-learning-client)\nRequirement not upgraded as not directly required: docutils>=0.10 in /opt/conda/envs/DSX-Python35/lib/python3.5/site-packages (from ibm-cos-sdk-core==2.*,>=2.0.0->ibm-cos-sdk->watson-machine-learning-client)\nRequirement not upgraded as not directly required: jmespath<1.0.0,>=0.7.1 in /opt/conda/envs/DSX-Python35/lib/python3.5/site-packages (from ibm-cos-sdk-core==2.*,>=2.0.0->ibm-cos-sdk->watson-machine-learning-client)\nInstalling collected packages: watson-machine-learning-client\n  Found existing installation: watson-machine-learning-client 1.0.322\n    Uninstalling watson-machine-learning-client-1.0.322:\n      Successfully uninstalled watson-machine-learning-client-1.0.322\nSuccessfully installed watson-machine-learning-client-1.0.331\n"
                }
            ], 
            "source": "!rm -rf $PIP_BUILD/watson-machine-learning-client\n!pip install --upgrade watson-machine-learning-client"
        }, 
        {
            "source": "**TIP:** Restart the kernel (Kernel -> Restart)", 
            "cell_type": "markdown", 
            "metadata": {}
        }, 
        {
            "source": "#### Watason Machine Learning client", 
            "cell_type": "markdown", 
            "metadata": {}
        }, 
        {
            "execution_count": 1, 
            "cell_type": "code", 
            "metadata": {}, 
            "outputs": [
                {
                    "output_type": "stream", 
                    "name": "stderr", 
                    "text": "2018-09-26 09:59:04,078 - watson_machine_learning_client.metanames - WARNING - 'AUTHOR_EMAIL' meta prop is deprecated. It will be ignored.\n"
                }
            ], 
            "source": "from watson_machine_learning_client import WatsonMachineLearningAPIClient"
        }, 
        {
            "source": "**TIP:** Put your Watson Machine Learning credentials here.", 
            "cell_type": "markdown", 
            "metadata": {}
        }, 
        {
            "execution_count": 2, 
            "cell_type": "code", 
            "metadata": {}, 
            "outputs": [], 
            "source": "wml_credentials = {\n  \"apikey\": \"***\",\n  \"instance_id\": \"***\",\n  \"password\": \"***\",\n  \"url\": \"https://us-south.ml.cloud.ibm.com\",\n  \"username\": \"***\"\n}\n"
        }, 
        {
            "execution_count": 2, 
            "cell_type": "code", 
            "metadata": {}, 
            "outputs": [], 
            "source": "# The code was removed by Watson Studio for sharing."
        }, 
        {
            "execution_count": 3, 
            "cell_type": "code", 
            "metadata": {}, 
            "outputs": [], 
            "source": "client = WatsonMachineLearningAPIClient(wml_credentials)"
        }, 
        {
            "execution_count": 4, 
            "cell_type": "code", 
            "metadata": {}, 
            "outputs": [
                {
                    "execution_count": 4, 
                    "metadata": {}, 
                    "data": {
                        "text/plain": "'1.0.331'"
                    }, 
                    "output_type": "execute_result"
                }
            ], 
            "source": "client.version"
        }, 
        {
            "source": "<a id=\"introduction\"></a>\n## 1. Introduction", 
            "cell_type": "markdown", 
            "metadata": {}
        }, 
        {
            "source": "This notebook trains a **Keras** (TensorFlow) model to predict customer satisfaction based on provided feedback. Notebook also shows usage of **python function** for deep learning model data preprocessing required before model scoring.", 
            "cell_type": "markdown", 
            "metadata": {}
        }, 
        {
            "source": "<a id=\"load\"></a>\n## 2. Load and explore data", 
            "cell_type": "markdown", 
            "metadata": {}
        }, 
        {
            "execution_count": 5, 
            "cell_type": "code", 
            "metadata": {}, 
            "outputs": [
                {
                    "output_type": "stream", 
                    "name": "stdout", 
                    "text": "Collecting wget\n  Downloading https://files.pythonhosted.org/packages/47/6a/62e288da7bcda82b935ff0c6cfe542970f04e29c756b0e147251b2fb251f/wget-3.2.zip\nBuilding wheels for collected packages: wget\n  Running setup.py bdist_wheel for wget ... \u001b[?25ldone\n\u001b[?25h  Stored in directory: /home/dsxuser/.cache/pip/wheels/40/15/30/7d8f7cea2902b4db79e3fea550d7d7b85ecb27ef992b618f3f\nSuccessfully built wget\nInstalling collected packages: wget\nSuccessfully installed wget-3.2\n"
                }
            ], 
            "source": "!pip install wget"
        }, 
        {
            "execution_count": 6, 
            "cell_type": "code", 
            "metadata": {}, 
            "outputs": [
                {
                    "output_type": "stream", 
                    "name": "stdout", 
                    "text": "car_rental_training_data.csv\n"
                }
            ], 
            "source": "import wget\n\nlink_to_data = 'https://raw.githubusercontent.com/pmservice/wml-sample-models/master/spark/cars-4-you/data/car_rental_training_data.csv'\nfilename = wget.download(link_to_data)\n\nprint(filename)"
        }, 
        {
            "source": "In this section the data is loaded as pandas dataframe.", 
            "cell_type": "markdown", 
            "metadata": {}
        }, 
        {
            "execution_count": 11, 
            "cell_type": "code", 
            "metadata": {}, 
            "outputs": [
                {
                    "execution_count": 11, 
                    "metadata": {}, 
                    "data": {
                        "text/html": "<div>\n<style scoped>\n    .dataframe tbody tr th:only-of-type {\n        vertical-align: middle;\n    }\n\n    .dataframe tbody tr th {\n        vertical-align: top;\n    }\n\n    .dataframe thead th {\n        text-align: right;\n    }\n</style>\n<table border=\"1\" class=\"dataframe\">\n  <thead>\n    <tr style=\"text-align: right;\">\n      <th></th>\n      <th>ID</th>\n      <th>Gender</th>\n      <th>Status</th>\n      <th>Children</th>\n      <th>Age</th>\n      <th>Customer_Status</th>\n      <th>Car_Owner</th>\n      <th>Customer_Service</th>\n      <th>Satisfaction</th>\n      <th>Business_Area</th>\n      <th>Action</th>\n    </tr>\n  </thead>\n  <tbody>\n    <tr>\n      <th>0</th>\n      <td>83</td>\n      <td>Female</td>\n      <td>M</td>\n      <td>2</td>\n      <td>48.85</td>\n      <td>Inactive</td>\n      <td>Yes</td>\n      <td>I thought the representative handled the initi...</td>\n      <td>0</td>\n      <td>Product: Availability/Variety/Size</td>\n      <td>Free Upgrade</td>\n    </tr>\n    <tr>\n      <th>1</th>\n      <td>1307</td>\n      <td>Female</td>\n      <td>M</td>\n      <td>0</td>\n      <td>55.00</td>\n      <td>Inactive</td>\n      <td>No</td>\n      <td>I have had a few recent rentals that have take...</td>\n      <td>0</td>\n      <td>Product: Availability/Variety/Size</td>\n      <td>Voucher</td>\n    </tr>\n    <tr>\n      <th>2</th>\n      <td>1737</td>\n      <td>Male</td>\n      <td>M</td>\n      <td>0</td>\n      <td>42.35</td>\n      <td>Inactive</td>\n      <td>Yes</td>\n      <td>car cost more because I didn't pay when I rese...</td>\n      <td>0</td>\n      <td>Product: Availability/Variety/Size</td>\n      <td>Free Upgrade</td>\n    </tr>\n    <tr>\n      <th>3</th>\n      <td>3721</td>\n      <td>Male</td>\n      <td>M</td>\n      <td>2</td>\n      <td>61.71</td>\n      <td>Inactive</td>\n      <td>Yes</td>\n      <td>I didn't get the car I was told would be avail...</td>\n      <td>0</td>\n      <td>Product: Availability/Variety/Size</td>\n      <td>Free Upgrade</td>\n    </tr>\n    <tr>\n      <th>4</th>\n      <td>11</td>\n      <td>Male</td>\n      <td>S</td>\n      <td>2</td>\n      <td>56.47</td>\n      <td>Active</td>\n      <td>No</td>\n      <td>If there was not a desired vehicle available t...</td>\n      <td>1</td>\n      <td>Product: Availability/Variety/Size</td>\n      <td>NaN</td>\n    </tr>\n  </tbody>\n</table>\n</div>", 
                        "text/plain": "     ID  Gender Status  Children    Age Customer_Status Car_Owner  \\\n0    83  Female      M         2  48.85        Inactive       Yes   \n1  1307  Female      M         0  55.00        Inactive        No   \n2  1737    Male      M         0  42.35        Inactive       Yes   \n3  3721    Male      M         2  61.71        Inactive       Yes   \n4    11    Male      S         2  56.47          Active        No   \n\n                                    Customer_Service  Satisfaction  \\\n0  I thought the representative handled the initi...             0   \n1  I have had a few recent rentals that have take...             0   \n2  car cost more because I didn't pay when I rese...             0   \n3  I didn't get the car I was told would be avail...             0   \n4  If there was not a desired vehicle available t...             1   \n\n                        Business_Area        Action  \n0  Product: Availability/Variety/Size  Free Upgrade  \n1  Product: Availability/Variety/Size       Voucher  \n2  Product: Availability/Variety/Size  Free Upgrade  \n3  Product: Availability/Variety/Size  Free Upgrade  \n4  Product: Availability/Variety/Size           NaN  "
                    }, 
                    "output_type": "execute_result"
                }
            ], 
            "source": "import pandas as pd\n\ndata = pd.read_csv(filename, sep=';') \ndata.head()"
        }, 
        {
            "source": "**Note:** 0 - not satisfied, 1 - satisfied", 
            "cell_type": "markdown", 
            "metadata": {}
        }, 
        {
            "source": "Extract needed columns and count number of records.", 
            "cell_type": "markdown", 
            "metadata": {}
        }, 
        {
            "execution_count": 12, 
            "cell_type": "code", 
            "metadata": {}, 
            "outputs": [], 
            "source": "complain_data = data[['Customer_Service', 'Satisfaction']]"
        }, 
        {
            "execution_count": 13, 
            "cell_type": "code", 
            "metadata": {}, 
            "outputs": [
                {
                    "output_type": "stream", 
                    "name": "stdout", 
                    "text": "Customer_Service    486\nSatisfaction        486\ndtype: int64\n"
                }
            ], 
            "source": "print(complain_data.count())"
        }, 
        {
            "source": "<a id=\"model\"></a>\n## 3. Create Keras model using TensorFlow backend\n", 
            "cell_type": "markdown", 
            "metadata": {}
        }, 
        {
            "execution_count": 14, 
            "cell_type": "code", 
            "metadata": {}, 
            "outputs": [], 
            "source": "from keras.preprocessing.text import Tokenizer\nfrom keras.preprocessing.sequence import pad_sequences\nfrom keras.models import Sequential\nfrom keras.layers import Dense, Embedding, LSTM, SpatialDropout1D\nfrom sklearn.model_selection import train_test_split\nimport os\nimport numpy\nfrom keras.models import Sequential\nfrom keras.layers.convolutional import Conv1D, MaxPooling1D\nfrom keras.layers.embeddings import Embedding\nfrom keras.preprocessing import sequence"
        }, 
        {
            "source": "### 3.1 Prepare data", 
            "cell_type": "markdown", 
            "metadata": {}
        }, 
        {
            "execution_count": 15, 
            "cell_type": "code", 
            "metadata": {}, 
            "outputs": [
                {
                    "output_type": "stream", 
                    "name": "stdout", 
                    "text": "(486, 50)\n"
                }
            ], 
            "source": "max_fatures = 500\n\nfor idx,row in complain_data.iterrows():\n    row[0] = row[0].replace('rt',' ')\n\ntokenizer = Tokenizer(num_words=max_fatures, split=' ')\ntokenizer.fit_on_texts(complain_data['Customer_Service'].values)\nX = tokenizer.texts_to_sequences(complain_data['Customer_Service'].values)\n\nmaxlen = 50\n\nX = pad_sequences(X, maxlen=maxlen)\nprint(X.shape)"
        }, 
        {
            "source": "Split into train and test datasets.", 
            "cell_type": "markdown", 
            "metadata": {}
        }, 
        {
            "execution_count": 16, 
            "cell_type": "code", 
            "metadata": {}, 
            "outputs": [
                {
                    "output_type": "stream", 
                    "name": "stdout", 
                    "text": "(325, 50) (325,)\n(161, 50) (161,)\n"
                }
            ], 
            "source": "Y = complain_data['Satisfaction'].values\nX_train, X_test, Y_train, Y_test = train_test_split(X,Y, test_size = 0.33, random_state = 42)\n\nprint(X_train.shape,Y_train.shape)\nprint(X_test.shape,Y_test.shape)"
        }, 
        {
            "source": "### 3.2 Design and train model", 
            "cell_type": "markdown", 
            "metadata": {}
        }, 
        {
            "source": "Create the network definition based on Gated Recurrent Unit (Cho et al. 2014).", 
            "cell_type": "markdown", 
            "metadata": {}
        }, 
        {
            "execution_count": 17, 
            "cell_type": "code", 
            "metadata": {}, 
            "outputs": [
                {
                    "output_type": "stream", 
                    "name": "stdout", 
                    "text": "_________________________________________________________________\nLayer (type)                 Output Shape              Param #   \n=================================================================\nembedding_1 (Embedding)      (None, 50, 32)            16000     \n_________________________________________________________________\nconv1d_1 (Conv1D)            (None, 50, 32)            3104      \n_________________________________________________________________\nmax_pooling1d_1 (MaxPooling1 (None, 25, 32)            0         \n_________________________________________________________________\nlstm_1 (LSTM)                (None, 100)               53200     \n_________________________________________________________________\ndense_1 (Dense)              (None, 1)                 101       \n=================================================================\nTotal params: 72,405\nTrainable params: 72,405\nNon-trainable params: 0\n_________________________________________________________________\nNone\n"
                }
            ], 
            "source": "embedding_vector_length = 32\n\nmodel = Sequential()\nmodel.add(Embedding(max_fatures, embedding_vector_length, input_length=maxlen))\nmodel.add(Conv1D(filters=32, kernel_size=3, padding='same', activation='relu'))\nmodel.add(MaxPooling1D(pool_size=2))\nmodel.add(LSTM(100))\nmodel.add(Dense(1, activation='sigmoid'))\nmodel.compile(loss='binary_crossentropy', optimizer='adam', metrics=['accuracy'])\nprint(model.summary())"
        }, 
        {
            "source": "Train the model.", 
            "cell_type": "markdown", 
            "metadata": {}
        }, 
        {
            "execution_count": 18, 
            "cell_type": "code", 
            "metadata": {}, 
            "outputs": [
                {
                    "output_type": "stream", 
                    "name": "stdout", 
                    "text": "Train on 325 samples, validate on 161 samples\nEpoch 1/20\n325/325 [==============================] - 1s 4ms/step - loss: 0.6899 - acc: 0.5477 - val_loss: 0.6880 - val_acc: 0.5342\nEpoch 2/20\n325/325 [==============================] - 1s 2ms/step - loss: 0.6792 - acc: 0.5785 - val_loss: 0.6817 - val_acc: 0.5342\nEpoch 3/20\n325/325 [==============================] - 1s 2ms/step - loss: 0.6615 - acc: 0.5785 - val_loss: 0.6909 - val_acc: 0.5342\nEpoch 4/20\n325/325 [==============================] - 1s 2ms/step - loss: 0.6541 - acc: 0.5785 - val_loss: 0.6760 - val_acc: 0.5342\nEpoch 5/20\n325/325 [==============================] - 1s 2ms/step - loss: 0.6270 - acc: 0.6123 - val_loss: 0.6378 - val_acc: 0.7205\nEpoch 6/20\n325/325 [==============================] - 1s 2ms/step - loss: 0.6035 - acc: 0.7877 - val_loss: 0.6149 - val_acc: 0.7516\nEpoch 7/20\n325/325 [==============================] - 1s 2ms/step - loss: 0.5718 - acc: 0.8246 - val_loss: 0.5667 - val_acc: 0.7516\nEpoch 8/20\n325/325 [==============================] - 1s 2ms/step - loss: 0.5047 - acc: 0.7969 - val_loss: 0.5113 - val_acc: 0.7391\nEpoch 9/20\n325/325 [==============================] - 1s 2ms/step - loss: 0.4354 - acc: 0.8462 - val_loss: 0.4649 - val_acc: 0.8199\nEpoch 10/20\n325/325 [==============================] - 1s 3ms/step - loss: 0.3639 - acc: 0.9015 - val_loss: 0.3704 - val_acc: 0.8323\nEpoch 11/20\n325/325 [==============================] - 1s 3ms/step - loss: 0.2491 - acc: 0.9108 - val_loss: 0.3340 - val_acc: 0.8447\nEpoch 12/20\n325/325 [==============================] - 1s 3ms/step - loss: 0.1669 - acc: 0.9354 - val_loss: 0.2672 - val_acc: 0.8944\nEpoch 13/20\n325/325 [==============================] - 1s 3ms/step - loss: 0.1397 - acc: 0.9631 - val_loss: 0.2803 - val_acc: 0.9255\nEpoch 14/20\n325/325 [==============================] - 1s 3ms/step - loss: 0.0850 - acc: 0.9754 - val_loss: 0.2522 - val_acc: 0.9193\nEpoch 15/20\n325/325 [==============================] - 1s 3ms/step - loss: 0.0838 - acc: 0.9692 - val_loss: 0.2466 - val_acc: 0.9317\nEpoch 16/20\n325/325 [==============================] - 1s 3ms/step - loss: 0.0694 - acc: 0.9754 - val_loss: 0.2160 - val_acc: 0.9130\nEpoch 17/20\n325/325 [==============================] - 1s 3ms/step - loss: 0.0789 - acc: 0.9815 - val_loss: 0.2138 - val_acc: 0.9130\nEpoch 18/20\n325/325 [==============================] - 1s 3ms/step - loss: 0.0612 - acc: 0.9846 - val_loss: 0.2073 - val_acc: 0.9379\nEpoch 19/20\n325/325 [==============================] - 1s 3ms/step - loss: 0.0428 - acc: 0.9908 - val_loss: 0.2110 - val_acc: 0.9441\nEpoch 20/20\n325/325 [==============================] - 1s 3ms/step - loss: 0.0381 - acc: 0.9846 - val_loss: 0.2094 - val_acc: 0.9565\n"
                }
            ], 
            "source": "history = model.fit(X_train, Y_train, validation_data=(X_test, Y_test), epochs=20, batch_size=64)"
        }, 
        {
            "execution_count": 19, 
            "cell_type": "code", 
            "metadata": {}, 
            "outputs": [
                {
                    "output_type": "stream", 
                    "name": "stdout", 
                    "text": "Best accuracy on test: 0.957\n"
                }
            ], 
            "source": "print(\"Best accuracy on test: %3.3f\" % numpy.array(history.history['val_acc']).max())"
        }, 
        {
            "source": "**Note:** For purpose of this demo model tuning has been skipped.", 
            "cell_type": "markdown", 
            "metadata": {}
        }, 
        {
            "source": "Store and archive the model on notebook filesystem.", 
            "cell_type": "markdown", 
            "metadata": {}
        }, 
        {
            "execution_count": 20, 
            "cell_type": "code", 
            "metadata": {}, 
            "outputs": [
                {
                    "output_type": "stream", 
                    "name": "stdout", 
                    "text": "Evaluation Accuracy: 95.65%\n"
                }
            ], 
            "source": "# evaluate the model\nscores = model.evaluate(X_test, Y_test, verbose=0)\nprint(\"Evaluation Accuracy: %.2f%%\" % (scores[1]*100))"
        }, 
        {
            "execution_count": 21, 
            "cell_type": "code", 
            "metadata": {}, 
            "outputs": [], 
            "source": "filename = 'complain_model.h5'\nmodel.save(filename)\n\n#compress keras model\ntar_filename = filename + \".tgz\"\ncmdstring = \"tar -zcvf \" + tar_filename + \" \" + filename\nos.system(cmdstring);"
        }, 
        {
            "execution_count": 22, 
            "cell_type": "code", 
            "metadata": {}, 
            "outputs": [
                {
                    "output_type": "stream", 
                    "name": "stdout", 
                    "text": "total 1768\r\n-rw-r----- 1 dsxuser dsxuser 815014 Sep 26 09:58 complain_model.h5.tgz\r\ndrwxr-x--- 2 dsxuser dsxuser   4096 Sep 26 09:58 .\r\n-rw-r----- 1 dsxuser dsxuser 903944 Sep 26 09:58 complain_model.h5\r\n-rw-r----- 1 dsxuser dsxuser  79518 Sep 26 09:53 car_rental_training_data.csv\r\ndrwx------ 1 dsxuser dsxuser   4096 Sep 26 09:47 ..\r\n"
                }
            ], 
            "source": "!ls -lat"
        }, 
        {
            "source": "<a id=\"persistence\"></a>\n## 4. Store the model in the repository", 
            "cell_type": "markdown", 
            "metadata": {}
        }, 
        {
            "execution_count": 23, 
            "cell_type": "code", 
            "metadata": {}, 
            "outputs": [], 
            "source": "model_props = {\n    client.repository.ModelMetaNames.NAME: \"CARS4U - Satisfaction Prediction Model\",\n    client.repository.ModelMetaNames.FRAMEWORK_NAME: \"tensorflow\",\n    client.repository.ModelMetaNames.FRAMEWORK_VERSION: \"1.5\",\n    client.repository.ModelMetaNames.RUNTIME_NAME: \"python\",\n    client.repository.ModelMetaNames.RUNTIME_VERSION: \"3.5\",\n    client.repository.ModelMetaNames.FRAMEWORK_LIBRARIES: [{'name':'keras', 'version': '2.1.3'}]\n}\n\npublished_model_details = client.repository.store_model(model=tar_filename, meta_props=model_props)       "
        }, 
        {
            "execution_count": 24, 
            "cell_type": "code", 
            "metadata": {}, 
            "outputs": [
                {
                    "output_type": "stream", 
                    "name": "stdout", 
                    "text": "c33a8a25-703f-41ac-9b07-f0db8ddc6ed6\n"
                }
            ], 
            "source": "model_uid = client.repository.get_model_uid(published_model_details)\nprint(model_uid)"
        }, 
        {
            "source": "<a id=\"deployment\"></a>\n## 5. Deploy the model", 
            "cell_type": "markdown", 
            "metadata": {}
        }, 
        {
            "source": "### 5.1 Create deployment", 
            "cell_type": "markdown", 
            "metadata": {}
        }, 
        {
            "execution_count": 25, 
            "cell_type": "code", 
            "metadata": {}, 
            "outputs": [
                {
                    "output_type": "stream", 
                    "name": "stdout", 
                    "text": "\n\n#######################################################################################\n\nSynchronous deployment creation for uid: 'c33a8a25-703f-41ac-9b07-f0db8ddc6ed6' started\n\n#######################################################################################\n\n\nINITIALIZING\nDEPLOY_IN_PROGRESS\nDEPLOY_SUCCESS\n\n\n------------------------------------------------------------------------------------------------\nSuccessfully finished deployment creation, deployment_uid='8c8043fc-97ab-4dca-a8dc-d95848ae8690'\n------------------------------------------------------------------------------------------------\n\n\n"
                }
            ], 
            "source": "deployment = client.deployments.create(model_uid, 'CARS4U - Satisfaction Prediction Model Deployment')"
        }, 
        {
            "execution_count": 26, 
            "cell_type": "code", 
            "metadata": {}, 
            "outputs": [
                {
                    "output_type": "stream", 
                    "name": "stdout", 
                    "text": "------------------------------------  -------------------------------------------------  ------  --------------  ------------------------  --------------  -------------\nGUID                                  NAME                                               TYPE    STATE           CREATED                   FRAMEWORK       ARTIFACT TYPE\n8c8043fc-97ab-4dca-a8dc-d95848ae8690  CARS4U - Satisfaction Prediction Model Deployment  online  DEPLOY_SUCCESS  2018-09-26T09:59:09.549Z  tensorflow-1.5  model\nc71edbca-727c-4e7f-9cd7-99929c5b63bf  CARS4U - Action Model Deployment                   online  DEPLOY_SUCCESS  2018-09-20T09:45:22.524Z  mllib-2.1       model\n10e2f722-b2b2-4ece-89d4-b691c5ad0d04  drug-selection deployment                          online  UPDATE_SUCCESS  2018-09-20T08:14:17.933Z  mllib-2.1       model\na65b7a1c-3563-4748-a05d-9fbddb2f1c0c  product line deployment                            online  DEPLOY_SUCCESS  2018-09-20T08:12:33.616Z  mllib-2.1       model\n------------------------------------  -------------------------------------------------  ------  --------------  ------------------------  --------------  -------------\n"
                }
            ], 
            "source": "client.deployments.list()"
        }, 
        {
            "source": "### 5.2 Score the model", 
            "cell_type": "markdown", 
            "metadata": {}
        }, 
        {
            "source": "Let's see if our deployment works.", 
            "cell_type": "markdown", 
            "metadata": {}
        }, 
        {
            "execution_count": 27, 
            "cell_type": "code", 
            "metadata": {}, 
            "outputs": [], 
            "source": "scoring_endpoint = client.deployments.get_scoring_url(deployment)"
        }, 
        {
            "execution_count": 28, 
            "cell_type": "code", 
            "metadata": {}, 
            "outputs": [
                {
                    "output_type": "stream", 
                    "name": "stdout", 
                    "text": "https://us-south.ml.cloud.ibm.com/v3/wml_instances/e30fe554-6e3e-4e0e-af06-90f93686f358/deployments/8c8043fc-97ab-4dca-a8dc-d95848ae8690/online\n"
                }
            ], 
            "source": "print(scoring_endpoint)"
        }, 
        {
            "execution_count": 29, 
            "cell_type": "code", 
            "metadata": {}, 
            "outputs": [
                {
                    "output_type": "stream", 
                    "name": "stdout", 
                    "text": "[  0   0   0   0   0   0   0   0   0   0   0   0   0   0   0   0   0   0\n   0   0   0   0   0   0   0   0   0   0   0   0   4  43  19   3 242  25\n 235   6  22 353   1 237  12  10   8 107  14  34   5  56]\n1\n"
                }
            ], 
            "source": "index = 5\n\nscoring_data = X[index].tolist()\nprint(X_test[index])\nprint(Y_test[index])"
        }, 
        {
            "execution_count": 30, 
            "cell_type": "code", 
            "metadata": {}, 
            "outputs": [], 
            "source": "scoring_payload = {'values': [scoring_data]}\nscores = client.deployments.score(scoring_endpoint, scoring_payload)"
        }, 
        {
            "source": "Let's print scoring results.", 
            "cell_type": "markdown", 
            "metadata": {}
        }, 
        {
            "execution_count": 33, 
            "cell_type": "code", 
            "metadata": {}, 
            "outputs": [
                {
                    "output_type": "stream", 
                    "name": "stdout", 
                    "text": "{'values': [[[0.00024344005214516073], [0], [0.00024344005214516073]]], 'fields': ['prediction', 'prediction_classes', 'probability']}\n"
                }
            ], 
            "source": "print(str(scores))"
        }, 
        {
            "source": "<a id=\"function\"></a>\n## 6. Python function", 
            "cell_type": "markdown", 
            "metadata": {}
        }, 
        {
            "source": "Let's define function that does data preprocessing and model scoring for us. As noticed above model expects numerical input, so the text comment needs to be preprocessed.", 
            "cell_type": "markdown", 
            "metadata": {}
        }, 
        {
            "source": "### 6.1 Definition", 
            "cell_type": "markdown", 
            "metadata": {}
        }, 
        {
            "source": "Define some generic parameters our function will use to score the model.", 
            "cell_type": "markdown", 
            "metadata": {}
        }, 
        {
            "source": "#### Parameters", 
            "cell_type": "markdown", 
            "metadata": {}
        }, 
        {
            "execution_count": 34, 
            "cell_type": "code", 
            "metadata": {}, 
            "outputs": [], 
            "source": "ai_params = {\n    'scoring_endpoint': scoring_endpoint,\n    'wml_credentials': wml_credentials,\n    'word_index': tokenizer.word_index,\n}"
        }, 
        {
            "execution_count": 42, 
            "cell_type": "code", 
            "metadata": {}, 
            "outputs": [], 
            "source": "def score_generator(params=ai_params):\n\n    def score(payload):\n        import re\n        from watson_machine_learning_client import WatsonMachineLearningAPIClient\n        client = WatsonMachineLearningAPIClient(params['wml_credentials'])\n        \n        max_fatures = 500\n        maxlen = 50\n\n        preprocessed_records = []\n        complain_data = payload['values']\n        word_index = params['word_index']\n\n        for data in complain_data:\n            comment = data[0]\n            cleanString = re.sub(r\"[!\\\"#$%&()*+,-./:;<=>?@[\\]^_`{|}~]\", \"\", comment)\n            splitted_comment = cleanString.split()[:maxlen]\n            hashed_tokens = []\n\n            for token in splitted_comment:\n                index = word_index.get(token, 0)\n                if index < 501 and index > 0:\n                    hashed_tokens.append(index)\n\n            hashed_tokens_size = len(hashed_tokens)\n            padded_tokens = [0]*(maxlen-hashed_tokens_size) + hashed_tokens\n            preprocessed_records.append(padded_tokens)\n\n        scoring_payload = {'values': preprocessed_records}\n        \n        return client.deployments.score(params['scoring_endpoint'], scoring_payload)\n        \n        \n    return score\n"
        }, 
        {
            "source": "#### Function", 
            "cell_type": "markdown", 
            "metadata": {}
        }, 
        {
            "source": "#### Test locally", 
            "cell_type": "markdown", 
            "metadata": {}
        }, 
        {
            "execution_count": 45, 
            "cell_type": "code", 
            "metadata": {}, 
            "outputs": [], 
            "source": "sample_data = {\n    'fields': ['feedback'],\n    'values': [\n        ['delayed shuttle, almost missed flight, bad customer service'],\n        ['The car was great and they were able to provide all features I wanted with limited time they had.']\n    ]\n}"
        }, 
        {
            "execution_count": 46, 
            "cell_type": "code", 
            "metadata": {}, 
            "outputs": [
                {
                    "execution_count": 46, 
                    "metadata": {}, 
                    "data": {
                        "text/plain": "{'fields': ['prediction', 'prediction_classes', 'probability'],\n 'values': [[[0.014653529971837997], [0], [0.014653529971837997]],\n  [[0.9985828399658203], [1], [0.9985828399658203]]]}"
                    }, 
                    "output_type": "execute_result"
                }
            ], 
            "source": "score = score_generator()\nscore(sample_data)"
        }, 
        {
            "source": "**Note:** 0 - not satisfied. 1 - satisfied", 
            "cell_type": "markdown", 
            "metadata": {}
        }, 
        {
            "source": "### 6.2 Function storing", 
            "cell_type": "markdown", 
            "metadata": {}
        }, 
        {
            "execution_count": 47, 
            "cell_type": "code", 
            "metadata": {}, 
            "outputs": [
                {
                    "output_type": "stream", 
                    "name": "stdout", 
                    "text": "------------------  ----  --------\nMETA_PROP NAME      TYPE  REQUIRED\nNAME                str   Y\nDESCRIPTION         str   N\nRUNTIME_UID         str   N\nINPUT_DATA_SCHEMA   dict  N\nOUTPUT_DATA_SCHEMA  dict  N\nTAGS                list  N\n------------------  ----  --------\n"
                }
            ], 
            "source": "client.repository.FunctionMetaNames.show()"
        }, 
        {
            "execution_count": 48, 
            "cell_type": "code", 
            "metadata": {}, 
            "outputs": [
                {
                    "output_type": "stream", 
                    "name": "stdout", 
                    "text": "No RUNTIME_UID passed. Creating default runtime... SUCCESS\n\nSuccessfully created default runtime with uid: b3e8f953-012a-4869-a3b7-0bb59f9b63dd\n"
                }
            ], 
            "source": "meta_data = {\n    client.repository.FunctionMetaNames.NAME: 'CARS4U - Satisfaction Prediction - AI Function',\n}\n\nfunction_details = client.repository.store_function(meta_props=meta_data, function=score_generator)"
        }, 
        {
            "execution_count": 49, 
            "cell_type": "code", 
            "metadata": {}, 
            "outputs": [
                {
                    "output_type": "stream", 
                    "name": "stdout", 
                    "text": "------------------------------------  ----------------------------------------------  ------------------------  ------\nGUID                                  NAME                                            CREATED                   TYPE\n6bf467f1-eb7d-4bfc-8162-4a5925e17eb5  CARS4U - Satisfaction Prediction - AI Function  2018-09-26T10:07:04.352Z  python\n------------------------------------  ----------------------------------------------  ------------------------  ------\n"
                }
            ], 
            "source": "client.repository.list_functions()"
        }, 
        {
            "source": "### 6.3 Function deployment", 
            "cell_type": "markdown", 
            "metadata": {}
        }, 
        {
            "execution_count": 50, 
            "cell_type": "code", 
            "metadata": {}, 
            "outputs": [
                {
                    "output_type": "stream", 
                    "name": "stdout", 
                    "text": "\n\n#######################################################################################\n\nSynchronous deployment creation for uid: '6bf467f1-eb7d-4bfc-8162-4a5925e17eb5' started\n\n#######################################################################################\n\n\nINITIALIZING\nDEPLOY_IN_PROGRESS.\nDEPLOY_SUCCESS\n\n\n------------------------------------------------------------------------------------------------\nSuccessfully finished deployment creation, deployment_uid='cbfa1a73-9448-4c8b-9a88-5b5d45d4905f'\n------------------------------------------------------------------------------------------------\n\n\n"
                }
            ], 
            "source": "function_uid = client.repository.get_function_uid(function_details)\n\nfunction_deployment_details = client.deployments.create(artifact_uid=function_uid, name='CARS4U - Satisfaction Prediction - AI Function Deployment')"
        }, 
        {
            "source": "### Score function", 
            "cell_type": "markdown", 
            "metadata": {}
        }, 
        {
            "execution_count": 51, 
            "cell_type": "code", 
            "metadata": {}, 
            "outputs": [
                {
                    "output_type": "stream", 
                    "name": "stdout", 
                    "text": "https://us-south.ml.cloud.ibm.com/v3/wml_instances/e30fe554-6e3e-4e0e-af06-90f93686f358/deployments/cbfa1a73-9448-4c8b-9a88-5b5d45d4905f/online\n"
                }
            ], 
            "source": "ai_function_scoring_endpoint = client.deployments.get_scoring_url(function_deployment_details)\n\nprint(ai_function_scoring_endpoint)"
        }, 
        {
            "execution_count": 52, 
            "cell_type": "code", 
            "metadata": {}, 
            "outputs": [], 
            "source": "response = client.deployments.score(ai_function_scoring_endpoint, sample_data)"
        }, 
        {
            "execution_count": 53, 
            "cell_type": "code", 
            "metadata": {}, 
            "outputs": [
                {
                    "output_type": "stream", 
                    "name": "stdout", 
                    "text": "{'values': [[[0.014653529971837997], [0], [0.014653529971837997]], [[0.9985828399658203], [1], [0.9985828399658203]]], 'fields': ['prediction', 'prediction_classes', 'probability']}\n"
                }
            ], 
            "source": "print(response)"
        }, 
        {
            "source": "---\n", 
            "cell_type": "markdown", 
            "metadata": {}
        }
    ], 
    "metadata": {
        "kernelspec": {
            "display_name": "Python 3.5", 
            "name": "python3", 
            "language": "python"
        }, 
        "language_info": {
            "mimetype": "text/x-python", 
            "nbconvert_exporter": "python", 
            "version": "3.5.5", 
            "name": "python", 
            "file_extension": ".py", 
            "pygments_lexer": "ipython3", 
            "codemirror_mode": {
                "version": 3, 
                "name": "ipython"
            }
        }
    }, 
    "nbformat": 4
}