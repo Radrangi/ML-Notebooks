{
    "cells": [
        {
            "cell_type": "markdown", 
            "metadata": {}, 
            "source": "<table style=\"border: none\" align=\"left\">\n   <tr style=\"border: none\">\n      <th style=\"border: none\"><font face=\"verdana\" size=\"5\" color=\"black\"><b>Breast cancer detection with XGBoost and IBM Watson Machine Learning</b></th>\n      <th style=\"border: none\"><img src=\"https://github.com/pmservice/customer-satisfaction-prediction/blob/master/app/static/images/ml_icon_gray.png?raw=true\" alt=\"Watson Machine Learning icon\" height=\"40\" width=\"40\"></th>\n   </tr>\n   <tr style=\"border: none\">\n       <th style=\"border: none\"><img src=\"https://github.com/pmservice/wml-sample-notebooks/blob/master/cancer_banner-06.png?raw=true\" alt=\"Icon\" width=\"700\"> </th>\n   </tr>\n</table>"
        }, 
        {
            "cell_type": "markdown", 
            "metadata": {}, 
            "source": "This notebook contains steps and code to get data from the IBM Data Science Experience Community, create a predictive model, and start scoring new data. This notebook introduces commands for getting data and for basic data cleaning and exploration, model training, model persistance to Watson Machine Learning repository, model deployment, and scoring.\n\nSome familiarity with Python is helpful. This notebook uses Python 3.5, XGBoost and scikit-learn 0.17.\n\nYou will use a publicly available data set, Breast Cancer Wisconsin (Diagnostic) Data Set to train XGBoost Model, which is short for \u201cExtreme Gradient Boosting\u201d, to classify breast cancer tumors (as benign or malignant) from 569 diagnostic images based on measurements such as radius, texture, perimeter and area.\n\n## Learning goals\n\nThe learning goals of this notebook are:\n\n-  Load a CSV file into Pandas DataFrame.\n-  Explore data.\n-  Prepare data for training and evaluation.\n-  Create an XGBoost machine learning model.\n-  Train and evaluate a model.\n-  Use cross-validation to optimize model's hyperparameters.\n-  Persist a model in Watson Machine Learning repository.\n-  Deploy a model for online scoring using Wastson Machine Learning API.\n-  Score sample scoring data using the Watson Machine Learning API.\n-  Explore and visualize prediction result using the plotly package.\n\n\n## Contents\n\nThis notebook contains the following parts:\n\n1.\t[Setup](#setup)\n2.\t[Load and explore data](#load)\n3.\t[Create XGBoost model](#model)\n4.\t[Persist model](#persistence)\n5.\t[Deploy and score in a Cloud](#scoring)\n6.\t[Summary and next steps](#summary)"
        }, 
        {
            "cell_type": "markdown", 
            "metadata": {}, 
            "source": "<a id=\"setup\"></a>\n## 1. Setup\n\nBefore you use the sample code in this notebook, you must perform the following setup tasks:\n\n-  Create a [Watson Machine Learning Service](https://console.ng.bluemix.net/catalog/services/ibm-watson-machine-learning/) instance (a free plan is offered). \n-  Upload **Breast Cancer Wisconsin (Diagnostic) Data Set** data as a data asset in IBM Data Science Experience.\n-  Make sure that you are using a Spark 2.0 kernel.\n\n### Getting Breast Cancer Wisconsin (Diagnostic) Data Set  \n\nThe Breast Cancer Wisconsin (Diagnostic) Data Set is a freely available data set on the Data Science Experience home page.\n\n1.  Go to the [Breast Cancer Wisconsin (Diagnostic) Data Set](https://apsportal.ibm.com/exchange-api/v1/entries/c173693bf48aeb22e41bbe2b41d79c1f/data?accessKey=941eec501eadcdceb5abd25cf7c029d5) data card on the Data Science Experience **Community** page and open the card by double-clicking it.\n2.  Click the link icon.\n4.  Select the link, copy it by pressing Ctrl+C, and then, click **Close**.\n5.  In the following cell, replace the **link_to_data** variable value with the link."
        }, 
        {
            "cell_type": "markdown", 
            "metadata": {}, 
            "source": "<a id=\"load\"></a>\n## 2. Load and explore data"
        }, 
        {
            "cell_type": "markdown", 
            "metadata": {}, 
            "source": "In this section you will load the data as Pandas DataFrame and perform a basic exploration.\n\nLoad the data to the Pandas DataFrame by using *wget* to upload the data to gpfs and then *read* method. "
        }, 
        {
            "cell_type": "markdown", 
            "metadata": {}, 
            "source": "**Example**: First, you need to install required packages. You can do it by running the following code. Run it only one time.<BR><BR>\n!pip install wget --user <BR>"
        }, 
        {
            "cell_type": "code", 
            "outputs": [
                {
                    "text": "BreastCancerWisconsinDataSet.csv\n", 
                    "output_type": "stream", 
                    "name": "stdout"
                }
            ], 
            "metadata": {}, 
            "source": "import wget\n\nlink_to_data = 'https://apsportal.ibm.com/exchange-api/v1/entries/c173693bf48aeb22e41bbe2b41d79c1f/data?accessKey=941eec501eadcdceb5abd25cf7c029d5'\nWisconsinDataSet = wget.download(link_to_data)\n\nprint(WisconsinDataSet)", 
            "execution_count": 1
        }, 
        {
            "cell_type": "markdown", 
            "metadata": {}, 
            "source": "The csv file **BreastCancerWisconsinDataSet.csv** is availble on gpfs now. Load the file to Pandas DataFrame using code below."
        }, 
        {
            "cell_type": "code", 
            "outputs": [
                {
                    "output_type": "execute_result", 
                    "data": {
                        "text/plain": "         id diagnosis  radius_mean  texture_mean  perimeter_mean  area_mean  \\\n0    842302         M        17.99         10.38          122.80     1001.0   \n1    842517         M        20.57         17.77          132.90     1326.0   \n2  84300903         M        19.69         21.25          130.00     1203.0   \n3  84348301         M        11.42         20.38           77.58      386.1   \n4  84358402         M        20.29         14.34          135.10     1297.0   \n\n   smoothness_mean  compactness_mean  concavity_mean  concave points_mean  \\\n0          0.11840           0.27760          0.3001              0.14710   \n1          0.08474           0.07864          0.0869              0.07017   \n2          0.10960           0.15990          0.1974              0.12790   \n3          0.14250           0.28390          0.2414              0.10520   \n4          0.10030           0.13280          0.1980              0.10430   \n\n            ...             radius_worst  texture_worst  perimeter_worst  \\\n0           ...                    25.38          17.33           184.60   \n1           ...                    24.99          23.41           158.80   \n2           ...                    23.57          25.53           152.50   \n3           ...                    14.91          26.50            98.87   \n4           ...                    22.54          16.67           152.20   \n\n   area_worst  smoothness_worst  compactness_worst  concavity_worst  \\\n0      2019.0            0.1622             0.6656           0.7119   \n1      1956.0            0.1238             0.1866           0.2416   \n2      1709.0            0.1444             0.4245           0.4504   \n3       567.7            0.2098             0.8663           0.6869   \n4      1575.0            0.1374             0.2050           0.4000   \n\n   concave points_worst  symmetry_worst  fractal_dimension_worst  \n0                0.2654          0.4601                  0.11890  \n1                0.1860          0.2750                  0.08902  \n2                0.2430          0.3613                  0.08758  \n3                0.2575          0.6638                  0.17300  \n4                0.1625          0.2364                  0.07678  \n\n[5 rows x 32 columns]", 
                        "text/html": "<div>\n<table border=\"1\" class=\"dataframe\">\n  <thead>\n    <tr style=\"text-align: right;\">\n      <th></th>\n      <th>id</th>\n      <th>diagnosis</th>\n      <th>radius_mean</th>\n      <th>texture_mean</th>\n      <th>perimeter_mean</th>\n      <th>area_mean</th>\n      <th>smoothness_mean</th>\n      <th>compactness_mean</th>\n      <th>concavity_mean</th>\n      <th>concave points_mean</th>\n      <th>...</th>\n      <th>radius_worst</th>\n      <th>texture_worst</th>\n      <th>perimeter_worst</th>\n      <th>area_worst</th>\n      <th>smoothness_worst</th>\n      <th>compactness_worst</th>\n      <th>concavity_worst</th>\n      <th>concave points_worst</th>\n      <th>symmetry_worst</th>\n      <th>fractal_dimension_worst</th>\n    </tr>\n  </thead>\n  <tbody>\n    <tr>\n      <th>0</th>\n      <td>842302</td>\n      <td>M</td>\n      <td>17.99</td>\n      <td>10.38</td>\n      <td>122.80</td>\n      <td>1001.0</td>\n      <td>0.11840</td>\n      <td>0.27760</td>\n      <td>0.3001</td>\n      <td>0.14710</td>\n      <td>...</td>\n      <td>25.38</td>\n      <td>17.33</td>\n      <td>184.60</td>\n      <td>2019.0</td>\n      <td>0.1622</td>\n      <td>0.6656</td>\n      <td>0.7119</td>\n      <td>0.2654</td>\n      <td>0.4601</td>\n      <td>0.11890</td>\n    </tr>\n    <tr>\n      <th>1</th>\n      <td>842517</td>\n      <td>M</td>\n      <td>20.57</td>\n      <td>17.77</td>\n      <td>132.90</td>\n      <td>1326.0</td>\n      <td>0.08474</td>\n      <td>0.07864</td>\n      <td>0.0869</td>\n      <td>0.07017</td>\n      <td>...</td>\n      <td>24.99</td>\n      <td>23.41</td>\n      <td>158.80</td>\n      <td>1956.0</td>\n      <td>0.1238</td>\n      <td>0.1866</td>\n      <td>0.2416</td>\n      <td>0.1860</td>\n      <td>0.2750</td>\n      <td>0.08902</td>\n    </tr>\n    <tr>\n      <th>2</th>\n      <td>84300903</td>\n      <td>M</td>\n      <td>19.69</td>\n      <td>21.25</td>\n      <td>130.00</td>\n      <td>1203.0</td>\n      <td>0.10960</td>\n      <td>0.15990</td>\n      <td>0.1974</td>\n      <td>0.12790</td>\n      <td>...</td>\n      <td>23.57</td>\n      <td>25.53</td>\n      <td>152.50</td>\n      <td>1709.0</td>\n      <td>0.1444</td>\n      <td>0.4245</td>\n      <td>0.4504</td>\n      <td>0.2430</td>\n      <td>0.3613</td>\n      <td>0.08758</td>\n    </tr>\n    <tr>\n      <th>3</th>\n      <td>84348301</td>\n      <td>M</td>\n      <td>11.42</td>\n      <td>20.38</td>\n      <td>77.58</td>\n      <td>386.1</td>\n      <td>0.14250</td>\n      <td>0.28390</td>\n      <td>0.2414</td>\n      <td>0.10520</td>\n      <td>...</td>\n      <td>14.91</td>\n      <td>26.50</td>\n      <td>98.87</td>\n      <td>567.7</td>\n      <td>0.2098</td>\n      <td>0.8663</td>\n      <td>0.6869</td>\n      <td>0.2575</td>\n      <td>0.6638</td>\n      <td>0.17300</td>\n    </tr>\n    <tr>\n      <th>4</th>\n      <td>84358402</td>\n      <td>M</td>\n      <td>20.29</td>\n      <td>14.34</td>\n      <td>135.10</td>\n      <td>1297.0</td>\n      <td>0.10030</td>\n      <td>0.13280</td>\n      <td>0.1980</td>\n      <td>0.10430</td>\n      <td>...</td>\n      <td>22.54</td>\n      <td>16.67</td>\n      <td>152.20</td>\n      <td>1575.0</td>\n      <td>0.1374</td>\n      <td>0.2050</td>\n      <td>0.4000</td>\n      <td>0.1625</td>\n      <td>0.2364</td>\n      <td>0.07678</td>\n    </tr>\n  </tbody>\n</table>\n<p>5 rows \u00d7 32 columns</p>\n</div>"
                    }, 
                    "metadata": {}, 
                    "execution_count": 2
                }
            ], 
            "metadata": {}, 
            "source": "import pandas as pd\n\nWisconsinDataSet = \"BreastCancerWisconsinDataSet.csv\"\ndf_data = pd.read_csv(WisconsinDataSet)\ndf_data.head()", 
            "execution_count": 2
        }, 
        {
            "cell_type": "markdown", 
            "metadata": {}, 
            "source": "We can see how many records and features we have in our data set."
        }, 
        {
            "cell_type": "code", 
            "outputs": [
                {
                    "output_type": "execute_result", 
                    "data": {
                        "text/plain": "(569, 32)"
                    }, 
                    "metadata": {}, 
                    "execution_count": 24
                }
            ], 
            "metadata": {}, 
            "source": "df_data.shape", 
            "execution_count": 24
        }, 
        {
            "cell_type": "markdown", 
            "metadata": {}, 
            "source": "We can generate descriptive statistics of our dataset, excluding NaN values."
        }, 
        {
            "cell_type": "code", 
            "outputs": [
                {
                    "output_type": "execute_result", 
                    "data": {
                        "text/plain": "                 id  radius_mean  texture_mean  perimeter_mean    area_mean  \\\ncount  5.690000e+02   569.000000    569.000000      569.000000   569.000000   \nmean   3.037183e+07    14.127292     19.289649       91.969033   654.889104   \nstd    1.250206e+08     3.524049      4.301036       24.298981   351.914129   \nmin    8.670000e+03     6.981000      9.710000       43.790000   143.500000   \n25%    8.692180e+05    11.700000     16.170000       75.170000   420.300000   \n50%    9.060240e+05    13.370000     18.840000       86.240000   551.100000   \n75%    8.813129e+06    15.780000     21.800000      104.100000   782.700000   \nmax    9.113205e+08    28.110000     39.280000      188.500000  2501.000000   \n\n       smoothness_mean  compactness_mean  concavity_mean  concave points_mean  \\\ncount       569.000000        569.000000      569.000000           569.000000   \nmean          0.096360          0.104341        0.088799             0.048919   \nstd           0.014064          0.052813        0.079720             0.038803   \nmin           0.052630          0.019380        0.000000             0.000000   \n25%           0.086370          0.064920        0.029560             0.020310   \n50%           0.095870          0.092630        0.061540             0.033500   \n75%           0.105300          0.130400        0.130700             0.074000   \nmax           0.163400          0.345400        0.426800             0.201200   \n\n       symmetry_mean           ...             radius_worst  texture_worst  \\\ncount     569.000000           ...               569.000000     569.000000   \nmean        0.181162           ...                16.269190      25.677223   \nstd         0.027414           ...                 4.833242       6.146258   \nmin         0.106000           ...                 7.930000      12.020000   \n25%         0.161900           ...                13.010000      21.080000   \n50%         0.179200           ...                14.970000      25.410000   \n75%         0.195700           ...                18.790000      29.720000   \nmax         0.304000           ...                36.040000      49.540000   \n\n       perimeter_worst   area_worst  smoothness_worst  compactness_worst  \\\ncount       569.000000   569.000000        569.000000         569.000000   \nmean        107.261213   880.583128          0.132369           0.254265   \nstd          33.602542   569.356993          0.022832           0.157336   \nmin          50.410000   185.200000          0.071170           0.027290   \n25%          84.110000   515.300000          0.116600           0.147200   \n50%          97.660000   686.500000          0.131300           0.211900   \n75%         125.400000  1084.000000          0.146000           0.339100   \nmax         251.200000  4254.000000          0.222600           1.058000   \n\n       concavity_worst  concave points_worst  symmetry_worst  \\\ncount       569.000000            569.000000      569.000000   \nmean          0.272188              0.114606        0.290076   \nstd           0.208624              0.065732        0.061867   \nmin           0.000000              0.000000        0.156500   \n25%           0.114500              0.064930        0.250400   \n50%           0.226700              0.099930        0.282200   \n75%           0.382900              0.161400        0.317900   \nmax           1.252000              0.291000        0.663800   \n\n       fractal_dimension_worst  \ncount               569.000000  \nmean                  0.083946  \nstd                   0.018061  \nmin                   0.055040  \n25%                   0.071460  \n50%                   0.080040  \n75%                   0.092080  \nmax                   0.207500  \n\n[8 rows x 31 columns]", 
                        "text/html": "<div>\n<table border=\"1\" class=\"dataframe\">\n  <thead>\n    <tr style=\"text-align: right;\">\n      <th></th>\n      <th>id</th>\n      <th>radius_mean</th>\n      <th>texture_mean</th>\n      <th>perimeter_mean</th>\n      <th>area_mean</th>\n      <th>smoothness_mean</th>\n      <th>compactness_mean</th>\n      <th>concavity_mean</th>\n      <th>concave points_mean</th>\n      <th>symmetry_mean</th>\n      <th>...</th>\n      <th>radius_worst</th>\n      <th>texture_worst</th>\n      <th>perimeter_worst</th>\n      <th>area_worst</th>\n      <th>smoothness_worst</th>\n      <th>compactness_worst</th>\n      <th>concavity_worst</th>\n      <th>concave points_worst</th>\n      <th>symmetry_worst</th>\n      <th>fractal_dimension_worst</th>\n    </tr>\n  </thead>\n  <tbody>\n    <tr>\n      <th>count</th>\n      <td>5.690000e+02</td>\n      <td>569.000000</td>\n      <td>569.000000</td>\n      <td>569.000000</td>\n      <td>569.000000</td>\n      <td>569.000000</td>\n      <td>569.000000</td>\n      <td>569.000000</td>\n      <td>569.000000</td>\n      <td>569.000000</td>\n      <td>...</td>\n      <td>569.000000</td>\n      <td>569.000000</td>\n      <td>569.000000</td>\n      <td>569.000000</td>\n      <td>569.000000</td>\n      <td>569.000000</td>\n      <td>569.000000</td>\n      <td>569.000000</td>\n      <td>569.000000</td>\n      <td>569.000000</td>\n    </tr>\n    <tr>\n      <th>mean</th>\n      <td>3.037183e+07</td>\n      <td>14.127292</td>\n      <td>19.289649</td>\n      <td>91.969033</td>\n      <td>654.889104</td>\n      <td>0.096360</td>\n      <td>0.104341</td>\n      <td>0.088799</td>\n      <td>0.048919</td>\n      <td>0.181162</td>\n      <td>...</td>\n      <td>16.269190</td>\n      <td>25.677223</td>\n      <td>107.261213</td>\n      <td>880.583128</td>\n      <td>0.132369</td>\n      <td>0.254265</td>\n      <td>0.272188</td>\n      <td>0.114606</td>\n      <td>0.290076</td>\n      <td>0.083946</td>\n    </tr>\n    <tr>\n      <th>std</th>\n      <td>1.250206e+08</td>\n      <td>3.524049</td>\n      <td>4.301036</td>\n      <td>24.298981</td>\n      <td>351.914129</td>\n      <td>0.014064</td>\n      <td>0.052813</td>\n      <td>0.079720</td>\n      <td>0.038803</td>\n      <td>0.027414</td>\n      <td>...</td>\n      <td>4.833242</td>\n      <td>6.146258</td>\n      <td>33.602542</td>\n      <td>569.356993</td>\n      <td>0.022832</td>\n      <td>0.157336</td>\n      <td>0.208624</td>\n      <td>0.065732</td>\n      <td>0.061867</td>\n      <td>0.018061</td>\n    </tr>\n    <tr>\n      <th>min</th>\n      <td>8.670000e+03</td>\n      <td>6.981000</td>\n      <td>9.710000</td>\n      <td>43.790000</td>\n      <td>143.500000</td>\n      <td>0.052630</td>\n      <td>0.019380</td>\n      <td>0.000000</td>\n      <td>0.000000</td>\n      <td>0.106000</td>\n      <td>...</td>\n      <td>7.930000</td>\n      <td>12.020000</td>\n      <td>50.410000</td>\n      <td>185.200000</td>\n      <td>0.071170</td>\n      <td>0.027290</td>\n      <td>0.000000</td>\n      <td>0.000000</td>\n      <td>0.156500</td>\n      <td>0.055040</td>\n    </tr>\n    <tr>\n      <th>25%</th>\n      <td>8.692180e+05</td>\n      <td>11.700000</td>\n      <td>16.170000</td>\n      <td>75.170000</td>\n      <td>420.300000</td>\n      <td>0.086370</td>\n      <td>0.064920</td>\n      <td>0.029560</td>\n      <td>0.020310</td>\n      <td>0.161900</td>\n      <td>...</td>\n      <td>13.010000</td>\n      <td>21.080000</td>\n      <td>84.110000</td>\n      <td>515.300000</td>\n      <td>0.116600</td>\n      <td>0.147200</td>\n      <td>0.114500</td>\n      <td>0.064930</td>\n      <td>0.250400</td>\n      <td>0.071460</td>\n    </tr>\n    <tr>\n      <th>50%</th>\n      <td>9.060240e+05</td>\n      <td>13.370000</td>\n      <td>18.840000</td>\n      <td>86.240000</td>\n      <td>551.100000</td>\n      <td>0.095870</td>\n      <td>0.092630</td>\n      <td>0.061540</td>\n      <td>0.033500</td>\n      <td>0.179200</td>\n      <td>...</td>\n      <td>14.970000</td>\n      <td>25.410000</td>\n      <td>97.660000</td>\n      <td>686.500000</td>\n      <td>0.131300</td>\n      <td>0.211900</td>\n      <td>0.226700</td>\n      <td>0.099930</td>\n      <td>0.282200</td>\n      <td>0.080040</td>\n    </tr>\n    <tr>\n      <th>75%</th>\n      <td>8.813129e+06</td>\n      <td>15.780000</td>\n      <td>21.800000</td>\n      <td>104.100000</td>\n      <td>782.700000</td>\n      <td>0.105300</td>\n      <td>0.130400</td>\n      <td>0.130700</td>\n      <td>0.074000</td>\n      <td>0.195700</td>\n      <td>...</td>\n      <td>18.790000</td>\n      <td>29.720000</td>\n      <td>125.400000</td>\n      <td>1084.000000</td>\n      <td>0.146000</td>\n      <td>0.339100</td>\n      <td>0.382900</td>\n      <td>0.161400</td>\n      <td>0.317900</td>\n      <td>0.092080</td>\n    </tr>\n    <tr>\n      <th>max</th>\n      <td>9.113205e+08</td>\n      <td>28.110000</td>\n      <td>39.280000</td>\n      <td>188.500000</td>\n      <td>2501.000000</td>\n      <td>0.163400</td>\n      <td>0.345400</td>\n      <td>0.426800</td>\n      <td>0.201200</td>\n      <td>0.304000</td>\n      <td>...</td>\n      <td>36.040000</td>\n      <td>49.540000</td>\n      <td>251.200000</td>\n      <td>4254.000000</td>\n      <td>0.222600</td>\n      <td>1.058000</td>\n      <td>1.252000</td>\n      <td>0.291000</td>\n      <td>0.663800</td>\n      <td>0.207500</td>\n    </tr>\n  </tbody>\n</table>\n<p>8 rows \u00d7 31 columns</p>\n</div>"
                    }, 
                    "metadata": {}, 
                    "execution_count": 25
                }
            ], 
            "metadata": {}, 
            "source": "df_data.describe()", 
            "execution_count": 25
        }, 
        {
            "cell_type": "markdown", 
            "metadata": {}, 
            "source": "<a id=\"model\"></a>\n## 3. Create XGBoost model\n\nIn recent years, ensemble learning models took the lead and became popular among machine learning practitioners.\n\nEnsemble learning model employs multiple machine learning algorithms to overcome the potential weaknesses of a single model. For example, if you are going to pick a destination for your next vacation, you probably ask your family and friends, read reviews and blog posts. Based on all the information you have gathered, you make your final decision.\n\nThis phenomenon is referred as the Wisdom of Crowds (WOC) in social sciences and it states that averaging the answers (prediction or probability) of a group will often result better than the answer of one of its members. The idea is that the collective knowledge of diverse and independent individuals will exceed the knowledge of any one of those individuals, helping to eliminate the noise.\n\nXGBoost is an open source library for ensemble based algorithms.\n\nXGBoost classifier makes its predictions based on the majority vote from collection of models which are a set of classification trees. It uses the combination of weak learners to create single strong learner. It\u2019s a sequential training process, new learners focus on the misclassified examples of previous learners.\n\nIn this section you will learn how to train and test a XGBoost model."
        }, 
        {
            "cell_type": "markdown", 
            "metadata": {}, 
            "source": "### 3.1: Prepare data"
        }, 
        {
            "cell_type": "markdown", 
            "metadata": {}, 
            "source": "After looking at descriptive statistics, we can prepare our dataset for model building. We will use \"diagnosis\" columns as our target variable."
        }, 
        {
            "cell_type": "code", 
            "outputs": [], 
            "metadata": {
                "collapsed": true
            }, 
            "source": "y = df_data['diagnosis'].map(lambda d: 1 if d == 'M' else 0)\nX = df_data.drop(['diagnosis', 'id'], axis=1)", 
            "execution_count": 3
        }, 
        {
            "cell_type": "markdown", 
            "metadata": {}, 
            "source": "We split the dataset into: train and test datasets."
        }, 
        {
            "cell_type": "code", 
            "outputs": [], 
            "metadata": {
                "collapsed": true
            }, 
            "source": "from sklearn.cross_validation import train_test_split \n\nX_train, X_test, y_train, y_test = train_test_split(X, y, test_size=0.35, random_state=143)", 
            "execution_count": 4
        }, 
        {
            "cell_type": "code", 
            "outputs": [
                {
                    "text": "Number of training records: 11070\nNumber of testing records : 6000\n", 
                    "output_type": "stream", 
                    "name": "stdout"
                }
            ], 
            "metadata": {}, 
            "source": "print(\"Number of training records: \" + str(X_train.size))\nprint(\"Number of testing records : \" + str(X_test.size))", 
            "execution_count": 5
        }, 
        {
            "cell_type": "markdown", 
            "metadata": {}, 
            "source": "As you can see our data has been successfully split into two datasets:\n- The train data set, which is the largest group, is used for training.\n- The test data set will be used for model evaluation and is used to test the assumptions of the model."
        }, 
        {
            "cell_type": "markdown", 
            "metadata": {}, 
            "source": "### 3.2: Create XGBoost model"
        }, 
        {
            "cell_type": "markdown", 
            "metadata": {}, 
            "source": "We start with importing necessary libraries."
        }, 
        {
            "cell_type": "code", 
            "outputs": [], 
            "metadata": {
                "collapsed": true
            }, 
            "source": "import xgboost\nfrom xgboost.sklearn import XGBClassifier\nfrom sklearn.pipeline import Pipeline\nfrom sklearn.preprocessing import StandardScaler\n\nfrom sklearn.cross_validation import cross_val_score\nfrom sklearn.metrics import accuracy_score\n\nfrom xgboost import plot_importance\nfrom matplotlib import pyplot\nimport pprint\n%matplotlib inline", 
            "execution_count": 6
        }, 
        {
            "cell_type": "markdown", 
            "metadata": {}, 
            "source": "In below cell, we create our pipeline which contains XGBoost classifier."
        }, 
        {
            "cell_type": "code", 
            "outputs": [], 
            "metadata": {
                "collapsed": true
            }, 
            "source": "pipeline = Pipeline([('scaler', StandardScaler()), ('classifier', XGBClassifier())])", 
            "execution_count": 7
        }, 
        {
            "cell_type": "markdown", 
            "metadata": {}, 
            "source": "We can see the default parameters of the stages in our pipeline"
        }, 
        {
            "cell_type": "code", 
            "outputs": [
                {
                    "output_type": "execute_result", 
                    "data": {
                        "text/plain": "Pipeline(steps=[('scaler', StandardScaler(copy=True, with_mean=True, with_std=True)), ('classifier', XGBClassifier(base_score=0.5, colsample_bylevel=1, colsample_bytree=1,\n       gamma=0, learning_rate=0.1, max_delta_step=0, max_depth=3,\n       min_child_weight=1, missing=None, n_estimators=100, nthread=-1,\n       objective='binary:logistic', reg_alpha=0, reg_lambda=1,\n       scale_pos_weight=1, seed=0, silent=True, subsample=1))])"
                    }, 
                    "metadata": {}, 
                    "execution_count": 8
                }
            ], 
            "metadata": {}, 
            "source": "pipeline", 
            "execution_count": 8
        }, 
        {
            "cell_type": "markdown", 
            "metadata": {}, 
            "source": "Once we have our pipeline with XGBoost classifier is set up, we can train it by invoking fit method."
        }, 
        {
            "cell_type": "code", 
            "outputs": [
                {
                    "output_type": "execute_result", 
                    "data": {
                        "text/plain": "Pipeline(steps=[('scaler', StandardScaler(copy=True, with_mean=True, with_std=True)), ('classifier', XGBClassifier(base_score=0.5, colsample_bylevel=1, colsample_bytree=1,\n       gamma=0, learning_rate=0.1, max_delta_step=0, max_depth=3,\n       min_child_weight=1, missing=None, n_estimators=100, nthread=-1,\n       objective='binary:logistic', reg_alpha=0, reg_lambda=1,\n       scale_pos_weight=1, seed=0, silent=True, subsample=1))])"
                    }, 
                    "metadata": {}, 
                    "execution_count": 9
                }
            ], 
            "metadata": {
                "scrolled": true
            }, 
            "source": "pipeline.fit(X_train.values, y_train.values)", 
            "execution_count": 9
        }, 
        {
            "cell_type": "markdown", 
            "metadata": {}, 
            "source": "We plot the feature importance based on fitted trees which allows us to see the features that were useful to construct boosted trees."
        }, 
        {
            "cell_type": "code", 
            "outputs": [
                {
                    "output_type": "execute_result", 
                    "data": {
                        "text/plain": "<matplotlib.axes._subplots.AxesSubplot at 0x7f587ac18050>"
                    }, 
                    "metadata": {}, 
                    "execution_count": 10
                }, 
                {
                    "output_type": "display_data", 
                    "data": {
                        "text/plain": "<matplotlib.figure.Figure at 0x7f58a0faf4d0>", 
                        "image/png": "[encoded data removed]"
                    }, 
                    "metadata": {}
                }
            ], 
            "metadata": {}, 
            "source": "xgboost.plot_importance(pipeline.steps[1][1])", 
            "execution_count": 10
        }, 
        {
            "cell_type": "markdown", 
            "metadata": {}, 
            "source": "We can now make predictions on test data and evaluate the model"
        }, 
        {
            "cell_type": "code", 
            "outputs": [], 
            "metadata": {
                "collapsed": true
            }, 
            "source": "y_pred = pipeline.predict(X_test.values)", 
            "execution_count": 11
        }, 
        {
            "cell_type": "code", 
            "outputs": [
                {
                    "text": "Accuracy: 94.50%\n", 
                    "output_type": "stream", 
                    "name": "stdout"
                }
            ], 
            "metadata": {}, 
            "source": "accuracy = accuracy_score(y_test, y_pred)\n\nprint(\"Accuracy: %.2f%%\" % (accuracy * 100.0))", 
            "execution_count": 12
        }, 
        {
            "cell_type": "markdown", 
            "metadata": {}, 
            "source": "We can tune our model now to achieve better accuracy by using grid search and cross validation.\n\nXGBoost has an extensive catalog of hyperparameters which provides great flexibility to shape algorithm\u2019s desired behavior. Let\u2019s have a look at the most important ones,\n- learning_rate (default=0.1): Boosting learning rate (xgb\u2019s \u201ceta\u201d).\n- n_estimators (default=100): Number of boosted trees to fit.\n- max_depth (default=3): Maximum tree depth for base learners.\n- objective (default='binary:logistic'): Specify the learning task and the corresponding learning objective or a custom objective function to be used."
        }, 
        {
            "cell_type": "markdown", 
            "metadata": {}, 
            "source": "In below cell, we create our XGBoost pipeline and setup parameter space."
        }, 
        {
            "cell_type": "code", 
            "outputs": [], 
            "metadata": {
                "collapsed": true
            }, 
            "source": "pipeline_gs = Pipeline([('scaler', StandardScaler()), ('classifier', XGBClassifier())])\nparameters = {'classifier__learning_rate': [0.01, 0.03, 0.05], 'classifier__n_estimators': [10, 50, 250]}", 
            "execution_count": 89
        }, 
        {
            "cell_type": "markdown", 
            "metadata": {}, 
            "source": "We can search for the best parameters over specified parameters above with GridSearchCV. You can use estimator.get_params().keys() to see the available hyperparameters for search."
        }, 
        {
            "cell_type": "code", 
            "outputs": [], 
            "metadata": {
                "collapsed": true
            }, 
            "source": "from sklearn.grid_search import GridSearchCV\n\nclf = GridSearchCV(pipeline_gs, parameters)", 
            "execution_count": 90
        }, 
        {
            "cell_type": "code", 
            "outputs": [
                {
                    "output_type": "execute_result", 
                    "data": {
                        "text/plain": "GridSearchCV(cv=None, error_score='raise',\n       estimator=Pipeline(steps=[('scaler', StandardScaler(copy=True, with_mean=True, with_std=True)), ('classifier', XGBClassifier(base_score=0.5, colsample_bylevel=1, colsample_bytree=1,\n       gamma=0, learning_rate=0.1, max_delta_step=0, max_depth=3,\n       min_child_weight=1, missing=None, n_estimators=100, nthread=-1,\n       objective='binary:logistic', reg_alpha=0, reg_lambda=1,\n       scale_pos_weight=1, seed=0, silent=True, subsample=1))]),\n       fit_params={}, iid=True, n_jobs=1,\n       param_grid={'classifier__learning_rate': [0.01, 0.03, 0.05], 'classifier__n_estimators': [10, 50, 250]},\n       pre_dispatch='2*n_jobs', refit=True, scoring=None, verbose=0)"
                    }, 
                    "metadata": {}, 
                    "execution_count": 91
                }
            ], 
            "metadata": {}, 
            "source": "clf.fit(X_train.values, y_train.values)", 
            "execution_count": 91
        }, 
        {
            "cell_type": "markdown", 
            "metadata": {}, 
            "source": "We can see the performance result of all parameter combinations including the best parameter combination based on model performance from grid search scores"
        }, 
        {
            "cell_type": "code", 
            "outputs": [
                {
                    "output_type": "execute_result", 
                    "data": {
                        "text/plain": "[mean: 0.92141, std: 0.01671, params: {'classifier__learning_rate': 0.01, 'classifier__n_estimators': 10},\n mean: 0.93767, std: 0.01382, params: {'classifier__learning_rate': 0.01, 'classifier__n_estimators': 50},\n mean: 0.93225, std: 0.01382, params: {'classifier__learning_rate': 0.01, 'classifier__n_estimators': 250},\n mean: 0.92141, std: 0.01671, params: {'classifier__learning_rate': 0.03, 'classifier__n_estimators': 10},\n mean: 0.92954, std: 0.01014, params: {'classifier__learning_rate': 0.03, 'classifier__n_estimators': 50},\n mean: 0.94851, std: 0.01671, params: {'classifier__learning_rate': 0.03, 'classifier__n_estimators': 250},\n mean: 0.92683, std: 0.01150, params: {'classifier__learning_rate': 0.05, 'classifier__n_estimators': 10},\n mean: 0.93225, std: 0.01382, params: {'classifier__learning_rate': 0.05, 'classifier__n_estimators': 50},\n mean: 0.95122, std: 0.01991, params: {'classifier__learning_rate': 0.05, 'classifier__n_estimators': 250}]"
                    }, 
                    "metadata": {}, 
                    "execution_count": 92
                }
            ], 
            "metadata": {}, 
            "source": "clf.grid_scores_", 
            "execution_count": 92
        }, 
        {
            "cell_type": "markdown", 
            "metadata": {}, 
            "source": "Best score and parameter set"
        }, 
        {
            "cell_type": "code", 
            "outputs": [
                {
                    "text": "Best score: 0.951219512195\nBest parameter set: {'classifier__learning_rate': 0.05, 'classifier__n_estimators': 250}\n", 
                    "output_type": "stream", 
                    "name": "stdout"
                }
            ], 
            "metadata": {
                "scrolled": true
            }, 
            "source": "print(\"Best score: %s\" % (clf.best_score_))\nprint(\"Best parameter set: %s\" % (clf.best_params_))", 
            "execution_count": 96
        }, 
        {
            "cell_type": "markdown", 
            "metadata": {}, 
            "source": "We can see the accuracy of best parameter combination on test set."
        }, 
        {
            "cell_type": "code", 
            "outputs": [
                {
                    "text": "Accuracy: 96.00%\n", 
                    "output_type": "stream", 
                    "name": "stdout"
                }
            ], 
            "metadata": {}, 
            "source": "y_pred = clf.predict(X_test.values)\n\naccuracy = accuracy_score(y_test, y_pred)\nprint(\"Accuracy: %.2f%%\" % (accuracy * 100.0))", 
            "execution_count": 98
        }, 
        {
            "cell_type": "code", 
            "outputs": [
                {
                    "text": "[0]\n", 
                    "output_type": "stream", 
                    "name": "stdout"
                }
            ], 
            "metadata": {}, 
            "source": "y_pred = clf.predict([X_test.values[55]])\nprint(y_pred)", 
            "execution_count": 95
        }, 
        {
            "cell_type": "markdown", 
            "metadata": {}, 
            "source": "Let's see how we can save our XGBoost pipeline using Watson Machine Learning instance and deploy it for online scoring."
        }, 
        {
            "cell_type": "markdown", 
            "metadata": {}, 
            "source": "<a id=\"persistence\"></a>\n## 4. Persist model"
        }, 
        {
            "cell_type": "markdown", 
            "metadata": {}, 
            "source": "In this section you will learn how to store your XGBoost model in Watson Machine Learning repository by using python client libraries.\n\nFirst, you must import client libraries.\n\n**Note**: Apache\u00ae Spark 2.0 or higher is required."
        }, 
        {
            "cell_type": "code", 
            "outputs": [], 
            "metadata": {
                "collapsed": true
            }, 
            "source": "from repository.mlrepository import MetaNames\nfrom repository.mlrepository import MetaProps\nfrom repository.mlrepositoryclient import MLRepositoryClient\nfrom repository.mlrepositoryartifact import MLRepositoryArtifact", 
            "execution_count": 13
        }, 
        {
            "cell_type": "markdown", 
            "metadata": {}, 
            "source": "Authenticate to Watson Machine Learning service on Bluemix.\n\n**Action**: Put authentication information from your instance of Watson Machine Learning service here.</div>"
        }, 
        {
            "cell_type": "markdown", 
            "metadata": {}, 
            "source": "**Action**: Put authentication information from your instance of Watson Machine Learning service here.</div>"
        }, 
        {
            "cell_type": "code", 
            "outputs": [], 
            "metadata": {
                "collapsed": true
            }, 
            "source": "wml_credentials = {\n\"url\": \"https://ibm-watson-ml.mybluemix.net\"\n\"username\": \"***\"\n\"password\": \"***\"\n\"instance_id\": \"***\"\n}", 
            "execution_count": null
        }, 
        {
            "cell_type": "code", 
            "outputs": [], 
            "metadata": {
                "collapsed": true
            }, 
            "source": "service_path = wml_credentials[\"url\"]\nusername = wml_credentials[\"username\"]\npassword = wml_credentials[\"password\"]\ninstance_id = wml_credentials[\"instance_id\"]", 
            "execution_count": 15
        }, 
        {
            "cell_type": "markdown", 
            "metadata": {}, 
            "source": "**Tip**: service_path, user and password can be found on **Service Credentials** tab of service instance created in Bluemix. If you cannot see **instance_id** field in **Serice Credentials** generate new credentials by pressing **New credential (+)** button. "
        }, 
        {
            "cell_type": "code", 
            "outputs": [], 
            "metadata": {
                "collapsed": true
            }, 
            "source": "ml_repository_client = MLRepositoryClient(service_path)\nml_repository_client.authorize(username, password)", 
            "execution_count": 16
        }, 
        {
            "cell_type": "markdown", 
            "metadata": {}, 
            "source": "### 4.1: Save a XGBoost model in the ML Repository\n\nIn this subsection you will learn how to save model artifact to your Watson Machine Learning instance.\n\nCreate an artifact and save to ML Repository"
        }, 
        {
            "cell_type": "markdown", 
            "metadata": {}, 
            "source": "In this subsection you will learn how to save model artifact to your Watson Machine Learning instance."
        }, 
        {
            "cell_type": "markdown", 
            "metadata": {}, 
            "source": "Create an artifact and save to ML Repository"
        }, 
        {
            "cell_type": "code", 
            "outputs": [], 
            "metadata": {
                "collapsed": true
            }, 
            "source": "# Check if props is mandatory\nprops1 = MetaProps({MetaNames.AUTHOR_NAME:\"Umit\", MetaNames.AUTHOR_EMAIL:\"umit.cakmak@pl.ibm.com\"})\n\nmodel_artifact = MLRepositoryArtifact(clf, name='Tumor_Type_Detection_v1_pipe', meta_props=props1)\n\nsaved_model = ml_repository_client.models.save(model_artifact)", 
            "execution_count": 38
        }, 
        {
            "cell_type": "markdown", 
            "metadata": {}, 
            "source": "Get saved model metadata from Watson Machine Learning."
        }, 
        {
            "cell_type": "code", 
            "outputs": [
                {
                    "text": "{'authorEmail': 'umit.cakmak@pl.ibm.com',\n 'authorName': 'Umit',\n 'creationTime': datetime.datetime(2017, 9, 5, 14, 51, 47, 839000, tzinfo=tzutc()),\n 'lastUpdated': datetime.datetime(2017, 9, 5, 14, 51, 47, 917000, tzinfo=tzutc()),\n 'modelType': 'scikit-model-0.17',\n 'modelVersionHref': 'https://ibm-watson-ml.mybluemix.net/v2/artifacts/models/44a610af-d244-4da4-acdf-b6ecd8a54ec1/versions/3e097c48-36ba-481b-b0da-ee60d3d2f6a4',\n 'pipelineVersionHref': None,\n 'runtime': 'python-2.7',\n 'trainingDataRef': {},\n 'version': '3e097c48-36ba-481b-b0da-ee60d3d2f6a4'}\n", 
                    "output_type": "stream", 
                    "name": "stdout"
                }
            ], 
            "metadata": {}, 
            "source": "dict_meta = saved_model.meta.get()\npprint.pprint(dict_meta)", 
            "execution_count": 39
        }, 
        {
            "cell_type": "markdown", 
            "metadata": {}, 
            "source": "# 5. Deploy and score in a Cloud"
        }, 
        {
            "cell_type": "markdown", 
            "metadata": {}, 
            "source": "In this section you will learn how to create online scoring and to score a new data record by using the Watson Machine Learning REST API. \nFor more information about REST APIs, see the [Swagger Documentation](http://watson-ml-api.mybluemix.net/).\n"
        }, 
        {
            "cell_type": "markdown", 
            "metadata": {}, 
            "source": "To work with the Watson Machine Leraning REST API you must generate an access token. To do that you can use the following sample code:"
        }, 
        {
            "cell_type": "code", 
            "outputs": [], 
            "metadata": {
                "collapsed": true
            }, 
            "source": "import urllib3, requests, json\n\nheaders = urllib3.util.make_headers(basic_auth='{}:{}'.format(username, password))\nurl = '{}/v3/identity/token'.format(service_path)\nresponse = requests.get(url, headers=headers)\nmltoken = json.loads(response.text).get('token')\nheader = {'Content-Type': 'application/json', 'Authorization': 'Bearer ' + mltoken}", 
            "execution_count": 30
        }, 
        {
            "cell_type": "markdown", 
            "metadata": {}, 
            "source": "### 5.1: Create online scoring endpoint"
        }, 
        {
            "cell_type": "markdown", 
            "metadata": {}, 
            "source": "Now you can create an online scoring endpoint.\n\nGet published_models url from instance details"
        }, 
        {
            "cell_type": "code", 
            "outputs": [
                {
                    "text": "<Response [200]>\n{\"metadata\":{\"guid\":\"360c510b-012c-4793-ae3f-063410081c3e\",\"url\":\"https://ibm-watson-ml.mybluemix.net/v3/wml_instances/360c510b-012c-4793-ae3f-063410081c3e\",\"created_at\":\"2017-08-04T09:15:48.344Z\",\"modified_at\":\"2017-09-05T14:38:41.487Z\"},\"entity\":{\"source\":\"Bluemix\",\"published_models\":{\"url\":\"https://ibm-watson-ml.mybluemix.net/v3/wml_instances/360c510b-012c-4793-ae3f-063410081c3e/published_models\"},\"usage\":{\"expiration_date\":\"2017-10-01T00:00:00.000Z\",\"computation_time\":{\"current\":1},\"model_count\":{\"limit\":1000,\"current\":3},\"prediction_count\":{\"current\":3},\"deployment_count\":{\"limit\":1000,\"current\":5}},\"plan_id\":\"0f2a3c2c-456b-40f3-9b19-726d2740b11c\",\"status\":\"Active\",\"organization_guid\":\"b0e61605-a82e-4f03-9e9f-2767973c084d\",\"region\":\"us-south\",\"account\":{\"id\":\"f52968f3dbbe7b0b53e15743d45e5e90\",\"name\":\"Umit Cakmak's Account\",\"type\":\"TRIAL\"},\"owner\":{\"ibm_id\":\"31000292EV\",\"email\":\"umit.cakmak@pl.ibm.com\",\"user_id\":\"43e0ee0e-6bfb-48fc-bcd8-d61e40d19253\",\"country_code\":\"POL\",\"beta_user\":true},\"deployments\":{\"url\":\"https://ibm-watson-ml.mybluemix.net/v3/wml_instances/360c510b-012c-4793-ae3f-063410081c3e/deployments\"},\"space_guid\":\"4c55eb1c-d6fe-4f0a-9390-35c9a7ecf27a\",\"plan\":\"standard\"}}\n", 
                    "output_type": "stream", 
                    "name": "stdout"
                }
            ], 
            "metadata": {}, 
            "source": "#endpoint_instance = service_path + \"/v3/wml_instances/\" + instance_id\nendpoint_instance = service_path + \"/v3/wml_instances/\" + instance_id\nheader = {'Content-Type': 'application/json', 'Authorization': 'Bearer ' + mltoken} \n\nresponse_get_instance = requests.get(endpoint_instance, headers=header)\nprint(response_get_instance)\nprint(response_get_instance.text)", 
            "execution_count": 31
        }, 
        {
            "cell_type": "code", 
            "outputs": [
                {
                    "text": "https://ibm-watson-ml.mybluemix.net/v3/wml_instances/360c510b-012c-4793-ae3f-063410081c3e/published_models\n", 
                    "output_type": "stream", 
                    "name": "stdout"
                }
            ], 
            "metadata": {}, 
            "source": "endpoint_published_models = json.loads(response_get_instance.text).get('entity').get('published_models').get('url')\nprint(endpoint_published_models)", 
            "execution_count": 32
        }, 
        {
            "cell_type": "markdown", 
            "metadata": {}, 
            "source": "Execute the following sample code that uses the published_models endpoint to get deployments url.\n\nGet the list of published models"
        }, 
        {
            "cell_type": "code", 
            "outputs": [
                {
                    "text": "<Response [200]>\n{\"count\":2,\"resources\":[{\"metadata\":{\"guid\":\"03464067-1b50-41e4-887c-b2a68774a3c0\",\"url\":\"https://ibm-watson-ml.mybluemix.net/v3/wml_instances/360c510b-012c-4793-ae3f-063410081c3e/published_models/03464067-1b50-41e4-887c-b2a68774a3c0\",\"created_at\":\"2017-09-05T14:29:04.642Z\",\"modified_at\":\"2017-09-05T14:31:27.605Z\"},\"entity\":{\"runtime_environment\":\"python-2.7\",\"author\":{\"name\":\"Krishna\",\"email\":\"krishna@in.ibm.com\"},\"name\":\"Tumor_Type_Detection_v1\",\"latest_version\":{\"url\":\"https://ibm-watson-ml.mybluemix.net/v2/artifacts/models/03464067-1b50-41e4-887c-b2a68774a3c0/versions/4f04bee2-33b9-4877-9c38-671942098c75\",\"guid\":\"4f04bee2-33b9-4877-9c38-671942098c75\",\"created_at\":\"2017-09-05T14:29:04.762Z\"},\"model_type\":\"scikit-model-0.17\",\"deployments\":{\"count\":1,\"url\":\"https://ibm-watson-ml.mybluemix.net/v3/wml_instances/360c510b-012c-4793-ae3f-063410081c3e/published_models/03464067-1b50-41e4-887c-b2a68774a3c0/deployments\"},\"deployed_version\":{\"url\":\"https://ibm-watson-ml.mybluemix.net/v2/artifacts/models/03464067-1b50-41e4-887c-b2a68774a3c0/versions/4f04bee2-33b9-4877-9c38-671942098c75\",\"guid\":\"4f04bee2-33b9-4877-9c38-671942098c75\",\"created_at\":\"2017-09-05T14:29:04.762Z\"}}},{\"metadata\":{\"guid\":\"f04b3fc4-d4b0-4da5-860c-396b4a8ba222\",\"url\":\"https://ibm-watson-ml.mybluemix.net/v3/wml_instances/360c510b-012c-4793-ae3f-063410081c3e/published_models/f04b3fc4-d4b0-4da5-860c-396b4a8ba222\",\"created_at\":\"2017-09-05T14:38:41.388Z\",\"modified_at\":\"2017-09-05T14:38:41.538Z\"},\"entity\":{\"runtime_environment\":\"python-2.7\",\"author\":{\"name\":\"Krishna\",\"email\":\"krishna@in.ibm.com\"},\"name\":\"Tumor_Type_Detection_v1_pipe\",\"latest_version\":{\"url\":\"https://ibm-watson-ml.mybluemix.net/v2/artifacts/models/f04b3fc4-d4b0-4da5-860c-396b4a8ba222/versions/b4eebf8e-4369-4a35-b02c-7a42177ef735\",\"guid\":\"b4eebf8e-4369-4a35-b02c-7a42177ef735\",\"created_at\":\"2017-09-05T14:38:41.538Z\"},\"model_type\":\"scikit-model-0.17\",\"deployments\":{\"count\":0,\"url\":\"https://ibm-watson-ml.mybluemix.net/v3/wml_instances/360c510b-012c-4793-ae3f-063410081c3e/published_models/f04b3fc4-d4b0-4da5-860c-396b4a8ba222/deployments\"}}}]}\n", 
                    "output_type": "stream", 
                    "name": "stdout"
                }
            ], 
            "metadata": {}, 
            "source": "header = {'Content-Type': 'application/json', 'Authorization': 'Bearer ' + mltoken}\n\nresponse_get = requests.get(endpoint_published_models, headers=header)\nprint(response_get)\nprint(response_get.text)", 
            "execution_count": 33
        }, 
        {
            "cell_type": "markdown", 
            "metadata": {}, 
            "source": "Get published model deployment url"
        }, 
        {
            "cell_type": "code", 
            "outputs": [
                {
                    "text": "https://ibm-watson-ml.mybluemix.net/v3/wml_instances/360c510b-012c-4793-ae3f-063410081c3e/published_models/f04b3fc4-d4b0-4da5-860c-396b4a8ba222/deployments\n", 
                    "output_type": "stream", 
                    "name": "stdout"
                }
            ], 
            "metadata": {}, 
            "source": "[endpoint_deployments] = [x.get('entity').get('deployments').get('url') for x in json.loads(response_get.text).get('resources') if x.get('metadata').get('guid') == saved_model.uid]\n\nprint(endpoint_deployments)", 
            "execution_count": 34
        }, 
        {
            "cell_type": "markdown", 
            "metadata": {}, 
            "source": "#### 5.1.2 Deploy Model"
        }, 
        {
            "cell_type": "markdown", 
            "metadata": {}, 
            "source": "Create online deployment for published model"
        }, 
        {
            "cell_type": "code", 
            "outputs": [
                {
                    "text": "<Response [201]>\n{\"metadata\":{\"guid\":\"076cbec1-fe05-4076-8fbb-ba5654f879c8\",\"url\":\"https://ibm-watson-ml.mybluemix.net/v3/wml_instances/360c510b-012c-4793-ae3f-063410081c3e/published_models/f04b3fc4-d4b0-4da5-860c-396b4a8ba222/deployments/076cbec1-fe05-4076-8fbb-ba5654f879c8\",\"created_at\":\"2017-09-05T14:39:33.261Z\",\"modified_at\":\"2017-09-05T14:39:34.212Z\"},\"entity\":{\"runtime_environment\":\"python-2.7\",\"name\":\"skl_xgb_cancer1_pipe\",\"scoring_url\":\"https://ibm-watson-ml.mybluemix.net/v3/wml_instances/360c510b-012c-4793-ae3f-063410081c3e/published_models/f04b3fc4-d4b0-4da5-860c-396b4a8ba222/deployments/076cbec1-fe05-4076-8fbb-ba5654f879c8/online\",\"description\":\"skl_xgb_Cancer\",\"published_model\":{\"author\":{\"name\":\"Krishna\",\"email\":\"krishna@in.ibm.com\"},\"name\":\"Tumor_Type_Detection_v1_pipe\",\"url\":\"https://ibm-watson-ml.mybluemix.net/v3/wml_instances/360c510b-012c-4793-ae3f-063410081c3e/published_models/f04b3fc4-d4b0-4da5-860c-396b4a8ba222\",\"guid\":\"f04b3fc4-d4b0-4da5-860c-396b4a8ba222\",\"created_at\":\"2017-09-05T14:39:33.226Z\"},\"model_type\":\"scikit-model-0.17\",\"status\":\"INITIALIZING\",\"type\":\"online\",\"deployed_version\":{\"url\":\"https://ibm-watson-ml.mybluemix.net/v2/artifacts/models/f04b3fc4-d4b0-4da5-860c-396b4a8ba222/versions/b4eebf8e-4369-4a35-b02c-7a42177ef735\",\"guid\":\"b4eebf8e-4369-4a35-b02c-7a42177ef735\",\"created_at\":\"2017-09-05T14:38:41.538Z\"}}}\n", 
                    "output_type": "stream", 
                    "name": "stdout"
                }
            ], 
            "metadata": {}, 
            "source": "payload_online = {\"name\": \"skl_xgb_cancer1_pipe\", \"description\": \"skl_xgb_Cancer\", \"type\": \"online\"}\nresponse_online = requests.post(endpoint_deployments, json=payload_online, headers=header)\n\nprint(response_online)\nprint(response_online.text)", 
            "execution_count": 35
        }, 
        {
            "cell_type": "code", 
            "outputs": [
                {
                    "text": "https://ibm-watson-ml.mybluemix.net/v3/wml_instances/360c510b-012c-4793-ae3f-063410081c3e/published_models/f04b3fc4-d4b0-4da5-860c-396b4a8ba222/deployments/076cbec1-fe05-4076-8fbb-ba5654f879c8/online\n", 
                    "output_type": "stream", 
                    "name": "stdout"
                }
            ], 
            "metadata": {}, 
            "source": "scoring_url = json.loads(response_online.text).get('entity').get('scoring_url')\nprint(scoring_url)", 
            "execution_count": 36
        }, 
        {
            "cell_type": "markdown", 
            "metadata": {}, 
            "source": "### 5. 3 Perform Prediction"
        }, 
        {
            "cell_type": "markdown", 
            "metadata": {}, 
            "source": "Now, you can send (POST) new scoring records (new data) for which you would like to get predictions. To do that, execute the following sample code:"
        }, 
        {
            "cell_type": "code", 
            "outputs": [
                {
                    "text": "u'{\\n  \"fields\": [\"prediction\"],\\n  \"values\": [[0]]\\n}'\n", 
                    "output_type": "stream", 
                    "name": "stdout"
                }
            ], 
            "metadata": {}, 
            "source": "payload_scoring = {\n   \"values\": [0.16, 0.20, 0.010, 0.081, 11.69, 13.19, 14.78, 848.8, 19.48, 627.7, 43.75, 1.23, 3.27, 0.44, 6697.0, 208.3, 324.8, 139.2, 153.6, 2789.0, 0.2, 0.30, 0.013, 0.001, 15.90, 29.47, 35.97, 15.83, 31.03, 0.08],            \n}\n\nresponse_scoring = requests.post(scoring_url, json=payload_scoring, headers=header)\npprint.pprint(response_scoring.text)", 
            "execution_count": 37
        }, 
        {
            "cell_type": "markdown", 
            "metadata": {}, 
            "source": "As we can see, given patient record is classified as benign."
        }, 
        {
            "cell_type": "markdown", 
            "metadata": {}, 
            "source": "<a id=\"summary\"></a>\n## 6. Summary and next steps     "
        }, 
        {
            "cell_type": "markdown", 
            "metadata": {}, 
            "source": "You successfully completed this notebook! You learned how to use XGBoost machine learning as well as Watson Machine Learning for model creation and deployment. Check out our _[Online Documentation](https://console.ng.bluemix.net/docs/services/PredictiveModeling/pm_service_api_spark.html)_ for more samples, tutorials, documentation, how-tos, and blog posts. \n\n### Author\n\nUmit Mert Cakmak is Data Scientist at IBM with a track record of developing enterprise-level applications that substantially increases clients' ability to turn data into actionable insights."
        }, 
        {
            "cell_type": "markdown", 
            "metadata": {}, 
            "source": "Copyright \u00a9 2017 IBM. This notebook and its source code are released under the terms of the MIT License."
        }
    ], 
    "nbformat": 4, 
    "metadata": {
        "kernelspec": {
            "display_name": "Python 2 with Spark 2.0", 
            "name": "python2-spark20", 
            "language": "python"
        }, 
        "language_info": {
            "version": "2.7.11", 
            "nbconvert_exporter": "python", 
            "mimetype": "text/x-python", 
            "codemirror_mode": {
                "version": 2, 
                "name": "ipython"
            }, 
            "file_extension": ".py", 
            "name": "python", 
            "pygments_lexer": "ipython2"
        }
    }, 
    "nbformat_minor": 2
}