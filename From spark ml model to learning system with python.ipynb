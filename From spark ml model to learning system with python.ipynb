{
    "metadata": {
        "kernelspec": {
            "language": "python", 
            "display_name": "Python 2 with Spark 2.0", 
            "name": "python2-spark20"
        }, 
        "language_info": {
            "version": "2.7.11", 
            "file_extension": ".py", 
            "mimetype": "text/x-python", 
            "name": "python", 
            "nbconvert_exporter": "python", 
            "pygments_lexer": "ipython2", 
            "codemirror_mode": {
                "version": 2, 
                "name": "ipython"
            }
        }
    }, 
    "cells": [
        {
            "metadata": {}, 
            "cell_type": "markdown", 
            "source": "<table style=\"border: none\" align=\"left\">\n   <tr style=\"border: none\">\n      <th style=\"border: none\"><font face=\"verdana\" size=\"5\" color=\"black\"><b>Use of Continuous Learning System to select the best heart drug with IBM Watson Machine Learning</b></font></th>\n      <th style=\"border: none\"><img src=\"https://github.com/pmservice/customer-satisfaction-prediction/blob/master/app/static/images/ml_icon_gray.png?raw=true\" alt=\"Watson Machine Learning icon\" height=\"40\" width=\"40\"></th>\n   </tr> \n   <tr style=\"border: none\">\n       <td style=\"border: none\"><img src=\"https://github.com/pmservice/wml-sample-models/raw/master/spark/drug-selection/images/learning_banner-05.png\" width=\"600\" alt=\"Icon\"></td>\n   </tr>\n</table>"
        }, 
        {
            "metadata": {}, 
            "cell_type": "markdown", 
            "source": "This notebook contains steps and code to configure **continuous learning system**, and start scoring new data. This notebook introduces commands for getting data, model persistance to Watson Machine Learning repository, model deployment, continuous learning system configuration and scoring.\n\nSome familiarity with Python is helpful. This notebook uses Python 2 and Apache\u00ae Spark 2.0.\n\nYou will use published on git data set, **drug_feedback_data.csv**, which details anonymous patients records. Use the details of this data set to predict best drug for heart disease treatment.\n\n## Learning goals\n\nThe learning goals of this notebook are:\n\n-  Prepare feedback data set in Db2 Warehouse on Cloud on Bluemix.\n-  Publish a sample model in Watson Machine Learning repository.\n-  Configure continuous learning system for published model using Watson Machine Learning API.\n-  Deploy a model for online scoring using Watson Machine Learning API.\n-  Track model performance changes after learning system iteration using Watson Machine Learning API.\n-  Explore and visualize model performance using the plotly package and Watson Machine Learning API.\n\n\n\n## Contents\n\nThis notebook contains the following parts:\n\n1.\t[Setup](#setup)\n2.\t[Create spark ml model](#model)\n3.\t[Persist model](#load)\n4.\t[Configure continuous learning system](#configuration)\n5.\t[Track model performance](#performance)\n6.\t[Visualization of model performance](#visualization)\n7.\t[Summary and next steps](#summary)"
        }, 
        {
            "metadata": {}, 
            "cell_type": "markdown", 
            "source": "<a id=\"setup\"></a>\n## 1. Setup\n\nBefore you use the sample code in this notebook, you must perform the following setup tasks:\n\n- Create a [Watson Machine Learning Service](https://console.ng.bluemix.net/catalog/services/ibm-watson-machine-learning/) instance (a free plan is offered).\n- Create a [Spark Service](https://console.ng.bluemix.net/catalog/services/spark/) instance (an entry plan is offered).\n- Create a [Db2 Warehouse on Cloud Service](https://console.bluemix.net/catalog/services/db2-warehouse-on-cloud/) instance (an entry plan is offered).\n- Create the **DRUG_TRAIN_DATA_UPDATED** and **DRUG_FEEDBACK_DATA** tables in **Db2 Warehouse on Cloud**. \n  + Download [drug_train_data_updated.csv](https://raw.githubusercontent.com/pmservice/wml-sample-models/master/spark/drug-selection/data/drug_train_data_updated.csv) and [drug_feedback_data.csv](https://raw.githubusercontent.com/pmservice/wml-sample-models/master/spark/drug-selection/data/drug_feedback_data.csv) files from git repository.\n  + Click the **Open the console** to get started with **Db2 Warehouse on Cloud** icon.\n  + Select the **Load Data** and **Desktop** load type.\n  + **Drag and drop** previously downloaded file and press **Next**.\n  + Select **Schema** to import data and click **New Table**. \n  + Write name for **new table** than click **Next** to finish data import.\n  + Use `;` as **field separator**.\n  + Click **Next** to create table with uploaded data."
        }, 
        {
            "metadata": {}, 
            "cell_type": "markdown", 
            "source": "<a id=\"model\"></a>\n## 2. Create spark ml model"
        }, 
        {
            "metadata": {}, 
            "cell_type": "markdown", 
            "source": "In this section you will learn how to prepare data, create an Apache\u00ae Spark machine learning pipeline, and train a model."
        }, 
        {
            "metadata": {}, 
            "cell_type": "markdown", 
            "source": "### 2.1: Load training data from DashDB"
        }, 
        {
            "metadata": {}, 
            "cell_type": "markdown", 
            "source": "Using below code you will load DRUG_TRAIN_DATA_UPDATED table content into Spark Data Frame."
        }, 
        {
            "execution_count": 3, 
            "cell_type": "code", 
            "source": "from pyspark.sql import SparkSession\n\nspark = SparkSession.builder.getOrCreate()\ndb2_properties = {\n    'jdbcurl': 'jdbc:db2://dashdb-entry-yp-dal09-10.services.dal.bluemix.net:50000/BLUDB',\n    'user': '***',\n    'password': '**'\n}\ntablename = '%s.DRUG_TRAIN_DATA_UPDATED' % db2_properties['user']\nDRUG_TRAIN_DATA_UPDATED_data = spark.read.jdbc(db2_properties['jdbcurl'], table=tablename, properties=db2_properties)", 
            "metadata": {
                "collapsed": true
            }, 
            "outputs": []
        }, 
        {
            "metadata": {}, 
            "cell_type": "markdown", 
            "source": "**Tip:** All required fields can be found on Service Credentials tab of Db2 Warehouse on Cloud service instance created in Bluemix. In case you do not have any credential, you can create one by clicking \"New credential\""
        }, 
        {
            "execution_count": 4, 
            "cell_type": "code", 
            "source": "DRUG_TRAIN_DATA_UPDATED_data.show(5)", 
            "metadata": {}, 
            "outputs": [
                {
                    "output_type": "stream", 
                    "name": "stdout", 
                    "text": "+---+---+----+-----------+--------+--------+-----+\n|AGE|SEX|  BP|CHOLESTEROL|      NA|       K| DRUG|\n+---+---+----+-----------+--------+--------+-----+\n| 43|  M|HIGH|       HIGH|0.656371|0.046979|drugA|\n| 32|  M|HIGH|     NORMAL|0.529750|0.056087|drugA|\n| 37|  F|HIGH|       HIGH|0.559171|0.042713|drugA|\n| 24|  M|HIGH|     NORMAL|0.613261|0.064726|drugA|\n| 29|  M|HIGH|       HIGH|0.625272|0.048637|drugA|\n+---+---+----+-----------+--------+--------+-----+\nonly showing top 5 rows\n\n"
                }
            ]
        }, 
        {
            "metadata": {}, 
            "cell_type": "markdown", 
            "source": "DRUG column is the target/label column."
        }, 
        {
            "metadata": {}, 
            "cell_type": "markdown", 
            "source": "### 2.2: Prepare data"
        }, 
        {
            "metadata": {}, 
            "cell_type": "markdown", 
            "source": "In this subsection you will split your data into: train and test datasets."
        }, 
        {
            "execution_count": 5, 
            "cell_type": "code", 
            "source": "(train_data, test_data) = DRUG_TRAIN_DATA_UPDATED_data.randomSplit([0.8, 0.2], 24)\n\nprint(\"Number of records for training: \" + str(train_data.count()))\nprint(\"Number of records for evaluation: \" + str(test_data.count()))", 
            "metadata": {}, 
            "outputs": [
                {
                    "output_type": "stream", 
                    "name": "stdout", 
                    "text": "Number of records for training: 150\nNumber of records for evaluation: 31\n"
                }
            ]
        }, 
        {
            "metadata": {}, 
            "cell_type": "markdown", 
            "source": "As you can see our data has been successfully split into two datasets:\n - The train data set, which is the largest group, is used for training.\n - The test data set will be used for model evaluation."
        }, 
        {
            "metadata": {}, 
            "cell_type": "markdown", 
            "source": "### 2.3: Create pipeline and train a model"
        }, 
        {
            "metadata": {}, 
            "cell_type": "markdown", 
            "source": "In this section you will create an Apache\u00ae Spark machine learning pipeline and then train the model."
        }, 
        {
            "metadata": {}, 
            "cell_type": "markdown", 
            "source": "In the first step you need to import the Apache\u00ae Spark machine learning packages that will be needed in the subsequent steps."
        }, 
        {
            "execution_count": 6, 
            "cell_type": "code", 
            "source": "from pyspark.ml.feature import OneHotEncoder, StringIndexer, IndexToString, VectorAssembler\nfrom pyspark.ml.classification import DecisionTreeClassifier\nfrom pyspark.ml.evaluation import MulticlassClassificationEvaluator\nfrom pyspark.ml import Pipeline, Model", 
            "metadata": {
                "collapsed": true
            }, 
            "outputs": []
        }, 
        {
            "metadata": {}, 
            "cell_type": "markdown", 
            "source": "In the following step, convert all the string fields to numeric ones by using the StringIndexer transformer."
        }, 
        {
            "execution_count": 7, 
            "cell_type": "code", 
            "source": "stringIndexer_sex = StringIndexer(inputCol = 'SEX', outputCol = 'SEX_IX')\nstringIndexer_bp = StringIndexer(inputCol = 'BP', outputCol = 'BP_IX')\nstringIndexer_chol = StringIndexer(inputCol = 'CHOLESTEROL', outputCol = 'CHOL_IX')\nstringIndexer_label = StringIndexer(inputCol=\"DRUG\", outputCol=\"label\").fit(DRUG_TRAIN_DATA_UPDATED_data)", 
            "metadata": {
                "collapsed": true
            }, 
            "outputs": []
        }, 
        {
            "metadata": {}, 
            "cell_type": "markdown", 
            "source": "In the following step, create a feature vector by combining all features together."
        }, 
        {
            "execution_count": 8, 
            "cell_type": "code", 
            "source": "vectorAssembler_features = VectorAssembler(inputCols=[\"AGE\", \"SEX_IX\", \"BP_IX\", \"CHOL_IX\", \"NA\", \"K\"], outputCol=\"features\")", 
            "metadata": {
                "collapsed": true
            }, 
            "outputs": []
        }, 
        {
            "metadata": {}, 
            "cell_type": "markdown", 
            "source": "Next, define estimators you want to use for classification. Decision Tree is used in the following example."
        }, 
        {
            "execution_count": 9, 
            "cell_type": "code", 
            "source": "dt = DecisionTreeClassifier(labelCol=\"label\", featuresCol=\"features\")", 
            "metadata": {
                "collapsed": true
            }, 
            "outputs": []
        }, 
        {
            "metadata": {}, 
            "cell_type": "markdown", 
            "source": "Finally, indexed labels back to original labels."
        }, 
        {
            "execution_count": 10, 
            "cell_type": "code", 
            "source": "labelConverter = IndexToString(inputCol=\"prediction\", outputCol=\"predictedLabel\", labels=stringIndexer_label.labels)", 
            "metadata": {
                "collapsed": true
            }, 
            "outputs": []
        }, 
        {
            "metadata": {}, 
            "cell_type": "markdown", 
            "source": "Let's build the pipeline now. A pipeline consists of transformers and an estimator."
        }, 
        {
            "execution_count": 11, 
            "cell_type": "code", 
            "source": "pipeline_dt = Pipeline(stages=[stringIndexer_label, stringIndexer_sex, stringIndexer_bp, stringIndexer_chol, vectorAssembler_features, dt, labelConverter])", 
            "metadata": {
                "collapsed": true
            }, 
            "outputs": []
        }, 
        {
            "metadata": {}, 
            "cell_type": "markdown", 
            "source": "Now, you can train your Decision Tree model by using the previously defined pipeline and train data."
        }, 
        {
            "execution_count": 12, 
            "cell_type": "code", 
            "source": "model = pipeline_dt.fit(train_data)", 
            "metadata": {
                "collapsed": true
            }, 
            "outputs": []
        }, 
        {
            "metadata": {}, 
            "cell_type": "markdown", 
            "source": "You can check your model accuracy now. To evaluate the model, use test data."
        }, 
        {
            "execution_count": 13, 
            "cell_type": "code", 
            "source": "predictions = model.transform(test_data)\nevaluatorDT = MulticlassClassificationEvaluator(labelCol=\"label\", predictionCol=\"prediction\", metricName=\"accuracy\")\naccuracy = evaluatorDT.evaluate(predictions)\n\nprint(\"Accuracy = %g\" % accuracy)", 
            "metadata": {}, 
            "outputs": [
                {
                    "output_type": "stream", 
                    "name": "stdout", 
                    "text": "Accuracy = 0.870968\n"
                }
            ]
        }, 
        {
            "metadata": {}, 
            "cell_type": "markdown", 
            "source": "You can tune your model now to achieve better accuracy. For simplicity of this example tuning section is omitted."
        }, 
        {
            "metadata": {
                "collapsed": true
            }, 
            "cell_type": "markdown", 
            "source": "<a id=\"load\"></a>\n## 3. Persist model"
        }, 
        {
            "metadata": {}, 
            "cell_type": "markdown", 
            "source": "In this section you will learn how to store sample model in Watson Machine Learning repository by client library."
        }, 
        {
            "metadata": {}, 
            "cell_type": "markdown", 
            "source": "First, you must import client libraries."
        }, 
        {
            "metadata": {}, 
            "cell_type": "markdown", 
            "source": "**Note**: Apache\u00ae Spark 2.0 is required."
        }, 
        {
            "execution_count": 14, 
            "cell_type": "code", 
            "source": "from repository.mlrepositoryclient import MLRepositoryClient\nfrom repository.mlrepositoryartifact import MLRepositoryArtifact\nfrom repository.mlrepository import MetaProps, MetaNames\nimport json", 
            "metadata": {
                "collapsed": true
            }, 
            "outputs": []
        }, 
        {
            "metadata": {}, 
            "cell_type": "markdown", 
            "source": "Authenticate to Watson Machine Learning service on Bluemix."
        }, 
        {
            "metadata": {}, 
            "cell_type": "markdown", 
            "source": "**Action**: Put authentication information from your instance of Watson Machine Learning service here.</div>"
        }, 
        {
            "execution_count": 15, 
            "cell_type": "code", 
            "source": "wml_credentials={\n  \"url\": \"https://ibm-watson-ml.mybluemix.net\",\n  \"access_key\": \"***\",\n  \"username\": \"***\",\n  \"password\": \"***\",\n  \"instance_id\": \"***\"\n}", 
            "metadata": {
                "collapsed": true
            }, 
            "outputs": []
        }, 
        {
            "metadata": {
                "collapsed": true
            }, 
            "cell_type": "markdown", 
            "source": "**Tip**: `url`, `instance_id`, `username` and `password` can be found on **Service Credentials** tab of service instance created in Bluemix. If you cannot see **instance_id** field in **Serice Credentials** generate new credentials by pressing **New credential (+)** button."
        }, 
        {
            "metadata": {}, 
            "cell_type": "markdown", 
            "source": "Authenticate to Watson Machine Learning service on Bluemix."
        }, 
        {
            "execution_count": 16, 
            "cell_type": "code", 
            "source": "ml_repository_client = MLRepositoryClient(wml_credentials['url'])\nml_repository_client.authorize(wml_credentials['username'], wml_credentials['password'])", 
            "metadata": {
                "collapsed": true
            }, 
            "outputs": []
        }, 
        {
            "metadata": {}, 
            "cell_type": "markdown", 
            "source": "#### Metadata preparation"
        }, 
        {
            "metadata": {}, 
            "cell_type": "markdown", 
            "source": "Prepare additional information to be saved as model's metadata:\n* TRAINING_DATA_REF\n* EVALUATION_METHOD: **multiclass**\n* EVALUATION_METRICS name: **accuracy** (metric name used to evaluate the model)\n* EVALUATION_METRICS value: **0.87** (accuracy value calculated few steps above)\n* EVALUATION_METRICS threshold: **0.8** (if the accuracy after evaluation using feedback data is below this threshold auto-retraining is triggered)"
        }, 
        {
            "metadata": {}, 
            "cell_type": "markdown", 
            "source": "**Tip**: If the accuracy value goes below the threshold retraining action is required."
        }, 
        {
            "metadata": {}, 
            "cell_type": "markdown", 
            "source": "Prepare training data reference that will be required by continuous learning system to trigger retraning action."
        }, 
        {
            "execution_count": 31, 
            "cell_type": "code", 
            "source": "training_data_reference = \"\"\"{\n \"connection\": {\n  \"db\": \"BLUDB\",\n  \"host\": \"dashdb-entry-yp-dal09-10.services.dal.bluemix.net\",\n  \"username\": \"***\",\n  \"password\": \"***\"\n },\n \"source\": {\n  \"tablename\": \"DRUG_TRAIN_DATA_UPDATED\",\n  \"type\": \"dashdb\"\n }\n}\"\"\"", 
            "metadata": {
                "collapsed": true
            }, 
            "outputs": []
        }, 
        {
            "metadata": {}, 
            "cell_type": "markdown", 
            "source": "**Tip**: All required fields can be found on Service Credentials tab of Db2 Warehouse on Cloud service instance created in Bluemix."
        }, 
        {
            "metadata": {}, 
            "cell_type": "markdown", 
            "source": "Add all information to model ```MetaProps```."
        }, 
        {
            "execution_count": 32, 
            "cell_type": "code", 
            "source": "meta_props=MetaProps({\n    MetaNames.TRAINING_DATA_REF: training_data_reference,\n    MetaNames.EVALUATION_METHOD: \"multiclass\",\n    MetaNames.EVALUATION_METRICS: json.dumps([{\n        \"name\": \"accuracy\",\n        \"value\": accuracy,\n        \"threshold\": 0.8\n    }])\n})", 
            "metadata": {
                "collapsed": true
            }, 
            "outputs": []
        }, 
        {
            "metadata": {}, 
            "cell_type": "markdown", 
            "source": "Create model artifact (abstraction layer)."
        }, 
        {
            "execution_count": 33, 
            "cell_type": "code", 
            "source": "model_artifact = MLRepositoryArtifact(model, training_data=train_data, meta_props=meta_props, name=\"Best Heart Drug Selection\")", 
            "metadata": {
                "collapsed": true
            }, 
            "outputs": []
        }, 
        {
            "metadata": {}, 
            "cell_type": "markdown", 
            "source": "**Tip**: The MLRepositoryArtifact method expects a trained model object, training data, and a model name. (It is this model name that is displayed by the Watson Machine Learning service)."
        }, 
        {
            "execution_count": 34, 
            "cell_type": "code", 
            "source": "saved_model = ml_repository_client.models.save(model_artifact)", 
            "metadata": {
                "collapsed": true
            }, 
            "outputs": []
        }, 
        {
            "metadata": {}, 
            "cell_type": "markdown", 
            "source": "Get saved model metadata from Watson Machine Learning."
        }, 
        {
            "metadata": {}, 
            "cell_type": "markdown", 
            "source": "**Tip**: Use meta.available_props() to get the list of available props."
        }, 
        {
            "execution_count": 35, 
            "cell_type": "code", 
            "source": "saved_model.meta.available_props()", 
            "metadata": {}, 
            "outputs": [
                {
                    "output_type": "execute_result", 
                    "data": {
                        "text/plain": "['inputDataSchema',\n 'evaluationMetrics',\n 'pipelineVersionHref',\n 'modelVersionHref',\n 'trainingDataRef',\n 'pipelineType',\n 'creationTime',\n 'lastUpdated',\n 'label',\n 'authorEmail',\n 'trainingDataSchema',\n 'authorName',\n 'version',\n 'modelType',\n 'runtime',\n 'evaluationMethod']"
                    }, 
                    "metadata": {}, 
                    "execution_count": 35
                }
            ]
        }, 
        {
            "execution_count": 36, 
            "cell_type": "code", 
            "source": "print(\"modelType: \" + saved_model.meta.prop(\"modelType\"))\nprint(\"creationTime: \" + str(saved_model.meta.prop(\"creationTime\")))\nprint(\"modelVersionHref: \" + saved_model.meta.prop(\"modelVersionHref\"))\nprint(\"label: \" + saved_model.meta.prop(\"label\"))\nprint(\"evaluationMetrics: \" + str(saved_model.meta.prop(\"evaluationMetrics\")))\nprint(\"modelID: \" + str(saved_model.uid))", 
            "metadata": {}, 
            "outputs": [
                {
                    "output_type": "stream", 
                    "name": "stdout", 
                    "text": "modelType: sparkml-model-2.0\ncreationTime: 2017-09-07 11:19:07.774000+00:00\nmodelVersionHref: https://ibm-watson-ml.mybluemix.net/v2/artifacts/models/3049b535-1335-44b8-86fa-dfe6324dd56c/versions/9264cd7d-1def-43f9-a061-1214bd8c2f30\nlabel: DRUG\nevaluationMetrics: [{'threshold': 0.8, 'name': 'accuracy', 'value': 0.8709677419354839}]\nmodelID: 3049b535-1335-44b8-86fa-dfe6324dd56c\n"
                }
            ]
        }, 
        {
            "metadata": {}, 
            "cell_type": "markdown", 
            "source": "**Tip**: `modelID` is our model unique indentifier in the Watson Machine Learning repository."
        }, 
        {
            "metadata": {}, 
            "cell_type": "markdown", 
            "source": "<a id=\"configuration\"></a>\n## 4. Configure continuous learning system"
        }, 
        {
            "metadata": {}, 
            "cell_type": "markdown", 
            "source": "In this section you will learn how to configure continuous learning system with Watson Machine Learning REST API.\nFor more information about REST APIs, see the [Swagger Documentation](http://watson-ml-api.mybluemix.net/)."
        }, 
        {
            "metadata": {}, 
            "cell_type": "markdown", 
            "source": "Continuous learning system provides you:\n- monitoring of model quality\n- model retraining if quality is below specified threshold\n- model redeployment if retrained model performs better"
        }, 
        {
            "metadata": {}, 
            "cell_type": "markdown", 
            "source": "To work with the Watson Machine Leraning REST API you must generate an **access token**. To do that you can use the following sample code:"
        }, 
        {
            "execution_count": 37, 
            "cell_type": "code", 
            "source": "import urllib3, requests, json\n\nheaders = urllib3.util.make_headers(basic_auth='{username}:{password}'.format(username=wml_credentials['username'], password=wml_credentials['password']))\ntoken_endpoint = '{}/v3/identity/token'.format(wml_credentials['url'])\nresponse = requests.get(token_endpoint, headers=headers)\nmltoken = json.loads(response.text).get('token')", 
            "metadata": {
                "collapsed": true
            }, 
            "outputs": []
        }, 
        {
            "metadata": {}, 
            "cell_type": "markdown", 
            "source": "In this subsection you will learn how to configure learning system for your model."
        }, 
        {
            "metadata": {}, 
            "cell_type": "markdown", 
            "source": "### Prepare Authorization header that combines Watson Machine Learning token and Spark instance credentials."
        }, 
        {
            "execution_count": 38, 
            "cell_type": "code", 
            "source": "import base64\n\nspark_instance = {\n  \"credentials\": {\n      \"tenant_id\": \"***\",\n      \"tenant_id_full\": \"***\",\n      \"cluster_master_url\": \"https://spark.bluemix.net\",\n      \"tenant_secret\": \"***\",\n      \"instance_id\": \"***\",\n      \"plan\": \"***\"\n},\n  \"version\": \"2.0\"\n}\n\nspark_instance_header = base64.b64encode(json.dumps(spark_instance))\nheader_learning_configuration = {'Content-Type': 'application/json', 'Authorization': \" Bearer \" + mltoken, 'X-Spark-Service-Instance': spark_instance_header}", 
            "metadata": {
                "collapsed": true
            }, 
            "outputs": []
        }, 
        {
            "metadata": {}, 
            "cell_type": "markdown", 
            "source": "**Tip**: All required fields can be found on Service Credentials tab of Spark service instance created in Bluemix."
        }, 
        {
            "metadata": {}, 
            "cell_type": "markdown", 
            "source": "### Get published_models url from instance details"
        }, 
        {
            "execution_count": 39, 
            "cell_type": "code", 
            "source": "endpoint_instance = wml_credentials['url'] + \"/v3/wml_instances/\" + wml_credentials['instance_id']\nheader = {'Content-Type': 'application/json', 'Authorization': 'Bearer ' + mltoken}\n\nresponse_get_instance = requests.get(endpoint_instance, headers=header)\n\nprint response_get_instance\nprint response_get_instance.text", 
            "metadata": {}, 
            "outputs": [
                {
                    "output_type": "stream", 
                    "name": "stdout", 
                    "text": "<Response [200]>\n{\"metadata\":{\"guid\":\"360c510b-012c-4793-ae3f-063410081c3e\",\"url\":\"https://ibm-watson-ml.mybluemix.net/v3/wml_instances/360c510b-012c-4793-ae3f-063410081c3e\",\"created_at\":\"2017-08-04T09:15:48.344Z\",\"modified_at\":\"2017-09-07T11:19:07.888Z\"},\"entity\":{\"source\":\"Bluemix\",\"published_models\":{\"url\":\"https://ibm-watson-ml.mybluemix.net/v3/wml_instances/360c510b-012c-4793-ae3f-063410081c3e/published_models\"},\"usage\":{\"expiration_date\":\"2017-10-01T00:00:00.000Z\",\"computation_time\":{\"current\":18},\"model_count\":{\"limit\":1000,\"current\":0},\"prediction_count\":{\"current\":29},\"deployment_count\":{\"limit\":1000,\"current\":7}},\"plan_id\":\"0f2a3c2c-456b-40f3-9b19-726d2740b11c\",\"status\":\"Active\",\"organization_guid\":\"b0e61605-a82e-4f03-9e9f-2767973c084d\",\"region\":\"us-south\",\"account\":{\"id\":\"f52968f3dbbe7b0b53e15743d45e5e90\",\"name\":\"Umit Cakmak's Account\",\"type\":\"TRIAL\"},\"owner\":{\"ibm_id\":\"31000292EV\",\"email\":\"umit.cakmak@pl.ibm.com\",\"user_id\":\"43e0ee0e-6bfb-48fc-bcd8-d61e40d19253\",\"country_code\":\"POL\",\"beta_user\":true},\"deployments\":{\"url\":\"https://ibm-watson-ml.mybluemix.net/v3/wml_instances/360c510b-012c-4793-ae3f-063410081c3e/deployments\"},\"space_guid\":\"4c55eb1c-d6fe-4f0a-9390-35c9a7ecf27a\",\"plan\":\"standard\"}}\n"
                }
            ]
        }, 
        {
            "execution_count": 40, 
            "cell_type": "code", 
            "source": "endpoint_published_models = json.loads(response_get_instance.text).get('entity').get('published_models').get('url')\n\nprint endpoint_published_models", 
            "metadata": {}, 
            "outputs": [
                {
                    "output_type": "stream", 
                    "name": "stdout", 
                    "text": "https://ibm-watson-ml.mybluemix.net/v3/wml_instances/360c510b-012c-4793-ae3f-063410081c3e/published_models\n"
                }
            ]
        }, 
        {
            "metadata": {}, 
            "cell_type": "markdown", 
            "source": "### Prepare the configuration payload."
        }, 
        {
            "execution_count": 41, 
            "cell_type": "code", 
            "source": "published_model_ID = saved_model.uid\nendpoint_learning_configuration = endpoint_published_models + \"/\" + published_model_ID + \"/learning_configuration\"", 
            "metadata": {
                "collapsed": true
            }, 
            "outputs": []
        }, 
        {
            "metadata": {}, 
            "cell_type": "markdown", 
            "source": "Specify feedback data location that will be used to evaluate your model."
        }, 
        {
            "execution_count": 42, 
            "cell_type": "code", 
            "source": "feedback_data_reference = {\n \"connection\": {\n  \"db\": \"BLUDB\",\n  \"host\": \"dashdb-entry-yp-dal09-10.services.dal.bluemix.net\",\n  \"username\": \"***\",\n  \"password\": \"***\"\n },\n \"source\": {\n  \"tablename\": \"DRUG_FEEDBACK_DATA\",\n  \"type\": \"dashdb\"\n }\n}", 
            "metadata": {
                "collapsed": true
            }, 
            "outputs": []
        }, 
        {
            "metadata": {}, 
            "cell_type": "markdown", 
            "source": "**Tip**: Note that only ```tablename``` is different comparing to ```training_data_reference```."
        }, 
        {
            "metadata": {}, 
            "cell_type": "markdown", 
            "source": "Define values of the following fields to finalize payload:\n- ```min_feedback_data_size``` - this is minimal number of records in feedback dataset to start continuous learning system iteration\n- ```auto_retrain``` [never, always, conditionally] - this parameter specifies if retraining process should be triggered (conditionally will trigger retraining process when evaluation result is below specified threshold)\n- ```auto_redeploy``` [never, always, conditionally] - this paramete specifies if retrained model should be deployed (conditionally will trigger redeployment when newly trained model quality is better)"
        }, 
        {
            "execution_count": 43, 
            "cell_type": "code", 
            "source": "payload_learning_configuration = {  \n    \"feedback_data_ref\": feedback_data_reference,\n    \"min_feedback_data_size\": 10,\n    \"auto_retrain\": \"conditionally\",\n    \"auto_redeploy\": \"never\"\n}", 
            "metadata": {
                "collapsed": true
            }, 
            "outputs": []
        }, 
        {
            "metadata": {}, 
            "cell_type": "markdown", 
            "source": "### Set configuration for published model"
        }, 
        {
            "execution_count": 44, 
            "cell_type": "code", 
            "source": "response_put = requests.put(endpoint_learning_configuration, json=payload_learning_configuration, headers=header_learning_configuration)\n\nprint(response_put)\nprint(response_put.text)", 
            "metadata": {}, 
            "outputs": [
                {
                    "output_type": "stream", 
                    "name": "stdout", 
                    "text": "<Response [200]>\n{\"min_feedback_data_size\":10,\"auto_retrain\":\"conditionally\",\"spark_service\":{\"credentials\":{\"tenant_id\":\"s37a-8ea2eec65e9690-35c9a7ecf27a\",\"cluster_master_url\":\"https://spark.bluemix.net\",\"tenant_id_full\":\"9577bb8c-9986-42c1-b37a-8ea2eec65e96_4c55eb1c-d6fe-4f0a-9390-35c9a7ecf27a\",\"tenant_secret\":\"2942a6ca-ac77-4d63-805e-9f0e2aae716d\",\"instance_id\":\"9577bb8c-9986-42c1-b37a-8ea2eec65e96\",\"plan\":\"ibm.SparkService.PayGoPersonal\"},\"version\":\"2.0\"},\"feedback_data_ref\":{\"connection\":{\"username\":\"dash7828\",\"host\":\"dashdb-entry-yp-dal09-10.services.dal.bluemix.net\",\"password\":\"@cJ7cz2jQL$H\",\"db\":\"BLUDB\"},\"source\":{\"type\":\"dashdb\",\"tablename\":\"DRUG_FEEDBACK_DATA\"}},\"auto_redeploy\":\"never\"}\n"
                }
            ]
        }, 
        {
            "metadata": {}, 
            "cell_type": "markdown", 
            "source": "Learning configuration has been specified successfuly. You can check the details with below GET call."
        }, 
        {
            "execution_count": 45, 
            "cell_type": "code", 
            "source": "response_get = requests.get(endpoint_published_models + \"/\" + published_model_ID, headers=header_learning_configuration)\n\nprint(response_get)\nprint json.dumps(response_get.json()[\"entity\"][\"learning_configuration\"], sort_keys=True, indent=2)", 
            "metadata": {}, 
            "outputs": [
                {
                    "output_type": "stream", 
                    "name": "stdout", 
                    "text": "<Response [200]>\n{\n  \"auto_redeploy\": \"never\", \n  \"auto_retrain\": \"conditionally\", \n  \"definition\": {\n    \"method\": \"multiclass\", \n    \"metrics\": [\n      {\n        \"name\": \"accuracy\", \n        \"threshold\": 0.8\n      }\n    ]\n  }, \n  \"feedback_data_ref\": {\n    \"connection\": {\n      \"db\": \"BLUDB\", \n      \"host\": \"dashdb-entry-yp-dal09-10.services.dal.bluemix.net\", \n      \"password\": \"@cJ7cz2jQL$H\", \n      \"username\": \"dash7828\"\n    }, \n    \"source\": {\n      \"tablename\": \"DRUG_FEEDBACK_DATA\", \n      \"type\": \"dashdb\"\n    }\n  }, \n  \"min_feedback_data_size\": 10, \n  \"spark_service\": {\n    \"credentials\": {\n      \"cluster_master_url\": \"https://spark.bluemix.net\", \n      \"instance_id\": \"9577bb8c-9986-42c1-b37a-8ea2eec65e96\", \n      \"plan\": \"ibm.SparkService.PayGoPersonal\", \n      \"tenant_id\": \"s37a-8ea2eec65e9690-35c9a7ecf27a\", \n      \"tenant_id_full\": \"9577bb8c-9986-42c1-b37a-8ea2eec65e96_4c55eb1c-d6fe-4f0a-9390-35c9a7ecf27a\", \n      \"tenant_secret\": \"2942a6ca-ac77-4d63-805e-9f0e2aae716d\"\n    }, \n    \"version\": \"2.0\"\n  }\n}\n"
                }
            ]
        }, 
        {
            "metadata": {}, 
            "cell_type": "markdown", 
            "source": "<a id=\"performance\"></a>\n## 5. Track model performance"
        }, 
        {
            "metadata": {}, 
            "cell_type": "markdown", 
            "source": "To start iteration of learning system use below REST API method. Within iteration published model will be evaluated. If the evaluated accuracy is below specified threshold model retraining will be triggered. Both data sets: training and feedback are used for retraining and evaluation."
        }, 
        {
            "execution_count": 46, 
            "cell_type": "code", 
            "source": "endpoint_learning_iteration =  endpoint_published_models + \"/\" + published_model_ID + \"/learning_iterations\"\nresponse_learning_iteration = requests.post(endpoint_learning_iteration, json={}, headers=header_learning_configuration)\n\nprint response_learning_iteration\nprint response_learning_iteration.text", 
            "metadata": {}, 
            "outputs": [
                {
                    "output_type": "stream", 
                    "name": "stdout", 
                    "text": "<Response [201]>\nThe request has been fulfilled and resulted in a new resource being created.\n"
                }
            ]
        }, 
        {
            "metadata": {}, 
            "cell_type": "markdown", 
            "source": "**Tip**: This is asynchronous action. You can use below GET request to check the progress."
        }, 
        {
            "metadata": {}, 
            "cell_type": "markdown", 
            "source": "#### Get iterations details"
        }, 
        {
            "metadata": {}, 
            "cell_type": "markdown", 
            "source": "Using this GET request you can check the stage and status of the iteration. For example you can see: \n```\n\"stage\":\"PrepareEvaluationData\",\n\"status\":\"INITIALIZED\"\n```\nor\n```\n\"stage\":\"EvaluateModel\",\n\"status\":\"RUNNING\"\n```"
        }, 
        {
            "execution_count": 47, 
            "cell_type": "code", 
            "source": "response_iterations = requests.get(endpoint_learning_iteration, headers=header_learning_configuration)\n\nprint response_iterations\nprint response_iterations.text", 
            "metadata": {}, 
            "outputs": [
                {
                    "output_type": "stream", 
                    "name": "stdout", 
                    "text": "<Response [200]>\n{\"count\":1,\"resources\":[{\"metadata\":{\"guid\":\"821a680d-4385-40fb-bfcf-7ab9ab098947\",\"url\":\"https://ibm-watson-ml.mybluemix.net/v3/wml_instances/360c510b-012c-4793-ae3f-063410081c3e/published_models/3049b535-1335-44b8-86fa-dfe6324dd56c/learning_iterations/821a680d-4385-40fb-bfcf-7ab9ab098947\",\"created_at\":\"2017-09-07T11:25:48.183Z\"},\"entity\":{\"status\":\"INITIALIZED\",\"spark_service\":{\"credentials\":{\"tenant_id\":\"s37a-8ea2eec65e9690-35c9a7ecf27a\",\"cluster_master_url\":\"https://spark.bluemix.net\",\"tenant_id_full\":\"9577bb8c-9986-42c1-b37a-8ea2eec65e96_4c55eb1c-d6fe-4f0a-9390-35c9a7ecf27a\",\"tenant_secret\":\"2942a6ca-ac77-4d63-805e-9f0e2aae716d\",\"instance_id\":\"9577bb8c-9986-42c1-b37a-8ea2eec65e96\",\"plan\":\"ibm.SparkService.PayGoPersonal\"},\"version\":\"2.0\"},\"published_model\":{\"url\":\"https://ibm-watson-ml.mybluemix.net/v3/wml_instances/360c510b-012c-4793-ae3f-063410081c3e/published_models/3049b535-1335-44b8-86fa-dfe6324dd56c\",\"guid\":\"3049b535-1335-44b8-86fa-dfe6324dd56c\"}}}]}\n"
                }
            ]
        }, 
        {
            "metadata": {}, 
            "cell_type": "markdown", 
            "source": "#### Get evaluation values"
        }, 
        {
            "execution_count": 63, 
            "cell_type": "code", 
            "source": "metrics_href = endpoint_published_models + \"/\" + published_model_ID + '/evaluation_metrics'\nresponse_metrics = requests.get(metrics_href, headers=header_learning_configuration)\n\nprint response_metrics.text", 
            "metadata": {
                "scrolled": true
            }, 
            "outputs": [
                {
                    "output_type": "stream", 
                    "name": "stdout", 
                    "text": "{\"count\":2,\"resources\":[{\"phase\":\"monitoring\",\"values\":[{\"name\":\"accuracy\",\"value\":0.75,\"threshold\":0.8}],\"timestamp\":\"2017-09-07T11:26:44.144Z\",\"artifactVersionHref\":\"https://ibm-watson-ml.mybluemix.net/v2/artifacts/models/3049b535-1335-44b8-86fa-dfe6324dd56c/versions/9264cd7d-1def-43f9-a061-1214bd8c2f30\"},{\"phase\":\"training\",\"values\":[{\"name\":\"accuracy\",\"value\":0.924363104826681,\"threshold\":0.8}],\"timestamp\":\"2017-09-07T11:27:23.133Z\",\"artifactVersionHref\":\"https://ibm-watson-ml.mybluemix.net/v2/artifacts/models/3049b535-1335-44b8-86fa-dfe6324dd56c/versions/6fa55e6a-6988-4263-ae80-3e81df02778d\"}]}\n"
                }
            ]
        }, 
        {
            "metadata": {}, 
            "cell_type": "markdown", 
            "source": "**Tip**: To see evaluation result you need to wait for iteration completion."
        }, 
        {
            "metadata": {}, 
            "cell_type": "markdown", 
            "source": "**Action**: to display evaluation details in form of table you need to install ```tabulate``` package."
        }, 
        {
            "metadata": {}, 
            "cell_type": "raw", 
            "source": "!pip install tabulate --user"
        }, 
        {
            "execution_count": 64, 
            "cell_type": "code", 
            "source": "from tabulate import tabulate\n\nmetrics = response_metrics.json()['resources']\nvalues = [(m[\"phase\"], m[\"timestamp\"][11:16], m[\"values\"][0][\"value\"], m[\"values\"][0][\"threshold\"], m[\"artifactVersionHref\"][-36:-1]) for m in metrics]\n\nprint tabulate([[\"Phase\", \"Time\", \"Accuracy\", \"Threshold\", \"Version\"]] + values)", 
            "metadata": {}, 
            "outputs": [
                {
                    "output_type": "stream", 
                    "name": "stdout", 
                    "text": "----------  -----  --------------  ---------  -----------------------------------\nPhase       Time   Accuracy        Threshold  Version\nmonitoring  11:26  0.75            0.8        9264cd7d-1def-43f9-a061-1214bd8c2f3\ntraining    11:27  0.924363104827  0.8        6fa55e6a-6988-4263-ae80-3e81df02778\n----------  -----  --------------  ---------  -----------------------------------\n"
                }
            ]
        }, 
        {
            "metadata": {}, 
            "cell_type": "markdown", 
            "source": "You can see that this iteration of continuous learning loop consists of the following phases:\n- monitoring - using feedback data published model quality was checked (evaluation). \n- training - since evaluation result (0.75) is below specified threshold (0.8) model retraining was triggered. Evaluation of retrained model shows accuracy at 0.87."
        }, 
        {
            "metadata": {}, 
            "cell_type": "markdown", 
            "source": "**Tip**: If `auto_redeploy` option is set to conditionally the newly trained model will be redeployed since it shows better accuracy than original one."
        }, 
        {
            "metadata": {}, 
            "cell_type": "markdown", 
            "source": "<a id=\"visualization\"></a>\n## 6. Visualization of model performance"
        }, 
        {
            "metadata": {}, 
            "cell_type": "markdown", 
            "source": "In this subsection you will visualize iteration results with Plotly, which is an online analytics and data visualization tool."
        }, 
        {
            "metadata": {}, 
            "cell_type": "markdown", 
            "source": "**Example**:  First, you need to install required packages. You can do it by running the following code. Run it only one time.\n\n!pip install plotly --user\n\n!pip install cufflinks --user"
        }, 
        {
            "metadata": {
                "collapsed": true
            }, 
            "cell_type": "raw", 
            "source": "!pip install plotly --user \n!pip install cufflinks --user"
        }, 
        {
            "metadata": {}, 
            "cell_type": "markdown", 
            "source": "Import Plotly and other required packages."
        }, 
        {
            "execution_count": 75, 
            "cell_type": "code", 
            "source": "import sys\nimport pandas\nimport plotly.plotly as py\nfrom plotly.offline import download_plotlyjs, init_notebook_mode, plot, iplot\nimport cufflinks as cf\nimport plotly.graph_objs as go\n\ninit_notebook_mode(connected=True)\nsys.path.append(\"\".join([os.environ[\"HOME\"]])) ", 
            "metadata": {}, 
            "outputs": [
                {
                    "output_type": "display_data", 
                    "data": {
                        "text/html": "<script>requirejs.config({paths: { 'plotly': ['https://cdn.plot.ly/plotly-latest.min']},});if(!window.Plotly) {{require(['plotly'],function(plotly) {window.Plotly=plotly;});}}</script>", 
                        "text/vnd.plotly.v1+html": "<script>requirejs.config({paths: { 'plotly': ['https://cdn.plot.ly/plotly-latest.min']},});if(!window.Plotly) {{require(['plotly'],function(plotly) {window.Plotly=plotly;});}}</script>"
                    }, 
                    "metadata": {}
                }
            ]
        }, 
        {
            "metadata": {}, 
            "cell_type": "markdown", 
            "source": "#### Prepare data for plotly"
        }, 
        {
            "execution_count": 94, 
            "cell_type": "code", 
            "source": "threshold = 0.8\nphases = ['initial','monitoring','training']\nevaluation_values = [accuracy, values[0][2], values[1][2]]\nthreshold_values = len(evaluation_values)*[threshold]", 
            "metadata": {
                "collapsed": true
            }, 
            "outputs": []
        }, 
        {
            "metadata": {}, 
            "cell_type": "markdown", 
            "source": "#### Plot linear chart"
        }, 
        {
            "execution_count": 99, 
            "cell_type": "code", 
            "source": "trace1 = go.Scatter(\n    x = phases,\n    y = evaluation_values,\n    mode = 'lines+markers',\n    name = 'accuracy'\n)\n\ntrace2 = go.Scatter(\n    x = phases,\n    y = threshold_values,\n    mode = 'lines',\n    name = 'threshold'\n)\n\nlayout = dict(title = 'Model performance',\n              xaxis = dict(title = 'Phase'),\n              yaxis = dict(title = 'Evaluation result'),\n              )\n\nfig = dict(data=[trace1, trace2], layout=layout)\niplot(fig)", 
            "metadata": {}, 
            "outputs": [
                {
                    "output_type": "display_data", 
                    "data": {
                        "application/vnd.plotly.v1+json": {
                            "layout": {
                                "xaxis": {
                                    "title": "Phase"
                                }, 
                                "yaxis": {
                                    "title": "Evaluation result"
                                }, 
                                "title": "Model performance"
                            }, 
                            "data": [
                                {
                                    "type": "scatter", 
                                    "mode": "lines+markers", 
                                    "y": [
                                        0.8709677419354839, 
                                        0.75, 
                                        0.8754254983087936
                                    ], 
                                    "x": [
                                        "initial", 
                                        "monitoring", 
                                        "training"
                                    ], 
                                    "name": "accuracy"
                                }, 
                                {
                                    "type": "scatter", 
                                    "mode": "lines", 
                                    "y": [
                                        0.8, 
                                        0.8, 
                                        0.8
                                    ], 
                                    "x": [
                                        "initial", 
                                        "monitoring", 
                                        "training"
                                    ], 
                                    "name": "threshold"
                                }
                            ]
                        }, 
                        "text/html": "<div id=\"415798e1-513f-4dcf-9411-cbde665700e0\" style=\"height: 525px; width: 100%;\" class=\"plotly-graph-div\"></div><script type=\"text/javascript\">require([\"plotly\"], function(Plotly) { window.PLOTLYENV=window.PLOTLYENV || {};window.PLOTLYENV.BASE_URL=\"https://plot.ly\";Plotly.newPlot(\"415798e1-513f-4dcf-9411-cbde665700e0\", [{\"y\": [0.8709677419354839, 0.75, 0.8754254983087936], \"x\": [\"initial\", \"monitoring\", \"training\"], \"type\": \"scatter\", \"name\": \"accuracy\", \"mode\": \"lines+markers\"}, {\"y\": [0.8, 0.8, 0.8], \"x\": [\"initial\", \"monitoring\", \"training\"], \"type\": \"scatter\", \"name\": \"threshold\", \"mode\": \"lines\"}], {\"title\": \"Model performance\", \"xaxis\": {\"title\": \"Phase\"}, \"yaxis\": {\"title\": \"Evaluation result\"}}, {\"linkText\": \"Export to plot.ly\", \"showLink\": true})});</script>", 
                        "text/vnd.plotly.v1+html": "<div id=\"415798e1-513f-4dcf-9411-cbde665700e0\" style=\"height: 525px; width: 100%;\" class=\"plotly-graph-div\"></div><script type=\"text/javascript\">require([\"plotly\"], function(Plotly) { window.PLOTLYENV=window.PLOTLYENV || {};window.PLOTLYENV.BASE_URL=\"https://plot.ly\";Plotly.newPlot(\"415798e1-513f-4dcf-9411-cbde665700e0\", [{\"y\": [0.8709677419354839, 0.75, 0.8754254983087936], \"x\": [\"initial\", \"monitoring\", \"training\"], \"type\": \"scatter\", \"name\": \"accuracy\", \"mode\": \"lines+markers\"}, {\"y\": [0.8, 0.8, 0.8], \"x\": [\"initial\", \"monitoring\", \"training\"], \"type\": \"scatter\", \"name\": \"threshold\", \"mode\": \"lines\"}], {\"title\": \"Model performance\", \"xaxis\": {\"title\": \"Phase\"}, \"yaxis\": {\"title\": \"Evaluation result\"}}, {\"linkText\": \"Export to plot.ly\", \"showLink\": true})});</script>"
                    }, 
                    "metadata": {}
                }
            ]
        }, 
        {
            "metadata": {}, 
            "cell_type": "markdown", 
            "source": "Within single Continuous Learning System iteration we can notice two phases:\n* monitoring - in that phase initial model is evaluated using feedback data\n* training - in that phase model is retrained using combination of training and feedback data. Next, model is evaluated.\n<BR><BR>\nAfter retraining model accuracy increased to desired level (above specified threshold)."
        }, 
        {
            "metadata": {
                "collapsed": true
            }, 
            "cell_type": "markdown", 
            "source": "<a id=\"summary\"></a>\n## 7. Summary and next steps     "
        }, 
        {
            "metadata": {
                "collapsed": true
            }, 
            "cell_type": "markdown", 
            "source": " You successfully completed this notebook! You learned how to use Continuous Learning System of Watson Machine Learning. Check out our _[Online Documentation](https://console.ng.bluemix.net/docs/services/PredictiveModeling/index.html)_ for more samples, tutorials, documentation, how-tos, and blog posts. "
        }, 
        {
            "metadata": {}, 
            "cell_type": "markdown", 
            "source": "### Authors\n\n**Lukasz Cmielowski**, PhD, is a Automation Architect and Data Scientist in IBM with a track record of developing enterprise-level applications that substantially increases clients' ability to turn data into actionable knowledge."
        }, 
        {
            "metadata": {}, 
            "cell_type": "markdown", 
            "source": "Copyright \u00a9 2017 IBM. This notebook and its source code are released under the terms of the MIT License."
        }
    ], 
    "nbformat": 4, 
    "nbformat_minor": 1
}