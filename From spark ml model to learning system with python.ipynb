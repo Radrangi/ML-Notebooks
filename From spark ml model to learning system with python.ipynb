{
    "metadata": {
        "language_info": {
            "codemirror_mode": {
                "name": "ipython", 
                "version": 2
            }, 
            "pygments_lexer": "ipython2", 
            "file_extension": ".py", 
            "nbconvert_exporter": "python", 
            "mimetype": "text/x-python", 
            "name": "python", 
            "version": "2.7.11"
        }, 
        "kernelspec": {
            "name": "python2-spark20", 
            "language": "python", 
            "display_name": "Python 2 with Spark 2.0"
        }
    }, 
    "nbformat_minor": 1, 
    "nbformat": 4, 
    "cells": [
        {
            "source": "<table style=\"border: none\" align=\"left\">\n   <tr style=\"border: none\">\n      <th style=\"border: none\"><font face=\"verdana\" size=\"5\" color=\"black\"><b>Use of Continuous Learning System to select the best heart drug with IBM Watson Machine Learning</b></font></th>\n      <th style=\"border: none\"><img src=\"https://github.com/pmservice/customer-satisfaction-prediction/blob/master/app/static/images/ml_icon_gray.png?raw=true\" alt=\"Watson Machine Learning icon\" height=\"40\" width=\"40\"></th>\n   </tr> \n   <tr style=\"border: none\">\n       <td style=\"border: none\"><img src=\"https://github.com/pmservice/wml-sample-models/raw/master/spark/drug-selection/images/learning_banner-05.png\" width=\"600\" alt=\"Icon\"></td>\n   </tr>\n</table>", 
            "metadata": {}, 
            "cell_type": "markdown"
        }, 
        {
            "source": "This notebook contains steps and code to configure **continuous learning system**, and start scoring new data. This notebook introduces commands for getting data, model persistance to Watson Machine Learning repository, model deployment, continuous learning system configuration and scoring.\n\nSome familiarity with Python is helpful. This notebook uses Python 2 and Apache\u00ae Spark 2.0.\n\nYou will use published on git data set, **drug_feedback_data.csv**, which details anonymous patients records. Use the details of this data set to predict best drug for heart disease treatment.\n\n## Learning goals\n\nThe learning goals of this notebook are:\n\n-  Prepare feedback data set in Db2 Warehouse on Cloud on Bluemix.\n-  Publish a sample model in Watson Machine Learning repository.\n-  Configure continuous learning system for published model using Watson Machine Learning API.\n-  Deploy a model for online scoring using Watson Machine Learning API.\n-  Track model performance changes after learning system iteration using Watson Machine Learning API.\n-  Explore and visualize model performance using the plotly package and Watson Machine Learning API.\n\n\n\n## Contents\n\nThis notebook contains the following parts:\n\n1.\t[Setup](#setup)\n2.\t[Create spark ml model](#model)\n3.\t[Persist model](#load)\n4.\t[Configure continuous learning system](#configuration)\n5.\t[Track model performance](#performance)\n6.\t[Visualization of model performance](#visualization)\n7.\t[Feedback records](#visualization)\n8.\t[Summary and next steps](#summary)", 
            "metadata": {}, 
            "cell_type": "markdown"
        }, 
        {
            "source": "<a id=\"setup\"></a>\n## 1. Setup\n\nBefore you use the sample code in this notebook, you must perform the following setup tasks:\n\n- Create a [Watson Machine Learning Service](https://console.ng.bluemix.net/catalog/services/ibm-watson-machine-learning/) instance (a free plan is offered).\n- Create a [Spark Service](https://console.ng.bluemix.net/catalog/services/spark/) instance (an entry plan is offered).\n- Create a [Db2 Warehouse on Cloud Service](https://console.bluemix.net/catalog/services/db2-warehouse-on-cloud/) instance (an entry plan is offered).\n- Create the **DRUG_TRAIN_DATA_UPDATED** and **DRUG_FEEDBACK_DATA** tables in **Db2 Warehouse on Cloud**. \n  + Download [drug_train_data_updated.csv](https://raw.githubusercontent.com/pmservice/wml-sample-models/master/spark/drug-selection/data/drug_train_data_updated.csv) and [drug_feedback_data.csv](https://raw.githubusercontent.com/pmservice/wml-sample-models/master/spark/drug-selection/data/drug_feedback_data.csv) files from git repository.\n  + Click the **Open the console** to get started with **Db2 Warehouse on Cloud** icon.\n  + Select the **Load Data** and **Desktop** load type.\n  + **Drag and drop** previously downloaded file and press **Next**.\n  + Select **Schema** to import data and click **New Table**. \n  + Write name for **new table** than click **Next** to finish data import.\n  + Use `;` as **field separator**.\n  + Click **Next** to create table with uploaded data.", 
            "metadata": {}, 
            "cell_type": "markdown"
        }, 
        {
            "source": "<a id=\"model\"></a>\n## 2. Create spark ml model", 
            "metadata": {}, 
            "cell_type": "markdown"
        }, 
        {
            "source": "In this section you will learn how to prepare data, create an Apache\u00ae Spark machine learning pipeline, and train a model.", 
            "metadata": {}, 
            "cell_type": "markdown"
        }, 
        {
            "source": "### 2.1: Load training data from DashDB", 
            "metadata": {}, 
            "cell_type": "markdown"
        }, 
        {
            "source": "Using below code you will load DRUG_TRAIN_DATA_UPDATED table content into Spark Data Frame.", 
            "metadata": {}, 
            "cell_type": "markdown"
        }, 
        {
            "metadata": {
                "collapsed": true
            }, 
            "source": "db2_credentials = {\n    'jdbcurl': 'jdbc:db2://dashdb-entry-yp-dal09-08.services.dal.bluemix.net:50000/BLUDB',\n    'user': 'dash14647',\n    'password': 'a3803360760c'\n}", 
            "outputs": [], 
            "execution_count": 1, 
            "cell_type": "code"
        }, 
        {
            "metadata": {
                "collapsed": true
            }, 
            "source": "tablename = \"{schema}.{table}\".format(schema=db2_credentials['user'], table='DRUG_TRAIN_DATA_UPDATED')\ndb2_properties = {x: db2_credentials.get(x) for x in db2_credentials.keys() if x in ['jdbcurl', 'user', 'password']}", 
            "outputs": [], 
            "execution_count": 2, 
            "cell_type": "code"
        }, 
        {
            "metadata": {
                "collapsed": true
            }, 
            "source": "from pyspark.sql import SparkSession\n\nspark = SparkSession.builder.getOrCreate()\nDRUG_TRAIN_DATA_UPDATED_data = spark.read.jdbc(db2_credentials['jdbcurl'], table=tablename, properties=db2_properties)", 
            "outputs": [], 
            "execution_count": 3, 
            "cell_type": "code"
        }, 
        {
            "source": "**Tip:** All required fields can be found on Service Credentials tab of Db2 Warehouse on Cloud service instance created in Bluemix. In case you do not have any credential, you can create one by clicking \"New credential\"", 
            "metadata": {}, 
            "cell_type": "markdown"
        }, 
        {
            "metadata": {}, 
            "source": "DRUG_TRAIN_DATA_UPDATED_data.show(5)", 
            "outputs": [
                {
                    "name": "stdout", 
                    "output_type": "stream", 
                    "text": "+---+---+----+-----------+--------+--------+-----+\n|AGE|SEX|  BP|CHOLESTEROL|      NA|       K| DRUG|\n+---+---+----+-----------+--------+--------+-----+\n| 43|  M|HIGH|       HIGH|0.656371|0.046979|drugA|\n| 32|  M|HIGH|     NORMAL|0.529750|0.056087|drugA|\n| 37|  F|HIGH|       HIGH|0.559171|0.042713|drugA|\n| 24|  M|HIGH|     NORMAL|0.613261|0.064726|drugA|\n| 29|  M|HIGH|       HIGH|0.625272|0.048637|drugA|\n+---+---+----+-----------+--------+--------+-----+\nonly showing top 5 rows\n\n"
                }
            ], 
            "execution_count": 4, 
            "cell_type": "code"
        }, 
        {
            "source": "DRUG column is the target/label column.", 
            "metadata": {}, 
            "cell_type": "markdown"
        }, 
        {
            "source": "### 2.2: Prepare data", 
            "metadata": {}, 
            "cell_type": "markdown"
        }, 
        {
            "source": "In this subsection you will split your data into: train and test datasets.", 
            "metadata": {}, 
            "cell_type": "markdown"
        }, 
        {
            "metadata": {}, 
            "source": "(train_data, test_data) = DRUG_TRAIN_DATA_UPDATED_data.randomSplit([0.8, 0.2], 24)\n\nprint(\"Number of records for training: \" + str(train_data.count()))\nprint(\"Number of records for evaluation: \" + str(test_data.count()))", 
            "outputs": [
                {
                    "name": "stdout", 
                    "output_type": "stream", 
                    "text": "Number of records for training: 150\nNumber of records for evaluation: 31\n"
                }
            ], 
            "execution_count": 5, 
            "cell_type": "code"
        }, 
        {
            "source": "As you can see our data has been successfully split into two datasets:\n - The train data set, which is the largest group, is used for training.\n - The test data set will be used for model evaluation.", 
            "metadata": {}, 
            "cell_type": "markdown"
        }, 
        {
            "source": "### 2.3: Create pipeline and train a model", 
            "metadata": {}, 
            "cell_type": "markdown"
        }, 
        {
            "source": "In this section you will create an Apache\u00ae Spark machine learning pipeline and then train the model.", 
            "metadata": {}, 
            "cell_type": "markdown"
        }, 
        {
            "source": "In the first step you need to import the Apache\u00ae Spark machine learning packages that will be needed in the subsequent steps.", 
            "metadata": {}, 
            "cell_type": "markdown"
        }, 
        {
            "metadata": {
                "collapsed": true
            }, 
            "source": "from pyspark.ml.feature import OneHotEncoder, StringIndexer, IndexToString, VectorAssembler\nfrom pyspark.ml.classification import DecisionTreeClassifier\nfrom pyspark.ml.evaluation import MulticlassClassificationEvaluator\nfrom pyspark.ml import Pipeline, Model", 
            "outputs": [], 
            "execution_count": 6, 
            "cell_type": "code"
        }, 
        {
            "source": "In the following step, convert all the string fields to numeric ones by using the StringIndexer transformer.", 
            "metadata": {}, 
            "cell_type": "markdown"
        }, 
        {
            "metadata": {
                "collapsed": true
            }, 
            "source": "stringIndexer_sex = StringIndexer(inputCol = 'SEX', outputCol = 'SEX_IX')\nstringIndexer_bp = StringIndexer(inputCol = 'BP', outputCol = 'BP_IX')\nstringIndexer_chol = StringIndexer(inputCol = 'CHOLESTEROL', outputCol = 'CHOL_IX')\nstringIndexer_label = StringIndexer(inputCol=\"DRUG\", outputCol=\"label\").fit(DRUG_TRAIN_DATA_UPDATED_data)", 
            "outputs": [], 
            "execution_count": 7, 
            "cell_type": "code"
        }, 
        {
            "source": "In the following step, create a feature vector by combining all features together.", 
            "metadata": {}, 
            "cell_type": "markdown"
        }, 
        {
            "metadata": {
                "collapsed": true
            }, 
            "source": "vectorAssembler_features = VectorAssembler(inputCols=[\"AGE\", \"SEX_IX\", \"BP_IX\", \"CHOL_IX\", \"NA\", \"K\"], outputCol=\"features\")", 
            "outputs": [], 
            "execution_count": 8, 
            "cell_type": "code"
        }, 
        {
            "source": "Next, define estimators you want to use for classification. Decision Tree is used in the following example.", 
            "metadata": {}, 
            "cell_type": "markdown"
        }, 
        {
            "metadata": {
                "collapsed": true
            }, 
            "source": "dt = DecisionTreeClassifier(labelCol=\"label\", featuresCol=\"features\")", 
            "outputs": [], 
            "execution_count": 9, 
            "cell_type": "code"
        }, 
        {
            "source": "Finally, indexed labels back to original labels.", 
            "metadata": {}, 
            "cell_type": "markdown"
        }, 
        {
            "metadata": {
                "collapsed": true
            }, 
            "source": "labelConverter = IndexToString(inputCol=\"prediction\", outputCol=\"predictedLabel\", labels=stringIndexer_label.labels)", 
            "outputs": [], 
            "execution_count": 10, 
            "cell_type": "code"
        }, 
        {
            "source": "Let's build the pipeline now. A pipeline consists of transformers and an estimator.", 
            "metadata": {}, 
            "cell_type": "markdown"
        }, 
        {
            "metadata": {
                "collapsed": true
            }, 
            "source": "pipeline_dt = Pipeline(stages=[stringIndexer_label, stringIndexer_sex, stringIndexer_bp, stringIndexer_chol, vectorAssembler_features, dt, labelConverter])", 
            "outputs": [], 
            "execution_count": 11, 
            "cell_type": "code"
        }, 
        {
            "source": "Now, you can train your Decision Tree model by using the previously defined pipeline and train data.", 
            "metadata": {}, 
            "cell_type": "markdown"
        }, 
        {
            "metadata": {
                "collapsed": true
            }, 
            "source": "model = pipeline_dt.fit(train_data)", 
            "outputs": [], 
            "execution_count": 12, 
            "cell_type": "code"
        }, 
        {
            "source": "You can check your model accuracy now. To evaluate the model, use test data.", 
            "metadata": {}, 
            "cell_type": "markdown"
        }, 
        {
            "metadata": {}, 
            "source": "predictions = model.transform(test_data)\nevaluatorDT = MulticlassClassificationEvaluator(labelCol=\"label\", predictionCol=\"prediction\", metricName=\"accuracy\")\naccuracy = evaluatorDT.evaluate(predictions)\n\nprint(\"Accuracy = %g\" % accuracy)", 
            "outputs": [
                {
                    "name": "stdout", 
                    "output_type": "stream", 
                    "text": "Accuracy = 0.870968\n"
                }
            ], 
            "execution_count": 13, 
            "cell_type": "code"
        }, 
        {
            "source": "You can tune your model now to achieve better accuracy. For simplicity of this example tuning section is omitted.", 
            "metadata": {}, 
            "cell_type": "markdown"
        }, 
        {
            "source": "<a id=\"load\"></a>\n## 3. Persist model", 
            "metadata": {
                "collapsed": true
            }, 
            "cell_type": "markdown"
        }, 
        {
            "source": "In this section you will learn how to store sample model in Watson Machine Learning repository by client library.", 
            "metadata": {}, 
            "cell_type": "markdown"
        }, 
        {
            "source": "First, you must import client libraries.", 
            "metadata": {}, 
            "cell_type": "markdown"
        }, 
        {
            "source": "**Note**: Apache\u00ae Spark 2.0 is required.", 
            "metadata": {}, 
            "cell_type": "markdown"
        }, 
        {
            "metadata": {
                "collapsed": true
            }, 
            "source": "from repository.mlrepositoryclient import MLRepositoryClient\nfrom repository.mlrepositoryartifact import MLRepositoryArtifact\nfrom repository.mlrepository import MetaProps, MetaNames\nimport json", 
            "outputs": [], 
            "execution_count": 14, 
            "cell_type": "code"
        }, 
        {
            "source": "Authenticate to Watson Machine Learning service on Bluemix.", 
            "metadata": {}, 
            "cell_type": "markdown"
        }, 
        {
            "source": "**Action**: Put authentication information from your instance of Watson Machine Learning service here.</div>", 
            "metadata": {}, 
            "cell_type": "markdown"
        }, 
        {
            "metadata": {
                "collapsed": true
            }, 
            "source": "wml_credentials={\n  \"url\": \"https://ibm-watson-ml.mybluemix.net\",\n  \"access_key\": \"Sgj8kPV1L8/9JUBGEc0APlrsNiY+v2p3IEY62gdGVvLvkSqIh6u5O+lOe53opmOGpxSFKe9cZoFYLlzgPf++qpWZYcc+6fawL9S0V+2V79Adc+zik+ZHJYrsBRl9GAcs\",\n  \"username\": \"abb54eb2-091c-4041-a1d9-db0701f74481\",\n  \"password\": \"23c110d7-b0c0-4ea7-b29a-3e70b7bf92fc\",\n  \"instance_id\": \"81eb122f-a170-4efd-86b6-4a8afa16d30b\"\n}", 
            "outputs": [], 
            "execution_count": 15, 
            "cell_type": "code"
        }, 
        {
            "source": "**Tip**: `url`, `instance_id`, `username` and `password` can be found on **Service Credentials** tab of service instance created in Bluemix. If you cannot see **instance_id** field in **Serice Credentials** generate new credentials by pressing **New credential (+)** button.", 
            "metadata": {
                "collapsed": true
            }, 
            "cell_type": "markdown"
        }, 
        {
            "source": "Authenticate to Watson Machine Learning service on Bluemix.", 
            "metadata": {}, 
            "cell_type": "markdown"
        }, 
        {
            "metadata": {
                "collapsed": true
            }, 
            "source": "ml_repository_client = MLRepositoryClient(wml_credentials['url'])\nml_repository_client.authorize(wml_credentials['username'], wml_credentials['password'])", 
            "outputs": [], 
            "execution_count": 16, 
            "cell_type": "code"
        }, 
        {
            "source": "#### Metadata preparation", 
            "metadata": {}, 
            "cell_type": "markdown"
        }, 
        {
            "source": "Prepare additional information to be saved as model's metadata:\n* TRAINING_DATA_REF\n* EVALUATION_METHOD: **multiclass**\n* EVALUATION_METRICS name: **accuracy** (metric name used to evaluate the model)\n* EVALUATION_METRICS value: **0.87** (accuracy value calculated few steps above)\n* EVALUATION_METRICS threshold: **0.8** (if the accuracy after evaluation using feedback data is below this threshold auto-retraining is triggered)", 
            "metadata": {}, 
            "cell_type": "markdown"
        }, 
        {
            "source": "**Tip**: If the accuracy value goes below the threshold retraining action is required.", 
            "metadata": {}, 
            "cell_type": "markdown"
        }, 
        {
            "source": "Prepare training data reference that will be required by continuous learning system to trigger retraning action.", 
            "metadata": {}, 
            "cell_type": "markdown"
        }, 
        {
            "metadata": {
                "collapsed": true
            }, 
            "source": "training_data_reference = \"\"\"{\n \"connection\": {\n  \"db\": \"BLUDB\",\n  \"host\": \"dashdb-entry-yp-dal09-08.services.dal.bluemix.net\",\n  \"username\": \"dash14647\",\n  \"password\": \"a3803360760c\"\n },\n \"source\": {\n  \"tablename\": \"DRUG_TRAIN_DATA_UPDATED\",\n  \"type\": \"dashdb\"\n }\n}\"\"\"", 
            "outputs": [], 
            "execution_count": 17, 
            "cell_type": "code"
        }, 
        {
            "source": "**Tip**: All required fields can be found on Service Credentials tab of Db2 Warehouse on Cloud service instance created in Bluemix.", 
            "metadata": {}, 
            "cell_type": "markdown"
        }, 
        {
            "source": "Add all information to model ```MetaProps```.", 
            "metadata": {}, 
            "cell_type": "markdown"
        }, 
        {
            "metadata": {
                "collapsed": true
            }, 
            "source": "meta_props=MetaProps({\n    MetaNames.TRAINING_DATA_REF: training_data_reference,\n    MetaNames.EVALUATION_METHOD: \"multiclass\",\n    MetaNames.EVALUATION_METRICS: json.dumps([{\n        \"name\": \"accuracy\",\n        \"value\": accuracy,\n        \"threshold\": 0.8\n    }])\n})", 
            "outputs": [], 
            "execution_count": 18, 
            "cell_type": "code"
        }, 
        {
            "source": "Create model artifact (abstraction layer).", 
            "metadata": {}, 
            "cell_type": "markdown"
        }, 
        {
            "metadata": {
                "collapsed": true
            }, 
            "source": "model_artifact = MLRepositoryArtifact(model, training_data=train_data, meta_props=meta_props, name=\"Best Heart Drug Selection\")", 
            "outputs": [], 
            "execution_count": 19, 
            "cell_type": "code"
        }, 
        {
            "source": "**Tip**: The MLRepositoryArtifact method expects a trained model object, training data, and a model name. (It is this model name that is displayed by the Watson Machine Learning service).", 
            "metadata": {}, 
            "cell_type": "markdown"
        }, 
        {
            "metadata": {
                "collapsed": true
            }, 
            "source": "saved_model = ml_repository_client.models.save(model_artifact)", 
            "outputs": [], 
            "execution_count": 20, 
            "cell_type": "code"
        }, 
        {
            "source": "Get saved model metadata from Watson Machine Learning.", 
            "metadata": {}, 
            "cell_type": "markdown"
        }, 
        {
            "source": "**Tip**: Use meta.available_props() to get the list of available props.", 
            "metadata": {}, 
            "cell_type": "markdown"
        }, 
        {
            "metadata": {}, 
            "source": "saved_model.meta.available_props()", 
            "outputs": [
                {
                    "output_type": "execute_result", 
                    "metadata": {}, 
                    "execution_count": 21, 
                    "data": {
                        "text/plain": "['inputDataSchema',\n 'evaluationMetrics',\n 'pipelineVersionHref',\n 'modelVersionHref',\n 'trainingDataRef',\n 'pipelineType',\n 'creationTime',\n 'lastUpdated',\n 'label',\n 'authorEmail',\n 'trainingDataSchema',\n 'authorName',\n 'version',\n 'modelType',\n 'runtime',\n 'evaluationMethod']"
                    }
                }
            ], 
            "execution_count": 21, 
            "cell_type": "code"
        }, 
        {
            "metadata": {}, 
            "source": "print(\"modelType: \" + saved_model.meta.prop(\"modelType\"))\nprint(\"creationTime: \" + str(saved_model.meta.prop(\"creationTime\")))\nprint(\"modelVersionHref: \" + saved_model.meta.prop(\"modelVersionHref\"))\nprint(\"label: \" + saved_model.meta.prop(\"label\"))\nprint(\"evaluationMetrics: \" + str(saved_model.meta.prop(\"evaluationMetrics\")))\nprint(\"modelID: \" + str(saved_model.uid))", 
            "outputs": [
                {
                    "name": "stdout", 
                    "output_type": "stream", 
                    "text": "modelType: sparkml-model-2.0\ncreationTime: 2017-11-02 08:23:50.929000+00:00\nmodelVersionHref: https://ibm-watson-ml-svt.stage1.mybluemix.net/v2/artifacts/models/60785887-5203-4be4-8448-cb33d914997b/versions/ef5c39df-fcd9-485a-a53d-cb0924d80394\nlabel: DRUG\nevaluationMetrics: [{'threshold': 0.8, 'name': 'accuracy', 'value': 0.8709677419354839}]\nmodelID: 60785887-5203-4be4-8448-cb33d914997b\n"
                }
            ], 
            "execution_count": 22, 
            "cell_type": "code"
        }, 
        {
            "source": "**Tip**: `modelID` is our model unique indentifier in the Watson Machine Learning repository.", 
            "metadata": {}, 
            "cell_type": "markdown"
        }, 
        {
            "source": "<a id=\"configuration\"></a>\n## 4. Configure continuous learning system", 
            "metadata": {}, 
            "cell_type": "markdown"
        }, 
        {
            "source": "In this section you will learn how to configure continuous learning system with Watson Machine Learning REST API.\nFor more information about REST APIs, see the [Swagger Documentation](http://watson-ml-api.mybluemix.net/).", 
            "metadata": {}, 
            "cell_type": "markdown"
        }, 
        {
            "source": "Continuous learning system provides you:\n- monitoring of model quality\n- model retraining if quality is below specified threshold\n- model redeployment if retrained model performs better", 
            "metadata": {}, 
            "cell_type": "markdown"
        }, 
        {
            "source": "To work with the Watson Machine Leraning REST API you must generate an **access token**. To do that you can use the following sample code:", 
            "metadata": {}, 
            "cell_type": "markdown"
        }, 
        {
            "metadata": {
                "collapsed": true
            }, 
            "source": "import urllib3, requests, json, base64\n\nheaders = urllib3.util.make_headers(basic_auth='{username}:{password}'.format(username=wml_credentials['username'], password=wml_credentials['password']))\ntoken_endpoint = '{}/v3/identity/token'.format(wml_credentials['url'])\nresponse = requests.get(token_endpoint, headers=headers)\nmltoken = json.loads(response.text).get('token')", 
            "outputs": [], 
            "execution_count": 22, 
            "cell_type": "code"
        }, 
        {
            "source": "In this subsection you will learn how to configure learning system for your model.", 
            "metadata": {}, 
            "cell_type": "markdown"
        }, 
        {
            "source": "### Prepare Authorization header that combines Watson Machine Learning token and Spark instance credentials.", 
            "metadata": {}, 
            "cell_type": "markdown"
        }, 
        {
            "metadata": {
                "collapsed": true
            }, 
            "source": "spark_credentials = {\n  \"tenant_id\": \"s125-1e4c8afed91552-01f17dcd4c8c\",\n  \"tenant_id_full\": \"fa2f233e-2675-4f1c-9125-1e4c8afed915_a2485898-8ed5-43df-8352-01f17dcd4c8c\",\n  \"cluster_master_url\": \"https://spark.stage1.bluemix.net\",\n  \"tenant_secret\": \"b3616c28-7463-4560-9be4-87b2b7a66a37\",\n  \"instance_id\": \"fa2f233e-2675-4f1c-9125-1e4c8afed915\",\n  \"plan\": \"ibm.SparkService.PayGoPersonal\"\n}", 
            "outputs": [], 
            "execution_count": 23, 
            "cell_type": "code"
        }, 
        {
            "metadata": {
                "collapsed": true
            }, 
            "source": "spark_instance = {\n  \"credentials\": spark_credentials,\n  \"version\": \"2.0\"\n}", 
            "outputs": [], 
            "execution_count": 24, 
            "cell_type": "code"
        }, 
        {
            "metadata": {
                "collapsed": true
            }, 
            "source": "encoded_spark_instance_header = base64.b64encode(json.dumps(spark_instance))\nheader_learning_configuration = {'Content-Type': 'application/json', 'Authorization': \"Bearer \" + mltoken, 'X-Spark-Service-Instance': encoded_spark_instance_header}", 
            "outputs": [], 
            "execution_count": 25, 
            "cell_type": "code"
        }, 
        {
            "source": "**Tip**: All required fields can be found on Service Credentials tab of Spark service instance created in Bluemix.", 
            "metadata": {}, 
            "cell_type": "markdown"
        }, 
        {
            "source": "### Get published_models url from instance details", 
            "metadata": {}, 
            "cell_type": "markdown"
        }, 
        {
            "metadata": {}, 
            "source": "endpoint_instance =  \"{url}/v3/wml_instances/{instance_id}\".format(url=wml_credentials['url'], instance_id=wml_credentials['instance_id'])\nheader = {'Content-Type': 'application/json', 'Authorization': 'Bearer ' + mltoken}\n\nresponse_get_instance = requests.get(endpoint_instance, headers=header)\n\n\nprint(response_get_instance)", 
            "outputs": [
                {
                    "name": "stdout", 
                    "output_type": "stream", 
                    "text": "<Response [200]>\n"
                }
            ], 
            "execution_count": 26, 
            "cell_type": "code"
        }, 
        {
            "metadata": {}, 
            "source": "endpoint_published_models = json.loads(response_get_instance.text).get('entity').get('published_models').get('url')\n\nprint(endpoint_published_models)", 
            "outputs": [
                {
                    "name": "stdout", 
                    "output_type": "stream", 
                    "text": "https://ibm-watson-ml.mybluemix.net/v3/wml_instances/81eb122f-a170-4efd-86b6-4a8afa16d30b/published_models\n"
                }
            ], 
            "execution_count": 27, 
            "cell_type": "code"
        }, 
        {
            "source": "### Prepare the configuration payload.", 
            "metadata": {}, 
            "cell_type": "markdown"
        }, 
        {
            "metadata": {
                "collapsed": true
            }, 
            "source": "published_model_ID = saved_model.uid\nendpoint_learning_configuration = \"{endpoint}/{model_id}/learning_configuration\".format(endpoint=endpoint_published_models, model_id=published_model_ID)", 
            "outputs": [], 
            "execution_count": 28, 
            "cell_type": "code"
        }, 
        {
            "source": "Specify feedback data location that will be used to evaluate your model.", 
            "metadata": {}, 
            "cell_type": "markdown"
        }, 
        {
            "metadata": {
                "collapsed": true
            }, 
            "source": "feedback_data_reference = {\n    \"connection\": {\n        \"username\": \"dash14647\",\n        \"host\": \"dashdb-entry-yp-dal09-08.services.dal.bluemix.net\",\n        \"password\": \"a3803360760c\",\n        \"db\": \"BLUDB\"\n    },\n    \"source\": {\n        \"type\": \"dashdb\",\n         \"tablename\": \"DRUG_FEEDBACK_DATA\"\n    }\n}", 
            "outputs": [], 
            "execution_count": 29, 
            "cell_type": "code"
        }, 
        {
            "source": "**Tip**: Note that only ```tablename``` is different comparing to ```training_data_reference```.", 
            "metadata": {}, 
            "cell_type": "markdown"
        }, 
        {
            "source": "Define values of the following fields to finalize payload:\n- ```min_feedback_data_size``` - this is minimal number of records in feedback dataset to start continuous learning system iteration\n- ```auto_retrain``` [never, always, conditionally] - this parameter specifies if retraining process should be triggered (conditionally will trigger retraining process when evaluation result is below specified threshold)\n- ```auto_redeploy``` [never, always, conditionally] - this paramete specifies if retrained model should be deployed (conditionally will trigger redeployment when newly trained model quality is better)", 
            "metadata": {}, 
            "cell_type": "markdown"
        }, 
        {
            "metadata": {
                "collapsed": true
            }, 
            "source": "payload_learning_configuration = {  \n    \"feedback_data_reference\": feedback_data_reference,\n    \"min_feedback_data_size\": 10,\n    \"auto_retrain\": \"conditionally\",\n    \"auto_redeploy\": \"never\"\n}", 
            "outputs": [], 
            "execution_count": 30, 
            "cell_type": "code"
        }, 
        {
            "source": "### Set configuration for published model", 
            "metadata": {}, 
            "cell_type": "markdown"
        }, 
        {
            "metadata": {}, 
            "source": "response_put = requests.put(endpoint_learning_configuration, json=payload_learning_configuration, headers=header_learning_configuration)\n\nprint(response_put)", 
            "outputs": [
                {
                    "name": "stdout", 
                    "output_type": "stream", 
                    "text": "<Response [200]>\n"
                }
            ], 
            "execution_count": 31, 
            "cell_type": "code"
        }, 
        {
            "source": "Learning configuration has been specified successfuly. You can check the details with below GET call.", 
            "metadata": {}, 
            "cell_type": "markdown"
        }, 
        {
            "metadata": {}, 
            "source": "endpoint_model = \"{endpoint}/{model_id}\".format(endpoint=endpoint_published_models , model_id=published_model_ID)\nresponse_get = requests.get(endpoint_model, headers=header_learning_configuration)\n\nprint(response_get)\nprint(json.dumps(response_get.json()[\"entity\"][\"learning_configuration\"], sort_keys=True, indent=2))", 
            "outputs": [
                {
                    "name": "stdout", 
                    "output_type": "stream", 
                    "text": "<Response [200]>\n{\n  \"auto_redeploy\": \"never\", \n  \"auto_retrain\": \"conditionally\", \n  \"evaluation_definition\": {\n    \"method\": \"multiclass\", \n    \"metrics\": [\n      {\n        \"name\": \"accuracy\", \n        \"threshold\": 0.8\n      }\n    ]\n  }, \n  \"feedback_data_reference\": {\n    \"connection\": {\n      \"db\": \"BLUDB\", \n      \"host\": \"dashdb-entry-yp-dal09-08.services.dal.bluemix.net\", \n      \"password\": \"a3803360760c\", \n      \"username\": \"dash14647\"\n    }, \n    \"source\": {\n      \"tablename\": \"DRUG_FEEDBACK_DATA\", \n      \"type\": \"dashdb\"\n    }\n  }, \n  \"min_feedback_data_size\": 10, \n  \"spark_service\": {\n    \"credentials\": {\n      \"cluster_master_url\": \"https://spark.stage1.bluemix.net\", \n      \"instance_id\": \"fa2f233e-2675-4f1c-9125-1e4c8afed915\", \n      \"plan\": \"ibm.SparkService.PayGoPersonal\", \n      \"tenant_id\": \"s125-1e4c8afed91552-01f17dcd4c8c\", \n      \"tenant_id_full\": \"fa2f233e-2675-4f1c-9125-1e4c8afed915_a2485898-8ed5-43df-8352-01f17dcd4c8c\", \n      \"tenant_secret\": \"b3616c28-7463-4560-9be4-87b2b7a66a37\"\n    }, \n    \"version\": \"2.0\"\n  }, \n  \"training_data_reference\": {\n    \"connection\": {\n      \"db\": \"BLUDB\", \n      \"host\": \"dashdb-entry-yp-dal09-08.services.dal.bluemix.net\", \n      \"password\": \"a3803360760c\", \n      \"username\": \"dash14647\"\n    }, \n    \"source\": {\n      \"tablename\": \"DRUG_TRAIN_DATA_UPDATED\", \n      \"type\": \"dashdb\"\n    }\n  }\n}\n"
                }
            ], 
            "execution_count": 32, 
            "cell_type": "code"
        }, 
        {
            "source": "### Patch configuration for published model", 
            "metadata": {}, 
            "cell_type": "markdown"
        }, 
        {
            "source": "To update learning configuration you can use PATCH request as shown below.", 
            "metadata": {}, 
            "cell_type": "markdown"
        }, 
        {
            "metadata": {
                "collapsed": true
            }, 
            "source": "patch_payload = [\n  {\n    \"op\": \"replace\",\n    \"path\": \"/feedback_data_reference/source/tablename\",\n    \"value\": \"DRUG_FEEDBACK_DATA\"\n  }\n] ", 
            "outputs": [], 
            "execution_count": 33, 
            "cell_type": "code"
        }, 
        {
            "metadata": {}, 
            "source": "response_patch = requests.patch(endpoint_learning_configuration, json=patch_payload, headers=header_learning_configuration)\n\nprint(response_patch)", 
            "outputs": [
                {
                    "name": "stdout", 
                    "output_type": "stream", 
                    "text": "<Response [200]>\n"
                }
            ], 
            "execution_count": 34, 
            "cell_type": "code"
        }, 
        {
            "source": "<a id=\"performance\"></a>\n## 5. Track model performance", 
            "metadata": {}, 
            "cell_type": "markdown"
        }, 
        {
            "source": "To start iteration of learning system use below REST API method. Within iteration published model will be evaluated. If the evaluated accuracy is below specified threshold model retraining will be triggered. Both data sets: training and feedback are used for retraining and evaluation.", 
            "metadata": {}, 
            "cell_type": "markdown"
        }, 
        {
            "metadata": {}, 
            "source": "endpoint_learning_iteration =  \"{endpoint}/{model_id}/learning_iterations\".format(endpoint=endpoint_published_models, model_id=published_model_ID)\nresponse_learning_iteration = requests.post(endpoint_learning_iteration, json={}, headers=header_learning_configuration)\n\nprint(response_learning_iteration)", 
            "outputs": [
                {
                    "name": "stdout", 
                    "output_type": "stream", 
                    "text": "<Response [201]>\n"
                }
            ], 
            "execution_count": 35, 
            "cell_type": "code"
        }, 
        {
            "source": "**Tip**: This is asynchronous action. You can use below GET request to check the progress.", 
            "metadata": {}, 
            "cell_type": "markdown"
        }, 
        {
            "source": "**Tip:** You can find iteration url in location header using below code.", 
            "metadata": {}, 
            "cell_type": "markdown"
        }, 
        {
            "metadata": {}, 
            "source": "iteration_url = response_learning_iteration.headers.get('Location')\n\nprint(iteration_url)", 
            "outputs": [
                {
                    "name": "stdout", 
                    "output_type": "stream", 
                    "text": "https://ibm-watson-ml.mybluemix.net/v3/wml_instances/81eb122f-a170-4efd-86b6-4a8afa16d30b/published_models/9a627d32-8183-4ea1-911c-a716243fa44b/learning_iterations/c60f90bd-ccea-427b-a937-0e92abdc7290\n"
                }
            ], 
            "execution_count": 36, 
            "cell_type": "code"
        }, 
        {
            "source": "#### Get iterations details", 
            "metadata": {}, 
            "cell_type": "markdown"
        }, 
        {
            "source": "Using this GET request you can check the stage and status of the iteration. For example you can see: \n```\n\"stage\":\"PrepareEvaluationData\",\n\"status\":\"INITIALIZED\"\n```\nor\n```\n\"stage\":\"EvaluateModel\",\n\"status\":\"RUNNING\"\n```", 
            "metadata": {}, 
            "cell_type": "markdown"
        }, 
        {
            "source": "**You can use a while statement to check if iteration has completed**", 
            "metadata": {}, 
            "cell_type": "markdown"
        }, 
        {
            "metadata": {}, 
            "source": "import time\n\nresponse_iterations = requests.get(iteration_url, headers=header_learning_configuration)\nstatus = json.dumps(response_iterations.json()[\"entity\"][\"status\"], sort_keys=True, indent=2)\nstate = response_iterations.json()[\"entity\"][\"status\"][\"state\"]\n\nprint(status)\n\nwhile state not in [\"COMPLETED\", \"ERROR\"]:\n    time.sleep(4.0) \n    response_iterations = requests.get(iteration_url, headers=header_learning_configuration)\n    status = json.dumps(response_iterations.json()[\"entity\"][\"status\"], sort_keys=True, indent=2)\n    state = response_iterations.json()[\"entity\"][\"status\"][\"state\"]\n\n    print(status)    ", 
            "outputs": [
                {
                    "name": "stdout", 
                    "output_type": "stream", 
                    "text": "{\n  \"message\": \"New Version Not Deployed\", \n  \"result\": {\n    \"model_version_guid\": \"955f576d-8bbe-460d-85fb-47f341ba0301\", \n    \"model_version_url\": \"https://ibm-watson-ml.mybluemix.net/v2/artifacts/models/9a627d32-8183-4ea1-911c-a716243fa44b/versions/955f576d-8bbe-460d-85fb-47f341ba0301\"\n  }, \n  \"state\": \"COMPLETED\"\n}\n"
                }
            ], 
            "execution_count": 39, 
            "cell_type": "code"
        }, 
        {
            "source": "#### Get evaluation values", 
            "metadata": {}, 
            "cell_type": "markdown"
        }, 
        {
            "metadata": {}, 
            "source": "metrics_href = \"{endpoint}/{model_id}/evaluation_metrics\".format(endpoint=endpoint_published_models, model_id=published_model_ID)\nresponse_metrics = requests.get(metrics_href, headers=header_learning_configuration)\n\nprint json.dumps(response_metrics.json(), indent=2)", 
            "outputs": [
                {
                    "name": "stdout", 
                    "output_type": "stream", 
                    "text": "{\n  \"count\": 4, \n  \"resources\": [\n    {\n      \"phase\": \"setup\", \n      \"timestamp\": \"2017-11-02T10:00:50.740Z\", \n      \"values\": [\n        {\n          \"threshold\": 0.8, \n          \"name\": \"accuracy\", \n          \"value\": 0.8709677419354839\n        }\n      ], \n      \"model_version_url\": \"https://ibm-watson-ml.mybluemix.net/v2/artifacts/models/9a627d32-8183-4ea1-911c-a716243fa44b/versions/c2f32858-183f-4b74-a8c7-8c89fa2a1367\"\n    }, \n    {\n      \"phase\": \"monitoring\", \n      \"timestamp\": \"2017-11-02T10:02:23.943Z\", \n      \"values\": [\n        {\n          \"threshold\": 0.8, \n          \"name\": \"accuracy\", \n          \"value\": 0.7555555555555555\n        }\n      ], \n      \"model_version_url\": \"https://ibm-watson-ml.mybluemix.net/v2/artifacts/models/9a627d32-8183-4ea1-911c-a716243fa44b/versions/c2f32858-183f-4b74-a8c7-8c89fa2a1367\"\n    }, \n    {\n      \"phase\": \"setup\", \n      \"timestamp\": \"2017-11-02T10:02:30.699Z\", \n      \"values\": [\n        {\n          \"threshold\": 0.8, \n          \"name\": \"accuracy\", \n          \"value\": 0.8709677419354839\n        }\n      ], \n      \"model_version_url\": \"https://ibm-watson-ml.mybluemix.net/v2/artifacts/models/9a627d32-8183-4ea1-911c-a716243fa44b/versions/955f576d-8bbe-460d-85fb-47f341ba0301\"\n    }, \n    {\n      \"phase\": \"training\", \n      \"timestamp\": \"2017-11-02T10:02:52.791Z\", \n      \"values\": [\n        {\n          \"threshold\": 0.8, \n          \"name\": \"accuracy\", \n          \"value\": 0.9246903176203544\n        }\n      ], \n      \"model_version_url\": \"https://ibm-watson-ml.mybluemix.net/v2/artifacts/models/9a627d32-8183-4ea1-911c-a716243fa44b/versions/955f576d-8bbe-460d-85fb-47f341ba0301\"\n    }\n  ]\n}\n"
                }
            ], 
            "execution_count": 40, 
            "cell_type": "code"
        }, 
        {
            "source": "**Tip**: To see evaluation result you need to wait for iteration completion.", 
            "metadata": {}, 
            "cell_type": "markdown"
        }, 
        {
            "source": "**Action**: to display evaluation details in form of table you need to install ```tabulate``` package.", 
            "metadata": {}, 
            "cell_type": "markdown"
        }, 
        {
            "metadata": {}, 
            "source": "!pip install tabulate --user", 
            "outputs": [
                {
                    "name": "stdout", 
                    "output_type": "stream", 
                    "text": "Collecting tabulate\n  Downloading tabulate-0.8.1.tar.gz (45kB)\n\u001b[K    100% |\u2588\u2588\u2588\u2588\u2588\u2588\u2588\u2588\u2588\u2588\u2588\u2588\u2588\u2588\u2588\u2588\u2588\u2588\u2588\u2588\u2588\u2588\u2588\u2588\u2588\u2588\u2588\u2588\u2588\u2588\u2588\u2588| 51kB 2.2MB/s eta 0:00:01\n\u001b[?25hBuilding wheels for collected packages: tabulate\n  Running setup.py bdist_wheel for tabulate ... \u001b[?25ldone\n\u001b[?25h  Stored in directory: /gpfs/fs01/user/sec7-2ac43fd194bc9a-8ef090487f81/.cache/pip/wheels/58/89/d5/15530bd5cb3729e1da8e9a9eb03ea81de30f94e44545400917\nSuccessfully built tabulate\nInstalling collected packages: tabulate\nSuccessfully installed tabulate-0.8.1\n"
                }
            ], 
            "execution_count": 41, 
            "cell_type": "code"
        }, 
        {
            "metadata": {}, 
            "source": "from tabulate import tabulate\n\nmetrics = response_metrics.json()['resources']\nvalues = [(m[\"phase\"], m[\"timestamp\"][11:16], m[\"values\"][0][\"value\"], m[\"values\"][0][\"threshold\"], m[\"model_version_url\"][-36:-1]) for m in metrics]\n\nprint tabulate([[\"Phase\", \"Time\", \"Accuracy\", \"Threshold\", \"Version\"]] + values)", 
            "outputs": [
                {
                    "name": "stdout", 
                    "output_type": "stream", 
                    "text": "----------  -----  --------------  ---------  -----------------------------------\nPhase       Time   Accuracy        Threshold  Version\nsetup       10:00  0.870967741935  0.8        c2f32858-183f-4b74-a8c7-8c89fa2a136\nmonitoring  10:02  0.755555555556  0.8        c2f32858-183f-4b74-a8c7-8c89fa2a136\nsetup       10:02  0.870967741935  0.8        955f576d-8bbe-460d-85fb-47f341ba030\ntraining    10:02  0.92469031762   0.8        955f576d-8bbe-460d-85fb-47f341ba030\n----------  -----  --------------  ---------  -----------------------------------\n"
                }
            ], 
            "execution_count": 42, 
            "cell_type": "code"
        }, 
        {
            "source": "You can see that this iteration of continuous learning loop consists of the following phases:\n- monitoring - using feedback data published model quality was checked (evaluation). \n- training - since evaluation result (0.75) is below specified threshold (0.8) model retraining was triggered. Evaluation of retrained model shows accuracy at 0.92.", 
            "metadata": {}, 
            "cell_type": "markdown"
        }, 
        {
            "source": "**Tip**: If `auto_redeploy` option is set to conditionally the newly trained model will be redeployed since it shows better accuracy than original one.", 
            "metadata": {}, 
            "cell_type": "markdown"
        }, 
        {
            "source": "<a id=\"visualization\"></a>\n## 6. Visualization of model performance", 
            "metadata": {}, 
            "cell_type": "markdown"
        }, 
        {
            "source": "In this subsection you will visualize iteration results with Plotly, which is an online analytics and data visualization tool.", 
            "metadata": {}, 
            "cell_type": "markdown"
        }, 
        {
            "source": "**Example**:  First, you need to install required packages. You can do it by running the following code. Run it only one time.\n\n!pip install plotly --user\n\n!pip install cufflinks --user", 
            "metadata": {}, 
            "cell_type": "markdown"
        }, 
        {
            "source": "!pip install plotly --user \n!pip install cufflinks --user", 
            "metadata": {
                "collapsed": true
            }, 
            "cell_type": "raw"
        }, 
        {
            "source": "Import Plotly and other required packages.", 
            "metadata": {}, 
            "cell_type": "markdown"
        }, 
        {
            "metadata": {}, 
            "source": "import sys\nimport pandas\nimport plotly.plotly as py\nfrom plotly.offline import download_plotlyjs, init_notebook_mode, plot, iplot\nimport cufflinks as cf\nimport plotly.graph_objs as go\n\ninit_notebook_mode(connected=True)\nsys.path.append(\"\".join([os.environ[\"HOME\"]])) ", 
            "outputs": [
                {
                    "output_type": "display_data", 
                    "metadata": {}, 
                    "data": {
                        "text/vnd.plotly.v1+html": "<script>requirejs.config({paths: { 'plotly': ['https://cdn.plot.ly/plotly-latest.min']},});if(!window.Plotly) {{require(['plotly'],function(plotly) {window.Plotly=plotly;});}}</script>", 
                        "text/html": "<script>requirejs.config({paths: { 'plotly': ['https://cdn.plot.ly/plotly-latest.min']},});if(!window.Plotly) {{require(['plotly'],function(plotly) {window.Plotly=plotly;});}}</script>"
                    }
                }
            ], 
            "execution_count": 43, 
            "cell_type": "code"
        }, 
        {
            "source": "#### Prepare data for plotly", 
            "metadata": {}, 
            "cell_type": "markdown"
        }, 
        {
            "metadata": {
                "collapsed": true
            }, 
            "source": "phases = []\nevaluation_values = []\nthreshold_values = []\n\nfor i,x in enumerate(values):\n    phases.append(x[0] + '_' + str(i))\n    evaluation_values.append(x[2])\n    threshold_values.append(x[3])", 
            "outputs": [], 
            "execution_count": 44, 
            "cell_type": "code"
        }, 
        {
            "source": "#### Plot linear chart", 
            "metadata": {}, 
            "cell_type": "markdown"
        }, 
        {
            "metadata": {}, 
            "source": "trace1 = go.Scatter(\n    x = phases,\n    y = evaluation_values,\n    mode = 'lines+markers',\n    name = 'accuracy'\n)\n\ntrace2 = go.Scatter(\n    x = phases,\n    y = threshold_values,\n    mode = 'lines',\n    name = 'threshold'\n)\n\nlayout = dict(title = 'Model performance',\n              xaxis = dict(title = 'Phase'),\n              yaxis = dict(title = 'Evaluation result'),\n              )\n\nfig = dict(data=[trace1, trace2], layout=layout)\niplot(fig)", 
            "outputs": [
                {
                    "output_type": "display_data", 
                    "metadata": {}, 
                    "data": {
                        "text/vnd.plotly.v1+html": "<div id=\"e5fe78bb-2a68-4a38-aff0-d227272ceb81\" style=\"height: 525px; width: 100%;\" class=\"plotly-graph-div\"></div><script type=\"text/javascript\">require([\"plotly\"], function(Plotly) { window.PLOTLYENV=window.PLOTLYENV || {};window.PLOTLYENV.BASE_URL=\"https://plot.ly\";Plotly.newPlot(\"e5fe78bb-2a68-4a38-aff0-d227272ceb81\", [{\"y\": [0.8709677419354839, 0.7555555555555555, 0.8709677419354839, 0.9246903176203544], \"x\": [\"setup_0\", \"monitoring_1\", \"setup_2\", \"training_3\"], \"type\": \"scatter\", \"name\": \"accuracy\", \"mode\": \"lines+markers\"}, {\"y\": [0.8, 0.8, 0.8, 0.8], \"x\": [\"setup_0\", \"monitoring_1\", \"setup_2\", \"training_3\"], \"type\": \"scatter\", \"name\": \"threshold\", \"mode\": \"lines\"}], {\"title\": \"Model performance\", \"xaxis\": {\"title\": \"Phase\"}, \"yaxis\": {\"title\": \"Evaluation result\"}}, {\"linkText\": \"Export to plot.ly\", \"showLink\": true})});</script>", 
                        "application/vnd.plotly.v1+json": {
                            "data": [
                                {
                                    "x": [
                                        "setup_0", 
                                        "monitoring_1", 
                                        "setup_2", 
                                        "training_3"
                                    ], 
                                    "y": [
                                        0.8709677419354839, 
                                        0.7555555555555555, 
                                        0.8709677419354839, 
                                        0.9246903176203544
                                    ], 
                                    "name": "accuracy", 
                                    "mode": "lines+markers", 
                                    "type": "scatter"
                                }, 
                                {
                                    "x": [
                                        "setup_0", 
                                        "monitoring_1", 
                                        "setup_2", 
                                        "training_3"
                                    ], 
                                    "y": [
                                        0.8, 
                                        0.8, 
                                        0.8, 
                                        0.8
                                    ], 
                                    "name": "threshold", 
                                    "mode": "lines", 
                                    "type": "scatter"
                                }
                            ], 
                            "layout": {
                                "title": "Model performance", 
                                "yaxis": {
                                    "title": "Evaluation result"
                                }, 
                                "xaxis": {
                                    "title": "Phase"
                                }
                            }
                        }, 
                        "text/html": "<div id=\"e5fe78bb-2a68-4a38-aff0-d227272ceb81\" style=\"height: 525px; width: 100%;\" class=\"plotly-graph-div\"></div><script type=\"text/javascript\">require([\"plotly\"], function(Plotly) { window.PLOTLYENV=window.PLOTLYENV || {};window.PLOTLYENV.BASE_URL=\"https://plot.ly\";Plotly.newPlot(\"e5fe78bb-2a68-4a38-aff0-d227272ceb81\", [{\"y\": [0.8709677419354839, 0.7555555555555555, 0.8709677419354839, 0.9246903176203544], \"x\": [\"setup_0\", \"monitoring_1\", \"setup_2\", \"training_3\"], \"type\": \"scatter\", \"name\": \"accuracy\", \"mode\": \"lines+markers\"}, {\"y\": [0.8, 0.8, 0.8, 0.8], \"x\": [\"setup_0\", \"monitoring_1\", \"setup_2\", \"training_3\"], \"type\": \"scatter\", \"name\": \"threshold\", \"mode\": \"lines\"}], {\"title\": \"Model performance\", \"xaxis\": {\"title\": \"Phase\"}, \"yaxis\": {\"title\": \"Evaluation result\"}}, {\"linkText\": \"Export to plot.ly\", \"showLink\": true})});</script>"
                    }
                }
            ], 
            "execution_count": 45, 
            "cell_type": "code"
        }, 
        {
            "source": "Within single Continuous Learning System iteration we can notice two phases:\n* monitoring - in that phase initial model is evaluated using feedback data\n* training - in that phase model is retrained using combination of training and feedback data. Next, model is evaluated.\n<BR><BR>\nAfter retraining model accuracy increased to desired level (above specified threshold).", 
            "metadata": {}, 
            "cell_type": "markdown"
        }, 
        {
            "source": "<a id=\"feedback\"></a>\n## 7. Feedback records   ", 
            "metadata": {}, 
            "cell_type": "markdown"
        }, 
        {
            "source": "You can use feedback endpoint to send new records to feedback data store.", 
            "metadata": {}, 
            "cell_type": "markdown"
        }, 
        {
            "source": "Let's generate some records based on training data.", 
            "metadata": {}, 
            "cell_type": "markdown"
        }, 
        {
            "metadata": {
                "collapsed": true
            }, 
            "source": "from pyspark.sql.functions import UserDefinedFunction, col, column\nfrom pyspark.sql.types import IntegerType\n\ncol_name = 'AGE'\nudf_add = UserDefinedFunction(lambda x: x + 1, IntegerType())\nnew_records_df = train_data.select(*[udf_add(column).alias(col_name) if column == col_name else column for column in train_data.columns])\nnew_records_df = new_records_df.withColumn(\"K\", col(\"K\").cast(\"double\")).withColumn(\"NA\", col(\"NA\").cast(\"double\"))\nnew_records_pdf = new_records_df.toPandas()\n\nrecords=[]\n\nfor i in range(new_records_pdf.shape[0]):\n    records.append(list(new_records_pdf.loc[i].values))", 
            "outputs": [], 
            "execution_count": 46, 
            "cell_type": "code"
        }, 
        {
            "source": "In next step feedback payload is created.", 
            "metadata": {}, 
            "cell_type": "markdown"
        }, 
        {
            "metadata": {
                "collapsed": true
            }, 
            "source": "endpoint_feedback =  \"{endpoint}/{model_id}/feedback\".format(endpoint=endpoint_published_models, model_id=published_model_ID)\nfeedback_data = {\n  \"fields\": train_data.columns,\n  \"values\": records\n}", 
            "outputs": [], 
            "execution_count": 47, 
            "cell_type": "code"
        }, 
        {
            "source": "Using POST request add your records to feedback data store.", 
            "metadata": {}, 
            "cell_type": "markdown"
        }, 
        {
            "metadata": {}, 
            "source": "response_feedback = requests.post(endpoint_feedback, json=feedback_data, headers=header_learning_configuration)\n\nprint(response_feedback)", 
            "outputs": [
                {
                    "name": "stdout", 
                    "output_type": "stream", 
                    "text": "<Response [200]>\n"
                }
            ], 
            "execution_count": 288, 
            "cell_type": "code"
        }, 
        {
            "source": "**Tip:** Now, you can run another iteration of learning system using new feedback data.", 
            "metadata": {}, 
            "cell_type": "markdown"
        }, 
        {
            "source": "<a id=\"summary\"></a>\n## 8. Summary and next steps     ", 
            "metadata": {
                "collapsed": true
            }, 
            "cell_type": "markdown"
        }, 
        {
            "source": " You successfully completed this notebook! You learned how to use Continuous Learning System of Watson Machine Learning. Check out our _[Online Documentation](https://console.ng.bluemix.net/docs/services/PredictiveModeling/index.html)_ for more samples, tutorials, documentation, how-tos, and blog posts. ", 
            "metadata": {
                "collapsed": true
            }, 
            "cell_type": "markdown"
        }, 
        {
            "source": "### Authors\n\n**Lukasz Cmielowski**, PhD, is a Automation Architect and Data Scientist in IBM with a track record of developing enterprise-level applications that substantially increases clients' ability to turn data into actionable knowledge.", 
            "metadata": {}, 
            "cell_type": "markdown"
        }, 
        {
            "source": "Copyright \u00a9 2017 IBM. This notebook and its source code are released under the terms of the MIT License.", 
            "metadata": {}, 
            "cell_type": "markdown"
        }
    ]
}