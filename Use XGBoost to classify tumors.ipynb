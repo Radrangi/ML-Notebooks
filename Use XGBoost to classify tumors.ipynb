{
    "nbformat_minor": 2, 
    "cells": [
        {
            "source": "<div style=\"background:#F5F7FA; height:100px; padding: 2em; font-size:14px;\">\n<span style=\"font-size:18px;color:#152935;\">Want to do more?</span><span style=\"border: 1px solid #3d70b2;padding: 15px;float:right;margin-right:40px; color:#3d70b2; \"><a href=\"https://ibm.co/wsnotebooks\" target=\"_blank\" style=\"color: #3d70b2;text-decoration: none;\">Sign Up</a></span><br>\n<span style=\"color:#5A6872;\"> Try out this notebook with your free trial of IBM Watson Studio.</span>\n</div>", 
            "cell_type": "markdown", 
            "metadata": {}
        }, 
        {
            "source": "<table style=\"border: none\" align=\"left\">\n   <tr style=\"border: none\">\n      <th style=\"border: none\"><font face=\"verdana\" size=\"5\" color=\"black\"><b>Use XGBoost to classify tumors with IBM Watson Machine Learning</b></th>\n      <th style=\"border: none\"><img src=\"https://github.com/pmservice/customer-satisfaction-prediction/blob/master/app/static/images/ml_icon_gray.png?raw=true\" alt=\"Watson Machine Learning icon\" height=\"40\" width=\"40\"></th>\n   </tr>\n   <tr style=\"border: none\">\n       <th style=\"border: none\"><img src=\"https://raw.githubusercontent.com/pmservice/wml-sample-notebooks/master/images/cancer_banner-06.png\" alt=\"Icon\" width=\"700\"> </th>\n   </tr>\n</table>", 
            "cell_type": "markdown", 
            "metadata": {}
        }, 
        {
            "source": "This notebook contains steps and code to get data from the IBM Watson Studio Community, create a predictive model, and start scoring new data. This notebook introduces commands for getting data and for basic data cleaning and exploration, model training, model persistance to Watson Machine Learning repository, model deployment, and scoring.\n\nSome familiarity with Python is helpful. This notebook uses Python 3.5, XGBoost, and scikit-learn.\n\nYou will use a publicly available data set, the Breast Cancer Wisconsin (Diagnostic) Data Set, to train an XGBoost Model to classify breast cancer tumors (as benign or malignant) from 569 diagnostic images based on measurements such as radius, texture, perimeter and area. XGBoost is short for \u201cE**x**treme **G**radient **Boost**ing\u201d.\n\nThe XGBoost classifier makes its predictions based on the majority vote from collection of models which are a set of classification trees. It uses the combination of weak learners to create a single strong learner. It\u2019s a sequential training process, whereby new learners focus on the misclassified examples of previous learners.\n\n\n## Learning goals\n\nYou will learn how to:\n\n-  Load a CSV file into numpy array\n-  Explore data\n-  Prepare data for training and evaluation\n-  Create an XGBoost machine learning model\n-  Train and evaluate a model\n-  Use cross-validation to optimize model's hyperparameters\n-  Persist a model in Watson Machine Learning repository\n-  Deploy a model for online scoring\n-  Score sample data\n\n\n## Contents\n\nThis notebook contains the following parts:\n\n1.\t[Set up the environment](#setup)\n2.\t[Load and explore the data](#load)\n3.\t[Create the XGBoost model](#model)\n4.\t[Persist model](#persistence)\n5.\t[Deploy and score in a Cloud](#scoring)\n6.\t[Summary and next steps](#summary)", 
            "cell_type": "markdown", 
            "metadata": {}
        }, 
        {
            "source": "<a id=\"setup\"></a>\n## 1. Set up the environment\n\nBefore you use the sample code in this notebook, you have to perform the following setup tasks:\n\n- Create a [Watson Machine Learning (WML) Service](https://console.ng.bluemix.net/catalog/services/ibm-watson-machine-learning/) instance (a free plan is offered and information about how to create the instance is [here](https://dataplatform.ibm.com/docs/content/analyze-data/wml-setup.html))\n-  Download **Breast Cancer Wisconsin (Diagnostic) Data Set** dataset from Watson Studio [Community](https://dataplatform.ibm.com/community?context=analytics).\n\n**Note:** We provide the code to download data set, see [step 2](#load).", 
            "cell_type": "markdown", 
            "metadata": {}
        }, 
        {
            "source": "<a id=\"load\"></a>\n## 2. Load and explore the data", 
            "cell_type": "markdown", 
            "metadata": {}
        }, 
        {
            "source": "In this section you will load the data as a numpy array and perform a basic exploration.\n\nTo load the data as a numpy array, user `wget` to download the data, then use the `genfromtxt` method to read the data.", 
            "cell_type": "markdown", 
            "metadata": {}
        }, 
        {
            "source": "**Example**: First, you need to install the required packages. You can do this by running the following code. Run it only one time.<BR><BR>", 
            "cell_type": "markdown", 
            "metadata": {}
        }, 
        {
            "execution_count": null, 
            "cell_type": "code", 
            "metadata": {}, 
            "outputs": [], 
            "source": "!pip install wget --upgrade"
        }, 
        {
            "execution_count": 3, 
            "cell_type": "code", 
            "metadata": {}, 
            "outputs": [
                {
                    "output_type": "stream", 
                    "name": "stdout", 
                    "text": "BreastCancerWisconsinDataSet.csv\n"
                }
            ], 
            "source": "# Get the data.\nimport wget, os\n\nWisconsinDataSet = 'BreastCancerWisconsinDataSet.csv' \nif not os.path.isfile(WisconsinDataSet):\n    link_to_data = 'https://apsportal.ibm.com/exchange-api/v1/entries/c173693bf48aeb22e41bbe2b41d79c1f/data?accessKey=941eec501eadcdceb5abd25cf7c029d5'\n    WisconsinDataSet = wget.download(link_to_data)\n\nprint(WisconsinDataSet)"
        }, 
        {
            "source": "The csv file **BreastCancerWisconsinDataSet.csv** is downloaded. Run the code in the next cells to load the file to the numpy array.", 
            "cell_type": "markdown", 
            "metadata": {}
        }, 
        {
            "source": "**Note:** Update `numpy` to ensure you have the latest version.", 
            "cell_type": "markdown", 
            "metadata": {}
        }, 
        {
            "execution_count": 4, 
            "cell_type": "code", 
            "metadata": {}, 
            "outputs": [
                {
                    "output_type": "stream", 
                    "name": "stdout", 
                    "text": "Collecting numpy\n  Downloading numpy-1.14.2-cp35-cp35m-manylinux1_x86_64.whl (12.1MB)\n\u001b[K    100% |\u2588\u2588\u2588\u2588\u2588\u2588\u2588\u2588\u2588\u2588\u2588\u2588\u2588\u2588\u2588\u2588\u2588\u2588\u2588\u2588\u2588\u2588\u2588\u2588\u2588\u2588\u2588\u2588\u2588\u2588\u2588\u2588| 12.1MB 75kB/s  eta 0:00:01\n\u001b[?25hInstalling collected packages: numpy\n  Found existing installation: numpy 1.13.3\n    Uninstalling numpy-1.13.3:\n      Successfully uninstalled numpy-1.13.3\nSuccessfully installed numpy-1.14.2\n"
                }
            ], 
            "source": "# Run this code to upgrade numpy.\n!pip install numpy --upgrade"
        }, 
        {
            "execution_count": 5, 
            "cell_type": "code", 
            "metadata": {}, 
            "outputs": [
                {
                    "output_type": "stream", 
                    "name": "stdout", 
                    "text": "(842302, 'M', 17.99, 10.38, 122.8, 1001., 0.1184, 0.2776, 0.3001, 0.1471, 0.2419, 0.07871, 1.095, 0.9053, 8.589, 153.4, 0.006399, 0.04904, 0.05373, 0.01587, 0.03003, 0.006193, 25.38, 17.33, 184.6, 2019., 0.1622, 0.6656, 0.7119, 0.2654, 0.4601, 0.1189)\n"
                }
            ], 
            "source": "import numpy as np\n\nnp_data = np.genfromtxt(WisconsinDataSet, delimiter=',', names=True, dtype=None, encoding='utf-8')\nprint(np_data[0])"
        }, 
        {
            "source": "Run the code in the next cell to view the feature names and data storage types.", 
            "cell_type": "markdown", 
            "metadata": {}
        }, 
        {
            "execution_count": 6, 
            "cell_type": "code", 
            "metadata": {}, 
            "outputs": [
                {
                    "output_type": "stream", 
                    "name": "stdout", 
                    "text": "[('id', '<i8'), ('diagnosis', '<U1'), ('radius_mean', '<f8'), ('texture_mean', '<f8'), ('perimeter_mean', '<f8'), ('area_mean', '<f8'), ('smoothness_mean', '<f8'), ('compactness_mean', '<f8'), ('concavity_mean', '<f8'), ('concave_points_mean', '<f8'), ('symmetry_mean', '<f8'), ('fractal_dimension_mean', '<f8'), ('radius_se', '<f8'), ('texture_se', '<f8'), ('perimeter_se', '<f8'), ('area_se', '<f8'), ('smoothness_se', '<f8'), ('compactness_se', '<f8'), ('concavity_se', '<f8'), ('concave_points_se', '<f8'), ('symmetry_se', '<f8'), ('fractal_dimension_se', '<f8'), ('radius_worst', '<f8'), ('texture_worst', '<f8'), ('perimeter_worst', '<f8'), ('area_worst', '<f8'), ('smoothness_worst', '<f8'), ('compactness_worst', '<f8'), ('concavity_worst', '<f8'), ('concave_points_worst', '<f8'), ('symmetry_worst', '<f8'), ('fractal_dimension_worst', '<f8')]\n"
                }
            ], 
            "source": "# Display the feature names and data storage types.\nprint(np_data.dtype)"
        }, 
        {
            "execution_count": 7, 
            "cell_type": "code", 
            "metadata": {}, 
            "outputs": [
                {
                    "output_type": "stream", 
                    "name": "stdout", 
                    "text": "Number of rows: 569\nNumber of columns: 32\n"
                }
            ], 
            "source": "# Display the number of records and features.\nprint('Number of rows: {}'.format(np_data.size))\nprint('Number of columns: {}'.format(len(np_data[0])))"
        }, 
        {
            "source": "You can see that the data set has 569 records and 32 features.", 
            "cell_type": "markdown", 
            "metadata": {}
        }, 
        {
            "source": "<a id=\"model\"></a>\n## 3. Create an XGBoost model\n\nIn this section you will learn how to train and test an XGBoost model.\n\n- [3.1. Prepare the data](#prepare)\n- [3.2. Create the XGBoost model](#create)", 
            "cell_type": "markdown", 
            "metadata": {}
        }, 
        {
            "source": "### 3.1. Prepare data<a id=\"prepare\"></a>", 
            "cell_type": "markdown", 
            "metadata": {}
        }, 
        {
            "source": "Now, you can prepare your data for model building. You will use the `diagnosis` column as your target variable so you must remove it from the set of predictors. You must also remove the `id` variable.", 
            "cell_type": "markdown", 
            "metadata": {}
        }, 
        {
            "execution_count": 8, 
            "cell_type": "code", 
            "metadata": {}, 
            "outputs": [], 
            "source": "y = 1.0*(np_data['diagnosis'] == 'M')\nX = np.array([list(r)[2:] for r in np_data])"
        }, 
        {
            "source": "Split the data set into: \n- Train data set\n- Test data set", 
            "cell_type": "markdown", 
            "metadata": {}
        }, 
        {
            "execution_count": null, 
            "cell_type": "code", 
            "metadata": {}, 
            "outputs": [], 
            "source": "# Split the data set and create two data sets.\nfrom sklearn.cross_validation import train_test_split \n\nX_train, X_test, y_train, y_test = train_test_split(X, y, test_size=0.35, random_state=143)"
        }, 
        {
            "execution_count": 10, 
            "cell_type": "code", 
            "metadata": {}, 
            "outputs": [
                {
                    "output_type": "stream", 
                    "name": "stdout", 
                    "text": "Number of training records: 369\nNumber of testing records : 200\n"
                }
            ], 
            "source": "# List the number of records in each data set.\nprint(\"Number of training records: \" + str(X_train.shape[0]))\nprint(\"Number of testing records : \" + str(X_test.shape[0]))"
        }, 
        {
            "source": "The data has been successfully split into two data sets:\n- The train data set, which is the largest group, will be used for training\n- The test data set will be used for model evaluation and is used to test the assumptions of the model", 
            "cell_type": "markdown", 
            "metadata": {}
        }, 
        {
            "source": "### 3.2. Create the XGBoost model<a id=\"create\"></a>", 
            "cell_type": "markdown", 
            "metadata": {}
        }, 
        {
            "source": "Start by importing the necessary libraries.", 
            "cell_type": "markdown", 
            "metadata": {}
        }, 
        {
            "execution_count": 11, 
            "cell_type": "code", 
            "metadata": {}, 
            "outputs": [
                {
                    "output_type": "stream", 
                    "name": "stderr", 
                    "text": "/opt/conda/envs/DSX-Python35/lib/python3.5/site-packages/sklearn/grid_search.py:42: DeprecationWarning: This module was deprecated in version 0.18 in favor of the model_selection module into which all the refactored classes and functions are moved. This module will be removed in 0.20.\n  DeprecationWarning)\n"
                }
            ], 
            "source": "# Import the libraries you need to create the XGBoost model.\nfrom xgboost.sklearn import XGBClassifier\nfrom sklearn.grid_search import GridSearchCV\nfrom sklearn.metrics import accuracy_score"
        }, 
        {
            "source": "#### 3.2.1. Create an XGBoost classifier", 
            "cell_type": "markdown", 
            "metadata": {}
        }, 
        {
            "source": "In this section you create an XGBoost classifier with default hyperparameter values and you will call it *xgb_model*. \n\n**Note** The next sections show you how to improve this base model.", 
            "cell_type": "markdown", 
            "metadata": {}
        }, 
        {
            "execution_count": 12, 
            "cell_type": "code", 
            "metadata": {}, 
            "outputs": [], 
            "source": "# Create the XGB classifier, xgb_model.\nxgb_model = XGBClassifier()"
        }, 
        {
            "source": "Display the default parameters for *xgb_model*.", 
            "cell_type": "markdown", 
            "metadata": {}
        }, 
        {
            "execution_count": 13, 
            "cell_type": "code", 
            "metadata": {}, 
            "outputs": [
                {
                    "output_type": "stream", 
                    "name": "stdout", 
                    "text": "{'learning_rate': 0.1, 'min_child_weight': 1, 'silent': 1, 'reg_lambda': 1, 'seed': 0, 'subsample': 1, 'scale_pos_weight': 1, 'n_estimators': 100, 'base_score': 0.5, 'reg_alpha': 0, 'missing': None, 'max_delta_step': 0, 'gamma': 0, 'colsample_bylevel': 1, 'objective': 'binary:logistic', 'colsample_bytree': 1, 'max_depth': 3}\n"
                }
            ], 
            "source": "# List the default parameters.\nprint(xgb_model.get_xgb_params())"
        }, 
        {
            "source": "Now that your XGBoost classifier, *xgb_model*, is set up, you can train it by invoking the fit method. You will also evaluate *xgb_model* while the train and test data are being trained.", 
            "cell_type": "markdown", 
            "metadata": {}
        }, 
        {
            "execution_count": 14, 
            "cell_type": "code", 
            "metadata": {
                "scrolled": false
            }, 
            "outputs": [
                {
                    "output_type": "stream", 
                    "name": "stdout", 
                    "text": "[0]\tvalidation_0-error:0.02168\tvalidation_1-error:0.05\n[1]\tvalidation_0-error:0.01897\tvalidation_1-error:0.05\n[2]\tvalidation_0-error:0.01897\tvalidation_1-error:0.05\n[3]\tvalidation_0-error:0.01897\tvalidation_1-error:0.05\n[4]\tvalidation_0-error:0.01897\tvalidation_1-error:0.05\n[5]\tvalidation_0-error:0.01897\tvalidation_1-error:0.05\n[6]\tvalidation_0-error:0.01897\tvalidation_1-error:0.05\n[7]\tvalidation_0-error:0.01626\tvalidation_1-error:0.05\n[8]\tvalidation_0-error:0.01355\tvalidation_1-error:0.05\n[9]\tvalidation_0-error:0.01084\tvalidation_1-error:0.05\n[10]\tvalidation_0-error:0.01084\tvalidation_1-error:0.05\n[11]\tvalidation_0-error:0.01084\tvalidation_1-error:0.05\n[12]\tvalidation_0-error:0.01084\tvalidation_1-error:0.05\n[13]\tvalidation_0-error:0.01084\tvalidation_1-error:0.05\n[14]\tvalidation_0-error:0.01084\tvalidation_1-error:0.05\n[15]\tvalidation_0-error:0.00813\tvalidation_1-error:0.05\n[16]\tvalidation_0-error:0.01084\tvalidation_1-error:0.05\n[17]\tvalidation_0-error:0.01084\tvalidation_1-error:0.04\n[18]\tvalidation_0-error:0.00813\tvalidation_1-error:0.04\n[19]\tvalidation_0-error:0.00813\tvalidation_1-error:0.04\n[20]\tvalidation_0-error:0.00813\tvalidation_1-error:0.04\n[21]\tvalidation_0-error:0.00813\tvalidation_1-error:0.04\n[22]\tvalidation_0-error:0.00813\tvalidation_1-error:0.04\n[23]\tvalidation_0-error:0.00813\tvalidation_1-error:0.04\n[24]\tvalidation_0-error:0.00542\tvalidation_1-error:0.04\n[25]\tvalidation_0-error:0.00542\tvalidation_1-error:0.04\n[26]\tvalidation_0-error:0.00542\tvalidation_1-error:0.04\n[27]\tvalidation_0-error:0.00813\tvalidation_1-error:0.04\n[28]\tvalidation_0-error:0.00542\tvalidation_1-error:0.04\n[29]\tvalidation_0-error:0.00542\tvalidation_1-error:0.04\n[30]\tvalidation_0-error:0.00542\tvalidation_1-error:0.04\n[31]\tvalidation_0-error:0.00542\tvalidation_1-error:0.04\n[32]\tvalidation_0-error:0.00542\tvalidation_1-error:0.04\n[33]\tvalidation_0-error:0.00542\tvalidation_1-error:0.04\n[34]\tvalidation_0-error:0.00542\tvalidation_1-error:0.04\n[35]\tvalidation_0-error:0.00542\tvalidation_1-error:0.045\n[36]\tvalidation_0-error:0.00542\tvalidation_1-error:0.045\n[37]\tvalidation_0-error:0.00542\tvalidation_1-error:0.045\n[38]\tvalidation_0-error:0.00542\tvalidation_1-error:0.045\n[39]\tvalidation_0-error:0.00542\tvalidation_1-error:0.045\n[40]\tvalidation_0-error:0.00542\tvalidation_1-error:0.04\n[41]\tvalidation_0-error:0.00542\tvalidation_1-error:0.045\n[42]\tvalidation_0-error:0.00542\tvalidation_1-error:0.04\n[43]\tvalidation_0-error:0.00542\tvalidation_1-error:0.04\n[44]\tvalidation_0-error:0.00542\tvalidation_1-error:0.04\n[45]\tvalidation_0-error:0.00542\tvalidation_1-error:0.04\n[46]\tvalidation_0-error:0.00542\tvalidation_1-error:0.04\n[47]\tvalidation_0-error:0.00542\tvalidation_1-error:0.04\n[48]\tvalidation_0-error:0.00542\tvalidation_1-error:0.04\n[49]\tvalidation_0-error:0.00542\tvalidation_1-error:0.04\n[50]\tvalidation_0-error:0.00542\tvalidation_1-error:0.04\n[51]\tvalidation_0-error:0.00542\tvalidation_1-error:0.04\n[52]\tvalidation_0-error:0.00542\tvalidation_1-error:0.04\n[53]\tvalidation_0-error:0.00542\tvalidation_1-error:0.04\n[54]\tvalidation_0-error:0.00542\tvalidation_1-error:0.04\n[55]\tvalidation_0-error:0.00542\tvalidation_1-error:0.045\n[56]\tvalidation_0-error:0.00271\tvalidation_1-error:0.04\n[57]\tvalidation_0-error:0.00271\tvalidation_1-error:0.04\n[58]\tvalidation_0-error:0.00271\tvalidation_1-error:0.045\n[59]\tvalidation_0-error:0.00271\tvalidation_1-error:0.045\n[60]\tvalidation_0-error:0.00271\tvalidation_1-error:0.05\n[61]\tvalidation_0-error:0.00271\tvalidation_1-error:0.045\n[62]\tvalidation_0-error:0.00271\tvalidation_1-error:0.045\n[63]\tvalidation_0-error:0.00271\tvalidation_1-error:0.05\n[64]\tvalidation_0-error:0\tvalidation_1-error:0.05\n[65]\tvalidation_0-error:0\tvalidation_1-error:0.05\n[66]\tvalidation_0-error:0\tvalidation_1-error:0.05\n[67]\tvalidation_0-error:0\tvalidation_1-error:0.05\n[68]\tvalidation_0-error:0\tvalidation_1-error:0.05\n[69]\tvalidation_0-error:0\tvalidation_1-error:0.05\n[70]\tvalidation_0-error:0\tvalidation_1-error:0.05\n[71]\tvalidation_0-error:0\tvalidation_1-error:0.05\n[72]\tvalidation_0-error:0\tvalidation_1-error:0.05\n[73]\tvalidation_0-error:0\tvalidation_1-error:0.05\n[74]\tvalidation_0-error:0\tvalidation_1-error:0.05\n[75]\tvalidation_0-error:0\tvalidation_1-error:0.05\n[76]\tvalidation_0-error:0\tvalidation_1-error:0.05\n[77]\tvalidation_0-error:0\tvalidation_1-error:0.05\n[78]\tvalidation_0-error:0\tvalidation_1-error:0.05\n[79]\tvalidation_0-error:0\tvalidation_1-error:0.05\n[80]\tvalidation_0-error:0\tvalidation_1-error:0.05\n[81]\tvalidation_0-error:0\tvalidation_1-error:0.05\n[82]\tvalidation_0-error:0\tvalidation_1-error:0.05\n[83]\tvalidation_0-error:0\tvalidation_1-error:0.05\n[84]\tvalidation_0-error:0\tvalidation_1-error:0.05\n[85]\tvalidation_0-error:0\tvalidation_1-error:0.05\n[86]\tvalidation_0-error:0\tvalidation_1-error:0.05\n[87]\tvalidation_0-error:0\tvalidation_1-error:0.05\n[88]\tvalidation_0-error:0\tvalidation_1-error:0.055\n[89]\tvalidation_0-error:0\tvalidation_1-error:0.055\n[90]\tvalidation_0-error:0\tvalidation_1-error:0.05\n[91]\tvalidation_0-error:0\tvalidation_1-error:0.055\n[92]\tvalidation_0-error:0\tvalidation_1-error:0.055\n[93]\tvalidation_0-error:0\tvalidation_1-error:0.055\n[94]\tvalidation_0-error:0\tvalidation_1-error:0.055\n[95]\tvalidation_0-error:0\tvalidation_1-error:0.055\n[96]\tvalidation_0-error:0\tvalidation_1-error:0.055\n[97]\tvalidation_0-error:0\tvalidation_1-error:0.055\n[98]\tvalidation_0-error:0\tvalidation_1-error:0.055\n[99]\tvalidation_0-error:0\tvalidation_1-error:0.055\n"
                }, 
                {
                    "execution_count": 14, 
                    "metadata": {}, 
                    "data": {
                        "text/plain": "XGBClassifier(base_score=0.5, colsample_bylevel=1, colsample_bytree=1,\n       gamma=0, learning_rate=0.1, max_delta_step=0, max_depth=3,\n       min_child_weight=1, missing=None, n_estimators=100, nthread=-1,\n       objective='binary:logistic', reg_alpha=0, reg_lambda=1,\n       scale_pos_weight=1, seed=0, silent=True, subsample=1)"
                    }, 
                    "output_type": "execute_result"
                }
            ], 
            "source": "# Train and evaluate.\nxgb_model.fit(X_train, y_train, eval_metric=['error'], eval_set=[((X_train, y_train)),(X_test, y_test)])"
        }, 
        {
            "source": "**Note:** You can also use a pandas dataFrame instead of the numpy array.", 
            "cell_type": "markdown", 
            "metadata": {}
        }, 
        {
            "source": "Plot the model performance evaluated during the training process to assess model overfitting.", 
            "cell_type": "markdown", 
            "metadata": {}
        }, 
        {
            "execution_count": 15, 
            "cell_type": "code", 
            "metadata": {}, 
            "outputs": [], 
            "source": "# Import the library\nfrom matplotlib import pyplot\n\n%matplotlib inline"
        }, 
        {
            "execution_count": 16, 
            "cell_type": "code", 
            "metadata": {}, 
            "outputs": [
                {
                    "execution_count": 16, 
                    "metadata": {}, 
                    "data": {
                        "text/plain": "Text(0.5,0,'Number of iterations')"
                    }, 
                    "output_type": "execute_result"
                }, 
                {
                    "output_type": "display_data", 
                    "data": {
                        "image/png": "[encoded data removed]", 
                        "text/plain": "<matplotlib.figure.Figure at 0x2af3dcf932e8>"
                    }, 
                    "metadata": {}
                }
            ], 
            "source": "# Plot and display the performance evaluation\nxgb_eval = xgb_model.evals_result()\neval_steps = range(len(xgb_eval['validation_0']['error']))\n\nfig, ax = pyplot.subplots(1, 1, sharex=True, figsize=(8, 6))\n\nax.plot(eval_steps, [1-x for x in xgb_eval['validation_0']['error']], label='Train')\nax.plot(eval_steps, [1-x for x in xgb_eval['validation_1']['error']], label='Test')\nax.legend()\nax.set_title('Accuracy')\nax.set_xlabel('Number of iterations')"
        }, 
        {
            "source": "You can see that there is model overfitting, and there is a decrease in model accuracy after about 60 iterations \n\nSelect the trained model obtained after 30 iterations.", 
            "cell_type": "markdown", 
            "metadata": {}
        }, 
        {
            "execution_count": 17, 
            "cell_type": "code", 
            "metadata": {}, 
            "outputs": [
                {
                    "output_type": "stream", 
                    "name": "stderr", 
                    "text": "/opt/conda/envs/DSX-Python35/lib/python3.5/site-packages/sklearn/preprocessing/label.py:151: DeprecationWarning: The truth value of an empty array is ambiguous. Returning False, but in future this will result in an error. Use `array.size > 0` to check that an array is not empty.\n  if diff:\n"
                }
            ], 
            "source": "# Select trained model.\nn_trees = 30\ny_pred = xgb_model.predict(X_test, ntree_limit= n_trees)"
        }, 
        {
            "execution_count": 18, 
            "cell_type": "code", 
            "metadata": {}, 
            "outputs": [
                {
                    "output_type": "stream", 
                    "name": "stdout", 
                    "text": "Accuracy: 96.0%\n"
                }
            ], 
            "source": "# Check the accuracy of the trained model.\naccuracy = accuracy_score(y_test, y_pred)\n\nprint(\"Accuracy: %.1f%%\" % (accuracy * 100.0))"
        }, 
        {
            "source": "**Note:** You will use the accuracy value obtained on the test data to compare the accuracy of the model with default parameters to the accuracy of the model with tuned parameters.", 
            "cell_type": "markdown", 
            "metadata": {}
        }, 
        {
            "source": "#### 3.2.2. Use grid search and cross-validation to tune the model ", 
            "cell_type": "markdown", 
            "metadata": {}
        }, 
        {
            "source": "You can use grid search and cross-validation to tune your model to achieve better accuracy.\n\nXGBoost has an extensive catalog of hyperparameters which provides great flexibility to shape an algorithm\u2019s desired behavior. Here you will the optimize the model tuning which adds an L1 penalty (`reg_alpha`).\n\nUse a 5-fold cross-validation because your training data set is small.", 
            "cell_type": "markdown", 
            "metadata": {}
        }, 
        {
            "source": "In the cell below, create the XGBoost pipeline and set up the parameter grid for the search.", 
            "cell_type": "markdown", 
            "metadata": {}
        }, 
        {
            "execution_count": 19, 
            "cell_type": "code", 
            "metadata": {}, 
            "outputs": [], 
            "source": "# Create XGBoost pipeline, set up parameter grid.\nxgb_model_gs = XGBClassifier()\nparameters = {'reg_alpha': [0.0, 1.0], 'reg_lambda': [0.0, 1.0], 'n_estimators': [n_trees], 'seed': [1337]}"
        }, 
        {
            "source": "Use ``GridSearchCV`` to search for the best parameters over the parameters values that were specified in the previous section.", 
            "cell_type": "markdown", 
            "metadata": {}
        }, 
        {
            "execution_count": 21, 
            "cell_type": "code", 
            "metadata": {}, 
            "outputs": [
                {
                    "output_type": "stream", 
                    "name": "stdout", 
                    "text": "Fitting 5 folds for each of 4 candidates, totalling 20 fits\n"
                }, 
                {
                    "output_type": "stream", 
                    "name": "stderr", 
                    "text": "/opt/conda/envs/DSX-Python35/lib/python3.5/site-packages/sklearn/preprocessing/label.py:151: DeprecationWarning: The truth value of an empty array is ambiguous. Returning False, but in future this will result in an error. Use `array.size > 0` to check that an array is not empty.\n  if diff:\n/opt/conda/envs/DSX-Python35/lib/python3.5/site-packages/sklearn/preprocessing/label.py:151: DeprecationWarning: The truth value of an empty array is ambiguous. Returning False, but in future this will result in an error. Use `array.size > 0` to check that an array is not empty.\n  if diff:\n/opt/conda/envs/DSX-Python35/lib/python3.5/site-packages/sklearn/preprocessing/label.py:151: DeprecationWarning: The truth value of an empty array is ambiguous. Returning False, but in future this will result in an error. Use `array.size > 0` to check that an array is not empty.\n  if diff:\n/opt/conda/envs/DSX-Python35/lib/python3.5/site-packages/sklearn/preprocessing/label.py:151: DeprecationWarning: The truth value of an empty array is ambiguous. Returning False, but in future this will result in an error. Use `array.size > 0` to check that an array is not empty.\n  if diff:\n/opt/conda/envs/DSX-Python35/lib/python3.5/site-packages/sklearn/preprocessing/label.py:151: DeprecationWarning: The truth value of an empty array is ambiguous. Returning False, but in future this will result in an error. Use `array.size > 0` to check that an array is not empty.\n  if diff:\n/opt/conda/envs/DSX-Python35/lib/python3.5/site-packages/sklearn/preprocessing/label.py:151: DeprecationWarning: The truth value of an empty array is ambiguous. Returning False, but in future this will result in an error. Use `array.size > 0` to check that an array is not empty.\n  if diff:\n/opt/conda/envs/DSX-Python35/lib/python3.5/site-packages/sklearn/preprocessing/label.py:151: DeprecationWarning: The truth value of an empty array is ambiguous. Returning False, but in future this will result in an error. Use `array.size > 0` to check that an array is not empty.\n  if diff:\n/opt/conda/envs/DSX-Python35/lib/python3.5/site-packages/sklearn/preprocessing/label.py:151: DeprecationWarning: The truth value of an empty array is ambiguous. Returning False, but in future this will result in an error. Use `array.size > 0` to check that an array is not empty.\n  if diff:\n/opt/conda/envs/DSX-Python35/lib/python3.5/site-packages/sklearn/preprocessing/label.py:151: DeprecationWarning: The truth value of an empty array is ambiguous. Returning False, but in future this will result in an error. Use `array.size > 0` to check that an array is not empty.\n  if diff:\n/opt/conda/envs/DSX-Python35/lib/python3.5/site-packages/sklearn/preprocessing/label.py:151: DeprecationWarning: The truth value of an empty array is ambiguous. Returning False, but in future this will result in an error. Use `array.size > 0` to check that an array is not empty.\n  if diff:\n/opt/conda/envs/DSX-Python35/lib/python3.5/site-packages/sklearn/preprocessing/label.py:151: DeprecationWarning: The truth value of an empty array is ambiguous. Returning False, but in future this will result in an error. Use `array.size > 0` to check that an array is not empty.\n  if diff:\n/opt/conda/envs/DSX-Python35/lib/python3.5/site-packages/sklearn/preprocessing/label.py:151: DeprecationWarning: The truth value of an empty array is ambiguous. Returning False, but in future this will result in an error. Use `array.size > 0` to check that an array is not empty.\n  if diff:\n/opt/conda/envs/DSX-Python35/lib/python3.5/site-packages/sklearn/preprocessing/label.py:151: DeprecationWarning: The truth value of an empty array is ambiguous. Returning False, but in future this will result in an error. Use `array.size > 0` to check that an array is not empty.\n  if diff:\n/opt/conda/envs/DSX-Python35/lib/python3.5/site-packages/sklearn/preprocessing/label.py:151: DeprecationWarning: The truth value of an empty array is ambiguous. Returning False, but in future this will result in an error. Use `array.size > 0` to check that an array is not empty.\n  if diff:\n/opt/conda/envs/DSX-Python35/lib/python3.5/site-packages/sklearn/preprocessing/label.py:151: DeprecationWarning: The truth value of an empty array is ambiguous. Returning False, but in future this will result in an error. Use `array.size > 0` to check that an array is not empty.\n  if diff:\n/opt/conda/envs/DSX-Python35/lib/python3.5/site-packages/sklearn/preprocessing/label.py:151: DeprecationWarning: The truth value of an empty array is ambiguous. Returning False, but in future this will result in an error. Use `array.size > 0` to check that an array is not empty.\n  if diff:\n/opt/conda/envs/DSX-Python35/lib/python3.5/site-packages/sklearn/preprocessing/label.py:151: DeprecationWarning: The truth value of an empty array is ambiguous. Returning False, but in future this will result in an error. Use `array.size > 0` to check that an array is not empty.\n  if diff:\n/opt/conda/envs/DSX-Python35/lib/python3.5/site-packages/sklearn/preprocessing/label.py:151: DeprecationWarning: The truth value of an empty array is ambiguous. Returning False, but in future this will result in an error. Use `array.size > 0` to check that an array is not empty.\n  if diff:\n/opt/conda/envs/DSX-Python35/lib/python3.5/site-packages/sklearn/preprocessing/label.py:151: DeprecationWarning: The truth value of an empty array is ambiguous. Returning False, but in future this will result in an error. Use `array.size > 0` to check that an array is not empty.\n  if diff:\n/opt/conda/envs/DSX-Python35/lib/python3.5/site-packages/sklearn/preprocessing/label.py:151: DeprecationWarning: The truth value of an empty array is ambiguous. Returning False, but in future this will result in an error. Use `array.size > 0` to check that an array is not empty.\n  if diff:\n[Parallel(n_jobs=1)]: Done  20 out of  20 | elapsed: 15.9min finished\n"
                }, 
                {
                    "execution_count": 21, 
                    "metadata": {}, 
                    "data": {
                        "text/plain": "GridSearchCV(cv=5, error_score='raise',\n       estimator=XGBClassifier(base_score=0.5, colsample_bylevel=1, colsample_bytree=1,\n       gamma=0, learning_rate=0.1, max_delta_step=0, max_depth=3,\n       min_child_weight=1, missing=None, n_estimators=100, nthread=-1,\n       objective='binary:logistic', reg_alpha=0, reg_lambda=1,\n       scale_pos_weight=1, seed=0, silent=True, subsample=1),\n       fit_params={}, iid=True, n_jobs=1,\n       param_grid={'reg_alpha': [0.0, 1.0], 'reg_lambda': [0.0, 1.0], 'n_estimators': [30], 'seed': [1337]},\n       pre_dispatch='2*n_jobs', refit=True, scoring='accuracy', verbose=1)"
                    }, 
                    "output_type": "execute_result"
                }
            ], 
            "source": "# Search for the best parameters.\nclf = GridSearchCV(xgb_model_gs, parameters, scoring='accuracy', cv=5, verbose=1, n_jobs=-1, refit=True)\nclf.fit(X_train, y_train)"
        }, 
        {
            "source": "From the grid scores, you can see the performance result of all parameter combinations including the best parameter combination based on model performance.", 
            "cell_type": "markdown", 
            "metadata": {}
        }, 
        {
            "execution_count": 22, 
            "cell_type": "code", 
            "metadata": {}, 
            "outputs": [
                {
                    "execution_count": 22, 
                    "metadata": {}, 
                    "data": {
                        "text/plain": "[mean: 0.94580, std: 0.01698, params: {'n_estimators': 30, 'reg_alpha': 0.0, 'reg_lambda': 0.0, 'seed': 1337},\n mean: 0.94851, std: 0.02311, params: {'n_estimators': 30, 'reg_alpha': 0.0, 'reg_lambda': 1.0, 'seed': 1337},\n mean: 0.95122, std: 0.02637, params: {'n_estimators': 30, 'reg_alpha': 1.0, 'reg_lambda': 0.0, 'seed': 1337},\n mean: 0.95122, std: 0.02637, params: {'n_estimators': 30, 'reg_alpha': 1.0, 'reg_lambda': 1.0, 'seed': 1337}]"
                    }, 
                    "output_type": "execute_result"
                }
            ], 
            "source": "# View the performance result.\nclf.grid_scores_"
        }, 
        {
            "source": "Display the accuracy estimated using cross-validation and the hyperparameter values for the best model.", 
            "cell_type": "markdown", 
            "metadata": {}
        }, 
        {
            "execution_count": 23, 
            "cell_type": "code", 
            "metadata": {
                "scrolled": true
            }, 
            "outputs": [
                {
                    "output_type": "stream", 
                    "name": "stdout", 
                    "text": "Best score: 95.1%\nBest parameter set: {'n_estimators': 30, 'reg_alpha': 1.0, 'reg_lambda': 0.0, 'seed': 1337}\n"
                }
            ], 
            "source": "print(\"Best score: %.1f%%\" % (clf.best_score_*100))\nprint(\"Best parameter set: %s\" % (clf.best_params_))"
        }, 
        {
            "source": "Display the accuracy of best parameter combination on the test set.", 
            "cell_type": "markdown", 
            "metadata": {}
        }, 
        {
            "execution_count": 24, 
            "cell_type": "code", 
            "metadata": {}, 
            "outputs": [
                {
                    "output_type": "stream", 
                    "name": "stdout", 
                    "text": "Accuracy: 96.0%\n"
                }, 
                {
                    "output_type": "stream", 
                    "name": "stderr", 
                    "text": "/opt/conda/envs/DSX-Python35/lib/python3.5/site-packages/sklearn/preprocessing/label.py:151: DeprecationWarning: The truth value of an empty array is ambiguous. Returning False, but in future this will result in an error. Use `array.size > 0` to check that an array is not empty.\n  if diff:\n"
                }
            ], 
            "source": "y_pred = clf.best_estimator_.predict(X_test, ntree_limit= n_trees)\n\naccuracy = accuracy_score(y_test, y_pred)\nprint(\"Accuracy: %.1f%%\" % (accuracy * 100.0))"
        }, 
        {
            "source": "The accuracy on test set is about the same for tuned model as it is for the trained model that has default hyperparameters values, even though the selected hyperparameters are different to the default parameters.", 
            "cell_type": "markdown", 
            "metadata": {}
        }, 
        {
            "source": "#### 3.2.3. Model with pipeline data preprocessing", 
            "cell_type": "markdown", 
            "metadata": {}
        }, 
        {
            "source": "Here you learn how to use the XGBoost model within the scikit-learn pipeline. \n\nLet's start by importing the required objects.", 
            "cell_type": "markdown", 
            "metadata": {}
        }, 
        {
            "execution_count": 25, 
            "cell_type": "code", 
            "metadata": {}, 
            "outputs": [], 
            "source": "from sklearn.pipeline import Pipeline\nfrom sklearn.decomposition import PCA"
        }, 
        {
            "execution_count": 26, 
            "cell_type": "code", 
            "metadata": {}, 
            "outputs": [], 
            "source": "pca = PCA(n_components=10)\nxgb_model_pca = XGBClassifier(n_estimators=n_trees)\npipeline = Pipeline(steps=[('pca', pca), ('xgb', xgb_model_pca)])"
        }, 
        {
            "execution_count": 27, 
            "cell_type": "code", 
            "metadata": {}, 
            "outputs": [
                {
                    "execution_count": 27, 
                    "metadata": {}, 
                    "data": {
                        "text/plain": "Pipeline(memory=None,\n     steps=[('pca', PCA(copy=True, iterated_power='auto', n_components=10, random_state=None,\n  svd_solver='auto', tol=0.0, whiten=False)), ('xgb', XGBClassifier(base_score=0.5, colsample_bylevel=1, colsample_bytree=1,\n       gamma=0, learning_rate=0.1, max_delta_step=0, max_depth=3,\n       min_child_weight=1, missing=None, n_estimators=30, nthread=-1,\n       objective='binary:logistic', reg_alpha=0, reg_lambda=1,\n       scale_pos_weight=1, seed=0, silent=True, subsample=1))])"
                    }, 
                    "output_type": "execute_result"
                }
            ], 
            "source": "pipeline.fit(X_train, y_train)"
        }, 
        {
            "source": "Now you are ready to evaluate accuracy of the model trained on the reduced set of features.", 
            "cell_type": "markdown", 
            "metadata": {}
        }, 
        {
            "execution_count": 28, 
            "cell_type": "code", 
            "metadata": {}, 
            "outputs": [
                {
                    "output_type": "stream", 
                    "name": "stdout", 
                    "text": "Accuracy: 95.5%\n"
                }, 
                {
                    "output_type": "stream", 
                    "name": "stderr", 
                    "text": "/opt/conda/envs/DSX-Python35/lib/python3.5/site-packages/sklearn/preprocessing/label.py:151: DeprecationWarning: The truth value of an empty array is ambiguous. Returning False, but in future this will result in an error. Use `array.size > 0` to check that an array is not empty.\n  if diff:\n"
                }
            ], 
            "source": "y_pred = pipeline.predict(X_test)\naccuracy = accuracy_score(y_test, y_pred)\nprint(\"Accuracy: %.1f%%\" % (accuracy * 100.0))"
        }, 
        {
            "source": "You can see that this model has a similar accuracy to the model trained using default hyperparameter values.", 
            "cell_type": "markdown", 
            "metadata": {}
        }, 
        {
            "source": "Let's see how you can save your XGBoost pipeline using the WML service instance and deploy it for online scoring.", 
            "cell_type": "markdown", 
            "metadata": {}
        }, 
        {
            "source": "<a id=\"persistence\"></a>\n## 4. Persist model", 
            "cell_type": "markdown", 
            "metadata": {}
        }, 
        {
            "source": "In this section you learn how to use the Python client libraries to store your XGBoost model in the WML repository.\n\nFirst, you must import client libraries.", 
            "cell_type": "markdown", 
            "metadata": {}
        }, 
        {
            "execution_count": 29, 
            "cell_type": "code", 
            "metadata": {}, 
            "outputs": [], 
            "source": "!rm -rf $PIP_BUILD/watson-machine-learning-client"
        }, 
        {
            "execution_count": 30, 
            "cell_type": "code", 
            "metadata": {}, 
            "outputs": [
                {
                    "output_type": "stream", 
                    "name": "stdout", 
                    "text": "Collecting watson-machine-learning-client\n  Downloading watson_machine_learning_client-1.0.53-py3-none-any.whl (561kB)\n\u001b[K    100% |\u2588\u2588\u2588\u2588\u2588\u2588\u2588\u2588\u2588\u2588\u2588\u2588\u2588\u2588\u2588\u2588\u2588\u2588\u2588\u2588\u2588\u2588\u2588\u2588\u2588\u2588\u2588\u2588\u2588\u2588\u2588\u2588| 563kB 1.7MB/s eta 0:00:01\n\u001b[?25hRequirement not upgraded as not directly required: requests in /opt/conda/envs/DSX-Python35/lib/python3.5/site-packages (from watson-machine-learning-client)\nRequirement not upgraded as not directly required: tabulate in /opt/conda/envs/DSX-Python35/lib/python3.5/site-packages (from watson-machine-learning-client)\nRequirement not upgraded as not directly required: lomond in /opt/conda/envs/DSX-Python35/lib/python3.5/site-packages (from watson-machine-learning-client)\nRequirement not upgraded as not directly required: pandas in /opt/conda/envs/DSX-Python35/lib/python3.5/site-packages (from watson-machine-learning-client)\nRequirement not upgraded as not directly required: urllib3 in /opt/conda/envs/DSX-Python35/lib/python3.5/site-packages (from watson-machine-learning-client)\nRequirement not upgraded as not directly required: tqdm in /opt/conda/envs/DSX-Python35/lib/python3.5/site-packages (from watson-machine-learning-client)\nRequirement not upgraded as not directly required: certifi in /opt/conda/envs/DSX-Python35/lib/python3.5/site-packages (from watson-machine-learning-client)\nRequirement not upgraded as not directly required: chardet<3.1.0,>=3.0.2 in /opt/conda/envs/DSX-Python35/lib/python3.5/site-packages (from requests->watson-machine-learning-client)\nRequirement not upgraded as not directly required: idna<2.7,>=2.5 in /opt/conda/envs/DSX-Python35/lib/python3.5/site-packages (from requests->watson-machine-learning-client)\nRequirement not upgraded as not directly required: six>=1.10.0 in /opt/conda/envs/DSX-Python35/lib/python3.5/site-packages (from lomond->watson-machine-learning-client)\nRequirement not upgraded as not directly required: python-dateutil>=2 in /opt/conda/envs/DSX-Python35/lib/python3.5/site-packages (from pandas->watson-machine-learning-client)\nRequirement not upgraded as not directly required: pytz>=2011k in /opt/conda/envs/DSX-Python35/lib/python3.5/site-packages (from pandas->watson-machine-learning-client)\nRequirement not upgraded as not directly required: numpy>=1.9.0 in /opt/conda/envs/DSX-Python35/lib/python3.5/site-packages (from pandas->watson-machine-learning-client)\nInstalling collected packages: watson-machine-learning-client\n  Found existing installation: watson-machine-learning-client 1.0.12\n    Uninstalling watson-machine-learning-client-1.0.12:\n      Successfully uninstalled watson-machine-learning-client-1.0.12\nSuccessfully installed watson-machine-learning-client-1.0.53\n"
                }
            ], 
            "source": "!pip install watson-machine-learning-client --upgrade"
        }, 
        {
            "execution_count": 31, 
            "cell_type": "code", 
            "metadata": {}, 
            "outputs": [], 
            "source": "from watson_machine_learning_client import WatsonMachineLearningAPIClient"
        }, 
        {
            "source": "Authenticate to the Watson Machine Learning service on IBM Cloud.\n\n**Tip**: Authentication information (your credentials) can be found in the [Service Credentials](https://console.bluemix.net/docs/services/service_credentials.html#service_credentials) tab of the service instance that you created on IBM Cloud. <BR>If you cannot see the **instance_id** field in **Service Credentials**, click **New credential (+)** to generate new authentication information. \n\n**Action**: Enter your Watson Machine Learning service instance credentials here.", 
            "cell_type": "markdown", 
            "metadata": {}
        }, 
        {
            "execution_count": 32, 
            "cell_type": "code", 
            "metadata": {}, 
            "outputs": [], 
            "source": "#wml_credentials = {\n # \"url\": \"https://ibm-watson-ml.mybluemix.net\",\n  #\"access_key\": \"***\",\n  #\"username\": \"***\",\n  #\"password\": \"***\",\n  #\"instance_id\": \"***\"\n#}"
        }, 
        {
            "execution_count": 33, 
            "cell_type": "code", 
            "metadata": {}, 
            "outputs": [], 
            "source": "# The code was removed by DSX for sharing."
        }, 
        {
            "execution_count": 34, 
            "cell_type": "code", 
            "metadata": {}, 
            "outputs": [], 
            "source": "client = WatsonMachineLearningAPIClient(wml_credentials)"
        }, 
        {
            "source": "### 4.1. Save the XGBoost model to the WML Repository\n\nSave the model artifact as *XGBoost model for breast cancer* to your WML instance.", 
            "cell_type": "markdown", 
            "metadata": {}
        }, 
        {
            "execution_count": 35, 
            "cell_type": "code", 
            "metadata": {}, 
            "outputs": [], 
            "source": "model_props = {client.repository.ModelMetaNames.NAME: \"XGBoost model for breast cancer\"}\nmodel_details = client.repository.store_model(pipeline, model_props)"
        }, 
        {
            "source": "Get the saved model metadata from WML.", 
            "cell_type": "markdown", 
            "metadata": {}
        }, 
        {
            "source": "# 5. Deploy and score in the IBM Cloud\n", 
            "cell_type": "markdown", 
            "metadata": {}
        }, 
        {
            "source": "In this section you will learn how to use WML to create online scoring and score a new data record.", 
            "cell_type": "markdown", 
            "metadata": {}
        }, 
        {
            "source": "You can list all stored models using the  `list_models` method.", 
            "cell_type": "markdown", 
            "metadata": {}
        }, 
        {
            "execution_count": 36, 
            "cell_type": "code", 
            "metadata": {}, 
            "outputs": [
                {
                    "output_type": "stream", 
                    "name": "stdout", 
                    "text": "------------------------------------  -------------------------------  ------------------------  -----------------\nGUID                                  NAME                             CREATED                   FRAMEWORK\n6b76f1d7-aff2-445d-b816-0c4c573fbf7d  Product Line Prediction          2018-02-18T19:51:57.776Z  mllib-2.0\n4b7c9d27-6ca3-4b89-b726-9dd32ccb3958  Tumor_Type_Detection_v1_pipe     2018-03-18T23:37:40.678Z  scikit-learn-0.19\n7c60098c-5c16-47f8-89e6-f72a629a9bff  My cool mnist model              2018-03-19T09:42:42.204Z  tensorflow-1.5\n5999a2d9-e22c-424e-839f-d1f9c37ba8c0  XGBoost model for breast cancer  2018-03-29T14:00:39.597Z  scikit-learn-0.19\nbc1104f5-9bba-4bf4-a8cc-34eff218ae4a  XGBoost model for breast cancer  2018-04-03T10:05:17.385Z  scikit-learn-0.19\n5eb68ad4-1f39-4b1f-9687-0a071907aed0  XGBoost model for breast cancer  2018-04-05T11:33:31.059Z  scikit-learn-0.19\n950423e2-f164-4094-89af-44f005acaf77  XGBoost model for breast cancer  2018-04-05T12:27:33.111Z  scikit-learn-0.19\n------------------------------------  -------------------------------  ------------------------  -----------------\n"
                }
            ], 
            "source": "# Display a list of all the models.\nclient.repository.list_models()"
        }, 
        {
            "source": "You need the model uid to create the deployment. You can extract the model uid from the saved model details.", 
            "cell_type": "markdown", 
            "metadata": {}
        }, 
        {
            "execution_count": 37, 
            "cell_type": "code", 
            "metadata": {}, 
            "outputs": [
                {
                    "output_type": "stream", 
                    "name": "stdout", 
                    "text": "950423e2-f164-4094-89af-44f005acaf77\n"
                }
            ], 
            "source": "# Extract the uid.\nmodel_uid = client.repository.get_model_uid(model_details)\nprint(model_uid)"
        }, 
        {
            "source": "Use this modul_uid in the next section to create the deployment.", 
            "cell_type": "markdown", 
            "metadata": {}
        }, 
        {
            "source": "### 5.1. Create the model deployment", 
            "cell_type": "markdown", 
            "metadata": {}
        }, 
        {
            "source": "Now you can create a deployment, *Predict breast cancer*.", 
            "cell_type": "markdown", 
            "metadata": {}
        }, 
        {
            "execution_count": 38, 
            "cell_type": "code", 
            "metadata": {}, 
            "outputs": [
                {
                    "output_type": "stream", 
                    "name": "stdout", 
                    "text": "\n\n#######################################################################################\n\nSynchronous deployment creation for uid: 'd8143f44-220c-4a17-a1b1-0d3f61d5d013' started\n\n#######################################################################################\n\n\nINITIALIZING\nDEPLOY_SUCCESS\n\n\n------------------------------------------------------------------------------------------------\nSuccessfully finished deployment creation, deployment_uid='d8143f44-220c-4a17-a1b1-0d3f61d5d013'\n------------------------------------------------------------------------------------------------\n\n\n"
                }
            ], 
            "source": "# Create the deployment.\ndeployment_details = client.deployments.create(model_uid, 'Predict breast cancer')"
        }, 
        {
            "source": "Get a list of all deployments.", 
            "cell_type": "markdown", 
            "metadata": {}
        }, 
        {
            "execution_count": 39, 
            "cell_type": "code", 
            "metadata": {}, 
            "outputs": [
                {
                    "output_type": "stream", 
                    "name": "stdout", 
                    "text": "------------------------------------  ----------------------  ------  --------------  ------------------------  -----------------\nGUID                                  NAME                    TYPE    STATE           CREATED                   FRAMEWORK\n206ce253-eaaa-40f0-9aac-bc0d25e3fe88  online                  online  DEPLOY_SUCCESS  2018-02-18T19:52:22.583Z  mllib-2.0\n40f24853-f991-4aa1-9936-830f197aa758  Mnist model deployment  online  DEPLOY_SUCCESS  2018-03-19T09:42:58.735Z  tensorflow-1.5\nd8143f44-220c-4a17-a1b1-0d3f61d5d013  Predict breast cancer   online  DEPLOY_SUCCESS  2018-04-05T12:27:51.539Z  scikit-learn-0.19\n------------------------------------  ----------------------  ------  --------------  ------------------------  -----------------\n"
                }
            ], 
            "source": "# List the deployments.\nclient.deployments.list()"
        }, 
        {
            "source": "The *Predict breast cancer model* has been successfully deployed.", 
            "cell_type": "markdown", 
            "metadata": {}
        }, 
        {
            "source": "### 5.2. Perform prediction", 
            "cell_type": "markdown", 
            "metadata": {}
        }, 
        {
            "source": "Now, extract the url endpoint, *scoring_url*, which will be used to send scoring requests.", 
            "cell_type": "markdown", 
            "metadata": {}
        }, 
        {
            "execution_count": 40, 
            "cell_type": "code", 
            "metadata": {}, 
            "outputs": [
                {
                    "output_type": "stream", 
                    "name": "stdout", 
                    "text": "https://ibm-watson-ml.mybluemix.net/v3/wml_instances/37c88e6f-2a51-43f8-be5a-17a928580075/published_models/950423e2-f164-4094-89af-44f005acaf77/deployments/d8143f44-220c-4a17-a1b1-0d3f61d5d013/online\n"
                }
            ], 
            "source": "# Extract endpoint url and display it.\nscoring_url = client.deployments.get_scoring_url(deployment_details)\nprint(scoring_url)"
        }, 
        {
            "source": "Prepare the scoring payload with the values to score.", 
            "cell_type": "markdown", 
            "metadata": {}
        }, 
        {
            "execution_count": 41, 
            "cell_type": "code", 
            "metadata": {}, 
            "outputs": [
                {
                    "output_type": "stream", 
                    "name": "stdout", 
                    "text": "{'values': [[12.23, 19.56, 78.54, 461.0, 0.09586, 0.08087, 0.04187, 0.04107, 0.1979, 0.06013, 0.3534, 1.326, 2.308, 27.24, 0.007514, 0.01779, 0.01401, 0.0114, 0.01503, 0.003338, 14.44, 28.36, 92.15, 638.4, 0.1429, 0.2042, 0.1377, 0.108, 0.2668, 0.08174]]}\n"
                }
            ], 
            "source": "# Prepare scoring payload.\npayload_scoring = {\"values\": [X_test[0].tolist()]}\nprint(payload_scoring)"
        }, 
        {
            "execution_count": 42, 
            "cell_type": "code", 
            "metadata": {}, 
            "outputs": [
                {
                    "output_type": "stream", 
                    "name": "stdout", 
                    "text": "{'fields': ['prediction', 'probability'], 'values': [[0.0, [0.9505169987678528, 0.04948299005627632]]]}\n"
                }
            ], 
            "source": "# Perform prediction and display the result.\nresponse_scoring = client.deployments.score(scoring_url, payload_scoring)\nprint(response_scoring)"
        }, 
        {
            "source": "**Result**: The patient record is classified as a benign tumor.", 
            "cell_type": "markdown", 
            "metadata": {}
        }, 
        {
            "source": "<a id=\"summary\"></a>\n## 6. Summary and next steps     ", 
            "cell_type": "markdown", 
            "metadata": {}
        }, 
        {
            "source": "You successfully completed this notebook! \n\nYou learned how to use XGBoost machine learning as well as Watson Machine Learning to create and deploy a model. \n\nCheck out our [Online Documentation](https://dataplatform.ibm.com/docs/content/analyze-data/wml-setup.html) for more samples, tutorials, documentation, how-tos, and blog posts. ", 
            "cell_type": "markdown", 
            "metadata": {}
        }, 
        {
            "source": "### Data citations\n\nLichman, M. (2013). [UCI Machine Learning Repository](http://archive.ics.uci.edu/ml). Irvine, CA: University of California, School of Information and Computer Science.", 
            "cell_type": "markdown", 
            "metadata": {}
        }, 
        {
            "source": "### Author\n\n**Wojciech Sobala** is a Data Scientist at IBM.", 
            "cell_type": "markdown", 
            "metadata": {}
        }, 
        {
            "source": "Copyright \u00a9 2017, 2018 IBM. This notebook and its source code are released under the terms of the MIT License.", 
            "cell_type": "markdown", 
            "metadata": {}
        }
    ], 
    "metadata": {
        "kernelspec": {
            "display_name": "Python 3.5", 
            "name": "python3", 
            "language": "python"
        }, 
        "language_info": {
            "mimetype": "text/x-python", 
            "nbconvert_exporter": "python", 
            "version": "3.5.4", 
            "name": "python", 
            "file_extension": ".py", 
            "pygments_lexer": "ipython3", 
            "codemirror_mode": {
                "version": 3, 
                "name": "ipython"
            }
        }
    }, 
    "nbformat": 4
}