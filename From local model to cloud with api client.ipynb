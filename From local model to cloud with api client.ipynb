{
    "nbformat_minor": 1, 
    "nbformat": 4, 
    "cells": [
        {
            "source": "<table style=\"border: none\" align=\"left\">\n   <tr style=\"border: none\">\n      <th style=\"border: none\"><font face=\"verdana\" size=\"5\" color=\"black\"><b>From local Spark MLlib model to cloud with watson-machine-learning-client</b></th>\n      <th style=\"border: none\"><img src=\"https://github.com/pmservice/customer-satisfaction-prediction/blob/master/app/static/images/ml_icon_gray.png?raw=true\" alt=\"Watson Machine Learning icon\" height=\"40\" width=\"40\"></th>\n   </tr>\n   <tr style=\"border: none\">\n       <th style=\"border: none\"><img src=\"https://www-03.ibm.com/services/learning/images/journey_watson_wat_machine_learning_600x280.jpg\" alt=\"Icon\"> </th>\n   </tr>\n</table>", 
            "cell_type": "markdown", 
            "metadata": {}
        }, 
        {
            "source": "This notebook contains steps and code to work with **``watson-machine-learning-client``** library. This notebook introduces commands for getting data, model persistance to Watson Machine Learning repository, model deployment and scoring.\n\nSome familiarity with Python is helpful. This notebook uses Python 3 and Apache\u00ae Spark 2.0.\n\nYou will use publicly available data \"GoSales Transactions for Naive Bayes Model\" about anonymous outdoor equipment purchase to predict clients' interests in terms of product line like: golf accessories, camping equipement and others.\n\n\n## Learning goals\n\nThe learning goals of this notebook are:\n- Load and explore data\n- Prepare data for training and evaluation\n- Create spark ml pipeline\n- Train and evaluate model\n- Persist local model in Watson Machine Learning repository using client library\n- Deploy model for online scoring using client library\n- Score sample records using client library\n\n\n## Contents\n\nThis notebook contains the following parts:\n\n1.\t[Setup](#setup)\n2.\t[Load and explore data](#load)\n3.\t[Create an Apache\u00ae Spark machine learning model](#model)\n4.\t[Persist created model using api client](#persistance)\n5.\t[Deploy and score in a Cloud using api client](#scoring)\n6.\t[Summary and next steps](#summary)", 
            "cell_type": "markdown", 
            "metadata": {}
        }, 
        {
            "source": "<a id=\"setup\"></a>\n## 1. Setup\n\nBefore you use the sample code in this notebook, you must perform the following setup tasks:\n\n-  Create a [Watson Machine Learning Service](https://console.ng.bluemix.net/catalog/services/ibm-watson-machine-learning/) instance (a free plan is offered). \n-  Make sure that you are using a Spark 2.0 kernel.", 
            "cell_type": "markdown", 
            "metadata": {}
        }, 
        {
            "source": "<a id=\"load\"></a>\n## 2. Load and explore data", 
            "cell_type": "markdown", 
            "metadata": {}
        }, 
        {
            "source": "In this section you will load the data as an Apache\u00ae Spark DataFrame and perform a basic exploration.\n\nLoad the data to the Spark DataFrame by using *wget* to upload the data to gpfs and then *read* method. ", 
            "cell_type": "markdown", 
            "metadata": {}
        }, 
        {
            "source": "**Example**: First, you need to install required packages. You can do it by running the following code. Run it only one time.", 
            "cell_type": "markdown", 
            "metadata": {}
        }, 
        {
            "source": "!pip install wget --user ", 
            "execution_count": 1, 
            "cell_type": "code", 
            "metadata": {}, 
            "outputs": [
                {
                    "name": "stdout", 
                    "text": "Collecting wget\n  Downloading wget-3.2.zip\nBuilding wheels for collected packages: wget\n  Running setup.py bdist_wheel for wget ... \u001b[?25ldone\n\u001b[?25h  Stored in directory: /gpfs/fs01/user/s488-d02ef698016a9a-8ef090487f81/.cache/pip/wheels/6d/98/29/61ccc41148f871009126c2e844e26f73eeb25e12cca92228a5\nSuccessfully built wget\nInstalling collected packages: wget\nSuccessfully installed wget-3.2\n", 
                    "output_type": "stream"
                }
            ]
        }, 
        {
            "source": "import wget\nimport json", 
            "execution_count": 2, 
            "cell_type": "code", 
            "metadata": {
                "collapsed": true
            }, 
            "outputs": []
        }, 
        {
            "source": "link_to_data = 'https://apsportal.ibm.com/exchange-api/v1/entries/8044492073eb964f46597b4be06ff5ea/data?accessKey=9561295fa407698694b1e254d0099600'\nfilename = wget.download(link_to_data)\n\nprint(filename)", 
            "execution_count": 3, 
            "cell_type": "code", 
            "metadata": {}, 
            "outputs": [
                {
                    "name": "stdout", 
                    "text": "GoSales_Tx_NaiveBayes.csv\n", 
                    "output_type": "stream"
                }
            ]
        }, 
        {
            "source": "The csv file GoSales_Tx_NaiveBayes.csv is availble on gpfs now. Load the file to Apache\u00ae Spark DataFrame using code below.", 
            "cell_type": "markdown", 
            "metadata": {}
        }, 
        {
            "source": "spark = SparkSession.builder.getOrCreate()\n\ndf_data = spark.read\\\n  .format('org.apache.spark.sql.execution.datasources.csv.CSVFileFormat')\\\n  .option('header', 'true')\\\n  .option('inferSchema', 'true')\\\n  .load(filename)", 
            "execution_count": 9, 
            "cell_type": "code", 
            "metadata": {
                "collapsed": true
            }, 
            "outputs": []
        }, 
        {
            "source": "Explore the loaded data by using the following Apache\u00ae Spark DataFrame methods:\n-  print schema\n-  print top ten records\n-  count all records", 
            "cell_type": "markdown", 
            "metadata": {}
        }, 
        {
            "source": "df_data.printSchema()", 
            "execution_count": 10, 
            "cell_type": "code", 
            "metadata": {}, 
            "outputs": [
                {
                    "name": "stdout", 
                    "text": "root\n |-- PRODUCT_LINE: string (nullable = true)\n |-- GENDER: string (nullable = true)\n |-- AGE: integer (nullable = true)\n |-- MARITAL_STATUS: string (nullable = true)\n |-- PROFESSION: string (nullable = true)\n\n", 
                    "output_type": "stream"
                }
            ]
        }, 
        {
            "source": "As you can see, the data contains five fields. PRODUCT_LINE field is the one we would like to predict (label).", 
            "cell_type": "markdown", 
            "metadata": {}
        }, 
        {
            "source": "df_data.show()", 
            "execution_count": 11, 
            "cell_type": "code", 
            "metadata": {}, 
            "outputs": [
                {
                    "name": "stdout", 
                    "text": "+--------------------+------+---+--------------+------------+\n|        PRODUCT_LINE|GENDER|AGE|MARITAL_STATUS|  PROFESSION|\n+--------------------+------+---+--------------+------------+\n|Personal Accessories|     M| 27|        Single|Professional|\n|Personal Accessories|     F| 39|       Married|       Other|\n|Mountaineering Eq...|     F| 39|       Married|       Other|\n|Personal Accessories|     F| 56|   Unspecified| Hospitality|\n|      Golf Equipment|     M| 45|       Married|     Retired|\n|      Golf Equipment|     M| 45|       Married|     Retired|\n|   Camping Equipment|     F| 39|       Married|       Other|\n|   Camping Equipment|     F| 49|       Married|       Other|\n|  Outdoor Protection|     F| 49|       Married|       Other|\n|      Golf Equipment|     M| 47|       Married|     Retired|\n|      Golf Equipment|     M| 47|       Married|     Retired|\n|Mountaineering Eq...|     M| 21|        Single|      Retail|\n|Personal Accessories|     F| 66|       Married|       Other|\n|   Camping Equipment|     F| 35|       Married|Professional|\n|Mountaineering Eq...|     M| 20|        Single|       Sales|\n|Mountaineering Eq...|     M| 20|        Single|       Sales|\n|Mountaineering Eq...|     M| 20|        Single|       Sales|\n|Personal Accessories|     F| 37|        Single|       Other|\n|   Camping Equipment|     M| 42|       Married|       Other|\n|   Camping Equipment|     F| 24|       Married|      Retail|\n+--------------------+------+---+--------------+------------+\nonly showing top 20 rows\n\n", 
                    "output_type": "stream"
                }
            ]
        }, 
        {
            "source": "df_data.count()", 
            "execution_count": 12, 
            "cell_type": "code", 
            "metadata": {}, 
            "outputs": [
                {
                    "data": {
                        "text/plain": "60252"
                    }, 
                    "execution_count": 12, 
                    "output_type": "execute_result", 
                    "metadata": {}
                }
            ]
        }, 
        {
            "source": "As you can see, the data set contains 60252 records.", 
            "cell_type": "markdown", 
            "metadata": {}
        }, 
        {
            "source": "<a id=\"model\"></a>\n## 3. Create an Apache\u00ae Spark machine learning model\n\nIn this section you will learn how to prepare data, create an Apache\u00ae Spark machine learning pipeline, and train a model.", 
            "cell_type": "markdown", 
            "metadata": {}
        }, 
        {
            "source": "### 3.1: Prepare data\n\nIn this subsection you will split your data into: train, test and predict datasets.", 
            "cell_type": "markdown", 
            "metadata": {}
        }, 
        {
            "source": "splitted_data = df_data.randomSplit([0.8, 0.2], 24)\ntrain_data = splitted_data[0]\ntest_data = splitted_data[1]\n\nprint(\"Number of training records: \" + str(train_data.count()))\nprint(\"Number of testing records : \" + str(test_data.count()))", 
            "execution_count": 13, 
            "cell_type": "code", 
            "metadata": {}, 
            "outputs": [
                {
                    "name": "stdout", 
                    "text": "Number of training records: 48176\nNumber of testing records : 12076\n", 
                    "output_type": "stream"
                }
            ]
        }, 
        {
            "source": "As you can see our data has been successfully split into three datasets: \n\n-  The train data set, which is the largest group, is used for training.\n-  The test data set will be used for model evaluation and is used to test the assumptions of the model.", 
            "cell_type": "markdown", 
            "metadata": {}
        }, 
        {
            "source": "### 3.2: Create pipeline and train a model", 
            "cell_type": "markdown", 
            "metadata": {}
        }, 
        {
            "source": "In this section you will create an Apache\u00ae Spark machine learning pipeline and then train the model.", 
            "cell_type": "markdown", 
            "metadata": {}
        }, 
        {
            "source": "In the first step you need to import the Apache\u00ae Spark machine learning packages that will be needed in the subsequent steps.", 
            "cell_type": "markdown", 
            "metadata": {}
        }, 
        {
            "source": "from pyspark.ml.feature import OneHotEncoder, StringIndexer, IndexToString, VectorAssembler\nfrom pyspark.ml.classification import RandomForestClassifier\nfrom pyspark.ml.evaluation import MulticlassClassificationEvaluator\nfrom pyspark.ml import Pipeline, Model", 
            "execution_count": 14, 
            "cell_type": "code", 
            "metadata": {
                "collapsed": true
            }, 
            "outputs": []
        }, 
        {
            "source": "In the following step, convert all the string fields to numeric ones by using the StringIndexer transformer.", 
            "cell_type": "markdown", 
            "metadata": {}
        }, 
        {
            "source": "stringIndexer_label = StringIndexer(inputCol=\"PRODUCT_LINE\", outputCol=\"label\").fit(df_data)\nstringIndexer_prof = StringIndexer(inputCol=\"PROFESSION\", outputCol=\"PROFESSION_IX\")\nstringIndexer_gend = StringIndexer(inputCol=\"GENDER\", outputCol=\"GENDER_IX\")\nstringIndexer_mar = StringIndexer(inputCol=\"MARITAL_STATUS\", outputCol=\"MARITAL_STATUS_IX\")", 
            "execution_count": 15, 
            "cell_type": "code", 
            "metadata": {
                "collapsed": true
            }, 
            "outputs": []
        }, 
        {
            "source": "In the following step, create a feature vector by combining all features together.", 
            "cell_type": "markdown", 
            "metadata": {}
        }, 
        {
            "source": "vectorAssembler_features = VectorAssembler(inputCols=[\"GENDER_IX\", \"AGE\", \"MARITAL_STATUS_IX\", \"PROFESSION_IX\"], outputCol=\"features\")", 
            "execution_count": 16, 
            "cell_type": "code", 
            "metadata": {
                "collapsed": true
            }, 
            "outputs": []
        }, 
        {
            "source": "Next, define estimators you want to use for classification. Random Forest is used in the following example.", 
            "cell_type": "markdown", 
            "metadata": {}
        }, 
        {
            "source": "rf = RandomForestClassifier(labelCol=\"label\", featuresCol=\"features\")", 
            "execution_count": 17, 
            "cell_type": "code", 
            "metadata": {
                "collapsed": true
            }, 
            "outputs": []
        }, 
        {
            "source": "Finally, indexed labels back to original labels.", 
            "cell_type": "markdown", 
            "metadata": {}
        }, 
        {
            "source": "labelConverter = IndexToString(inputCol=\"prediction\", outputCol=\"predictedLabel\", labels=stringIndexer_label.labels)", 
            "execution_count": 18, 
            "cell_type": "code", 
            "metadata": {
                "collapsed": true
            }, 
            "outputs": []
        }, 
        {
            "source": "Let's build the pipeline now. A pipeline consists of transformers and an estimator.", 
            "cell_type": "markdown", 
            "metadata": {}
        }, 
        {
            "source": "pipeline_rf = Pipeline(stages=[stringIndexer_label, stringIndexer_prof, stringIndexer_gend, stringIndexer_mar, vectorAssembler_features, rf, labelConverter])", 
            "execution_count": 19, 
            "cell_type": "code", 
            "metadata": {
                "collapsed": true
            }, 
            "outputs": []
        }, 
        {
            "source": "Now, you can train your Random Forest model by using the previously defined **pipeline** and **train data**.", 
            "cell_type": "markdown", 
            "metadata": {}
        }, 
        {
            "source": "model_rf = pipeline_rf.fit(train_data)", 
            "execution_count": 20, 
            "cell_type": "code", 
            "metadata": {
                "collapsed": true
            }, 
            "outputs": []
        }, 
        {
            "source": "You can check your **model accuracy** now. To evaluate the model, use **test data**.", 
            "cell_type": "markdown", 
            "metadata": {}
        }, 
        {
            "source": "predictions = model_rf.transform(test_data)\nevaluatorRF = MulticlassClassificationEvaluator(labelCol=\"label\", predictionCol=\"prediction\", metricName=\"accuracy\")\naccuracy = evaluatorRF.evaluate(predictions)\n\nprint(\"Accuracy = %g\" % accuracy)", 
            "execution_count": 21, 
            "cell_type": "code", 
            "metadata": {}, 
            "outputs": [
                {
                    "name": "stdout", 
                    "text": "Accuracy = 0.585045\n", 
                    "output_type": "stream"
                }
            ]
        }, 
        {
            "source": "You can tune your model now to achieve better accuracy. For simplicity of this example tuning section is omitted.", 
            "cell_type": "markdown", 
            "metadata": {
                "collapsed": true
            }
        }, 
        {
            "source": "<a id=\"persistence\"></a>\n## 4. Persist created model with ``watson-machine-learning-client``", 
            "cell_type": "markdown", 
            "metadata": {
                "collapsed": true
            }
        }, 
        {
            "source": "In this section you will learn how to store your model in Watson Machine Learning repository by using common python client.", 
            "cell_type": "markdown", 
            "metadata": {}
        }, 
        {
            "source": "#### First, you must install client libraries from pypi", 
            "cell_type": "markdown", 
            "metadata": {
                "collapsed": true
            }
        }, 
        {
            "source": "!pip install watson-machine-learning-client --user", 
            "execution_count": 8, 
            "cell_type": "code", 
            "metadata": {}, 
            "outputs": [
                {
                    "name": "stdout", 
                    "text": "Collecting watson-machine-learning-client\n  Downloading https://testpypi.python.org/packages/41/65/3f55f503fe0c59c3c399094ecc6cbb5ae4063c78aa7f4ee86f2bab692d69/watson_machine_learning_client-0.2.18-py2.py3-none-any.whl (219kB)\n\u001b[K    100% |\u2588\u2588\u2588\u2588\u2588\u2588\u2588\u2588\u2588\u2588\u2588\u2588\u2588\u2588\u2588\u2588\u2588\u2588\u2588\u2588\u2588\u2588\u2588\u2588\u2588\u2588\u2588\u2588\u2588\u2588\u2588\u2588| 225kB 4.8MB/s eta 0:00:01\n\u001b[?25hRequirement already satisfied (use --upgrade to upgrade): urllib3 in /usr/local/src/conda3_runtime.v18/4.1.1/lib/python3.5/site-packages (from watson-machine-learning-client)\nRequirement already satisfied (use --upgrade to upgrade): requests in /usr/local/src/conda3_runtime.v18/4.1.1/lib/python3.5/site-packages (from watson-machine-learning-client)\nInstalling collected packages: watson-machine-learning-client\nSuccessfully installed watson-machine-learning-client-0.2.18\n", 
                    "output_type": "stream"
                }
            ]
        }, 
        {
            "source": "!pip install watson-machine-learning-client --user", 
            "cell_type": "raw", 
            "metadata": {}
        }, 
        {
            "source": "Import installed client by running below code.", 
            "cell_type": "markdown", 
            "metadata": {
                "collapsed": true
            }
        }, 
        {
            "source": "from watson_machine_learning_client import WatsonMachineLearningAPIClient", 
            "execution_count": 22, 
            "cell_type": "code", 
            "metadata": {
                "collapsed": true
            }, 
            "outputs": []
        }, 
        {
            "source": "**You can check sphinx documentation for watson-machine-learning-client either by visiting [documentation webpage](https://wml-api-pyclient.mybluemix.net) or running below code.**", 
            "cell_type": "markdown", 
            "metadata": {}
        }, 
        {
            "source": "from IPython.display import IFrame\nIFrame('https://wml-api-pyclient.mybluemix.net', width='100%', height=400)", 
            "execution_count": 1, 
            "cell_type": "code", 
            "metadata": {}, 
            "outputs": [
                {
                    "data": {
                        "text/html": "\n        <iframe\n            width=\"100%\"\n            height=\"400\"\n            src=\"https://wml-api-pyclient.mybluemix.net\"\n            frameborder=\"0\"\n            allowfullscreen\n        ></iframe>\n        ", 
                        "text/plain": "<IPython.lib.display.IFrame at 0x7fefb2fddc18>"
                    }, 
                    "execution_count": 1, 
                    "output_type": "execute_result", 
                    "metadata": {}
                }
            ]
        }, 
        {
            "source": "### 4.1: Work with your instance", 
            "cell_type": "markdown", 
            "metadata": {}
        }, 
        {
            "source": "Authenticate to Watson Machine Learning service on Bluemix.", 
            "cell_type": "markdown", 
            "metadata": {
                "collapsed": true
            }
        }, 
        {
            "source": "**Action**: Put authentication information from your instance of Watson Machine Learning service here.</div>", 
            "cell_type": "markdown", 
            "metadata": {}
        }, 
        {
            "source": "wml_credentials={\n  \"url\": \"https://ibm-watson-ml.mybluemix.net\",\n  \"access_key\": \"*****\",\n  \"username\": \"*****\",\n  \"password\": \"*****\",\n  \"instance_id\": \"*****\"\n}", 
            "execution_count": 24, 
            "cell_type": "code", 
            "metadata": {
                "collapsed": true
            }, 
            "outputs": []
        }, 
        {
            "source": "**Tip**: Credentials can be found on **Service Credentials** tab of service instance created in Bluemix. If you cannot see **instance_id** field in **Serice Credentials** generate new credentials by pressing **New credential (+)** button. ", 
            "cell_type": "markdown", 
            "metadata": {
                "collapsed": true
            }
        }, 
        {
            "source": "#### Create API client by running below code.", 
            "cell_type": "markdown", 
            "metadata": {}
        }, 
        {
            "source": "client = WatsonMachineLearningAPIClient(wml_credentials)", 
            "execution_count": 25, 
            "cell_type": "code", 
            "metadata": {
                "collapsed": true
            }, 
            "outputs": []
        }, 
        {
            "source": "#### Get instance details.", 
            "cell_type": "markdown", 
            "metadata": {}
        }, 
        {
            "source": "instance_details = client.service_instance.get_details()\n\nprint(json.dumps(instance_details, indent=2))", 
            "execution_count": 26, 
            "cell_type": "code", 
            "metadata": {
                "scrolled": true
            }, 
            "outputs": [
                {
                    "name": "stdout", 
                    "text": "{\n  \"metadata\": {\n    \"created_at\": \"2017-07-17T11:30:15.027Z\",\n    \"url\": \"https://ibm-watson-ml.mybluemix.net/v3/wml_instances/81eb122f-a170-4efd-86b6-4a8afa16d30b\",\n    \"modified_at\": \"2017-10-10T10:35:24.828Z\",\n    \"guid\": \"81eb122f-a170-4efd-86b6-4a8afa16d30b\"\n  },\n  \"entity\": {\n    \"region\": \"us-south\",\n    \"account\": {\n      \"id\": \"500838470\",\n      \"type\": \"TRIAL\",\n      \"name\": \"Lukasz Cmielowski's Account\"\n    },\n    \"deployments\": {\n      \"url\": \"https://ibm-watson-ml.mybluemix.net/v3/wml_instances/81eb122f-a170-4efd-86b6-4a8afa16d30b/deployments\"\n    },\n    \"source\": \"Bluemix\",\n    \"status\": \"Active\",\n    \"plan_id\": \"0f2a3c2c-456b-40f3-9b19-726d2740b11c\",\n    \"published_models\": {\n      \"url\": \"https://ibm-watson-ml.mybluemix.net/v3/wml_instances/81eb122f-a170-4efd-86b6-4a8afa16d30b/published_models\"\n    },\n    \"organization_guid\": \"5a46f2ad-87af-451a-a6ea-684c0bb92ce9\",\n    \"plan\": \"standard\",\n    \"space_guid\": \"e6d9f948-d4d4-411b-9ce4-3fbaf243aed6\",\n    \"usage\": {\n      \"deployment_count\": {\n        \"current\": 0,\n        \"limit\": 1000\n      },\n      \"expiration_date\": \"2017-11-01T00:00:00.000Z\",\n      \"computation_time\": {\n        \"current\": 12\n      },\n      \"prediction_count\": {\n        \"current\": 17\n      },\n      \"model_count\": {\n        \"current\": 8,\n        \"limit\": 1000\n      }\n    },\n    \"owner\": {\n      \"country_code\": \"USA\",\n      \"ibm_id\": \"270002BE4G\",\n      \"beta_user\": true,\n      \"user_id\": \"32aee500-166e-4d82-840b-3c1ca8eb2252\",\n      \"email\": \"Lukasz.Cmielowski@pl.ibm.com\"\n    }\n  }\n}\n", 
                    "output_type": "stream"
                }
            ]
        }, 
        {
            "source": "### 4.2: Publish model", 
            "cell_type": "markdown", 
            "metadata": {}
        }, 
        {
            "source": "#### Publish model in Watson Machine Learning repository on Cloud.", 
            "cell_type": "markdown", 
            "metadata": {}
        }, 
        {
            "source": "published_model = client.repository.publish(model_rf, \"LOCALLY created Product Line Prediction model\", meta_props={\"authorName\":\"IBM\", \"authorEmail\":\"ibm@ibm.com\"}, training_data=train_data)", 
            "execution_count": 27, 
            "cell_type": "code", 
            "metadata": {
                "collapsed": true
            }, 
            "outputs": []
        }, 
        {
            "source": "### 4.3: Get model details", 
            "cell_type": "markdown", 
            "metadata": {}
        }, 
        {
            "source": "model_details = client.repository.get_details(published_model.uid)\nprint(json.dumps(model_details, indent=2))", 
            "execution_count": 28, 
            "cell_type": "code", 
            "metadata": {
                "scrolled": true
            }, 
            "outputs": [
                {
                    "name": "stdout", 
                    "text": "{\n  \"metadata\": {\n    \"created_at\": \"2017-10-10T11:26:32.270Z\",\n    \"url\": \"https://ibm-watson-ml.mybluemix.net/v3/wml_instances/81eb122f-a170-4efd-86b6-4a8afa16d30b/published_models/23d93142-c740-4cec-9cd6-18dad8bb9717\",\n    \"modified_at\": \"2017-10-10T11:26:32.536Z\",\n    \"guid\": \"23d93142-c740-4cec-9cd6-18dad8bb9717\"\n  },\n  \"entity\": {\n    \"label_col\": \"PRODUCT_LINE\",\n    \"latest_version\": {\n      \"created_at\": \"2017-10-10T11:26:32.536Z\",\n      \"url\": \"https://ibm-watson-ml.mybluemix.net/v2/artifacts/models/23d93142-c740-4cec-9cd6-18dad8bb9717/versions/57899b60-5336-448d-81cb-ec140e7e8112\",\n      \"guid\": \"57899b60-5336-448d-81cb-ec140e7e8112\"\n    },\n    \"runtime_environment\": \"spark-2.0\",\n    \"deployments\": {\n      \"url\": \"https://ibm-watson-ml.mybluemix.net/v3/wml_instances/81eb122f-a170-4efd-86b6-4a8afa16d30b/published_models/23d93142-c740-4cec-9cd6-18dad8bb9717/deployments\",\n      \"count\": 0\n    },\n    \"training_data_schema\": {\n      \"type\": \"struct\",\n      \"fields\": [\n        {\n          \"metadata\": {},\n          \"nullable\": true,\n          \"type\": \"string\",\n          \"name\": \"PRODUCT_LINE\"\n        },\n        {\n          \"metadata\": {},\n          \"nullable\": true,\n          \"type\": \"string\",\n          \"name\": \"GENDER\"\n        },\n        {\n          \"metadata\": {},\n          \"nullable\": true,\n          \"type\": \"integer\",\n          \"name\": \"AGE\"\n        },\n        {\n          \"metadata\": {},\n          \"nullable\": true,\n          \"type\": \"string\",\n          \"name\": \"MARITAL_STATUS\"\n        },\n        {\n          \"metadata\": {},\n          \"nullable\": true,\n          \"type\": \"string\",\n          \"name\": \"PROFESSION\"\n        }\n      ]\n    },\n    \"model_type\": \"sparkml-model-2.0\",\n    \"input_data_schema\": {\n      \"type\": \"struct\",\n      \"fields\": [\n        {\n          \"metadata\": {},\n          \"nullable\": true,\n          \"type\": \"string\",\n          \"name\": \"GENDER\"\n        },\n        {\n          \"metadata\": {},\n          \"nullable\": true,\n          \"type\": \"integer\",\n          \"name\": \"AGE\"\n        },\n        {\n          \"metadata\": {},\n          \"nullable\": true,\n          \"type\": \"string\",\n          \"name\": \"MARITAL_STATUS\"\n        },\n        {\n          \"metadata\": {},\n          \"nullable\": true,\n          \"type\": \"string\",\n          \"name\": \"PROFESSION\"\n        }\n      ]\n    },\n    \"name\": \"LOCALLY created Product Line Prediction model\",\n    \"author\": {}\n  }\n}\n", 
                    "output_type": "stream"
                }
            ]
        }, 
        {
            "source": "#### Get all models", 
            "cell_type": "markdown", 
            "metadata": {}
        }, 
        {
            "source": "models_details = client.repository.get_details()\nprint(json.dumps(models_details, indent=2))", 
            "execution_count": 29, 
            "cell_type": "code", 
            "metadata": {}, 
            "outputs": [
                {
                    "name": "stdout", 
                    "text": "{\n  \"resources\": [\n    {\n      \"metadata\": {\n        \"created_at\": \"2017-10-10T11:26:32.270Z\",\n        \"url\": \"https://ibm-watson-ml.mybluemix.net/v3/wml_instances/81eb122f-a170-4efd-86b6-4a8afa16d30b/published_models/23d93142-c740-4cec-9cd6-18dad8bb9717\",\n        \"modified_at\": \"2017-10-10T11:26:32.536Z\",\n        \"guid\": \"23d93142-c740-4cec-9cd6-18dad8bb9717\"\n      },\n      \"entity\": {\n        \"label_col\": \"PRODUCT_LINE\",\n        \"latest_version\": {\n          \"created_at\": \"2017-10-10T11:26:32.536Z\",\n          \"url\": \"https://ibm-watson-ml.mybluemix.net/v2/artifacts/models/23d93142-c740-4cec-9cd6-18dad8bb9717/versions/57899b60-5336-448d-81cb-ec140e7e8112\",\n          \"guid\": \"57899b60-5336-448d-81cb-ec140e7e8112\"\n        },\n        \"runtime_environment\": \"spark-2.0\",\n        \"deployments\": {\n          \"url\": \"https://ibm-watson-ml.mybluemix.net/v3/wml_instances/81eb122f-a170-4efd-86b6-4a8afa16d30b/published_models/23d93142-c740-4cec-9cd6-18dad8bb9717/deployments\",\n          \"count\": 0\n        },\n        \"training_data_schema\": {\n          \"type\": \"struct\",\n          \"fields\": [\n            {\n              \"metadata\": {},\n              \"nullable\": true,\n              \"type\": \"string\",\n              \"name\": \"PRODUCT_LINE\"\n            },\n            {\n              \"metadata\": {},\n              \"nullable\": true,\n              \"type\": \"string\",\n              \"name\": \"GENDER\"\n            },\n            {\n              \"metadata\": {},\n              \"nullable\": true,\n              \"type\": \"integer\",\n              \"name\": \"AGE\"\n            },\n            {\n              \"metadata\": {},\n              \"nullable\": true,\n              \"type\": \"string\",\n              \"name\": \"MARITAL_STATUS\"\n            },\n            {\n              \"metadata\": {},\n              \"nullable\": true,\n              \"type\": \"string\",\n              \"name\": \"PROFESSION\"\n            }\n          ]\n        },\n        \"model_type\": \"sparkml-model-2.0\",\n        \"input_data_schema\": {\n          \"type\": \"struct\",\n          \"fields\": [\n            {\n              \"metadata\": {},\n              \"nullable\": true,\n              \"type\": \"string\",\n              \"name\": \"GENDER\"\n            },\n            {\n              \"metadata\": {},\n              \"nullable\": true,\n              \"type\": \"integer\",\n              \"name\": \"AGE\"\n            },\n            {\n              \"metadata\": {},\n              \"nullable\": true,\n              \"type\": \"string\",\n              \"name\": \"MARITAL_STATUS\"\n            },\n            {\n              \"metadata\": {},\n              \"nullable\": true,\n              \"type\": \"string\",\n              \"name\": \"PROFESSION\"\n            }\n          ]\n        },\n        \"name\": \"LOCALLY created Product Line Prediction model\",\n        \"author\": {}\n      }\n    },\n    {\n      \"metadata\": {\n        \"created_at\": \"2017-10-10T10:35:24.759Z\",\n        \"url\": \"https://ibm-watson-ml.mybluemix.net/v3/wml_instances/81eb122f-a170-4efd-86b6-4a8afa16d30b/published_models/4285837c-6a5a-40c7-8d37-e63f75b05182\",\n        \"guid\": \"4285837c-6a5a-40c7-8d37-e63f75b05182\"\n      },\n      \"entity\": {\n        \"label_col\": \"PRODUCT_LINE\",\n        \"deployments\": {\n          \"url\": \"https://ibm-watson-ml.mybluemix.net/v3/wml_instances/81eb122f-a170-4efd-86b6-4a8afa16d30b/published_models/4285837c-6a5a-40c7-8d37-e63f75b05182/deployments\",\n          \"count\": 0\n        },\n        \"runtime_environment\": \"spark-2.0\",\n        \"training_data_schema\": {\n          \"type\": \"struct\",\n          \"fields\": [\n            {\n              \"metadata\": {},\n              \"nullable\": true,\n              \"type\": \"string\",\n              \"name\": \"PRODUCT_LINE\"\n            },\n            {\n              \"metadata\": {},\n              \"nullable\": true,\n              \"type\": \"string\",\n              \"name\": \"GENDER\"\n            },\n            {\n              \"metadata\": {},\n              \"nullable\": true,\n              \"type\": \"integer\",\n              \"name\": \"AGE\"\n            },\n            {\n              \"metadata\": {},\n              \"nullable\": true,\n              \"type\": \"string\",\n              \"name\": \"MARITAL_STATUS\"\n            },\n            {\n              \"metadata\": {},\n              \"nullable\": true,\n              \"type\": \"string\",\n              \"name\": \"PROFESSION\"\n            }\n          ]\n        },\n        \"model_type\": \"sparkml-model-2.0\",\n        \"input_data_schema\": {\n          \"type\": \"struct\",\n          \"fields\": [\n            {\n              \"metadata\": {},\n              \"nullable\": true,\n              \"type\": \"string\",\n              \"name\": \"GENDER\"\n            },\n            {\n              \"metadata\": {},\n              \"nullable\": true,\n              \"type\": \"integer\",\n              \"name\": \"AGE\"\n            },\n            {\n              \"metadata\": {},\n              \"nullable\": true,\n              \"type\": \"string\",\n              \"name\": \"MARITAL_STATUS\"\n            },\n            {\n              \"metadata\": {},\n              \"nullable\": true,\n              \"type\": \"string\",\n              \"name\": \"PROFESSION\"\n            }\n          ]\n        },\n        \"name\": \"LOCALLY created Product Line Prediction model\",\n        \"author\": {}\n      }\n    },\n    {\n      \"metadata\": {\n        \"created_at\": \"2017-10-10T10:17:44.768Z\",\n        \"url\": \"https://ibm-watson-ml.mybluemix.net/v3/wml_instances/81eb122f-a170-4efd-86b6-4a8afa16d30b/published_models/7265db7f-1e20-4146-bb9e-7ac38f8d0fdc\",\n        \"guid\": \"7265db7f-1e20-4146-bb9e-7ac38f8d0fdc\"\n      },\n      \"entity\": {\n        \"label_col\": \"PRODUCT_LINE\",\n        \"deployments\": {\n          \"url\": \"https://ibm-watson-ml.mybluemix.net/v3/wml_instances/81eb122f-a170-4efd-86b6-4a8afa16d30b/published_models/7265db7f-1e20-4146-bb9e-7ac38f8d0fdc/deployments\",\n          \"count\": 0\n        },\n        \"runtime_environment\": \"spark-2.0\",\n        \"training_data_schema\": {\n          \"type\": \"struct\",\n          \"fields\": [\n            {\n              \"metadata\": {},\n              \"nullable\": true,\n              \"type\": \"string\",\n              \"name\": \"PRODUCT_LINE\"\n            },\n            {\n              \"metadata\": {},\n              \"nullable\": true,\n              \"type\": \"string\",\n              \"name\": \"GENDER\"\n            },\n            {\n              \"metadata\": {},\n              \"nullable\": true,\n              \"type\": \"integer\",\n              \"name\": \"AGE\"\n            },\n            {\n              \"metadata\": {},\n              \"nullable\": true,\n              \"type\": \"string\",\n              \"name\": \"MARITAL_STATUS\"\n            },\n            {\n              \"metadata\": {},\n              \"nullable\": true,\n              \"type\": \"string\",\n              \"name\": \"PROFESSION\"\n            }\n          ]\n        },\n        \"model_type\": \"sparkml-model-2.0\",\n        \"input_data_schema\": {\n          \"type\": \"struct\",\n          \"fields\": [\n            {\n              \"metadata\": {},\n              \"nullable\": true,\n              \"type\": \"string\",\n              \"name\": \"GENDER\"\n            },\n            {\n              \"metadata\": {},\n              \"nullable\": true,\n              \"type\": \"integer\",\n              \"name\": \"AGE\"\n            },\n            {\n              \"metadata\": {},\n              \"nullable\": true,\n              \"type\": \"string\",\n              \"name\": \"MARITAL_STATUS\"\n            },\n            {\n              \"metadata\": {},\n              \"nullable\": true,\n              \"type\": \"string\",\n              \"name\": \"PROFESSION\"\n            }\n          ]\n        },\n        \"name\": \"LOCALLY created Product Line Prediction model\",\n        \"author\": {}\n      }\n    },\n    {\n      \"metadata\": {\n        \"created_at\": \"2017-09-28T13:13:18.952Z\",\n        \"url\": \"https://ibm-watson-ml.mybluemix.net/v3/wml_instances/81eb122f-a170-4efd-86b6-4a8afa16d30b/published_models/77022504-8ad9-45c6-9b25-f51acd0e5222\",\n        \"modified_at\": \"2017-09-29T14:44:03.030Z\",\n        \"guid\": \"77022504-8ad9-45c6-9b25-f51acd0e5222\"\n      },\n      \"entity\": {\n        \"latest_version\": {\n          \"created_at\": \"2017-09-29T14:43:27.752Z\",\n          \"url\": \"https://ibm-watson-ml.mybluemix.net/v2/artifacts/models/77022504-8ad9-45c6-9b25-f51acd0e5222/versions/320cf9c5-2246-496e-99d2-5ae130953104\",\n          \"guid\": \"320cf9c5-2246-496e-99d2-5ae130953104\"\n        },\n        \"runtime_environment\": \"spark-2.0\",\n        \"name\": \"Best Heart Drug Selection\",\n        \"description\": \"Predicts the best drug for a patient with heart disease.\",\n        \"model_type\": \"sparkml-model-2.0\",\n        \"input_data_schema\": {\n          \"type\": \"struct\",\n          \"fields\": [\n            {\n              \"metadata\": {\n                \"name\": \"AGE\",\n                \"scale\": 0\n              },\n              \"name\": \"AGE\",\n              \"type\": \"integer\",\n              \"nullable\": true\n            },\n            {\n              \"metadata\": {\n                \"name\": \"SEX\",\n                \"scale\": 0\n              },\n              \"name\": \"SEX\",\n              \"type\": \"string\",\n              \"nullable\": true\n            },\n            {\n              \"metadata\": {\n                \"name\": \"BP\",\n                \"scale\": 0\n              },\n              \"name\": \"BP\",\n              \"type\": \"string\",\n              \"nullable\": true\n            },\n            {\n              \"metadata\": {\n                \"name\": \"CHOLESTEROL\",\n                \"scale\": 0\n              },\n              \"name\": \"CHOLESTEROL\",\n              \"type\": \"string\",\n              \"nullable\": true\n            },\n            {\n              \"metadata\": {\n                \"name\": \"NA\",\n                \"scale\": 6\n              },\n              \"name\": \"NA\",\n              \"type\": \"decimal(12,6)\",\n              \"nullable\": true\n            },\n            {\n              \"metadata\": {\n                \"name\": \"K\",\n                \"scale\": 6\n              },\n              \"name\": \"K\",\n              \"type\": \"decimal(13,6)\",\n              \"nullable\": true\n            }\n          ]\n        },\n        \"deployed_version\": {\n          \"created_at\": \"2017-09-29T14:43:27.726Z\",\n          \"url\": \"https://ibm-watson-ml.mybluemix.net/v2/artifacts/models/77022504-8ad9-45c6-9b25-f51acd0e5222/versions/320cf9c5-2246-496e-99d2-5ae130953104\",\n          \"guid\": \"320cf9c5-2246-496e-99d2-5ae130953104\"\n        },\n        \"learning_configuration\": {\n          \"feedback_data_ref\": {\n            \"connection\": {\n              \"host\": \"dashdb-entry-yp-dal09-08.services.dal.bluemix.net\",\n              \"db\": \"BLUDB\",\n              \"username\": \"dash14647\",\n              \"password\": \"a3803360760c\"\n            },\n            \"source\": {\n              \"tablename\": \"DRUG_FEEDBACK_DATA\",\n              \"type\": \"dashdb\"\n            }\n          },\n          \"definition\": {\n            \"metrics\": [\n              {\n                \"threshold\": 0.8,\n                \"name\": \"accuracy\"\n              }\n            ],\n            \"method\": \"multiclass\"\n          },\n          \"auto_redeploy\": \"conditionally\",\n          \"schedule\": {\n            \"start\": \"1970-01-01T10:11:12Z\",\n            \"expression\": \"0 0 0 1 1 ? 1970\",\n            \"until\": \"1970-01-01T10:11:12Z\"\n          },\n          \"min_feedback_data_size\": 30,\n          \"auto_retrain\": \"conditionally\",\n          \"spark_service\": {\n            \"credentials\": {\n              \"tenant_id_full\": \"9c87ff2a-99c9-40a4-a86b-18e61b28c674_e6d9f948-d4d4-411b-9ce4-3fbaf243aed6\",\n              \"plan\": \"ibm.SparkService.PayGoPersonal\",\n              \"tenant_secret\": \"09350d00-a602-49b9-8160-910fdb339747\",\n              \"tenant_id\": \"s86b-18e61b28c674e4-3fbaf243aed6\",\n              \"cluster_master_url\": \"https://spark.bluemix.net\",\n              \"instance_id\": \"9c87ff2a-99c9-40a4-a86b-18e61b28c674\"\n            },\n            \"version\": \"2.0\"\n          },\n          \"last_training_record\": 1506696176874\n        },\n        \"label_col\": \"DRUG\",\n        \"deployments\": {\n          \"url\": \"https://ibm-watson-ml.mybluemix.net/v3/wml_instances/81eb122f-a170-4efd-86b6-4a8afa16d30b/published_models/77022504-8ad9-45c6-9b25-f51acd0e5222/deployments\",\n          \"count\": 1\n        },\n        \"training_data_schema\": {\n          \"type\": \"struct\",\n          \"fields\": [\n            {\n              \"metadata\": {\n                \"name\": \"AGE\",\n                \"scale\": 0\n              },\n              \"name\": \"AGE\",\n              \"type\": \"integer\",\n              \"nullable\": true\n            },\n            {\n              \"metadata\": {\n                \"name\": \"SEX\",\n                \"scale\": 0\n              },\n              \"name\": \"SEX\",\n              \"type\": \"string\",\n              \"nullable\": true\n            },\n            {\n              \"metadata\": {\n                \"name\": \"BP\",\n                \"scale\": 0\n              },\n              \"name\": \"BP\",\n              \"type\": \"string\",\n              \"nullable\": true\n            },\n            {\n              \"metadata\": {\n                \"name\": \"CHOLESTEROL\",\n                \"scale\": 0\n              },\n              \"name\": \"CHOLESTEROL\",\n              \"type\": \"string\",\n              \"nullable\": true\n            },\n            {\n              \"metadata\": {\n                \"name\": \"NA\",\n                \"scale\": 6\n              },\n              \"name\": \"NA\",\n              \"type\": \"decimal(12,6)\",\n              \"nullable\": true\n            },\n            {\n              \"metadata\": {\n                \"name\": \"K\",\n                \"scale\": 6\n              },\n              \"name\": \"K\",\n              \"type\": \"decimal(13,6)\",\n              \"nullable\": true\n            },\n            {\n              \"metadata\": {\n                \"name\": \"DRUG\",\n                \"scale\": 0\n              },\n              \"name\": \"DRUG\",\n              \"type\": \"string\",\n              \"nullable\": true\n            }\n          ]\n        },\n        \"author\": {\n          \"email\": \"\",\n          \"name\": \"IBM\"\n        }\n      }\n    },\n    {\n      \"metadata\": {\n        \"created_at\": \"2017-09-15T11:02:27.337Z\",\n        \"url\": \"https://ibm-watson-ml.mybluemix.net/v3/wml_instances/81eb122f-a170-4efd-86b6-4a8afa16d30b/published_models/b65fd8c0-0446-4934-93e8-c2fa3a2e463a\",\n        \"modified_at\": \"2017-10-09T10:31:45.107Z\",\n        \"guid\": \"b65fd8c0-0446-4934-93e8-c2fa3a2e463a\"\n      },\n      \"entity\": {\n        \"label_col\": \"PRODUCT_LINE\",\n        \"latest_version\": {\n          \"created_at\": \"2017-09-15T11:02:27.508Z\",\n          \"url\": \"https://ibm-watson-ml.mybluemix.net/v2/artifacts/models/b65fd8c0-0446-4934-93e8-c2fa3a2e463a/versions/69c9a47b-8b3b-4eca-80ff-36fe5c3ce4c1\",\n          \"guid\": \"69c9a47b-8b3b-4eca-80ff-36fe5c3ce4c1\"\n        },\n        \"runtime_environment\": \"spark-2.0\",\n        \"deployments\": {\n          \"url\": \"https://ibm-watson-ml.mybluemix.net/v3/wml_instances/81eb122f-a170-4efd-86b6-4a8afa16d30b/published_models/b65fd8c0-0446-4934-93e8-c2fa3a2e463a/deployments\",\n          \"count\": 0\n        },\n        \"name\": \"Product Line Prediction\",\n        \"description\": \"Predicts clients' interests in terms of sport product lines for chain stores in Europe.\",\n        \"model_type\": \"sparkml-model-2.0\",\n        \"input_data_schema\": {\n          \"fields\": [\n            {\n              \"metadata\": {},\n              \"name\": \"GENDER\",\n              \"type\": \"string\",\n              \"nullable\": true\n            },\n            {\n              \"metadata\": {},\n              \"name\": \"AGE\",\n              \"type\": \"integer\",\n              \"nullable\": true\n            },\n            {\n              \"metadata\": {},\n              \"name\": \"MARITAL_STATUS\",\n              \"type\": \"string\",\n              \"nullable\": true\n            },\n            {\n              \"metadata\": {},\n              \"name\": \"PROFESSION\",\n              \"type\": \"string\",\n              \"nullable\": true\n            }\n          ],\n          \"type\": \"struct\"\n        },\n        \"training_data_schema\": {\n          \"fields\": [\n            {\n              \"metadata\": {},\n              \"name\": \"PRODUCT_LINE\",\n              \"type\": \"string\",\n              \"nullable\": true\n            },\n            {\n              \"metadata\": {},\n              \"name\": \"GENDER\",\n              \"type\": \"string\",\n              \"nullable\": true\n            },\n            {\n              \"metadata\": {},\n              \"name\": \"AGE\",\n              \"type\": \"integer\",\n              \"nullable\": true\n            },\n            {\n              \"metadata\": {},\n              \"name\": \"MARITAL_STATUS\",\n              \"type\": \"string\",\n              \"nullable\": true\n            },\n            {\n              \"metadata\": {},\n              \"name\": \"PROFESSION\",\n              \"type\": \"string\",\n              \"nullable\": true\n            }\n          ],\n          \"type\": \"struct\"\n        },\n        \"author\": {\n          \"email\": \"\",\n          \"name\": \"IBM\"\n        }\n      }\n    },\n    {\n      \"metadata\": {\n        \"created_at\": \"2017-10-10T10:17:00.433Z\",\n        \"url\": \"https://ibm-watson-ml.mybluemix.net/v3/wml_instances/81eb122f-a170-4efd-86b6-4a8afa16d30b/published_models/ef144e14-c0e6-4f25-83cb-3b225e0278c4\",\n        \"guid\": \"ef144e14-c0e6-4f25-83cb-3b225e0278c4\"\n      },\n      \"entity\": {\n        \"label_col\": \"PRODUCT_LINE\",\n        \"deployments\": {\n          \"url\": \"https://ibm-watson-ml.mybluemix.net/v3/wml_instances/81eb122f-a170-4efd-86b6-4a8afa16d30b/published_models/ef144e14-c0e6-4f25-83cb-3b225e0278c4/deployments\",\n          \"count\": 0\n        },\n        \"runtime_environment\": \"spark-2.0\",\n        \"training_data_schema\": {\n          \"type\": \"struct\",\n          \"fields\": [\n            {\n              \"metadata\": {},\n              \"nullable\": true,\n              \"type\": \"string\",\n              \"name\": \"PRODUCT_LINE\"\n            },\n            {\n              \"metadata\": {},\n              \"nullable\": true,\n              \"type\": \"string\",\n              \"name\": \"GENDER\"\n            },\n            {\n              \"metadata\": {},\n              \"nullable\": true,\n              \"type\": \"integer\",\n              \"name\": \"AGE\"\n            },\n            {\n              \"metadata\": {},\n              \"nullable\": true,\n              \"type\": \"string\",\n              \"name\": \"MARITAL_STATUS\"\n            },\n            {\n              \"metadata\": {},\n              \"nullable\": true,\n              \"type\": \"string\",\n              \"name\": \"PROFESSION\"\n            }\n          ]\n        },\n        \"model_type\": \"sparkml-model-2.0\",\n        \"input_data_schema\": {\n          \"type\": \"struct\",\n          \"fields\": [\n            {\n              \"metadata\": {},\n              \"nullable\": true,\n              \"type\": \"string\",\n              \"name\": \"GENDER\"\n            },\n            {\n              \"metadata\": {},\n              \"nullable\": true,\n              \"type\": \"integer\",\n              \"name\": \"AGE\"\n            },\n            {\n              \"metadata\": {},\n              \"nullable\": true,\n              \"type\": \"string\",\n              \"name\": \"MARITAL_STATUS\"\n            },\n            {\n              \"metadata\": {},\n              \"nullable\": true,\n              \"type\": \"string\",\n              \"name\": \"PROFESSION\"\n            }\n          ]\n        },\n        \"name\": \"LOCALLY created Product Line Prediction model\",\n        \"author\": {}\n      }\n    }\n  ],\n  \"count\": 6\n}\n", 
                    "output_type": "stream"
                }
            ]
        }, 
        {
            "source": "### 4.3: Load model", 
            "cell_type": "markdown", 
            "metadata": {}
        }, 
        {
            "source": "In this subsection you will learn how to load back saved model from specified instance of Watson Machine Learning.", 
            "cell_type": "markdown", 
            "metadata": {}
        }, 
        {
            "source": "loaded_model = client.repository.load(published_model.uid)", 
            "execution_count": 30, 
            "cell_type": "code", 
            "metadata": {
                "collapsed": true, 
                "scrolled": true
            }, 
            "outputs": []
        }, 
        {
            "source": "You can pass test_data to loaded model ``transform()`` method to make sure that model has been loaded correctly.", 
            "cell_type": "markdown", 
            "metadata": {}
        }, 
        {
            "source": "test_predictions = loaded_model.transform(test_data)", 
            "execution_count": 31, 
            "cell_type": "code", 
            "metadata": {
                "collapsed": true
            }, 
            "outputs": []
        }, 
        {
            "source": "test_predictions.show(3)", 
            "execution_count": 32, 
            "cell_type": "code", 
            "metadata": {}, 
            "outputs": [
                {
                    "name": "stdout", 
                    "text": "+-----------------+------+---+--------------+-----------+-----+-------------+---------+-----------------+------------------+--------------------+--------------------+----------+--------------------+\n|     PRODUCT_LINE|GENDER|AGE|MARITAL_STATUS| PROFESSION|label|PROFESSION_IX|GENDER_IX|MARITAL_STATUS_IX|          features|       rawPrediction|         probability|prediction|      predictedLabel|\n+-----------------+------+---+--------------+-----------+-----+-------------+---------+-----------------+------------------+--------------------+--------------------+----------+--------------------+\n|Camping Equipment|     F| 18|        Single|      Other|  0.0|          0.0|      1.0|              1.0|[1.0,18.0,1.0,0.0]|[4.94415029685990...|[0.24720751484299...|       1.0|Personal Accessories|\n|Camping Equipment|     F| 18|        Single|     Retail|  0.0|          7.0|      1.0|              1.0|[1.0,18.0,1.0,7.0]|[2.88119976249765...|[0.14405998812488...|       1.0|Personal Accessories|\n|Camping Equipment|     F| 19|        Single|Hospitality|  0.0|          5.0|      1.0|              1.0|[1.0,19.0,1.0,5.0]|[13.1057054311229...|[0.65528527155614...|       0.0|   Camping Equipment|\n+-----------------+------+---+--------------+-----------+-----+-------------+---------+-----------------+------------------+--------------------+--------------------+----------+--------------------+\nonly showing top 3 rows\n\n", 
                    "output_type": "stream"
                }
            ]
        }, 
        {
            "source": "As you can see the loaded model works. You have already learned how save and load the model from Watson Machine Learning repository.", 
            "cell_type": "markdown", 
            "metadata": {}
        }, 
        {
            "source": "### 4.4: Delete model", 
            "cell_type": "markdown", 
            "metadata": {}
        }, 
        {
            "source": "You can delete published model from Watson Machine Learning repository using below code. The code is commented out at this stage since the model will be needed later for deployment.", 
            "cell_type": "markdown", 
            "metadata": {}
        }, 
        {
            "source": "client.repository.delete(published_model.uid)", 
            "cell_type": "raw", 
            "metadata": {}
        }, 
        {
            "source": "<a id=\"scoring\"></a>\n## 5. Deploy and score in a Cloud", 
            "cell_type": "markdown", 
            "metadata": {}
        }, 
        {
            "source": "In this section you will learn how to create online scoring and to score a new data record by using the Watson Machine Learning Client. ", 
            "cell_type": "markdown", 
            "metadata": {}
        }, 
        {
            "source": "### 5.1: Create online deployment", 
            "cell_type": "markdown", 
            "metadata": {}
        }, 
        {
            "source": "scoring_endpoint = client.deployments.create(published_model.uid, \"Deployment of locally created model XXX\")", 
            "execution_count": 33, 
            "cell_type": "code", 
            "metadata": {
                "collapsed": true
            }, 
            "outputs": []
        }, 
        {
            "source": "Now you can print an online scoring endpoint. ", 
            "cell_type": "markdown", 
            "metadata": {}
        }, 
        {
            "source": "print(scoring_endpoint)", 
            "execution_count": 34, 
            "cell_type": "code", 
            "metadata": {}, 
            "outputs": [
                {
                    "name": "stdout", 
                    "text": "https://ibm-watson-ml.mybluemix.net/v3/wml_instances/81eb122f-a170-4efd-86b6-4a8afa16d30b/published_models/23d93142-c740-4cec-9cd6-18dad8bb9717/deployments/f26b7e73-a342-491e-9339-51b48abae624/online\n", 
                    "output_type": "stream"
                }
            ]
        }, 
        {
            "source": "### 5.2: Get deployments", 
            "cell_type": "markdown", 
            "metadata": {}
        }, 
        {
            "source": "deployments = client.deployments.get_details()", 
            "execution_count": 35, 
            "cell_type": "code", 
            "metadata": {
                "collapsed": true
            }, 
            "outputs": []
        }, 
        {
            "source": "print(json.dumps(deployments, indent=2))", 
            "execution_count": 36, 
            "cell_type": "code", 
            "metadata": {}, 
            "outputs": [
                {
                    "name": "stdout", 
                    "text": "{\n  \"resources\": [\n    {\n      \"metadata\": {\n        \"created_at\": \"2017-09-29T14:38:32.181Z\",\n        \"url\": \"https://ibm-watson-ml.mybluemix.net/v3/wml_instances/81eb122f-a170-4efd-86b6-4a8afa16d30b/published_models/77022504-8ad9-45c6-9b25-f51acd0e5222/deployments/b83dfdf8-db9a-4d38-b096-d8b91fd011ae\",\n        \"modified_at\": \"2017-09-29T14:44:02.095Z\",\n        \"guid\": \"b83dfdf8-db9a-4d38-b096-d8b91fd011ae\"\n      },\n      \"entity\": {\n        \"scoring_url\": \"https://ibm-watson-ml.mybluemix.net/v3/wml_instances/81eb122f-a170-4efd-86b6-4a8afa16d30b/published_models/77022504-8ad9-45c6-9b25-f51acd0e5222/deployments/b83dfdf8-db9a-4d38-b096-d8b91fd011ae/online\",\n        \"runtime_environment\": \"spark-2.0\",\n        \"published_model\": {\n          \"created_at\": \"2017-09-28T13:14:02.899Z\",\n          \"url\": \"https://ibm-watson-ml.mybluemix.net/v3/wml_instances/81eb122f-a170-4efd-86b6-4a8afa16d30b/published_models/77022504-8ad9-45c6-9b25-f51acd0e5222\",\n          \"guid\": \"77022504-8ad9-45c6-9b25-f51acd0e5222\",\n          \"description\": \"Predicts the best drug for a patient with heart disease.\",\n          \"name\": \"Best Heart Drug Selection\",\n          \"author\": {\n            \"email\": \"\",\n            \"name\": \"IBM\"\n          }\n        },\n        \"name\": \"Hd deployment\",\n        \"model_type\": \"sparkml-model-2.0\",\n        \"status\": \"ACTIVE\",\n        \"type\": \"online\",\n        \"deployed_version\": {\n          \"created_at\": \"2017-09-29T14:43:27.726Z\",\n          \"url\": \"https://ibm-watson-ml.mybluemix.net/v2/artifacts/models/77022504-8ad9-45c6-9b25-f51acd0e5222/versions/320cf9c5-2246-496e-99d2-5ae130953104\",\n          \"guid\": \"320cf9c5-2246-496e-99d2-5ae130953104\"\n        }\n      }\n    },\n    {\n      \"metadata\": {\n        \"created_at\": \"2017-10-10T11:27:07.074Z\",\n        \"url\": \"https://ibm-watson-ml.mybluemix.net/v3/wml_instances/81eb122f-a170-4efd-86b6-4a8afa16d30b/published_models/23d93142-c740-4cec-9cd6-18dad8bb9717/deployments/f26b7e73-a342-491e-9339-51b48abae624\",\n        \"modified_at\": \"2017-10-10T11:27:08.949Z\",\n        \"guid\": \"f26b7e73-a342-491e-9339-51b48abae624\"\n      },\n      \"entity\": {\n        \"scoring_url\": \"https://ibm-watson-ml.mybluemix.net/v3/wml_instances/81eb122f-a170-4efd-86b6-4a8afa16d30b/published_models/23d93142-c740-4cec-9cd6-18dad8bb9717/deployments/f26b7e73-a342-491e-9339-51b48abae624/online\",\n        \"runtime_environment\": \"spark-2.0\",\n        \"published_model\": {\n          \"url\": \"https://ibm-watson-ml.mybluemix.net/v3/wml_instances/81eb122f-a170-4efd-86b6-4a8afa16d30b/published_models/23d93142-c740-4cec-9cd6-18dad8bb9717\",\n          \"name\": \"LOCALLY created Product Line Prediction model\",\n          \"author\": {},\n          \"guid\": \"23d93142-c740-4cec-9cd6-18dad8bb9717\",\n          \"created_at\": \"2017-10-10T11:27:06.975Z\"\n        },\n        \"name\": \"Deployment of locally created model XXX\",\n        \"description\": \"Model deployment\",\n        \"model_type\": \"sparkml-model-2.0\",\n        \"status\": \"ACTIVE\",\n        \"type\": \"online\",\n        \"deployed_version\": {\n          \"created_at\": \"2017-10-10T11:26:32.536Z\",\n          \"url\": \"https://ibm-watson-ml.mybluemix.net/v2/artifacts/models/23d93142-c740-4cec-9cd6-18dad8bb9717/versions/57899b60-5336-448d-81cb-ec140e7e8112\",\n          \"guid\": \"57899b60-5336-448d-81cb-ec140e7e8112\"\n        }\n      }\n    }\n  ],\n  \"count\": 2\n}\n", 
                    "output_type": "stream"
                }
            ]
        }, 
        {
            "source": "You can get deployment_url by parsing deployment details.", 
            "cell_type": "markdown", 
            "metadata": {}
        }, 
        {
            "source": "deployment_url = deployments.get('resources')[0].get('metadata').get('url')\nprint(deployment_url)", 
            "execution_count": 37, 
            "cell_type": "code", 
            "metadata": {}, 
            "outputs": [
                {
                    "name": "stdout", 
                    "text": "https://ibm-watson-ml.mybluemix.net/v3/wml_instances/81eb122f-a170-4efd-86b6-4a8afa16d30b/published_models/77022504-8ad9-45c6-9b25-f51acd0e5222/deployments/b83dfdf8-db9a-4d38-b096-d8b91fd011ae\n", 
                    "output_type": "stream"
                }
            ]
        }, 
        {
            "source": "### 5.3: Score", 
            "cell_type": "markdown", 
            "metadata": {}
        }, 
        {
            "source": "You can use below method to do test scoring request against deployed model.", 
            "cell_type": "markdown", 
            "metadata": {}
        }, 
        {
            "source": "**Action**: Prepare scoring payload with records to score.", 
            "cell_type": "markdown", 
            "metadata": {}
        }, 
        {
            "source": "scoring_payload = {\"fields\": [\"GENDER\",\"AGE\",\"MARITAL_STATUS\",\"PROFESSION\"],\"values\": [[\"M\",23,\"Single\",\"Student\"],[\"M\",55,\"Single\",\"Executive\"]]}", 
            "execution_count": 38, 
            "cell_type": "code", 
            "metadata": {
                "collapsed": true
            }, 
            "outputs": []
        }, 
        {
            "source": "Use ``client.deployments.score()`` method to run scoring.", 
            "cell_type": "markdown", 
            "metadata": {}
        }, 
        {
            "source": "predictions = client.deployments.score(scoring_endpoint, scoring_payload)", 
            "execution_count": 39, 
            "cell_type": "code", 
            "metadata": {
                "collapsed": true
            }, 
            "outputs": []
        }, 
        {
            "source": "print(json.dumps(predictions, indent=2))", 
            "execution_count": 40, 
            "cell_type": "code", 
            "metadata": {}, 
            "outputs": [
                {
                    "name": "stdout", 
                    "text": "{\n  \"fields\": [\n    \"GENDER\",\n    \"AGE\",\n    \"MARITAL_STATUS\",\n    \"PROFESSION\",\n    \"PRODUCT_LINE\",\n    \"label\",\n    \"PROFESSION_IX\",\n    \"GENDER_IX\",\n    \"MARITAL_STATUS_IX\",\n    \"features\",\n    \"rawPrediction\",\n    \"probability\",\n    \"prediction\",\n    \"predictedLabel\"\n  ],\n  \"values\": [\n    [\n      \"M\",\n      23,\n      \"Single\",\n      \"Student\",\n      \"Camping Equipment\",\n      0.0,\n      6.0,\n      0.0,\n      1.0,\n      [\n        0.0,\n        23.0,\n        1.0,\n        6.0\n      ],\n      [\n        4.5146661875758465,\n        7.57017273688273,\n        5.662967039590646,\n        0.1716508249665755,\n        2.0805432109842013\n      ],\n      [\n        0.22573330937879232,\n        0.3785086368441365,\n        0.2831483519795323,\n        0.008582541248328775,\n        0.10402716054921006\n      ],\n      1.0,\n      \"Personal Accessories\"\n    ],\n    [\n      \"M\",\n      55,\n      \"Single\",\n      \"Executive\",\n      \"Camping Equipment\",\n      0.0,\n      3.0,\n      0.0,\n      1.0,\n      [\n        0.0,\n        55.0,\n        1.0,\n        3.0\n      ],\n      [\n        6.16301222645218,\n        3.707847727151234,\n        6.220714618172085,\n        3.5328412183737745,\n        0.3755842098507278\n      ],\n      [\n        0.30815061132260896,\n        0.18539238635756167,\n        0.3110357309086042,\n        0.1766420609186887,\n        0.018779210492536388\n      ],\n      2.0,\n      \"Mountaineering Equipment\"\n    ]\n  ]\n}\n", 
                    "output_type": "stream"
                }
            ]
        }, 
        {
            "source": "### 5.4: Delete deployment", 
            "cell_type": "markdown", 
            "metadata": {}
        }, 
        {
            "source": "Use the following method to delete deployment.", 
            "cell_type": "markdown", 
            "metadata": {}
        }, 
        {
            "source": "client.deployments.delete(deployment_url)", 
            "execution_count": 41, 
            "cell_type": "code", 
            "metadata": {
                "collapsed": true
            }, 
            "outputs": []
        }, 
        {
            "source": "You can check number of depoyments by running ``client.deployment.get()`` method.", 
            "cell_type": "markdown", 
            "metadata": {}
        }, 
        {
            "source": "client.deployments.get_details()", 
            "execution_count": 42, 
            "cell_type": "code", 
            "metadata": {}, 
            "outputs": [
                {
                    "data": {
                        "text/plain": "{'count': 1,\n 'resources': [{'entity': {'deployed_version': {'created_at': '2017-10-10T11:26:32.536Z',\n     'guid': '57899b60-5336-448d-81cb-ec140e7e8112',\n     'url': 'https://ibm-watson-ml.mybluemix.net/v2/artifacts/models/23d93142-c740-4cec-9cd6-18dad8bb9717/versions/57899b60-5336-448d-81cb-ec140e7e8112'},\n    'description': 'Model deployment',\n    'model_type': 'sparkml-model-2.0',\n    'name': 'Deployment of locally created model XXX',\n    'published_model': {'author': {},\n     'created_at': '2017-10-10T11:27:06.975Z',\n     'guid': '23d93142-c740-4cec-9cd6-18dad8bb9717',\n     'name': 'LOCALLY created Product Line Prediction model',\n     'url': 'https://ibm-watson-ml.mybluemix.net/v3/wml_instances/81eb122f-a170-4efd-86b6-4a8afa16d30b/published_models/23d93142-c740-4cec-9cd6-18dad8bb9717'},\n    'runtime_environment': 'spark-2.0',\n    'scoring_url': 'https://ibm-watson-ml.mybluemix.net/v3/wml_instances/81eb122f-a170-4efd-86b6-4a8afa16d30b/published_models/23d93142-c740-4cec-9cd6-18dad8bb9717/deployments/f26b7e73-a342-491e-9339-51b48abae624/online',\n    'status': 'ACTIVE',\n    'type': 'online'},\n   'metadata': {'created_at': '2017-10-10T11:27:07.074Z',\n    'guid': 'f26b7e73-a342-491e-9339-51b48abae624',\n    'modified_at': '2017-10-10T11:27:08.949Z',\n    'url': 'https://ibm-watson-ml.mybluemix.net/v3/wml_instances/81eb122f-a170-4efd-86b6-4a8afa16d30b/published_models/23d93142-c740-4cec-9cd6-18dad8bb9717/deployments/f26b7e73-a342-491e-9339-51b48abae624'}}]}"
                    }, 
                    "execution_count": 42, 
                    "output_type": "execute_result", 
                    "metadata": {}
                }
            ]
        }, 
        {
            "source": "### 5.5: Delete model", 
            "cell_type": "markdown", 
            "metadata": {}
        }, 
        {
            "source": "client.repository.delete(published_model.uid)", 
            "execution_count": 43, 
            "cell_type": "code", 
            "metadata": {
                "collapsed": true
            }, 
            "outputs": []
        }, 
        {
            "source": "You can check number of your models by running below ``client.repository.get_details()`` method.", 
            "cell_type": "markdown", 
            "metadata": {}
        }, 
        {
            "source": "client.repository.get_details()", 
            "execution_count": 44, 
            "cell_type": "code", 
            "metadata": {}, 
            "outputs": [
                {
                    "data": {
                        "text/plain": "{'count': 5,\n 'resources': [{'entity': {'author': {},\n    'deployments': {'count': 0,\n     'url': 'https://ibm-watson-ml.mybluemix.net/v3/wml_instances/81eb122f-a170-4efd-86b6-4a8afa16d30b/published_models/4285837c-6a5a-40c7-8d37-e63f75b05182/deployments'},\n    'input_data_schema': {'fields': [{'metadata': {},\n       'name': 'GENDER',\n       'nullable': True,\n       'type': 'string'},\n      {'metadata': {}, 'name': 'AGE', 'nullable': True, 'type': 'integer'},\n      {'metadata': {},\n       'name': 'MARITAL_STATUS',\n       'nullable': True,\n       'type': 'string'},\n      {'metadata': {},\n       'name': 'PROFESSION',\n       'nullable': True,\n       'type': 'string'}],\n     'type': 'struct'},\n    'label_col': 'PRODUCT_LINE',\n    'model_type': 'sparkml-model-2.0',\n    'name': 'LOCALLY created Product Line Prediction model',\n    'runtime_environment': 'spark-2.0',\n    'training_data_schema': {'fields': [{'metadata': {},\n       'name': 'PRODUCT_LINE',\n       'nullable': True,\n       'type': 'string'},\n      {'metadata': {}, 'name': 'GENDER', 'nullable': True, 'type': 'string'},\n      {'metadata': {}, 'name': 'AGE', 'nullable': True, 'type': 'integer'},\n      {'metadata': {},\n       'name': 'MARITAL_STATUS',\n       'nullable': True,\n       'type': 'string'},\n      {'metadata': {},\n       'name': 'PROFESSION',\n       'nullable': True,\n       'type': 'string'}],\n     'type': 'struct'}},\n   'metadata': {'created_at': '2017-10-10T10:35:24.759Z',\n    'guid': '4285837c-6a5a-40c7-8d37-e63f75b05182',\n    'url': 'https://ibm-watson-ml.mybluemix.net/v3/wml_instances/81eb122f-a170-4efd-86b6-4a8afa16d30b/published_models/4285837c-6a5a-40c7-8d37-e63f75b05182'}},\n  {'entity': {'author': {},\n    'deployments': {'count': 0,\n     'url': 'https://ibm-watson-ml.mybluemix.net/v3/wml_instances/81eb122f-a170-4efd-86b6-4a8afa16d30b/published_models/7265db7f-1e20-4146-bb9e-7ac38f8d0fdc/deployments'},\n    'input_data_schema': {'fields': [{'metadata': {},\n       'name': 'GENDER',\n       'nullable': True,\n       'type': 'string'},\n      {'metadata': {}, 'name': 'AGE', 'nullable': True, 'type': 'integer'},\n      {'metadata': {},\n       'name': 'MARITAL_STATUS',\n       'nullable': True,\n       'type': 'string'},\n      {'metadata': {},\n       'name': 'PROFESSION',\n       'nullable': True,\n       'type': 'string'}],\n     'type': 'struct'},\n    'label_col': 'PRODUCT_LINE',\n    'model_type': 'sparkml-model-2.0',\n    'name': 'LOCALLY created Product Line Prediction model',\n    'runtime_environment': 'spark-2.0',\n    'training_data_schema': {'fields': [{'metadata': {},\n       'name': 'PRODUCT_LINE',\n       'nullable': True,\n       'type': 'string'},\n      {'metadata': {}, 'name': 'GENDER', 'nullable': True, 'type': 'string'},\n      {'metadata': {}, 'name': 'AGE', 'nullable': True, 'type': 'integer'},\n      {'metadata': {},\n       'name': 'MARITAL_STATUS',\n       'nullable': True,\n       'type': 'string'},\n      {'metadata': {},\n       'name': 'PROFESSION',\n       'nullable': True,\n       'type': 'string'}],\n     'type': 'struct'}},\n   'metadata': {'created_at': '2017-10-10T10:17:44.768Z',\n    'guid': '7265db7f-1e20-4146-bb9e-7ac38f8d0fdc',\n    'url': 'https://ibm-watson-ml.mybluemix.net/v3/wml_instances/81eb122f-a170-4efd-86b6-4a8afa16d30b/published_models/7265db7f-1e20-4146-bb9e-7ac38f8d0fdc'}},\n  {'entity': {'author': {'email': '', 'name': 'IBM'},\n    'deployed_version': {'created_at': '2017-09-29T14:43:27.726Z',\n     'guid': '320cf9c5-2246-496e-99d2-5ae130953104',\n     'url': 'https://ibm-watson-ml.mybluemix.net/v2/artifacts/models/77022504-8ad9-45c6-9b25-f51acd0e5222/versions/320cf9c5-2246-496e-99d2-5ae130953104'},\n    'deployments': {'count': 0,\n     'url': 'https://ibm-watson-ml.mybluemix.net/v3/wml_instances/81eb122f-a170-4efd-86b6-4a8afa16d30b/published_models/77022504-8ad9-45c6-9b25-f51acd0e5222/deployments'},\n    'description': 'Predicts the best drug for a patient with heart disease.',\n    'input_data_schema': {'fields': [{'metadata': {'name': 'AGE', 'scale': 0},\n       'name': 'AGE',\n       'nullable': True,\n       'type': 'integer'},\n      {'metadata': {'name': 'SEX', 'scale': 0},\n       'name': 'SEX',\n       'nullable': True,\n       'type': 'string'},\n      {'metadata': {'name': 'BP', 'scale': 0},\n       'name': 'BP',\n       'nullable': True,\n       'type': 'string'},\n      {'metadata': {'name': 'CHOLESTEROL', 'scale': 0},\n       'name': 'CHOLESTEROL',\n       'nullable': True,\n       'type': 'string'},\n      {'metadata': {'name': 'NA', 'scale': 6},\n       'name': 'NA',\n       'nullable': True,\n       'type': 'decimal(12,6)'},\n      {'metadata': {'name': 'K', 'scale': 6},\n       'name': 'K',\n       'nullable': True,\n       'type': 'decimal(13,6)'}],\n     'type': 'struct'},\n    'label_col': 'DRUG',\n    'latest_version': {'created_at': '2017-09-29T14:43:27.752Z',\n     'guid': '320cf9c5-2246-496e-99d2-5ae130953104',\n     'url': 'https://ibm-watson-ml.mybluemix.net/v2/artifacts/models/77022504-8ad9-45c6-9b25-f51acd0e5222/versions/320cf9c5-2246-496e-99d2-5ae130953104'},\n    'learning_configuration': {'auto_redeploy': 'conditionally',\n     'auto_retrain': 'conditionally',\n     'definition': {'method': 'multiclass',\n      'metrics': [{'name': 'accuracy', 'threshold': 0.8}]},\n     'feedback_data_ref': {'connection': {'db': 'BLUDB',\n       'host': 'dashdb-entry-yp-dal09-08.services.dal.bluemix.net',\n       'password': 'a3803360760c',\n       'username': 'dash14647'},\n      'source': {'tablename': 'DRUG_FEEDBACK_DATA', 'type': 'dashdb'}},\n     'last_training_record': 1506696176874,\n     'min_feedback_data_size': 30,\n     'schedule': {'expression': '0 0 0 1 1 ? 1970',\n      'start': '1970-01-01T10:11:12Z',\n      'until': '1970-01-01T10:11:12Z'},\n     'spark_service': {'credentials': {'cluster_master_url': 'https://spark.bluemix.net',\n       'instance_id': '9c87ff2a-99c9-40a4-a86b-18e61b28c674',\n       'plan': 'ibm.SparkService.PayGoPersonal',\n       'tenant_id': 's86b-18e61b28c674e4-3fbaf243aed6',\n       'tenant_id_full': '9c87ff2a-99c9-40a4-a86b-18e61b28c674_e6d9f948-d4d4-411b-9ce4-3fbaf243aed6',\n       'tenant_secret': '09350d00-a602-49b9-8160-910fdb339747'},\n      'version': '2.0'}},\n    'model_type': 'sparkml-model-2.0',\n    'name': 'Best Heart Drug Selection',\n    'runtime_environment': 'spark-2.0',\n    'training_data_schema': {'fields': [{'metadata': {'name': 'AGE',\n        'scale': 0},\n       'name': 'AGE',\n       'nullable': True,\n       'type': 'integer'},\n      {'metadata': {'name': 'SEX', 'scale': 0},\n       'name': 'SEX',\n       'nullable': True,\n       'type': 'string'},\n      {'metadata': {'name': 'BP', 'scale': 0},\n       'name': 'BP',\n       'nullable': True,\n       'type': 'string'},\n      {'metadata': {'name': 'CHOLESTEROL', 'scale': 0},\n       'name': 'CHOLESTEROL',\n       'nullable': True,\n       'type': 'string'},\n      {'metadata': {'name': 'NA', 'scale': 6},\n       'name': 'NA',\n       'nullable': True,\n       'type': 'decimal(12,6)'},\n      {'metadata': {'name': 'K', 'scale': 6},\n       'name': 'K',\n       'nullable': True,\n       'type': 'decimal(13,6)'},\n      {'metadata': {'name': 'DRUG', 'scale': 0},\n       'name': 'DRUG',\n       'nullable': True,\n       'type': 'string'}],\n     'type': 'struct'}},\n   'metadata': {'created_at': '2017-09-28T13:13:18.952Z',\n    'guid': '77022504-8ad9-45c6-9b25-f51acd0e5222',\n    'modified_at': '2017-10-10T11:27:24.430Z',\n    'url': 'https://ibm-watson-ml.mybluemix.net/v3/wml_instances/81eb122f-a170-4efd-86b6-4a8afa16d30b/published_models/77022504-8ad9-45c6-9b25-f51acd0e5222'}},\n  {'entity': {'author': {'email': '', 'name': 'IBM'},\n    'deployments': {'count': 0,\n     'url': 'https://ibm-watson-ml.mybluemix.net/v3/wml_instances/81eb122f-a170-4efd-86b6-4a8afa16d30b/published_models/b65fd8c0-0446-4934-93e8-c2fa3a2e463a/deployments'},\n    'description': \"Predicts clients' interests in terms of sport product lines for chain stores in Europe.\",\n    'input_data_schema': {'fields': [{'metadata': {},\n       'name': 'GENDER',\n       'nullable': True,\n       'type': 'string'},\n      {'metadata': {}, 'name': 'AGE', 'nullable': True, 'type': 'integer'},\n      {'metadata': {},\n       'name': 'MARITAL_STATUS',\n       'nullable': True,\n       'type': 'string'},\n      {'metadata': {},\n       'name': 'PROFESSION',\n       'nullable': True,\n       'type': 'string'}],\n     'type': 'struct'},\n    'label_col': 'PRODUCT_LINE',\n    'latest_version': {'created_at': '2017-09-15T11:02:27.508Z',\n     'guid': '69c9a47b-8b3b-4eca-80ff-36fe5c3ce4c1',\n     'url': 'https://ibm-watson-ml.mybluemix.net/v2/artifacts/models/b65fd8c0-0446-4934-93e8-c2fa3a2e463a/versions/69c9a47b-8b3b-4eca-80ff-36fe5c3ce4c1'},\n    'model_type': 'sparkml-model-2.0',\n    'name': 'Product Line Prediction',\n    'runtime_environment': 'spark-2.0',\n    'training_data_schema': {'fields': [{'metadata': {},\n       'name': 'PRODUCT_LINE',\n       'nullable': True,\n       'type': 'string'},\n      {'metadata': {}, 'name': 'GENDER', 'nullable': True, 'type': 'string'},\n      {'metadata': {}, 'name': 'AGE', 'nullable': True, 'type': 'integer'},\n      {'metadata': {},\n       'name': 'MARITAL_STATUS',\n       'nullable': True,\n       'type': 'string'},\n      {'metadata': {},\n       'name': 'PROFESSION',\n       'nullable': True,\n       'type': 'string'}],\n     'type': 'struct'}},\n   'metadata': {'created_at': '2017-09-15T11:02:27.337Z',\n    'guid': 'b65fd8c0-0446-4934-93e8-c2fa3a2e463a',\n    'modified_at': '2017-10-09T10:31:45.107Z',\n    'url': 'https://ibm-watson-ml.mybluemix.net/v3/wml_instances/81eb122f-a170-4efd-86b6-4a8afa16d30b/published_models/b65fd8c0-0446-4934-93e8-c2fa3a2e463a'}},\n  {'entity': {'author': {},\n    'deployments': {'count': 0,\n     'url': 'https://ibm-watson-ml.mybluemix.net/v3/wml_instances/81eb122f-a170-4efd-86b6-4a8afa16d30b/published_models/ef144e14-c0e6-4f25-83cb-3b225e0278c4/deployments'},\n    'input_data_schema': {'fields': [{'metadata': {},\n       'name': 'GENDER',\n       'nullable': True,\n       'type': 'string'},\n      {'metadata': {}, 'name': 'AGE', 'nullable': True, 'type': 'integer'},\n      {'metadata': {},\n       'name': 'MARITAL_STATUS',\n       'nullable': True,\n       'type': 'string'},\n      {'metadata': {},\n       'name': 'PROFESSION',\n       'nullable': True,\n       'type': 'string'}],\n     'type': 'struct'},\n    'label_col': 'PRODUCT_LINE',\n    'model_type': 'sparkml-model-2.0',\n    'name': 'LOCALLY created Product Line Prediction model',\n    'runtime_environment': 'spark-2.0',\n    'training_data_schema': {'fields': [{'metadata': {},\n       'name': 'PRODUCT_LINE',\n       'nullable': True,\n       'type': 'string'},\n      {'metadata': {}, 'name': 'GENDER', 'nullable': True, 'type': 'string'},\n      {'metadata': {}, 'name': 'AGE', 'nullable': True, 'type': 'integer'},\n      {'metadata': {},\n       'name': 'MARITAL_STATUS',\n       'nullable': True,\n       'type': 'string'},\n      {'metadata': {},\n       'name': 'PROFESSION',\n       'nullable': True,\n       'type': 'string'}],\n     'type': 'struct'}},\n   'metadata': {'created_at': '2017-10-10T10:17:00.433Z',\n    'guid': 'ef144e14-c0e6-4f25-83cb-3b225e0278c4',\n    'url': 'https://ibm-watson-ml.mybluemix.net/v3/wml_instances/81eb122f-a170-4efd-86b6-4a8afa16d30b/published_models/ef144e14-c0e6-4f25-83cb-3b225e0278c4'}}]}"
                    }, 
                    "execution_count": 44, 
                    "output_type": "execute_result", 
                    "metadata": {}
                }
            ]
        }, 
        {
            "source": "<a id=\"summary\"></a>\n## 7. Summary and next steps     ", 
            "cell_type": "markdown", 
            "metadata": {
                "collapsed": true
            }
        }, 
        {
            "source": " You successfully completed this notebook! You learned how to use Apache Spark machine learning as well as Watson Machine Learning for model creation and deployment. Check out our _[Online Documentation](https://console.ng.bluemix.net/docs/services/PredictiveModeling/pm_service_api_spark.html)_ for more samples, tutorials, documentation, how-tos, and blog posts. ", 
            "cell_type": "markdown", 
            "metadata": {
                "collapsed": true
            }
        }, 
        {
            "source": "### Authors\n\n**Lukasz Cmielowski**, PhD, is a Automation Architect and Data Scientist in IBM with a track record of developing enterprise-level applications that substantially increases clients' ability to turn data into actionable knowledge.", 
            "cell_type": "markdown", 
            "metadata": {}
        }, 
        {
            "source": "Copyright \u00a9 2017 IBM. This notebook and its source code are released under the terms of the MIT License.", 
            "cell_type": "markdown", 
            "metadata": {}
        }
    ], 
    "metadata": {
        "kernelspec": {
            "name": "python3-spark20", 
            "language": "python", 
            "display_name": "Python 3.5 (Experimental) with Spark 2.0"
        }, 
        "language_info": {
            "codemirror_mode": {
                "name": "ipython", 
                "version": 3
            }, 
            "name": "python", 
            "version": "3.5.2", 
            "pygments_lexer": "ipython3", 
            "nbconvert_exporter": "python", 
            "mimetype": "text/x-python", 
            "file_extension": ".py"
        }
    }
}