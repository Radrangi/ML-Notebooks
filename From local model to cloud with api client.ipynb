{
    "cells": [
        {
            "cell_type": "markdown", 
            "metadata": {}, 
            "source": "<table style=\"border: none\" align=\"left\">\n   <tr style=\"border: none\">\n      <th style=\"border: none\"><font face=\"verdana\" size=\"5\" color=\"black\"><b>From local Spark MLlib model to cloud with watson-machine-learning-client</b></th>\n      <th style=\"border: none\"><img src=\"https://github.com/pmservice/customer-satisfaction-prediction/blob/master/app/static/images/ml_icon_gray.png?raw=true\" alt=\"Watson Machine Learning icon\" height=\"40\" width=\"40\"></th>\n   </tr>\n   <tr style=\"border: none\">\n       <th style=\"border: none\"><img src=\"https://www-03.ibm.com/services/learning/images/journey_watson_wat_machine_learning_600x280.jpg\" alt=\"Icon\"> </th>\n   </tr>\n</table>"
        }, 
        {
            "cell_type": "markdown", 
            "metadata": {}, 
            "source": "This notebook contains steps and code to work with **``watson-machine-learning-client``** library. This notebook introduces commands for getting data, model persistance to Watson Machine Learning repository, model deployment and scoring.\n\nSome familiarity with Python is helpful. This notebook uses Python 3 and Apache\u00ae Spark 2.0.\n\nYou will use publicly available data \"GoSales Transactions for Naive Bayes Model\" about anonymous outdoor equipment purchase to predict clients' interests in terms of product line like: golf accessories, camping equipement and others.\n\n\n## Learning goals\n\nThe learning goals of this notebook are:\n- Load and explore data\n- Prepare data for training and evaluation\n- Create spark ml pipeline\n- Train and evaluate model\n- Persist local model in Watson Machine Learning repository using client library\n- Deploy model for online scoring using client library\n- Score sample records using client library\n\n\n## Contents\n\nThis notebook contains the following parts:\n\n1.\t[Setup](#setup)\n2.\t[Load and explore data](#load)\n3.\t[Create an Apache\u00ae Spark machine learning model](#model)\n4.\t[Persist created model using api client](#persistance)\n5.\t[Deploy and score in a Cloud using api client](#scoring)\n6.\t[Summary and next steps](#summary)"
        }, 
        {
            "cell_type": "markdown", 
            "metadata": {}, 
            "source": "<a id=\"setup\"></a>\n## 1. Setup\n\nBefore you use the sample code in this notebook, you must perform the following setup tasks:\n\n-  Create a [Watson Machine Learning Service](https://console.ng.bluemix.net/catalog/services/ibm-watson-machine-learning/) instance (a free plan is offered). \n-  Make sure that you are using a Spark 2.0 kernel."
        }, 
        {
            "cell_type": "markdown", 
            "metadata": {}, 
            "source": "<a id=\"load\"></a>\n## 2. Load and explore data"
        }, 
        {
            "cell_type": "markdown", 
            "metadata": {}, 
            "source": "In this section you will load the data as an Apache\u00ae Spark DataFrame and perform a basic exploration.\n\nLoad the data to the Spark DataFrame by using *wget* to upload the data to gpfs and then *read* method. "
        }, 
        {
            "cell_type": "markdown", 
            "metadata": {}, 
            "source": "**Example**: First, you need to install required packages. You can do it by running the following code. Run it only one time."
        }, 
        {
            "cell_type": "code", 
            "outputs": [
                {
                    "text": "Requirement already up-to-date: wget in /gpfs/global_fs01/sym_shared/YPProdSpark/user/sec7-2ac43fd194bc9a-8ef090487f81/.local/lib/python3.5/site-packages\r\n", 
                    "output_type": "stream", 
                    "name": "stdout"
                }
            ], 
            "metadata": {}, 
            "source": "!pip install wget --user --upgrade", 
            "execution_count": 1
        }, 
        {
            "cell_type": "code", 
            "outputs": [], 
            "metadata": {
                "collapsed": true
            }, 
            "source": "import wget\nimport json\nimport os", 
            "execution_count": 2
        }, 
        {
            "cell_type": "code", 
            "outputs": [
                {
                    "text": "GoSales_Tx_NaiveBayes.csv\n", 
                    "output_type": "stream", 
                    "name": "stdout"
                }
            ], 
            "metadata": {}, 
            "source": "filename = 'GoSales_Tx_NaiveBayes.csv'\n\nif not os.path.isfile(filename):\n    link_to_data = 'https://apsportal.ibm.com/exchange-api/v1/entries/8044492073eb964f46597b4be06ff5ea/data?accessKey=9561295fa407698694b1e254d0099600'\n    filename = wget.download(link_to_data)\n\nprint(filename)", 
            "execution_count": 3
        }, 
        {
            "cell_type": "markdown", 
            "metadata": {}, 
            "source": "The csv file GoSales_Tx_NaiveBayes.csv is availble on gpfs now. Load the file to Apache\u00ae Spark DataFrame using code below."
        }, 
        {
            "cell_type": "code", 
            "outputs": [], 
            "metadata": {
                "collapsed": true
            }, 
            "source": "spark = SparkSession.builder.getOrCreate()\n\ndf_data = spark.read\\\n  .format('org.apache.spark.sql.execution.datasources.csv.CSVFileFormat')\\\n  .option('header', 'true')\\\n  .option('inferSchema', 'true')\\\n  .load(filename)", 
            "execution_count": 4
        }, 
        {
            "cell_type": "markdown", 
            "metadata": {}, 
            "source": "Explore the loaded data by using the following Apache\u00ae Spark DataFrame methods:\n-  print schema\n-  print top ten records\n-  count all records"
        }, 
        {
            "cell_type": "code", 
            "outputs": [
                {
                    "text": "root\n |-- PRODUCT_LINE: string (nullable = true)\n |-- GENDER: string (nullable = true)\n |-- AGE: integer (nullable = true)\n |-- MARITAL_STATUS: string (nullable = true)\n |-- PROFESSION: string (nullable = true)\n\n", 
                    "output_type": "stream", 
                    "name": "stdout"
                }
            ], 
            "metadata": {}, 
            "source": "df_data.printSchema()", 
            "execution_count": 5
        }, 
        {
            "cell_type": "markdown", 
            "metadata": {}, 
            "source": "As you can see, the data contains five fields. PRODUCT_LINE field is the one we would like to predict (label)."
        }, 
        {
            "cell_type": "code", 
            "outputs": [
                {
                    "text": "+--------------------+------+---+--------------+------------+\n|        PRODUCT_LINE|GENDER|AGE|MARITAL_STATUS|  PROFESSION|\n+--------------------+------+---+--------------+------------+\n|Personal Accessories|     M| 27|        Single|Professional|\n|Personal Accessories|     F| 39|       Married|       Other|\n|Mountaineering Eq...|     F| 39|       Married|       Other|\n|Personal Accessories|     F| 56|   Unspecified| Hospitality|\n|      Golf Equipment|     M| 45|       Married|     Retired|\n|      Golf Equipment|     M| 45|       Married|     Retired|\n|   Camping Equipment|     F| 39|       Married|       Other|\n|   Camping Equipment|     F| 49|       Married|       Other|\n|  Outdoor Protection|     F| 49|       Married|       Other|\n|      Golf Equipment|     M| 47|       Married|     Retired|\n|      Golf Equipment|     M| 47|       Married|     Retired|\n|Mountaineering Eq...|     M| 21|        Single|      Retail|\n|Personal Accessories|     F| 66|       Married|       Other|\n|   Camping Equipment|     F| 35|       Married|Professional|\n|Mountaineering Eq...|     M| 20|        Single|       Sales|\n|Mountaineering Eq...|     M| 20|        Single|       Sales|\n|Mountaineering Eq...|     M| 20|        Single|       Sales|\n|Personal Accessories|     F| 37|        Single|       Other|\n|   Camping Equipment|     M| 42|       Married|       Other|\n|   Camping Equipment|     F| 24|       Married|      Retail|\n+--------------------+------+---+--------------+------------+\nonly showing top 20 rows\n\n", 
                    "output_type": "stream", 
                    "name": "stdout"
                }
            ], 
            "metadata": {}, 
            "source": "df_data.show()", 
            "execution_count": 6
        }, 
        {
            "cell_type": "code", 
            "outputs": [
                {
                    "output_type": "execute_result", 
                    "data": {
                        "text/plain": "60252"
                    }, 
                    "metadata": {}, 
                    "execution_count": 7
                }
            ], 
            "metadata": {}, 
            "source": "df_data.count()", 
            "execution_count": 7
        }, 
        {
            "cell_type": "markdown", 
            "metadata": {}, 
            "source": "As you can see, the data set contains 60252 records."
        }, 
        {
            "cell_type": "markdown", 
            "metadata": {}, 
            "source": "<a id=\"model\"></a>\n## 3. Create an Apache\u00ae Spark machine learning model\n\nIn this section you will learn how to prepare data, create an Apache\u00ae Spark machine learning pipeline, and train a model."
        }, 
        {
            "cell_type": "markdown", 
            "metadata": {}, 
            "source": "### 3.1: Prepare data\n\nIn this subsection you will split your data into: train, test and predict datasets."
        }, 
        {
            "cell_type": "code", 
            "outputs": [
                {
                    "text": "Number of training records: 48176\nNumber of testing records : 12076\n", 
                    "output_type": "stream", 
                    "name": "stdout"
                }
            ], 
            "metadata": {}, 
            "source": "splitted_data = df_data.randomSplit([0.8, 0.2], 24)\ntrain_data = splitted_data[0]\ntest_data = splitted_data[1]\n\nprint(\"Number of training records: \" + str(train_data.count()))\nprint(\"Number of testing records : \" + str(test_data.count()))", 
            "execution_count": 8
        }, 
        {
            "cell_type": "markdown", 
            "metadata": {}, 
            "source": "As you can see our data has been successfully split into three datasets: \n\n-  The train data set, which is the largest group, is used for training.\n-  The test data set will be used for model evaluation and is used to test the assumptions of the model."
        }, 
        {
            "cell_type": "markdown", 
            "metadata": {}, 
            "source": "### 3.2: Create pipeline and train a model"
        }, 
        {
            "cell_type": "markdown", 
            "metadata": {}, 
            "source": "In this section you will create an Apache\u00ae Spark machine learning pipeline and then train the model."
        }, 
        {
            "cell_type": "markdown", 
            "metadata": {}, 
            "source": "In the first step you need to import the Apache\u00ae Spark machine learning packages that will be needed in the subsequent steps."
        }, 
        {
            "cell_type": "code", 
            "outputs": [], 
            "metadata": {
                "collapsed": true
            }, 
            "source": "from pyspark.ml.feature import OneHotEncoder, StringIndexer, IndexToString, VectorAssembler\nfrom pyspark.ml.classification import RandomForestClassifier\nfrom pyspark.ml.evaluation import MulticlassClassificationEvaluator\nfrom pyspark.ml import Pipeline, Model", 
            "execution_count": 9
        }, 
        {
            "cell_type": "markdown", 
            "metadata": {}, 
            "source": "In the following step, convert all the string fields to numeric ones by using the StringIndexer transformer."
        }, 
        {
            "cell_type": "code", 
            "outputs": [], 
            "metadata": {
                "collapsed": true
            }, 
            "source": "stringIndexer_label = StringIndexer(inputCol=\"PRODUCT_LINE\", outputCol=\"label\").fit(df_data)\nstringIndexer_prof = StringIndexer(inputCol=\"PROFESSION\", outputCol=\"PROFESSION_IX\")\nstringIndexer_gend = StringIndexer(inputCol=\"GENDER\", outputCol=\"GENDER_IX\")\nstringIndexer_mar = StringIndexer(inputCol=\"MARITAL_STATUS\", outputCol=\"MARITAL_STATUS_IX\")", 
            "execution_count": 10
        }, 
        {
            "cell_type": "markdown", 
            "metadata": {}, 
            "source": "In the following step, create a feature vector by combining all features together."
        }, 
        {
            "cell_type": "code", 
            "outputs": [], 
            "metadata": {
                "collapsed": true
            }, 
            "source": "vectorAssembler_features = VectorAssembler(inputCols=[\"GENDER_IX\", \"AGE\", \"MARITAL_STATUS_IX\", \"PROFESSION_IX\"], outputCol=\"features\")", 
            "execution_count": 11
        }, 
        {
            "cell_type": "markdown", 
            "metadata": {}, 
            "source": "Next, define estimators you want to use for classification. Random Forest is used in the following example."
        }, 
        {
            "cell_type": "code", 
            "outputs": [], 
            "metadata": {
                "collapsed": true
            }, 
            "source": "rf = RandomForestClassifier(labelCol=\"label\", featuresCol=\"features\")", 
            "execution_count": 12
        }, 
        {
            "cell_type": "markdown", 
            "metadata": {}, 
            "source": "Finally, indexed labels back to original labels."
        }, 
        {
            "cell_type": "code", 
            "outputs": [], 
            "metadata": {
                "collapsed": true
            }, 
            "source": "labelConverter = IndexToString(inputCol=\"prediction\", outputCol=\"predictedLabel\", labels=stringIndexer_label.labels)", 
            "execution_count": 13
        }, 
        {
            "cell_type": "markdown", 
            "metadata": {}, 
            "source": "Let's build the pipeline now. A pipeline consists of transformers and an estimator."
        }, 
        {
            "cell_type": "code", 
            "outputs": [], 
            "metadata": {
                "collapsed": true
            }, 
            "source": "pipeline_rf = Pipeline(stages=[stringIndexer_label, stringIndexer_prof, stringIndexer_gend, stringIndexer_mar, vectorAssembler_features, rf, labelConverter])", 
            "execution_count": 14
        }, 
        {
            "cell_type": "markdown", 
            "metadata": {}, 
            "source": "Now, you can train your Random Forest model by using the previously defined **pipeline** and **train data**."
        }, 
        {
            "cell_type": "code", 
            "outputs": [], 
            "metadata": {
                "collapsed": true
            }, 
            "source": "model_rf = pipeline_rf.fit(train_data)", 
            "execution_count": 15
        }, 
        {
            "cell_type": "markdown", 
            "metadata": {}, 
            "source": "You can check your **model accuracy** now. To evaluate the model, use **test data**."
        }, 
        {
            "cell_type": "code", 
            "outputs": [
                {
                    "text": "Accuracy = 0.584796\n", 
                    "output_type": "stream", 
                    "name": "stdout"
                }
            ], 
            "metadata": {}, 
            "source": "predictions = model_rf.transform(test_data)\nevaluatorRF = MulticlassClassificationEvaluator(labelCol=\"label\", predictionCol=\"prediction\", metricName=\"accuracy\")\naccuracy = evaluatorRF.evaluate(predictions)\n\nprint(\"Accuracy = %g\" % accuracy)", 
            "execution_count": 16
        }, 
        {
            "cell_type": "markdown", 
            "metadata": {
                "collapsed": true
            }, 
            "source": "You can tune your model now to achieve better accuracy. For simplicity of this example tuning section is omitted."
        }, 
        {
            "cell_type": "markdown", 
            "metadata": {
                "collapsed": true
            }, 
            "source": "<a id=\"persistence\"></a>\n## 4. Persist created model with ``watson-machine-learning-client``"
        }, 
        {
            "cell_type": "markdown", 
            "metadata": {}, 
            "source": "In this section you will learn how to store your model in Watson Machine Learning repository by using common python client."
        }, 
        {
            "cell_type": "markdown", 
            "metadata": {
                "collapsed": true
            }, 
            "source": "#### First, you must install client libraries from pypi"
        }, 
        {
            "cell_type": "code", 
            "outputs": [
                {
                    "text": "Collecting watson-machine-learning-client\n  Downloading watson_machine_learning_client-0.3.112-py2.py3-none-any.whl (298kB)\n\u001b[K    100% |\u2588\u2588\u2588\u2588\u2588\u2588\u2588\u2588\u2588\u2588\u2588\u2588\u2588\u2588\u2588\u2588\u2588\u2588\u2588\u2588\u2588\u2588\u2588\u2588\u2588\u2588\u2588\u2588\u2588\u2588\u2588\u2588| 307kB 1.6MB/s eta 0:00:01\n\u001b[?25hRequirement already up-to-date: lomond in /gpfs/global_fs01/sym_shared/YPProdSpark/user/sec7-2ac43fd194bc9a-8ef090487f81/.local/lib/python3.5/site-packages (from watson-machine-learning-client)\nRequirement already up-to-date: tabulate in /gpfs/global_fs01/sym_shared/YPProdSpark/user/sec7-2ac43fd194bc9a-8ef090487f81/.local/lib/python3.5/site-packages (from watson-machine-learning-client)\nRequirement already up-to-date: tqdm in /gpfs/global_fs01/sym_shared/YPProdSpark/user/sec7-2ac43fd194bc9a-8ef090487f81/.local/lib/python3.5/site-packages (from watson-machine-learning-client)\nRequirement already up-to-date: requests in /gpfs/global_fs01/sym_shared/YPProdSpark/user/sec7-2ac43fd194bc9a-8ef090487f81/.local/lib/python3.5/site-packages (from watson-machine-learning-client)\nRequirement already up-to-date: urllib3 in /gpfs/global_fs01/sym_shared/YPProdSpark/user/sec7-2ac43fd194bc9a-8ef090487f81/.local/lib/python3.5/site-packages (from watson-machine-learning-client)\nRequirement already up-to-date: certifi in /gpfs/global_fs01/sym_shared/YPProdSpark/user/sec7-2ac43fd194bc9a-8ef090487f81/.local/lib/python3.5/site-packages (from watson-machine-learning-client)\nRequirement already up-to-date: pandas in /gpfs/global_fs01/sym_shared/YPProdSpark/user/sec7-2ac43fd194bc9a-8ef090487f81/.local/lib/python3.5/site-packages (from watson-machine-learning-client)\nRequirement already up-to-date: six>=1.10.0 in /gpfs/global_fs01/sym_shared/YPProdSpark/user/sec7-2ac43fd194bc9a-8ef090487f81/.local/lib/python3.5/site-packages (from lomond->watson-machine-learning-client)\nRequirement already up-to-date: chardet<3.1.0,>=3.0.2 in /gpfs/global_fs01/sym_shared/YPProdSpark/user/sec7-2ac43fd194bc9a-8ef090487f81/.local/lib/python3.5/site-packages (from requests->watson-machine-learning-client)\nRequirement already up-to-date: idna<2.7,>=2.5 in /gpfs/global_fs01/sym_shared/YPProdSpark/user/sec7-2ac43fd194bc9a-8ef090487f81/.local/lib/python3.5/site-packages (from requests->watson-machine-learning-client)\nRequirement already up-to-date: python-dateutil>=2 in /gpfs/global_fs01/sym_shared/YPProdSpark/user/sec7-2ac43fd194bc9a-8ef090487f81/.local/lib/python3.5/site-packages (from pandas->watson-machine-learning-client)\nRequirement already up-to-date: numpy>=1.9.0 in /gpfs/global_fs01/sym_shared/YPProdSpark/user/sec7-2ac43fd194bc9a-8ef090487f81/.local/lib/python3.5/site-packages (from pandas->watson-machine-learning-client)\nRequirement already up-to-date: pytz>=2011k in /gpfs/global_fs01/sym_shared/YPProdSpark/user/sec7-2ac43fd194bc9a-8ef090487f81/.local/lib/python3.5/site-packages (from pandas->watson-machine-learning-client)\nInstalling collected packages: watson-machine-learning-client\n  Found existing installation: watson-machine-learning-client 0.3.109\n    Uninstalling watson-machine-learning-client-0.3.109:\n      Successfully uninstalled watson-machine-learning-client-0.3.109\nSuccessfully installed watson-machine-learning-client-0.3.112\n", 
                    "output_type": "stream", 
                    "name": "stdout"
                }
            ], 
            "metadata": {}, 
            "source": "!pip install watson-machine-learning-client --user --upgrade", 
            "execution_count": 17
        }, 
        {
            "cell_type": "markdown", 
            "metadata": {
                "collapsed": true
            }, 
            "source": "Import installed client by running below code."
        }, 
        {
            "cell_type": "code", 
            "outputs": [], 
            "metadata": {
                "collapsed": true
            }, 
            "source": "from watson_machine_learning_client import WatsonMachineLearningAPIClient", 
            "execution_count": 18
        }, 
        {
            "cell_type": "markdown", 
            "metadata": {}, 
            "source": "**You can check sphinx documentation for watson-machine-learning-client either by visiting [documentation webpage](https://wml-api-pyclient.mybluemix.net) or running below code.**"
        }, 
        {
            "cell_type": "code", 
            "outputs": [
                {
                    "output_type": "execute_result", 
                    "data": {
                        "text/plain": "<IPython.lib.display.IFrame at 0x7f309ff82438>", 
                        "text/html": "\n        <iframe\n            width=\"100%\"\n            height=\"400\"\n            src=\"https://wml-api-pyclient.mybluemix.net\"\n            frameborder=\"0\"\n            allowfullscreen\n        ></iframe>\n        "
                    }, 
                    "metadata": {}, 
                    "execution_count": 19
                }
            ], 
            "metadata": {}, 
            "source": "from IPython.display import IFrame\nIFrame('https://wml-api-pyclient.mybluemix.net', width='100%', height=400)", 
            "execution_count": 19
        }, 
        {
            "cell_type": "markdown", 
            "metadata": {}, 
            "source": "### 4.1: Work with your instance"
        }, 
        {
            "cell_type": "markdown", 
            "metadata": {
                "collapsed": true
            }, 
            "source": "Authenticate to Watson Machine Learning service on Bluemix."
        }, 
        {
            "cell_type": "markdown", 
            "metadata": {}, 
            "source": "**Action**: Put authentication information from your instance of Watson Machine Learning service here.</div>"
        }, 
        {
            "cell_type": "code", 
            "outputs": [], 
            "metadata": {
                "collapsed": true
            }, 
            "source": "wml_credentials={\n  \"url\": \"https://ibm-watson-ml.mybluemix.net\",\n  \"access_key\": \"*****\",\n  \"username\": \"*****\",\n  \"password\": \"*****\",\n  \"instance_id\": \"*****\"\n}", 
            "execution_count": 20
        }, 
        {
            "cell_type": "markdown", 
            "metadata": {
                "collapsed": true
            }, 
            "source": "**Tip**: Credentials can be found on **Service Credentials** tab of service instance created in Bluemix. If you cannot see **instance_id** field in **Serice Credentials** generate new credentials by pressing **New credential (+)** button. "
        }, 
        {
            "cell_type": "markdown", 
            "metadata": {}, 
            "source": "#### Create API client by running below code."
        }, 
        {
            "cell_type": "code", 
            "outputs": [], 
            "metadata": {
                "collapsed": true
            }, 
            "source": "client = WatsonMachineLearningAPIClient(wml_credentials)", 
            "execution_count": 21
        }, 
        {
            "cell_type": "markdown", 
            "metadata": {}, 
            "source": "#### Get instance details."
        }, 
        {
            "cell_type": "code", 
            "outputs": [
                {
                    "text": "{\n  \"metadata\": {\n    \"created_at\": \"2017-06-26T11:49:37.500Z\",\n    \"url\": \"https://ibm-watson-ml.mybluemix.net/v3/wml_instances/a153b37a-2b65-47e6-b0ef-2d71da079c4f\",\n    \"modified_at\": \"2017-12-05T13:53:52.454Z\",\n    \"guid\": \"a153b37a-2b65-47e6-b0ef-2d71da079c4f\"\n  },\n  \"entity\": {\n    \"region\": \"us-south\",\n    \"account\": {\n      \"id\": \"8dba8395f5b8dc6fcab49d43161ab9f1\",\n      \"type\": \"TRIAL\",\n      \"name\": \"Wojciech Sobala's Account\"\n    },\n    \"deployments\": {\n      \"url\": \"https://ibm-watson-ml.mybluemix.net/v3/wml_instances/a153b37a-2b65-47e6-b0ef-2d71da079c4f/deployments\"\n    },\n    \"source\": \"Bluemix\",\n    \"status\": \"Active\",\n    \"plan_id\": \"3f6acf43-ede8-413a-ac69-f8af3bb0cbfe\",\n    \"published_models\": {\n      \"url\": \"https://ibm-watson-ml.mybluemix.net/v3/wml_instances/a153b37a-2b65-47e6-b0ef-2d71da079c4f/published_models\"\n    },\n    \"organization_guid\": \"a7b3ef43-5dc2-41fc-8fa7-29b0846e5807\",\n    \"plan\": \"lite\",\n    \"space_guid\": \"a6b628f9-3f64-45c0-bf38-739876b63fec\",\n    \"usage\": {\n      \"deployment_count\": {\n        \"current\": -3,\n        \"limit\": 5\n      },\n      \"expiration_date\": \"2018-01-01T00:00:00.000Z\",\n      \"computation_time\": {\n        \"current\": 0,\n        \"limit\": 18000\n      },\n      \"prediction_count\": {\n        \"current\": 12,\n        \"limit\": 5000\n      },\n      \"model_count\": {\n        \"current\": 5,\n        \"limit\": 200\n      }\n    },\n    \"owner\": {\n      \"country_code\": \"POL\",\n      \"ibm_id\": \"3100020VJR\",\n      \"beta_user\": true,\n      \"user_id\": \"1c54455e-c23b-4506-b184-27494b507536\",\n      \"email\": \"wojciech.sobala@pl.ibm.com\"\n    }\n  }\n}\n", 
                    "output_type": "stream", 
                    "name": "stdout"
                }
            ], 
            "metadata": {
                "scrolled": true
            }, 
            "source": "instance_details = client.service_instance.get_details()\n\nprint(json.dumps(instance_details, indent=2))", 
            "execution_count": 22
        }, 
        {
            "cell_type": "markdown", 
            "metadata": {}, 
            "source": "### 4.2: Publish model"
        }, 
        {
            "cell_type": "markdown", 
            "metadata": {}, 
            "source": "#### Publish model in Watson Machine Learning repository on Cloud."
        }, 
        {
            "cell_type": "code", 
            "outputs": [], 
            "metadata": {
                "collapsed": true
            }, 
            "source": "model_props = {\"authorName\":\"IBM\", \"authorEmail\":\"ibm@ibm.com\"}\npublished_model = client.repository.store_model(model_rf, \"LOCALLY created Product Line Prediction model\", meta_props=model_props, training_data=train_data)", 
            "execution_count": 23
        }, 
        {
            "cell_type": "markdown", 
            "metadata": {}, 
            "source": "### 4.3: Get model details"
        }, 
        {
            "cell_type": "code", 
            "outputs": [
                {
                    "text": "{\n  \"metadata\": {\n    \"created_at\": \"2017-12-05T14:02:20.939Z\",\n    \"url\": \"https://ibm-watson-ml.mybluemix.net/v3/wml_instances/a153b37a-2b65-47e6-b0ef-2d71da079c4f/published_models/ac94d983-8cfe-43a1-af8e-c02352c685c8\",\n    \"modified_at\": \"2017-12-05T14:02:24.119Z\",\n    \"guid\": \"ac94d983-8cfe-43a1-af8e-c02352c685c8\"\n  },\n  \"entity\": {\n    \"latest_version\": {\n      \"created_at\": \"2017-12-05T14:02:24.119Z\",\n      \"url\": \"https://ibm-watson-ml.mybluemix.net/v3/ml_assets/models/ac94d983-8cfe-43a1-af8e-c02352c685c8/versions/c28564d2-95bf-4215-a291-6805f87d4141\",\n      \"guid\": \"c28564d2-95bf-4215-a291-6805f87d4141\"\n    },\n    \"runtime_environment\": \"None Provided\",\n    \"name\": \"LOCALLY created Product Line Prediction model\",\n    \"learning_configuration_url\": \"https://ibm-watson-ml.mybluemix.net/v3/wml_instances/a153b37a-2b65-47e6-b0ef-2d71da079c4f/published_models/ac94d983-8cfe-43a1-af8e-c02352c685c8/learning_configuration\",\n    \"model_type\": \"mllib-2.1\",\n    \"feedback_url\": \"https://ibm-watson-ml.mybluemix.net/v3/wml_instances/a153b37a-2b65-47e6-b0ef-2d71da079c4f/published_models/ac94d983-8cfe-43a1-af8e-c02352c685c8/feedback\",\n    \"label_col\": \"PRODUCT_LINE\",\n    \"deployments\": {\n      \"url\": \"https://ibm-watson-ml.mybluemix.net/v3/wml_instances/a153b37a-2b65-47e6-b0ef-2d71da079c4f/published_models/ac94d983-8cfe-43a1-af8e-c02352c685c8/deployments\",\n      \"count\": 0\n    },\n    \"training_data_schema\": {\n      \"type\": \"struct\",\n      \"fields\": [\n        {\n          \"metadata\": {},\n          \"nullable\": true,\n          \"type\": \"string\",\n          \"name\": \"PRODUCT_LINE\"\n        },\n        {\n          \"metadata\": {},\n          \"nullable\": true,\n          \"type\": \"string\",\n          \"name\": \"GENDER\"\n        },\n        {\n          \"metadata\": {},\n          \"nullable\": true,\n          \"type\": \"integer\",\n          \"name\": \"AGE\"\n        },\n        {\n          \"metadata\": {},\n          \"nullable\": true,\n          \"type\": \"string\",\n          \"name\": \"MARITAL_STATUS\"\n        },\n        {\n          \"metadata\": {},\n          \"nullable\": true,\n          \"type\": \"string\",\n          \"name\": \"PROFESSION\"\n        }\n      ]\n    },\n    \"learning_iterations_url\": \"https://ibm-watson-ml.mybluemix.net/v3/wml_instances/a153b37a-2b65-47e6-b0ef-2d71da079c4f/published_models/ac94d983-8cfe-43a1-af8e-c02352c685c8/learning_iterations\",\n    \"evaluation_metrics_url\": \"https://ibm-watson-ml.mybluemix.net/v3/wml_instances/a153b37a-2b65-47e6-b0ef-2d71da079c4f/published_models/ac94d983-8cfe-43a1-af8e-c02352c685c8/evaluation_metrics\",\n    \"author\": {\n      \"email\": \"ibm@ibm.com\",\n      \"name\": \"IBM\"\n    }\n  }\n}\n", 
                    "output_type": "stream", 
                    "name": "stdout"
                }
            ], 
            "metadata": {
                "scrolled": true
            }, 
            "source": "model_details = client.repository.get_details(published_model.uid)\nprint(json.dumps(model_details, indent=2))", 
            "execution_count": 24
        }, 
        {
            "cell_type": "markdown", 
            "metadata": {}, 
            "source": "#### Get all models"
        }, 
        {
            "cell_type": "code", 
            "outputs": [
                {
                    "text": "{\n  \"resources\": [\n    {\n      \"metadata\": {\n        \"created_at\": \"2017-12-05T13:30:42.254Z\",\n        \"url\": \"https://ibm-watson-ml.mybluemix.net/v3/wml_instances/a153b37a-2b65-47e6-b0ef-2d71da079c4f/published_models/4ab4b831-8bf5-4d19-8231-896bf1f2f699\",\n        \"modified_at\": \"2017-12-05T13:31:19.354Z\",\n        \"guid\": \"4ab4b831-8bf5-4d19-8231-896bf1f2f699\"\n      },\n      \"entity\": {\n        \"label_col\": \"\",\n        \"latest_version\": {\n          \"created_at\": \"2017-12-05T13:30:44.295Z\",\n          \"url\": \"https://ibm-watson-ml.mybluemix.net/v3/ml_assets/models/4ab4b831-8bf5-4d19-8231-896bf1f2f699/versions/7cfb5dcc-6b62-419e-a1db-7e7d7dc8f0cc\",\n          \"guid\": \"7cfb5dcc-6b62-419e-a1db-7e7d7dc8f0cc\"\n        },\n        \"runtime_environment\": \"python-3.5\",\n        \"deployments\": {\n          \"url\": \"https://ibm-watson-ml.mybluemix.net/v3/wml_instances/a153b37a-2b65-47e6-b0ef-2d71da079c4f/published_models/4ab4b831-8bf5-4d19-8231-896bf1f2f699/deployments\",\n          \"count\": 1\n        },\n        \"name\": \"My cool mnist model\",\n        \"learning_configuration_url\": \"https://ibm-watson-ml.mybluemix.net/v3/wml_instances/a153b37a-2b65-47e6-b0ef-2d71da079c4f/published_models/4ab4b831-8bf5-4d19-8231-896bf1f2f699/learning_configuration\",\n        \"model_type\": \"tensorflow-1.2\",\n        \"deployed_version\": {\n          \"url\": \"https://ibm-watson-ml.mybluemix.net/v3/ml_assets/models/4ab4b831-8bf5-4d19-8231-896bf1f2f699/versions/7cfb5dcc-6b62-419e-a1db-7e7d7dc8f0cc\",\n          \"guid\": \"7cfb5dcc-6b62-419e-a1db-7e7d7dc8f0cc\"\n        },\n        \"evaluation_metrics_url\": \"https://ibm-watson-ml.mybluemix.net/v3/wml_instances/a153b37a-2b65-47e6-b0ef-2d71da079c4f/published_models/4ab4b831-8bf5-4d19-8231-896bf1f2f699/evaluation_metrics\",\n        \"feedback_url\": \"https://ibm-watson-ml.mybluemix.net/v3/wml_instances/a153b37a-2b65-47e6-b0ef-2d71da079c4f/published_models/4ab4b831-8bf5-4d19-8231-896bf1f2f699/feedback\",\n        \"learning_iterations_url\": \"https://ibm-watson-ml.mybluemix.net/v3/wml_instances/a153b37a-2b65-47e6-b0ef-2d71da079c4f/published_models/4ab4b831-8bf5-4d19-8231-896bf1f2f699/learning_iterations\"\n      }\n    },\n    {\n      \"metadata\": {\n        \"created_at\": \"2017-12-05T14:02:20.939Z\",\n        \"url\": \"https://ibm-watson-ml.mybluemix.net/v3/wml_instances/a153b37a-2b65-47e6-b0ef-2d71da079c4f/published_models/ac94d983-8cfe-43a1-af8e-c02352c685c8\",\n        \"modified_at\": \"2017-12-05T14:02:24.119Z\",\n        \"guid\": \"ac94d983-8cfe-43a1-af8e-c02352c685c8\"\n      },\n      \"entity\": {\n        \"latest_version\": {\n          \"created_at\": \"2017-12-05T14:02:24.119Z\",\n          \"url\": \"https://ibm-watson-ml.mybluemix.net/v3/ml_assets/models/ac94d983-8cfe-43a1-af8e-c02352c685c8/versions/c28564d2-95bf-4215-a291-6805f87d4141\",\n          \"guid\": \"c28564d2-95bf-4215-a291-6805f87d4141\"\n        },\n        \"runtime_environment\": \"None Provided\",\n        \"name\": \"LOCALLY created Product Line Prediction model\",\n        \"learning_configuration_url\": \"https://ibm-watson-ml.mybluemix.net/v3/wml_instances/a153b37a-2b65-47e6-b0ef-2d71da079c4f/published_models/ac94d983-8cfe-43a1-af8e-c02352c685c8/learning_configuration\",\n        \"model_type\": \"mllib-2.1\",\n        \"feedback_url\": \"https://ibm-watson-ml.mybluemix.net/v3/wml_instances/a153b37a-2b65-47e6-b0ef-2d71da079c4f/published_models/ac94d983-8cfe-43a1-af8e-c02352c685c8/feedback\",\n        \"label_col\": \"PRODUCT_LINE\",\n        \"deployments\": {\n          \"url\": \"https://ibm-watson-ml.mybluemix.net/v3/wml_instances/a153b37a-2b65-47e6-b0ef-2d71da079c4f/published_models/ac94d983-8cfe-43a1-af8e-c02352c685c8/deployments\",\n          \"count\": 0\n        },\n        \"training_data_schema\": {\n          \"type\": \"struct\",\n          \"fields\": [\n            {\n              \"metadata\": {},\n              \"nullable\": true,\n              \"type\": \"string\",\n              \"name\": \"PRODUCT_LINE\"\n            },\n            {\n              \"metadata\": {},\n              \"nullable\": true,\n              \"type\": \"string\",\n              \"name\": \"GENDER\"\n            },\n            {\n              \"metadata\": {},\n              \"nullable\": true,\n              \"type\": \"integer\",\n              \"name\": \"AGE\"\n            },\n            {\n              \"metadata\": {},\n              \"nullable\": true,\n              \"type\": \"string\",\n              \"name\": \"MARITAL_STATUS\"\n            },\n            {\n              \"metadata\": {},\n              \"nullable\": true,\n              \"type\": \"string\",\n              \"name\": \"PROFESSION\"\n            }\n          ]\n        },\n        \"learning_iterations_url\": \"https://ibm-watson-ml.mybluemix.net/v3/wml_instances/a153b37a-2b65-47e6-b0ef-2d71da079c4f/published_models/ac94d983-8cfe-43a1-af8e-c02352c685c8/learning_iterations\",\n        \"evaluation_metrics_url\": \"https://ibm-watson-ml.mybluemix.net/v3/wml_instances/a153b37a-2b65-47e6-b0ef-2d71da079c4f/published_models/ac94d983-8cfe-43a1-af8e-c02352c685c8/evaluation_metrics\",\n        \"author\": {\n          \"email\": \"ibm@ibm.com\",\n          \"name\": \"IBM\"\n        }\n      }\n    }\n  ],\n  \"count\": 2\n}\n", 
                    "output_type": "stream", 
                    "name": "stdout"
                }
            ], 
            "metadata": {}, 
            "source": "models_details = client.repository.get_details()\n\nprint(json.dumps(models_details, indent=2))", 
            "execution_count": 25
        }, 
        {
            "cell_type": "markdown", 
            "metadata": {}, 
            "source": "### 4.3: Load model"
        }, 
        {
            "cell_type": "markdown", 
            "metadata": {}, 
            "source": "In this subsection you will learn how to load back saved model from specified instance of Watson Machine Learning."
        }, 
        {
            "cell_type": "code", 
            "outputs": [], 
            "metadata": {
                "scrolled": true, 
                "collapsed": true
            }, 
            "source": "loaded_model = client.repository.load(published_model.uid)", 
            "execution_count": 26
        }, 
        {
            "cell_type": "markdown", 
            "metadata": {}, 
            "source": "You can pass test_data to loaded model ``transform()`` method to make sure that model has been loaded correctly."
        }, 
        {
            "cell_type": "code", 
            "outputs": [], 
            "metadata": {
                "collapsed": true
            }, 
            "source": "test_predictions = loaded_model.transform(test_data)", 
            "execution_count": 27
        }, 
        {
            "cell_type": "code", 
            "outputs": [
                {
                    "text": "+-----------------+------+---+--------------+-----------+-----+-------------+---------+-----------------+------------------+--------------------+--------------------+----------+--------------------+\n|     PRODUCT_LINE|GENDER|AGE|MARITAL_STATUS| PROFESSION|label|PROFESSION_IX|GENDER_IX|MARITAL_STATUS_IX|          features|       rawPrediction|         probability|prediction|      predictedLabel|\n+-----------------+------+---+--------------+-----------+-----+-------------+---------+-----------------+------------------+--------------------+--------------------+----------+--------------------+\n|Camping Equipment|     F| 18|        Single|      Other|  0.0|          0.0|      1.0|              1.0|[1.0,18.0,1.0,0.0]|[5.40697857263576...|[0.27034892863178...|       1.0|Personal Accessories|\n|Camping Equipment|     F| 18|        Single|     Retail|  0.0|          7.0|      1.0|              1.0|[1.0,18.0,1.0,7.0]|[3.01171000473832...|[0.15058550023691...|       1.0|Personal Accessories|\n|Camping Equipment|     F| 19|        Single|Hospitality|  0.0|          5.0|      1.0|              1.0|[1.0,19.0,1.0,5.0]|[10.3074468044639...|[0.51537234022319...|       0.0|   Camping Equipment|\n+-----------------+------+---+--------------+-----------+-----+-------------+---------+-----------------+------------------+--------------------+--------------------+----------+--------------------+\nonly showing top 3 rows\n\n", 
                    "output_type": "stream", 
                    "name": "stdout"
                }
            ], 
            "metadata": {}, 
            "source": "test_predictions.show(3)", 
            "execution_count": 28
        }, 
        {
            "cell_type": "markdown", 
            "metadata": {}, 
            "source": "As you can see the loaded model works. You have already learned how save and load the model from Watson Machine Learning repository."
        }, 
        {
            "cell_type": "markdown", 
            "metadata": {}, 
            "source": "### 4.4: Delete model"
        }, 
        {
            "cell_type": "markdown", 
            "metadata": {}, 
            "source": "You can delete published model from Watson Machine Learning repository using below code. The code is commented out at this stage since the model will be needed later for deployment."
        }, 
        {
            "cell_type": "raw", 
            "metadata": {}, 
            "source": "client.repository.delete(published_model.uid)"
        }, 
        {
            "cell_type": "markdown", 
            "metadata": {}, 
            "source": "<a id=\"scoring\"></a>\n## 5. Deploy and score in a Cloud"
        }, 
        {
            "cell_type": "markdown", 
            "metadata": {}, 
            "source": "In this section you will learn how to create online scoring and to score a new data record by using the Watson Machine Learning Client. "
        }, 
        {
            "cell_type": "markdown", 
            "metadata": {}, 
            "source": "### 5.1: Create online deployment"
        }, 
        {
            "cell_type": "code", 
            "outputs": [], 
            "metadata": {
                "collapsed": true
            }, 
            "source": "created_deployment = client.deployments.create(published_model.uid, \"Deployment of locally created model XXX\")", 
            "execution_count": 32
        }, 
        {
            "cell_type": "markdown", 
            "metadata": {}, 
            "source": "Now you can print an online scoring endpoint. "
        }, 
        {
            "cell_type": "code", 
            "outputs": [
                {
                    "text": "https://ibm-watson-ml.mybluemix.net/v3/wml_instances/a153b37a-2b65-47e6-b0ef-2d71da079c4f/published_models/ac94d983-8cfe-43a1-af8e-c02352c685c8/deployments/e1260b2c-043f-40f9-967a-776d02a1de29/online\n", 
                    "output_type": "stream", 
                    "name": "stdout"
                }
            ], 
            "metadata": {}, 
            "source": "scoring_endpoint = client.deployments.get_scoring_url(created_deployment)\n\nprint(scoring_endpoint)", 
            "execution_count": 33
        }, 
        {
            "cell_type": "markdown", 
            "metadata": {}, 
            "source": "### 5.2: Get deployments"
        }, 
        {
            "cell_type": "code", 
            "outputs": [], 
            "metadata": {
                "collapsed": true
            }, 
            "source": "deployments = client.deployments.get_details()", 
            "execution_count": 34
        }, 
        {
            "cell_type": "code", 
            "outputs": [
                {
                    "text": "{\n  \"resources\": [\n    {\n      \"metadata\": {\n        \"created_at\": \"2017-12-05T13:31:18.356Z\",\n        \"url\": \"https://ibm-watson-ml.mybluemix.net/v3/wml_instances/a153b37a-2b65-47e6-b0ef-2d71da079c4f/published_models/4ab4b831-8bf5-4d19-8231-896bf1f2f699/deployments/980ed6fb-c16f-4d98-8c71-d6eeb95093fe\",\n        \"modified_at\": \"2017-12-05T13:31:19.322Z\",\n        \"guid\": \"980ed6fb-c16f-4d98-8c71-d6eeb95093fe\"\n      },\n      \"entity\": {\n        \"scoring_url\": \"https://ibm-watson-ml.mybluemix.net/v3/wml_instances/a153b37a-2b65-47e6-b0ef-2d71da079c4f/published_models/4ab4b831-8bf5-4d19-8231-896bf1f2f699/deployments/980ed6fb-c16f-4d98-8c71-d6eeb95093fe/online\",\n        \"runtime_environment\": \"python-3.5\",\n        \"published_model\": {\n          \"created_at\": \"2017-12-05T13:31:18.312Z\",\n          \"name\": \"My cool mnist model\",\n          \"url\": \"https://ibm-watson-ml.mybluemix.net/v3/wml_instances/a153b37a-2b65-47e6-b0ef-2d71da079c4f/published_models/4ab4b831-8bf5-4d19-8231-896bf1f2f699\",\n          \"guid\": \"4ab4b831-8bf5-4d19-8231-896bf1f2f699\"\n        },\n        \"name\": \"Mnist model deployment\",\n        \"description\": \"Model deployment\",\n        \"model_type\": \"tensorflow-1.2\",\n        \"status\": \"ACTIVE\",\n        \"type\": \"online\",\n        \"deployed_version\": {\n          \"url\": \"https://ibm-watson-ml.mybluemix.net/v3/ml_assets/models/4ab4b831-8bf5-4d19-8231-896bf1f2f699/versions/7cfb5dcc-6b62-419e-a1db-7e7d7dc8f0cc\",\n          \"guid\": \"7cfb5dcc-6b62-419e-a1db-7e7d7dc8f0cc\"\n        }\n      }\n    },\n    {\n      \"metadata\": {\n        \"created_at\": \"2017-12-05T14:03:01.195Z\",\n        \"url\": \"https://ibm-watson-ml.mybluemix.net/v3/wml_instances/a153b37a-2b65-47e6-b0ef-2d71da079c4f/published_models/ac94d983-8cfe-43a1-af8e-c02352c685c8/deployments/80480c96-ed86-4297-bb63-8e292393cc0c\",\n        \"modified_at\": \"2017-12-05T14:03:05.170Z\",\n        \"guid\": \"80480c96-ed86-4297-bb63-8e292393cc0c\"\n      },\n      \"entity\": {\n        \"scoring_url\": \"https://ibm-watson-ml.mybluemix.net/v3/wml_instances/a153b37a-2b65-47e6-b0ef-2d71da079c4f/published_models/ac94d983-8cfe-43a1-af8e-c02352c685c8/deployments/80480c96-ed86-4297-bb63-8e292393cc0c/online\",\n        \"runtime_environment\": \"None Provided\",\n        \"published_model\": {\n          \"url\": \"https://ibm-watson-ml.mybluemix.net/v3/wml_instances/a153b37a-2b65-47e6-b0ef-2d71da079c4f/published_models/ac94d983-8cfe-43a1-af8e-c02352c685c8\",\n          \"name\": \"LOCALLY created Product Line Prediction model\",\n          \"author\": {\n            \"email\": \"ibm@ibm.com\",\n            \"name\": \"IBM\"\n          },\n          \"guid\": \"ac94d983-8cfe-43a1-af8e-c02352c685c8\",\n          \"created_at\": \"2017-12-05T14:03:01.168Z\"\n        },\n        \"name\": \"Deployment of locally created model XXX\",\n        \"description\": \"Model deployment\",\n        \"model_type\": \"mllib-2.1\",\n        \"status\": \"ACTIVE\",\n        \"type\": \"online\",\n        \"deployed_version\": {\n          \"url\": \"https://ibm-watson-ml.mybluemix.net/v3/ml_assets/models/ac94d983-8cfe-43a1-af8e-c02352c685c8/versions/c28564d2-95bf-4215-a291-6805f87d4141\",\n          \"guid\": \"c28564d2-95bf-4215-a291-6805f87d4141\"\n        }\n      }\n    },\n    {\n      \"metadata\": {\n        \"created_at\": \"2017-12-05T14:04:38.775Z\",\n        \"url\": \"https://ibm-watson-ml.mybluemix.net/v3/wml_instances/a153b37a-2b65-47e6-b0ef-2d71da079c4f/published_models/ac94d983-8cfe-43a1-af8e-c02352c685c8/deployments/e1260b2c-043f-40f9-967a-776d02a1de29\",\n        \"modified_at\": \"2017-12-05T14:04:40.898Z\",\n        \"guid\": \"e1260b2c-043f-40f9-967a-776d02a1de29\"\n      },\n      \"entity\": {\n        \"scoring_url\": \"https://ibm-watson-ml.mybluemix.net/v3/wml_instances/a153b37a-2b65-47e6-b0ef-2d71da079c4f/published_models/ac94d983-8cfe-43a1-af8e-c02352c685c8/deployments/e1260b2c-043f-40f9-967a-776d02a1de29/online\",\n        \"runtime_environment\": \"None Provided\",\n        \"published_model\": {\n          \"url\": \"https://ibm-watson-ml.mybluemix.net/v3/wml_instances/a153b37a-2b65-47e6-b0ef-2d71da079c4f/published_models/ac94d983-8cfe-43a1-af8e-c02352c685c8\",\n          \"name\": \"LOCALLY created Product Line Prediction model\",\n          \"author\": {\n            \"email\": \"ibm@ibm.com\",\n            \"name\": \"IBM\"\n          },\n          \"guid\": \"ac94d983-8cfe-43a1-af8e-c02352c685c8\",\n          \"created_at\": \"2017-12-05T14:03:01.168Z\"\n        },\n        \"name\": \"Deployment of locally created model XXX\",\n        \"description\": \"Model deployment\",\n        \"model_type\": \"mllib-2.1\",\n        \"status\": \"ACTIVE\",\n        \"type\": \"online\",\n        \"deployed_version\": {\n          \"url\": \"https://ibm-watson-ml.mybluemix.net/v3/ml_assets/models/ac94d983-8cfe-43a1-af8e-c02352c685c8/versions/c28564d2-95bf-4215-a291-6805f87d4141\",\n          \"guid\": \"c28564d2-95bf-4215-a291-6805f87d4141\"\n        }\n      }\n    }\n  ],\n  \"count\": 3\n}\n", 
                    "output_type": "stream", 
                    "name": "stdout"
                }
            ], 
            "metadata": {}, 
            "source": "print(json.dumps(deployments, indent=2))", 
            "execution_count": 35
        }, 
        {
            "cell_type": "markdown", 
            "metadata": {}, 
            "source": "You can get deployment_url by parsing deployment details."
        }, 
        {
            "cell_type": "code", 
            "outputs": [
                {
                    "text": "https://ibm-watson-ml.mybluemix.net/v3/wml_instances/a153b37a-2b65-47e6-b0ef-2d71da079c4f/published_models/ac94d983-8cfe-43a1-af8e-c02352c685c8/deployments/e1260b2c-043f-40f9-967a-776d02a1de29\n", 
                    "output_type": "stream", 
                    "name": "stdout"
                }
            ], 
            "metadata": {}, 
            "source": "deployment_url = client.deployments.get_deployment_url(created_deployment)\n\nprint(deployment_url)", 
            "execution_count": 36
        }, 
        {
            "cell_type": "markdown", 
            "metadata": {}, 
            "source": "### 5.3: Score"
        }, 
        {
            "cell_type": "markdown", 
            "metadata": {}, 
            "source": "You can use below method to do test scoring request against deployed model."
        }, 
        {
            "cell_type": "markdown", 
            "metadata": {}, 
            "source": "**Action**: Prepare scoring payload with records to score."
        }, 
        {
            "cell_type": "code", 
            "outputs": [], 
            "metadata": {
                "collapsed": true
            }, 
            "source": "scoring_payload = {\"fields\": [\"GENDER\",\"AGE\",\"MARITAL_STATUS\",\"PROFESSION\"],\"values\": [[\"M\",23,\"Single\",\"Student\"],[\"M\",55,\"Single\",\"Executive\"]]}", 
            "execution_count": 37
        }, 
        {
            "cell_type": "markdown", 
            "metadata": {}, 
            "source": "Use ``client.deployments.score()`` method to run scoring."
        }, 
        {
            "cell_type": "code", 
            "outputs": [], 
            "metadata": {
                "collapsed": true
            }, 
            "source": "predictions = client.deployments.score(scoring_endpoint, scoring_payload)", 
            "execution_count": 38
        }, 
        {
            "cell_type": "code", 
            "outputs": [
                {
                    "text": "{\n  \"fields\": [\n    \"GENDER\",\n    \"AGE\",\n    \"MARITAL_STATUS\",\n    \"PROFESSION\",\n    \"PRODUCT_LINE\",\n    \"label\",\n    \"PROFESSION_IX\",\n    \"GENDER_IX\",\n    \"MARITAL_STATUS_IX\",\n    \"features\",\n    \"rawPrediction\",\n    \"probability\",\n    \"prediction\",\n    \"predictedLabel\"\n  ],\n  \"values\": [\n    [\n      \"M\",\n      23,\n      \"Single\",\n      \"Student\",\n      \"Camping Equipment\",\n      0.0,\n      6.0,\n      0.0,\n      1.0,\n      [\n        0.0,\n        23.0,\n        1.0,\n        6.0\n      ],\n      [\n        5.258712981131878,\n        6.723421733525897,\n        6.0132018750333724,\n        0.218060296213069,\n        1.7866031140957863\n      ],\n      [\n        0.26293564905659383,\n        0.3361710866762948,\n        0.3006600937516686,\n        0.010903014810653448,\n        0.0893301557047893\n      ],\n      1.0,\n      \"Personal Accessories\"\n    ],\n    [\n      \"M\",\n      55,\n      \"Single\",\n      \"Executive\",\n      \"Camping Equipment\",\n      0.0,\n      3.0,\n      0.0,\n      1.0,\n      [\n        0.0,\n        55.0,\n        1.0,\n        3.0\n      ],\n      [\n        3.6000096318286547,\n        4.060237825988732,\n        3.8628119611335734,\n        8.339956386992652,\n        0.13698419405638748\n      ],\n      [\n        0.18000048159143273,\n        0.20301189129943661,\n        0.19314059805667866,\n        0.4169978193496326,\n        0.006849209702819374\n      ],\n      3.0,\n      \"Golf Equipment\"\n    ]\n  ]\n}\n", 
                    "output_type": "stream", 
                    "name": "stdout"
                }
            ], 
            "metadata": {}, 
            "source": "print(json.dumps(predictions, indent=2))", 
            "execution_count": 39
        }, 
        {
            "cell_type": "markdown", 
            "metadata": {}, 
            "source": "### 5.4: Delete deployment"
        }, 
        {
            "cell_type": "markdown", 
            "metadata": {}, 
            "source": "Use the following method to delete deployment."
        }, 
        {
            "cell_type": "code", 
            "outputs": [
                {
                    "output_type": "execute_result", 
                    "data": {
                        "text/plain": "True"
                    }, 
                    "metadata": {}, 
                    "execution_count": 40
                }
            ], 
            "metadata": {}, 
            "source": "client.deployments.delete(deployment_url)", 
            "execution_count": 40
        }, 
        {
            "cell_type": "markdown", 
            "metadata": {}, 
            "source": "You can check number of depoyments by running ``client.deployment.get()`` method."
        }, 
        {
            "cell_type": "code", 
            "outputs": [
                {
                    "output_type": "execute_result", 
                    "data": {
                        "text/plain": "{'count': 2,\n 'resources': [{'entity': {'deployed_version': {'guid': '7cfb5dcc-6b62-419e-a1db-7e7d7dc8f0cc',\n     'url': 'https://ibm-watson-ml.mybluemix.net/v3/ml_assets/models/4ab4b831-8bf5-4d19-8231-896bf1f2f699/versions/7cfb5dcc-6b62-419e-a1db-7e7d7dc8f0cc'},\n    'description': 'Model deployment',\n    'model_type': 'tensorflow-1.2',\n    'name': 'Mnist model deployment',\n    'published_model': {'created_at': '2017-12-05T13:31:18.312Z',\n     'guid': '4ab4b831-8bf5-4d19-8231-896bf1f2f699',\n     'name': 'My cool mnist model',\n     'url': 'https://ibm-watson-ml.mybluemix.net/v3/wml_instances/a153b37a-2b65-47e6-b0ef-2d71da079c4f/published_models/4ab4b831-8bf5-4d19-8231-896bf1f2f699'},\n    'runtime_environment': 'python-3.5',\n    'scoring_url': 'https://ibm-watson-ml.mybluemix.net/v3/wml_instances/a153b37a-2b65-47e6-b0ef-2d71da079c4f/published_models/4ab4b831-8bf5-4d19-8231-896bf1f2f699/deployments/980ed6fb-c16f-4d98-8c71-d6eeb95093fe/online',\n    'status': 'ACTIVE',\n    'type': 'online'},\n   'metadata': {'created_at': '2017-12-05T13:31:18.356Z',\n    'guid': '980ed6fb-c16f-4d98-8c71-d6eeb95093fe',\n    'modified_at': '2017-12-05T13:31:19.322Z',\n    'url': 'https://ibm-watson-ml.mybluemix.net/v3/wml_instances/a153b37a-2b65-47e6-b0ef-2d71da079c4f/published_models/4ab4b831-8bf5-4d19-8231-896bf1f2f699/deployments/980ed6fb-c16f-4d98-8c71-d6eeb95093fe'}},\n  {'entity': {'deployed_version': {'guid': 'c28564d2-95bf-4215-a291-6805f87d4141',\n     'url': 'https://ibm-watson-ml.mybluemix.net/v3/ml_assets/models/ac94d983-8cfe-43a1-af8e-c02352c685c8/versions/c28564d2-95bf-4215-a291-6805f87d4141'},\n    'description': 'Model deployment',\n    'model_type': 'mllib-2.1',\n    'name': 'Deployment of locally created model XXX',\n    'published_model': {'author': {'email': 'ibm@ibm.com', 'name': 'IBM'},\n     'created_at': '2017-12-05T14:03:01.168Z',\n     'guid': 'ac94d983-8cfe-43a1-af8e-c02352c685c8',\n     'name': 'LOCALLY created Product Line Prediction model',\n     'url': 'https://ibm-watson-ml.mybluemix.net/v3/wml_instances/a153b37a-2b65-47e6-b0ef-2d71da079c4f/published_models/ac94d983-8cfe-43a1-af8e-c02352c685c8'},\n    'runtime_environment': 'None Provided',\n    'scoring_url': 'https://ibm-watson-ml.mybluemix.net/v3/wml_instances/a153b37a-2b65-47e6-b0ef-2d71da079c4f/published_models/ac94d983-8cfe-43a1-af8e-c02352c685c8/deployments/80480c96-ed86-4297-bb63-8e292393cc0c/online',\n    'status': 'ACTIVE',\n    'type': 'online'},\n   'metadata': {'created_at': '2017-12-05T14:03:01.195Z',\n    'guid': '80480c96-ed86-4297-bb63-8e292393cc0c',\n    'modified_at': '2017-12-05T14:03:05.170Z',\n    'url': 'https://ibm-watson-ml.mybluemix.net/v3/wml_instances/a153b37a-2b65-47e6-b0ef-2d71da079c4f/published_models/ac94d983-8cfe-43a1-af8e-c02352c685c8/deployments/80480c96-ed86-4297-bb63-8e292393cc0c'}}]}"
                    }, 
                    "metadata": {}, 
                    "execution_count": 41
                }
            ], 
            "metadata": {}, 
            "source": "client.deployments.get_details()", 
            "execution_count": 41
        }, 
        {
            "cell_type": "markdown", 
            "metadata": {}, 
            "source": "### 5.5: Delete model"
        }, 
        {
            "cell_type": "code", 
            "outputs": [], 
            "metadata": {
                "collapsed": true
            }, 
            "source": "client.repository.delete(published_model.uid)", 
            "execution_count": 42
        }, 
        {
            "cell_type": "markdown", 
            "metadata": {}, 
            "source": "You can check number of your models by running below ``client.repository.get_details()`` method."
        }, 
        {
            "cell_type": "code", 
            "outputs": [
                {
                    "output_type": "execute_result", 
                    "data": {
                        "text/plain": "{'count': 1,\n 'resources': [{'entity': {'deployed_version': {'guid': '7cfb5dcc-6b62-419e-a1db-7e7d7dc8f0cc',\n     'url': 'https://ibm-watson-ml.mybluemix.net/v3/ml_assets/models/4ab4b831-8bf5-4d19-8231-896bf1f2f699/versions/7cfb5dcc-6b62-419e-a1db-7e7d7dc8f0cc'},\n    'deployments': {'count': 1,\n     'url': 'https://ibm-watson-ml.mybluemix.net/v3/wml_instances/a153b37a-2b65-47e6-b0ef-2d71da079c4f/published_models/4ab4b831-8bf5-4d19-8231-896bf1f2f699/deployments'},\n    'evaluation_metrics_url': 'https://ibm-watson-ml.mybluemix.net/v3/wml_instances/a153b37a-2b65-47e6-b0ef-2d71da079c4f/published_models/4ab4b831-8bf5-4d19-8231-896bf1f2f699/evaluation_metrics',\n    'feedback_url': 'https://ibm-watson-ml.mybluemix.net/v3/wml_instances/a153b37a-2b65-47e6-b0ef-2d71da079c4f/published_models/4ab4b831-8bf5-4d19-8231-896bf1f2f699/feedback',\n    'label_col': '',\n    'latest_version': {'created_at': '2017-12-05T13:30:44.295Z',\n     'guid': '7cfb5dcc-6b62-419e-a1db-7e7d7dc8f0cc',\n     'url': 'https://ibm-watson-ml.mybluemix.net/v3/ml_assets/models/4ab4b831-8bf5-4d19-8231-896bf1f2f699/versions/7cfb5dcc-6b62-419e-a1db-7e7d7dc8f0cc'},\n    'learning_configuration_url': 'https://ibm-watson-ml.mybluemix.net/v3/wml_instances/a153b37a-2b65-47e6-b0ef-2d71da079c4f/published_models/4ab4b831-8bf5-4d19-8231-896bf1f2f699/learning_configuration',\n    'learning_iterations_url': 'https://ibm-watson-ml.mybluemix.net/v3/wml_instances/a153b37a-2b65-47e6-b0ef-2d71da079c4f/published_models/4ab4b831-8bf5-4d19-8231-896bf1f2f699/learning_iterations',\n    'model_type': 'tensorflow-1.2',\n    'name': 'My cool mnist model',\n    'runtime_environment': 'python-3.5'},\n   'metadata': {'created_at': '2017-12-05T13:30:42.254Z',\n    'guid': '4ab4b831-8bf5-4d19-8231-896bf1f2f699',\n    'modified_at': '2017-12-05T13:31:19.354Z',\n    'url': 'https://ibm-watson-ml.mybluemix.net/v3/wml_instances/a153b37a-2b65-47e6-b0ef-2d71da079c4f/published_models/4ab4b831-8bf5-4d19-8231-896bf1f2f699'}}]}"
                    }, 
                    "metadata": {}, 
                    "execution_count": 43
                }
            ], 
            "metadata": {}, 
            "source": "client.repository.get_details()", 
            "execution_count": 43
        }, 
        {
            "cell_type": "markdown", 
            "metadata": {
                "collapsed": true
            }, 
            "source": "<a id=\"summary\"></a>\n## 7. Summary and next steps     "
        }, 
        {
            "cell_type": "markdown", 
            "metadata": {
                "collapsed": true
            }, 
            "source": " You successfully completed this notebook! You learned how to use Apache Spark machine learning as well as Watson Machine Learning for model creation and deployment. Check out our _[Online Documentation](https://console.ng.bluemix.net/docs/services/PredictiveModeling/pm_service_api_spark.html)_ for more samples, tutorials, documentation, how-tos, and blog posts. "
        }, 
        {
            "cell_type": "markdown", 
            "metadata": {}, 
            "source": "### Authors\n\n**Lukasz Cmielowski**, PhD, is a Automation Architect and Data Scientist in IBM with a track record of developing enterprise-level applications that substantially increases clients' ability to turn data into actionable knowledge."
        }, 
        {
            "cell_type": "markdown", 
            "metadata": {}, 
            "source": "Copyright \u00a9 2017 IBM. This notebook and its source code are released under the terms of the MIT License."
        }
    ], 
    "nbformat": 4, 
    "metadata": {
        "kernelspec": {
            "display_name": "Python 3.5 (Experimental) with Spark 2.1", 
            "name": "python3-spark21", 
            "language": "python"
        }, 
        "language_info": {
            "version": "3.5.2", 
            "nbconvert_exporter": "python", 
            "mimetype": "text/x-python", 
            "codemirror_mode": {
                "version": 3, 
                "name": "ipython"
            }, 
            "file_extension": ".py", 
            "name": "python", 
            "pygments_lexer": "ipython3"
        }
    }, 
    "nbformat_minor": 1
}