{
    "metadata": {
        "kernelspec": {
            "language": "python", 
            "display_name": "Python 3.5 (Experimental) with Spark 2.0", 
            "name": "python3-spark20"
        }, 
        "language_info": {
            "version": "3.5.2", 
            "file_extension": ".py", 
            "mimetype": "text/x-python", 
            "name": "python", 
            "nbconvert_exporter": "python", 
            "pygments_lexer": "ipython3", 
            "codemirror_mode": {
                "version": 3, 
                "name": "ipython"
            }
        }
    }, 
    "cells": [
        {
            "metadata": {}, 
            "cell_type": "markdown", 
            "source": "<table style=\"border: none\" align=\"left\">\n   <tr style=\"border: none\">\n      <th style=\"border: none\"><font face=\"verdana\" size=\"5\" color=\"black\"><b>Recognition of hand-written digits with IBM Watson Machine Learning</b></th>\n      <th style=\"border: none\"><img src=\"https://github.com/pmservice/customer-satisfaction-prediction/blob/master/app/static/images/ml_icon_gray.png?raw=true\" alt=\"Watson Machine Learning icon\" height=\"40\" width=\"40\"></th>\n   </tr>\n   <tr style=\"border: none\">\n       <th style=\"border: none\"><img src=\"https://github.com/pmservice/wml-sample-models/raw/master/scikit-learn/hand-written-digits-recognition/images/numbers_banner-04.png\" width=\"600\" alt=\"Icon\"> </th>\n   </tr>\n</table>"
        }, 
        {
            "metadata": {}, 
            "cell_type": "markdown", 
            "source": "This notebook contains steps and code to get data from the IBM Data Science Experience Community, create a predictive model, and start scoring new data. This notebook introduces commands for getting data and for basic data cleaning and exploration, pipeline creation, model training, model persistance to Watson Machine Learning repository, model deployment, and scoring.\n\nSome familiarity with Python is helpful. This notebook uses Python 3.5 and scikit-learn 0.17 package.\n\nYou will use a toy dataset available in scikit-learn, **sklearn.datasets.load_digits**, which contains hand-written digits images. Use the toy dataset to recognize hand-written digits.\n\n## Learning goals\n\nThe learning goals of this notebook are:\n\n-  Load a toy dataset from scikit-learn.\n-  Explore data.\n-  Prepare data for training and evaluation.\n-  Create Scikit-learn machine learning pipeline.\n-  Train and evaluate a model.\n-  Persist a pipeline and model in Watson Machine Learning repository.\n-  Deploy a model for online scoring using Wastson Machine Learning API.\n-  Score sample scoring data using the Watson Machine Learning API.\n-  Explore and visualize prediction result using matplotlib package.\n\n\n## Contents\n\nThis notebook contains the following parts:\n\n1.\t[Setup](#setup)\n2.\t[Load and explore data](#load)\n3.\t[Create scikit-learn model](#model)\n4.\t[Persist model](#persistence)\n5.\t[Predict locally and visualize](#visualization)\n6.\t[Deploy and score in a Cloud](#scoring)\n7.\t[Summary and next steps](#summary)"
        }, 
        {
            "metadata": {}, 
            "cell_type": "markdown", 
            "source": "<a id=\"setup\"></a>\n## 1. Setup\n\nBefore you use the sample code in this notebook, you must perform the following setup task:\n\n-  Create a [Watson Machine Learning Service](https://console.ng.bluemix.net/catalog/services/ibm-watson-machine-learning/) instance (a free plan is offered). "
        }, 
        {
            "metadata": {}, 
            "cell_type": "markdown", 
            "source": "<a id=\"load\"></a>\n## 2. Load and explore data"
        }, 
        {
            "metadata": {}, 
            "cell_type": "markdown", 
            "source": "In this section you will load the data from scikit-learn toy datasets and perform a basic exploration."
        }, 
        {
            "metadata": {}, 
            "cell_type": "markdown", 
            "source": "**Example**: First, you need to install required packages. You can do it by running the following code. Run it only one time.<BR><BR>\n!pip install sklearn --user <BR>"
        }, 
        {
            "execution_count": 1, 
            "cell_type": "code", 
            "source": "from sklearn import datasets\n\ndigits = datasets.load_digits()", 
            "metadata": {
                "collapsed": true
            }, 
            "outputs": []
        }, 
        {
            "metadata": {}, 
            "cell_type": "markdown", 
            "source": "Loaded toy dataset consists of 8x8 pixels images of hand-written digits. In next step you will plot first 5 images using **matplotlib** library."
        }, 
        {
            "execution_count": 2, 
            "cell_type": "code", 
            "source": "%matplotlib inline\nimport matplotlib.pyplot as plt\n\nimages_number = 5\nimages_and_labels = list(zip(digits.images, digits.target))\n\nfor i, (image, label) in enumerate(images_and_labels[:images_number]):\n    plt.subplot(2, images_number, i + 1)\n    plt.axis('off')\n    plt.imshow(image, cmap=plt.cm.gray_r, interpolation='nearest')\n    plt.title('%i' % label)", 
            "metadata": {}, 
            "outputs": [
                {
                    "output_type": "display_data", 
                    "data": {
                        "text/plain": "<matplotlib.figure.Figure at 0x7fcc3cf6bc88>", 
                        "image/png": "[encoded data removed]"
                    }, 
                    "metadata": {}
                }
            ]
        }, 
        {
            "metadata": {}, 
            "cell_type": "markdown", 
            "source": "Let's display first digit data and label using **data** and **target**."
        }, 
        {
            "execution_count": 3, 
            "cell_type": "code", 
            "source": "print(digits.data[0])", 
            "metadata": {}, 
            "outputs": [
                {
                    "output_type": "stream", 
                    "name": "stdout", 
                    "text": "[  0.   0.   5.  13.   9.   1.   0.   0.   0.   0.  13.  15.  10.  15.   5.\n   0.   0.   3.  15.   2.   0.  11.   8.   0.   0.   4.  12.   0.   0.   8.\n   8.   0.   0.   5.   8.   0.   0.   9.   8.   0.   0.   4.  11.   0.   1.\n  12.   7.   0.   0.   2.  14.   5.  10.  12.   0.   0.   0.   0.   6.  13.\n  10.   0.   0.   0.]\n"
                }
            ]
        }, 
        {
            "execution_count": 4, 
            "cell_type": "code", 
            "source": "digits.target[0]", 
            "metadata": {}, 
            "outputs": [
                {
                    "output_type": "execute_result", 
                    "data": {
                        "text/plain": "0"
                    }, 
                    "metadata": {}, 
                    "execution_count": 4
                }
            ]
        }, 
        {
            "metadata": {}, 
            "cell_type": "markdown", 
            "source": "In next step you will count all samples."
        }, 
        {
            "execution_count": 5, 
            "cell_type": "code", 
            "source": "samples_count = len(digits.images)\nprint(\"Number of samples: \" + str(samples_count))", 
            "metadata": {}, 
            "outputs": [
                {
                    "output_type": "stream", 
                    "name": "stdout", 
                    "text": "Number of samples: 1797\n"
                }
            ]
        }, 
        {
            "metadata": {}, 
            "cell_type": "markdown", 
            "source": "<a id=\"model\"></a>\n## 3. Create a Scikit-learn machine learning model\n\nIn this section you will learn how to prepare data, create a Scikit-learn machine learning pipeline, and train a model."
        }, 
        {
            "metadata": {}, 
            "cell_type": "markdown", 
            "source": "### 3.1: Prepare data\n\nIn this subsection you will split your data into: train, test datasets."
        }, 
        {
            "execution_count": 6, 
            "cell_type": "code", 
            "source": "train_data = digits.data[: int(0.7*samples_count)]\ntrain_labels = digits.target[: int(0.7*samples_count)]\n\ntest_data = digits.data[int(0.7*samples_count): int(0.9*samples_count)]\ntest_labels = digits.target[int(0.7*samples_count): int(0.9*samples_count)]\n\nscore_data = digits.data[int(0.9*samples_count): ]\n\n\nprint(\"Number of training records: \" + str(len(train_data)))\nprint(\"Number of testing records : \" + str(len(test_data)))\nprint(\"Number of scoring records : \" + str(len(score_data)))\n", 
            "metadata": {}, 
            "outputs": [
                {
                    "output_type": "stream", 
                    "name": "stdout", 
                    "text": "Number of training records: 1257\nNumber of testing records : 360\nNumber of scoring records : 180\n"
                }
            ]
        }, 
        {
            "metadata": {}, 
            "cell_type": "markdown", 
            "source": "As you can see our data has been successfully split into two datasets: \n\n-  The train data set, which is the largest group, is used for training.\n-  The test data set will be used for model evaluation and is used to test the assumptions of the model.\n-  The score data set will be used for scoring in Cloud."
        }, 
        {
            "metadata": {}, 
            "cell_type": "markdown", 
            "source": "### 3.2: Create pipeline and train a model"
        }, 
        {
            "metadata": {}, 
            "cell_type": "markdown", 
            "source": "In this section you will create scikit-learn machine learning pipeline and then train the model."
        }, 
        {
            "metadata": {}, 
            "cell_type": "markdown", 
            "source": "In the first step you need to import the scikit-learn machine learning packages that will be needed in the subsequent steps."
        }, 
        {
            "execution_count": 7, 
            "cell_type": "code", 
            "source": "from sklearn.pipeline import Pipeline\nfrom sklearn import preprocessing\nfrom sklearn import svm, metrics", 
            "metadata": {
                "collapsed": true
            }, 
            "outputs": []
        }, 
        {
            "metadata": {}, 
            "cell_type": "markdown", 
            "source": "Standardize features by removing the mean and scaling to unit variance."
        }, 
        {
            "execution_count": 8, 
            "cell_type": "code", 
            "source": "scaler = preprocessing.StandardScaler()", 
            "metadata": {
                "collapsed": true
            }, 
            "outputs": []
        }, 
        {
            "metadata": {}, 
            "cell_type": "markdown", 
            "source": "Next, define estimators you want to use for classification. Support Vector Machines with radial basis function as kernel is used in the following example."
        }, 
        {
            "execution_count": 9, 
            "cell_type": "code", 
            "source": "clf = svm.SVC(kernel='rbf')", 
            "metadata": {
                "collapsed": true
            }, 
            "outputs": []
        }, 
        {
            "metadata": {}, 
            "cell_type": "markdown", 
            "source": "Let's build the pipeline now. A pipeline consists of transformers and an estimator."
        }, 
        {
            "execution_count": 10, 
            "cell_type": "code", 
            "source": "pipeline = Pipeline([('scaler', scaler), ('svc', clf)])", 
            "metadata": {
                "collapsed": true
            }, 
            "outputs": []
        }, 
        {
            "metadata": {}, 
            "cell_type": "markdown", 
            "source": "Now, you can train your Random Forest model by using the previously defined **pipeline** and **train data**."
        }, 
        {
            "execution_count": 11, 
            "cell_type": "code", 
            "source": "model = pipeline.fit(train_data, train_labels)", 
            "metadata": {
                "collapsed": true
            }, 
            "outputs": []
        }, 
        {
            "metadata": {}, 
            "cell_type": "markdown", 
            "source": "You can check your **model quality** now. To evaluate the model, use **test data**."
        }, 
        {
            "execution_count": 12, 
            "cell_type": "code", 
            "source": "predicted = model.predict(test_data)\n\nprint(\"Evaluation report: \\n\\n%s\" % metrics.classification_report(test_labels, predicted))", 
            "metadata": {}, 
            "outputs": [
                {
                    "output_type": "stream", 
                    "name": "stdout", 
                    "text": "Evaluation report: \n\n             precision    recall  f1-score   support\n\n          0       1.00      0.97      0.99        37\n          1       0.97      0.97      0.97        34\n          2       1.00      0.97      0.99        36\n          3       1.00      0.94      0.97        35\n          4       0.78      0.97      0.87        37\n          5       0.97      0.97      0.97        38\n          6       0.97      0.86      0.91        36\n          7       0.92      0.97      0.94        35\n          8       0.91      0.89      0.90        35\n          9       0.97      0.92      0.94        37\n\navg / total       0.95      0.94      0.95       360\n\n"
                }
            ]
        }, 
        {
            "metadata": {
                "collapsed": true
            }, 
            "cell_type": "markdown", 
            "source": "You can tune your model now to achieve better accuracy. For simplicity of this example tuning section is omitted."
        }, 
        {
            "metadata": {
                "collapsed": true
            }, 
            "cell_type": "markdown", 
            "source": "<a id=\"persistence\"></a>\n## 4. Persist model"
        }, 
        {
            "metadata": {}, 
            "cell_type": "markdown", 
            "source": "In this section you will learn how to store your pipeline and model in Watson Machine Learning repository by using python client libraries."
        }, 
        {
            "metadata": {
                "collapsed": true
            }, 
            "cell_type": "markdown", 
            "source": "First, you must import client libraries."
        }, 
        {
            "execution_count": 13, 
            "cell_type": "code", 
            "source": "from repository.mlrepositoryclient import MLRepositoryClient\nfrom repository.mlrepositoryartifact import MLRepositoryArtifact\nfrom repository.mlrepository import MetaProps, MetaNames", 
            "metadata": {
                "collapsed": true
            }, 
            "outputs": []
        }, 
        {
            "metadata": {
                "collapsed": true
            }, 
            "cell_type": "markdown", 
            "source": "Authenticate to Watson Machine Learning service on Bluemix."
        }, 
        {
            "metadata": {}, 
            "cell_type": "markdown", 
            "source": "**Action**: Put authentication information from your instance of Watson Machine Learning service here.</div>"
        }, 
        {
            "execution_count": 34, 
            "cell_type": "code", 
            "source": "wml_credentials={\n  \"url\": \"https://ibm-watson-ml.mybluemix.net\",\n  \"access_key\": \"***\",\n  \"username\": \"***\",\n  \"password\": \"***\",\n  \"instance_id\": \"***\"\n}", 
            "metadata": {
                "collapsed": true
            }, 
            "outputs": []
        }, 
        {
            "metadata": {
                "collapsed": true
            }, 
            "cell_type": "markdown", 
            "source": "**Tip**: `wml_service_path`, user and `wml_password` can be found on **Service Credentials** tab of service instance created in Bluemix. If you cannot see **instance_id** field in **Serice Credentials** generate new credentials by pressing **New credential (+)** button. "
        }, 
        {
            "execution_count": 16, 
            "cell_type": "code", 
            "source": "ml_repository_client = MLRepositoryClient(wml_credentials['url'])\nml_repository_client.authorize(wml_credentials['username'], wml_credentials['password'])", 
            "metadata": {
                "collapsed": true
            }, 
            "outputs": []
        }, 
        {
            "metadata": {}, 
            "cell_type": "markdown", 
            "source": "Create model artifact (abstraction layer)."
        }, 
        {
            "execution_count": 17, 
            "cell_type": "code", 
            "source": "props = MetaProps({MetaNames.AUTHOR_NAME:\"IBM\", MetaNames.AUTHOR_EMAIL:\"ibm@ibm.com\"})", 
            "metadata": {
                "collapsed": true
            }, 
            "outputs": []
        }, 
        {
            "execution_count": 18, 
            "cell_type": "code", 
            "source": "model_artifact = MLRepositoryArtifact(model, name=\"Hand-written digits recognition\", meta_props=props)", 
            "metadata": {
                "collapsed": true
            }, 
            "outputs": []
        }, 
        {
            "metadata": {}, 
            "cell_type": "markdown", 
            "source": "**Tip**: The MLRepositoryArtifact method expects a trained model object, training data, and a model name. (It is this model name that is displayed by the Watson Machine Learning service)."
        }, 
        {
            "metadata": {}, 
            "cell_type": "markdown", 
            "source": "### 4.1: Save pipeline and model"
        }, 
        {
            "metadata": {}, 
            "cell_type": "markdown", 
            "source": "In this subsection you will learn how to save pipeline and model artifacts to your Watson Machine Learning instance."
        }, 
        {
            "execution_count": 19, 
            "cell_type": "code", 
            "source": "saved_model = ml_repository_client.models.save(model_artifact)", 
            "metadata": {
                "collapsed": true
            }, 
            "outputs": []
        }, 
        {
            "metadata": {}, 
            "cell_type": "markdown", 
            "source": "Get saved model metadata from Watson Machine Learning."
        }, 
        {
            "metadata": {}, 
            "cell_type": "markdown", 
            "source": "**Tip**: Use *meta.available_props()* to get the list of available props."
        }, 
        {
            "execution_count": 20, 
            "cell_type": "code", 
            "source": "saved_model.meta.available_props()", 
            "metadata": {}, 
            "outputs": [
                {
                    "output_type": "execute_result", 
                    "data": {
                        "text/plain": "dict_keys(['lastUpdated', 'version', 'authorEmail', 'trainingDataRef', 'runtime', 'pipelineVersionHref', 'modelVersionHref', 'creationTime', 'modelType', 'authorName'])"
                    }, 
                    "metadata": {}, 
                    "execution_count": 20
                }
            ]
        }, 
        {
            "execution_count": 21, 
            "cell_type": "code", 
            "source": "print(\"modelType: \" + saved_model.meta.prop(\"modelType\"))\nprint(\"runtime: \" + saved_model.meta.prop(\"runtime\"))\nprint(\"creationTime: \" + str(saved_model.meta.prop(\"creationTime\")))\nprint(\"modelVersionHref: \" + saved_model.meta.prop(\"modelVersionHref\"))", 
            "metadata": {}, 
            "outputs": [
                {
                    "output_type": "stream", 
                    "name": "stdout", 
                    "text": "modelType: scikit-model-0.17.1\nruntime: python-3.5\ncreationTime: 2017-09-06 13:37:59.891000+00:00\nmodelVersionHref: https://ibm-watson-ml.mybluemix.net/v2/artifacts/models/f2b8c92c-15de-4758-afba-8060a98f1a59/versions/cc3cb19c-63dd-4f83-b524-2547c19b0d9c\n"
                }
            ]
        }, 
        {
            "metadata": {}, 
            "cell_type": "markdown", 
            "source": "**Tip**: **modelVersionHref** is our model unique indentifier in the Watson Machine Learning repository."
        }, 
        {
            "metadata": {}, 
            "cell_type": "markdown", 
            "source": "### 4.2: Load model"
        }, 
        {
            "metadata": {}, 
            "cell_type": "markdown", 
            "source": "In this subsection you will learn how to load back saved model from specified instance of Watson Machine Learning."
        }, 
        {
            "execution_count": 22, 
            "cell_type": "code", 
            "source": "loadedModelArtifact = ml_repository_client.models.get(saved_model.uid)", 
            "metadata": {
                "collapsed": true
            }, 
            "outputs": []
        }, 
        {
            "metadata": {}, 
            "cell_type": "markdown", 
            "source": "You can print for example model name to make sure that model has been loaded correctly."
        }, 
        {
            "execution_count": 23, 
            "cell_type": "code", 
            "source": "print(loadedModelArtifact.name)\nprint(saved_model.uid)", 
            "metadata": {}, 
            "outputs": [
                {
                    "output_type": "stream", 
                    "name": "stdout", 
                    "text": "Hand-written digits recognition\nf2b8c92c-15de-4758-afba-8060a98f1a59\n"
                }
            ]
        }, 
        {
            "metadata": {}, 
            "cell_type": "markdown", 
            "source": "As you can see the name is correct. You have already learned how save and load the model from Watson Machine Learning repository."
        }, 
        {
            "metadata": {}, 
            "cell_type": "markdown", 
            "source": "<a id=\"visualization\"></a>\n## 5. Predict locally and visualize"
        }, 
        {
            "metadata": {}, 
            "cell_type": "markdown", 
            "source": "In this section you will learn how to score test data using loaded model and visualize the prediction results with plotly package."
        }, 
        {
            "metadata": {}, 
            "cell_type": "markdown", 
            "source": "### 5.1: Make local prediction using previously loaded model and score data"
        }, 
        {
            "metadata": {}, 
            "cell_type": "markdown", 
            "source": "In this subsection you will score *predict_data* data set."
        }, 
        {
            "execution_count": 23, 
            "cell_type": "code", 
            "source": "predictions = loadedModelArtifact.model_instance().predict(score_data)", 
            "metadata": {
                "collapsed": true
            }, 
            "outputs": []
        }, 
        {
            "metadata": {}, 
            "cell_type": "markdown", 
            "source": "Print prediction results."
        }, 
        {
            "execution_count": 24, 
            "cell_type": "code", 
            "source": "print(predictions)", 
            "metadata": {}, 
            "outputs": [
                {
                    "output_type": "stream", 
                    "name": "stdout", 
                    "text": "[5 2 8 0 1 7 6 3 2 1 7 8 6 3 1 3 9 1 7 6 8 4 3 1 4 0 5 3 6 9 6 1 7 5 4 4 7\n 2 2 5 4 3 5 8 4 5 0 8 9 8 0 1 2 3 4 5 6 7 8 9 0 1 2 3 4 5 6 7 8 9 0 1 2 5\n 4 5 6 7 8 9 0 9 5 5 6 5 0 9 8 9 8 4 1 7 7 3 5 1 0 0 2 2 7 8 2 0 1 2 6 8 8\n 7 5 3 4 6 6 6 4 9 1 5 0 9 5 2 8 2 0 0 1 7 6 3 2 1 7 4 6 3 1 3 9 1 7 6 8 4\n 5 1 4 0 5 3 6 9 6 1 7 5 4 4 7 2 8 2 2 5 7 9 5 4 8 8 4 9 0 8 9 8]\n"
                }
            ]
        }, 
        {
            "metadata": {}, 
            "cell_type": "markdown", 
            "source": "### 5.2: Sample visualization of data with matplotlib package"
        }, 
        {
            "execution_count": 25, 
            "cell_type": "code", 
            "source": "images_and_predictions = list(zip(digits.images[int(0.9*samples_count): ], predictions))\nfor i, (image, prediction) in enumerate(images_and_predictions[:4]):\n    plt.subplot(2, 4, i + 5)\n    plt.axis('off')\n    plt.imshow(image, cmap=plt.cm.gray_r, interpolation='nearest')\n    plt.title('Prediction: %i' % prediction)", 
            "metadata": {}, 
            "outputs": [
                {
                    "output_type": "display_data", 
                    "data": {
                        "text/plain": "<matplotlib.figure.Figure at 0x7fe3bb91c518>", 
                        "image/png": "[encoded data removed]"
                    }, 
                    "metadata": {}
                }
            ]
        }, 
        {
            "metadata": {}, 
            "cell_type": "markdown", 
            "source": "<a id=\"scoring\"></a>\n## 6. Deploy and score in a Cloud"
        }, 
        {
            "metadata": {}, 
            "cell_type": "markdown", 
            "source": "In this section you will learn how to create online scoring and to score a new data record by using the Watson Machine Learning REST API. \nFor more information about REST APIs, see the [Swagger Documentation](http://watson-ml-api.mybluemix.net/)."
        }, 
        {
            "metadata": {
                "collapsed": true
            }, 
            "cell_type": "markdown", 
            "source": "To work with the Watson Machine Leraning REST API you must generate an access token. To do that you can use the following sample code:"
        }, 
        {
            "execution_count": 24, 
            "cell_type": "code", 
            "source": "import urllib3, requests, json\n\nheaders = urllib3.util.make_headers(basic_auth='{username}:{password}'.format(username=wml_credentials['username'], password=wml_credentials['password']))\nurl = '{}/v3/identity/token'.format(wml_credentials['url'])\nresponse = requests.get(url, headers=headers)\nmltoken = json.loads(response.text).get('token')", 
            "metadata": {
                "collapsed": true
            }, 
            "outputs": []
        }, 
        {
            "metadata": {}, 
            "cell_type": "markdown", 
            "source": "### 6.1: Create model deployment"
        }, 
        {
            "metadata": {}, 
            "cell_type": "markdown", 
            "source": "Get published_models url from instance details."
        }, 
        {
            "metadata": {}, 
            "cell_type": "markdown", 
            "source": "#### Get instance details"
        }, 
        {
            "execution_count": 25, 
            "cell_type": "code", 
            "source": "endpoint_instance = wml_credentials['url'] + \"/v3/wml_instances/\" + wml_credentials['instance_id']\nheader = {'Content-Type': 'application/json', 'Authorization': 'Bearer ' + mltoken} \n\nresponse_get_instance = requests.get(endpoint_instance, headers=header)\nprint(response_get_instance)\nprint(response_get_instance.text)", 
            "metadata": {}, 
            "outputs": [
                {
                    "output_type": "stream", 
                    "name": "stdout", 
                    "text": "<Response [200]>\n{\"metadata\":{\"guid\":\"360c510b-012c-4793-ae3f-063410081c3e\",\"url\":\"https://ibm-watson-ml.mybluemix.net/v3/wml_instances/360c510b-012c-4793-ae3f-063410081c3e\",\"created_at\":\"2017-08-04T09:15:48.344Z\",\"modified_at\":\"2017-09-06T13:38:00.021Z\"},\"entity\":{\"source\":\"Bluemix\",\"published_models\":{\"url\":\"https://ibm-watson-ml.mybluemix.net/v3/wml_instances/360c510b-012c-4793-ae3f-063410081c3e/published_models\"},\"usage\":{\"expiration_date\":\"2017-10-01T00:00:00.000Z\",\"computation_time\":{\"current\":18},\"model_count\":{\"limit\":1000,\"current\":0},\"prediction_count\":{\"current\":27},\"deployment_count\":{\"limit\":1000,\"current\":7}},\"plan_id\":\"0f2a3c2c-456b-40f3-9b19-726d2740b11c\",\"status\":\"Active\",\"organization_guid\":\"b0e61605-a82e-4f03-9e9f-2767973c084d\",\"region\":\"us-south\",\"account\":{\"id\":\"f52968f3dbbe7b0b53e15743d45e5e90\",\"name\":\"Umit Cakmak's Account\",\"type\":\"TRIAL\"},\"owner\":{\"ibm_id\":\"31000292EV\",\"email\":\"umit.cakmak@pl.ibm.com\",\"user_id\":\"43e0ee0e-6bfb-48fc-bcd8-d61e40d19253\",\"country_code\":\"POL\",\"beta_user\":true},\"deployments\":{\"url\":\"https://ibm-watson-ml.mybluemix.net/v3/wml_instances/360c510b-012c-4793-ae3f-063410081c3e/deployments\"},\"space_guid\":\"4c55eb1c-d6fe-4f0a-9390-35c9a7ecf27a\",\"plan\":\"standard\"}}\n"
                }
            ]
        }, 
        {
            "execution_count": 26, 
            "cell_type": "code", 
            "source": "endpoint_published_models = json.loads(response_get_instance.text).get('entity').get('published_models').get('url')\n\nprint(endpoint_published_models)", 
            "metadata": {}, 
            "outputs": [
                {
                    "output_type": "stream", 
                    "name": "stdout", 
                    "text": "https://ibm-watson-ml.mybluemix.net/v3/wml_instances/360c510b-012c-4793-ae3f-063410081c3e/published_models\n"
                }
            ]
        }, 
        {
            "metadata": {}, 
            "cell_type": "markdown", 
            "source": "Execute the following sample code that uses the published_models endpoint to get deployments url."
        }, 
        {
            "metadata": {}, 
            "cell_type": "markdown", 
            "source": "#### Get the list of published models"
        }, 
        {
            "execution_count": 27, 
            "cell_type": "code", 
            "source": "header = {'Content-Type': 'application/json', 'Authorization': 'Bearer ' + mltoken}\nresponse_get = requests.get(endpoint_published_models, headers=header)\n\nprint(response_get)\nprint(response_get.text)", 
            "metadata": {}, 
            "outputs": [
                {
                    "output_type": "stream", 
                    "name": "stdout", 
                    "text": "<Response [200]>\n{\"count\":1,\"resources\":[{\"metadata\":{\"guid\":\"f2b8c92c-15de-4758-afba-8060a98f1a59\",\"url\":\"https://ibm-watson-ml.mybluemix.net/v3/wml_instances/360c510b-012c-4793-ae3f-063410081c3e/published_models/f2b8c92c-15de-4758-afba-8060a98f1a59\",\"created_at\":\"2017-09-06T13:37:59.891Z\",\"modified_at\":\"2017-09-06T13:38:00.187Z\"},\"entity\":{\"runtime_environment\":\"python-3.5\",\"author\":{\"name\":\"IBM\",\"email\":\"ibm@ibm.com\"},\"name\":\"Hand-written digits recognition\",\"latest_version\":{\"url\":\"https://ibm-watson-ml.mybluemix.net/v2/artifacts/models/f2b8c92c-15de-4758-afba-8060a98f1a59/versions/cc3cb19c-63dd-4f83-b524-2547c19b0d9c\",\"guid\":\"cc3cb19c-63dd-4f83-b524-2547c19b0d9c\",\"created_at\":\"2017-09-06T13:38:00.187Z\"},\"model_type\":\"scikit-model-0.17.1\",\"deployments\":{\"count\":0,\"url\":\"https://ibm-watson-ml.mybluemix.net/v3/wml_instances/360c510b-012c-4793-ae3f-063410081c3e/published_models/f2b8c92c-15de-4758-afba-8060a98f1a59/deployments\"}}}]}\n"
                }
            ]
        }, 
        {
            "metadata": {}, 
            "cell_type": "markdown", 
            "source": "#### Get published model deployment url"
        }, 
        {
            "execution_count": 28, 
            "cell_type": "code", 
            "source": "[endpoint_deployments] = [x.get('entity').get('deployments').get('url') for x in json.loads(response_get.text).get('resources') if x.get('metadata').get('guid') == saved_model.uid]\n\nprint(endpoint_deployments)", 
            "metadata": {}, 
            "outputs": [
                {
                    "output_type": "stream", 
                    "name": "stdout", 
                    "text": "https://ibm-watson-ml.mybluemix.net/v3/wml_instances/360c510b-012c-4793-ae3f-063410081c3e/published_models/f2b8c92c-15de-4758-afba-8060a98f1a59/deployments\n"
                }
            ]
        }, 
        {
            "metadata": {}, 
            "cell_type": "markdown", 
            "source": "#### Create online deployment for published model"
        }, 
        {
            "execution_count": 29, 
            "cell_type": "code", 
            "source": "payload_online = {\"name\": \"Hand written digits recognition\", \"description\": \"Hand Written Digits Deployment\", \"type\": \"online\"}\nresponse_online = requests.post(endpoint_deployments, json=payload_online, headers=header)\n\nprint(response_online)\nprint(response_online.text)", 
            "metadata": {}, 
            "outputs": [
                {
                    "output_type": "stream", 
                    "name": "stdout", 
                    "text": "<Response [201]>\n{\"metadata\":{\"guid\":\"dc28b3d2-0f4e-4478-94c9-ce31ce3fb854\",\"url\":\"https://ibm-watson-ml.mybluemix.net/v3/wml_instances/360c510b-012c-4793-ae3f-063410081c3e/published_models/f2b8c92c-15de-4758-afba-8060a98f1a59/deployments/dc28b3d2-0f4e-4478-94c9-ce31ce3fb854\",\"created_at\":\"2017-09-06T13:39:38.452Z\",\"modified_at\":\"2017-09-06T13:39:39.476Z\"},\"entity\":{\"runtime_environment\":\"python-3.5\",\"name\":\"Hand written digits recognition\",\"scoring_url\":\"https://ibm-watson-ml.mybluemix.net/v3/wml_instances/360c510b-012c-4793-ae3f-063410081c3e/published_models/f2b8c92c-15de-4758-afba-8060a98f1a59/deployments/dc28b3d2-0f4e-4478-94c9-ce31ce3fb854/online\",\"description\":\"Hand Written Digits Deployment\",\"published_model\":{\"author\":{\"name\":\"IBM\",\"email\":\"ibm@ibm.com\"},\"name\":\"Hand-written digits recognition\",\"url\":\"https://ibm-watson-ml.mybluemix.net/v3/wml_instances/360c510b-012c-4793-ae3f-063410081c3e/published_models/f2b8c92c-15de-4758-afba-8060a98f1a59\",\"guid\":\"f2b8c92c-15de-4758-afba-8060a98f1a59\",\"created_at\":\"2017-09-06T13:39:38.420Z\"},\"model_type\":\"scikit-model-0.17.1\",\"status\":\"INITIALIZING\",\"type\":\"online\",\"deployed_version\":{\"url\":\"https://ibm-watson-ml.mybluemix.net/v2/artifacts/models/f2b8c92c-15de-4758-afba-8060a98f1a59/versions/cc3cb19c-63dd-4f83-b524-2547c19b0d9c\",\"guid\":\"cc3cb19c-63dd-4f83-b524-2547c19b0d9c\",\"created_at\":\"2017-09-06T13:38:00.187Z\"}}}\n"
                }
            ]
        }, 
        {
            "execution_count": 30, 
            "cell_type": "code", 
            "source": "scoring_url = json.loads(response_online.text).get('entity').get('scoring_url')\n\nprint(scoring_url)", 
            "metadata": {}, 
            "outputs": [
                {
                    "output_type": "stream", 
                    "name": "stdout", 
                    "text": "https://ibm-watson-ml.mybluemix.net/v3/wml_instances/360c510b-012c-4793-ae3f-063410081c3e/published_models/f2b8c92c-15de-4758-afba-8060a98f1a59/deployments/dc28b3d2-0f4e-4478-94c9-ce31ce3fb854/online\n"
                }
            ]
        }, 
        {
            "metadata": {}, 
            "cell_type": "markdown", 
            "source": " Now, you can send (POST) new scoring records (new data) for which you would like to get predictions. To do that, execute the following sample code: "
        }, 
        {
            "execution_count": 31, 
            "cell_type": "code", 
            "source": "digit = list(digits.data[1])\ndigit2 = list(digits.data[2])", 
            "metadata": {
                "collapsed": true
            }, 
            "outputs": []
        }, 
        {
            "execution_count": 32, 
            "cell_type": "code", 
            "source": "payload_scoring = {\"values\": [digit, digit2]}\nprint(payload_scoring)", 
            "metadata": {}, 
            "outputs": [
                {
                    "output_type": "stream", 
                    "name": "stdout", 
                    "text": "{'values': [[0.0, 0.0, 0.0, 12.0, 13.0, 5.0, 0.0, 0.0, 0.0, 0.0, 0.0, 11.0, 16.0, 9.0, 0.0, 0.0, 0.0, 0.0, 3.0, 15.0, 16.0, 6.0, 0.0, 0.0, 0.0, 7.0, 15.0, 16.0, 16.0, 2.0, 0.0, 0.0, 0.0, 0.0, 1.0, 16.0, 16.0, 3.0, 0.0, 0.0, 0.0, 0.0, 1.0, 16.0, 16.0, 6.0, 0.0, 0.0, 0.0, 0.0, 1.0, 16.0, 16.0, 6.0, 0.0, 0.0, 0.0, 0.0, 0.0, 11.0, 16.0, 10.0, 0.0, 0.0], [0.0, 0.0, 0.0, 4.0, 15.0, 12.0, 0.0, 0.0, 0.0, 0.0, 3.0, 16.0, 15.0, 14.0, 0.0, 0.0, 0.0, 0.0, 8.0, 13.0, 8.0, 16.0, 0.0, 0.0, 0.0, 0.0, 1.0, 6.0, 15.0, 11.0, 0.0, 0.0, 0.0, 1.0, 8.0, 13.0, 15.0, 1.0, 0.0, 0.0, 0.0, 9.0, 16.0, 16.0, 5.0, 0.0, 0.0, 0.0, 0.0, 3.0, 13.0, 16.0, 16.0, 11.0, 5.0, 0.0, 0.0, 0.0, 0.0, 3.0, 11.0, 16.0, 9.0, 0.0]]}\n"
                }
            ]
        }, 
        {
            "execution_count": 33, 
            "cell_type": "code", 
            "source": "response_scoring = requests.post(scoring_url, json=payload_scoring, headers=header)\n\nprint(response_scoring.text)", 
            "metadata": {}, 
            "outputs": [
                {
                    "output_type": "stream", 
                    "name": "stdout", 
                    "text": "{\n  \"values\": [[1], [2]],\n  \"fields\": [\"prediction\"]\n}\n"
                }
            ]
        }, 
        {
            "metadata": {}, 
            "cell_type": "markdown", 
            "source": "As we can see we predict that hand-written digits are: 1 and 2."
        }, 
        {
            "metadata": {
                "collapsed": true
            }, 
            "cell_type": "markdown", 
            "source": "<a id=\"summary\"></a>\n## 7. Summary and next steps     "
        }, 
        {
            "metadata": {
                "collapsed": true
            }, 
            "cell_type": "markdown", 
            "source": " You successfully completed this notebook! You learned how to use scikit-learn machine learning as well as Watson Machine Learning for model creation and deployment. Check out our _[Online Documentation](https://console.ng.bluemix.net/docs/services/PredictiveModeling/index.html?pos=2)_ for more samples, tutorials, documentation, how-tos, and blog posts. "
        }, 
        {
            "metadata": {}, 
            "cell_type": "markdown", 
            "source": "### Authors\n\n**Lukasz Cmielowski**, PhD, is a Automation Architect and Data Scientist in IBM with a track record of developing enterprise-level applications that substantially increases clients' ability to turn data into actionable knowledge."
        }, 
        {
            "metadata": {}, 
            "cell_type": "markdown", 
            "source": "Copyright \u00a9 2017 IBM. This notebook and its source code are released under the terms of the MIT License."
        }
    ], 
    "nbformat": 4, 
    "nbformat_minor": 1
}