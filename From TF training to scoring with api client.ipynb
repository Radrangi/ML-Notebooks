{
    "metadata": {
        "language_info": {
            "name": "python", 
            "mimetype": "text/x-python", 
            "nbconvert_exporter": "python", 
            "pygments_lexer": "ipython3", 
            "codemirror_mode": {
                "name": "ipython", 
                "version": 3
            }, 
            "file_extension": ".py", 
            "version": "3.5.2"
        }, 
        "kernelspec": {
            "display_name": "Python 3.5 (Experimental) with Spark 2.0", 
            "name": "python3-spark20", 
            "language": "python"
        }
    }, 
    "nbformat_minor": 1, 
    "cells": [
        {
            "metadata": {}, 
            "source": "<table style=\"border: none\" align=\"left\">\n   <tr style=\"border: none\">\n      <th style=\"border: none\"><font face=\"verdana\" size=\"4\" color=\"black\"><b>From tensorflow model training to scoring with</b></font><font face=\"monospace\" size=\"4\" color=\"darkblue\"><b> watson-machine-learning-client</b></font></th>\n      <th style=\"border: none\"><img src=\"https://github.com/pmservice/customer-satisfaction-prediction/blob/master/app/static/images/ml_icon_gray.png?raw=true\" alt=\"Watson Machine Learning icon\" height=\"40\" width=\"40\"></th>\n   </tr> \n   <tr style=\"border: none\">\n       <td style=\"border: none\"><img src=\"https://github.com/pmservice/wml-sample-models/raw/master/scikit-learn/hand-written-digits-recognition/images/numbers_banner-04.png\" width=\"600\" alt=\"Icon\"></td>\n   </tr>\n</table>", 
            "cell_type": "markdown"
        }, 
        {
            "metadata": {}, 
            "source": "This notebook contains steps and code to demonstrate support of Deep Learning model training and scoring in Watson Machine Learning service. This notebook introduces commands for getting data, training_definition persistance to Watson Machine Learning repository, model training, model persistance, model deployment and scoring.\n\nSome familiarity with Python is helpful. This notebook uses Python 3.\n\n\n## Learning goals\n\nThe learning goals of this notebook are:\n\n-  Working with Watson Machine Learning service.\n-  Training Deep Learning models (TensorFlow).\n-  Saving trained models in Watson Machine Learning repository.\n-  Online deployment and scoring of trained model.\n\n\n## Contents\n\nThis notebook contains the following parts:\n\n1.\t[Setup](#setup)\n2.\t[Train TensorFlow model](#model)\n3.\t[Persist model](#save)\n4.\t[Deploy model](#deploy)\n5.\t[Score](#scoring)\n6.\t[Summary and next steps](#summary)", 
            "cell_type": "markdown"
        }, 
        {
            "metadata": {}, 
            "source": "<a id=\"setup\"></a>\n## 1. Setup\n\nBefore you use the sample code in this notebook, you must perform the following setup tasks:\n\n-  Create a [Watson Machine Learning Service](https://console.ng.bluemix.net/catalog/services/ibm-watson-machine-learning/) instance (a lite plan is offered). \n-  Create [Cloud Object Storage (COS)](https://console.bluemix.net/catalog/infrastructure/cloud-object-storage) instance (a lite plan is offered).\n    + After you create COS instance, go to your COS dashboard.\n    + In _Service credentials_ tab, click on _New Credential_,\n    + Add inline configuration parameter: `{\"HMAC\":true}`, click _Add_", 
            "cell_type": "markdown"
        }, 
        {
            "metadata": {}, 
            "source": "### 1.1 Working with Cloud Object Storage", 
            "cell_type": "markdown"
        }, 
        {
            "metadata": {}, 
            "source": "`ibm-cos-sdk` library allows Python developers to manage Cloud Object Storage (COS).", 
            "cell_type": "markdown"
        }, 
        {
            "outputs": [], 
            "metadata": {}, 
            "source": "import ibm_boto3\nfrom ibm_botocore.client import Config", 
            "cell_type": "code", 
            "execution_count": 1
        }, 
        {
            "metadata": {}, 
            "source": "**Action**: Put authentication information from your instance of Cloud Object Storage service here.", 
            "cell_type": "markdown"
        }, 
        {
            "outputs": [], 
            "metadata": {}, 
            "source": "cos_credentials = {\n  \"apikey\": \"***\",\n  \"cos_hmac_keys\": {\n    \"access_key_id\": \"***\",\n    \"secret_access_key\": \"***\"\n  },\n  \"endpoints\": \"https://cos-service.bluemix.net/endpoints\",\n  \"iam_apikey_description\": \"***\",\n  \"iam_apikey_name\": \"***\",\n  \"iam_role_crn\": \"***\",\n  \"iam_serviceid_crn\": \"***\",\n  \"resource_instance_id\": \"***\"\n}\ncos_credentials = {\n  \"apikey\": \"-2WHSk0VEvocPMen6qbEQUVfg1V0TiEGiqL4mJLQsuE8\",\n  \"cos_hmac_keys\": {\n    \"access_key_id\": \"b4eb1ddef8c9436ab77e2a5ecb089277\",\n    \"secret_access_key\": \"48c120b23cf8ddd3935c600571adf0c9f696378ce6f0048a\"\n  },\n  \"endpoints\": \"https://cos-service.bluemix.net/endpoints\",\n  \"iam_apikey_description\": \"Auto generated apikey during resource-key operation for Instance - crn:v1:bluemix:public:cloud-object-storage:global:a/8dba8395f5b8dc6fcab49d43161ab9f1:f037911e-7eae-4f79-994b-b6605e50392a::\",\n  \"iam_apikey_name\": \"auto-generated-apikey-b4eb1dde-f8c9-436a-b77e-2a5ecb089277\",\n  \"iam_role_crn\": \"crn:v1:bluemix:public:iam::::serviceRole:Writer\",\n  \"iam_serviceid_crn\": \"crn:v1:bluemix:public:iam-identity::a/8dba8395f5b8dc6fcab49d43161ab9f1::serviceid:ServiceId-eb5df9e5-4d0e-4d0b-a9a2-fb87cf4687b0\",\n  \"resource_instance_id\": \"crn:v1:bluemix:public:cloud-object-storage:global:a/8dba8395f5b8dc6fcab49d43161ab9f1:f037911e-7eae-4f79-994b-b6605e50392a::\"\n}", 
            "cell_type": "code", 
            "execution_count": 2
        }, 
        {
            "metadata": {}, 
            "source": "**Action:** Define the service endpoint we will use. <br>\n**Tip:** You can find this information in _Endpoints_ section of your Cloud Object Storage intance's dashbord.", 
            "cell_type": "markdown"
        }, 
        {
            "outputs": [], 
            "metadata": {}, 
            "source": "service_endpoint = 'https://s3-api.us-geo.objectstorage.softlayer.net'", 
            "cell_type": "code", 
            "execution_count": 3
        }, 
        {
            "metadata": {}, 
            "source": "You also need IBM Cloud authorization endpoint to be able to create COS resource object.", 
            "cell_type": "markdown"
        }, 
        {
            "outputs": [], 
            "metadata": {}, 
            "source": "auth_endpoint = 'https://iam.bluemix.net/oidc/token'", 
            "cell_type": "code", 
            "execution_count": 4
        }, 
        {
            "metadata": {}, 
            "source": "We create COS resource to be able to write data to Cloud Object Storage.", 
            "cell_type": "markdown"
        }, 
        {
            "outputs": [], 
            "metadata": {}, 
            "source": "cos = ibm_boto3.resource('s3',\n                         ibm_api_key_id=cos_credentials['apikey'],\n                         ibm_service_instance_id=cos_credentials['resource_instance_id'],\n                         ibm_auth_endpoint=auth_endpoint,\n                         config=Config(signature_version='oauth'),\n                         endpoint_url=service_endpoint)", 
            "cell_type": "code", 
            "execution_count": 5
        }, 
        {
            "metadata": {}, 
            "source": "Let's create the buckets (they have to have unique names), we will use to store training data and training results.", 
            "cell_type": "markdown"
        }, 
        {
            "outputs": [
                {
                    "name": "stdout", 
                    "output_type": "stream", 
                    "text": "Creating bucket \"training-data-2086a31d-1544-4cf5-ac80-129f83d17b6e\"...\nCreating bucket \"training-results-2086a31d-1544-4cf5-ac80-129f83d17b6e\"...\n"
                }
            ], 
            "metadata": {}, 
            "source": "from uuid import uuid4\n\nbucket_uid = str(uuid4())\nbuckets = ['training-data-' + bucket_uid, 'training-results-' + bucket_uid]\n\nfor bucket in buckets:\n    if not cos.Bucket(bucket) in cos.buckets.all():\n        print('Creating bucket \"{}\"...'.format(bucket))\n        try:\n            cos.create_bucket(Bucket=bucket)\n        except ibm_boto3.exceptions.ibm_botocore.client.ClientError as e:\n            print('Error: {}.'.format(e.response['Error']['Message']))", 
            "cell_type": "code", 
            "execution_count": 6
        }, 
        {
            "metadata": {}, 
            "source": "Now we should have 2 buckets,", 
            "cell_type": "markdown"
        }, 
        {
            "metadata": {}, 
            "source": "### 1.2 Downloading training data and upload it to COS buckets.", 
            "cell_type": "markdown"
        }, 
        {
            "metadata": {}, 
            "source": "Let's download our training data and upload them to 'training-data' bucket.\nWe will create a list of links for training dataset", 
            "cell_type": "markdown"
        }, 
        {
            "outputs": [], 
            "metadata": {}, 
            "source": "data_links = ['http://yann.lecun.com/exdb/mnist/train-images-idx3-ubyte.gz',\n              'http://yann.lecun.com/exdb/mnist/train-labels-idx1-ubyte.gz',\n              'http://yann.lecun.com/exdb/mnist/t10k-images-idx3-ubyte.gz',\n              'http://yann.lecun.com/exdb/mnist/t10k-labels-idx1-ubyte.gz']", 
            "cell_type": "code", 
            "execution_count": 7
        }, 
        {
            "metadata": {}, 
            "source": "Below snippet will upload files from links to your Cloud Object Storage.", 
            "cell_type": "markdown"
        }, 
        {
            "outputs": [
                {
                    "name": "stdout", 
                    "output_type": "stream", 
                    "text": "Uploading data train-images-idx3-ubyte.gz...\ntrain-images-idx3-ubyte.gz is uploaded.\nUploading data train-labels-idx1-ubyte.gz...\ntrain-labels-idx1-ubyte.gz is uploaded.\nUploading data t10k-images-idx3-ubyte.gz...\nt10k-images-idx3-ubyte.gz is uploaded.\nUploading data t10k-labels-idx1-ubyte.gz...\nt10k-labels-idx1-ubyte.gz is uploaded.\n"
                }
            ], 
            "metadata": {}, 
            "source": "from urllib.request import urlopen\n\nbucket_obj = cos.Bucket(buckets[0])\n\nfor data_link in data_links:\n    filename=data_link.split('/')[-1]\n    print('Uploading data {}...'.format(filename))\n    with urlopen(data_link) as data:\n        bucket_obj.upload_fileobj(data, filename)\n        print('{} is uploaded.'.format(filename))", 
            "cell_type": "code", 
            "execution_count": 8
        }, 
        {
            "metadata": {}, 
            "source": "Let's see the list of all created buckets and their contents.", 
            "cell_type": "markdown"
        }, 
        {
            "outputs": [
                {
                    "name": "stdout", 
                    "output_type": "stream", 
                    "text": "training-data-2086a31d-1544-4cf5-ac80-129f83d17b6e\n  File: t10k-images-idx3-ubyte.gz, 1610.23kB\n  File: t10k-labels-idx1-ubyte.gz, 4.44kB\n  File: train-images-idx3-ubyte.gz, 9680.10kB\n  File: train-labels-idx1-ubyte.gz, 28.20kB\ntraining-results-2086a31d-1544-4cf5-ac80-129f83d17b6e\n"
                }
            ], 
            "metadata": {}, 
            "source": "for bucket_name in buckets:\n    print(bucket_name)\n    bucket_obj = cos.Bucket(bucket_name)\n    for obj in bucket_obj.objects.all():\n        print(\"  File: {}, {:4.2f}kB\".format(obj.key, obj.size/1024))", 
            "cell_type": "code", 
            "execution_count": 9
        }, 
        {
            "metadata": {}, 
            "source": "We are done with Cloud Object Storage, we are ready to train our model!", 
            "cell_type": "markdown"
        }, 
        {
            "metadata": {}, 
            "source": "<a id=\"model\"></a>\n## 2. Train model", 
            "cell_type": "markdown"
        }, 
        {
            "metadata": {}, 
            "source": "### 2.1 Work with the instance", 
            "cell_type": "markdown"
        }, 
        {
            "outputs": [], 
            "metadata": {}, 
            "source": "import urllib3, requests, json, base64, time, os, wget", 
            "cell_type": "code", 
            "execution_count": 10
        }, 
        {
            "outputs": [
                {
                    "name": "stdout", 
                    "output_type": "stream", 
                    "text": "Requirement already up-to-date: dask in /gpfs/global_fs01/sym_shared/YPProdSpark/user/sec7-2ac43fd194bc9a-8ef090487f81/.local/lib/python3.5/site-packages\r\n"
                }
            ], 
            "metadata": {}, 
            "source": "!pip install dask --upgrade", 
            "cell_type": "code", 
            "execution_count": 11
        }, 
        {
            "metadata": {}, 
            "source": "Authenticate to Watson Machine Learning service on Bluemix.", 
            "cell_type": "markdown"
        }, 
        {
            "metadata": {}, 
            "source": "**Action**: Put authentication information from your instance of Watson Machine Learning service here.", 
            "cell_type": "markdown"
        }, 
        {
            "outputs": [], 
            "metadata": {}, 
            "source": "wml_credentials={\n  \"url\": \"https://ibm-watson-ml.mybluemix.net\",\n  \"access_key\": \"***\",\n  \"username\": \"***\",\n  \"password\": \"***\",\n  \"instance_id\": \"***\"\n}\nwml_credentials={\n  \"url\": \"https://ibm-watson-ml.mybluemix.net\",\n  \"access_key\": \"DIZV+iVeSeFlyCVyD08sAN3UTTiauJCyU/mPntj6MbfM201Vlm5XdPtDxm7YG/1spxSFKe9cZoFYLlzgPf++qpWZYcc+6fawL9S0V+2V79Adc+zik+ZHJYrsBRl9GAcs\",\n  \"username\": \"84ff785f-ec45-4417-b6ce-30ee6534a5b1\",\n  \"password\": \"d3940235-f599-4217-9d33-567cfce02353\",\n  \"instance_id\": \"fd1db635-c9f3-4d83-afc7-32efec367e5e\"\n}", 
            "cell_type": "code", 
            "execution_count": 12
        }, 
        {
            "metadata": {}, 
            "source": "#### Install `watson-machine-learning-client` from pypi", 
            "cell_type": "markdown"
        }, 
        {
            "outputs": [
                {
                    "name": "stdout", 
                    "output_type": "stream", 
                    "text": "Requirement already up-to-date: watson-machine-learning-client in /gpfs/global_fs01/sym_shared/YPProdSpark/user/sec7-2ac43fd194bc9a-8ef090487f81/.local/lib/python3.5/site-packages\nRequirement already up-to-date: lomond in /gpfs/global_fs01/sym_shared/YPProdSpark/user/sec7-2ac43fd194bc9a-8ef090487f81/.local/lib/python3.5/site-packages (from watson-machine-learning-client)\nRequirement already up-to-date: tabulate in /gpfs/global_fs01/sym_shared/YPProdSpark/user/sec7-2ac43fd194bc9a-8ef090487f81/.local/lib/python3.5/site-packages (from watson-machine-learning-client)\nRequirement already up-to-date: tqdm in /gpfs/global_fs01/sym_shared/YPProdSpark/user/sec7-2ac43fd194bc9a-8ef090487f81/.local/lib/python3.5/site-packages (from watson-machine-learning-client)\nRequirement already up-to-date: requests in /gpfs/global_fs01/sym_shared/YPProdSpark/user/sec7-2ac43fd194bc9a-8ef090487f81/.local/lib/python3.5/site-packages (from watson-machine-learning-client)\nRequirement already up-to-date: urllib3 in /gpfs/global_fs01/sym_shared/YPProdSpark/user/sec7-2ac43fd194bc9a-8ef090487f81/.local/lib/python3.5/site-packages (from watson-machine-learning-client)\nRequirement already up-to-date: certifi in /gpfs/global_fs01/sym_shared/YPProdSpark/user/sec7-2ac43fd194bc9a-8ef090487f81/.local/lib/python3.5/site-packages (from watson-machine-learning-client)\nRequirement already up-to-date: pandas in /gpfs/global_fs01/sym_shared/YPProdSpark/user/sec7-2ac43fd194bc9a-8ef090487f81/.local/lib/python3.5/site-packages (from watson-machine-learning-client)\nRequirement already up-to-date: six>=1.10.0 in /gpfs/global_fs01/sym_shared/YPProdSpark/user/sec7-2ac43fd194bc9a-8ef090487f81/.local/lib/python3.5/site-packages (from lomond->watson-machine-learning-client)\nRequirement already up-to-date: chardet<3.1.0,>=3.0.2 in /gpfs/global_fs01/sym_shared/YPProdSpark/user/sec7-2ac43fd194bc9a-8ef090487f81/.local/lib/python3.5/site-packages (from requests->watson-machine-learning-client)\nRequirement already up-to-date: idna<2.7,>=2.5 in /gpfs/global_fs01/sym_shared/YPProdSpark/user/sec7-2ac43fd194bc9a-8ef090487f81/.local/lib/python3.5/site-packages (from requests->watson-machine-learning-client)\nRequirement already up-to-date: python-dateutil>=2 in /gpfs/global_fs01/sym_shared/YPProdSpark/user/sec7-2ac43fd194bc9a-8ef090487f81/.local/lib/python3.5/site-packages (from pandas->watson-machine-learning-client)\nRequirement already up-to-date: numpy>=1.9.0 in /gpfs/global_fs01/sym_shared/YPProdSpark/user/sec7-2ac43fd194bc9a-8ef090487f81/.local/lib/python3.5/site-packages (from pandas->watson-machine-learning-client)\nRequirement already up-to-date: pytz>=2011k in /gpfs/global_fs01/sym_shared/YPProdSpark/user/sec7-2ac43fd194bc9a-8ef090487f81/.local/lib/python3.5/site-packages (from pandas->watson-machine-learning-client)\n"
                }
            ], 
            "metadata": {}, 
            "source": "!pip install watson-machine-learning-client --upgrade", 
            "cell_type": "code", 
            "execution_count": 13
        }, 
        {
            "metadata": {}, 
            "source": "#### Import `watson-machine-learning-client` and authenticate to service instance", 
            "cell_type": "markdown"
        }, 
        {
            "outputs": [], 
            "metadata": {}, 
            "source": "from watson_machine_learning_client import WatsonMachineLearningAPIClient", 
            "cell_type": "code", 
            "execution_count": 14
        }, 
        {
            "outputs": [], 
            "metadata": {}, 
            "source": "client = WatsonMachineLearningAPIClient(wml_credentials)", 
            "cell_type": "code", 
            "execution_count": 15
        }, 
        {
            "metadata": {}, 
            "source": "### 2.2 Save model definition ", 
            "cell_type": "markdown"
        }, 
        {
            "metadata": {}, 
            "source": "#### Prepare model definition metadata", 
            "cell_type": "markdown"
        }, 
        {
            "outputs": [], 
            "metadata": {}, 
            "source": "model_definition_metadata = {\n            client.repository.DefinitionMetaNames.NAME: \"my_definition\",\n            client.repository.DefinitionMetaNames.DESCRIPTION: \"my_description\",\n            client.repository.DefinitionMetaNames.AUTHOR_NAME: \"John Smith\",\n            client.repository.DefinitionMetaNames.AUTHOR_EMAIL: \"js@js.com\",\n            client.repository.DefinitionMetaNames.FRAMEWORK_NAME: \"tensorflow\",\n            client.repository.DefinitionMetaNames.FRAMEWORK_VERSION: \"1.2\",\n            client.repository.DefinitionMetaNames.RUNTIME_NAME: \"python\",\n            client.repository.DefinitionMetaNames.RUNTIME_VERSION: \"3.5\",\n            client.repository.DefinitionMetaNames.EXECUTION_COMMAND: \"python3 tensorflow_mnist_softmax.py --trainingIters 20\"\n            }", 
            "cell_type": "code", 
            "execution_count": 16
        }, 
        {
            "metadata": {}, 
            "source": "#### Get sample model definition content file from git", 
            "cell_type": "markdown"
        }, 
        {
            "outputs": [
                {
                    "name": "stdout", 
                    "output_type": "stream", 
                    "text": "tf-softmax-model.zip\n"
                }
            ], 
            "metadata": {}, 
            "source": "filename='tf-softmax-model.zip'\n\nif not os.path.isfile(filename):\n    filename = wget('https://github.com/pmservice/wml-sample-models/raw/master/tensorflow/hand-written-digit-recognition/definition/tf-softmax-model.zip')\n    \nprint(filename)", 
            "cell_type": "code", 
            "execution_count": 17
        }, 
        {
            "metadata": {}, 
            "source": "#### Publish training definition in Watson Machine Learning repository", 
            "cell_type": "markdown"
        }, 
        {
            "outputs": [], 
            "metadata": {}, 
            "source": "definition_details = client.repository.store_definition(filename, model_definition_metadata)", 
            "cell_type": "code", 
            "execution_count": 18
        }, 
        {
            "outputs": [], 
            "metadata": {}, 
            "source": "definition_uid = client.repository.get_definition_uid(definition_details)", 
            "cell_type": "code", 
            "execution_count": 19
        }, 
        {
            "outputs": [
                {
                    "name": "stdout", 
                    "output_type": "stream", 
                    "text": "6c77d7d6-7a8b-4d44-96dd-e1fc7ae669d7\n"
                }
            ], 
            "metadata": {}, 
            "source": "print(definition_uid)", 
            "cell_type": "code", 
            "execution_count": 20
        }, 
        {
            "metadata": {}, 
            "source": "### 2.3 Train model", 
            "cell_type": "markdown"
        }, 
        {
            "metadata": {}, 
            "source": "#### Prepare training configuration", 
            "cell_type": "markdown"
        }, 
        {
            "metadata": {}, 
            "source": "**Action:** Put authentication information from your instance of Object Storage service here.\n- `TRAINING_DATA_REFERENCE` (reference to uploaded training data)\n- `TRAINING_RESULTS_REFERENCE` (location where trained model will be saved)", 
            "cell_type": "markdown"
        }, 
        {
            "outputs": [], 
            "metadata": {}, 
            "source": "training_configuration_metadata = {\n            client.training.ConfigurationMetaNames.NAME: \"Hand-written Digit Recognition\",\n            client.training.ConfigurationMetaNames.AUTHOR_NAME: \"John Smith\",\n            client.training.ConfigurationMetaNames.AUTHOR_EMAIL: \"JohnSmith@js.com\",\n            client.training.ConfigurationMetaNames.DESCRIPTION: \"Hand-written Digit Recognition training\",\n            client.training.ConfigurationMetaNames.FRAMEWORK_NAME: \"tensorflow\",\n            client.training.ConfigurationMetaNames.FRAMEWORK_VERSION: \"1.2-py3\",\n            client.training.ConfigurationMetaNames.EXECUTION_COMMAND: \"python3 tensorflow_mnist_softmax.py --trainingIters 20\",\n            #client.training.ConfigurationMetaNames.EXECUTION_RESOURCE_SIZE: \"small\",\n            client.training.ConfigurationMetaNames.TRAINING_DATA_REFERENCE: {\n                    \"connection\": {\n                        \"endpoint_url\": service_endpoint,\n                        \"aws_access_key_id\": cos_credentials['cos_hmac_keys']['access_key_id'],\n                        \"aws_secret_access_key\": cos_credentials['cos_hmac_keys']['secret_access_key']\n                    },\n                    \"source\": {\n                        \"bucket\": buckets[0],\n                    },\n                    \"type\": \"s3\"\n                },\n            client.training.ConfigurationMetaNames.TRAINING_RESULTS_REFERENCE: {\n                \"connection\": {\n                    \"endpoint_url\": service_endpoint,\n                    \"aws_access_key_id\": cos_credentials['cos_hmac_keys']['access_key_id'],\n                    \"aws_secret_access_key\": cos_credentials['cos_hmac_keys']['secret_access_key']\n                },\n                \"target\": {\n                    \"bucket\": buckets[1],\n                },\n                \"type\": \"s3\"\n            },\n        }", 
            "cell_type": "code", 
            "execution_count": 21
        }, 
        {
            "metadata": {}, 
            "source": "#### Train the model in the background", 
            "cell_type": "markdown"
        }, 
        {
            "outputs": [], 
            "metadata": {}, 
            "source": "training_run_details = client.training.run(definition_uid, training_configuration_metadata)", 
            "cell_type": "code", 
            "execution_count": 22
        }, 
        {
            "outputs": [], 
            "metadata": {}, 
            "source": "training_run_guid_async = client.training.get_run_uid(training_run_details)", 
            "cell_type": "code", 
            "execution_count": 23
        }, 
        {
            "metadata": {}, 
            "source": "You can check status of training run by calling below method.", 
            "cell_type": "markdown"
        }, 
        {
            "outputs": [
                {
                    "name": "stdout", 
                    "output_type": "stream", 
                    "text": "{\n  \"metrics\": [],\n  \"submitted_at\": \"2018-01-31T11:45:01Z\",\n  \"state\": \"pending\",\n  \"current_at\": \"2018-01-31T11:45:15Z\"\n}\n"
                }
            ], 
            "metadata": {
                "scrolled": true
            }, 
            "source": "status = client.training.get_status(training_run_guid_async)\nprint(json.dumps(status, indent=2))", 
            "cell_type": "code", 
            "execution_count": 24
        }, 
        {
            "metadata": {}, 
            "source": "#### Monitor training log", 
            "cell_type": "markdown"
        }, 
        {
            "metadata": {}, 
            "source": "You can turn on training log monitoring by calling below method.", 
            "cell_type": "markdown"
        }, 
        {
            "outputs": [
                {
                    "name": "stdout", 
                    "output_type": "stream", 
                    "text": "\n\n########################################################\n\nLog monitor started for training run: training-KEjw8HjzR\n\n########################################################\n\n\nStatus: PENDING\n\nTraining with training/test data at:\n  DATA_DIR: /job/training-data-2086a31d-1544-4cf5-ac80-129f83d17b6e\n  MODEL_DIR: /job/model-code\n  TRAINING_JOB: \n  TRAINING_COMMAND: python3 tensorflow_mnist_softmax.py --trainingIters 20\nStoring trained model at:\n  RESULT_DIR: /job/training-results-2086a31d-1544-4cf5-ac80-129f83d17b6e\nBAZEL_VERSION=0.4.5\nCI_BUILD_PYTHON=python3\nCUDA_PKG_VERSION=8-0=8.0.61-1\nCUDA_VERSION=8.0.61\n\nCUDNN_VERSION=5.1.10\n\nDATA_DIR=/job/training-data-2086a31d-1544-4cf5-ac80-129f83d17b6e\nGPU_COUNT=1.000000\nHOME=/root\nJOB_STATE_DIR=/job\nLD_LIBRARY_PATH=/usr/local/cuda/extras/CUPTI/lib64:/usr/local/nvidia/lib:/usr/local/nvidia/lib64:/usr/local/cuda/lib64/stubs\nLEARNER_ID=1\nLIBRARY_PATH=/usr/local/cuda/lib64/stubs:\n\nMODEL_DIR=/job/model-code\nOLDPWD=/root\n\nPATH=/usr/local/nvidia/bin:/usr/local/cuda/bin:/usr/local/sbin:/usr/local/bin:/usr/sbin:/usr/bin:/sbin:/bin\nPROMETHEUS_PORT=tcp://172.21.91.116:9090\n\nPROMETHEUS_PORT_9090_TCP=tcp://172.21.91.116:9090\nPROMETHEUS_PORT_9090_TCP_ADDR=172.21.91.116\n\nPROMETHEUS_PORT_9090_TCP_PORT=9090\nPROMETHEUS_PORT_9090_TCP_PROTO=tcp\n\nPROMETHEUS_SERVICE_HOST=172.21.91.116\n\nPROMETHEUS_SERVICE_PORT=9090\nPROMETHEUS_SERVICE_PORT_PROMETHEUS=9090\n\nPWD=/job/model-code\n\nPYTHONPATH=:/job/model-code\n\nRESULT_DIR=/job/training-results-2086a31d-1544-4cf5-ac80-129f83d17b6e\nSHLVL=3\n\nSTATSDEXPORTER_PORT=tcp://172.21.163.204:9102\nSTATSDEXPORTER_PORT_9102_TCP=tcp://172.21.163.204:9102\nSTATSDEXPORTER_PORT_9102_TCP_ADDR=172.21.163.204\n\nSTATSDEXPORTER_PORT_9102_TCP_PORT=9102\n\nSTATSDEXPORTER_PORT_9102_TCP_PROTO=tcp\n\nSTATSDEXPORTER_PORT_9125_UDP=udp://172.21.163.204:9125\n\nSTATSDEXPORTER_PORT_9125_UDP_ADDR=172.21.163.204\n\nSTATSDEXPORTER_PORT_9125_UDP_PORT=9125\n\nSTATSDEXPORTER_PORT_9125_UDP_PROTO=udp\nSTATSDEXPORTER_SERVICE_HOST=172.21.163.204\n\nSTATSDEXPORTER_SERVICE_PORT=9102\nSTATSDEXPORTER_SERVICE_PORT_STATSD=9125\n\nSTATSDEXPORTER_SERVICE_PORT_STATSD_PROM=9102\n\nTF_CUDA_COMPUTE_CAPABILITIES=3.0,3.5,5.2,6.0,6.1\nTF_NEED_CUDA=1\n\nTRAINING_COMMAND=python3 tensorflow_mnist_softmax.py --trainingIters 20\nTRAINING_ID=training-KEjw8HjzR\n_=/usr/bin/env\nWed Jan 31 11:45:27 UTC 2018: Running Tensorflow job\n\n2018-01-31 11:45:29.851294: W tensorflow/core/platform/cpu_feature_guard.cc:45] The TensorFlow library wasn't compiled to use SSE4.1 instructions, but these are available on your machine and could speed up CPU computations.\n2018-01-31 11:45:29.851339: W tensorflow/core/platform/cpu_feature_guard.cc:45] The TensorFlow library wasn't compiled to use SSE4.2 instructions, but these are available on your machine and could speed up CPU computations.\n2018-01-31 11:45:29.851348: W tensorflow/core/platform/cpu_feature_guard.cc:45] The TensorFlow library wasn't compiled to use AVX instructions, but these are available on your machine and could speed up CPU computations.\n\n2018-01-31 11:45:29.851355: W tensorflow/core/platform/cpu_feature_guard.cc:45] The TensorFlow library wasn't compiled to use AVX2 instructions, but these are available on your machine and could speed up CPU computations.\n2018-01-31 11:45:29.851362: W tensorflow/core/platform/cpu_feature_guard.cc:45] The TensorFlow library wasn't compiled to use FMA instructions, but these are available on your machine and could speed up CPU computations.\n\n2018-01-31 11:45:30.195219: I tensorflow/core/common_runtime/gpu/gpu_device.cc:940] Found device 0 with properties: \nname: Tesla K80\nmajor: 3 minor: 7 memoryClockRate (GHz) 0.8235\npciBusID 0000:08:00.0\n\nTotal memory: 11.17GiB\nFree memory: 11.10GiB\n\n2018-01-31 11:45:30.195267: I tensorflow/core/common_runtime/gpu/gpu_device.cc:961] DMA: 0 \n2018-01-31 11:45:30.195277: I tensorflow/core/common_runtime/gpu/gpu_device.cc:971] 0:   Y \n2018-01-31 11:45:30.195299: I tensorflow/core/common_runtime/gpu/gpu_device.cc:1030] Creating TensorFlow device (/gpu:0) -> (device: 0, name: Tesla K80, pci bus id: 0000:08:00.0)\n\nStart model training\nOptimization Finished!\nTesting Accuracy:  0.9171\nclassification_signature content:\ninputs {\n  key: \"inputs\"\n  value {\n    name: \"Placeholder:0\"\n    dtype: DT_FLOAT\n    tensor_shape {\n\n      dim {\n\n        size: -1\n      }\n      dim {\n        size: 784\n      }\n    }\n\n  }\n}\n\noutputs {\n  key: \"classes\"\n\n  value {\n\n    name: \"predictor:0\"\n    dtype: DT_INT64\n\n    tensor_shape {\n\n      dim {\n\n        size: -1\n      }\n\n    }\n  }\n\n}\nmethod_name: \"tensorflow/serving/classify\"\n\n\n\n\n\n\n-----------------\nLog monitor done.\n-----------------\n\n\n"
                }
            ], 
            "metadata": {}, 
            "source": "client.training.monitor_logs(training_run_guid_async)", 
            "cell_type": "code", 
            "execution_count": 25
        }, 
        {
            "metadata": {}, 
            "source": "#### Cancel training", 
            "cell_type": "markdown"
        }, 
        {
            "metadata": {}, 
            "source": "You can cancel training run by calling below method.", 
            "cell_type": "markdown"
        }, 
        {
            "metadata": {}, 
            "source": "client.training.cancel(training_run_guid_async)", 
            "cell_type": "raw"
        }, 
        {
            "metadata": {}, 
            "source": "#### Train the model in active mode", 
            "cell_type": "markdown"
        }, 
        {
            "metadata": {}, 
            "source": "**Tip:** You can also run training in synchronous mode by setting `asynchronous = False`", 
            "cell_type": "markdown"
        }, 
        {
            "outputs": [
                {
                    "name": "stdout", 
                    "output_type": "stream", 
                    "text": "\n\n############################\n\nRunning 'training-YZSrUHCzg'\n\n############################\n\n\nElapsed time: 0.09987664222717285 -> training state: pending\n"
                }, 
                {
                    "name": "stderr", 
                    "output_type": "stream", 
                    "text": "100%|\u2588\u2588\u2588\u2588\u2588\u2588\u2588\u2588\u2588\u2588| 10/10 [00:10<00:00,  1.00s/it]"
                }, 
                {
                    "name": "stdout", 
                    "output_type": "stream", 
                    "text": "Elapsed time: 10.213050603866577 -> training state: pending\n"
                }, 
                {
                    "name": "stderr", 
                    "output_type": "stream", 
                    "text": "\n100%|\u2588\u2588\u2588\u2588\u2588\u2588\u2588\u2588\u2588\u2588| 10/10 [00:10<00:00,  1.00s/it]"
                }, 
                {
                    "name": "stdout", 
                    "output_type": "stream", 
                    "text": "Elapsed time: 20.327072858810425 -> training state: pending\n"
                }, 
                {
                    "name": "stderr", 
                    "output_type": "stream", 
                    "text": "\n100%|\u2588\u2588\u2588\u2588\u2588\u2588\u2588\u2588\u2588\u2588| 10/10 [00:10<00:00,  1.00s/it]"
                }, 
                {
                    "name": "stdout", 
                    "output_type": "stream", 
                    "text": "Elapsed time: 30.451308012008667 -> training state: pending\n"
                }, 
                {
                    "name": "stderr", 
                    "output_type": "stream", 
                    "text": "\n100%|\u2588\u2588\u2588\u2588\u2588\u2588\u2588\u2588\u2588\u2588| 10/10 [00:10<00:00,  1.00s/it]"
                }, 
                {
                    "name": "stdout", 
                    "output_type": "stream", 
                    "text": "Elapsed time: 40.56735801696777 -> training state: pending\n"
                }, 
                {
                    "name": "stderr", 
                    "output_type": "stream", 
                    "text": "\n100%|\u2588\u2588\u2588\u2588\u2588\u2588\u2588\u2588\u2588\u2588| 10/10 [00:10<00:00,  1.00s/it]"
                }, 
                {
                    "name": "stdout", 
                    "output_type": "stream", 
                    "text": "Training of 'training-YZSrUHCzg' finished successfully.\n"
                }, 
                {
                    "name": "stderr", 
                    "output_type": "stream", 
                    "text": "\n"
                }
            ], 
            "metadata": {}, 
            "source": "training_run_details = client.training.run(definition_uid, training_configuration_metadata, asynchronous=False)", 
            "cell_type": "code", 
            "execution_count": 26
        }, 
        {
            "metadata": {}, 
            "source": "You can see the status of training run similarly as before", 
            "cell_type": "markdown"
        }, 
        {
            "outputs": [], 
            "metadata": {}, 
            "source": "training_run_uid_sync = client.training.get_run_uid(training_run_details)", 
            "cell_type": "code", 
            "execution_count": 27
        }, 
        {
            "outputs": [
                {
                    "name": "stdout", 
                    "output_type": "stream", 
                    "text": "{\n  \"submitted_at\": \"2018-01-31T11:46:28Z\",\n  \"state\": \"completed\",\n  \"metrics\": [],\n  \"finished_at\": \"2018-01-31T11:47:01Z\",\n  \"current_at\": \"2018-01-31T11:47:09Z\",\n  \"message\": \"\"\n}\n"
                }
            ], 
            "metadata": {}, 
            "source": "status = client.training.get_status(training_run_uid_sync)\nprint(json.dumps(status, indent=2))", 
            "cell_type": "code", 
            "execution_count": 28
        }, 
        {
            "metadata": {}, 
            "source": "<a id=\"model\"></a>\n## 3. Persist model", 
            "cell_type": "markdown"
        }, 
        {
            "metadata": {}, 
            "source": "#### Call this method to save model in Watson Machine Learning repository", 
            "cell_type": "markdown"
        }, 
        {
            "outputs": [], 
            "metadata": {}, 
            "source": "saved_model_details = client.repository.store_model(training_run_uid_sync, \"My cool mnist model\")", 
            "cell_type": "code", 
            "execution_count": 30
        }, 
        {
            "outputs": [
                {
                    "name": "stdout", 
                    "output_type": "stream", 
                    "text": "Url: https://ibm-watson-ml.mybluemix.net/v3/ml_assets/models/e4643014-a6c7-45a0-94cd-f52e00f62bf9\n"
                }
            ], 
            "metadata": {}, 
            "source": "print(\"Url: \" + client.repository.get_model_url(saved_model_details))", 
            "cell_type": "code", 
            "execution_count": 31
        }, 
        {
            "metadata": {}, 
            "source": "**Tip:** Run below code to extract stored model uid from dictionary.", 
            "cell_type": "markdown"
        }, 
        {
            "outputs": [
                {
                    "name": "stdout", 
                    "output_type": "stream", 
                    "text": "Saved model uid: e4643014-a6c7-45a0-94cd-f52e00f62bf9\n"
                }
            ], 
            "metadata": {}, 
            "source": "model_uid = client.repository.get_model_uid(saved_model_details)\nprint(\"Saved model uid: \" + model_uid)", 
            "cell_type": "code", 
            "execution_count": 32
        }, 
        {
            "metadata": {}, 
            "source": "#### Call this method to list stored models", 
            "cell_type": "markdown"
        }, 
        {
            "outputs": [
                {
                    "name": "stdout", 
                    "output_type": "stream", 
                    "text": "------------------------------------  ------------------------------  ------------------------  -----------------  -----\nGUID                                  NAME                            CREATED                   FRAMEWORK          TYPE\n51cdbdea-28ea-488d-9edd-dab2a8c44208  Sentiment Prediction            2018-01-30T14:15:06.339Z  mllib-2.0          model\nb7e9fc69-f0db-444f-89b4-fe7aa5e8a4f1  Handwritten Digits Recognition  2018-01-30T14:15:24.106Z  scikit-learn-0.17  model\nfae8e498-136e-4c35-81bd-a9a69a50b1c7  CHAID PMML model for Iris data  2018-01-30T14:17:19.921Z  pmml-4.2           model\n22e4cd95-4ede-4fa7-b361-ef9841a0e31f  My cool mnist model             2018-01-31T10:21:42.501Z  tensorflow-1.2     model\ne4643014-a6c7-45a0-94cd-f52e00f62bf9  My cool mnist model             2018-01-31T11:48:14.134Z  tensorflow-1.2     model\n------------------------------------  ------------------------------  ------------------------  -----------------  -----\n"
                }
            ], 
            "metadata": {}, 
            "source": "client.repository.list_models()", 
            "cell_type": "code", 
            "execution_count": 33
        }, 
        {
            "metadata": {}, 
            "source": "#### Delete training-run and its results", 
            "cell_type": "markdown"
        }, 
        {
            "metadata": {}, 
            "source": "You can delete train runs and results by running below method.", 
            "cell_type": "markdown"
        }, 
        {
            "metadata": {}, 
            "source": "client.training.delete(training_run_uid_async)\nclient.training.delete(training_run_uid_sync)", 
            "cell_type": "raw"
        }, 
        {
            "metadata": {}, 
            "source": "## 5. Create online deployment", 
            "cell_type": "markdown"
        }, 
        {
            "metadata": {}, 
            "source": "You can deployed stored model as webservice (online) by running below method.", 
            "cell_type": "markdown"
        }, 
        {
            "outputs": [], 
            "metadata": {}, 
            "source": "deployment_details = client.deployments.create(model_uid, \"Mnist model deployment\")", 
            "cell_type": "code", 
            "execution_count": 36
        }, 
        {
            "outputs": [
                {
                    "name": "stdout", 
                    "output_type": "stream", 
                    "text": "https://ibm-watson-ml.mybluemix.net/v3/wml_instances/fd1db635-c9f3-4d83-afc7-32efec367e5e/published_models/e4643014-a6c7-45a0-94cd-f52e00f62bf9/deployments/b44c9c91-796a-4caf-bb15-357065df1ac9/online\n"
                }
            ], 
            "metadata": {}, 
            "source": "scoring_url = client.deployments.get_scoring_url(deployment_details)\nprint(scoring_url)", 
            "cell_type": "code", 
            "execution_count": 37
        }, 
        {
            "metadata": {
                "collapsed": true
            }, 
            "source": "## 6. Scoring", 
            "cell_type": "markdown"
        }, 
        {
            "metadata": {}, 
            "source": "Prepare sample scoring data to score deployed model.", 
            "cell_type": "markdown"
        }, 
        {
            "outputs": [], 
            "metadata": {}, 
            "source": "image1 = [0.000,0.000,0.000,0.000,0.000,0.000,0.000,0.000,0.000,0.000,0.000,0.000,0.000,0.000,0.000,0.000,0.000,0.000,0.000,0.000,0.000,0.000,0.000,0.000,0.000,0.000,0.000,0.000,0.000,0.000,0.000,0.000,0.000,0.000,0.000,0.000,0.000,0.000,0.000,0.000,0.000,0.000,0.000,0.000,0.000,0.000,0.000,0.000,0.000,0.000,0.000,0.000,0.000,0.000,0.000,0.000,0.000,0.000,0.000,0.000,0.000,0.000,0.000,0.000,0.000,0.000,0.000,0.000,0.000,0.000,0.000,0.000,0.000,0.000,0.000,0.000,0.000,0.000,0.000,0.000,0.000,0.000,0.000,0.000,0.000,0.000,0.000,0.000,0.000,0.000,0.000,0.000,0.000,0.000,0.000,0.000,0.000,0.000,0.000,0.000,0.000,0.000,0.000,0.000,0.000,0.000,0.000,0.000,0.000,0.000,0.000,0.000,0.000,0.000,0.000,0.000,0.000,0.000,0.000,0.000,0.000,0.000,0.000,0.000,0.000,0.000,0.000,0.000,0.000,0.000,0.000,0.000,0.000,0.000,0.000,0.000,0.000,0.000,0.000,0.000,0.000,0.000,0.000,0.000,0.000,0.000,0.000,0.000,0.000,0.000,0.000,0.000,0.639,0.757,0.596,0.361,0.200,0.200,0.200,0.200,0.122,0.000,0.000,0.000,0.000,0.000,0.000,0.000,0.000,0.000,0.000,0.000,0.000,0.000,0.000,0.000,0.000,0.000,0.000,0.082,0.875,0.992,0.988,0.992,0.988,0.992,0.988,0.992,0.753,0.322,0.000,0.000,0.000,0.000,0.000,0.000,0.000,0.000,0.000,0.000,0.000,0.000,0.000,0.000,0.000,0.000,0.000,0.200,0.992,0.400,0.000,0.082,0.400,0.243,0.400,0.400,0.239,0.718,0.157,0.000,0.000,0.000,0.000,0.000,0.000,0.000,0.000,0.000,0.000,0.000,0.000,0.000,0.000,0.000,0.000,0.200,0.988,0.400,0.000,0.000,0.000,0.000,0.000,0.000,0.000,0.239,0.000,0.000,0.000,0.000,0.000,0.000,0.000,0.000,0.000,0.000,0.000,0.000,0.000,0.000,0.000,0.000,0.000,0.200,0.992,0.400,0.000,0.000,0.000,0.000,0.000,0.000,0.000,0.000,0.000,0.000,0.000,0.000,0.000,0.000,0.000,0.000,0.000,0.000,0.000,0.000,0.000,0.000,0.000,0.000,0.000,0.361,0.988,0.400,0.000,0.000,0.000,0.000,0.000,0.000,0.000,0.000,0.000,0.000,0.000,0.000,0.000,0.000,0.000,0.000,0.000,0.000,0.000,0.000,0.000,0.000,0.000,0.000,0.000,0.678,0.992,0.400,0.000,0.000,0.000,0.000,0.000,0.000,0.000,0.000,0.000,0.000,0.000,0.000,0.000,0.000,0.000,0.000,0.000,0.000,0.000,0.000,0.000,0.000,0.000,0.000,0.000,0.992,0.988,0.875,0.796,0.796,0.796,0.322,0.000,0.000,0.000,0.000,0.000,0.000,0.000,0.000,0.000,0.000,0.000,0.000,0.000,0.000,0.000,0.000,0.000,0.000,0.000,0.000,0.482,0.996,0.992,0.878,0.796,0.796,0.875,0.996,0.278,0.000,0.000,0.000,0.000,0.000,0.000,0.000,0.000,0.000,0.000,0.000,0.000,0.000,0.000,0.000,0.000,0.000,0.000,0.161,0.953,0.992,0.510,0.078,0.000,0.000,0.078,0.992,0.910,0.161,0.000,0.000,0.000,0.000,0.000,0.000,0.000,0.000,0.000,0.000,0.000,0.000,0.000,0.000,0.000,0.000,0.000,0.596,0.992,0.718,0.000,0.000,0.000,0.000,0.000,0.518,0.992,0.400,0.000,0.000,0.000,0.000,0.000,0.000,0.000,0.000,0.000,0.000,0.000,0.000,0.000,0.000,0.000,0.000,0.000,0.200,0.592,0.078,0.000,0.000,0.000,0.000,0.000,0.200,0.988,0.400,0.000,0.000,0.000,0.000,0.000,0.000,0.000,0.000,0.000,0.000,0.000,0.000,0.000,0.000,0.000,0.000,0.000,0.082,0.000,0.000,0.000,0.000,0.000,0.000,0.000,0.443,0.992,0.400,0.000,0.000,0.000,0.000,0.000,0.000,0.000,0.000,0.000,0.000,0.000,0.000,0.000,0.000,0.000,0.000,0.322,0.718,0.000,0.000,0.000,0.000,0.000,0.000,0.000,0.757,0.988,0.400,0.000,0.000,0.000,0.000,0.000,0.000,0.000,0.000,0.000,0.000,0.000,0.000,0.000,0.000,0.000,0.000,0.796,0.718,0.000,0.000,0.000,0.000,0.000,0.000,0.082,0.996,0.992,0.161,0.000,0.000,0.000,0.000,0.000,0.000,0.000,0.000,0.000,0.000,0.000,0.000,0.000,0.000,0.000,0.082,0.875,0.400,0.000,0.000,0.000,0.000,0.000,0.082,0.796,0.992,0.510,0.000,0.000,0.000,0.000,0.000,0.000,0.000,0.000,0.000,0.000,0.000,0.000,0.000,0.000,0.000,0.000,0.000,0.800,0.482,0.000,0.000,0.000,0.000,0.161,0.678,0.992,0.796,0.078,0.000,0.000,0.000,0.000,0.000,0.000,0.000,0.000,0.000,0.000,0.000,0.000,0.000,0.000,0.000,0.000,0.000,0.635,0.875,0.400,0.082,0.400,0.639,0.953,0.992,0.671,0.078,0.000,0.000,0.000,0.000,0.000,0.000,0.000,0.000,0.000,0.000,0.000,0.000,0.000,0.000,0.000,0.000,0.000,0.000,0.161,0.918,0.992,1.000,0.992,1.000,0.675,0.322,0.000,0.000,0.000,0.000,0.000,0.000,0.000,0.000,0.000,0.000,0.000,0.000,0.000,0.000,0.000,0.000,0.000,0.000,0.000,0.000,0.000,0.118,0.514,0.753,0.435,0.196,0.039,0.000,0.000,0.000,0.000,0.000,0.000,0.000,0.000,0.000,0.000,0.000,0.000,0.000,0.000,0.000,0.000,0.000,0.000,0.000,0.000,0.000,0.000,0.000,0.000,0.000,0.000,0.000,0.000,0.000,0.000,0.000,0.000,0.000,0.000,0.000,0.000,0.000,0.000,0.000,0.000,0.000,0.000,0.000,0.000,0.000,0.000,0.000,0.000,0.000,0.000,0.000,0.000,0.000,0.000,0.000,0.000,0.000,0.000,0.000,0.000,0.000,0.000,0.000,0.000,0.000,0.000,0.000,0.000,0.000,0.000,0.000,0.000,0.000,0.000,0.000,0.000,0.000,0.000,0.000,0.000,0.000,0.000,0.000,0.000,0.000,0.000,0.000,0.000,0.000,0.000,0.000,0.000,0.000,0.000,0.000,0.000,0.000]\nimage2 = [0.000,0.000,0.000,0.000,0.000,0.000,0.000,0.000,0.000,0.000,0.000,0.000,0.000,0.000,0.000,0.000,0.000,0.000,0.000,0.000,0.000,0.000,0.000,0.000,0.000,0.000,0.000,0.000,0.000,0.000,0.000,0.000,0.000,0.000,0.000,0.000,0.000,0.000,0.000,0.000,0.000,0.000,0.000,0.000,0.000,0.000,0.000,0.000,0.000,0.000,0.000,0.000,0.000,0.000,0.000,0.000,0.000,0.000,0.000,0.000,0.000,0.000,0.000,0.000,0.000,0.000,0.000,0.000,0.000,0.000,0.000,0.000,0.000,0.000,0.000,0.000,0.000,0.000,0.000,0.000,0.000,0.000,0.000,0.000,0.000,0.000,0.000,0.000,0.000,0.000,0.000,0.000,0.000,0.000,0.000,0.000,0.000,0.000,0.000,0.000,0.000,0.000,0.000,0.000,0.000,0.000,0.000,0.000,0.000,0.000,0.000,0.000,0.000,0.000,0.000,0.000,0.000,0.000,0.000,0.000,0.000,0.000,0.000,0.000,0.000,0.000,0.000,0.000,0.000,0.000,0.000,0.000,0.000,0.000,0.000,0.000,0.000,0.000,0.000,0.000,0.000,0.000,0.000,0.000,0.000,0.000,0.000,0.000,0.000,0.000,0.196,0.878,0.000,0.000,0.000,0.000,0.000,0.000,0.000,0.275,0.114,0.000,0.000,0.000,0.000,0.000,0.000,0.000,0.000,0.000,0.000,0.000,0.000,0.000,0.000,0.000,0.000,0.000,0.475,0.906,0.000,0.000,0.000,0.000,0.000,0.000,0.000,0.580,0.659,0.000,0.000,0.000,0.000,0.000,0.000,0.000,0.000,0.000,0.000,0.000,0.000,0.000,0.000,0.000,0.000,0.016,0.765,0.906,0.000,0.000,0.000,0.000,0.000,0.000,0.000,0.376,0.824,0.043,0.000,0.000,0.000,0.000,0.000,0.000,0.000,0.000,0.000,0.000,0.000,0.000,0.000,0.000,0.000,0.271,0.988,0.525,0.000,0.000,0.000,0.000,0.000,0.000,0.000,0.447,0.988,0.082,0.000,0.000,0.000,0.000,0.000,0.000,0.000,0.000,0.000,0.000,0.000,0.000,0.000,0.000,0.176,0.925,0.851,0.047,0.000,0.000,0.000,0.000,0.000,0.000,0.000,0.753,0.988,0.082,0.000,0.000,0.000,0.000,0.000,0.000,0.000,0.000,0.000,0.000,0.000,0.000,0.000,0.000,0.659,0.969,0.208,0.000,0.000,0.000,0.000,0.000,0.000,0.000,0.071,1.000,0.992,0.082,0.000,0.000,0.000,0.000,0.000,0.000,0.000,0.000,0.000,0.000,0.000,0.000,0.000,0.329,0.949,0.827,0.000,0.000,0.000,0.000,0.000,0.000,0.000,0.000,0.553,0.992,0.741,0.020,0.000,0.000,0.000,0.000,0.000,0.000,0.000,0.000,0.000,0.000,0.000,0.000,0.000,0.663,0.988,0.416,0.000,0.000,0.000,0.000,0.000,0.000,0.000,0.125,0.910,0.980,0.259,0.000,0.000,0.000,0.000,0.000,0.000,0.000,0.000,0.000,0.000,0.000,0.000,0.000,0.059,0.882,0.988,0.000,0.000,0.000,0.000,0.000,0.000,0.000,0.000,0.525,0.988,0.827,0.000,0.000,0.000,0.000,0.000,0.000,0.000,0.000,0.000,0.000,0.000,0.000,0.000,0.000,0.086,0.988,0.643,0.000,0.000,0.000,0.000,0.000,0.000,0.000,0.000,0.663,0.988,0.655,0.000,0.000,0.000,0.000,0.000,0.000,0.000,0.000,0.000,0.000,0.000,0.000,0.000,0.000,0.035,0.800,0.820,0.071,0.000,0.000,0.000,0.000,0.000,0.000,0.086,0.992,0.992,0.420,0.000,0.000,0.000,0.000,0.000,0.000,0.000,0.000,0.000,0.000,0.000,0.000,0.000,0.000,0.000,0.663,0.988,0.780,0.333,0.333,0.333,0.333,0.506,0.643,0.765,0.988,0.988,0.416,0.000,0.000,0.000,0.000,0.000,0.000,0.000,0.000,0.000,0.000,0.000,0.000,0.000,0.000,0.000,0.161,0.667,0.961,0.988,0.988,0.988,0.988,0.910,0.906,0.984,0.988,0.988,0.035,0.000,0.000,0.000,0.000,0.000,0.000,0.000,0.000,0.000,0.000,0.000,0.000,0.000,0.000,0.000,0.000,0.000,0.192,0.329,0.329,0.329,0.329,0.000,0.000,0.631,0.988,0.988,0.000,0.000,0.000,0.000,0.000,0.000,0.000,0.000,0.000,0.000,0.000,0.000,0.000,0.000,0.000,0.000,0.000,0.000,0.000,0.000,0.000,0.000,0.000,0.000,0.000,0.498,0.988,0.988,0.176,0.000,0.000,0.000,0.000,0.000,0.000,0.000,0.000,0.000,0.000,0.000,0.000,0.000,0.000,0.000,0.000,0.000,0.000,0.000,0.000,0.000,0.000,0.000,0.000,0.502,0.992,0.992,0.000,0.000,0.000,0.000,0.000,0.000,0.000,0.000,0.000,0.000,0.000,0.000,0.000,0.000,0.000,0.000,0.000,0.000,0.000,0.000,0.000,0.000,0.000,0.000,0.000,0.498,0.988,0.988,0.000,0.000,0.000,0.000,0.000,0.000,0.000,0.000,0.000,0.000,0.000,0.000,0.000,0.000,0.000,0.000,0.000,0.000,0.000,0.000,0.000,0.000,0.000,0.000,0.000,0.529,0.988,0.957,0.000,0.000,0.000,0.000,0.000,0.000,0.000,0.000,0.000,0.000,0.000,0.000,0.000,0.000,0.000,0.000,0.000,0.000,0.000,0.000,0.000,0.000,0.000,0.000,0.000,0.910,0.925,0.435,0.000,0.000,0.000,0.000,0.000,0.000,0.000,0.000,0.000,0.000,0.000,0.000,0.000,0.000,0.000,0.000,0.000,0.000,0.000,0.000,0.000,0.000,0.000,0.000,0.000,0.702,0.259,0.000,0.000,0.000,0.000,0.000,0.000,0.000,0.000,0.000,0.000,0.000,0.000,0.000,0.000,0.000,0.000,0.000,0.000,0.000,0.000,0.000,0.000,0.000,0.000,0.000,0.000,0.000,0.000,0.000,0.000,0.000,0.000,0.000,0.000,0.000,0.000,0.000,0.000,0.000,0.000,0.000,0.000,0.000,0.000,0.000,0.000,0.000,0.000,0.000,0.000,0.000,0.000,0.000,0.000,0.000,0.000,0.000,0.000,0.000,0.000,0.000,0.000,0.000,0.000,0.000,0.000,0.000,0.000,0.000,0.000,0.000,0.000,0.000,0.000,0.000,0.000,0.000,0.000,0.000,0.000,0.000,0.000,0.000,0.000,0.000,0.000,0.000,0.000,0.000,0.000,0.000,0.000,0.000,0.000]", 
            "cell_type": "code", 
            "execution_count": 38
        }, 
        {
            "outputs": [], 
            "metadata": {}, 
            "source": "%matplotlib inline\nimport matplotlib.pyplot as plt\nimport numpy as np", 
            "cell_type": "code", 
            "execution_count": 39
        }, 
        {
            "outputs": [
                {
                    "data": {
                        "text/plain": "<matplotlib.figure.Figure at 0x7fe1c3ea9d68>", 
                        "image/png": "[encoded data removed]"
                    }, 
                    "metadata": {}, 
                    "output_type": "display_data"
                }
            ], 
            "metadata": {}, 
            "source": "for i, image in enumerate([image1, image2]):\n    plt.subplot(2, 2, i + 1)\n    plt.axis('off')\n    plt.imshow( (np.reshape(image, (28, 28)) * 255).astype(np.uint8), cmap=plt.cm.gray_r, interpolation='nearest')", 
            "cell_type": "code", 
            "execution_count": 40
        }, 
        {
            "metadata": {}, 
            "source": "Build scoring disctionary consisting of two digits and send it to deployed model to get predictions.", 
            "cell_type": "markdown"
        }, 
        {
            "outputs": [], 
            "metadata": {}, 
            "source": "scoring_data = {'inputs': [image1, image2]}", 
            "cell_type": "code", 
            "execution_count": 41
        }, 
        {
            "outputs": [
                {
                    "name": "stdout", 
                    "output_type": "stream", 
                    "text": "Scoring result: {'classes': [5, 4]}\n"
                }
            ], 
            "metadata": {}, 
            "source": "predictions = client.deployments.score(scoring_url, scoring_data)\nprint(\"Scoring result: \" + str(predictions))", 
            "cell_type": "code", 
            "execution_count": 42
        }, 
        {
            "metadata": {
                "collapsed": true
            }, 
            "source": "<a id=\"summary\"></a>\n## 6. Summary and next steps     ", 
            "cell_type": "markdown"
        }, 
        {
            "metadata": {
                "collapsed": true
            }, 
            "source": " You successfully completed this notebook! You learned how to use `watson-machine-learning-client` to train and score TensorFlow models. Check out our _[Online Documentation](https://console.ng.bluemix.net/docs/services/PredictiveModeling/index.html)_ for more samples, tutorials, documentation, how-tos, and blog posts. ", 
            "cell_type": "markdown"
        }, 
        {
            "metadata": {}, 
            "source": "### Authors\n\n**Lukasz Cmielowski**, PhD, is a Automation Architect and Data Scientist in IBM with a track record of developing enterprise-level applications that substantially increases clients' ability to turn data into actionable knowledge.", 
            "cell_type": "markdown"
        }, 
        {
            "metadata": {}, 
            "source": "Copyright \u00a9 2017 IBM. This notebook and its source code are released under the terms of the MIT License.", 
            "cell_type": "markdown"
        }
    ], 
    "nbformat": 4
}