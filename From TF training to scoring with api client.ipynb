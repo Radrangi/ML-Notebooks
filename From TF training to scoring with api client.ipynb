{
    "nbformat_minor": 1, 
    "cells": [
        {
            "source": "<table style=\"border: none\" align=\"left\">\n   <tr style=\"border: none\">\n      <th style=\"border: none\"><font face=\"verdana\" size=\"4\" color=\"black\"><b>From tensorflow model training to scoring with</b></font><font face=\"monospace\" size=\"4\" color=\"darkblue\"><b> watson-machine-learning-client</b></font></th>\n      <th style=\"border: none\"><img src=\"https://github.com/pmservice/customer-satisfaction-prediction/blob/master/app/static/images/ml_icon_gray.png?raw=true\" alt=\"Watson Machine Learning icon\" height=\"40\" width=\"40\"></th>\n   </tr> \n   <tr style=\"border: none\">\n       <td style=\"border: none\"><img src=\"https://github.com/pmservice/wml-sample-models/raw/master/scikit-learn/hand-written-digits-recognition/images/numbers_banner-04.png\" width=\"600\" alt=\"Icon\"></td>\n   </tr>\n</table>", 
            "cell_type": "markdown", 
            "metadata": {}
        }, 
        {
            "source": "This notebook contains steps and code to demonstrate support of Deep Learning model training and scoring in Watson Machine Learning Service. This notebook introduces commands for getting data, training_definition persistance to Watson Machine Learning repository, model training, model persistance, model deployment and scoring.\n\nSome familiarity with Python is helpful. This notebook uses Python 3.\n\n\n## Learning goals\n\nThe learning goals of this notebook are:\n\n-  Working with Watson Machine Learning repository.\n-  Training Deep Learning models (TensorFlow).\n-  Saving trained models in Watson Machine Learning reposutory.\n-  Online deployment and scoring of trained model.\n\n\n## Contents\n\nThis notebook contains the following parts:\n\n1.\t[Setup](#setup)\n2.\t[Train TensorFlow model](#model)\n3.\t[Persist model](#save)\n4.\t[Deploy model](#deploy)\n5.\t[Score](#scoring)\n6.\t[Summary and next steps](#summary)", 
            "cell_type": "markdown", 
            "metadata": {}
        }, 
        {
            "source": "<a id=\"setup\"></a>\n## 1. Setup\n\nBefore you use the sample code in this notebook, you must perform the following setup tasks:\n\n-  Create a [Watson Machine Learning Service](https://console.ng.bluemix.net/catalog/services/ibm-watson-machine-learning/) instance (a lite plan is offered). \n-  Create [Object Storage OpenStack Swift](https://console.bluemix.net/catalog/services/object-storage) instance (a lite plan is offered).\n- Upload [training mnist data](http://yann.lecun.com/exdb/mnist/) to previously created Object Storage OpenStack Swift.", 
            "cell_type": "markdown", 
            "metadata": {}
        }, 
        {
            "source": "<a id=\"model\"></a>\n## 2. Train model", 
            "cell_type": "markdown", 
            "metadata": {}
        }, 
        {
            "source": "### 2.1 Work with the instance", 
            "cell_type": "markdown", 
            "metadata": {}
        }, 
        {
            "outputs": [], 
            "source": "import urllib3, requests, json, base64, time, os", 
            "execution_count": 16, 
            "cell_type": "code", 
            "metadata": {
                "collapsed": true
            }
        }, 
        {
            "outputs": [], 
            "source": "!pip install dask --upgrade", 
            "execution_count": null, 
            "cell_type": "code", 
            "metadata": {
                "collapsed": true
            }
        }, 
        {
            "source": "Authenticate to Watson Machine Learning service on Bluemix.", 
            "cell_type": "markdown", 
            "metadata": {}
        }, 
        {
            "source": "**Action**: Put authentication information from your instance of Watson Machine Learning service here.", 
            "cell_type": "markdown", 
            "metadata": {}
        }, 
        {
            "outputs": [], 
            "source": "wml_credentials={\n  \"url\": \"https://ibm-watson-ml.mybluemix.net\",\n  \"access_key\": \"***\",\n  \"username\": \"***\",\n  \"password\": \"***\",\n  \"instance_id\": \"***\"\n}", 
            "execution_count": 2, 
            "cell_type": "code", 
            "metadata": {
                "collapsed": true
            }
        }, 
        {
            "source": "#### Install `watson-machine-learning-client` from pypi", 
            "cell_type": "markdown", 
            "metadata": {}
        }, 
        {
            "outputs": [
                {
                    "name": "stdout", 
                    "text": "Collecting watson-machine-learning-client\n  Downloading https://test-files.pythonhosted.org/packages/56/4a/a3b113139b0d455b81fe49328c11633f7260f721eb3342560d3deb0833ee/watson_machine_learning_client-0.3.109-py2.py3-none-any.whl (298kB)\n\u001b[K    100% |\u2588\u2588\u2588\u2588\u2588\u2588\u2588\u2588\u2588\u2588\u2588\u2588\u2588\u2588\u2588\u2588\u2588\u2588\u2588\u2588\u2588\u2588\u2588\u2588\u2588\u2588\u2588\u2588\u2588\u2588\u2588\u2588| 307kB 1.3MB/s eta 0:00:01\n\u001b[?25hCollecting lomond (from watson-machine-learning-client)\n  Downloading lomond-0.1.12-py2.py3-none-any.whl\nCollecting tabulate (from watson-machine-learning-client)\n  Downloading tabulate-0.8.2.tar.gz (45kB)\n\u001b[K    100% |\u2588\u2588\u2588\u2588\u2588\u2588\u2588\u2588\u2588\u2588\u2588\u2588\u2588\u2588\u2588\u2588\u2588\u2588\u2588\u2588\u2588\u2588\u2588\u2588\u2588\u2588\u2588\u2588\u2588\u2588\u2588\u2588| 51kB 1.9MB/s eta 0:00:01\n\u001b[?25hCollecting tqdm (from watson-machine-learning-client)\n  Downloading tqdm-4.19.4-py2.py3-none-any.whl (50kB)\n\u001b[K    100% |\u2588\u2588\u2588\u2588\u2588\u2588\u2588\u2588\u2588\u2588\u2588\u2588\u2588\u2588\u2588\u2588\u2588\u2588\u2588\u2588\u2588\u2588\u2588\u2588\u2588\u2588\u2588\u2588\u2588\u2588\u2588\u2588| 51kB 938kB/s eta 0:00:01\n\u001b[?25hCollecting requests (from watson-machine-learning-client)\n  Downloading requests-2.18.4-py2.py3-none-any.whl (88kB)\n\u001b[K    100% |\u2588\u2588\u2588\u2588\u2588\u2588\u2588\u2588\u2588\u2588\u2588\u2588\u2588\u2588\u2588\u2588\u2588\u2588\u2588\u2588\u2588\u2588\u2588\u2588\u2588\u2588\u2588\u2588\u2588\u2588\u2588\u2588| 92kB 2.1MB/s eta 0:00:01\n\u001b[?25hCollecting urllib3 (from watson-machine-learning-client)\n  Downloading urllib3-1.22-py2.py3-none-any.whl (132kB)\n\u001b[K    100% |\u2588\u2588\u2588\u2588\u2588\u2588\u2588\u2588\u2588\u2588\u2588\u2588\u2588\u2588\u2588\u2588\u2588\u2588\u2588\u2588\u2588\u2588\u2588\u2588\u2588\u2588\u2588\u2588\u2588\u2588\u2588\u2588| 133kB 1.1MB/s eta 0:00:01\n\u001b[?25hCollecting certifi (from watson-machine-learning-client)\n  Downloading certifi-2017.11.5-py2.py3-none-any.whl (330kB)\n\u001b[K    100% |\u2588\u2588\u2588\u2588\u2588\u2588\u2588\u2588\u2588\u2588\u2588\u2588\u2588\u2588\u2588\u2588\u2588\u2588\u2588\u2588\u2588\u2588\u2588\u2588\u2588\u2588\u2588\u2588\u2588\u2588\u2588\u2588| 337kB 3.2MB/s eta 0:00:01\n\u001b[?25hCollecting pandas (from watson-machine-learning-client)\n  Downloading pandas-0.21.0-cp35-cp35m-manylinux1_x86_64.whl (25.7MB)\n\u001b[K    100% |\u2588\u2588\u2588\u2588\u2588\u2588\u2588\u2588\u2588\u2588\u2588\u2588\u2588\u2588\u2588\u2588\u2588\u2588\u2588\u2588\u2588\u2588\u2588\u2588\u2588\u2588\u2588\u2588\u2588\u2588\u2588\u2588| 25.7MB 48kB/s  eta 0:00:01\n\u001b[?25hRequirement already up-to-date: six>=1.10.0 in /gpfs/global_fs01/sym_shared/YPProdSpark/user/sec7-2ac43fd194bc9a-8ef090487f81/.local/lib/python3.5/site-packages (from lomond->watson-machine-learning-client)\nCollecting chardet<3.1.0,>=3.0.2 (from requests->watson-machine-learning-client)\n  Downloading chardet-3.0.4-py2.py3-none-any.whl (133kB)\n\u001b[K    100% |\u2588\u2588\u2588\u2588\u2588\u2588\u2588\u2588\u2588\u2588\u2588\u2588\u2588\u2588\u2588\u2588\u2588\u2588\u2588\u2588\u2588\u2588\u2588\u2588\u2588\u2588\u2588\u2588\u2588\u2588\u2588\u2588| 143kB 7.4MB/s eta 0:00:01\n\u001b[?25hCollecting idna<2.7,>=2.5 (from requests->watson-machine-learning-client)\n  Downloading idna-2.6-py2.py3-none-any.whl (56kB)\n\u001b[K    100% |\u2588\u2588\u2588\u2588\u2588\u2588\u2588\u2588\u2588\u2588\u2588\u2588\u2588\u2588\u2588\u2588\u2588\u2588\u2588\u2588\u2588\u2588\u2588\u2588\u2588\u2588\u2588\u2588\u2588\u2588\u2588\u2588| 61kB 2.2MB/s eta 0:00:01\n\u001b[?25hRequirement already up-to-date: python-dateutil>=2 in /gpfs/global_fs01/sym_shared/YPProdSpark/user/sec7-2ac43fd194bc9a-8ef090487f81/.local/lib/python3.5/site-packages (from pandas->watson-machine-learning-client)\nCollecting numpy>=1.9.0 (from pandas->watson-machine-learning-client)\n  Downloading numpy-1.13.3-cp35-cp35m-manylinux1_x86_64.whl (16.9MB)\n\u001b[K    100% |\u2588\u2588\u2588\u2588\u2588\u2588\u2588\u2588\u2588\u2588\u2588\u2588\u2588\u2588\u2588\u2588\u2588\u2588\u2588\u2588\u2588\u2588\u2588\u2588\u2588\u2588\u2588\u2588\u2588\u2588\u2588\u2588| 16.9MB 75kB/s  eta 0:00:01\n\u001b[?25hCollecting pytz>=2011k (from pandas->watson-machine-learning-client)\n  Downloading pytz-2017.3-py2.py3-none-any.whl (511kB)\n\u001b[K    100% |\u2588\u2588\u2588\u2588\u2588\u2588\u2588\u2588\u2588\u2588\u2588\u2588\u2588\u2588\u2588\u2588\u2588\u2588\u2588\u2588\u2588\u2588\u2588\u2588\u2588\u2588\u2588\u2588\u2588\u2588\u2588\u2588| 512kB 2.5MB/s eta 0:00:01\n\u001b[?25hBuilding wheels for collected packages: tabulate\n  Running setup.py bdist_wheel for tabulate ... \u001b[?25ldone\n\u001b[?25h  Stored in directory: /gpfs/fs01/user/sec7-2ac43fd194bc9a-8ef090487f81/.cache/pip/wheels/7c/fc/c4/f89c90e8bb6a0052a4ad4a9bc30a61429fea5d3439c63e2efd\nSuccessfully built tabulate\nInstalling collected packages: lomond, tabulate, tqdm, urllib3, chardet, certifi, idna, requests, numpy, pytz, pandas, watson-machine-learning-client\n  Found existing installation: watson-machine-learning-client 0.2.30\n    Uninstalling watson-machine-learning-client-0.2.30:\n      Successfully uninstalled watson-machine-learning-client-0.2.30\nSuccessfully installed certifi-2017.11.5 chardet-3.0.4 idna-2.6 lomond-0.1.12 numpy-1.13.3 pandas-0.21.0 pytz-2017.3 requests-2.18.4 tabulate-0.8.2 tqdm-4.19.4 urllib3-1.22 watson-machine-learning-client-0.3.109\n", 
                    "output_type": "stream"
                }
            ], 
            "source": "!pip install --upgrade --index-url https://test.pypi.org/simple/ --extra-index-url https://pypi.python.org/simple/ watson-machine-learning-client", 
            "execution_count": 6, 
            "cell_type": "code", 
            "metadata": {}
        }, 
        {
            "source": "#### Import `watson-machine-learning-client` and authenticate to service instance", 
            "cell_type": "markdown", 
            "metadata": {}
        }, 
        {
            "outputs": [], 
            "source": "from watson_machine_learning_client import WatsonMachineLearningAPIClient", 
            "execution_count": 2, 
            "cell_type": "code", 
            "metadata": {
                "collapsed": true
            }
        }, 
        {
            "outputs": [], 
            "source": "client = WatsonMachineLearningAPIClient(wml_credentials)", 
            "execution_count": 3, 
            "cell_type": "code", 
            "metadata": {
                "collapsed": true
            }
        }, 
        {
            "source": "### 2.2 Save model definition ", 
            "cell_type": "markdown", 
            "metadata": {}
        }, 
        {
            "source": "#### Prepare model definition metadata", 
            "cell_type": "markdown", 
            "metadata": {}
        }, 
        {
            "source": "**Tip:** You can leave `TRAINING_DATA_REFERENCE` values empty as shown in example below.", 
            "cell_type": "markdown", 
            "metadata": {}
        }, 
        {
            "outputs": [], 
            "source": "model_definition_metadata = {\n            client.repository.DefinitionMetaNames.NAME: \"my_definition\",\n            client.repository.DefinitionMetaNames.DESCRIPTION: \"my_description\",\n            client.repository.DefinitionMetaNames.AUTHOR_NAME: \"John Smith\",\n            client.repository.DefinitionMetaNames.AUTHOR_EMAIL: \"js@js.com\",\n            client.repository.DefinitionMetaNames.FRAMEWORK_NAME: \"tensorflow\",\n            client.repository.DefinitionMetaNames.FRAMEWORK_VERSION: \"1.2\",\n            client.repository.DefinitionMetaNames.RUNTIME_NAME: \"python\",\n            client.repository.DefinitionMetaNames.RUNTIME_VERSION: \"3.5\",\n            client.repository.DefinitionMetaNames.TRAINING_DATA_REFERENCE: [\n                    {\n                        \"name\": \"sample reference\",\n                        \"connection\": {},\n                        \"source\": {}\n                    }\n                ],\n            }", 
            "execution_count": 4, 
            "cell_type": "code", 
            "metadata": {
                "collapsed": true
            }
        }, 
        {
            "source": "#### Get sample model definition content file from git", 
            "cell_type": "markdown", 
            "metadata": {}
        }, 
        {
            "outputs": [
                {
                    "name": "stdout", 
                    "text": "--2017-12-02 05:53:08--  https://github.com/pmservice/wml-sample-models/raw/master/tensorflow/hand-written-digit-recognition/definition/tf-softmax-model.zip\nResolving github.com (github.com)... 192.30.253.113, 192.30.253.112\nConnecting to github.com (github.com)|192.30.253.113|:443... connected.\nHTTP request sent, awaiting response... 302 Found\nLocation: https://raw.githubusercontent.com/pmservice/wml-sample-models/master/tensorflow/hand-written-digit-recognition/definition/tf-softmax-model.zip [following]\n--2017-12-02 05:53:09--  https://raw.githubusercontent.com/pmservice/wml-sample-models/master/tensorflow/hand-written-digit-recognition/definition/tf-softmax-model.zip\nResolving raw.githubusercontent.com (raw.githubusercontent.com)... 151.101.48.133\nConnecting to raw.githubusercontent.com (raw.githubusercontent.com)|151.101.48.133|:443... connected.\nHTTP request sent, awaiting response... 200 OK\nLength: 3847 (3.8K) [application/zip]\nSaving to: \u2018tf-softmax-model.zip\u2019\n\n100%[======================================>] 3,847       --.-K/s   in 0s      \n\n2017-12-02 05:53:10 (40.7 MB/s) - \u2018tf-softmax-model.zip\u2019 saved [3847/3847]\n\ntf-softmax-model.zip\n", 
                    "output_type": "stream"
                }
            ], 
            "source": "if os.path.isfile('tf-softmax-model.zip'):\n    !ls tf-softmax-model.zip\nelse:\n    !wget https://github.com/pmservice/wml-sample-models/raw/master/tensorflow/hand-written-digit-recognition/definition/tf-softmax-model.zip\n    !ls tf-softmax-model.zip", 
            "execution_count": 5, 
            "cell_type": "code", 
            "metadata": {}
        }, 
        {
            "source": "#### Publish training definition in Watson Machine Learning repository", 
            "cell_type": "markdown", 
            "metadata": {}
        }, 
        {
            "outputs": [], 
            "source": "training_definition_url = client.repository.store_definition('tf-softmax-model.zip', model_definition_metadata)", 
            "execution_count": 6, 
            "cell_type": "code", 
            "metadata": {
                "collapsed": true
            }
        }, 
        {
            "outputs": [
                {
                    "name": "stdout", 
                    "text": "https://ibm-watson-ml.mybluemix.net/v3/ml_assets/experiments/1d360bd9-143f-496c-adc5-3aeb724b2a43/versions/bee5ce04-6b01-4c1e-b31b-95e4acfcbeaa\n", 
                    "output_type": "stream"
                }
            ], 
            "source": "print(training_definition_url)", 
            "execution_count": 7, 
            "cell_type": "code", 
            "metadata": {}
        }, 
        {
            "source": "### 2.3 Train model", 
            "cell_type": "markdown", 
            "metadata": {}
        }, 
        {
            "source": "#### Prepare training configuration", 
            "cell_type": "markdown", 
            "metadata": {}
        }, 
        {
            "source": "**Action:** Put authentication information from your instance of Object Storage service here.\n- `TRAINING_DATA_REFERENCE` (reference to uploaded training data)\n- `TRAINING_RESULTS_REFERENCE` (location where trained model will be saved)", 
            "cell_type": "markdown", 
            "metadata": {}
        }, 
        {
            "outputs": [], 
            "source": "training_configuration_metadata = {\n            client.training.ConfigurationMetaNames.NAME: \"Hand-written Digit Recognition\",\n            client.training.ConfigurationMetaNames.AUTHOR_NAME: \"John Smith\",\n            client.training.ConfigurationMetaNames.DESCRIPTION: \"Hand-written Digit Recognition training\",\n            client.training.ConfigurationMetaNames.FRAMEWORK_NAME: \"tensorflow\",\n            client.training.ConfigurationMetaNames.FRAMEWORK_VERSION: \"1.2-py3\",\n            client.training.ConfigurationMetaNames.EXECUTION_COMMAND: \"python3 tensorflow_mnist_softmax.py --trainingIters 100\",\n            client.training.ConfigurationMetaNames.EXECUTION_RESOURCE_SIZE: \"small\",\n            client.training.ConfigurationMetaNames.TRAINING_DATA_REFERENCE: [\n                {\n                    \"connection\": {\n                        \"auth_url\": \"https://identity.open.softlayer.com/v3\",\n                        \"user_name\": \"***\",\n                        \"password\": \"***\",\n                        \"region\": \"dallas\",\n                        \"domain_name\": \"***\",\n                        \"project_id\": \"***\"\n                        \n                    },\n                    \"source\": {\n                        \"bucket\": \"name\",\n                        \"type\": \"bluemix_objectstore\"\n                    }\n                }\n            ],\n            client.training.ConfigurationMetaNames.TRAINING_RESULTS_REFERENCE: {\n                    \"connection\": {\n                        \"auth_url\": \"https://identity.open.softlayer.com/v3\",\n                        \"user_name\": \"***\",\n                        \"password\": \"***\",\n                        \"region\": \"dallas\",\n                        \"domain_name\": \"***\",\n                        \"project_id\": \"***\"\n                        \n                    },\n                    \"source\": {\n                        \"bucket\": \"name\",\n                        \"type\": \"bluemix_objectstore\"\n                    }\n            }\n        }", 
            "execution_count": null, 
            "cell_type": "code", 
            "metadata": {
                "collapsed": true
            }
        }, 
        {
            "source": "#### Train the model in the background", 
            "cell_type": "markdown", 
            "metadata": {}
        }, 
        {
            "outputs": [], 
            "source": "training_run_guid_asynch = client.training.run(training_definition_url, training_configuration_metadata)", 
            "execution_count": 20, 
            "cell_type": "code", 
            "metadata": {
                "collapsed": true
            }
        }, 
        {
            "outputs": [], 
            "source": "details = client.training.get_details(training_run_guid_asynch)", 
            "execution_count": 21, 
            "cell_type": "code", 
            "metadata": {
                "collapsed": true
            }
        }, 
        {
            "source": "You can check status of training run by calling below method.", 
            "cell_type": "markdown", 
            "metadata": {}
        }, 
        {
            "outputs": [
                {
                    "name": "stdout", 
                    "text": "{\n  \"metrics\": [],\n  \"submitted_at\": \"2017-12-02T11:58:53Z\",\n  \"state\": \"running\",\n  \"current_at\": \"2017-12-02T11:58:53Z\",\n  \"message\": \"Status: PENDING\\n\"\n}\n", 
                    "output_type": "stream"
                }
            ], 
            "source": "status = client.training.get_status(training_run_guid_asynch)\nprint(json.dumps(status, indent=2))", 
            "execution_count": 22, 
            "cell_type": "code", 
            "metadata": {
                "scrolled": true
            }
        }, 
        {
            "source": "#### Monitor training log", 
            "cell_type": "markdown", 
            "metadata": {}
        }, 
        {
            "source": "You can turn on training log monitoring by calling below method.", 
            "cell_type": "markdown", 
            "metadata": {}
        }, 
        {
            "outputs": [
                {
                    "name": "stdout", 
                    "text": "Log monitor started.\nStatus: PENDING\n\nTraining with training/test data at:\n  DATA_DIR: /job/dl-data\n  MODEL_DIR: /job/model-code\n  TRAINING_JOB: \n  TRAINING_COMMAND: python3 tensorflow_mnist_softmax.py --trainingIters 100\nStoring trained model at:\n  RESULT_DIR: /job/dl-models\n\nALERTMANAGER_PORT=tcp://172.21.217.38:9093\nALERTMANAGER_PORT_9093_TCP=tcp://172.21.217.38:9093\nALERTMANAGER_PORT_9093_TCP_ADDR=172.21.217.38\n\nALERTMANAGER_PORT_9093_TCP_PORT=9093\n\nALERTMANAGER_PORT_9093_TCP_PROTO=tcp\n\nALERTMANAGER_SERVICE_HOST=172.21.217.38\nALERTMANAGER_SERVICE_PORT=9093\n\nALERTMANAGER_SERVICE_PORT_ALERTMANAGER=9093\nBAZEL_VERSION=0.4.5\n\nCI_BUILD_PYTHON=python3\nCUDA_PKG_VERSION=8-0=8.0.61-1\n\nCUDA_VERSION=8.0.61\n\nCUDNN_VERSION=5.1.10\nDATA_DIR=/job/dl-data\n\nDLAAS_LCM_PORT=tcp://172.21.187.102:80\nDLAAS_LCM_PORT_80_TCP=tcp://172.21.187.102:80\nDLAAS_LCM_PORT_80_TCP_ADDR=172.21.187.102\nDLAAS_LCM_PORT_80_TCP_PORT=80\nDLAAS_LCM_PORT_80_TCP_PROTO=tcp\nDLAAS_LCM_SERVICE_HOST=172.21.187.102\nDLAAS_LCM_SERVICE_PORT=80\n\nDLAAS_LCM_SERVICE_PORT_GRPC=80\nDLAAS_RESTAPI_PORT=tcp://172.21.71.4:80\nDLAAS_RESTAPI_PORT_80_TCP=tcp://172.21.71.4:80\nDLAAS_RESTAPI_PORT_80_TCP_ADDR=172.21.71.4\nDLAAS_RESTAPI_PORT_80_TCP_PORT=80\nDLAAS_RESTAPI_PORT_80_TCP_PROTO=tcp\nDLAAS_RESTAPI_SERVICE_HOST=172.21.71.4\nDLAAS_RESTAPI_SERVICE_PORT=80\nDLAAS_RESTAPI_SERVICE_PORT_DLAAS=80\n\nDLAAS_TRAINER_V2_PORT=tcp://172.21.150.98:80\nDLAAS_TRAINER_V2_PORT_80_TCP=tcp://172.21.150.98:80\nDLAAS_TRAINER_V2_PORT_80_TCP_ADDR=172.21.150.98\nDLAAS_TRAINER_V2_PORT_80_TCP_PORT=80\nDLAAS_TRAINER_V2_PORT_80_TCP_PROTO=tcp\nDLAAS_TRAINER_V2_SERVICE_HOST=172.21.150.98\nDLAAS_TRAINER_V2_SERVICE_PORT=80\nDLAAS_TRAINER_V2_SERVICE_PORT_GRPC=80\nGRAFANA_PORT=tcp://172.21.34.133:3000\nGRAFANA_PORT_3000_TCP=tcp://172.21.34.133:3000\nGRAFANA_PORT_3000_TCP_ADDR=172.21.34.133\nGRAFANA_PORT_3000_TCP_PORT=3000\n\nGRAFANA_PORT_3000_TCP_PROTO=tcp\nGRAFANA_SERVICE_HOST=172.21.34.133\nGRAFANA_SERVICE_PORT=3000\nGRAFANA_SERVICE_PORT_GRAFANA=3000\nGRPC_PS_F5E3866B_B8C3_4010_6C6A_133730C11AC0_PORT=tcp://172.21.138.181:50051\nGRPC_PS_F5E3866B_B8C3_4010_6C6A_133730C11AC0_PORT_50051_TCP=tcp://172.21.138.181:50051\nGRPC_PS_F5E3866B_B8C3_4010_6C6A_133730C11AC0_PORT_50051_TCP_ADDR=172.21.138.181\nGRPC_PS_F5E3866B_B8C3_4010_6C6A_133730C11AC0_PORT_50051_TCP_PORT=50051\nGRPC_PS_F5E3866B_B8C3_4010_6C6A_133730C11AC0_PORT_50051_TCP_PROTO=tcp\n\nGRPC_PS_F5E3866B_B8C3_4010_6C6A_133730C11AC0_SERVICE_HOST=172.21.138.181\nGRPC_PS_F5E3866B_B8C3_4010_6C6A_133730C11AC0_SERVICE_PORT=50051\nGRPC_PS_F5E3866B_B8C3_4010_6C6A_133730C11AC0_SERVICE_PORT_GRPC=50051\nHOME=/root\nHOSTNAME=learner-1-e848df2b-3f6f-4323-76e2-a05968919c87-66402199-zj9cr\n\nJOB_STATE_DIR=/job\nKUBERNETES_PORT=tcp://172.21.0.1:443\nKUBERNETES_PORT_443_TCP=tcp://172.21.0.1:443\nKUBERNETES_PORT_443_TCP_ADDR=172.21.0.1\nKUBERNETES_PORT_443_TCP_PORT=443\nKUBERNETES_PORT_443_TCP_PROTO=tcp\n\nKUBERNETES_SERVICE_HOST=172.21.0.1\nKUBERNETES_SERVICE_PORT=443\nKUBERNETES_SERVICE_PORT_HTTPS=443\nLD_LIBRARY_PATH=/usr/local/cuda/extras/CUPTI/lib64:/usr/local/nvidia/lib:/usr/local/nvidia/lib64:/usr/local/cuda/lib64/stubs\nLEARNER_1_F5E3866B_B8C3_4010_6C6A_133730C11AC0_PORT=tcp://172.21.125.173:2222\n\nLEARNER_1_F5E3866B_B8C3_4010_6C6A_133730C11AC0_PORT_2222_TCP=tcp://172.21.125.173:2222\nLEARNER_1_F5E3866B_B8C3_4010_6C6A_133730C11AC0_PORT_2222_TCP_ADDR=172.21.125.173\nLEARNER_1_F5E3866B_B8C3_4010_6C6A_133730C11AC0_PORT_2222_TCP_PORT=2222\nLEARNER_1_F5E3866B_B8C3_4010_6C6A_133730C11AC0_PORT_2222_TCP_PROTO=tcp\nLEARNER_1_F5E3866B_B8C3_4010_6C6A_133730C11AC0_PORT_22_TCP=tcp://172.21.125.173:22\n\nLEARNER_1_F5E3866B_B8C3_4010_6C6A_133730C11AC0_PORT_22_TCP_ADDR=172.21.125.173\nLEARNER_1_F5E3866B_B8C3_4010_6C6A_133730C11AC0_PORT_22_TCP_PORT=22\nLEARNER_1_F5E3866B_B8C3_4010_6C6A_133730C11AC0_PORT_22_TCP_PROTO=tcp\nLEARNER_1_F5E3866B_B8C3_4010_6C6A_133730C11AC0_SERVICE_HOST=172.21.125.173\nLEARNER_1_F5E3866B_B8C3_4010_6C6A_133730C11AC0_SERVICE_PORT=2222\n\nLEARNER_1_F5E3866B_B8C3_4010_6C6A_133730C11AC0_SERVICE_PORT_GRPC=2222\nLEARNER_1_F5E3866B_B8C3_4010_6C6A_133730C11AC0_SERVICE_PORT_SSH=22\nLEARNER_2_F5E3866B_B8C3_4010_6C6A_133730C11AC0_PORT=tcp://172.21.71.101:2222\nLEARNER_2_F5E3866B_B8C3_4010_6C6A_133730C11AC0_PORT_2222_TCP=tcp://172.21.71.101:2222\nLEARNER_2_F5E3866B_B8C3_4010_6C6A_133730C11AC0_PORT_2222_TCP_ADDR=172.21.71.101\nLEARNER_2_F5E3866B_B8C3_4010_6C6A_133730C11AC0_PORT_2222_TCP_PORT=2222\nLEARNER_2_F5E3866B_B8C3_4010_6C6A_133730C11AC0_PORT_2222_TCP_PROTO=tcp\nLEARNER_2_F5E3866B_B8C3_4010_6C6A_133730C11AC0_PORT_22_TCP=tcp://172.21.71.101:22\nLEARNER_2_F5E3866B_B8C3_4010_6C6A_133730C11AC0_PORT_22_TCP_ADDR=172.21.71.101\n\nLEARNER_2_F5E3866B_B8C3_4010_6C6A_133730C11AC0_PORT_22_TCP_PORT=22\nLEARNER_2_F5E3866B_B8C3_4010_6C6A_133730C11AC0_PORT_22_TCP_PROTO=tcp\n\nLEARNER_2_F5E3866B_B8C3_4010_6C6A_133730C11AC0_SERVICE_HOST=172.21.71.101\nLEARNER_2_F5E3866B_B8C3_4010_6C6A_133730C11AC0_SERVICE_PORT=2222\nLEARNER_2_F5E3866B_B8C3_4010_6C6A_133730C11AC0_SERVICE_PORT_GRPC=2222\nLEARNER_2_F5E3866B_B8C3_4010_6C6A_133730C11AC0_SERVICE_PORT_SSH=22\nLIBRARY_PATH=/usr/local/cuda/lib64/stubs:\nMODEL_DIR=/job/model-code\nOLDPWD=/root\nPATH=/usr/local/nvidia/bin:/usr/local/cuda/bin:/usr/local/sbin:/usr/local/bin:/usr/sbin:/usr/bin:/sbin:/bin\nPUSHGATEWAY_PORT=tcp://172.21.166.147:9091\nPUSHGATEWAY_PORT_9091_TCP=tcp://172.21.166.147:9091\nPUSHGATEWAY_PORT_9091_TCP_ADDR=172.21.166.147\nPUSHGATEWAY_PORT_9091_TCP_PORT=9091\nPUSHGATEWAY_PORT_9091_TCP_PROTO=tcp\n\nPUSHGATEWAY_PORT_9102_TCP=tcp://172.21.166.147:9102\nPUSHGATEWAY_PORT_9102_TCP_ADDR=172.21.166.147\nPUSHGATEWAY_PORT_9102_TCP_PORT=9102\nPUSHGATEWAY_PORT_9102_TCP_PROTO=tcp\nPUSHGATEWAY_PORT_9125_UDP=udp://172.21.166.147:9125\nPUSHGATEWAY_PORT_9125_UDP_ADDR=172.21.166.147\nPUSHGATEWAY_PORT_9125_UDP_PORT=9125\nPUSHGATEWAY_PORT_9125_UDP_PROTO=udp\nPUSHGATEWAY_SERVICE_HOST=172.21.166.147\nPUSHGATEWAY_SERVICE_PORT=9091\n\nPUSHGATEWAY_SERVICE_PORT_PUSH=9091\nPUSHGATEWAY_SERVICE_PORT_STATSD=9125\nPUSHGATEWAY_SERVICE_PORT_STATSD_PROM=9102\nPWD=/job/model-code\nPYTHONPATH=:/job/model-code\nRESULT_DIR=/job/dl-models\nSHLVL=2\nTF_CUDA_COMPUTE_CAPABILITIES=3.0,3.5,5.2,6.0,6.1\n\nTF_NEED_CUDA=1\nTRAINING_COMMAND=python3 tensorflow_mnist_softmax.py --trainingIters 100\nTRAINING_ID=training-J9iUDhUkR\n_=/usr/bin/env\nSat Dec  2 11:59:01 UTC 2017: Running Tensorflow job\n\n2017-12-02 11:59:04.542827: W tensorflow/core/platform/cpu_feature_guard.cc:45] The TensorFlow library wasn't compiled to use SSE4.1 instructions, but these are available on your machine and could speed up CPU computations.\n2017-12-02 11:59:04.542867: W tensorflow/core/platform/cpu_feature_guard.cc:45] The TensorFlow library wasn't compiled to use SSE4.2 instructions, but these are available on your machine and could speed up CPU computations.\n2017-12-02 11:59:04.542876: W tensorflow/core/platform/cpu_feature_guard.cc:45] The TensorFlow library wasn't compiled to use AVX instructions, but these are available on your machine and could speed up CPU computations.\n2017-12-02 11:59:04.542883: W tensorflow/core/platform/cpu_feature_guard.cc:45] The TensorFlow library wasn't compiled to use AVX2 instructions, but these are available on your machine and could speed up CPU computations.\n2017-12-02 11:59:04.542890: W tensorflow/core/platform/cpu_feature_guard.cc:45] The TensorFlow library wasn't compiled to use FMA instructions, but these are available on your machine and could speed up CPU computations.\n\n2017-12-02 11:59:04.918363: I tensorflow/core/common_runtime/gpu/gpu_device.cc:940] Found device 0 with properties: \nname: Tesla K80\nmajor: 3 minor: 7 memoryClockRate (GHz) 0.8235\npciBusID 0000:08:00.0\nTotal memory: 11.17GiB\n\nFree memory: 11.10GiB\n2017-12-02 11:59:04.918421: I tensorflow/core/common_runtime/gpu/gpu_device.cc:961] DMA: 0 \n2017-12-02 11:59:04.918434: I tensorflow/core/common_runtime/gpu/gpu_device.cc:971] 0:   Y \n\n2017-12-02 11:59:04.918459: I tensorflow/core/common_runtime/gpu/gpu_device.cc:1030] Creating TensorFlow device (/gpu:0) -> (device: 0, name: Tesla K80, pci bus id: 0000:08:00.0)\n\nStart model training\n\nOptimization Finished!\n\nTesting Accuracy:  0.9166\n\nclassification_signature content:\ninputs {\n  key: \"inputs\"\n\n  value {\n\n    name: \"Placeholder:0\"\n\n    dtype: DT_FLOAT\n\n    tensor_shape {\n\n      dim {\n        size: -1\n      }\n      dim {\n        size: 784\n      }\n\n    }\n  }\n}\noutputs {\n  key: \"classes\"\n  value {\n    name: \"predictor:0\"\n    dtype: DT_INT64\n    tensor_shape {\n      dim {\n        size: -1\n      }\n    }\n  }\n}\nmethod_name: \"tensorflow/serving/classify\"\n\n\n", 
                    "output_type": "stream"
                }, 
                {
                    "name": "stdout", 
                    "text": "Log monitor done.\n", 
                    "output_type": "stream"
                }
            ], 
            "source": "client.training.monitor(training_run_guid_asynch)", 
            "execution_count": 23, 
            "cell_type": "code", 
            "metadata": {}
        }, 
        {
            "source": "#### Cancel training", 
            "cell_type": "markdown", 
            "metadata": {}
        }, 
        {
            "source": "You can cancel training run by calling below method.", 
            "cell_type": "markdown", 
            "metadata": {}
        }, 
        {
            "source": "client.training.cancel(training_run_guid_asynch)", 
            "cell_type": "raw", 
            "metadata": {}
        }, 
        {
            "source": "#### Train the model in active mode", 
            "cell_type": "markdown", 
            "metadata": {}
        }, 
        {
            "source": "**Tip:** You can also run training in synchronous mode by setting `asynchronous = False`", 
            "cell_type": "markdown", 
            "metadata": {}
        }, 
        {
            "outputs": [
                {
                    "name": "stderr", 
                    "text": "\r  0%|          | 0/10 [00:00<?, ?it/s]", 
                    "output_type": "stream"
                }, 
                {
                    "name": "stdout", 
                    "text": "Training started ...\nElapsed time: 0.1599869728088379 -> training state: running\n", 
                    "output_type": "stream"
                }, 
                {
                    "name": "stderr", 
                    "text": "100%|\u2588\u2588\u2588\u2588\u2588\u2588\u2588\u2588\u2588\u2588| 10/10 [00:10<00:00,  1.00s/it]\n  0%|          | 0/10 [00:00<?, ?it/s]", 
                    "output_type": "stream"
                }, 
                {
                    "name": "stdout", 
                    "text": "Elapsed time: 10.28866982460022 -> training state: running\n", 
                    "output_type": "stream"
                }, 
                {
                    "name": "stderr", 
                    "text": "100%|\u2588\u2588\u2588\u2588\u2588\u2588\u2588\u2588\u2588\u2588| 10/10 [00:10<00:00,  1.00s/it]\n  0%|          | 0/10 [00:00<?, ?it/s]", 
                    "output_type": "stream"
                }, 
                {
                    "name": "stdout", 
                    "text": "Elapsed time: 20.42673397064209 -> training state: pending\n", 
                    "output_type": "stream"
                }, 
                {
                    "name": "stderr", 
                    "text": "100%|\u2588\u2588\u2588\u2588\u2588\u2588\u2588\u2588\u2588\u2588| 10/10 [00:10<00:00,  1.00s/it]\n", 
                    "output_type": "stream"
                }, 
                {
                    "name": "stdout", 
                    "text": "Elapsed time: 30.530693769454956 -> training state: running\n", 
                    "output_type": "stream"
                }, 
                {
                    "name": "stderr", 
                    "text": "100%|\u2588\u2588\u2588\u2588\u2588\u2588\u2588\u2588\u2588\u2588| 10/10 [00:10<00:00,  1.00s/it]", 
                    "output_type": "stream"
                }, 
                {
                    "name": "stdout", 
                    "text": "Training DONE.\n", 
                    "output_type": "stream"
                }, 
                {
                    "name": "stderr", 
                    "text": "\n", 
                    "output_type": "stream"
                }
            ], 
            "source": "training_run_guid = client.training.run(training_definition_url, training_configuration_metadata, asynchronous=False)", 
            "execution_count": 24, 
            "cell_type": "code", 
            "metadata": {}
        }, 
        {
            "source": "#### Get training runs details", 
            "cell_type": "markdown", 
            "metadata": {}
        }, 
        {
            "outputs": [], 
            "source": "training_details = client.training.get_details()\n\nprint(json.dumps(training_details, sort_keys=True, indent=2))", 
            "execution_count": null, 
            "cell_type": "code", 
            "metadata": {
                "collapsed": true
            }
        }, 
        {
            "source": "#### List training runs", 
            "cell_type": "markdown", 
            "metadata": {}
        }, 
        {
            "outputs": [
                {
                    "name": "stdout", 
                    "text": "------------------  ---------  --------------------  ----------\nGUID (training)     STATE      CREATED               FRAMEWORK\ntraining-0zdwv2Ukg  completed  2017-12-02T11:59:33Z  tensorflow\ntraining-9iiPD28kR  error      2017-12-02T11:57:47Z  tensorflow\ntraining-J9iUDhUkR  completed  2017-12-02T11:58:52Z  tensorflow\ntraining-KUcfDh8kR  error      2017-12-02T11:56:52Z  tensorflow\n------------------  ---------  --------------------  ----------\n", 
                    "output_type": "stream"
                }
            ], 
            "source": "client.training.list()", 
            "execution_count": 26, 
            "cell_type": "code", 
            "metadata": {}
        }, 
        {
            "source": "<a id=\"model\"></a>\n## 3. Persist model", 
            "cell_type": "markdown", 
            "metadata": {}
        }, 
        {
            "source": "#### Call this method to save model in Watson Machine Learning repository", 
            "cell_type": "markdown", 
            "metadata": {}
        }, 
        {
            "outputs": [], 
            "source": "saved_model_details = client.repository.store_model(training_run_guid, \"My cool mnist model\")", 
            "execution_count": 27, 
            "cell_type": "code", 
            "metadata": {
                "collapsed": true
            }
        }, 
        {
            "outputs": [
                {
                    "name": "stdout", 
                    "text": "Url: https://ibm-watson-ml.mybluemix.net/v3/ml_assets/models/913e9341-7453-4cc1-81b5-a7e01cd53f33\n", 
                    "output_type": "stream"
                }
            ], 
            "source": "print(\"Url: \" + saved_model_details['entity']['ml_asset_url'])", 
            "execution_count": 28, 
            "cell_type": "code", 
            "metadata": {}
        }, 
        {
            "source": "**Tip:** Run below code to extract stored model guid from dictionary.", 
            "cell_type": "markdown", 
            "metadata": {}
        }, 
        {
            "outputs": [
                {
                    "name": "stdout", 
                    "text": "Saved model guid: 913e9341-7453-4cc1-81b5-a7e01cd53f33\n", 
                    "output_type": "stream"
                }
            ], 
            "source": "model_guid = saved_model_details['entity']['ml_asset_guid']\nprint(\"Saved model guid: \" + model_guid)", 
            "execution_count": 29, 
            "cell_type": "code", 
            "metadata": {}
        }, 
        {
            "source": "#### Call this method to list stored models", 
            "cell_type": "markdown", 
            "metadata": {}
        }, 
        {
            "outputs": [
                {
                    "name": "stdout", 
                    "text": "------------------------------------  -------------------------  --------------\nGUID                                  NAME                       FRAMEWORK\nf5f8e460-2cf4-471f-91a9-37be1779a251  Best Heart Drug Selection  mllib-2.0\n913e9341-7453-4cc1-81b5-a7e01cd53f33  My cool mnist model        tensorflow-1.2\n------------------------------------  -------------------------  --------------\n", 
                    "output_type": "stream"
                }
            ], 
            "source": "client.repository.list()", 
            "execution_count": 30, 
            "cell_type": "code", 
            "metadata": {}
        }, 
        {
            "source": "#### Delete training-run and its results", 
            "cell_type": "markdown", 
            "metadata": {}
        }, 
        {
            "source": "You can delete train runs and results by running below method.", 
            "cell_type": "markdown", 
            "metadata": {}
        }, 
        {
            "outputs": [
                {
                    "data": {
                        "text/plain": "True"
                    }, 
                    "execution_count": 31, 
                    "output_type": "execute_result", 
                    "metadata": {}
                }
            ], 
            "source": "client.training.delete(training_run_guid_asynch)\nclient.training.delete(training_run_guid)", 
            "execution_count": 31, 
            "cell_type": "code", 
            "metadata": {}
        }, 
        {
            "source": "## 5. Create online deployment", 
            "cell_type": "markdown", 
            "metadata": {}
        }, 
        {
            "source": "You can deployed stored model as webservice (online) by running below method.", 
            "cell_type": "markdown", 
            "metadata": {}
        }, 
        {
            "outputs": [], 
            "source": "deployment_details = client.deployments.create(model_guid, name=\"Mnist model deployment\")", 
            "execution_count": 32, 
            "cell_type": "code", 
            "metadata": {
                "collapsed": true
            }
        }, 
        {
            "outputs": [
                {
                    "name": "stdout", 
                    "text": "https://ibm-watson-ml.mybluemix.net/v3/wml_instances/765597ba-cf7a-4995-9cfc-06dae368b741/published_models/913e9341-7453-4cc1-81b5-a7e01cd53f33/deployments/045f6ff5-0632-428b-a8be-95032585f692/online\n", 
                    "output_type": "stream"
                }
            ], 
            "source": "scoring_url = client.deployments.get_scoring_url(deployment_details)\nprint(scoring_url)", 
            "execution_count": 33, 
            "cell_type": "code", 
            "metadata": {}
        }, 
        {
            "source": "## 6. Scoring", 
            "cell_type": "markdown", 
            "metadata": {
                "collapsed": true
            }
        }, 
        {
            "source": "Prepare sample scoring data to score deployed model.", 
            "cell_type": "markdown", 
            "metadata": {}
        }, 
        {
            "outputs": [
                {
                    "name": "stdout", 
                    "text": "Successfully downloaded train-images-idx3-ubyte.gz 9912422 bytes.\nExtracting MNIST_data/train-images-idx3-ubyte.gz\nSuccessfully downloaded train-labels-idx1-ubyte.gz 28881 bytes.\nExtracting MNIST_data/train-labels-idx1-ubyte.gz\nSuccessfully downloaded t10k-images-idx3-ubyte.gz 1648877 bytes.\nExtracting MNIST_data/t10k-images-idx3-ubyte.gz\nSuccessfully downloaded t10k-labels-idx1-ubyte.gz 4542 bytes.\nExtracting MNIST_data/t10k-labels-idx1-ubyte.gz\n", 
                    "output_type": "stream"
                }
            ], 
            "source": "from tensorflow.examples.tutorials.mnist import input_data\nmnist = input_data.read_data_sets(\"MNIST_data/\", one_hot=True)", 
            "execution_count": 37, 
            "cell_type": "code", 
            "metadata": {}
        }, 
        {
            "outputs": [], 
            "source": "image1 = mnist.test.images[45,].tolist()\nimage2 = mnist.test.images[4,].tolist()", 
            "execution_count": 38, 
            "cell_type": "code", 
            "metadata": {
                "collapsed": true
            }
        }, 
        {
            "outputs": [], 
            "source": "%matplotlib inline\nimport matplotlib.pyplot as plt\nimport numpy as np", 
            "execution_count": 39, 
            "cell_type": "code", 
            "metadata": {
                "collapsed": true
            }
        }, 
        {
            "outputs": [
                {
                    "data": {
                        "image/png": "[encoded data removed]", 
                        "text/plain": "<matplotlib.figure.Figure at 0x7fe2e816a438>"
                    }, 
                    "output_type": "display_data", 
                    "metadata": {}
                }
            ], 
            "source": "for i, image in enumerate([image1, image2]):\n    plt.subplot(2, 2, i + 1)\n    plt.axis('off')\n    plt.imshow( (np.reshape(image, (28, 28)) * 255).astype(np.uint8), cmap=plt.cm.gray_r, interpolation='nearest')", 
            "execution_count": 40, 
            "cell_type": "code", 
            "metadata": {}
        }, 
        {
            "source": "Build scoring disctionary consisting of two digits and send it to deployed model to get predictions.", 
            "cell_type": "markdown", 
            "metadata": {}
        }, 
        {
            "outputs": [], 
            "source": "scoring_data = {'inputs': [image1, image2]}", 
            "execution_count": 41, 
            "cell_type": "code", 
            "metadata": {
                "collapsed": true
            }
        }, 
        {
            "outputs": [
                {
                    "name": "stdout", 
                    "text": "Scoring result: {'classes': [5, 4]}\n", 
                    "output_type": "stream"
                }
            ], 
            "source": "predictions = client.deployments.score(scoring_url, scoring_data)\nprint(\"Scoring result: \" + str(predictions))", 
            "execution_count": 42, 
            "cell_type": "code", 
            "metadata": {}
        }, 
        {
            "source": "<a id=\"summary\"></a>\n## 6. Summary and next steps     ", 
            "cell_type": "markdown", 
            "metadata": {
                "collapsed": true
            }
        }, 
        {
            "source": " You successfully completed this notebook! You learned how to use Continuous Learning System of Watson Machine Learning. Check out our _[Online Documentation](https://console.ng.bluemix.net/docs/services/PredictiveModeling/index.html)_ for more samples, tutorials, documentation, how-tos, and blog posts. ", 
            "cell_type": "markdown", 
            "metadata": {
                "collapsed": true
            }
        }, 
        {
            "source": "### Authors\n\n**Lukasz Cmielowski**, PhD, is a Automation Architect and Data Scientist in IBM with a track record of developing enterprise-level applications that substantially increases clients' ability to turn data into actionable knowledge.", 
            "cell_type": "markdown", 
            "metadata": {}
        }, 
        {
            "source": "Copyright \u00a9 2017 IBM. This notebook and its source code are released under the terms of the MIT License.", 
            "cell_type": "markdown", 
            "metadata": {}
        }
    ], 
    "nbformat": 4, 
    "metadata": {
        "kernelspec": {
            "name": "python3-spark21", 
            "language": "python", 
            "display_name": "Python 3.5 (Experimental) with Spark 2.1"
        }, 
        "language_info": {
            "version": "3.5.2", 
            "name": "python", 
            "pygments_lexer": "ipython3", 
            "mimetype": "text/x-python", 
            "codemirror_mode": {
                "name": "ipython", 
                "version": 3
            }, 
            "file_extension": ".py", 
            "nbconvert_exporter": "python"
        }
    }
}