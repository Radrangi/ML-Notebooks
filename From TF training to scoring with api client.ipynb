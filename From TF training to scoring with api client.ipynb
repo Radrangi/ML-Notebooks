{
    "cells": [
        {
            "cell_type": "markdown", 
            "source": "<table style=\"border: none\" align=\"left\">\n   <tr style=\"border: none\">\n      <th style=\"border: none\"><font face=\"verdana\" size=\"4\" color=\"black\"><b>From tensorflow model training to scoring with</b></font><font face=\"monospace\" size=\"4\" color=\"darkblue\"><b> watson-machine-learning-client</b></font></th>\n      <th style=\"border: none\"><img src=\"https://github.com/pmservice/customer-satisfaction-prediction/blob/master/app/static/images/ml_icon_gray.png?raw=true\" alt=\"Watson Machine Learning icon\" height=\"40\" width=\"40\"></th>\n   </tr> \n   <tr style=\"border: none\">\n       <td style=\"border: none\"><img src=\"https://github.com/pmservice/wml-sample-models/raw/master/scikit-learn/hand-written-digits-recognition/images/numbers_banner-04.png\" width=\"600\" alt=\"Icon\"></td>\n   </tr>\n</table>", 
            "metadata": {}
        }, 
        {
            "cell_type": "markdown", 
            "source": "This notebook contains steps and code to demonstrate support of Deep Learning model training and scoring in Watson Machine Learning service. This notebook introduces commands for getting data, training_definition persistance to Watson Machine Learning repository, model training, model persistance, model deployment and scoring.\n\nSome familiarity with Python is helpful. This notebook uses Python 3.\n\n\n## Learning goals\n\nThe learning goals of this notebook are:\n\n-  Working with Watson Machine Learning service.\n-  Training Deep Learning models (TensorFlow).\n-  Saving trained models in Watson Machine Learning repository.\n-  Online deployment and scoring of trained model.\n\n\n## Contents\n\nThis notebook contains the following parts:\n\n1.\t[Setup](#setup)\n2.\t[Train TensorFlow model](#model)\n3.\t[Persist model](#save)\n4.\t[Deploy model](#deploy)\n5.\t[Score](#scoring)\n6.\t[Summary and next steps](#summary)", 
            "metadata": {}
        }, 
        {
            "cell_type": "markdown", 
            "source": "<a id=\"setup\"></a>\n## 1. Setup\n\nBefore you use the sample code in this notebook, you must perform the following setup tasks:\n\n-  Create a [Watson Machine Learning Service](https://console.ng.bluemix.net/catalog/services/ibm-watson-machine-learning/) instance (a lite plan is offered). \n-  Create [Cloud Object Storage (COS)](https://console.bluemix.net/catalog/infrastructure/cloud-object-storage) instance (a lite plan is offered).\n    + After you create COS instance, go to your COS dashboard.\n    + In _Service credentials_ tab, click on _New Credential_,\n    + Add inline configuration parameter: `{\"HMAC\":true}`, click _Add_", 
            "metadata": {}
        }, 
        {
            "cell_type": "markdown", 
            "source": "### 1.1 Working with Cloud Object Storage", 
            "metadata": {}
        }, 
        {
            "cell_type": "markdown", 
            "source": "`ibm-cos-sdk` library allows Python developers to manage Cloud Object Storage (COS).", 
            "metadata": {}
        }, 
        {
            "cell_type": "code", 
            "source": "import ibm_boto3\nfrom ibm_botocore.client import Config", 
            "metadata": {}, 
            "execution_count": 1, 
            "outputs": []
        }, 
        {
            "cell_type": "markdown", 
            "source": "**Action**: Put authentication information from your instance of Cloud Object Storage service here.", 
            "metadata": {}
        }, 
        {
            "cell_type": "code", 
            "source": "cos_credentials = {\n  \"apikey\": \"ESYDu9viaX_QqnEultXPmKWCSI859cmYkb4p9foazqws\",\n  \"cos_hmac_keys\": {\n    \"access_key_id\": \"fe8d4a595ab8432bb8744707050be508\",\n    \"secret_access_key\": \"856554fa14c7526a38a226aa023ce871e176eb1d6c041f31\"\n  },\n  \"endpoints\": \"https://cos-service.bluemix.net/endpoints\",\n  \"iam_apikey_description\": \"Auto generated apikey during resource-key operation for Instance - crn:v1:bluemix:public:cloud-object-storage:global:a/f52968f3dbbe7b0b53e15743d45e5e90:ee19ec1e-10a4-4b77-96c5-e3d01f5ae813::\",\n  \"iam_apikey_name\": \"auto-generated-apikey-fe8d4a59-5ab8-432b-b874-4707050be508\",\n  \"iam_role_crn\": \"crn:v1:bluemix:public:iam::::serviceRole:Writer\",\n  \"iam_serviceid_crn\": \"crn:v1:bluemix:public:iam-identity::a/f52968f3dbbe7b0b53e15743d45e5e90::serviceid:ServiceId-ab373668-89dc-4846-883d-a76ea0eb5dca\",\n  \"resource_instance_id\": \"crn:v1:bluemix:public:cloud-object-storage:global:a/f52968f3dbbe7b0b53e15743d45e5e90:ee19ec1e-10a4-4b77-96c5-e3d01f5ae813::\"\n}", 
            "metadata": {}, 
            "execution_count": 2, 
            "outputs": []
        }, 
        {
            "cell_type": "markdown", 
            "source": "**Action:** Define the service endpoint we will use. <br>\n**Tip:** You can find this information in _Endpoints_ section of your Cloud Object Storage intance's dashbord.", 
            "metadata": {}
        }, 
        {
            "cell_type": "code", 
            "source": "service_endpoint = 'https://s3-api.us-geo.objectstorage.softlayer.net'", 
            "metadata": {}, 
            "execution_count": 3, 
            "outputs": []
        }, 
        {
            "cell_type": "markdown", 
            "source": "You also need IBM Cloud authorization endpoint to be able to create COS resource object.", 
            "metadata": {}
        }, 
        {
            "cell_type": "code", 
            "source": "auth_endpoint = 'https://iam.bluemix.net/oidc/token'", 
            "metadata": {}, 
            "execution_count": 4, 
            "outputs": []
        }, 
        {
            "cell_type": "markdown", 
            "source": "We create COS resource to be able to write data to Cloud Object Storage.", 
            "metadata": {}
        }, 
        {
            "cell_type": "code", 
            "source": "cos = ibm_boto3.resource('s3',\n                         ibm_api_key_id=cos_credentials['apikey'],\n                         ibm_service_instance_id=cos_credentials['resource_instance_id'],\n                         ibm_auth_endpoint=auth_endpoint,\n                         config=Config(signature_version='oauth'),\n                         endpoint_url=service_endpoint)", 
            "metadata": {}, 
            "execution_count": 5, 
            "outputs": []
        }, 
        {
            "cell_type": "markdown", 
            "source": "Let's create the buckets (they have to have unique names), we will use to store training data and training results.", 
            "metadata": {}
        }, 
        {
            "cell_type": "code", 
            "source": "from uuid import uuid4\n\nbucket_uid = str(uuid4())\nbuckets = ['trainining-data-caffe' + bucket_uid, 'train-results-' + bucket_uid]\n\nfor bucket in buckets:\n    if not cos.Bucket(bucket) in cos.buckets.all():\n        print('Creating bucket \"{}\"...'.format(bucket))\n        try:\n            cos.create_bucket(Bucket=bucket)\n        except ibm_boto3.exceptions.ibm_botocore.client.ClientError as e:\n            print('Error: {}.'.format(e.response['Error']['Message']))", 
            "metadata": {}, 
            "execution_count": 6, 
            "outputs": [
                {
                    "output_type": "stream", 
                    "text": "Creating bucket \"train-data-a85da3d5-1122-4705-b579-63c30c4e5f7b\"...\nCreating bucket \"train-results-a85da3d5-1122-4705-b579-63c30c4e5f7b\"...\n", 
                    "name": "stdout"
                }
            ]
        }, 
        {
            "cell_type": "code", 
            "source": "cos.create_bucket(Bucket='caffe-data')", 
            "metadata": {}, 
            "execution_count": 7, 
            "outputs": [
                {
                    "output_type": "execute_result", 
                    "metadata": {}, 
                    "execution_count": 7, 
                    "data": {
                        "text/plain": "s3.Bucket(name='caffe-data')"
                    }
                }
            ]
        }, 
        {
            "cell_type": "code", 
            "source": "import wget\nwget.download('https://github.com/umitmertcakmak/Datasets/raw/master/caffe_data.zip')", 
            "metadata": {}, 
            "execution_count": 15, 
            "outputs": [
                {
                    "output_type": "execute_result", 
                    "metadata": {}, 
                    "execution_count": 15, 
                    "data": {
                        "text/plain": "'caffe_data.zip'"
                    }
                }
            ]
        }, 
        {
            "cell_type": "code", 
            "source": "!ls", 
            "metadata": {}, 
            "execution_count": 16, 
            "outputs": [
                {
                    "output_type": "stream", 
                    "text": "caffe_data.zip\t\t       MNIST_DATA\r\nGoSales_Tx_NaiveBayes (1).csv  tf-softmax-model.zip\r\nGoSales_Tx_NaiveBayes.csv      WA_Fn%20UseC_%20Telco%20Customer%20Churn.csv\r\nMNIST_data\r\n", 
                    "name": "stdout"
                }
            ]
        }, 
        {
            "cell_type": "code", 
            "source": "!unzip caffe_data.zip", 
            "metadata": {}, 
            "execution_count": 19, 
            "outputs": [
                {
                    "output_type": "stream", 
                    "text": "Archive:  caffe_data.zip\n  inflating: mnist_test_lmdb/data.mdb  \n  inflating: mnist_test_lmdb/lock.mdb  \n  inflating: mnist_train_lmdb/data.mdb  \n  inflating: mnist_train_lmdb/lock.mdb  \n", 
                    "name": "stdout"
                }
            ]
        }, 
        {
            "cell_type": "code", 
            "source": "!ls", 
            "metadata": {}, 
            "execution_count": 20, 
            "outputs": [
                {
                    "output_type": "stream", 
                    "text": "caffe_data.zip\t\t       mnist_test_lmdb\r\nGoSales_Tx_NaiveBayes (1).csv  mnist_train_lmdb\r\nGoSales_Tx_NaiveBayes.csv      tf-softmax-model.zip\r\nMNIST_data\t\t       WA_Fn%20UseC_%20Telco%20Customer%20Churn.csv\r\nMNIST_DATA\r\n", 
                    "name": "stdout"
                }
            ]
        }, 
        {
            "cell_type": "code", 
            "source": "filename = \"mnist_train_lmdb/lock.mdb\"", 
            "metadata": {}, 
            "execution_count": 30, 
            "outputs": []
        }, 
        {
            "cell_type": "code", 
            "source": "cos.Bucket(\"caffe-data\").put_object(Body=filename, Key=filename)", 
            "metadata": {}, 
            "execution_count": 31, 
            "outputs": [
                {
                    "output_type": "execute_result", 
                    "metadata": {}, 
                    "execution_count": 31, 
                    "data": {
                        "text/plain": "s3.Object(bucket_name='caffe-data', key='mnist_train_lmdb/lock.mdb')"
                    }
                }
            ]
        }, 
        {
            "cell_type": "code", 
            "source": "cos.put_object(Bucket='caffe-data',Key=directoryname/filename)", 
            "metadata": {}, 
            "execution_count": null, 
            "outputs": []
        }, 
        {
            "cell_type": "markdown", 
            "source": "Now we should have 2 buckets,", 
            "metadata": {}
        }, 
        {
            "cell_type": "markdown", 
            "source": "### 1.2 Downloading training data and upload it to COS buckets.", 
            "metadata": {}
        }, 
        {
            "cell_type": "markdown", 
            "source": "Let's download our training data and upload them to 'training-data' bucket.\nWe will create a list of links for training dataset", 
            "metadata": {}
        }, 
        {
            "cell_type": "code", 
            "source": "data_links = ['http://yann.lecun.com/exdb/mnist/train-images-idx3-ubyte.gz',\n              'http://yann.lecun.com/exdb/mnist/train-labels-idx1-ubyte.gz',\n              'http://yann.lecun.com/exdb/mnist/t10k-images-idx3-ubyte.gz',\n              'http://yann.lecun.com/exdb/mnist/t10k-labels-idx1-ubyte.gz']", 
            "metadata": {}, 
            "execution_count": 8, 
            "outputs": []
        }, 
        {
            "cell_type": "markdown", 
            "source": "Below snippet will upload files from links to your Cloud Object Storage.", 
            "metadata": {}
        }, 
        {
            "cell_type": "code", 
            "source": "buckets", 
            "metadata": {}, 
            "execution_count": 6, 
            "outputs": [
                {
                    "traceback": [
                        "\u001b[0;31m---------------------------------------------------------------------------\u001b[0m", 
                        "\u001b[0;31mNameError\u001b[0m                                 Traceback (most recent call last)", 
                        "\u001b[0;32m<ipython-input-6-5f325a49636a>\u001b[0m in \u001b[0;36m<module>\u001b[0;34m()\u001b[0m\n\u001b[0;32m----> 1\u001b[0;31m \u001b[0mbuckets\u001b[0m\u001b[0;34m\u001b[0m\u001b[0m\n\u001b[0m", 
                        "\u001b[0;31mNameError\u001b[0m: name 'buckets' is not defined"
                    ], 
                    "evalue": "name 'buckets' is not defined", 
                    "output_type": "error", 
                    "ename": "NameError"
                }
            ]
        }, 
        {
            "cell_type": "code", 
            "source": "from urllib.request import urlopen\n\nbucket_obj = cos.Bucket(buckets[0])\n\nfor data_link in data_links:\n    filename=data_link.split('/')[-1]\n    print('Uploading data {}...'.format(filename))\n    with urlopen(data_link) as data:\n        bucket_obj.upload_fileobj(data, filename)\n        print('{} is uploaded.'.format(filename))", 
            "metadata": {}, 
            "execution_count": 9, 
            "outputs": [
                {
                    "output_type": "stream", 
                    "text": "Uploading data train-images-idx3-ubyte.gz...\ntrain-images-idx3-ubyte.gz is uploaded.\nUploading data train-labels-idx1-ubyte.gz...\ntrain-labels-idx1-ubyte.gz is uploaded.\nUploading data t10k-images-idx3-ubyte.gz...\nt10k-images-idx3-ubyte.gz is uploaded.\nUploading data t10k-labels-idx1-ubyte.gz...\nt10k-labels-idx1-ubyte.gz is uploaded.\n", 
                    "name": "stdout"
                }
            ]
        }, 
        {
            "cell_type": "markdown", 
            "source": "Let's see the list of all created buckets and their contents.", 
            "metadata": {}
        }, 
        {
            "cell_type": "code", 
            "source": "for bucket_name in buckets:\n    print(bucket_name)\n    bucket_obj = cos.Bucket(bucket_name)\n    for obj in bucket_obj.objects.all():\n        print(\"  File: {}, {:4.2f}kB\".format(obj.key, obj.size/1024))", 
            "metadata": {}, 
            "execution_count": 10, 
            "outputs": [
                {
                    "output_type": "stream", 
                    "text": "train-data-a85da3d5-1122-4705-b579-63c30c4e5f7b\n  File: t10k-images-idx3-ubyte.gz, 1610.23kB\n  File: t10k-labels-idx1-ubyte.gz, 4.44kB\n  File: train-images-idx3-ubyte.gz, 9680.10kB\n  File: train-labels-idx1-ubyte.gz, 28.20kB\ntrain-results-a85da3d5-1122-4705-b579-63c30c4e5f7b\n", 
                    "name": "stdout"
                }
            ]
        }, 
        {
            "cell_type": "markdown", 
            "source": "We are done with Cloud Object Storage, we are ready to train our model!", 
            "metadata": {}
        }, 
        {
            "cell_type": "markdown", 
            "source": "<a id=\"model\"></a>\n## 2. Train model", 
            "metadata": {}
        }, 
        {
            "cell_type": "markdown", 
            "source": "### 2.1 Work with the instance", 
            "metadata": {}
        }, 
        {
            "cell_type": "code", 
            "source": "import urllib3, requests, json, base64, time, os", 
            "metadata": {}, 
            "execution_count": 11, 
            "outputs": []
        }, 
        {
            "cell_type": "code", 
            "source": "!pip install dask --upgrade", 
            "metadata": {}, 
            "execution_count": 12, 
            "outputs": [
                {
                    "output_type": "stream", 
                    "text": "Requirement already up-to-date: dask in /gpfs/global_fs01/sym_shared/YPProdSpark/user/sec7-2ac43fd194bc9a-8ef090487f81/.local/lib/python3.5/site-packages\r\n", 
                    "name": "stdout"
                }
            ]
        }, 
        {
            "cell_type": "markdown", 
            "source": "Authenticate to Watson Machine Learning service on Bluemix.", 
            "metadata": {}
        }, 
        {
            "cell_type": "markdown", 
            "source": "**Action**: Put authentication information from your instance of Watson Machine Learning service here.", 
            "metadata": {}
        }, 
        {
            "cell_type": "code", 
            "source": "wml_credentials={\n  \"url\": \"https://ibm-watson-ml.mybluemix.net\",\n  \"access_key\": \"***\",\n  \"username\": \"***\",\n  \"password\": \"***\",\n  \"instance_id\": \"***\"\n}", 
            "metadata": {}, 
            "execution_count": 13, 
            "outputs": []
        }, 
        {
            "cell_type": "markdown", 
            "source": "#### Install `watson-machine-learning-client` from pypi", 
            "metadata": {}
        }, 
        {
            "cell_type": "code", 
            "source": "!pip uninstall -y watson-machine-learning-client", 
            "metadata": {}, 
            "execution_count": 14, 
            "outputs": [
                {
                    "output_type": "stream", 
                    "text": "Uninstalling watson-machine-learning-client-0.3.323:\n  Successfully uninstalled watson-machine-learning-client-0.3.323\n", 
                    "name": "stdout"
                }
            ]
        }, 
        {
            "cell_type": "markdown", 
            "source": "If above install fails due to \"AssertionError: Multiple .dist-info ...\", please uninstall client library and remove the build directory with the commands below, then run the pip install again.\n\n    !rm -rf /tmp/<directory-id-found-in-error>/pip-build/watson-machine-learning-client \n    # e.g. directory-id: s130-c0573632d58e90-35c9a7ecf27a", 
            "metadata": {}
        }, 
        {
            "cell_type": "code", 
            "source": "!pip install --upgrade watson-machine-learning-client --user", 
            "metadata": {}, 
            "execution_count": 15, 
            "outputs": [
                {
                    "output_type": "stream", 
                    "text": "Collecting watson-machine-learning-client\n  Using cached watson_machine_learning_client-0.3.323-py2.py3-none-any.whl\nRequirement already up-to-date: lomond in /gpfs/global_fs01/sym_shared/YPProdSpark/user/sec7-2ac43fd194bc9a-8ef090487f81/.local/lib/python3.5/site-packages (from watson-machine-learning-client)\nRequirement already up-to-date: tabulate in /gpfs/global_fs01/sym_shared/YPProdSpark/user/sec7-2ac43fd194bc9a-8ef090487f81/.local/lib/python3.5/site-packages (from watson-machine-learning-client)\nRequirement already up-to-date: tqdm in /gpfs/global_fs01/sym_shared/YPProdSpark/user/sec7-2ac43fd194bc9a-8ef090487f81/.local/lib/python3.5/site-packages (from watson-machine-learning-client)\nRequirement already up-to-date: requests in /gpfs/global_fs01/sym_shared/YPProdSpark/user/sec7-2ac43fd194bc9a-8ef090487f81/.local/lib/python3.5/site-packages (from watson-machine-learning-client)\nRequirement already up-to-date: urllib3 in /gpfs/global_fs01/sym_shared/YPProdSpark/user/sec7-2ac43fd194bc9a-8ef090487f81/.local/lib/python3.5/site-packages (from watson-machine-learning-client)\nRequirement already up-to-date: certifi in /gpfs/global_fs01/sym_shared/YPProdSpark/user/sec7-2ac43fd194bc9a-8ef090487f81/.local/lib/python3.5/site-packages (from watson-machine-learning-client)\nRequirement already up-to-date: pandas in /gpfs/global_fs01/sym_shared/YPProdSpark/user/sec7-2ac43fd194bc9a-8ef090487f81/.local/lib/python3.5/site-packages (from watson-machine-learning-client)\nRequirement already up-to-date: six>=1.10.0 in /gpfs/global_fs01/sym_shared/YPProdSpark/user/sec7-2ac43fd194bc9a-8ef090487f81/.local/lib/python3.5/site-packages (from lomond->watson-machine-learning-client)\nRequirement already up-to-date: chardet<3.1.0,>=3.0.2 in /gpfs/global_fs01/sym_shared/YPProdSpark/user/sec7-2ac43fd194bc9a-8ef090487f81/.local/lib/python3.5/site-packages (from requests->watson-machine-learning-client)\nRequirement already up-to-date: idna<2.7,>=2.5 in /gpfs/global_fs01/sym_shared/YPProdSpark/user/sec7-2ac43fd194bc9a-8ef090487f81/.local/lib/python3.5/site-packages (from requests->watson-machine-learning-client)\nRequirement already up-to-date: python-dateutil>=2 in /gpfs/global_fs01/sym_shared/YPProdSpark/user/sec7-2ac43fd194bc9a-8ef090487f81/.local/lib/python3.5/site-packages (from pandas->watson-machine-learning-client)\nRequirement already up-to-date: numpy>=1.9.0 in /gpfs/global_fs01/sym_shared/YPProdSpark/user/sec7-2ac43fd194bc9a-8ef090487f81/.local/lib/python3.5/site-packages (from pandas->watson-machine-learning-client)\nRequirement already up-to-date: pytz>=2011k in /gpfs/global_fs01/sym_shared/YPProdSpark/user/sec7-2ac43fd194bc9a-8ef090487f81/.local/lib/python3.5/site-packages (from pandas->watson-machine-learning-client)\nInstalling collected packages: watson-machine-learning-client\nSuccessfully installed watson-machine-learning-client-0.3.323\n", 
                    "name": "stdout"
                }
            ]
        }, 
        {
            "cell_type": "markdown", 
            "source": "#### Import `watson-machine-learning-client` and authenticate to service instance", 
            "metadata": {}
        }, 
        {
            "cell_type": "code", 
            "source": "from watson_machine_learning_client import WatsonMachineLearningAPIClient", 
            "metadata": {}, 
            "execution_count": 16, 
            "outputs": []
        }, 
        {
            "cell_type": "code", 
            "source": "client = WatsonMachineLearningAPIClient(wml_credentials)", 
            "metadata": {}, 
            "execution_count": 17, 
            "outputs": []
        }, 
        {
            "cell_type": "markdown", 
            "source": "### 2.2 Save model definition ", 
            "metadata": {}
        }, 
        {
            "cell_type": "markdown", 
            "source": "#### Prepare model definition metadata", 
            "metadata": {}
        }, 
        {
            "cell_type": "code", 
            "source": "model_definition_metadata = {\n            client.repository.DefinitionMetaNames.NAME: \"my_definition\",\n            client.repository.DefinitionMetaNames.DESCRIPTION: \"my_description\",\n            client.repository.DefinitionMetaNames.AUTHOR_NAME: \"John Smith\",\n            client.repository.DefinitionMetaNames.AUTHOR_EMAIL: \"js@js.com\",\n            client.repository.DefinitionMetaNames.FRAMEWORK_NAME: \"tensorflow\",\n            client.repository.DefinitionMetaNames.FRAMEWORK_VERSION: \"1.2\",\n            client.repository.DefinitionMetaNames.RUNTIME_NAME: \"python\",\n            client.repository.DefinitionMetaNames.RUNTIME_VERSION: \"3.5\",\n            client.repository.DefinitionMetaNames.EXECUTION_COMMAND: \"python3 tensorflow_mnist_softmax.py --trainingIters 20\"\n            }", 
            "metadata": {}, 
            "execution_count": 18, 
            "outputs": []
        }, 
        {
            "cell_type": "markdown", 
            "source": "#### Get sample model definition content file from git", 
            "metadata": {}
        }, 
        {
            "cell_type": "code", 
            "source": "if os.path.isfile('tf-softmax-model.zip'):\n    !ls tf-softmax-model.zip\nelse:\n    !wget https://github.com/pmservice/wml-sample-models/raw/master/tensorflow/hand-written-digit-recognition/definition/tf-softmax-model.zip\n    !ls tf-softmax-model.zip", 
            "metadata": {}, 
            "execution_count": 19, 
            "outputs": [
                {
                    "output_type": "stream", 
                    "text": "tf-softmax-model.zip\r\n", 
                    "name": "stdout"
                }
            ]
        }, 
        {
            "cell_type": "markdown", 
            "source": "#### Publish training definition in Watson Machine Learning repository", 
            "metadata": {}
        }, 
        {
            "cell_type": "code", 
            "source": "definition_details = client.repository.store_definition('tf-softmax-model.zip', model_definition_metadata)", 
            "metadata": {}, 
            "execution_count": 20, 
            "outputs": []
        }, 
        {
            "cell_type": "code", 
            "source": "definition_url = client.repository.get_definition_url(definition_details)", 
            "metadata": {}, 
            "execution_count": 21, 
            "outputs": []
        }, 
        {
            "cell_type": "code", 
            "source": "print(definition_url)", 
            "metadata": {}, 
            "execution_count": 22, 
            "outputs": [
                {
                    "output_type": "stream", 
                    "text": "https://ibm-watson-ml.mybluemix.net/v3/ml_assets/training_definitions/a3675de9-c928-4bc6-9209-d7032a8f72b0\n", 
                    "name": "stdout"
                }
            ]
        }, 
        {
            "cell_type": "markdown", 
            "source": "### 2.3 Train model", 
            "metadata": {}
        }, 
        {
            "cell_type": "markdown", 
            "source": "#### Prepare training configuration", 
            "metadata": {}
        }, 
        {
            "cell_type": "markdown", 
            "source": "**Action:** Put authentication information from your instance of Object Storage service here.\n- `TRAINING_DATA_REFERENCE` (reference to uploaded training data)\n- `TRAINING_RESULTS_REFERENCE` (location where trained model will be saved)", 
            "metadata": {}
        }, 
        {
            "cell_type": "code", 
            "source": "training_configuration_metadata = {\n            client.training.ConfigurationMetaNames.NAME: \"Hand-written Digit Recognition\",\n            client.training.ConfigurationMetaNames.AUTHOR_NAME: \"John Smith\",\n            client.training.ConfigurationMetaNames.AUTHOR_EMAIL: \"JohnSmith@js.com\",\n            client.training.ConfigurationMetaNames.DESCRIPTION: \"Hand-written Digit Recognition training\",\n            client.training.ConfigurationMetaNames.FRAMEWORK_NAME: \"tensorflow\",\n            client.training.ConfigurationMetaNames.FRAMEWORK_VERSION: \"1.2-py3\",\n            client.training.ConfigurationMetaNames.EXECUTION_COMMAND: \"python3 tensorflow_mnist_softmax.py --trainingIters 20\",\n            client.training.ConfigurationMetaNames.EXECUTION_RESOURCE_SIZE: \"small\",\n            client.training.ConfigurationMetaNames.TRAINING_DATA_REFERENCE: {\n                    \"connection\": {\n                        \"endpoint_url\": service_endpoint,\n                        \"aws_access_key_id\": cos_credentials['cos_hmac_keys']['access_key_id'],\n                        \"aws_secret_access_key\": cos_credentials['cos_hmac_keys']['secret_access_key']\n                    },\n                    \"source\": {\n                        \"bucket\": buckets[0],\n                    },\n                    \"type\": \"s3\"\n                },\n            client.training.ConfigurationMetaNames.TRAINING_RESULTS_REFERENCE: {\n                \"connection\": {\n                    \"endpoint_url\": service_endpoint,\n                    \"aws_access_key_id\": cos_credentials['cos_hmac_keys']['access_key_id'],\n                    \"aws_secret_access_key\": cos_credentials['cos_hmac_keys']['secret_access_key']\n                },\n                \"target\": {\n                    \"bucket\": buckets[1],\n                },\n                \"type\": \"s3\"\n            },\n        }", 
            "metadata": {}, 
            "execution_count": 23, 
            "outputs": []
        }, 
        {
            "cell_type": "markdown", 
            "source": "#### Train the model in the background", 
            "metadata": {}
        }, 
        {
            "cell_type": "code", 
            "source": "training_run_details = client.training.run(training_configuration_metadata, definition_url=definition_url)", 
            "metadata": {}, 
            "execution_count": 24, 
            "outputs": []
        }, 
        {
            "cell_type": "code", 
            "source": "training_run_guid_async = client.training.get_run_uid(training_run_details)", 
            "metadata": {}, 
            "execution_count": 25, 
            "outputs": []
        }, 
        {
            "cell_type": "markdown", 
            "source": "You can check status of training run by calling below method.", 
            "metadata": {}
        }, 
        {
            "cell_type": "code", 
            "source": "status = client.training.get_status(training_run_guid_async)\nprint(json.dumps(status, indent=2))", 
            "metadata": {
                "scrolled": true
            }, 
            "execution_count": 26, 
            "outputs": [
                {
                    "output_type": "stream", 
                    "text": "{\n  \"metrics\": [],\n  \"submitted_at\": \"2018-01-09T15:40:03Z\",\n  \"state\": \"pending\",\n  \"current_at\": \"2018-01-09T15:40:06Z\"\n}\n", 
                    "name": "stdout"
                }
            ]
        }, 
        {
            "cell_type": "markdown", 
            "source": "#### Monitor training log", 
            "metadata": {}
        }, 
        {
            "cell_type": "markdown", 
            "source": "You can turn on training log monitoring by calling below method.", 
            "metadata": {}
        }, 
        {
            "cell_type": "code", 
            "source": "client.training.monitor(training_run_guid_async)", 
            "metadata": {}, 
            "execution_count": 27, 
            "outputs": [
                {
                    "output_type": "stream", 
                    "text": "Log monitor started.\nStatus: PENDING\n\nTraining with training/test data at:\n  DATA_DIR: /job/train-data-a85da3d5-1122-4705-b579-63c30c4e5f7b\n  MODEL_DIR: /job/model-code\n  TRAINING_JOB: \n  TRAINING_COMMAND: python3 tensorflow_mnist_softmax.py --trainingIters 20\n\nStoring trained model at:\n  RESULT_DIR: /job/train-results-a85da3d5-1122-4705-b579-63c30c4e5f7b\nBAZEL_VERSION=0.4.5\nCI_BUILD_PYTHON=python3\n\nCUDA_PKG_VERSION=8-0=8.0.61-1\nCUDA_VERSION=8.0.61\nCUDNN_VERSION=5.1.10\n\nDATA_DIR=/job/train-data-a85da3d5-1122-4705-b579-63c30c4e5f7b\n\nGPU_COUNT=1.000000\nHOME=/root\nJOB_STATE_DIR=/job\n\nLD_LIBRARY_PATH=/usr/local/cuda/extras/CUPTI/lib64:/usr/local/nvidia/lib:/usr/local/nvidia/lib64:/usr/local/cuda/lib64/stubs\nLEARNER_ID=1\nLIBRARY_PATH=/usr/local/cuda/lib64/stubs:\n\nMODEL_DIR=/job/model-code\nOLDPWD=/root\nPATH=/usr/local/nvidia/bin:/usr/local/cuda/bin:/usr/local/sbin:/usr/local/bin:/usr/sbin:/usr/bin:/sbin:/bin\n\nPROMETHEUS_PORT=tcp://172.21.91.116:9090\n\nPROMETHEUS_PORT_9090_TCP=tcp://172.21.91.116:9090\n\nPROMETHEUS_PORT_9090_TCP_ADDR=172.21.91.116\n\nPROMETHEUS_PORT_9090_TCP_PORT=9090\n\nPROMETHEUS_PORT_9090_TCP_PROTO=tcp\nPROMETHEUS_SERVICE_HOST=172.21.91.116\n\nPROMETHEUS_SERVICE_PORT=9090\nPROMETHEUS_SERVICE_PORT_PROMETHEUS=9090\n\nPWD=/job/model-code\nPYTHONPATH=:/job/model-code\n\nRESULT_DIR=/job/train-results-a85da3d5-1122-4705-b579-63c30c4e5f7b\n\nSHLVL=3\nSTATSDEXPORTER_PORT=tcp://172.21.163.204:9102\n\nSTATSDEXPORTER_PORT_9102_TCP=tcp://172.21.163.204:9102\n\nSTATSDEXPORTER_PORT_9102_TCP_ADDR=172.21.163.204\nSTATSDEXPORTER_PORT_9102_TCP_PORT=9102\n\nSTATSDEXPORTER_PORT_9102_TCP_PROTO=tcp\nSTATSDEXPORTER_PORT_9125_UDP=udp://172.21.163.204:9125\nSTATSDEXPORTER_PORT_9125_UDP_ADDR=172.21.163.204\n\nSTATSDEXPORTER_PORT_9125_UDP_PORT=9125\n\nSTATSDEXPORTER_PORT_9125_UDP_PROTO=udp\n\nSTATSDEXPORTER_SERVICE_HOST=172.21.163.204\nSTATSDEXPORTER_SERVICE_PORT=9102\n\nSTATSDEXPORTER_SERVICE_PORT_STATSD=9125\n\nSTATSDEXPORTER_SERVICE_PORT_STATSD_PROM=9102\n\nTF_CUDA_COMPUTE_CAPABILITIES=3.0,3.5,5.2,6.0,6.1\n\nTF_NEED_CUDA=1\n\nTRAINING_COMMAND=python3 tensorflow_mnist_softmax.py --trainingIters 20\n\nTRAINING_ID=training-RkTA1AXkg\n\n_=/usr/bin/env\n\nTue Jan  9 15:40:18 UTC 2018: Running Tensorflow job\n\n2018-01-09 15:40:21.426527: W tensorflow/core/platform/cpu_feature_guard.cc:45] The TensorFlow library wasn't compiled to use SSE4.1 instructions, but these are available on your machine and could speed up CPU computations.\n\n2018-01-09 15:40:21.426572: W tensorflow/core/platform/cpu_feature_guard.cc:45] The TensorFlow library wasn't compiled to use SSE4.2 instructions, but these are available on your machine and could speed up CPU computations.\n\n2018-01-09 15:40:21.426581: W tensorflow/core/platform/cpu_feature_guard.cc:45] The TensorFlow library wasn't compiled to use AVX instructions, but these are available on your machine and could speed up CPU computations.\n\n2018-01-09 15:40:21.426587: W tensorflow/core/platform/cpu_feature_guard.cc:45] The TensorFlow library wasn't compiled to use AVX2 instructions, but these are available on your machine and could speed up CPU computations.\n2018-01-09 15:40:21.426593: W tensorflow/core/platform/cpu_feature_guard.cc:45] The TensorFlow library wasn't compiled to use FMA instructions, but these are available on your machine and could speed up CPU computations.\n\n2018-01-09 15:40:21.788641: I tensorflow/core/common_runtime/gpu/gpu_device.cc:940] Found device 0 with properties: \nname: Tesla K80\nmajor: 3 minor: 7 memoryClockRate (GHz) 0.8235\n\npciBusID 0000:08:00.0\n\nTotal memory: 11.17GiB\n\nFree memory: 11.10GiB\n\n2018-01-09 15:40:21.788696: I tensorflow/core/common_runtime/gpu/gpu_device.cc:961] DMA: 0 \n2018-01-09 15:40:21.788708: I tensorflow/core/common_runtime/gpu/gpu_device.cc:971] 0:   Y \n\n2018-01-09 15:40:21.788731: I tensorflow/core/common_runtime/gpu/gpu_device.cc:1030] Creating TensorFlow device (/gpu:0) -> (device: 0, name: Tesla K80, pci bus id: 0000:08:00.0)\n\nStart model training\nunexpected stream type \"\"\nNORMAL_OPERATION\nNORMAL_OPERATION\nLog monitor done.\n", 
                    "name": "stdout"
                }
            ]
        }, 
        {
            "cell_type": "markdown", 
            "source": "#### Cancel training", 
            "metadata": {}
        }, 
        {
            "cell_type": "markdown", 
            "source": "You can cancel training run by calling below method.", 
            "metadata": {}
        }, 
        {
            "cell_type": "raw", 
            "source": "client.training.cancel(training_run_guid_async)", 
            "metadata": {}
        }, 
        {
            "cell_type": "markdown", 
            "source": "#### Train the model in active mode", 
            "metadata": {}
        }, 
        {
            "cell_type": "markdown", 
            "source": "**Tip:** You can also run training in synchronous mode by setting `asynchronous = False`", 
            "metadata": {}
        }, 
        {
            "cell_type": "code", 
            "source": "training_run_details = client.training.run(training_configuration_metadata, definition_url=definition_url, asynchronous=False)", 
            "metadata": {}, 
            "execution_count": 28, 
            "outputs": [
                {
                    "output_type": "stream", 
                    "text": "Training of training-IzhbJAukR started ...\nElapsed time: 0.17855119705200195 -> training state: pending\n", 
                    "name": "stdout"
                }, 
                {
                    "output_type": "stream", 
                    "text": "100%|\u2588\u2588\u2588\u2588\u2588\u2588\u2588\u2588\u2588\u2588| 10/10 [00:10<00:00,  1.00s/it]", 
                    "name": "stderr"
                }, 
                {
                    "output_type": "stream", 
                    "text": "Elapsed time: 10.331209421157837 -> training state: pending\n", 
                    "name": "stdout"
                }, 
                {
                    "output_type": "stream", 
                    "text": "\n100%|\u2588\u2588\u2588\u2588\u2588\u2588\u2588\u2588\u2588\u2588| 10/10 [00:10<00:00,  1.00s/it]", 
                    "name": "stderr"
                }, 
                {
                    "output_type": "stream", 
                    "text": "Elapsed time: 20.49891448020935 -> training state: pending\n", 
                    "name": "stdout"
                }, 
                {
                    "output_type": "stream", 
                    "text": "\n100%|\u2588\u2588\u2588\u2588\u2588\u2588\u2588\u2588\u2588\u2588| 10/10 [00:10<00:00,  1.00s/it]", 
                    "name": "stderr"
                }, 
                {
                    "output_type": "stream", 
                    "text": "Elapsed time: 30.659260749816895 -> training state: running\n", 
                    "name": "stdout"
                }, 
                {
                    "output_type": "stream", 
                    "text": "\n100%|\u2588\u2588\u2588\u2588\u2588\u2588\u2588\u2588\u2588\u2588| 10/10 [00:10<00:00,  1.00s/it]", 
                    "name": "stderr"
                }, 
                {
                    "output_type": "stream", 
                    "text": "Training of 'training-IzhbJAukR' finished successfully.\n", 
                    "name": "stdout"
                }, 
                {
                    "output_type": "stream", 
                    "text": "\n", 
                    "name": "stderr"
                }
            ]
        }, 
        {
            "cell_type": "markdown", 
            "source": "You can see the status of training run similarly as before", 
            "metadata": {}
        }, 
        {
            "cell_type": "code", 
            "source": "training_run_guid_sync = client.training.get_run_uid(training_run_details)", 
            "metadata": {}, 
            "execution_count": 29, 
            "outputs": []
        }, 
        {
            "cell_type": "code", 
            "source": "status = client.training.get_status(training_run_guid_sync)\nprint(json.dumps(status, indent=2))", 
            "metadata": {}, 
            "execution_count": 36, 
            "outputs": [
                {
                    "output_type": "stream", 
                    "text": "{\n  \"submitted_at\": \"2018-01-09T15:41:13Z\",\n  \"state\": \"completed\",\n  \"total_iterations\": 0,\n  \"metrics\": [],\n  \"finished_at\": \"2018-01-09T15:41:35Z\",\n  \"current_at\": \"2018-01-09T15:41:43Z\",\n  \"current_iteration\": 0,\n  \"message\": \"NORMAL_OPERATION\"\n}\n", 
                    "name": "stdout"
                }
            ]
        }, 
        {
            "cell_type": "markdown", 
            "source": "<a id=\"model\"></a>\n## 3. Persist model", 
            "metadata": {}
        }, 
        {
            "cell_type": "markdown", 
            "source": "#### Call this method to save model in Watson Machine Learning repository", 
            "metadata": {}
        }, 
        {
            "cell_type": "code", 
            "source": "saved_model_details = client.repository.store_model(training_run_guid_async, \"My cool mnist model\")", 
            "metadata": {}, 
            "execution_count": 31, 
            "outputs": []
        }, 
        {
            "cell_type": "code", 
            "source": "print(\"Url: \" + client.repository.get_model_url(saved_model_details))", 
            "metadata": {}, 
            "execution_count": 32, 
            "outputs": [
                {
                    "output_type": "stream", 
                    "text": "Url: https://ibm-watson-ml.mybluemix.net/v3/ml_assets/models/f8ab17a2-b135-464f-aa03-cb32fda0670a\n", 
                    "name": "stdout"
                }
            ]
        }, 
        {
            "cell_type": "markdown", 
            "source": "**Tip:** Run below code to extract stored model guid from dictionary.", 
            "metadata": {}
        }, 
        {
            "cell_type": "code", 
            "source": "model_guid = client.repository.get_model_uid(saved_model_details)\nprint(\"Saved model guid: \" + model_guid)", 
            "metadata": {}, 
            "execution_count": 33, 
            "outputs": [
                {
                    "output_type": "stream", 
                    "text": "Saved model guid: f8ab17a2-b135-464f-aa03-cb32fda0670a\n", 
                    "name": "stdout"
                }
            ]
        }, 
        {
            "cell_type": "markdown", 
            "source": "#### Call this method to list stored models", 
            "metadata": {}
        }, 
        {
            "cell_type": "code", 
            "source": "client.repository.list()", 
            "metadata": {}, 
            "execution_count": 34, 
            "outputs": [
                {
                    "output_type": "stream", 
                    "text": "------------------------------------  -----------------------------------------  ------------------------  -----------------  ----------\nGUID                                  NAME                                       CREATED                   FRAMEWORK          TYPE\na3675de9-c928-4bc6-9209-d7032a8f72b0  my_definition                              2018-01-09T15:36:21.634Z  tensorflow         definition\na0b964e7-dbc9-4631-8ea2-87896c3fc43f  my_training_definition                     2017-11-17T10:42:44.647Z  tensorflow         definition\n12f06353-f8da-4ce3-be53-4c5800ea5969  my_training_definition                     2017-11-20T15:07:26.129Z  tensorflow         definition\n9a1b2d9e-805f-4665-b663-8b161244e4ea  my_training_definition                     2017-11-17T09:59:10.991Z  tensorflow         definition\n0d57fee6-c259-400c-b600-c369fb00263b  LOCALLY created agaricus prediction model  2017-12-14T14:43:16.141Z  scikit-learn-0.17  model\n8ea591dc-5aa3-46c2-a532-ea6858b96c94  LOCALLY created Digits prediction model    2017-12-11T12:24:32.557Z  scikit-learn-0.17  model\nd4094ac2-50cc-4b2c-93e0-ddc8929a7b54  mnist example                              2017-11-17T10:24:48.688Z  tensorflow-1.2     model\n88930b5a-8ca6-4aa1-81d1-ddd4b462eeca                                             2017-12-07T09:59:34.695Z  scikit-learn-0.17  model\n0c17db67-ed85-4222-b54a-f1ffd225ab6e  mnist example                              2017-11-17T10:46:39.110Z  tensorflow-1.2     model\n0656fab4-d287-460e-b1e2-4edc44410eec  XGB model from DSX                         2017-12-07T10:17:02.684Z  scikit-learn-0.17  model\nf8ab17a2-b135-464f-aa03-cb32fda0670a  My cool mnist model                        2018-01-09T15:42:22.957Z  tensorflow-1.2     model\n------------------------------------  -----------------------------------------  ------------------------  -----------------  ----------\n", 
                    "name": "stdout"
                }
            ]
        }, 
        {
            "cell_type": "markdown", 
            "source": "#### Delete training-run and its results", 
            "metadata": {}
        }, 
        {
            "cell_type": "markdown", 
            "source": "You can delete train runs and results by running below method.", 
            "metadata": {}
        }, 
        {
            "cell_type": "code", 
            "source": "client.training.delete(training_run_guid_async)\nclient.training.delete(training_run_guid_sync)", 
            "metadata": {}, 
            "execution_count": 38, 
            "outputs": []
        }, 
        {
            "cell_type": "markdown", 
            "source": "## 5. Create online deployment", 
            "metadata": {}
        }, 
        {
            "cell_type": "markdown", 
            "source": "You can deployed stored model as webservice (online) by running below method.", 
            "metadata": {}
        }, 
        {
            "cell_type": "code", 
            "source": "deployment_details = client.deployments.create(name=\"Mnist model deployment\", model_uid=model_guid)", 
            "metadata": {}, 
            "execution_count": 39, 
            "outputs": []
        }, 
        {
            "cell_type": "code", 
            "source": "scoring_url = client.deployments.get_scoring_url(deployment_details)\nprint(scoring_url)", 
            "metadata": {}, 
            "execution_count": 40, 
            "outputs": [
                {
                    "output_type": "stream", 
                    "text": "https://ibm-watson-ml.mybluemix.net/v3/wml_instances/e200f419-d1d6-488f-bf7b-35a3bc6e80c8/published_models/f8ab17a2-b135-464f-aa03-cb32fda0670a/deployments/e9e2b802-90bf-4060-9f89-20a320a97fa1/online\n", 
                    "name": "stdout"
                }
            ]
        }, 
        {
            "cell_type": "markdown", 
            "source": "## 6. Scoring", 
            "metadata": {
                "collapsed": true
            }
        }, 
        {
            "cell_type": "markdown", 
            "source": "Prepare sample scoring data to score deployed model.", 
            "metadata": {}
        }, 
        {
            "cell_type": "code", 
            "source": "from tensorflow.examples.tutorials.mnist import input_data\n\nmnist = input_data.read_data_sets(\"MNIST_data\", one_hot=True)", 
            "metadata": {}, 
            "execution_count": 41, 
            "outputs": [
                {
                    "output_type": "stream", 
                    "text": "Extracting MNIST_data/train-images-idx3-ubyte.gz\nExtracting MNIST_data/train-labels-idx1-ubyte.gz\nExtracting MNIST_data/t10k-images-idx3-ubyte.gz\nExtracting MNIST_data/t10k-labels-idx1-ubyte.gz\n", 
                    "name": "stdout"
                }
            ]
        }, 
        {
            "cell_type": "code", 
            "source": "image1 = mnist.test.images[45,].tolist()\nimage2 = mnist.test.images[4,].tolist()", 
            "metadata": {}, 
            "execution_count": 42, 
            "outputs": []
        }, 
        {
            "cell_type": "code", 
            "source": "%matplotlib inline\nimport matplotlib.pyplot as plt\nimport numpy as np", 
            "metadata": {}, 
            "execution_count": 43, 
            "outputs": []
        }, 
        {
            "cell_type": "code", 
            "source": "for i, image in enumerate([image1, image2]):\n    plt.subplot(2, 2, i + 1)\n    plt.axis('off')\n    plt.imshow( (np.reshape(image, (28, 28)) * 255).astype(np.uint8), cmap=plt.cm.gray_r, interpolation='nearest')", 
            "metadata": {}, 
            "execution_count": 44, 
            "outputs": [
                {
                    "output_type": "display_data", 
                    "metadata": {}, 
                    "data": {
                        "image/png": "[encoded data removed]", 
                        "text/plain": "<matplotlib.figure.Figure at 0x7fb56deb2cc0>"
                    }
                }
            ]
        }, 
        {
            "cell_type": "markdown", 
            "source": "Build scoring disctionary consisting of two digits and send it to deployed model to get predictions.", 
            "metadata": {}
        }, 
        {
            "cell_type": "code", 
            "source": "scoring_data = {'inputs': [image1, image2]}", 
            "metadata": {}, 
            "execution_count": 45, 
            "outputs": []
        }, 
        {
            "cell_type": "code", 
            "source": "predictions = client.deployments.score(scoring_url, scoring_data)\nprint(\"Scoring result: \" + str(predictions))", 
            "metadata": {}, 
            "execution_count": 46, 
            "outputs": [
                {
                    "output_type": "stream", 
                    "text": "Scoring result: {'classes': [5, 4]}\n", 
                    "name": "stdout"
                }
            ]
        }, 
        {
            "cell_type": "markdown", 
            "source": "<a id=\"summary\"></a>\n## 6. Summary and next steps     ", 
            "metadata": {
                "collapsed": true
            }
        }, 
        {
            "cell_type": "markdown", 
            "source": " You successfully completed this notebook! You learned how to use `watson-machine-learning-client` to train and score TensorFlow models. Check out our _[Online Documentation](https://console.ng.bluemix.net/docs/services/PredictiveModeling/index.html)_ for more samples, tutorials, documentation, how-tos, and blog posts. ", 
            "metadata": {
                "collapsed": true
            }
        }, 
        {
            "cell_type": "markdown", 
            "source": "### Authors\n\n**Lukasz Cmielowski**, PhD, is a Automation Architect and Data Scientist in IBM with a track record of developing enterprise-level applications that substantially increases clients' ability to turn data into actionable knowledge.", 
            "metadata": {}
        }, 
        {
            "cell_type": "markdown", 
            "source": "Copyright \u00a9 2017 IBM. This notebook and its source code are released under the terms of the MIT License.", 
            "metadata": {}
        }
    ], 
    "nbformat_minor": 1, 
    "metadata": {
        "kernelspec": {
            "language": "python", 
            "name": "python3-spark20", 
            "display_name": "Python 3.5 (Experimental) with Spark 2.0"
        }, 
        "language_info": {
            "pygments_lexer": "ipython3", 
            "nbconvert_exporter": "python", 
            "mimetype": "text/x-python", 
            "name": "python", 
            "version": "3.5.2", 
            "file_extension": ".py", 
            "codemirror_mode": {
                "version": 3, 
                "name": "ipython"
            }
        }
    }, 
    "nbformat": 4
}