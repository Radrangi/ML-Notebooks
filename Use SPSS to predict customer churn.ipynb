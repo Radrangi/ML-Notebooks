{
    "nbformat_minor": 1, 
    "cells": [
        {
            "source": "<table style=\"border: none\" align=\"left\">\n   <tr style=\"border: none\">\n      <th style=\"border: none\"><font face=\"verdana\" size=\"5\" color=\"black\"><b>Predicting customer churn with IBM Watson Machine Learning</b></th>\n      <th style=\"border: none\"><img src=\"https://github.com/pmservice/customer-satisfaction-prediction/blob/master/app/static/images/ml_icon_gray.png?raw=true\" alt=\"Watson Machine Learning icon\" height=\"40\" width=\"40\"></th>\n  <tr style=\"border: none\">\n       <th style=\"border: none\"><img src=\"https://github.com/pmservice/wml-sample-models/blob/master/spark/customer-satisfaction-prediction/images/users_banner_2-03.png?raw=true\" width=\"600\" alt=\"Icon\"> </th>\n   </tr>\n</table>", 
            "cell_type": "markdown", 
            "metadata": {}
        }, 
        {
            "source": "This notebook contains steps to deploy sample SPSS stream, and start scoring new data. \n\nSome familiarity with bash is helpful. This notebook uses Python 3.\n\nYou will use a data set, **Telco Customer Churn**, which details anonymous customers data of telecommunication company. Use the details of this data set to predict customer churn which is very critical to business as it's easier to retain existing customers rather than acquiring new ones.\n\n## Learning goals\n\nThe learning goals of this notebook are:\n\n-  Working with the instance\n-  Online deployment of SPSS model\n-  Scoring data using deployed model\n\n\n## Contents\n\nThis notebook contains the following parts:\n\n1.\t[Setup](#setup)\n2.\t[Work with service instance](#instance) \n3.\t[Persist, deploy and score in a Cloud](#scoring)\n4.\t[Summary and next steps](#summary)", 
            "cell_type": "markdown", 
            "metadata": {}
        }, 
        {
            "source": "<a id=\"setup\"></a>\n## 1. Setup\n\nBefore you use the sample code in this notebook, you must perform the following setup tasks:\n\n-  Create a [Watson Machine Learning Service](https://console.ng.bluemix.net/catalog/services/ibm-watson-machine-learning/) instance required for model storing and deployment (a free plan is offered).\n-   Install [watson-machine-learning-client](https://pypi.python.org/pypi?%3Aaction=search&term=watson-machine-learning-client&submit=search) (not required on DSx).", 
            "cell_type": "markdown", 
            "metadata": {}
        }, 
        {
            "source": "Install python API client from pypi.", 
            "cell_type": "markdown", 
            "metadata": {}
        }, 
        {
            "execution_count": 1, 
            "cell_type": "code", 
            "metadata": {}, 
            "outputs": [], 
            "source": "!rm -rf $PIP_BUILD/watson-machine-learning-client"
        }, 
        {
            "execution_count": 2, 
            "cell_type": "code", 
            "metadata": {}, 
            "outputs": [
                {
                    "output_type": "stream", 
                    "name": "stdout", 
                    "text": "Requirement already up-to-date: watson-machine-learning-client in /opt/conda/envs/DSX-Python35/lib/python3.5/site-packages\nRequirement not upgraded as not directly required: urllib3 in /opt/conda/envs/DSX-Python35/lib/python3.5/site-packages (from watson-machine-learning-client)\nRequirement not upgraded as not directly required: tqdm in /opt/conda/envs/DSX-Python35/lib/python3.5/site-packages (from watson-machine-learning-client)\nRequirement not upgraded as not directly required: certifi in /opt/conda/envs/DSX-Python35/lib/python3.5/site-packages (from watson-machine-learning-client)\nRequirement not upgraded as not directly required: tabulate in /opt/conda/envs/DSX-Python35/lib/python3.5/site-packages (from watson-machine-learning-client)\nRequirement not upgraded as not directly required: pandas in /opt/conda/envs/DSX-Python35/lib/python3.5/site-packages (from watson-machine-learning-client)\nRequirement not upgraded as not directly required: lomond in /opt/conda/envs/DSX-Python35/lib/python3.5/site-packages (from watson-machine-learning-client)\nRequirement not upgraded as not directly required: requests in /opt/conda/envs/DSX-Python35/lib/python3.5/site-packages (from watson-machine-learning-client)\nRequirement not upgraded as not directly required: python-dateutil>=2 in /opt/conda/envs/DSX-Python35/lib/python3.5/site-packages (from pandas->watson-machine-learning-client)\nRequirement not upgraded as not directly required: pytz>=2011k in /opt/conda/envs/DSX-Python35/lib/python3.5/site-packages (from pandas->watson-machine-learning-client)\nRequirement not upgraded as not directly required: numpy>=1.9.0 in /opt/conda/envs/DSX-Python35/lib/python3.5/site-packages (from pandas->watson-machine-learning-client)\nRequirement not upgraded as not directly required: six>=1.10.0 in /opt/conda/envs/DSX-Python35/lib/python3.5/site-packages (from lomond->watson-machine-learning-client)\nRequirement not upgraded as not directly required: chardet<3.1.0,>=3.0.2 in /opt/conda/envs/DSX-Python35/lib/python3.5/site-packages (from requests->watson-machine-learning-client)\nRequirement not upgraded as not directly required: idna<2.7,>=2.5 in /opt/conda/envs/DSX-Python35/lib/python3.5/site-packages (from requests->watson-machine-learning-client)\n"
                }
            ], 
            "source": "!pip install watson-machine-learning-client --upgrade"
        }, 
        {
            "source": "<a id=\"instance\"></a>\n## 2. Working with the instance", 
            "cell_type": "markdown", 
            "metadata": {}
        }, 
        {
            "source": "In this section you will learn how to get details of your instance.", 
            "cell_type": "markdown", 
            "metadata": {}
        }, 
        {
            "source": "**Action**: Put credentials from your instance of Watson Machine Learning service in IBM Cloud here.", 
            "cell_type": "markdown", 
            "metadata": {}
        }, 
        {
            "execution_count": 3, 
            "cell_type": "code", 
            "metadata": {}, 
            "outputs": [], 
            "source": "wml_credentials = {\n  \"url\": \"https://ibm-watson-ml.mybluemix.net\",\n  \"access_key\": \"***\",\n  \"username\": \"***\",\n  \"password\": \"***\",\n  \"instance_id\": \"***\"\n}"
        }, 
        {
            "execution_count": 4, 
            "cell_type": "code", 
            "metadata": {}, 
            "outputs": [], 
            "source": "# The code was removed by DSX for sharing."
        }, 
        {
            "execution_count": 5, 
            "cell_type": "code", 
            "metadata": {}, 
            "outputs": [], 
            "source": "from watson_machine_learning_client import WatsonMachineLearningAPIClient"
        }, 
        {
            "execution_count": 6, 
            "cell_type": "code", 
            "metadata": {}, 
            "outputs": [], 
            "source": "client = WatsonMachineLearningAPIClient(wml_credentials)"
        }, 
        {
            "source": "Details about your Watson Machine Learning service are available in instance_details.", 
            "cell_type": "markdown", 
            "metadata": {}
        }, 
        {
            "execution_count": 8, 
            "cell_type": "code", 
            "metadata": {}, 
            "outputs": [], 
            "source": "instance_details = client.instance_details"
        }, 
        {
            "source": "Getting stored models on WML instance", 
            "cell_type": "markdown", 
            "metadata": {}
        }, 
        {
            "execution_count": 9, 
            "cell_type": "code", 
            "metadata": {}, 
            "outputs": [
                {
                    "output_type": "stream", 
                    "name": "stdout", 
                    "text": "------------------------------------  ----------------------------------  ------------------------  --------------\nGUID                                  NAME                                CREATED                   FRAMEWORK\n43986a55-0f0e-493b-9b98-0712f918b0ba  MNIST CNN model                     2018-03-15T16:12:06.503Z  tensorflow-1.5\na5a952e1-fa6f-4c64-88f7-293b367b7e1f  MNIST best model                    2018-03-16T10:12:16.773Z  tensorflow-1.5\nc755c740-dab6-4d5d-b873-1060885d55d5  MNIST best model                    2018-03-16T10:12:31.990Z  tensorflow-1.5\n861b6b73-6861-49c0-867c-d171d6d9d545  MNIST best model                    2018-03-16T13:00:40.461Z  tensorflow-1.5\nf7219c8f-fccb-4d26-a1bd-f51544090eae  training-S3ttnlgig_2 best model     2018-03-16T13:32:33.747Z  tensorflow-1.5\n327242a2-d2c0-400f-b673-4f33ad7ec17d  product-line-prediction             2018-03-16T18:08:31.260Z  mllib-2.0\na0cb79ca-e937-4cbf-b7e5-23dad2d2ecec  drug-selection                      2018-03-16T18:10:25.046Z  mllib-2.0\n97822727-4bd1-4df0-95df-8ff9536ea01d  My cool mnist model                 2018-03-28T09:02:31.509Z  tensorflow-1.5\n84070d90-6db7-4a12-8da6-26aaf18e9378  My cool mnist model tf-horovod      2018-03-28T11:15:53.446Z  tensorflow-1.5\nb6e59ce5-7d24-4ce1-90f8-f6a918ad71ca  My cool mnist model tf-distributed  2018-03-28T11:15:56.061Z  tensorflow-1.5\n91149430-5588-4ee6-ac6a-695cd2392aa8  My cool mnist model tf-ddl          2018-03-28T11:15:59.813Z  tensorflow-1.5\n------------------------------------  ----------------------------------  ------------------------  --------------\n"
                }
            ], 
            "source": "client.repository.list_models()"
        }, 
        {
            "source": "Geting list of deployed models.", 
            "cell_type": "markdown", 
            "metadata": {}
        }, 
        {
            "execution_count": 10, 
            "cell_type": "code", 
            "metadata": {}, 
            "outputs": [
                {
                    "output_type": "stream", 
                    "name": "stdout", 
                    "text": "------------------------------------  -------------------------------  ------  --------------  ------------------------  --------------\nGUID                                  NAME                             TYPE    STATE           CREATED                   FRAMEWORK\n0efa6832-80ea-4637-baed-771827562112  MNIST keras deployment           online  DEPLOY_FAILURE  2018-03-15T16:12:48.062Z  tensorflow-1.5\n1bf606e8-e8c4-4143-8727-5b2d1ac97b7e  MNIST keras deployment           online  DEPLOY_SUCCESS  2018-03-16T13:00:52.773Z  tensorflow-1.5\n2436e614-5396-4b78-ac02-3e6a69479b1c  MNIST keras deployment           online  DEPLOY_FAILURE  2018-03-15T16:13:29.910Z  tensorflow-1.5\n4bcae2dc-b309-4e0d-8858-2c04fe4c6383  Mnist model deployment           online  DEPLOY_SUCCESS  2018-03-28T09:02:49.220Z  tensorflow-1.5\n4fb26af0-e4b5-4fcc-9156-2fe6dcad41a2  drug deployment                  online  DEPLOY_SUCCESS  2018-03-16T18:11:33.498Z  mllib-2.0\n687c8e42-86e8-4b2c-a1bb-c9f2ebebfa23  MNIST keras deployment           online  DEPLOY_FAILURE  2018-03-15T16:21:39.495Z  tensorflow-1.5\n76dd8d4a-0cab-435a-9430-d488c7144bf2  Mnist model deployment - tf-ddl  online  DEPLOY_SUCCESS  2018-03-28T11:16:20.200Z  tensorflow-1.5\n8c05418f-547a-43e4-b43d-95b0da98a064  test                             online  DEPLOY_SUCCESS  2018-03-16T13:33:17.610Z  tensorflow-1.5\n8e29bf15-96b3-42be-8fc4-4e0554d395c7  MNIST keras deployment           online  DEPLOY_FAILURE  2018-03-15T16:14:00.816Z  tensorflow-1.5\nf1cc5088-c2cb-49aa-af3c-4825407b194b  product line                     online  DEPLOY_SUCCESS  2018-03-16T18:12:29.167Z  mllib-2.0\n------------------------------------  -------------------------------  ------  --------------  ------------------------  --------------\n"
                }
            ], 
            "source": "client.deployments.list()"
        }, 
        {
            "source": "<a id=\"scoring\"></a>\n## 3. Persist, deploy and score model in a Cloud", 
            "cell_type": "markdown", 
            "metadata": {}
        }, 
        {
            "source": "In this section you will learn how to create online deployment and to score a new data record by using the Watson Machine Learning REST API. \nFor more information about REST APIs, see the [Swagger Documentation](http://watson-ml-api.mybluemix.net/).", 
            "cell_type": "markdown", 
            "metadata": {}
        }, 
        {
            "source": "### 3.1: Persist model", 
            "cell_type": "markdown", 
            "metadata": {}
        }, 
        {
            "source": "Download SPSS sample model from git project.", 
            "cell_type": "markdown", 
            "metadata": {}
        }, 
        {
            "source": "**Note:** You may need to install first wget package by running following code: `!pip install wget`", 
            "cell_type": "markdown", 
            "metadata": {}
        }, 
        {
            "execution_count": 12, 
            "cell_type": "code", 
            "metadata": {}, 
            "outputs": [
                {
                    "output_type": "stream", 
                    "name": "stdout", 
                    "text": "Collecting wget\n  Downloading wget-3.2.zip\nBuilding wheels for collected packages: wget\n  Running setup.py bdist_wheel for wget ... \u001b[?25ldone\n\u001b[?25h  Stored in directory: /home/dsxuser/.cache/pip/wheels/6d/98/29/61ccc41148f871009126c2e844e26f73eeb25e12cca92228a5\nSuccessfully built wget\nInstalling collected packages: wget\nSuccessfully installed wget-3.2\n"
                }
            ], 
            "source": "!pip install wget"
        }, 
        {
            "execution_count": 13, 
            "cell_type": "code", 
            "metadata": {}, 
            "outputs": [
                {
                    "output_type": "stream", 
                    "name": "stdout", 
                    "text": "spss_sample_model/customer-satisfaction-prediction.str\n"
                }
            ], 
            "source": "import os, wget\n\nsample_dir = 'spss_sample_model'\nif not os.path.isdir(sample_dir):\n    os.mkdir(sample_dir)\n\nfilename=os.path.join(sample_dir, 'customer-satisfaction-prediction.str')\nif not os.path.isfile(filename):\n    filename = wget.download('https://github.com/pmservice/wml-sample-models/raw/master/spss/customer-satisfaction-prediction/model/customer-satisfaction-prediction.str',\\\n                             out=sample_dir)\nprint(filename)"
        }, 
        {
            "source": "Store SPSS sample model in your Watson Machine Learning instance.", 
            "cell_type": "markdown", 
            "metadata": {}
        }, 
        {
            "execution_count": 21, 
            "cell_type": "code", 
            "metadata": {}, 
            "outputs": [], 
            "source": "props_spss = {client.repository.ModelMetaNames.NAME: 'SPSS model for Churn prediction',\n              client.repository.ModelMetaNames.AUTHOR_NAME: \"IBM\", \n              client.repository.ModelMetaNames.AUTHOR_EMAIL: \"ibm@ibm.com\", \n              client.repository.ModelMetaNames.FRAMEWORK_NAME: \"spss-modeler\", \n              client.repository.ModelMetaNames.FRAMEWORK_VERSION: \"18.1\"}\n\nmodel_details = client.repository.store_model(filename, props_spss)"
        }, 
        {
            "source": "Geting details of deployed models.", 
            "cell_type": "markdown", 
            "metadata": {}
        }, 
        {
            "execution_count": 22, 
            "cell_type": "code", 
            "metadata": {}, 
            "outputs": [
                {
                    "output_type": "stream", 
                    "name": "stdout", 
                    "text": "{'metadata': {'created_at': '2018-03-28T13:20:40.791Z', 'url': 'https://ibm-watson-ml.mybluemix.net/v3/wml_instances/3f6e5c2b-4880-46aa-9d79-62e90ccc9d56/published_models/9fb96bc1-bc12-4717-a03f-9b009a32d578', 'modified_at': '2018-03-28T13:20:40.855Z', 'guid': '9fb96bc1-bc12-4717-a03f-9b009a32d578'}, 'entity': {'deployments': {'count': 0, 'url': 'https://ibm-watson-ml.mybluemix.net/v3/wml_instances/3f6e5c2b-4880-46aa-9d79-62e90ccc9d56/published_models/9fb96bc1-bc12-4717-a03f-9b009a32d578/deployments'}, 'author': {'email': 'ibm@ibm.com', 'name': 'IBM'}, 'runtime_environment': 'None Provided', 'model_type': 'spss-modeler-18.1', 'feedback_url': 'https://ibm-watson-ml.mybluemix.net/v3/wml_instances/3f6e5c2b-4880-46aa-9d79-62e90ccc9d56/published_models/9fb96bc1-bc12-4717-a03f-9b009a32d578/feedback', 'learning_iterations_url': 'https://ibm-watson-ml.mybluemix.net/v3/wml_instances/3f6e5c2b-4880-46aa-9d79-62e90ccc9d56/published_models/9fb96bc1-bc12-4717-a03f-9b009a32d578/learning_iterations', 'evaluation_metrics_url': 'https://ibm-watson-ml.mybluemix.net/v3/wml_instances/3f6e5c2b-4880-46aa-9d79-62e90ccc9d56/published_models/9fb96bc1-bc12-4717-a03f-9b009a32d578/evaluation_metrics', 'latest_version': {'created_at': '2018-03-28T13:20:40.855Z', 'url': 'https://ibm-watson-ml.mybluemix.net/v3/ml_assets/models/9fb96bc1-bc12-4717-a03f-9b009a32d578/versions/256531aa-8a08-4aaa-a627-4d1e020fb7c3', 'guid': '256531aa-8a08-4aaa-a627-4d1e020fb7c3'}, 'learning_configuration_url': 'https://ibm-watson-ml.mybluemix.net/v3/wml_instances/3f6e5c2b-4880-46aa-9d79-62e90ccc9d56/published_models/9fb96bc1-bc12-4717-a03f-9b009a32d578/learning_configuration', 'name': 'SPSS model for Churn prediction'}}\n"
                }
            ], 
            "source": "print(model_details)"
        }, 
        {
            "source": "### 3.1: Create online deployment", 
            "cell_type": "markdown", 
            "metadata": {}
        }, 
        {
            "source": "Using below commands you can create online deployment.", 
            "cell_type": "markdown", 
            "metadata": {}
        }, 
        {
            "execution_count": 23, 
            "cell_type": "code", 
            "metadata": {}, 
            "outputs": [
                {
                    "output_type": "stream", 
                    "name": "stdout", 
                    "text": "\n\n#######################################################################################\n\nSynchronous deployment creation for uid: '3142ff00-abbb-45c2-83c2-63a3e6d5b8bd' started\n\n#######################################################################################\n\n\nINITIALIZING\nDEPLOY_IN_PROGRESS......\nDEPLOY_SUCCESS\n\n\n------------------------------------------------------------------------------------------------\nSuccessfully finished deployment creation, deployment_uid='3142ff00-abbb-45c2-83c2-63a3e6d5b8bd'\n------------------------------------------------------------------------------------------------\n\n\n"
                }
            ], 
            "source": "model_uid = client.repository.get_model_uid(model_details)\nmodel_deployment = client.deployments.create(model_uid, \"Sample SPSS model deployment\")"
        }, 
        {
            "source": "Now you can check your deployments details.", 
            "cell_type": "markdown", 
            "metadata": {}
        }, 
        {
            "execution_count": 18, 
            "cell_type": "code", 
            "metadata": {}, 
            "outputs": [
                {
                    "output_type": "stream", 
                    "name": "stdout", 
                    "text": "{'metadata': {'created_at': '2018-03-28T13:11:41.657Z', 'url': 'https://ibm-watson-ml.mybluemix.net/v3/wml_instances/3f6e5c2b-4880-46aa-9d79-62e90ccc9d56/published_models/5bcf67ab-cd88-49c9-99fd-99dde60eff70/deployments/0208ad3b-a869-49ff-a15f-51667143aed8', 'modified_at': '2018-03-28T13:11:41.921Z', 'guid': '0208ad3b-a869-49ff-a15f-51667143aed8'}, 'entity': {'published_model': {'author': {'email': 'ibm@ibm.com', 'name': 'IBM'}, 'url': 'https://ibm-watson-ml.mybluemix.net/v3/wml_instances/3f6e5c2b-4880-46aa-9d79-62e90ccc9d56/published_models/5bcf67ab-cd88-49c9-99fd-99dde60eff70', 'guid': '5bcf67ab-cd88-49c9-99fd-99dde60eff70', 'created_at': '2018-03-28T13:11:41.633Z', 'name': 'SPSS model for Churn prediction'}, 'scoring_url': 'https://ibm-watson-ml.mybluemix.net/v3/wml_instances/3f6e5c2b-4880-46aa-9d79-62e90ccc9d56/published_models/5bcf67ab-cd88-49c9-99fd-99dde60eff70/deployments/0208ad3b-a869-49ff-a15f-51667143aed8/online', 'status_details': {'status': 'DEPLOY_SUCCESS'}, 'status': 'DEPLOY_SUCCESS', 'runtime_environment': 'None Provided', 'type': 'online', 'deployed_version': {'url': 'https://ibm-watson-ml.mybluemix.net/v3/ml_assets/models/5bcf67ab-cd88-49c9-99fd-99dde60eff70/versions/6c1c744c-9e11-499f-add1-86ccc09ec590', 'guid': '6c1c744c-9e11-499f-add1-86ccc09ec590'}, 'model_type': 'spss-modeler-17.1', 'description': 'Model deployment', 'name': 'Sample SPSS model deployment'}}\n"
                }
            ], 
            "source": "deployment_uid = client.deployments.get_uid(model_deployment)\nprint(client.deployments.get_details(deployment_uid))"
        }, 
        {
            "source": "### 3.2: Scoring", 
            "cell_type": "markdown", 
            "metadata": {}
        }, 
        {
            "source": "You can get `scoring_url` for your deployed model using commands below.", 
            "cell_type": "markdown", 
            "metadata": {}
        }, 
        {
            "execution_count": 19, 
            "cell_type": "code", 
            "metadata": {}, 
            "outputs": [
                {
                    "output_type": "stream", 
                    "name": "stdout", 
                    "text": "https://ibm-watson-ml.mybluemix.net/v3/wml_instances/3f6e5c2b-4880-46aa-9d79-62e90ccc9d56/published_models/5bcf67ab-cd88-49c9-99fd-99dde60eff70/deployments/0208ad3b-a869-49ff-a15f-51667143aed8/online\n"
                }
            ], 
            "source": "scoring_url = client.deployments.get_scoring_url(model_deployment)\nprint(scoring_url)"
        }, 
        {
            "source": "You can score data using client `score` method.", 
            "cell_type": "markdown", 
            "metadata": {}
        }, 
        {
            "execution_count": 20, 
            "cell_type": "code", 
            "metadata": {}, 
            "outputs": [
                {
                    "output_type": "stream", 
                    "name": "stdout", 
                    "text": "{'fields': ['customerID', 'Churn', 'Predicted Churn', 'Probability of Churn'], 'values': [['3638-WEABW', 'No', 'No', 0.0526309571556145]]}\n"
                }
            ], 
            "source": "scoring_payload = {\"fields\":[\"customerID\",\"gender\",\"SeniorCitizen\",\"Partner\",\"Dependents\",\"tenure\",\"PhoneService\",\"MultipleLines\",\"InternetService\",\"OnlineSecurity\",\"OnlineBackup\",\"DeviceProtection\",\"TechSupport\",\"StreamingTV\",\"StreamingMovies\",\"Contract\",\"PaperlessBilling\",\"PaymentMethod\",\"MonthlyCharges\",\"TotalCharges\",\"Churn\",\"SampleWeight\"],\"values\":[[\"3638-WEABW\",\"Female\",0,\"Yes\",\"No\",58,\"Yes\",\"Yes\",\"DSL\",\"No\",\"Yes\",\"No\",\"Yes\",\"No\",\"No\",\"Two year\",\"Yes\",\"Credit card (automatic)\",59.9,3505.1,\"No\",2.768]]}\nprediction = client.deployments.score(scoring_url, scoring_payload)\n\nprint(prediction)"
        }, 
        {
            "source": "As we can see this sample telco customer is satisfied (\"Predicted Churn\", \"No\").", 
            "cell_type": "markdown", 
            "metadata": {}
        }, 
        {
            "source": "<a id=\"summary\"></a>\n## 7. Summary and next steps     ", 
            "cell_type": "markdown", 
            "metadata": {
                "collapsed": true
            }
        }, 
        {
            "source": " You successfully completed this notebook! You learned how to use Watson Machine Learning for SPSS model deployment and scoring. Check out our _[Online Documentation](https://console.ng.bluemix.net/docs/services/PredictiveModeling/index.html?pos=2)_ for more samples, tutorials, documentation, how-tos, and blog posts. ", 
            "cell_type": "markdown", 
            "metadata": {
                "collapsed": true
            }
        }, 
        {
            "source": "### Authors\n\nLukasz Cmielowski, PhD, is a Automation Architect and Data Scientist in IBM with a track record of developing enterprise-level applications that substantially increases clients' ability to turn data into actionable knowledge.", 
            "cell_type": "markdown", 
            "metadata": {}
        }, 
        {
            "source": "Copyright \u00a9 2017 IBM. This notebook and its source code are released under the terms of the MIT License.", 
            "cell_type": "markdown", 
            "metadata": {}
        }
    ], 
    "metadata": {
        "kernelspec": {
            "display_name": "Python 3.5", 
            "name": "python3", 
            "language": "python"
        }, 
        "language_info": {
            "mimetype": "text/x-python", 
            "nbconvert_exporter": "python", 
            "version": "3.5.4", 
            "name": "python", 
            "file_extension": ".py", 
            "pygments_lexer": "ipython3", 
            "codemirror_mode": {
                "version": 3, 
                "name": "ipython"
            }
        }
    }, 
    "nbformat": 4
}