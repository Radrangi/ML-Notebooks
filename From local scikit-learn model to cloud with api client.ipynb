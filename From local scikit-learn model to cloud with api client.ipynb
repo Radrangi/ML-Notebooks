{
    "nbformat_minor": 1, 
    "metadata": {
        "language_info": {
            "pygments_lexer": "ipython3", 
            "name": "python", 
            "version": "3.5.2", 
            "file_extension": ".py", 
            "nbconvert_exporter": "python", 
            "mimetype": "text/x-python", 
            "codemirror_mode": {
                "name": "ipython", 
                "version": 3
            }
        }, 
        "kernelspec": {
            "language": "python", 
            "name": "python3-spark21", 
            "display_name": "Python 3.5 (Experimental) with Spark 2.1"
        }
    }, 
    "nbformat": 4, 
    "cells": [
        {
            "source": "<table style=\"border: none\" align=\"left\">\n   <tr style=\"border: none\">\n      <th style=\"border: none\"><font face=\"verdana\" size=\"5\" color=\"black\"><b>From local scikit-learn model to cloud with watson machine learning client</b></th>\n      <th style=\"border: none\"><img src=\"https://github.com/pmservice/customer-satisfaction-prediction/blob/master/app/static/images/ml_icon_gray.png?raw=true\" alt=\"Watson Machine Learning icon\" height=\"40\" width=\"40\"></th>\n   </tr>\n   <tr style=\"border: none\">\n       <th style=\"border: none\"><img src=\"https://github.com/pmservice/wml-sample-models/raw/master/scikit-learn/hand-written-digits-recognition/images/numbers_banner-04.png\" width=\"600\" alt=\"Icon\"> </th>\n   </tr>\n</table>", 
            "metadata": {}, 
            "cell_type": "markdown"
        }, 
        {
            "source": "This notebook contains steps and code to work with [watson-machine-learning-client](https://pypi.python.org/pypi/watson-machine-learning-client) library available in PyPI repository. This notebook introduces commands for getting data and for basic data exploration, pipeline creation, model training and evaluation, model persistance to Watson Machine Learning repository, model deployment, and scoring.\n\nSome familiarity with Python is helpful. This notebook uses Python 3.5, scikit-learn, watson-machine-learning-client package.\n\nYou will use a toy dataset available in scikit-learn, **sklearn.datasets.load_digits**, which contains hand-written digits images. Use the toy dataset to recognize hand-written digits.\n\n## Learning goals\n\nThe learning goals of this notebook are:\n\n-  Load a sample dataset from scikit-learn.\n-  Explore data.\n-  Prepare data for training and evaluation.\n-  Create Scikit-learn machine learning pipeline.\n-  Train and evaluate a model.\n-  Persist a model in Watson Machine Learning repository.\n-  Deploy model for online scoring using client library.\n-  Score sample records using client library.\n\n\n## Contents\n\nThis notebook contains the following parts:\n\n1.\t[Setup](#setup)\n2.\t[Load and explore data](#load)\n3.\t[Create scikit-learn model](#model)\n4.\t[Persist model](#persistence)\n5.\t[Deploy and score in a Cloud](#scoring)\n6.\t[Summary and next steps](#summary)", 
            "metadata": {}, 
            "cell_type": "markdown"
        }, 
        {
            "source": "<a id=\"setup\"></a>\n## 1. Setup\n\nBefore you use the sample code in this notebook, you must perform the following setup task:\n\n-  Create a [Watson Machine Learning Service](https://console.ng.bluemix.net/catalog/services/ibm-watson-machine-learning/) instance (a free plan is offered). \n- Configure local python environment\n  + python 3.5\n  + scikit-learn 0.17.1\n  + xgboost 0.6 (here not used dependency)\n  + watson-machine-learning-client", 
            "metadata": {}, 
            "cell_type": "markdown"
        }, 
        {
            "source": "**Tip**: You can install libraries from [PyPI](https://pypi.python.org/pypi) running cell below.", 
            "metadata": {}, 
            "cell_type": "markdown"
        }, 
        {
            "execution_count": 1, 
            "outputs": [
                {
                    "name": "stdout", 
                    "output_type": "stream", 
                    "text": "Requirement already up-to-date: watson-machine-learning-client in /gpfs/global_fs01/sym_shared/YPProdSpark/user/sec7-2ac43fd194bc9a-8ef090487f81/.local/lib/python3.5/site-packages\nRequirement already up-to-date: lomond in /gpfs/global_fs01/sym_shared/YPProdSpark/user/sec7-2ac43fd194bc9a-8ef090487f81/.local/lib/python3.5/site-packages (from watson-machine-learning-client)\nRequirement already up-to-date: tabulate in /gpfs/global_fs01/sym_shared/YPProdSpark/user/sec7-2ac43fd194bc9a-8ef090487f81/.local/lib/python3.5/site-packages (from watson-machine-learning-client)\nRequirement already up-to-date: tqdm in /gpfs/global_fs01/sym_shared/YPProdSpark/user/sec7-2ac43fd194bc9a-8ef090487f81/.local/lib/python3.5/site-packages (from watson-machine-learning-client)\nRequirement already up-to-date: requests in /gpfs/global_fs01/sym_shared/YPProdSpark/user/sec7-2ac43fd194bc9a-8ef090487f81/.local/lib/python3.5/site-packages (from watson-machine-learning-client)\nRequirement already up-to-date: urllib3 in /gpfs/global_fs01/sym_shared/YPProdSpark/user/sec7-2ac43fd194bc9a-8ef090487f81/.local/lib/python3.5/site-packages (from watson-machine-learning-client)\nRequirement already up-to-date: certifi in /gpfs/global_fs01/sym_shared/YPProdSpark/user/sec7-2ac43fd194bc9a-8ef090487f81/.local/lib/python3.5/site-packages (from watson-machine-learning-client)\nRequirement already up-to-date: pandas in /gpfs/global_fs01/sym_shared/YPProdSpark/user/sec7-2ac43fd194bc9a-8ef090487f81/.local/lib/python3.5/site-packages (from watson-machine-learning-client)\nRequirement already up-to-date: six>=1.10.0 in /gpfs/global_fs01/sym_shared/YPProdSpark/user/sec7-2ac43fd194bc9a-8ef090487f81/.local/lib/python3.5/site-packages (from lomond->watson-machine-learning-client)\nRequirement already up-to-date: chardet<3.1.0,>=3.0.2 in /gpfs/global_fs01/sym_shared/YPProdSpark/user/sec7-2ac43fd194bc9a-8ef090487f81/.local/lib/python3.5/site-packages (from requests->watson-machine-learning-client)\nRequirement already up-to-date: idna<2.7,>=2.5 in /gpfs/global_fs01/sym_shared/YPProdSpark/user/sec7-2ac43fd194bc9a-8ef090487f81/.local/lib/python3.5/site-packages (from requests->watson-machine-learning-client)\nRequirement already up-to-date: python-dateutil>=2 in /gpfs/global_fs01/sym_shared/YPProdSpark/user/sec7-2ac43fd194bc9a-8ef090487f81/.local/lib/python3.5/site-packages (from pandas->watson-machine-learning-client)\nRequirement already up-to-date: numpy>=1.9.0 in /gpfs/global_fs01/sym_shared/YPProdSpark/user/sec7-2ac43fd194bc9a-8ef090487f81/.local/lib/python3.5/site-packages (from pandas->watson-machine-learning-client)\nRequirement already up-to-date: pytz>=2011k in /gpfs/global_fs01/sym_shared/YPProdSpark/user/sec7-2ac43fd194bc9a-8ef090487f81/.local/lib/python3.5/site-packages (from pandas->watson-machine-learning-client)\n"
                }
            ], 
            "source": "!pip install watson-machine-learning-client --upgrade", 
            "metadata": {}, 
            "cell_type": "code"
        }, 
        {
            "source": "<a id=\"load\"></a>\n## 2. Load and explore data", 
            "metadata": {}, 
            "cell_type": "markdown"
        }, 
        {
            "source": "In this section you will load the data from scikit-learn sample datasets and perform a basic exploration.", 
            "metadata": {}, 
            "cell_type": "markdown"
        }, 
        {
            "execution_count": 2, 
            "outputs": [], 
            "source": "import sklearn\nfrom sklearn import datasets\n\ndigits = datasets.load_digits()", 
            "metadata": {}, 
            "cell_type": "code"
        }, 
        {
            "source": "Loaded toy dataset consists of 8x8 pixels images of hand-written digits.", 
            "metadata": {}, 
            "cell_type": "markdown"
        }, 
        {
            "source": "Let's display first digit data and label using **data** and **target**.", 
            "metadata": {}, 
            "cell_type": "markdown"
        }, 
        {
            "execution_count": 3, 
            "outputs": [
                {
                    "name": "stdout", 
                    "output_type": "stream", 
                    "text": "[[ 0.  0.  5. 13.  9.  1.  0.  0.]\n [ 0.  0. 13. 15. 10. 15.  5.  0.]\n [ 0.  3. 15.  2.  0. 11.  8.  0.]\n [ 0.  4. 12.  0.  0.  8.  8.  0.]\n [ 0.  5.  8.  0.  0.  9.  8.  0.]\n [ 0.  4. 11.  0.  1. 12.  7.  0.]\n [ 0.  2. 14.  5. 10. 12.  0.  0.]\n [ 0.  0.  6. 13. 10.  0.  0.  0.]]\n"
                }
            ], 
            "source": "print(digits.data[0].reshape((8, 8)))", 
            "metadata": {}, 
            "cell_type": "code"
        }, 
        {
            "execution_count": 4, 
            "outputs": [
                {
                    "execution_count": 4, 
                    "output_type": "execute_result", 
                    "data": {
                        "text/plain": "0"
                    }, 
                    "metadata": {}
                }
            ], 
            "source": "digits.target[0]", 
            "metadata": {}, 
            "cell_type": "code"
        }, 
        {
            "source": "In next step you will count data examples.", 
            "metadata": {}, 
            "cell_type": "markdown"
        }, 
        {
            "execution_count": 5, 
            "outputs": [
                {
                    "name": "stdout", 
                    "output_type": "stream", 
                    "text": "Number of samples: 1797\n"
                }
            ], 
            "source": "samples_count = len(digits.images)\n\nprint(\"Number of samples: \" + str(samples_count))", 
            "metadata": {}, 
            "cell_type": "code"
        }, 
        {
            "source": "<a id=\"model\"></a>\n## 3. Create a Scikit-learn model\n\nIn this section you will learn how to prepare data, create a Scikit-learn machine learning pipeline, and train a model.", 
            "metadata": {}, 
            "cell_type": "markdown"
        }, 
        {
            "source": "### 3.1: Prepare data\n\nIn this subsection you will split your data into: train, test, and score datasets.", 
            "metadata": {}, 
            "cell_type": "markdown"
        }, 
        {
            "execution_count": 6, 
            "outputs": [
                {
                    "name": "stdout", 
                    "output_type": "stream", 
                    "text": "Number of training records: 1257\nNumber of testing records : 360\nNumber of scoring records : 180\n"
                }
            ], 
            "source": "train_data = digits.data[: int(0.7*samples_count)]\ntrain_labels = digits.target[: int(0.7*samples_count)]\n\ntest_data = digits.data[int(0.7*samples_count): int(0.9*samples_count)]\ntest_labels = digits.target[int(0.7*samples_count): int(0.9*samples_count)]\n\nscore_data = digits.data[int(0.9*samples_count): ]\n\nprint(\"Number of training records: \" + str(len(train_data)))\nprint(\"Number of testing records : \" + str(len(test_data)))\nprint(\"Number of scoring records : \" + str(len(score_data)))", 
            "metadata": {}, 
            "cell_type": "code"
        }, 
        {
            "source": "As you can see our data has been successfully split into three datasets: \n\n-  The train data set, which is the largest group, is used for training.\n-  The test data set will be used for model evaluation and is used to test the assumptions of the model.\n-  The score data set will be used for scoring in Cloud.", 
            "metadata": {}, 
            "cell_type": "markdown"
        }, 
        {
            "source": "### 3.2: Create pipeline and train a model", 
            "metadata": {}, 
            "cell_type": "markdown"
        }, 
        {
            "source": "In this section you will create scikit-learn machine learning pipeline and then train the model.", 
            "metadata": {}, 
            "cell_type": "markdown"
        }, 
        {
            "source": "In the first step you need to import the scikit-learn machine learning packages that will be needed in the subsequent steps.", 
            "metadata": {}, 
            "cell_type": "markdown"
        }, 
        {
            "execution_count": 7, 
            "outputs": [], 
            "source": "from sklearn.pipeline import Pipeline\nfrom sklearn import preprocessing\nfrom sklearn import svm, metrics", 
            "metadata": {}, 
            "cell_type": "code"
        }, 
        {
            "source": "Standardize features by removing the mean and scaling to unit variance.", 
            "metadata": {}, 
            "cell_type": "markdown"
        }, 
        {
            "execution_count": 8, 
            "outputs": [], 
            "source": "scaler = preprocessing.StandardScaler()", 
            "metadata": {}, 
            "cell_type": "code"
        }, 
        {
            "source": "Next, define estimators you want to use for classification. Support Vector Machines (SVM) with radial basis function as kernel is used in the following example.", 
            "metadata": {}, 
            "cell_type": "markdown"
        }, 
        {
            "execution_count": 9, 
            "outputs": [], 
            "source": "clf = svm.SVC(kernel='rbf')", 
            "metadata": {}, 
            "cell_type": "code"
        }, 
        {
            "source": "Let's build the pipeline now. A pipeline consists of transformer and an estimator.", 
            "metadata": {}, 
            "cell_type": "markdown"
        }, 
        {
            "execution_count": 10, 
            "outputs": [], 
            "source": "pipeline = Pipeline([('scaler', scaler), ('svc', clf)])", 
            "metadata": {}, 
            "cell_type": "code"
        }, 
        {
            "source": "Now, you can train your SVM model by using the previously defined **pipeline** and **train data**.", 
            "metadata": {}, 
            "cell_type": "markdown"
        }, 
        {
            "execution_count": 11, 
            "outputs": [], 
            "source": "model = pipeline.fit(train_data, train_labels)", 
            "metadata": {}, 
            "cell_type": "code"
        }, 
        {
            "source": "You can check your **model quality** now. To evaluate the model, use **test data**.", 
            "metadata": {}, 
            "cell_type": "markdown"
        }, 
        {
            "execution_count": 12, 
            "outputs": [
                {
                    "name": "stdout", 
                    "output_type": "stream", 
                    "text": "Evaluation report: \n\n             precision    recall  f1-score   support\n\n          0       1.00      0.97      0.99        37\n          1       0.97      0.97      0.97        34\n          2       1.00      0.97      0.99        36\n          3       1.00      0.94      0.97        35\n          4       0.78      0.97      0.87        37\n          5       0.97      0.97      0.97        38\n          6       0.97      0.86      0.91        36\n          7       0.92      0.97      0.94        35\n          8       0.91      0.89      0.90        35\n          9       0.97      0.92      0.94        37\n\navg / total       0.95      0.94      0.95       360\n\n"
                }
            ], 
            "source": "predicted = model.predict(test_data)\n\nprint(\"Evaluation report: \\n\\n%s\" % metrics.classification_report(test_labels, predicted))", 
            "metadata": {}, 
            "cell_type": "code"
        }, 
        {
            "source": "You can tune your model now to achieve better accuracy. For simplicity of this example tuning section is omitted.", 
            "metadata": {
                "collapsed": true
            }, 
            "cell_type": "markdown"
        }, 
        {
            "source": "<a id=\"persistence\"></a>\n## 4. Persist model", 
            "metadata": {
                "collapsed": true
            }, 
            "cell_type": "markdown"
        }, 
        {
            "source": "In this section you will learn how to store your model in Watson Machine Learning repository by using commont python client.", 
            "metadata": {}, 
            "cell_type": "markdown"
        }, 
        {
            "source": "**Tip**: You can check documentation for watson-machine-learning-client either by visiting [documentation webpage](https://wml-api-pyclient.mybluemix.net) or running below code.", 
            "metadata": {}, 
            "cell_type": "markdown"
        }, 
        {
            "source": "from IPython.display import IFrame\n\nIFrame('https://wml-api-pyclient.mybluemix.net', width='100%', height=400)", 
            "metadata": {}, 
            "cell_type": "raw"
        }, 
        {
            "source": "### 4.1: Work with your instance", 
            "metadata": {}, 
            "cell_type": "markdown"
        }, 
        {
            "source": "First, you must import client libraries.", 
            "metadata": {
                "collapsed": true
            }, 
            "cell_type": "markdown"
        }, 
        {
            "execution_count": 13, 
            "outputs": [], 
            "source": "from watson_machine_learning_client import WatsonMachineLearningAPIClient", 
            "metadata": {}, 
            "cell_type": "code"
        }, 
        {
            "source": "Authenticate to Watson Machine Learning service on IBM Cloud.", 
            "metadata": {
                "collapsed": true
            }, 
            "cell_type": "markdown"
        }, 
        {
            "source": "**Action**: Put authentication information from your instance of Watson Machine Learning service here.</div>", 
            "metadata": {}, 
            "cell_type": "markdown"
        }, 
        {
            "execution_count": 14, 
            "outputs": [], 
            "source": "wml_credentials={\n  \"url\": \"https://ibm-watson-ml.mybluemix.net\",\n  \"access_key\": \"****\",\n  \"username\": \"****\",\n  \"password\": \"****\",\n  \"instance_id\": \"****\"\n}", 
            "metadata": {}, 
            "cell_type": "code"
        }, 
        {
            "source": "**Tip**: Authentication information can be found on **Service Credentials** tab of service instance created on IBM  Cloud. <BR>If you cannot see **instance_id** field in **Serice Credentials** generate new credentials by pressing **New credential (+)** button. ", 
            "metadata": {
                "collapsed": true
            }, 
            "cell_type": "markdown"
        }, 
        {
            "source": "#### Create API client by running below code.", 
            "metadata": {}, 
            "cell_type": "markdown"
        }, 
        {
            "execution_count": 15, 
            "outputs": [], 
            "source": "client = WatsonMachineLearningAPIClient(wml_credentials)", 
            "metadata": {}, 
            "cell_type": "code"
        }, 
        {
            "source": "#### Get instance details.", 
            "metadata": {}, 
            "cell_type": "markdown"
        }, 
        {
            "execution_count": 16, 
            "outputs": [
                {
                    "name": "stdout", 
                    "output_type": "stream", 
                    "text": "{\n  \"metadata\": {\n    \"created_at\": \"2018-01-30T10:39:51.938Z\",\n    \"url\": \"https://ibm-watson-ml.mybluemix.net/v3/wml_instances/fd1db635-c9f3-4d83-afc7-32efec367e5e\",\n    \"modified_at\": \"2018-01-31T11:50:25.659Z\",\n    \"guid\": \"fd1db635-c9f3-4d83-afc7-32efec367e5e\"\n  },\n  \"entity\": {\n    \"region\": \"us-south\",\n    \"account\": {\n      \"id\": \"8dba8395f5b8dc6fcab49d43161ab9f1\",\n      \"type\": \"TRIAL\",\n      \"name\": \"Wojciech Sobala's Account\"\n    },\n    \"deployments\": {\n      \"url\": \"https://ibm-watson-ml.mybluemix.net/v3/wml_instances/fd1db635-c9f3-4d83-afc7-32efec367e5e/deployments\"\n    },\n    \"source\": \"Bluemix\",\n    \"status\": \"Active\",\n    \"plan_id\": \"0f2a3c2c-456b-40f3-9b19-726d2740b11c\",\n    \"published_models\": {\n      \"url\": \"https://ibm-watson-ml.mybluemix.net/v3/wml_instances/fd1db635-c9f3-4d83-afc7-32efec367e5e/published_models\"\n    },\n    \"organization_guid\": \"a7b3ef43-5dc2-41fc-8fa7-29b0846e5807\",\n    \"plan\": \"standard\",\n    \"space_guid\": \"a6b628f9-3f64-45c0-bf38-739876b63fec\",\n    \"usage\": {\n      \"deployment_count\": {\n        \"current\": 3,\n        \"limit\": 1000\n      },\n      \"expiration_date\": \"2018-02-01T00:00:00.000Z\",\n      \"computation_time\": {\n        \"current\": 0\n      },\n      \"prediction_count\": {\n        \"current\": 4\n      },\n      \"model_count\": {\n        \"current\": 0,\n        \"limit\": 1000\n      }\n    },\n    \"owner\": {\n      \"country_code\": \"POL\",\n      \"ibm_id\": \"3100020VJR\",\n      \"beta_user\": true,\n      \"user_id\": \"1c54455e-c23b-4506-b184-27494b507536\",\n      \"email\": \"wojciech.sobala@pl.ibm.com\"\n    }\n  }\n}\n"
                }
            ], 
            "source": "import json\n\ninstance_details = client.service_instance.get_details()\nprint(json.dumps(instance_details, indent=2))", 
            "metadata": {}, 
            "cell_type": "code"
        }, 
        {
            "source": "### 4.2: Publish model", 
            "metadata": {}, 
            "cell_type": "markdown"
        }, 
        {
            "source": "#### Publish model in Watson Machine Learning repository on Cloud.", 
            "metadata": {}, 
            "cell_type": "markdown"
        }, 
        {
            "source": "Define model name, autor name and email.", 
            "metadata": {}, 
            "cell_type": "markdown"
        }, 
        {
            "execution_count": 19, 
            "outputs": [], 
            "source": "model_props = {client.repository.ModelMetaNames.AUTHOR_NAME: \"IBM\", \n               client.repository.ModelMetaNames.AUTHOR_EMAIL: \"ibm@ibm.com\",\n               client.repository.ModelMetaNames.NAME: \"LOCALLY created Digits prediction model\"}", 
            "metadata": {}, 
            "cell_type": "code"
        }, 
        {
            "execution_count": 20, 
            "outputs": [], 
            "source": "published_model = client.repository.store_model(model=model, meta_props=model_props, \\\n                                                training_data=train_data, training_target=train_labels)", 
            "metadata": {}, 
            "cell_type": "code"
        }, 
        {
            "source": "### 4.3: Get model details", 
            "metadata": {}, 
            "cell_type": "markdown"
        }, 
        {
            "execution_count": 21, 
            "outputs": [
                {
                    "name": "stdout", 
                    "output_type": "stream", 
                    "text": "{\n  \"metadata\": {\n    \"created_at\": \"2018-01-31T12:11:03.446Z\",\n    \"url\": \"https://ibm-watson-ml.mybluemix.net/v3/wml_instances/fd1db635-c9f3-4d83-afc7-32efec367e5e/published_models/844087b1-ba8d-484d-acfe-7dfc132df858\",\n    \"modified_at\": \"2018-01-31T12:11:03.515Z\",\n    \"guid\": \"844087b1-ba8d-484d-acfe-7dfc132df858\"\n  },\n  \"entity\": {\n    \"latest_version\": {\n      \"created_at\": \"2018-01-31T12:11:03.515Z\",\n      \"url\": \"https://ibm-watson-ml.mybluemix.net/v3/ml_assets/models/844087b1-ba8d-484d-acfe-7dfc132df858/versions/fed3e784-8b83-4cca-9688-154fdb202241\",\n      \"guid\": \"fed3e784-8b83-4cca-9688-154fdb202241\"\n    },\n    \"runtime_environment\": \"python-3.5\",\n    \"name\": \"LOCALLY created Digits prediction model\",\n    \"learning_configuration_url\": \"https://ibm-watson-ml.mybluemix.net/v3/wml_instances/fd1db635-c9f3-4d83-afc7-32efec367e5e/published_models/844087b1-ba8d-484d-acfe-7dfc132df858/learning_configuration\",\n    \"model_type\": \"scikit-learn-0.17\",\n    \"input_data_schema\": {\n      \"features\": {\n        \"fields\": [\n          {\n            \"type\": \"float\",\n            \"name\": \"f0\"\n          },\n          {\n            \"type\": \"float\",\n            \"name\": \"f1\"\n          },\n          {\n            \"type\": \"float\",\n            \"name\": \"f2\"\n          },\n          {\n            \"type\": \"float\",\n            \"name\": \"f3\"\n          },\n          {\n            \"type\": \"float\",\n            \"name\": \"f4\"\n          },\n          {\n            \"type\": \"float\",\n            \"name\": \"f5\"\n          },\n          {\n            \"type\": \"float\",\n            \"name\": \"f6\"\n          },\n          {\n            \"type\": \"float\",\n            \"name\": \"f7\"\n          },\n          {\n            \"type\": \"float\",\n            \"name\": \"f8\"\n          },\n          {\n            \"type\": \"float\",\n            \"name\": \"f9\"\n          },\n          {\n            \"type\": \"float\",\n            \"name\": \"f10\"\n          },\n          {\n            \"type\": \"float\",\n            \"name\": \"f11\"\n          },\n          {\n            \"type\": \"float\",\n            \"name\": \"f12\"\n          },\n          {\n            \"type\": \"float\",\n            \"name\": \"f13\"\n          },\n          {\n            \"type\": \"float\",\n            \"name\": \"f14\"\n          },\n          {\n            \"type\": \"float\",\n            \"name\": \"f15\"\n          },\n          {\n            \"type\": \"float\",\n            \"name\": \"f16\"\n          },\n          {\n            \"type\": \"float\",\n            \"name\": \"f17\"\n          },\n          {\n            \"type\": \"float\",\n            \"name\": \"f18\"\n          },\n          {\n            \"type\": \"float\",\n            \"name\": \"f19\"\n          },\n          {\n            \"type\": \"float\",\n            \"name\": \"f20\"\n          },\n          {\n            \"type\": \"float\",\n            \"name\": \"f21\"\n          },\n          {\n            \"type\": \"float\",\n            \"name\": \"f22\"\n          },\n          {\n            \"type\": \"float\",\n            \"name\": \"f23\"\n          },\n          {\n            \"type\": \"float\",\n            \"name\": \"f24\"\n          },\n          {\n            \"type\": \"float\",\n            \"name\": \"f25\"\n          },\n          {\n            \"type\": \"float\",\n            \"name\": \"f26\"\n          },\n          {\n            \"type\": \"float\",\n            \"name\": \"f27\"\n          },\n          {\n            \"type\": \"float\",\n            \"name\": \"f28\"\n          },\n          {\n            \"type\": \"float\",\n            \"name\": \"f29\"\n          },\n          {\n            \"type\": \"float\",\n            \"name\": \"f30\"\n          },\n          {\n            \"type\": \"float\",\n            \"name\": \"f31\"\n          },\n          {\n            \"type\": \"float\",\n            \"name\": \"f32\"\n          },\n          {\n            \"type\": \"float\",\n            \"name\": \"f33\"\n          },\n          {\n            \"type\": \"float\",\n            \"name\": \"f34\"\n          },\n          {\n            \"type\": \"float\",\n            \"name\": \"f35\"\n          },\n          {\n            \"type\": \"float\",\n            \"name\": \"f36\"\n          },\n          {\n            \"type\": \"float\",\n            \"name\": \"f37\"\n          },\n          {\n            \"type\": \"float\",\n            \"name\": \"f38\"\n          },\n          {\n            \"type\": \"float\",\n            \"name\": \"f39\"\n          },\n          {\n            \"type\": \"float\",\n            \"name\": \"f40\"\n          },\n          {\n            \"type\": \"float\",\n            \"name\": \"f41\"\n          },\n          {\n            \"type\": \"float\",\n            \"name\": \"f42\"\n          },\n          {\n            \"type\": \"float\",\n            \"name\": \"f43\"\n          },\n          {\n            \"type\": \"float\",\n            \"name\": \"f44\"\n          },\n          {\n            \"type\": \"float\",\n            \"name\": \"f45\"\n          },\n          {\n            \"type\": \"float\",\n            \"name\": \"f46\"\n          },\n          {\n            \"type\": \"float\",\n            \"name\": \"f47\"\n          },\n          {\n            \"type\": \"float\",\n            \"name\": \"f48\"\n          },\n          {\n            \"type\": \"float\",\n            \"name\": \"f49\"\n          },\n          {\n            \"type\": \"float\",\n            \"name\": \"f50\"\n          },\n          {\n            \"type\": \"float\",\n            \"name\": \"f51\"\n          },\n          {\n            \"type\": \"float\",\n            \"name\": \"f52\"\n          },\n          {\n            \"type\": \"float\",\n            \"name\": \"f53\"\n          },\n          {\n            \"type\": \"float\",\n            \"name\": \"f54\"\n          },\n          {\n            \"type\": \"float\",\n            \"name\": \"f55\"\n          },\n          {\n            \"type\": \"float\",\n            \"name\": \"f56\"\n          },\n          {\n            \"type\": \"float\",\n            \"name\": \"f57\"\n          },\n          {\n            \"type\": \"float\",\n            \"name\": \"f58\"\n          },\n          {\n            \"type\": \"float\",\n            \"name\": \"f59\"\n          },\n          {\n            \"type\": \"float\",\n            \"name\": \"f60\"\n          },\n          {\n            \"type\": \"float\",\n            \"name\": \"f61\"\n          },\n          {\n            \"type\": \"float\",\n            \"name\": \"f62\"\n          },\n          {\n            \"type\": \"float\",\n            \"name\": \"f63\"\n          }\n        ],\n        \"type\": \"ndarray\"\n      },\n      \"labels\": {\n        \"fields\": [\n          {\n            \"type\": \"int\",\n            \"name\": \"l1\"\n          }\n        ],\n        \"type\": \"ndarray\"\n      }\n    },\n    \"feedback_url\": \"https://ibm-watson-ml.mybluemix.net/v3/wml_instances/fd1db635-c9f3-4d83-afc7-32efec367e5e/published_models/844087b1-ba8d-484d-acfe-7dfc132df858/feedback\",\n    \"label_col\": \"l1\",\n    \"deployments\": {\n      \"url\": \"https://ibm-watson-ml.mybluemix.net/v3/wml_instances/fd1db635-c9f3-4d83-afc7-32efec367e5e/published_models/844087b1-ba8d-484d-acfe-7dfc132df858/deployments\",\n      \"count\": 0\n    },\n    \"training_data_schema\": {\n      \"features\": {\n        \"fields\": [\n          {\n            \"type\": \"float\",\n            \"name\": \"f0\"\n          },\n          {\n            \"type\": \"float\",\n            \"name\": \"f1\"\n          },\n          {\n            \"type\": \"float\",\n            \"name\": \"f2\"\n          },\n          {\n            \"type\": \"float\",\n            \"name\": \"f3\"\n          },\n          {\n            \"type\": \"float\",\n            \"name\": \"f4\"\n          },\n          {\n            \"type\": \"float\",\n            \"name\": \"f5\"\n          },\n          {\n            \"type\": \"float\",\n            \"name\": \"f6\"\n          },\n          {\n            \"type\": \"float\",\n            \"name\": \"f7\"\n          },\n          {\n            \"type\": \"float\",\n            \"name\": \"f8\"\n          },\n          {\n            \"type\": \"float\",\n            \"name\": \"f9\"\n          },\n          {\n            \"type\": \"float\",\n            \"name\": \"f10\"\n          },\n          {\n            \"type\": \"float\",\n            \"name\": \"f11\"\n          },\n          {\n            \"type\": \"float\",\n            \"name\": \"f12\"\n          },\n          {\n            \"type\": \"float\",\n            \"name\": \"f13\"\n          },\n          {\n            \"type\": \"float\",\n            \"name\": \"f14\"\n          },\n          {\n            \"type\": \"float\",\n            \"name\": \"f15\"\n          },\n          {\n            \"type\": \"float\",\n            \"name\": \"f16\"\n          },\n          {\n            \"type\": \"float\",\n            \"name\": \"f17\"\n          },\n          {\n            \"type\": \"float\",\n            \"name\": \"f18\"\n          },\n          {\n            \"type\": \"float\",\n            \"name\": \"f19\"\n          },\n          {\n            \"type\": \"float\",\n            \"name\": \"f20\"\n          },\n          {\n            \"type\": \"float\",\n            \"name\": \"f21\"\n          },\n          {\n            \"type\": \"float\",\n            \"name\": \"f22\"\n          },\n          {\n            \"type\": \"float\",\n            \"name\": \"f23\"\n          },\n          {\n            \"type\": \"float\",\n            \"name\": \"f24\"\n          },\n          {\n            \"type\": \"float\",\n            \"name\": \"f25\"\n          },\n          {\n            \"type\": \"float\",\n            \"name\": \"f26\"\n          },\n          {\n            \"type\": \"float\",\n            \"name\": \"f27\"\n          },\n          {\n            \"type\": \"float\",\n            \"name\": \"f28\"\n          },\n          {\n            \"type\": \"float\",\n            \"name\": \"f29\"\n          },\n          {\n            \"type\": \"float\",\n            \"name\": \"f30\"\n          },\n          {\n            \"type\": \"float\",\n            \"name\": \"f31\"\n          },\n          {\n            \"type\": \"float\",\n            \"name\": \"f32\"\n          },\n          {\n            \"type\": \"float\",\n            \"name\": \"f33\"\n          },\n          {\n            \"type\": \"float\",\n            \"name\": \"f34\"\n          },\n          {\n            \"type\": \"float\",\n            \"name\": \"f35\"\n          },\n          {\n            \"type\": \"float\",\n            \"name\": \"f36\"\n          },\n          {\n            \"type\": \"float\",\n            \"name\": \"f37\"\n          },\n          {\n            \"type\": \"float\",\n            \"name\": \"f38\"\n          },\n          {\n            \"type\": \"float\",\n            \"name\": \"f39\"\n          },\n          {\n            \"type\": \"float\",\n            \"name\": \"f40\"\n          },\n          {\n            \"type\": \"float\",\n            \"name\": \"f41\"\n          },\n          {\n            \"type\": \"float\",\n            \"name\": \"f42\"\n          },\n          {\n            \"type\": \"float\",\n            \"name\": \"f43\"\n          },\n          {\n            \"type\": \"float\",\n            \"name\": \"f44\"\n          },\n          {\n            \"type\": \"float\",\n            \"name\": \"f45\"\n          },\n          {\n            \"type\": \"float\",\n            \"name\": \"f46\"\n          },\n          {\n            \"type\": \"float\",\n            \"name\": \"f47\"\n          },\n          {\n            \"type\": \"float\",\n            \"name\": \"f48\"\n          },\n          {\n            \"type\": \"float\",\n            \"name\": \"f49\"\n          },\n          {\n            \"type\": \"float\",\n            \"name\": \"f50\"\n          },\n          {\n            \"type\": \"float\",\n            \"name\": \"f51\"\n          },\n          {\n            \"type\": \"float\",\n            \"name\": \"f52\"\n          },\n          {\n            \"type\": \"float\",\n            \"name\": \"f53\"\n          },\n          {\n            \"type\": \"float\",\n            \"name\": \"f54\"\n          },\n          {\n            \"type\": \"float\",\n            \"name\": \"f55\"\n          },\n          {\n            \"type\": \"float\",\n            \"name\": \"f56\"\n          },\n          {\n            \"type\": \"float\",\n            \"name\": \"f57\"\n          },\n          {\n            \"type\": \"float\",\n            \"name\": \"f58\"\n          },\n          {\n            \"type\": \"float\",\n            \"name\": \"f59\"\n          },\n          {\n            \"type\": \"float\",\n            \"name\": \"f60\"\n          },\n          {\n            \"type\": \"float\",\n            \"name\": \"f61\"\n          },\n          {\n            \"type\": \"float\",\n            \"name\": \"f62\"\n          },\n          {\n            \"type\": \"float\",\n            \"name\": \"f63\"\n          }\n        ],\n        \"type\": \"ndarray\"\n      },\n      \"labels\": {\n        \"fields\": [\n          {\n            \"type\": \"int\",\n            \"name\": \"l1\"\n          }\n        ],\n        \"type\": \"ndarray\"\n      }\n    },\n    \"learning_iterations_url\": \"https://ibm-watson-ml.mybluemix.net/v3/wml_instances/fd1db635-c9f3-4d83-afc7-32efec367e5e/published_models/844087b1-ba8d-484d-acfe-7dfc132df858/learning_iterations\",\n    \"evaluation_metrics_url\": \"https://ibm-watson-ml.mybluemix.net/v3/wml_instances/fd1db635-c9f3-4d83-afc7-32efec367e5e/published_models/844087b1-ba8d-484d-acfe-7dfc132df858/evaluation_metrics\",\n    \"author\": {\n      \"email\": \"ibm@ibm.com\",\n      \"name\": \"IBM\"\n    }\n  }\n}\n"
                }
            ], 
            "source": "published_model_uid = client.repository.get_model_uid(published_model)\nmodel_details = client.repository.get_details(published_model_uid)\n\nprint(json.dumps(model_details, indent=2))", 
            "metadata": {}, 
            "cell_type": "code"
        }, 
        {
            "source": "#### Get all models", 
            "metadata": {}, 
            "cell_type": "markdown"
        }, 
        {
            "execution_count": 23, 
            "outputs": [
                {
                    "name": "stdout", 
                    "output_type": "stream", 
                    "text": "------------------------------------  ---------------------------------------  ------------------------  -----------------  -----\nGUID                                  NAME                                     CREATED                   FRAMEWORK          TYPE\n51cdbdea-28ea-488d-9edd-dab2a8c44208  Sentiment Prediction                     2018-01-30T14:15:06.339Z  mllib-2.0          model\nb7e9fc69-f0db-444f-89b4-fe7aa5e8a4f1  Handwritten Digits Recognition           2018-01-30T14:15:24.106Z  scikit-learn-0.17  model\nfae8e498-136e-4c35-81bd-a9a69a50b1c7  CHAID PMML model for Iris data           2018-01-30T14:17:19.921Z  pmml-4.2           model\n22e4cd95-4ede-4fa7-b361-ef9841a0e31f  My cool mnist model                      2018-01-31T10:21:42.501Z  tensorflow-1.2     model\ne4643014-a6c7-45a0-94cd-f52e00f62bf9  My cool mnist model                      2018-01-31T11:48:14.134Z  tensorflow-1.2     model\n844087b1-ba8d-484d-acfe-7dfc132df858  LOCALLY created Digits prediction model  2018-01-31T12:11:03.446Z  scikit-learn-0.17  model\n------------------------------------  ---------------------------------------  ------------------------  -----------------  -----\n"
                }
            ], 
            "source": "models_details = client.repository.list_models()", 
            "metadata": {}, 
            "cell_type": "code"
        }, 
        {
            "source": "### 4.3: Load model", 
            "metadata": {}, 
            "cell_type": "markdown"
        }, 
        {
            "source": "In this subsection you will learn how to load back saved model from specified instance of Watson Machine Learning.", 
            "metadata": {}, 
            "cell_type": "markdown"
        }, 
        {
            "execution_count": 24, 
            "outputs": [], 
            "source": "loaded_model = client.repository.load(published_model_uid)", 
            "metadata": {}, 
            "cell_type": "code"
        }, 
        {
            "source": "You can make predictions to check that model has been loaded correctly.", 
            "metadata": {}, 
            "cell_type": "markdown"
        }, 
        {
            "execution_count": 25, 
            "outputs": [], 
            "source": "test_predictions = loaded_model.predict(test_data[:10])", 
            "metadata": {}, 
            "cell_type": "code"
        }, 
        {
            "execution_count": 26, 
            "outputs": [
                {
                    "name": "stdout", 
                    "output_type": "stream", 
                    "text": "[4 0 5 3 6 9 6 4 7 5]\n"
                }
            ], 
            "source": "print(test_predictions)", 
            "metadata": {}, 
            "cell_type": "code"
        }, 
        {
            "source": "As you can see you are able to make predictions, so model is loaded back correctly. You have already learned how save to and load the model from Watson Machine Learning repository.", 
            "metadata": {}, 
            "cell_type": "markdown"
        }, 
        {
            "source": "### 4.4: Delete model", 
            "metadata": {}, 
            "cell_type": "markdown"
        }, 
        {
            "source": "You can delete published model from Watson Machine Learning repository using below code. The code is commented out at this stage since the model will be needed later for deployment.", 
            "metadata": {}, 
            "cell_type": "markdown"
        }, 
        {
            "execution_count": 27, 
            "outputs": [], 
            "source": "# client.repository.delete(published_model_uid)", 
            "metadata": {}, 
            "cell_type": "code"
        }, 
        {
            "source": "<a id=\"scoring\"></a>\n## 5. Deploy and score in a Cloud", 
            "metadata": {}, 
            "cell_type": "markdown"
        }, 
        {
            "source": "In this section you will learn how to create online scoring and to score a new data record by using the Watson Machine Learning Client.", 
            "metadata": {}, 
            "cell_type": "markdown"
        }, 
        {
            "source": "### 5.1: Create model deployment", 
            "metadata": {}, 
            "cell_type": "markdown"
        }, 
        {
            "source": "#### Create online deployment for published model", 
            "metadata": {}, 
            "cell_type": "markdown"
        }, 
        {
            "execution_count": 28, 
            "outputs": [], 
            "source": "created_deployment = client.deployments.create(published_model_uid, \"Deployment of locally created scikit model\")", 
            "metadata": {}, 
            "cell_type": "code"
        }, 
        {
            "source": "**Note**: Here we use deployment url saved in published_model object. In next section we show how to retrive deployment url from Watson Mchine Learning instance.", 
            "metadata": {}, 
            "cell_type": "markdown"
        }, 
        {
            "source": "Now you can print an online scoring endpoint. ", 
            "metadata": {}, 
            "cell_type": "markdown"
        }, 
        {
            "execution_count": 29, 
            "outputs": [
                {
                    "name": "stdout", 
                    "output_type": "stream", 
                    "text": "https://ibm-watson-ml.mybluemix.net/v3/wml_instances/fd1db635-c9f3-4d83-afc7-32efec367e5e/published_models/844087b1-ba8d-484d-acfe-7dfc132df858/deployments/134f404d-91be-47ad-9524-f8508c1604fe/online\n"
                }
            ], 
            "source": "scoring_endpoint = client.deployments.get_scoring_url(created_deployment)\n\nprint(scoring_endpoint)", 
            "metadata": {}, 
            "cell_type": "code"
        }, 
        {
            "source": "### 5.2: Get deployments", 
            "metadata": {}, 
            "cell_type": "markdown"
        }, 
        {
            "execution_count": 30, 
            "outputs": [
                {
                    "name": "stdout", 
                    "output_type": "stream", 
                    "text": "{\n  \"resources\": [\n    {\n      \"metadata\": {\n        \"created_at\": \"2018-01-30T14:15:59.342Z\",\n        \"url\": \"https://ibm-watson-ml.mybluemix.net/v3/wml_instances/fd1db635-c9f3-4d83-afc7-32efec367e5e/published_models/b7e9fc69-f0db-444f-89b4-fe7aa5e8a4f1/deployments/06faa2cd-e12b-4595-b96d-555d9fae6363\",\n        \"modified_at\": \"2018-01-30T14:16:00.444Z\",\n        \"guid\": \"06faa2cd-e12b-4595-b96d-555d9fae6363\"\n      },\n      \"entity\": {\n        \"scoring_url\": \"https://ibm-watson-ml.mybluemix.net/v3/wml_instances/fd1db635-c9f3-4d83-afc7-32efec367e5e/published_models/b7e9fc69-f0db-444f-89b4-fe7aa5e8a4f1/deployments/06faa2cd-e12b-4595-b96d-555d9fae6363/online\",\n        \"runtime_environment\": \"python-3.5\",\n        \"published_model\": {\n          \"created_at\": \"2018-01-30T14:15:59.307Z\",\n          \"url\": \"https://ibm-watson-ml.mybluemix.net/v3/wml_instances/fd1db635-c9f3-4d83-afc7-32efec367e5e/published_models/b7e9fc69-f0db-444f-89b4-fe7aa5e8a4f1\",\n          \"guid\": \"b7e9fc69-f0db-444f-89b4-fe7aa5e8a4f1\",\n          \"description\": \"This sample model shows how to recognize hand-written digits with IBM Watson Machine Learning.\",\n          \"name\": \"Handwritten Digits Recognition\",\n          \"author\": {\n            \"email\": \"ibm@ibm.com\",\n            \"name\": \"IBM\"\n          }\n        },\n        \"name\": \"Digits recognition\",\n        \"model_type\": \"scikit-learn-0.17\",\n        \"status\": \"ACTIVE\",\n        \"type\": \"online\",\n        \"deployed_version\": {\n          \"url\": \"https://ibm-watson-ml.mybluemix.net/v3/ml_assets/models/b7e9fc69-f0db-444f-89b4-fe7aa5e8a4f1/versions/392adf93-30a0-4d66-b2ad-e223c3abf64b\",\n          \"guid\": \"392adf93-30a0-4d66-b2ad-e223c3abf64b\"\n        }\n      }\n    },\n    {\n      \"metadata\": {\n        \"created_at\": \"2018-01-31T12:13:07.956Z\",\n        \"url\": \"https://ibm-watson-ml.mybluemix.net/v3/wml_instances/fd1db635-c9f3-4d83-afc7-32efec367e5e/published_models/844087b1-ba8d-484d-acfe-7dfc132df858/deployments/134f404d-91be-47ad-9524-f8508c1604fe\",\n        \"modified_at\": \"2018-01-31T12:13:09.178Z\",\n        \"guid\": \"134f404d-91be-47ad-9524-f8508c1604fe\"\n      },\n      \"entity\": {\n        \"scoring_url\": \"https://ibm-watson-ml.mybluemix.net/v3/wml_instances/fd1db635-c9f3-4d83-afc7-32efec367e5e/published_models/844087b1-ba8d-484d-acfe-7dfc132df858/deployments/134f404d-91be-47ad-9524-f8508c1604fe/online\",\n        \"runtime_environment\": \"python-3.5\",\n        \"published_model\": {\n          \"url\": \"https://ibm-watson-ml.mybluemix.net/v3/wml_instances/fd1db635-c9f3-4d83-afc7-32efec367e5e/published_models/844087b1-ba8d-484d-acfe-7dfc132df858\",\n          \"name\": \"LOCALLY created Digits prediction model\",\n          \"author\": {\n            \"email\": \"ibm@ibm.com\",\n            \"name\": \"IBM\"\n          },\n          \"guid\": \"844087b1-ba8d-484d-acfe-7dfc132df858\",\n          \"created_at\": \"2018-01-31T12:13:07.922Z\"\n        },\n        \"name\": \"Deployment of locally created scikit model\",\n        \"description\": \"Model deployment\",\n        \"model_type\": \"scikit-learn-0.17\",\n        \"status\": \"ACTIVE\",\n        \"type\": \"online\",\n        \"deployed_version\": {\n          \"url\": \"https://ibm-watson-ml.mybluemix.net/v3/ml_assets/models/844087b1-ba8d-484d-acfe-7dfc132df858/versions/fed3e784-8b83-4cca-9688-154fdb202241\",\n          \"guid\": \"fed3e784-8b83-4cca-9688-154fdb202241\"\n        }\n      }\n    },\n    {\n      \"metadata\": {\n        \"created_at\": \"2018-01-30T14:17:22.742Z\",\n        \"url\": \"https://ibm-watson-ml.mybluemix.net/v3/wml_instances/fd1db635-c9f3-4d83-afc7-32efec367e5e/published_models/fae8e498-136e-4c35-81bd-a9a69a50b1c7/deployments/56f3501f-844c-4cb7-9bbc-02131da8f6bf\",\n        \"modified_at\": \"2018-01-30T14:17:23.250Z\",\n        \"guid\": \"56f3501f-844c-4cb7-9bbc-02131da8f6bf\"\n      },\n      \"entity\": {\n        \"scoring_url\": \"https://ibm-watson-ml.mybluemix.net/v3/wml_instances/fd1db635-c9f3-4d83-afc7-32efec367e5e/published_models/fae8e498-136e-4c35-81bd-a9a69a50b1c7/deployments/56f3501f-844c-4cb7-9bbc-02131da8f6bf/online\",\n        \"runtime_environment\": \"None Provided\",\n        \"published_model\": {\n          \"url\": \"https://ibm-watson-ml.mybluemix.net/v3/wml_instances/fd1db635-c9f3-4d83-afc7-32efec367e5e/published_models/fae8e498-136e-4c35-81bd-a9a69a50b1c7\",\n          \"name\": \"CHAID PMML model for Iris data\",\n          \"author\": {\n            \"email\": \"ibm@ibm.com\",\n            \"name\": \"IBM\"\n          },\n          \"guid\": \"fae8e498-136e-4c35-81bd-a9a69a50b1c7\",\n          \"created_at\": \"2018-01-30T14:17:22.673Z\"\n        },\n        \"name\": \"Iris species prediction\",\n        \"description\": \"Model deployment\",\n        \"model_type\": \"pmml-4.2\",\n        \"status\": \"ACTIVE\",\n        \"type\": \"online\",\n        \"deployed_version\": {\n          \"url\": \"https://ibm-watson-ml.mybluemix.net/v3/ml_assets/models/fae8e498-136e-4c35-81bd-a9a69a50b1c7/versions/a5ebf6a8-140b-4497-8759-48b47843ba49\",\n          \"guid\": \"a5ebf6a8-140b-4497-8759-48b47843ba49\"\n        }\n      }\n    },\n    {\n      \"metadata\": {\n        \"created_at\": \"2018-01-31T11:50:01.606Z\",\n        \"url\": \"https://ibm-watson-ml.mybluemix.net/v3/wml_instances/fd1db635-c9f3-4d83-afc7-32efec367e5e/published_models/e4643014-a6c7-45a0-94cd-f52e00f62bf9/deployments/b44c9c91-796a-4caf-bb15-357065df1ac9\",\n        \"modified_at\": \"2018-01-31T11:50:02.841Z\",\n        \"guid\": \"b44c9c91-796a-4caf-bb15-357065df1ac9\"\n      },\n      \"entity\": {\n        \"scoring_url\": \"https://ibm-watson-ml.mybluemix.net/v3/wml_instances/fd1db635-c9f3-4d83-afc7-32efec367e5e/published_models/e4643014-a6c7-45a0-94cd-f52e00f62bf9/deployments/b44c9c91-796a-4caf-bb15-357065df1ac9/online\",\n        \"runtime_environment\": \"python-3.5\",\n        \"published_model\": {\n          \"created_at\": \"2018-01-31T11:50:00.020Z\",\n          \"name\": \"My cool mnist model\",\n          \"url\": \"https://ibm-watson-ml.mybluemix.net/v3/wml_instances/fd1db635-c9f3-4d83-afc7-32efec367e5e/published_models/e4643014-a6c7-45a0-94cd-f52e00f62bf9\",\n          \"guid\": \"e4643014-a6c7-45a0-94cd-f52e00f62bf9\"\n        },\n        \"name\": \"Mnist model deployment\",\n        \"description\": \"Model deployment\",\n        \"model_type\": \"tensorflow-1.2\",\n        \"status\": \"ACTIVE\",\n        \"type\": \"online\",\n        \"deployed_version\": {\n          \"url\": \"https://ibm-watson-ml.mybluemix.net/v3/ml_assets/models/e4643014-a6c7-45a0-94cd-f52e00f62bf9/versions/0c00b957-d489-4e0b-a9b3-6a714d8c457a\",\n          \"guid\": \"0c00b957-d489-4e0b-a9b3-6a714d8c457a\"\n        }\n      }\n    }\n  ],\n  \"count\": 4\n}\n"
                }
            ], 
            "source": "deployments = client.deployments.get_details()\n\nprint(json.dumps(deployments, indent=2))", 
            "metadata": {}, 
            "cell_type": "code"
        }, 
        {
            "source": "You can get deployment_url by parsing deployment details for last deployed model.", 
            "metadata": {}, 
            "cell_type": "markdown"
        }, 
        {
            "execution_count": 32, 
            "outputs": [
                {
                    "name": "stdout", 
                    "output_type": "stream", 
                    "text": "https://ibm-watson-ml.mybluemix.net/v3/wml_instances/fd1db635-c9f3-4d83-afc7-32efec367e5e/published_models/844087b1-ba8d-484d-acfe-7dfc132df858/deployments/134f404d-91be-47ad-9524-f8508c1604fe\n"
                }
            ], 
            "source": "deployment_url = client.deployments.get_url(created_deployment)\n\nprint(deployment_url)", 
            "metadata": {}, 
            "cell_type": "code"
        }, 
        {
            "source": "### 5.3: Score", 
            "metadata": {}, 
            "cell_type": "markdown"
        }, 
        {
            "source": "You can use below method to do test scoring request against deployed model.", 
            "metadata": {}, 
            "cell_type": "markdown"
        }, 
        {
            "source": "**Action**: Prepare scoring payload with records to score.", 
            "metadata": {}, 
            "cell_type": "markdown"
        }, 
        {
            "execution_count": 33, 
            "outputs": [], 
            "source": "scoring_payload = {\"values\": [list(score_data[0]), list(score_data[1])]}", 
            "metadata": {}, 
            "cell_type": "code"
        }, 
        {
            "source": "Use ``client.deployments.score()`` method to run scoring.", 
            "metadata": {}, 
            "cell_type": "markdown"
        }, 
        {
            "execution_count": 34, 
            "outputs": [], 
            "source": "predictions = client.deployments.score(scoring_endpoint, scoring_payload)", 
            "metadata": {}, 
            "cell_type": "code"
        }, 
        {
            "execution_count": 35, 
            "outputs": [
                {
                    "name": "stdout", 
                    "output_type": "stream", 
                    "text": "{\n  \"fields\": [\n    \"prediction\"\n  ],\n  \"values\": [\n    [\n      5\n    ],\n    [\n      2\n    ]\n  ]\n}\n"
                }
            ], 
            "source": "print(json.dumps(predictions, indent=2))", 
            "metadata": {}, 
            "cell_type": "code"
        }, 
        {
            "source": "### 5.4: Delete deployment", 
            "metadata": {}, 
            "cell_type": "markdown"
        }, 
        {
            "source": "Use the following method to delete deployment.", 
            "metadata": {}, 
            "cell_type": "markdown"
        }, 
        {
            "execution_count": 37, 
            "outputs": [], 
            "source": "client.deployments.delete(client.deployments.get_uid(created_deployment))", 
            "metadata": {}, 
            "cell_type": "code"
        }, 
        {
            "source": "You can check depoyments by running ``list`` method.", 
            "metadata": {}, 
            "cell_type": "markdown"
        }, 
        {
            "execution_count": 38, 
            "outputs": [
                {
                    "name": "stdout", 
                    "output_type": "stream", 
                    "text": "------------------------------------  -----------------------  ------  ------------------------  -----------------\nGUID                                  NAME                     TYPE    CREATED                   FRAMEWORK\n06faa2cd-e12b-4595-b96d-555d9fae6363  Digits recognition       online  2018-01-30T14:15:59.342Z  scikit-learn-0.17\n56f3501f-844c-4cb7-9bbc-02131da8f6bf  Iris species prediction  online  2018-01-30T14:17:22.742Z  pmml-4.2\nb44c9c91-796a-4caf-bb15-357065df1ac9  Mnist model deployment   online  2018-01-31T11:50:01.606Z  tensorflow-1.2\n------------------------------------  -----------------------  ------  ------------------------  -----------------\n"
                }
            ], 
            "source": "client.deployments.list()", 
            "metadata": {}, 
            "cell_type": "code"
        }, 
        {
            "source": "### 5.5: Delete model", 
            "metadata": {}, 
            "cell_type": "markdown"
        }, 
        {
            "execution_count": 39, 
            "outputs": [], 
            "source": "client.repository.delete(published_model_uid)", 
            "metadata": {}, 
            "cell_type": "code"
        }, 
        {
            "source": "You can check your stored models by running below ``list`` method.", 
            "metadata": {}, 
            "cell_type": "markdown"
        }, 
        {
            "execution_count": 41, 
            "outputs": [
                {
                    "name": "stdout", 
                    "output_type": "stream", 
                    "text": "------------------------------------  ------------------------------  ------------------------  -----------------  -----\nGUID                                  NAME                            CREATED                   FRAMEWORK          TYPE\n51cdbdea-28ea-488d-9edd-dab2a8c44208  Sentiment Prediction            2018-01-30T14:15:06.339Z  mllib-2.0          model\nb7e9fc69-f0db-444f-89b4-fe7aa5e8a4f1  Handwritten Digits Recognition  2018-01-30T14:15:24.106Z  scikit-learn-0.17  model\nfae8e498-136e-4c35-81bd-a9a69a50b1c7  CHAID PMML model for Iris data  2018-01-30T14:17:19.921Z  pmml-4.2           model\n22e4cd95-4ede-4fa7-b361-ef9841a0e31f  My cool mnist model             2018-01-31T10:21:42.501Z  tensorflow-1.2     model\ne4643014-a6c7-45a0-94cd-f52e00f62bf9  My cool mnist model             2018-01-31T11:48:14.134Z  tensorflow-1.2     model\n------------------------------------  ------------------------------  ------------------------  -----------------  -----\n"
                }
            ], 
            "source": "client.repository.list_models()", 
            "metadata": {}, 
            "cell_type": "code"
        }, 
        {
            "source": "<a id=\"summary\"></a>\n## 6. Summary and next steps     ", 
            "metadata": {
                "collapsed": true
            }, 
            "cell_type": "markdown"
        }, 
        {
            "source": " You successfully completed this notebook! You learned how to use scikit-learn machine learning as well as Watson Machine Learning for model creation and deployment. Check out our _[Online Documentation](https://console.ng.bluemix.net/docs/services/PredictiveModeling/index.html?pos=2)_ for more samples, tutorials, documentation, how-tos, and blog posts. ", 
            "metadata": {
                "collapsed": true
            }, 
            "cell_type": "markdown"
        }, 
        {
            "source": "### Authors\n\n**Wojciech Sobala**, Data Scientist at IBM developing enterprise-level applications that substantially increases clients' ability to turn data into actionable knowledge.", 
            "metadata": {}, 
            "cell_type": "markdown"
        }, 
        {
            "source": "Copyright \u00a9 2017 IBM. This notebook and its source code are released under the terms of the MIT License.", 
            "metadata": {}, 
            "cell_type": "markdown"
        }
    ]
}