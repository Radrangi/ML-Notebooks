{
    "nbformat_minor": 1, 
    "cells": [
        {
            "source": "<table style=\"border: none\" align=\"left\">\n   <tr style=\"border: none\">\n      <th style=\"border: none\"><font face=\"verdana\" size=\"5\" color=\"black\"><b>From local scikit-learn model to cloud with watson machine learning client</b></th>\n      <th style=\"border: none\"><img src=\"https://github.com/pmservice/customer-satisfaction-prediction/blob/master/app/static/images/ml_icon_gray.png?raw=true\" alt=\"Watson Machine Learning icon\" height=\"40\" width=\"40\"></th>\n   </tr>\n   <tr style=\"border: none\">\n       <th style=\"border: none\"><img src=\"https://github.com/pmservice/wml-sample-models/raw/master/scikit-learn/hand-written-digits-recognition/images/numbers_banner-04.png\" width=\"600\" alt=\"Icon\"> </th>\n   </tr>\n</table>", 
            "cell_type": "markdown", 
            "metadata": {}
        }, 
        {
            "source": "This notebook contains steps and code to work with [watson-machine-learning-client](https://pypi.python.org/pypi/watson-machine-learning-client) library available in PyPI repository. This notebook introduces commands for getting data and for basic data exploration, pipeline creation, model training and evaluation, model persistance to Watson Machine Learning repository, model deployment, and scoring.\n\nSome familiarity with Python is helpful. This notebook uses Python 3.5, scikit-learn, watson-machine-learning-client package.\n\nYou will use a toy dataset available in scikit-learn, **sklearn.datasets.load_digits**, which contains hand-written digits images. Use the toy dataset to recognize hand-written digits.\n\n## Learning goals\n\nThe learning goals of this notebook are:\n\n-  Load a sample dataset from scikit-learn.\n-  Explore data.\n-  Prepare data for training and evaluation.\n-  Create Scikit-learn machine learning pipeline.\n-  Train and evaluate a model.\n-  Persist a model in Watson Machine Learning repository.\n-  Deploy model for online scoring using client library.\n-  Score sample records using client library.\n\n\n## Contents\n\nThis notebook contains the following parts:\n\n1.\t[Setup](#setup)\n2.\t[Load and explore data](#load)\n3.\t[Create scikit-learn model](#model)\n4.\t[Persist model](#persistence)\n5.\t[Deploy and score in a Cloud](#scoring)\n6.\t[Summary and next steps](#summary)", 
            "cell_type": "markdown", 
            "metadata": {}
        }, 
        {
            "source": "<a id=\"setup\"></a>\n## 1. Setup\n\nBefore you use the sample code in this notebook, you must perform the following setup task:\n\n-  Create a [Watson Machine Learning Service](https://console.ng.bluemix.net/catalog/services/ibm-watson-machine-learning/) instance (a free plan is offered). \n- Configure local python environment\n  + python 3.5\n  + scikit-learn 0.17.1\n  + xgboost 0.6 (here not used dependency)\n  + watson-machine-learning-client", 
            "cell_type": "markdown", 
            "metadata": {}
        }, 
        {
            "source": "**Tip**: You can install libraries from [PyPI](https://pypi.python.org/pypi) running cell below.", 
            "cell_type": "markdown", 
            "metadata": {}
        }, 
        {
            "outputs": [
                {
                    "name": "stdout", 
                    "text": "Requirement already satisfied (use --upgrade to upgrade): watson-machine-learning-client in /gpfs/global_fs01/sym_shared/YPProdSpark/user/sec7-2ac43fd194bc9a-8ef090487f81/.local/lib/python3.5/site-packages\nRequirement already satisfied (use --upgrade to upgrade): lomond in /gpfs/global_fs01/sym_shared/YPProdSpark/user/sec7-2ac43fd194bc9a-8ef090487f81/.local/lib/python3.5/site-packages (from watson-machine-learning-client)\nRequirement already satisfied (use --upgrade to upgrade): tabulate in /gpfs/global_fs01/sym_shared/YPProdSpark/user/sec7-2ac43fd194bc9a-8ef090487f81/.local/lib/python3.5/site-packages (from watson-machine-learning-client)\nRequirement already satisfied (use --upgrade to upgrade): tqdm in /gpfs/global_fs01/sym_shared/YPProdSpark/user/sec7-2ac43fd194bc9a-8ef090487f81/.local/lib/python3.5/site-packages (from watson-machine-learning-client)\nRequirement already satisfied (use --upgrade to upgrade): requests in /gpfs/global_fs01/sym_shared/YPProdSpark/user/sec7-2ac43fd194bc9a-8ef090487f81/.local/lib/python3.5/site-packages (from watson-machine-learning-client)\nRequirement already satisfied (use --upgrade to upgrade): urllib3 in /gpfs/global_fs01/sym_shared/YPProdSpark/user/sec7-2ac43fd194bc9a-8ef090487f81/.local/lib/python3.5/site-packages (from watson-machine-learning-client)\nRequirement already satisfied (use --upgrade to upgrade): certifi in /gpfs/global_fs01/sym_shared/YPProdSpark/user/sec7-2ac43fd194bc9a-8ef090487f81/.local/lib/python3.5/site-packages (from watson-machine-learning-client)\nRequirement already satisfied (use --upgrade to upgrade): pandas in /gpfs/global_fs01/sym_shared/YPProdSpark/user/sec7-2ac43fd194bc9a-8ef090487f81/.local/lib/python3.5/site-packages (from watson-machine-learning-client)\nRequirement already satisfied (use --upgrade to upgrade): six>=1.10.0 in /gpfs/global_fs01/sym_shared/YPProdSpark/user/sec7-2ac43fd194bc9a-8ef090487f81/.local/lib/python3.5/site-packages (from lomond->watson-machine-learning-client)\nRequirement already satisfied (use --upgrade to upgrade): chardet<3.1.0,>=3.0.2 in /gpfs/global_fs01/sym_shared/YPProdSpark/user/sec7-2ac43fd194bc9a-8ef090487f81/.local/lib/python3.5/site-packages (from requests->watson-machine-learning-client)\nRequirement already satisfied (use --upgrade to upgrade): idna<2.7,>=2.5 in /gpfs/global_fs01/sym_shared/YPProdSpark/user/sec7-2ac43fd194bc9a-8ef090487f81/.local/lib/python3.5/site-packages (from requests->watson-machine-learning-client)\nRequirement already satisfied (use --upgrade to upgrade): python-dateutil>=2 in /gpfs/global_fs01/sym_shared/YPProdSpark/user/sec7-2ac43fd194bc9a-8ef090487f81/.local/lib/python3.5/site-packages (from pandas->watson-machine-learning-client)\nRequirement already satisfied (use --upgrade to upgrade): numpy>=1.9.0 in /gpfs/global_fs01/sym_shared/YPProdSpark/user/sec7-2ac43fd194bc9a-8ef090487f81/.local/lib/python3.5/site-packages (from pandas->watson-machine-learning-client)\nRequirement already satisfied (use --upgrade to upgrade): pytz>=2011k in /gpfs/global_fs01/sym_shared/YPProdSpark/user/sec7-2ac43fd194bc9a-8ef090487f81/.local/lib/python3.5/site-packages (from pandas->watson-machine-learning-client)\n", 
                    "output_type": "stream"
                }
            ], 
            "source": "!pip install watson-machine-learning-client --user", 
            "execution_count": 1, 
            "cell_type": "code", 
            "metadata": {}
        }, 
        {
            "source": "<a id=\"load\"></a>\n## 2. Load and explore data", 
            "cell_type": "markdown", 
            "metadata": {}
        }, 
        {
            "source": "In this section you will load the data from scikit-learn sample datasets and perform a basic exploration.", 
            "cell_type": "markdown", 
            "metadata": {}
        }, 
        {
            "outputs": [], 
            "source": "import sklearn\nfrom sklearn import datasets\n\ndigits = datasets.load_digits()", 
            "execution_count": 2, 
            "cell_type": "code", 
            "metadata": {
                "collapsed": true
            }
        }, 
        {
            "source": "Loaded toy dataset consists of 8x8 pixels images of hand-written digits.", 
            "cell_type": "markdown", 
            "metadata": {}
        }, 
        {
            "source": "Let's display first digit data and label using **data** and **target**.", 
            "cell_type": "markdown", 
            "metadata": {}
        }, 
        {
            "outputs": [
                {
                    "name": "stdout", 
                    "text": "[[  0.   0.   5.  13.   9.   1.   0.   0.]\n [  0.   0.  13.  15.  10.  15.   5.   0.]\n [  0.   3.  15.   2.   0.  11.   8.   0.]\n [  0.   4.  12.   0.   0.   8.   8.   0.]\n [  0.   5.   8.   0.   0.   9.   8.   0.]\n [  0.   4.  11.   0.   1.  12.   7.   0.]\n [  0.   2.  14.   5.  10.  12.   0.   0.]\n [  0.   0.   6.  13.  10.   0.   0.   0.]]\n", 
                    "output_type": "stream"
                }
            ], 
            "source": "print(digits.data[0].reshape((8, 8)))", 
            "execution_count": 3, 
            "cell_type": "code", 
            "metadata": {}
        }, 
        {
            "outputs": [
                {
                    "data": {
                        "text/plain": "0"
                    }, 
                    "execution_count": 4, 
                    "output_type": "execute_result", 
                    "metadata": {}
                }
            ], 
            "source": "digits.target[0]", 
            "execution_count": 4, 
            "cell_type": "code", 
            "metadata": {}
        }, 
        {
            "source": "In next step you will count data examples.", 
            "cell_type": "markdown", 
            "metadata": {}
        }, 
        {
            "outputs": [
                {
                    "name": "stdout", 
                    "text": "Number of samples: 1797\n", 
                    "output_type": "stream"
                }
            ], 
            "source": "samples_count = len(digits.images)\n\nprint(\"Number of samples: \" + str(samples_count))", 
            "execution_count": 5, 
            "cell_type": "code", 
            "metadata": {}
        }, 
        {
            "source": "<a id=\"model\"></a>\n## 3. Create a Scikit-learn model\n\nIn this section you will learn how to prepare data, create a Scikit-learn machine learning pipeline, and train a model.", 
            "cell_type": "markdown", 
            "metadata": {}
        }, 
        {
            "source": "### 3.1: Prepare data\n\nIn this subsection you will split your data into: train, test, and score datasets.", 
            "cell_type": "markdown", 
            "metadata": {}
        }, 
        {
            "outputs": [
                {
                    "name": "stdout", 
                    "text": "Number of training records: 1257\nNumber of testing records : 360\nNumber of scoring records : 180\n", 
                    "output_type": "stream"
                }
            ], 
            "source": "train_data = digits.data[: int(0.7*samples_count)]\ntrain_labels = digits.target[: int(0.7*samples_count)]\n\ntest_data = digits.data[int(0.7*samples_count): int(0.9*samples_count)]\ntest_labels = digits.target[int(0.7*samples_count): int(0.9*samples_count)]\n\nscore_data = digits.data[int(0.9*samples_count): ]\n\nprint(\"Number of training records: \" + str(len(train_data)))\nprint(\"Number of testing records : \" + str(len(test_data)))\nprint(\"Number of scoring records : \" + str(len(score_data)))", 
            "execution_count": 6, 
            "cell_type": "code", 
            "metadata": {}
        }, 
        {
            "source": "As you can see our data has been successfully split into three datasets: \n\n-  The train data set, which is the largest group, is used for training.\n-  The test data set will be used for model evaluation and is used to test the assumptions of the model.\n-  The score data set will be used for scoring in Cloud.", 
            "cell_type": "markdown", 
            "metadata": {}
        }, 
        {
            "source": "### 3.2: Create pipeline and train a model", 
            "cell_type": "markdown", 
            "metadata": {}
        }, 
        {
            "source": "In this section you will create scikit-learn machine learning pipeline and then train the model.", 
            "cell_type": "markdown", 
            "metadata": {}
        }, 
        {
            "source": "In the first step you need to import the scikit-learn machine learning packages that will be needed in the subsequent steps.", 
            "cell_type": "markdown", 
            "metadata": {}
        }, 
        {
            "outputs": [], 
            "source": "from sklearn.pipeline import Pipeline\nfrom sklearn import preprocessing\nfrom sklearn import svm, metrics", 
            "execution_count": 7, 
            "cell_type": "code", 
            "metadata": {
                "collapsed": true
            }
        }, 
        {
            "source": "Standardize features by removing the mean and scaling to unit variance.", 
            "cell_type": "markdown", 
            "metadata": {}
        }, 
        {
            "outputs": [], 
            "source": "scaler = preprocessing.StandardScaler()", 
            "execution_count": 8, 
            "cell_type": "code", 
            "metadata": {
                "collapsed": true
            }
        }, 
        {
            "source": "Next, define estimators you want to use for classification. Support Vector Machines (SVM) with radial basis function as kernel is used in the following example.", 
            "cell_type": "markdown", 
            "metadata": {}
        }, 
        {
            "outputs": [], 
            "source": "clf = svm.SVC(kernel='rbf')", 
            "execution_count": 9, 
            "cell_type": "code", 
            "metadata": {
                "collapsed": true
            }
        }, 
        {
            "source": "Let's build the pipeline now. A pipeline consists of transformer and an estimator.", 
            "cell_type": "markdown", 
            "metadata": {}
        }, 
        {
            "outputs": [], 
            "source": "pipeline = Pipeline([('scaler', scaler), ('svc', clf)])", 
            "execution_count": 10, 
            "cell_type": "code", 
            "metadata": {
                "collapsed": true
            }
        }, 
        {
            "source": "Now, you can train your SVM model by using the previously defined **pipeline** and **train data**.", 
            "cell_type": "markdown", 
            "metadata": {}
        }, 
        {
            "outputs": [], 
            "source": "model = pipeline.fit(train_data, train_labels)", 
            "execution_count": 11, 
            "cell_type": "code", 
            "metadata": {
                "collapsed": true
            }
        }, 
        {
            "source": "You can check your **model quality** now. To evaluate the model, use **test data**.", 
            "cell_type": "markdown", 
            "metadata": {}
        }, 
        {
            "outputs": [
                {
                    "name": "stdout", 
                    "text": "Evaluation report: \n\n             precision    recall  f1-score   support\n\n          0       1.00      0.97      0.99        37\n          1       0.97      0.97      0.97        34\n          2       1.00      0.97      0.99        36\n          3       1.00      0.94      0.97        35\n          4       0.78      0.97      0.87        37\n          5       0.97      0.97      0.97        38\n          6       0.97      0.86      0.91        36\n          7       0.92      0.97      0.94        35\n          8       0.91      0.89      0.90        35\n          9       0.97      0.92      0.94        37\n\navg / total       0.95      0.94      0.95       360\n\n", 
                    "output_type": "stream"
                }
            ], 
            "source": "predicted = model.predict(test_data)\n\nprint(\"Evaluation report: \\n\\n%s\" % metrics.classification_report(test_labels, predicted))", 
            "execution_count": 12, 
            "cell_type": "code", 
            "metadata": {}
        }, 
        {
            "source": "You can tune your model now to achieve better accuracy. For simplicity of this example tuning section is omitted.", 
            "cell_type": "markdown", 
            "metadata": {
                "collapsed": true
            }
        }, 
        {
            "source": "<a id=\"persistence\"></a>\n## 4. Persist model", 
            "cell_type": "markdown", 
            "metadata": {
                "collapsed": true
            }
        }, 
        {
            "source": "In this section you will learn how to store your model in Watson Machine Learning repository by using commont python client.", 
            "cell_type": "markdown", 
            "metadata": {}
        }, 
        {
            "source": "**Tip**: You can check documentation for watson-machine-learning-client either by visiting [documentation webpage](https://wml-api-pyclient.mybluemix.net) or running below code.", 
            "cell_type": "markdown", 
            "metadata": {}
        }, 
        {
            "source": "from IPython.display import IFrame\n\nIFrame('https://wml-api-pyclient.mybluemix.net', width='100%', height=400)", 
            "cell_type": "raw", 
            "metadata": {}
        }, 
        {
            "source": "### 4.1: Work with your instance", 
            "cell_type": "markdown", 
            "metadata": {}
        }, 
        {
            "source": "First, you must import client libraries.", 
            "cell_type": "markdown", 
            "metadata": {
                "collapsed": true
            }
        }, 
        {
            "outputs": [], 
            "source": "from watson_machine_learning_client import WatsonMachineLearningAPIClient", 
            "execution_count": 13, 
            "cell_type": "code", 
            "metadata": {
                "collapsed": true
            }
        }, 
        {
            "source": "Authenticate to Watson Machine Learning service on IBM Cloud.", 
            "cell_type": "markdown", 
            "metadata": {
                "collapsed": true
            }
        }, 
        {
            "source": "**Action**: Put authentication information from your instance of Watson Machine Learning service here.</div>", 
            "cell_type": "markdown", 
            "metadata": {}
        }, 
        {
            "outputs": [], 
            "source": "wml_credentials={\n  \"url\": \"https://ibm-watson-ml.mybluemix.net\",\n  \"access_key\": \"****\",\n  \"username\": \"****\",\n  \"password\": \"****\",\n  \"instance_id\": \"****\"\n}", 
            "execution_count": 14, 
            "cell_type": "code", 
            "metadata": {
                "collapsed": true
            }
        }, 
        {
            "source": "**Tip**: Authentication information can be found on **Service Credentials** tab of service instance created on IBM  Cloud. <BR>If you cannot see **instance_id** field in **Serice Credentials** generate new credentials by pressing **New credential (+)** button. ", 
            "cell_type": "markdown", 
            "metadata": {
                "collapsed": true
            }
        }, 
        {
            "source": "#### Create API client by running below code.", 
            "cell_type": "markdown", 
            "metadata": {}
        }, 
        {
            "outputs": [], 
            "source": "client = WatsonMachineLearningAPIClient(wml_credentials)", 
            "execution_count": 15, 
            "cell_type": "code", 
            "metadata": {
                "collapsed": true
            }
        }, 
        {
            "source": "#### Get instance details.", 
            "cell_type": "markdown", 
            "metadata": {}
        }, 
        {
            "outputs": [
                {
                    "name": "stdout", 
                    "text": "{\n  \"metadata\": {\n    \"created_at\": \"2017-06-26T11:49:37.500Z\",\n    \"url\": \"https://ibm-watson-ml.mybluemix.net/v3/wml_instances/a153b37a-2b65-47e6-b0ef-2d71da079c4f\",\n    \"modified_at\": \"2017-12-05T13:32:07.894Z\",\n    \"guid\": \"a153b37a-2b65-47e6-b0ef-2d71da079c4f\"\n  },\n  \"entity\": {\n    \"region\": \"us-south\",\n    \"account\": {\n      \"id\": \"8dba8395f5b8dc6fcab49d43161ab9f1\",\n      \"type\": \"TRIAL\",\n      \"name\": \"Wojciech Sobala's Account\"\n    },\n    \"deployments\": {\n      \"url\": \"https://ibm-watson-ml.mybluemix.net/v3/wml_instances/a153b37a-2b65-47e6-b0ef-2d71da079c4f/deployments\"\n    },\n    \"source\": \"Bluemix\",\n    \"status\": \"Active\",\n    \"plan_id\": \"3f6acf43-ede8-413a-ac69-f8af3bb0cbfe\",\n    \"published_models\": {\n      \"url\": \"https://ibm-watson-ml.mybluemix.net/v3/wml_instances/a153b37a-2b65-47e6-b0ef-2d71da079c4f/published_models\"\n    },\n    \"organization_guid\": \"a7b3ef43-5dc2-41fc-8fa7-29b0846e5807\",\n    \"plan\": \"lite\",\n    \"space_guid\": \"a6b628f9-3f64-45c0-bf38-739876b63fec\",\n    \"usage\": {\n      \"deployment_count\": {\n        \"current\": -3,\n        \"limit\": 5\n      },\n      \"expiration_date\": \"2018-01-01T00:00:00.000Z\",\n      \"computation_time\": {\n        \"current\": 0,\n        \"limit\": 18000\n      },\n      \"prediction_count\": {\n        \"current\": 10,\n        \"limit\": 5000\n      },\n      \"model_count\": {\n        \"current\": 4,\n        \"limit\": 200\n      }\n    },\n    \"owner\": {\n      \"country_code\": \"POL\",\n      \"ibm_id\": \"3100020VJR\",\n      \"beta_user\": true,\n      \"user_id\": \"1c54455e-c23b-4506-b184-27494b507536\",\n      \"email\": \"wojciech.sobala@pl.ibm.com\"\n    }\n  }\n}\n", 
                    "output_type": "stream"
                }
            ], 
            "source": "import json\n\ninstance_details = client.service_instance.get_details()\n\nprint(json.dumps(instance_details, indent=2))", 
            "execution_count": 16, 
            "cell_type": "code", 
            "metadata": {}
        }, 
        {
            "source": "### 4.2: Publish model", 
            "cell_type": "markdown", 
            "metadata": {}
        }, 
        {
            "source": "#### Publish model in Watson Machine Learning repository on Cloud.", 
            "cell_type": "markdown", 
            "metadata": {}
        }, 
        {
            "source": "Define model name, autor name and email.", 
            "cell_type": "markdown", 
            "metadata": {}
        }, 
        {
            "outputs": [], 
            "source": "model_props = {\"authorName\":\"IBM\", \"authorEmail\":\"ibm@ibm.com\"}\nmodel_name = \"LOCALLY created Digits prediction model\"", 
            "execution_count": 17, 
            "cell_type": "code", 
            "metadata": {
                "collapsed": true
            }
        }, 
        {
            "outputs": [], 
            "source": "published_model = client.repository.store_model(model=model, name=model_name, meta_props=model_props, \\\n                                                training_data=train_data, training_target=train_labels)", 
            "execution_count": 18, 
            "cell_type": "code", 
            "metadata": {
                "collapsed": true
            }
        }, 
        {
            "source": "### 4.3: Get model details", 
            "cell_type": "markdown", 
            "metadata": {}
        }, 
        {
            "outputs": [
                {
                    "name": "stdout", 
                    "text": "{\n  \"metadata\": {\n    \"created_at\": \"2017-12-05T13:52:57.933Z\",\n    \"url\": \"https://ibm-watson-ml.mybluemix.net/v3/wml_instances/a153b37a-2b65-47e6-b0ef-2d71da079c4f/published_models/c4d867d8-3e51-470e-a300-ef6a4ea669bc\",\n    \"modified_at\": \"2017-12-05T13:52:59.755Z\",\n    \"guid\": \"c4d867d8-3e51-470e-a300-ef6a4ea669bc\"\n  },\n  \"entity\": {\n    \"latest_version\": {\n      \"created_at\": \"2017-12-05T13:52:59.755Z\",\n      \"url\": \"https://ibm-watson-ml.mybluemix.net/v3/ml_assets/models/c4d867d8-3e51-470e-a300-ef6a4ea669bc/versions/1175636d-5de3-4786-9d8c-2632fc1646d4\",\n      \"guid\": \"1175636d-5de3-4786-9d8c-2632fc1646d4\"\n    },\n    \"runtime_environment\": \"None Provided\",\n    \"name\": \"LOCALLY created Digits prediction model\",\n    \"learning_configuration_url\": \"https://ibm-watson-ml.mybluemix.net/v3/wml_instances/a153b37a-2b65-47e6-b0ef-2d71da079c4f/published_models/c4d867d8-3e51-470e-a300-ef6a4ea669bc/learning_configuration\",\n    \"model_type\": \"scikit-learn-0.17\",\n    \"feedback_url\": \"https://ibm-watson-ml.mybluemix.net/v3/wml_instances/a153b37a-2b65-47e6-b0ef-2d71da079c4f/published_models/c4d867d8-3e51-470e-a300-ef6a4ea669bc/feedback\",\n    \"label_col\": \"l1\",\n    \"deployments\": {\n      \"url\": \"https://ibm-watson-ml.mybluemix.net/v3/wml_instances/a153b37a-2b65-47e6-b0ef-2d71da079c4f/published_models/c4d867d8-3e51-470e-a300-ef6a4ea669bc/deployments\",\n      \"count\": 0\n    },\n    \"training_data_schema\": {\n      \"features\": {\n        \"fields\": [\n          {\n            \"type\": \"float\",\n            \"name\": \"f0\"\n          },\n          {\n            \"type\": \"float\",\n            \"name\": \"f1\"\n          },\n          {\n            \"type\": \"float\",\n            \"name\": \"f2\"\n          },\n          {\n            \"type\": \"float\",\n            \"name\": \"f3\"\n          },\n          {\n            \"type\": \"float\",\n            \"name\": \"f4\"\n          },\n          {\n            \"type\": \"float\",\n            \"name\": \"f5\"\n          },\n          {\n            \"type\": \"float\",\n            \"name\": \"f6\"\n          },\n          {\n            \"type\": \"float\",\n            \"name\": \"f7\"\n          },\n          {\n            \"type\": \"float\",\n            \"name\": \"f8\"\n          },\n          {\n            \"type\": \"float\",\n            \"name\": \"f9\"\n          },\n          {\n            \"type\": \"float\",\n            \"name\": \"f10\"\n          },\n          {\n            \"type\": \"float\",\n            \"name\": \"f11\"\n          },\n          {\n            \"type\": \"float\",\n            \"name\": \"f12\"\n          },\n          {\n            \"type\": \"float\",\n            \"name\": \"f13\"\n          },\n          {\n            \"type\": \"float\",\n            \"name\": \"f14\"\n          },\n          {\n            \"type\": \"float\",\n            \"name\": \"f15\"\n          },\n          {\n            \"type\": \"float\",\n            \"name\": \"f16\"\n          },\n          {\n            \"type\": \"float\",\n            \"name\": \"f17\"\n          },\n          {\n            \"type\": \"float\",\n            \"name\": \"f18\"\n          },\n          {\n            \"type\": \"float\",\n            \"name\": \"f19\"\n          },\n          {\n            \"type\": \"float\",\n            \"name\": \"f20\"\n          },\n          {\n            \"type\": \"float\",\n            \"name\": \"f21\"\n          },\n          {\n            \"type\": \"float\",\n            \"name\": \"f22\"\n          },\n          {\n            \"type\": \"float\",\n            \"name\": \"f23\"\n          },\n          {\n            \"type\": \"float\",\n            \"name\": \"f24\"\n          },\n          {\n            \"type\": \"float\",\n            \"name\": \"f25\"\n          },\n          {\n            \"type\": \"float\",\n            \"name\": \"f26\"\n          },\n          {\n            \"type\": \"float\",\n            \"name\": \"f27\"\n          },\n          {\n            \"type\": \"float\",\n            \"name\": \"f28\"\n          },\n          {\n            \"type\": \"float\",\n            \"name\": \"f29\"\n          },\n          {\n            \"type\": \"float\",\n            \"name\": \"f30\"\n          },\n          {\n            \"type\": \"float\",\n            \"name\": \"f31\"\n          },\n          {\n            \"type\": \"float\",\n            \"name\": \"f32\"\n          },\n          {\n            \"type\": \"float\",\n            \"name\": \"f33\"\n          },\n          {\n            \"type\": \"float\",\n            \"name\": \"f34\"\n          },\n          {\n            \"type\": \"float\",\n            \"name\": \"f35\"\n          },\n          {\n            \"type\": \"float\",\n            \"name\": \"f36\"\n          },\n          {\n            \"type\": \"float\",\n            \"name\": \"f37\"\n          },\n          {\n            \"type\": \"float\",\n            \"name\": \"f38\"\n          },\n          {\n            \"type\": \"float\",\n            \"name\": \"f39\"\n          },\n          {\n            \"type\": \"float\",\n            \"name\": \"f40\"\n          },\n          {\n            \"type\": \"float\",\n            \"name\": \"f41\"\n          },\n          {\n            \"type\": \"float\",\n            \"name\": \"f42\"\n          },\n          {\n            \"type\": \"float\",\n            \"name\": \"f43\"\n          },\n          {\n            \"type\": \"float\",\n            \"name\": \"f44\"\n          },\n          {\n            \"type\": \"float\",\n            \"name\": \"f45\"\n          },\n          {\n            \"type\": \"float\",\n            \"name\": \"f46\"\n          },\n          {\n            \"type\": \"float\",\n            \"name\": \"f47\"\n          },\n          {\n            \"type\": \"float\",\n            \"name\": \"f48\"\n          },\n          {\n            \"type\": \"float\",\n            \"name\": \"f49\"\n          },\n          {\n            \"type\": \"float\",\n            \"name\": \"f50\"\n          },\n          {\n            \"type\": \"float\",\n            \"name\": \"f51\"\n          },\n          {\n            \"type\": \"float\",\n            \"name\": \"f52\"\n          },\n          {\n            \"type\": \"float\",\n            \"name\": \"f53\"\n          },\n          {\n            \"type\": \"float\",\n            \"name\": \"f54\"\n          },\n          {\n            \"type\": \"float\",\n            \"name\": \"f55\"\n          },\n          {\n            \"type\": \"float\",\n            \"name\": \"f56\"\n          },\n          {\n            \"type\": \"float\",\n            \"name\": \"f57\"\n          },\n          {\n            \"type\": \"float\",\n            \"name\": \"f58\"\n          },\n          {\n            \"type\": \"float\",\n            \"name\": \"f59\"\n          },\n          {\n            \"type\": \"float\",\n            \"name\": \"f60\"\n          },\n          {\n            \"type\": \"float\",\n            \"name\": \"f61\"\n          },\n          {\n            \"type\": \"float\",\n            \"name\": \"f62\"\n          },\n          {\n            \"type\": \"float\",\n            \"name\": \"f63\"\n          }\n        ],\n        \"type\": \"ndarray\"\n      },\n      \"labels\": {\n        \"fields\": [\n          {\n            \"type\": \"int\",\n            \"name\": \"l1\"\n          }\n        ],\n        \"type\": \"ndarray\"\n      }\n    },\n    \"learning_iterations_url\": \"https://ibm-watson-ml.mybluemix.net/v3/wml_instances/a153b37a-2b65-47e6-b0ef-2d71da079c4f/published_models/c4d867d8-3e51-470e-a300-ef6a4ea669bc/learning_iterations\",\n    \"evaluation_metrics_url\": \"https://ibm-watson-ml.mybluemix.net/v3/wml_instances/a153b37a-2b65-47e6-b0ef-2d71da079c4f/published_models/c4d867d8-3e51-470e-a300-ef6a4ea669bc/evaluation_metrics\",\n    \"author\": {\n      \"email\": \"ibm@ibm.com\",\n      \"name\": \"IBM\"\n    }\n  }\n}\n", 
                    "output_type": "stream"
                }
            ], 
            "source": "model_details = client.repository.get_details(published_model.uid)\n\nprint(json.dumps(model_details, indent=2))", 
            "execution_count": 19, 
            "cell_type": "code", 
            "metadata": {}
        }, 
        {
            "source": "#### Get all models", 
            "cell_type": "markdown", 
            "metadata": {}
        }, 
        {
            "outputs": [
                {
                    "name": "stdout", 
                    "text": "{\n  \"resources\": [\n    {\n      \"metadata\": {\n        \"created_at\": \"2017-12-05T13:30:42.254Z\",\n        \"url\": \"https://ibm-watson-ml.mybluemix.net/v3/wml_instances/a153b37a-2b65-47e6-b0ef-2d71da079c4f/published_models/4ab4b831-8bf5-4d19-8231-896bf1f2f699\",\n        \"modified_at\": \"2017-12-05T13:31:19.354Z\",\n        \"guid\": \"4ab4b831-8bf5-4d19-8231-896bf1f2f699\"\n      },\n      \"entity\": {\n        \"label_col\": \"\",\n        \"latest_version\": {\n          \"created_at\": \"2017-12-05T13:30:44.295Z\",\n          \"url\": \"https://ibm-watson-ml.mybluemix.net/v3/ml_assets/models/4ab4b831-8bf5-4d19-8231-896bf1f2f699/versions/7cfb5dcc-6b62-419e-a1db-7e7d7dc8f0cc\",\n          \"guid\": \"7cfb5dcc-6b62-419e-a1db-7e7d7dc8f0cc\"\n        },\n        \"runtime_environment\": \"python-3.5\",\n        \"deployments\": {\n          \"url\": \"https://ibm-watson-ml.mybluemix.net/v3/wml_instances/a153b37a-2b65-47e6-b0ef-2d71da079c4f/published_models/4ab4b831-8bf5-4d19-8231-896bf1f2f699/deployments\",\n          \"count\": 1\n        },\n        \"name\": \"My cool mnist model\",\n        \"learning_configuration_url\": \"https://ibm-watson-ml.mybluemix.net/v3/wml_instances/a153b37a-2b65-47e6-b0ef-2d71da079c4f/published_models/4ab4b831-8bf5-4d19-8231-896bf1f2f699/learning_configuration\",\n        \"model_type\": \"tensorflow-1.2\",\n        \"deployed_version\": {\n          \"url\": \"https://ibm-watson-ml.mybluemix.net/v3/ml_assets/models/4ab4b831-8bf5-4d19-8231-896bf1f2f699/versions/7cfb5dcc-6b62-419e-a1db-7e7d7dc8f0cc\",\n          \"guid\": \"7cfb5dcc-6b62-419e-a1db-7e7d7dc8f0cc\"\n        },\n        \"evaluation_metrics_url\": \"https://ibm-watson-ml.mybluemix.net/v3/wml_instances/a153b37a-2b65-47e6-b0ef-2d71da079c4f/published_models/4ab4b831-8bf5-4d19-8231-896bf1f2f699/evaluation_metrics\",\n        \"feedback_url\": \"https://ibm-watson-ml.mybluemix.net/v3/wml_instances/a153b37a-2b65-47e6-b0ef-2d71da079c4f/published_models/4ab4b831-8bf5-4d19-8231-896bf1f2f699/feedback\",\n        \"learning_iterations_url\": \"https://ibm-watson-ml.mybluemix.net/v3/wml_instances/a153b37a-2b65-47e6-b0ef-2d71da079c4f/published_models/4ab4b831-8bf5-4d19-8231-896bf1f2f699/learning_iterations\"\n      }\n    },\n    {\n      \"metadata\": {\n        \"created_at\": \"2017-12-05T13:52:57.933Z\",\n        \"url\": \"https://ibm-watson-ml.mybluemix.net/v3/wml_instances/a153b37a-2b65-47e6-b0ef-2d71da079c4f/published_models/c4d867d8-3e51-470e-a300-ef6a4ea669bc\",\n        \"modified_at\": \"2017-12-05T13:52:59.755Z\",\n        \"guid\": \"c4d867d8-3e51-470e-a300-ef6a4ea669bc\"\n      },\n      \"entity\": {\n        \"latest_version\": {\n          \"created_at\": \"2017-12-05T13:52:59.755Z\",\n          \"url\": \"https://ibm-watson-ml.mybluemix.net/v3/ml_assets/models/c4d867d8-3e51-470e-a300-ef6a4ea669bc/versions/1175636d-5de3-4786-9d8c-2632fc1646d4\",\n          \"guid\": \"1175636d-5de3-4786-9d8c-2632fc1646d4\"\n        },\n        \"runtime_environment\": \"None Provided\",\n        \"name\": \"LOCALLY created Digits prediction model\",\n        \"learning_configuration_url\": \"https://ibm-watson-ml.mybluemix.net/v3/wml_instances/a153b37a-2b65-47e6-b0ef-2d71da079c4f/published_models/c4d867d8-3e51-470e-a300-ef6a4ea669bc/learning_configuration\",\n        \"model_type\": \"scikit-learn-0.17\",\n        \"feedback_url\": \"https://ibm-watson-ml.mybluemix.net/v3/wml_instances/a153b37a-2b65-47e6-b0ef-2d71da079c4f/published_models/c4d867d8-3e51-470e-a300-ef6a4ea669bc/feedback\",\n        \"label_col\": \"l1\",\n        \"deployments\": {\n          \"url\": \"https://ibm-watson-ml.mybluemix.net/v3/wml_instances/a153b37a-2b65-47e6-b0ef-2d71da079c4f/published_models/c4d867d8-3e51-470e-a300-ef6a4ea669bc/deployments\",\n          \"count\": 0\n        },\n        \"training_data_schema\": {\n          \"features\": {\n            \"fields\": [\n              {\n                \"type\": \"float\",\n                \"name\": \"f0\"\n              },\n              {\n                \"type\": \"float\",\n                \"name\": \"f1\"\n              },\n              {\n                \"type\": \"float\",\n                \"name\": \"f2\"\n              },\n              {\n                \"type\": \"float\",\n                \"name\": \"f3\"\n              },\n              {\n                \"type\": \"float\",\n                \"name\": \"f4\"\n              },\n              {\n                \"type\": \"float\",\n                \"name\": \"f5\"\n              },\n              {\n                \"type\": \"float\",\n                \"name\": \"f6\"\n              },\n              {\n                \"type\": \"float\",\n                \"name\": \"f7\"\n              },\n              {\n                \"type\": \"float\",\n                \"name\": \"f8\"\n              },\n              {\n                \"type\": \"float\",\n                \"name\": \"f9\"\n              },\n              {\n                \"type\": \"float\",\n                \"name\": \"f10\"\n              },\n              {\n                \"type\": \"float\",\n                \"name\": \"f11\"\n              },\n              {\n                \"type\": \"float\",\n                \"name\": \"f12\"\n              },\n              {\n                \"type\": \"float\",\n                \"name\": \"f13\"\n              },\n              {\n                \"type\": \"float\",\n                \"name\": \"f14\"\n              },\n              {\n                \"type\": \"float\",\n                \"name\": \"f15\"\n              },\n              {\n                \"type\": \"float\",\n                \"name\": \"f16\"\n              },\n              {\n                \"type\": \"float\",\n                \"name\": \"f17\"\n              },\n              {\n                \"type\": \"float\",\n                \"name\": \"f18\"\n              },\n              {\n                \"type\": \"float\",\n                \"name\": \"f19\"\n              },\n              {\n                \"type\": \"float\",\n                \"name\": \"f20\"\n              },\n              {\n                \"type\": \"float\",\n                \"name\": \"f21\"\n              },\n              {\n                \"type\": \"float\",\n                \"name\": \"f22\"\n              },\n              {\n                \"type\": \"float\",\n                \"name\": \"f23\"\n              },\n              {\n                \"type\": \"float\",\n                \"name\": \"f24\"\n              },\n              {\n                \"type\": \"float\",\n                \"name\": \"f25\"\n              },\n              {\n                \"type\": \"float\",\n                \"name\": \"f26\"\n              },\n              {\n                \"type\": \"float\",\n                \"name\": \"f27\"\n              },\n              {\n                \"type\": \"float\",\n                \"name\": \"f28\"\n              },\n              {\n                \"type\": \"float\",\n                \"name\": \"f29\"\n              },\n              {\n                \"type\": \"float\",\n                \"name\": \"f30\"\n              },\n              {\n                \"type\": \"float\",\n                \"name\": \"f31\"\n              },\n              {\n                \"type\": \"float\",\n                \"name\": \"f32\"\n              },\n              {\n                \"type\": \"float\",\n                \"name\": \"f33\"\n              },\n              {\n                \"type\": \"float\",\n                \"name\": \"f34\"\n              },\n              {\n                \"type\": \"float\",\n                \"name\": \"f35\"\n              },\n              {\n                \"type\": \"float\",\n                \"name\": \"f36\"\n              },\n              {\n                \"type\": \"float\",\n                \"name\": \"f37\"\n              },\n              {\n                \"type\": \"float\",\n                \"name\": \"f38\"\n              },\n              {\n                \"type\": \"float\",\n                \"name\": \"f39\"\n              },\n              {\n                \"type\": \"float\",\n                \"name\": \"f40\"\n              },\n              {\n                \"type\": \"float\",\n                \"name\": \"f41\"\n              },\n              {\n                \"type\": \"float\",\n                \"name\": \"f42\"\n              },\n              {\n                \"type\": \"float\",\n                \"name\": \"f43\"\n              },\n              {\n                \"type\": \"float\",\n                \"name\": \"f44\"\n              },\n              {\n                \"type\": \"float\",\n                \"name\": \"f45\"\n              },\n              {\n                \"type\": \"float\",\n                \"name\": \"f46\"\n              },\n              {\n                \"type\": \"float\",\n                \"name\": \"f47\"\n              },\n              {\n                \"type\": \"float\",\n                \"name\": \"f48\"\n              },\n              {\n                \"type\": \"float\",\n                \"name\": \"f49\"\n              },\n              {\n                \"type\": \"float\",\n                \"name\": \"f50\"\n              },\n              {\n                \"type\": \"float\",\n                \"name\": \"f51\"\n              },\n              {\n                \"type\": \"float\",\n                \"name\": \"f52\"\n              },\n              {\n                \"type\": \"float\",\n                \"name\": \"f53\"\n              },\n              {\n                \"type\": \"float\",\n                \"name\": \"f54\"\n              },\n              {\n                \"type\": \"float\",\n                \"name\": \"f55\"\n              },\n              {\n                \"type\": \"float\",\n                \"name\": \"f56\"\n              },\n              {\n                \"type\": \"float\",\n                \"name\": \"f57\"\n              },\n              {\n                \"type\": \"float\",\n                \"name\": \"f58\"\n              },\n              {\n                \"type\": \"float\",\n                \"name\": \"f59\"\n              },\n              {\n                \"type\": \"float\",\n                \"name\": \"f60\"\n              },\n              {\n                \"type\": \"float\",\n                \"name\": \"f61\"\n              },\n              {\n                \"type\": \"float\",\n                \"name\": \"f62\"\n              },\n              {\n                \"type\": \"float\",\n                \"name\": \"f63\"\n              }\n            ],\n            \"type\": \"ndarray\"\n          },\n          \"labels\": {\n            \"fields\": [\n              {\n                \"type\": \"int\",\n                \"name\": \"l1\"\n              }\n            ],\n            \"type\": \"ndarray\"\n          }\n        },\n        \"learning_iterations_url\": \"https://ibm-watson-ml.mybluemix.net/v3/wml_instances/a153b37a-2b65-47e6-b0ef-2d71da079c4f/published_models/c4d867d8-3e51-470e-a300-ef6a4ea669bc/learning_iterations\",\n        \"evaluation_metrics_url\": \"https://ibm-watson-ml.mybluemix.net/v3/wml_instances/a153b37a-2b65-47e6-b0ef-2d71da079c4f/published_models/c4d867d8-3e51-470e-a300-ef6a4ea669bc/evaluation_metrics\",\n        \"author\": {\n          \"email\": \"ibm@ibm.com\",\n          \"name\": \"IBM\"\n        }\n      }\n    }\n  ],\n  \"count\": 2\n}\n", 
                    "output_type": "stream"
                }
            ], 
            "source": "models_details = client.repository.get_details()\n\nprint(json.dumps(models_details, indent=2))", 
            "execution_count": 20, 
            "cell_type": "code", 
            "metadata": {}
        }, 
        {
            "source": "### 4.3: Load model", 
            "cell_type": "markdown", 
            "metadata": {}
        }, 
        {
            "source": "In this subsection you will learn how to load back saved model from specified instance of Watson Machine Learning.", 
            "cell_type": "markdown", 
            "metadata": {}
        }, 
        {
            "outputs": [], 
            "source": "loaded_model = client.repository.load(published_model.uid)", 
            "execution_count": 21, 
            "cell_type": "code", 
            "metadata": {
                "collapsed": true
            }
        }, 
        {
            "source": "You can make predictions to check that model has been loaded correctly.", 
            "cell_type": "markdown", 
            "metadata": {}
        }, 
        {
            "outputs": [], 
            "source": "test_predictions = loaded_model.predict(test_data[:10])", 
            "execution_count": 22, 
            "cell_type": "code", 
            "metadata": {
                "collapsed": true
            }
        }, 
        {
            "outputs": [
                {
                    "data": {
                        "text/plain": "array([4, 0, 5, 3, 6, 9, 6, 4, 7, 5])"
                    }, 
                    "execution_count": 23, 
                    "output_type": "execute_result", 
                    "metadata": {}
                }
            ], 
            "source": "test_predictions", 
            "execution_count": 23, 
            "cell_type": "code", 
            "metadata": {}
        }, 
        {
            "source": "As you can see you are able to make predictions, so model is loaded back correctly. You have already learned how save to and load the model from Watson Machine Learning repository.", 
            "cell_type": "markdown", 
            "metadata": {}
        }, 
        {
            "source": "### 4.4: Delete model", 
            "cell_type": "markdown", 
            "metadata": {}
        }, 
        {
            "source": "You can delete published model from Watson Machine Learning repository using below code. The code is commented out at this stage since the model will be needed later for deployment.", 
            "cell_type": "markdown", 
            "metadata": {}
        }, 
        {
            "outputs": [], 
            "source": "# client.repository.delete(published_model.uid)", 
            "execution_count": 24, 
            "cell_type": "code", 
            "metadata": {
                "collapsed": true
            }
        }, 
        {
            "source": "<a id=\"scoring\"></a>\n## 5. Deploy and score in a Cloud", 
            "cell_type": "markdown", 
            "metadata": {}
        }, 
        {
            "source": "In this section you will learn how to create online scoring and to score a new data record by using the Watson Machine Learning Client.", 
            "cell_type": "markdown", 
            "metadata": {}
        }, 
        {
            "source": "### 5.1: Create model deployment", 
            "cell_type": "markdown", 
            "metadata": {}
        }, 
        {
            "source": "#### Create online deployment for published model", 
            "cell_type": "markdown", 
            "metadata": {}
        }, 
        {
            "outputs": [], 
            "source": "created_deployment = client.deployments.create(published_model.uid, \"Deployment of locally created scikit model\")", 
            "execution_count": 25, 
            "cell_type": "code", 
            "metadata": {
                "collapsed": true
            }
        }, 
        {
            "source": "**Note**: Here we use deployment url saved in published_model object. In next section we show how to retrive deployment url from Watson Mchine Learning instance.", 
            "cell_type": "markdown", 
            "metadata": {}
        }, 
        {
            "source": "Now you can print an online scoring endpoint. ", 
            "cell_type": "markdown", 
            "metadata": {}
        }, 
        {
            "outputs": [
                {
                    "name": "stdout", 
                    "text": "https://ibm-watson-ml.mybluemix.net/v3/wml_instances/a153b37a-2b65-47e6-b0ef-2d71da079c4f/published_models/c4d867d8-3e51-470e-a300-ef6a4ea669bc/deployments/ea03b97a-19b9-43dc-9f81-dee88d1d68f8/online\n", 
                    "output_type": "stream"
                }
            ], 
            "source": "scoring_endpoint = client.deployments.get_scoring_url(created_deployment)\n\nprint(scoring_endpoint)", 
            "execution_count": 26, 
            "cell_type": "code", 
            "metadata": {}
        }, 
        {
            "source": "### 5.2: Get deployments", 
            "cell_type": "markdown", 
            "metadata": {}
        }, 
        {
            "outputs": [
                {
                    "name": "stdout", 
                    "text": "{\n  \"resources\": [\n    {\n      \"metadata\": {\n        \"created_at\": \"2017-12-05T13:31:18.356Z\",\n        \"url\": \"https://ibm-watson-ml.mybluemix.net/v3/wml_instances/a153b37a-2b65-47e6-b0ef-2d71da079c4f/published_models/4ab4b831-8bf5-4d19-8231-896bf1f2f699/deployments/980ed6fb-c16f-4d98-8c71-d6eeb95093fe\",\n        \"modified_at\": \"2017-12-05T13:31:19.322Z\",\n        \"guid\": \"980ed6fb-c16f-4d98-8c71-d6eeb95093fe\"\n      },\n      \"entity\": {\n        \"scoring_url\": \"https://ibm-watson-ml.mybluemix.net/v3/wml_instances/a153b37a-2b65-47e6-b0ef-2d71da079c4f/published_models/4ab4b831-8bf5-4d19-8231-896bf1f2f699/deployments/980ed6fb-c16f-4d98-8c71-d6eeb95093fe/online\",\n        \"runtime_environment\": \"python-3.5\",\n        \"published_model\": {\n          \"created_at\": \"2017-12-05T13:31:18.312Z\",\n          \"name\": \"My cool mnist model\",\n          \"url\": \"https://ibm-watson-ml.mybluemix.net/v3/wml_instances/a153b37a-2b65-47e6-b0ef-2d71da079c4f/published_models/4ab4b831-8bf5-4d19-8231-896bf1f2f699\",\n          \"guid\": \"4ab4b831-8bf5-4d19-8231-896bf1f2f699\"\n        },\n        \"name\": \"Mnist model deployment\",\n        \"description\": \"Model deployment\",\n        \"model_type\": \"tensorflow-1.2\",\n        \"status\": \"ACTIVE\",\n        \"type\": \"online\",\n        \"deployed_version\": {\n          \"url\": \"https://ibm-watson-ml.mybluemix.net/v3/ml_assets/models/4ab4b831-8bf5-4d19-8231-896bf1f2f699/versions/7cfb5dcc-6b62-419e-a1db-7e7d7dc8f0cc\",\n          \"guid\": \"7cfb5dcc-6b62-419e-a1db-7e7d7dc8f0cc\"\n        }\n      }\n    },\n    {\n      \"metadata\": {\n        \"created_at\": \"2017-12-05T13:53:27.053Z\",\n        \"url\": \"https://ibm-watson-ml.mybluemix.net/v3/wml_instances/a153b37a-2b65-47e6-b0ef-2d71da079c4f/published_models/c4d867d8-3e51-470e-a300-ef6a4ea669bc/deployments/ea03b97a-19b9-43dc-9f81-dee88d1d68f8\",\n        \"modified_at\": \"2017-12-05T13:53:29.146Z\",\n        \"guid\": \"ea03b97a-19b9-43dc-9f81-dee88d1d68f8\"\n      },\n      \"entity\": {\n        \"scoring_url\": \"https://ibm-watson-ml.mybluemix.net/v3/wml_instances/a153b37a-2b65-47e6-b0ef-2d71da079c4f/published_models/c4d867d8-3e51-470e-a300-ef6a4ea669bc/deployments/ea03b97a-19b9-43dc-9f81-dee88d1d68f8/online\",\n        \"runtime_environment\": \"None Provided\",\n        \"published_model\": {\n          \"url\": \"https://ibm-watson-ml.mybluemix.net/v3/wml_instances/a153b37a-2b65-47e6-b0ef-2d71da079c4f/published_models/c4d867d8-3e51-470e-a300-ef6a4ea669bc\",\n          \"name\": \"LOCALLY created Digits prediction model\",\n          \"author\": {\n            \"email\": \"ibm@ibm.com\",\n            \"name\": \"IBM\"\n          },\n          \"guid\": \"c4d867d8-3e51-470e-a300-ef6a4ea669bc\",\n          \"created_at\": \"2017-12-05T13:53:27.021Z\"\n        },\n        \"name\": \"Deployment of locally created scikit model\",\n        \"description\": \"Model deployment\",\n        \"model_type\": \"scikit-learn-0.17\",\n        \"status\": \"ACTIVE\",\n        \"type\": \"online\",\n        \"deployed_version\": {\n          \"url\": \"https://ibm-watson-ml.mybluemix.net/v3/ml_assets/models/c4d867d8-3e51-470e-a300-ef6a4ea669bc/versions/1175636d-5de3-4786-9d8c-2632fc1646d4\",\n          \"guid\": \"1175636d-5de3-4786-9d8c-2632fc1646d4\"\n        }\n      }\n    }\n  ],\n  \"count\": 2\n}\n", 
                    "output_type": "stream"
                }
            ], 
            "source": "deployments = client.deployments.get_details()\n\nprint(json.dumps(deployments, indent=2))", 
            "execution_count": 27, 
            "cell_type": "code", 
            "metadata": {}
        }, 
        {
            "source": "You can get deployment_url by parsing deployment details for last deployed model.", 
            "cell_type": "markdown", 
            "metadata": {}
        }, 
        {
            "outputs": [
                {
                    "name": "stdout", 
                    "text": "https://ibm-watson-ml.mybluemix.net/v3/wml_instances/a153b37a-2b65-47e6-b0ef-2d71da079c4f/published_models/c4d867d8-3e51-470e-a300-ef6a4ea669bc/deployments/ea03b97a-19b9-43dc-9f81-dee88d1d68f8\n", 
                    "output_type": "stream"
                }
            ], 
            "source": "deployment_url = client.deployments.get_deployment_url(created_deployment)\n\nprint(deployment_url)", 
            "execution_count": 28, 
            "cell_type": "code", 
            "metadata": {}
        }, 
        {
            "source": "### 5.3: Score", 
            "cell_type": "markdown", 
            "metadata": {}
        }, 
        {
            "source": "You can use below method to do test scoring request against deployed model.", 
            "cell_type": "markdown", 
            "metadata": {}
        }, 
        {
            "source": "**Action**: Prepare scoring payload with records to score.", 
            "cell_type": "markdown", 
            "metadata": {}
        }, 
        {
            "outputs": [], 
            "source": "scoring_payload = {\"values\": [list(score_data[0]), list(score_data[1])]}", 
            "execution_count": 29, 
            "cell_type": "code", 
            "metadata": {
                "collapsed": true
            }
        }, 
        {
            "source": "Use ``client.deployments.score()`` method to run scoring.", 
            "cell_type": "markdown", 
            "metadata": {}
        }, 
        {
            "outputs": [], 
            "source": "predictions = client.deployments.score(scoring_endpoint, scoring_payload)", 
            "execution_count": 30, 
            "cell_type": "code", 
            "metadata": {
                "collapsed": true
            }
        }, 
        {
            "outputs": [
                {
                    "name": "stdout", 
                    "text": "{\n  \"fields\": [\n    \"prediction\"\n  ],\n  \"values\": [\n    [\n      5\n    ],\n    [\n      2\n    ]\n  ]\n}\n", 
                    "output_type": "stream"
                }
            ], 
            "source": "print(json.dumps(predictions, indent=2))", 
            "execution_count": 31, 
            "cell_type": "code", 
            "metadata": {}
        }, 
        {
            "source": "### 5.4: Delete deployment", 
            "cell_type": "markdown", 
            "metadata": {}
        }, 
        {
            "source": "Use the following method to delete deployment.", 
            "cell_type": "markdown", 
            "metadata": {}
        }, 
        {
            "outputs": [
                {
                    "data": {
                        "text/plain": "True"
                    }, 
                    "execution_count": 32, 
                    "output_type": "execute_result", 
                    "metadata": {}
                }
            ], 
            "source": "client.deployments.delete(deployment_url)", 
            "execution_count": 32, 
            "cell_type": "code", 
            "metadata": {}
        }, 
        {
            "source": "You can check number of depoyments by running ``client.deployment.get()`` method.", 
            "cell_type": "markdown", 
            "metadata": {}
        }, 
        {
            "outputs": [
                {
                    "data": {
                        "text/plain": "{'count': 1,\n 'resources': [{'entity': {'deployed_version': {'guid': '7cfb5dcc-6b62-419e-a1db-7e7d7dc8f0cc',\n     'url': 'https://ibm-watson-ml.mybluemix.net/v3/ml_assets/models/4ab4b831-8bf5-4d19-8231-896bf1f2f699/versions/7cfb5dcc-6b62-419e-a1db-7e7d7dc8f0cc'},\n    'description': 'Model deployment',\n    'model_type': 'tensorflow-1.2',\n    'name': 'Mnist model deployment',\n    'published_model': {'created_at': '2017-12-05T13:31:18.312Z',\n     'guid': '4ab4b831-8bf5-4d19-8231-896bf1f2f699',\n     'name': 'My cool mnist model',\n     'url': 'https://ibm-watson-ml.mybluemix.net/v3/wml_instances/a153b37a-2b65-47e6-b0ef-2d71da079c4f/published_models/4ab4b831-8bf5-4d19-8231-896bf1f2f699'},\n    'runtime_environment': 'python-3.5',\n    'scoring_url': 'https://ibm-watson-ml.mybluemix.net/v3/wml_instances/a153b37a-2b65-47e6-b0ef-2d71da079c4f/published_models/4ab4b831-8bf5-4d19-8231-896bf1f2f699/deployments/980ed6fb-c16f-4d98-8c71-d6eeb95093fe/online',\n    'status': 'ACTIVE',\n    'type': 'online'},\n   'metadata': {'created_at': '2017-12-05T13:31:18.356Z',\n    'guid': '980ed6fb-c16f-4d98-8c71-d6eeb95093fe',\n    'modified_at': '2017-12-05T13:31:19.322Z',\n    'url': 'https://ibm-watson-ml.mybluemix.net/v3/wml_instances/a153b37a-2b65-47e6-b0ef-2d71da079c4f/published_models/4ab4b831-8bf5-4d19-8231-896bf1f2f699/deployments/980ed6fb-c16f-4d98-8c71-d6eeb95093fe'}}]}"
                    }, 
                    "execution_count": 33, 
                    "output_type": "execute_result", 
                    "metadata": {}
                }
            ], 
            "source": "client.deployments.get_details()", 
            "execution_count": 33, 
            "cell_type": "code", 
            "metadata": {}
        }, 
        {
            "source": "### 5.5: Delete model", 
            "cell_type": "markdown", 
            "metadata": {}
        }, 
        {
            "outputs": [], 
            "source": "client.repository.delete(published_model.uid)", 
            "execution_count": 34, 
            "cell_type": "code", 
            "metadata": {
                "collapsed": true
            }
        }, 
        {
            "source": "You can check number of your models by running below ``client.repository.get_details()`` method.", 
            "cell_type": "markdown", 
            "metadata": {}
        }, 
        {
            "outputs": [
                {
                    "data": {
                        "text/plain": "{'count': 1,\n 'resources': [{'entity': {'deployed_version': {'guid': '7cfb5dcc-6b62-419e-a1db-7e7d7dc8f0cc',\n     'url': 'https://ibm-watson-ml.mybluemix.net/v3/ml_assets/models/4ab4b831-8bf5-4d19-8231-896bf1f2f699/versions/7cfb5dcc-6b62-419e-a1db-7e7d7dc8f0cc'},\n    'deployments': {'count': 1,\n     'url': 'https://ibm-watson-ml.mybluemix.net/v3/wml_instances/a153b37a-2b65-47e6-b0ef-2d71da079c4f/published_models/4ab4b831-8bf5-4d19-8231-896bf1f2f699/deployments'},\n    'evaluation_metrics_url': 'https://ibm-watson-ml.mybluemix.net/v3/wml_instances/a153b37a-2b65-47e6-b0ef-2d71da079c4f/published_models/4ab4b831-8bf5-4d19-8231-896bf1f2f699/evaluation_metrics',\n    'feedback_url': 'https://ibm-watson-ml.mybluemix.net/v3/wml_instances/a153b37a-2b65-47e6-b0ef-2d71da079c4f/published_models/4ab4b831-8bf5-4d19-8231-896bf1f2f699/feedback',\n    'label_col': '',\n    'latest_version': {'created_at': '2017-12-05T13:30:44.295Z',\n     'guid': '7cfb5dcc-6b62-419e-a1db-7e7d7dc8f0cc',\n     'url': 'https://ibm-watson-ml.mybluemix.net/v3/ml_assets/models/4ab4b831-8bf5-4d19-8231-896bf1f2f699/versions/7cfb5dcc-6b62-419e-a1db-7e7d7dc8f0cc'},\n    'learning_configuration_url': 'https://ibm-watson-ml.mybluemix.net/v3/wml_instances/a153b37a-2b65-47e6-b0ef-2d71da079c4f/published_models/4ab4b831-8bf5-4d19-8231-896bf1f2f699/learning_configuration',\n    'learning_iterations_url': 'https://ibm-watson-ml.mybluemix.net/v3/wml_instances/a153b37a-2b65-47e6-b0ef-2d71da079c4f/published_models/4ab4b831-8bf5-4d19-8231-896bf1f2f699/learning_iterations',\n    'model_type': 'tensorflow-1.2',\n    'name': 'My cool mnist model',\n    'runtime_environment': 'python-3.5'},\n   'metadata': {'created_at': '2017-12-05T13:30:42.254Z',\n    'guid': '4ab4b831-8bf5-4d19-8231-896bf1f2f699',\n    'modified_at': '2017-12-05T13:31:19.354Z',\n    'url': 'https://ibm-watson-ml.mybluemix.net/v3/wml_instances/a153b37a-2b65-47e6-b0ef-2d71da079c4f/published_models/4ab4b831-8bf5-4d19-8231-896bf1f2f699'}}]}"
                    }, 
                    "execution_count": 35, 
                    "output_type": "execute_result", 
                    "metadata": {}
                }
            ], 
            "source": "client.repository.get_details()", 
            "execution_count": 35, 
            "cell_type": "code", 
            "metadata": {}
        }, 
        {
            "source": "<a id=\"summary\"></a>\n## 6. Summary and next steps     ", 
            "cell_type": "markdown", 
            "metadata": {
                "collapsed": true
            }
        }, 
        {
            "source": " You successfully completed this notebook! You learned how to use scikit-learn machine learning as well as Watson Machine Learning for model creation and deployment. Check out our _[Online Documentation](https://console.ng.bluemix.net/docs/services/PredictiveModeling/index.html?pos=2)_ for more samples, tutorials, documentation, how-tos, and blog posts. ", 
            "cell_type": "markdown", 
            "metadata": {
                "collapsed": true
            }
        }, 
        {
            "source": "### Authors\n\n**Wojciech Sobala**, Data Scientist in IBM developing enterprise-level applications that substantially increases clients' ability to turn data into actionable knowledge.", 
            "cell_type": "markdown", 
            "metadata": {}
        }, 
        {
            "source": "Copyright \u00a9 2017 IBM. This notebook and its source code are released under the terms of the MIT License.", 
            "cell_type": "markdown", 
            "metadata": {}
        }
    ], 
    "nbformat": 4, 
    "metadata": {
        "kernelspec": {
            "name": "python3-spark21", 
            "language": "python", 
            "display_name": "Python 3.5 (Experimental) with Spark 2.1"
        }, 
        "language_info": {
            "version": "3.5.2", 
            "name": "python", 
            "pygments_lexer": "ipython3", 
            "mimetype": "text/x-python", 
            "codemirror_mode": {
                "name": "ipython", 
                "version": 3
            }, 
            "file_extension": ".py", 
            "nbconvert_exporter": "python"
        }
    }
}