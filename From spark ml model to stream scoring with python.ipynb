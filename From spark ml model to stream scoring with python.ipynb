{
    "metadata": {
        "kernelspec": {
            "name": "python2-spark20", 
            "display_name": "Python 2 with Spark 2.0", 
            "language": "python"
        }, 
        "language_info": {
            "codemirror_mode": {
                "version": 2, 
                "name": "ipython"
            }, 
            "name": "python", 
            "mimetype": "text/x-python", 
            "pygments_lexer": "ipython2", 
            "version": "2.7.11", 
            "file_extension": ".py", 
            "nbconvert_exporter": "python"
        }
    }, 
    "cells": [
        {
            "metadata": {}, 
            "cell_type": "markdown", 
            "source": "<table style=\"border: none\" align=\"left\">\n   <tr style=\"border: none\">\n      <th style=\"border: none\"><font face=\"verdana\" size=\"5\" color=\"black\"><b>Twitter sentiment analysis with IBM Watson Machine Learning</b></th>\n      <th style=\"border: none\"><img src=\"https://github.com/pmservice/customer-satisfaction-prediction/blob/master/app/static/images/ml_icon_gray.png?raw=true\" alt=\"Watson Machine Learning icon\" height=\"40\" width=\"40\"></th>\n   <tr style=\"border: none\">\n       <th style=\"border: none\"><img src=\"https://github.com/pmservice/wml-sample-models/blob/master/spark/sentiment-prediction/images/sentiment_banner_3-04.png?raw=true\" width=\"600\" alt=\"Icon\"> </th>\n   </tr>\n</table>"
        }, 
        {
            "metadata": {}, 
            "cell_type": "markdown", 
            "source": "This notebook contains steps and code to develop a predictive model, and start scoring new data. This notebook introduces commands for getting data and for basic data cleaning and exploration, pipeline creation, model training, model persistance to Watson Machine Learning repository, model deployment, and scoring.\n\nSome familiarity with Python is helpful. This notebook uses Python 2.0 and Apache\u00ae Spark 2.0.\n\nYou will use a data set named **Twitter Sentiment**, which includes many tweets and their binary labels (e.g. POSITIVE or NEGATIVE). Use the details of this data set to predict sentiment of tweets.\n\n## Learning goals\n\nThe learning goals of this notebook are:\n\n-  Load a CSV file into an Apache\u00ae Spark DataFrame.\n-  Explore data.\n-  Prepare data for training and evaluation.\n-  Create an Apache\u00ae Spark machine learning pipeline.\n-  Train and evaluate a model.\n-  Persist a pipeline and model in Watson Machine Learning repository.\n-  Explore and visualize prediction result using the plotly package.\n-  Deploy a model for streaming using Wastson Machine Learning API.\n-  Working with Bluemix MessageHub.\n\n\n## Contents\n\nThis notebook contains the following parts:\n\n1.\t[Setup](#setup)\n2.\t[Load and explore data](#load)\n3.\t[Create spark ml model](#model)\n4.\t[Persist model](#persistence)\n5.\t[Predict locally and visualize](#visualization)\n6.\t[Deploy and score in a Cloud](#scoring)\n7.\t[Summary and next steps](#summary)"
        }, 
        {
            "metadata": {}, 
            "cell_type": "markdown", 
            "source": "<a id=\"setup\"></a>\n## 1. Setup\n\nBefore you use the sample code in this notebook, you must perform the following setup tasks:\n\n### Required Bluemix services\n\n-  Create a [Watson Machine Learning Service](https://console.ng.bluemix.net/catalog/services/ibm-watson-machine-learning/) instance (a free plan is offered). \n-  Create a [MessageHub Service](https://console.bluemix.net/catalog) instance (free plan is offered).\n-  Create two topics in MessageHub: **streamingi** and **streamingo**. \n-  Make sure that you are using a Spark 2.0 kernel.\n\n**Note**:  Get your credentials from Manage Credentials section of Watson Machine Learning and MessageHub Service.\n\n### Twitter Sentiment Data\n\nThe Twitter Sentiment data is available on [project's Github page](https://github.com/pmservice/wml-sample-models/tree/master/spark/sentiment-prediction)."
        }, 
        {
            "metadata": {}, 
            "cell_type": "markdown", 
            "source": "<a id=\"load\"></a>\n## 2. Load and explore data"
        }, 
        {
            "metadata": {}, 
            "cell_type": "markdown", 
            "source": "In this section you will load the data as an Apache\u00ae Spark DataFrame and perform a basic exploration.\n\n**Tip**: First, you need to install required packages. You can do it by running the following code. You can run the code below after changing **cell type** to `code`."
        }, 
        {
            "metadata": {}, 
            "cell_type": "raw", 
            "source": "!pip install wget --user "
        }, 
        {
            "metadata": {
                "collapsed": true
            }, 
            "cell_type": "code", 
            "outputs": [], 
            "source": "import wget\nfrom pprint import PrettyPrinter\n\npp = PrettyPrinter(indent=2, depth=3).pprint", 
            "execution_count": 1
        }, 
        {
            "metadata": {}, 
            "cell_type": "code", 
            "outputs": [
                {
                    "output_type": "stream", 
                    "name": "stdout", 
                    "text": "trainingTweets.csv\n"
                }
            ], 
            "source": "link_to_data = 'https://github.com/pmservice/wml-sample-models/raw/master/spark/sentiment-prediction/data/trainingTweets.csv'\nfilename = wget.download(link_to_data)\n\nprint(filename)", 
            "execution_count": 2
        }, 
        {
            "metadata": {}, 
            "cell_type": "markdown", 
            "source": "The csv file trainingTweets.csv is availble on gpfs now. Load the file to Apache\u00ae Spark DataFrame using code below."
        }, 
        {
            "metadata": {
                "collapsed": true
            }, 
            "cell_type": "code", 
            "outputs": [], 
            "source": "spark = SparkSession.builder.getOrCreate()\n\ndf_data = spark.read\\\n  .format('org.apache.spark.sql.execution.datasources.csv.CSVFileFormat')\\\n  .option('header', 'true')\\\n  .option('inferSchema', 'true')\\\n  .load(filename)", 
            "execution_count": 3
        }, 
        {
            "metadata": {}, 
            "cell_type": "markdown", 
            "source": "Explore the loaded data by using Apache\u00ae Spark DataFrame methods:\n-  print schema\n-  print first ten records\n-  count all records"
        }, 
        {
            "metadata": {}, 
            "cell_type": "code", 
            "outputs": [
                {
                    "output_type": "stream", 
                    "name": "stdout", 
                    "text": "root\n |-- id: integer (nullable = true)\n |-- text: string (nullable = true)\n |-- label: integer (nullable = true)\n\n"
                }
            ], 
            "source": "df_data.printSchema()", 
            "execution_count": 4
        }, 
        {
            "metadata": {}, 
            "cell_type": "markdown", 
            "source": "As you can see, the data contains 3 fields. ``label`` field is the one we would like to classify tweets."
        }, 
        {
            "metadata": {}, 
            "cell_type": "code", 
            "outputs": [
                {
                    "output_type": "stream", 
                    "name": "stdout", 
                    "text": "+---+--------------------+-----+\n| id|                text|label|\n+---+--------------------+-----+\n|  1|realdonaldtrump s...|    1|\n|  2|cnnvideo hillaryc...|    1|\n|  3|realdonaldtrump t...|    1|\n|  4|sensanders the am...|    1|\n|  5|billburton realdo...|    0|\n|  6|reince hillarycli...|    0|\n|  7|bentechpro realdo...|    1|\n|  8|dahbigj hopeobama...|    0|\n|  9|theosmelek thuddy...|    0|\n| 10|realdonaldtrump r...|    0|\n| 11|jnjinnovation nee...|    0|\n| 12|sen tedcruz halbi...|    1|\n| 13|progressiveswin t...|    1|\n| 14|mclem retward rea...|    1|\n| 15|sometimes the onl...|    0|\n| 16|cassandra17lina e...|    1|\n| 17|realdonaldtrump d...|    1|\n| 18|willmcavoyacn hey...|    0|\n| 19|hillaryclinton i ...|    0|\n| 20|realdonaldtrump d...|    0|\n+---+--------------------+-----+\nonly showing top 20 rows\n\n"
                }
            ], 
            "source": "df_data.show(n=10)", 
            "execution_count": 5
        }, 
        {
            "metadata": {}, 
            "cell_type": "code", 
            "outputs": [
                {
                    "output_type": "stream", 
                    "name": "stdout", 
                    "text": "Total number of records: 5987\n"
                }
            ], 
            "source": "print(\"Total number of records: {count}\".format(count=df_data.count()))", 
            "execution_count": 6
        }, 
        {
            "metadata": {}, 
            "cell_type": "markdown", 
            "source": "Data set contains 5987 records."
        }, 
        {
            "metadata": {}, 
            "cell_type": "markdown", 
            "source": "<a id=\"model\"></a>\n## 3. Create an Apache\u00ae Spark machine learning model\n\nIn this section you will learn how to prepare data, create an Apache\u00ae Spark machine learning pipeline, and train a model."
        }, 
        {
            "metadata": {}, 
            "cell_type": "markdown", 
            "source": "### 3.1: Prepare data\n\nIn this subsection you will split your data into: \n-  The train data set, which is the largest group, is used for training.\n-  The test data set will be used for model evaluation and is used to test the assumptions of the model.\n-  The predict data set will be used for prediction."
        }, 
        {
            "metadata": {}, 
            "cell_type": "code", 
            "outputs": [
                {
                    "output_type": "stream", 
                    "name": "stdout", 
                    "text": "Number of training records: 4783\nNumber of testing records: 1076\nNumber of prediction records: 128\n"
                }
            ], 
            "source": "splitted_data = df_data.randomSplit([0.8, 0.18, 0.02], 24)\ntrain_data = splitted_data[0]\ntest_data = splitted_data[1]\npredict_data = splitted_data[2]\n\nprint(\"Number of training records: {count}\".format(count=train_data.count()))\nprint(\"Number of testing records: {count}\".format(count=test_data.count()))\nprint(\"Number of prediction records: {count}\".format(count=predict_data.count()))", 
            "execution_count": 7
        }, 
        {
            "metadata": {}, 
            "cell_type": "markdown", 
            "source": "### 3.2: Create pipeline and train a model"
        }, 
        {
            "metadata": {}, 
            "cell_type": "markdown", 
            "source": "In this section you will create an Apache\u00ae Spark machine learning pipeline and then train the model."
        }, 
        {
            "metadata": {}, 
            "cell_type": "markdown", 
            "source": "In the first step you need to import the Apache\u00ae Spark machine learning packages that will be needed in the subsequent steps."
        }, 
        {
            "metadata": {
                "collapsed": true
            }, 
            "cell_type": "code", 
            "outputs": [], 
            "source": "from pyspark.ml.feature import Tokenizer, OneHotEncoder, StringIndexer, HashingTF\nfrom pyspark.ml.classification import LogisticRegression\nfrom pyspark.ml.evaluation import BinaryClassificationEvaluator\nfrom pyspark.ml.tuning import ParamGridBuilder, CrossValidator\nfrom pyspark.ml import Pipeline, Model", 
            "execution_count": 8
        }, 
        {
            "metadata": {}, 
            "cell_type": "markdown", 
            "source": "In the data preprocessing step, convert all the string fields to numeric ones by using **Tokenizer** and then **HashingTF** transformer."
        }, 
        {
            "metadata": {
                "collapsed": true
            }, 
            "cell_type": "code", 
            "outputs": [], 
            "source": "tokenizer = Tokenizer(inputCol=\"text\", outputCol=\"words\")\nhashingTF = HashingTF(inputCol=tokenizer.getOutputCol(), outputCol=\"features\")", 
            "execution_count": 9
        }, 
        {
            "metadata": {}, 
            "cell_type": "markdown", 
            "source": "Next, define estimator you want to use for classification. Logistic Regression is used in the following example."
        }, 
        {
            "metadata": {
                "collapsed": true
            }, 
            "cell_type": "code", 
            "outputs": [], 
            "source": "lr = LogisticRegression(maxIter=10, regParam=0.01)", 
            "execution_count": 10
        }, 
        {
            "metadata": {}, 
            "cell_type": "markdown", 
            "source": "Let's build the pipeline now. A pipeline consists of transformers and an estimator."
        }, 
        {
            "metadata": {
                "collapsed": true
            }, 
            "cell_type": "code", 
            "outputs": [], 
            "source": "pipeline_lr = Pipeline(stages=[tokenizer, hashingTF, lr])", 
            "execution_count": 11
        }, 
        {
            "metadata": {}, 
            "cell_type": "markdown", 
            "source": "Now, you can train your Logistic Regression model by using previously defined **pipeline** and **train data**."
        }, 
        {
            "metadata": {
                "collapsed": true
            }, 
            "cell_type": "code", 
            "outputs": [], 
            "source": "model_lr = pipeline_lr.fit(train_data)", 
            "execution_count": 12
        }, 
        {
            "metadata": {}, 
            "cell_type": "markdown", 
            "source": "You can evaluate the model on the test data. Area under ROC will be used as evaluation metrics."
        }, 
        {
            "metadata": {}, 
            "cell_type": "code", 
            "outputs": [
                {
                    "output_type": "stream", 
                    "name": "stdout", 
                    "text": "Accuracy = 0.762\n"
                }
            ], 
            "source": "predictions = model_lr.transform(test_data)\nevaluatorRF = BinaryClassificationEvaluator(labelCol=\"label\", rawPredictionCol=\"prediction\", metricName=\"areaUnderROC\")\naccuracy = evaluatorRF.evaluate(predictions)\n\nprint(\"Accuracy = {acc:4.3f}\".format(acc=accuracy))", 
            "execution_count": 13
        }, 
        {
            "metadata": {
                "collapsed": true
            }, 
            "cell_type": "markdown", 
            "source": "Now you can tune your model to achieve better accuracy. For simplicity of this notebook, tuning section is omitted."
        }, 
        {
            "metadata": {
                "collapsed": true
            }, 
            "cell_type": "markdown", 
            "source": "<a id=\"persistence\"></a>\n## 4. Persist model"
        }, 
        {
            "metadata": {}, 
            "cell_type": "markdown", 
            "source": "In this section you will learn how to store your pipeline and model in Watson Machine Learning repository by using python client libraries."
        }, 
        {
            "metadata": {
                "collapsed": true
            }, 
            "cell_type": "markdown", 
            "source": "First, you must import Watson Machine Learning client libraries.\n\n**Note**: Apache\u00ae Spark 2.0 or higher is required."
        }, 
        {
            "metadata": {
                "collapsed": true
            }, 
            "cell_type": "code", 
            "outputs": [], 
            "source": "from repository.mlrepositoryclient import MLRepositoryClient\nfrom repository.mlrepositoryartifact import MLRepositoryArtifact\nfrom repository.mlrepository import MetaProps", 
            "execution_count": 14
        }, 
        {
            "metadata": {
                "collapsed": true
            }, 
            "cell_type": "markdown", 
            "source": "Authenticate to Watson Machine Learning service on Bluemix."
        }, 
        {
            "metadata": {}, 
            "cell_type": "markdown", 
            "source": "**Action**: Put credentials from your instance of **Watson Machine Learning** service in cell bellow."
        }, 
        {
            "metadata": {
                "collapsed": true
            }, 
            "cell_type": "code", 
            "outputs": [], 
            "source": "wml_credentials={\n  \"url\": \"https://ibm-watson-ml.mybluemix.net\",\n  \"access_key\": \"****\",\n  \"username\": \"****\",\n  \"password\": \"****\",\n  \"instance_id\": \"****\"\n}", 
            "execution_count": 15
        }, 
        {
            "metadata": {}, 
            "cell_type": "markdown", 
            "source": "Create WML client and authorize it."
        }, 
        {
            "metadata": {
                "collapsed": true
            }, 
            "cell_type": "code", 
            "outputs": [], 
            "source": "ml_repository_client = MLRepositoryClient(wml_credentials['url'])\nml_repository_client.authorize(wml_credentials['username'], wml_credentials['password'])", 
            "execution_count": 16
        }, 
        {
            "metadata": {}, 
            "cell_type": "markdown", 
            "source": "Create model artifact (abstraction layer)."
        }, 
        {
            "metadata": {
                "collapsed": true
            }, 
            "cell_type": "code", 
            "outputs": [], 
            "source": "model_artifact = MLRepositoryArtifact(model_lr, training_data=train_data, name=\"Sentiment Prediction Model\" )", 
            "execution_count": 17
        }, 
        {
            "metadata": {}, 
            "cell_type": "markdown", 
            "source": "**Tip**: The MLRepositoryArtifact method expects a trained model object, training data, and a model name. (It is this model name that is displayed by the Watson Machine Learning service)."
        }, 
        {
            "metadata": {}, 
            "cell_type": "markdown", 
            "source": "### 4.1: Save pipeline and model"
        }, 
        {
            "metadata": {}, 
            "cell_type": "markdown", 
            "source": "In this subsection you will learn how to save pipeline and model artifacts to your Watson Machine Learning instance."
        }, 
        {
            "metadata": {
                "collapsed": true
            }, 
            "cell_type": "code", 
            "outputs": [], 
            "source": "saved_model = ml_repository_client.models.save(model_artifact)", 
            "execution_count": 18
        }, 
        {
            "metadata": {}, 
            "cell_type": "markdown", 
            "source": "Get saved model metadata from Watson Machine Learning."
        }, 
        {
            "metadata": {}, 
            "cell_type": "markdown", 
            "source": "**Tip**: Use *meta.available_props()* to get the list of available props."
        }, 
        {
            "metadata": {}, 
            "cell_type": "code", 
            "outputs": [
                {
                    "output_type": "stream", 
                    "name": "stdout", 
                    "text": "[ 'inputDataSchema',\n  'evaluationMetrics',\n  'pipelineVersionHref',\n  'modelVersionHref',\n  'trainingDataRef',\n  'pipelineType',\n  'creationTime',\n  'lastUpdated',\n  'label',\n  'authorEmail',\n  'trainingDataSchema',\n  'authorName',\n  'version',\n  'modelType',\n  'runtime',\n  'evaluationMethod']\n"
                }
            ], 
            "source": "pp(saved_model.meta.available_props())", 
            "execution_count": 19
        }, 
        {
            "metadata": {}, 
            "cell_type": "code", 
            "outputs": [
                {
                    "output_type": "stream", 
                    "name": "stdout", 
                    "text": "modelType: sparkml-model-2.0\ntrainingDataSchema: {u'fields': [{u'nullable': True, u'type': u'integer', u'name': u'id', u'metadata': {}}, {u'nullable': True, u'type': u'string', u'name': u'text', u'metadata': {}}, {u'nullable': True, u'type': u'integer', u'name': u'label', u'metadata': {}}], u'type': u'struct'}\ncreationTime: 2017-09-15 12:09:26.167000+00:00\nmodelVersionHref: https://ibm-watson-ml.mybluemix.net/v2/artifacts/models/c575aac9-1dad-4e29-98d4-1f8c7dc8c764/versions/58d2fe5b-7661-459b-b342-a262f5846e61\nlabel: label\n"
                }
            ], 
            "source": "print(\"modelType: {model_type}\".format(model_type=saved_model.meta.prop(\"modelType\")))\nprint(\"trainingDataSchema: {data_schema}\".format(data_schema=saved_model.meta.prop(\"trainingDataSchema\")))\nprint(\"creationTime: {ctime}\".format(ctime=saved_model.meta.prop(\"creationTime\")))\nprint(\"modelVersionHref: {href}\".format(href=saved_model.meta.prop(\"modelVersionHref\")))\nprint(\"label: {label}\".format(label=saved_model.meta.prop(\"label\")))", 
            "execution_count": 20
        }, 
        {
            "metadata": {}, 
            "cell_type": "markdown", 
            "source": "**Tip**: **modelVersionHref** is our model unique indentifier in the Watson Machine Learning repository."
        }, 
        {
            "metadata": {}, 
            "cell_type": "markdown", 
            "source": "### 4.2: Load model"
        }, 
        {
            "metadata": {}, 
            "cell_type": "markdown", 
            "source": "In this subsection you will learn how to load back saved model from specified instance of Watson Machine Learning."
        }, 
        {
            "metadata": {
                "collapsed": true
            }, 
            "cell_type": "code", 
            "outputs": [], 
            "source": "loadedModelArtifact = ml_repository_client.models.get(saved_model.uid)", 
            "execution_count": 21
        }, 
        {
            "metadata": {}, 
            "cell_type": "markdown", 
            "source": "You can print for example model name to make sure that model has been loaded correctly."
        }, 
        {
            "metadata": {}, 
            "cell_type": "code", 
            "outputs": [
                {
                    "output_type": "stream", 
                    "name": "stdout", 
                    "text": "Sentiment Prediction Model\n"
                }
            ], 
            "source": "print(loadedModelArtifact.name)", 
            "execution_count": 22
        }, 
        {
            "metadata": {}, 
            "cell_type": "markdown", 
            "source": "As you can see the name is correct. You have already learned how save and load the model from Watson Machine Learning repository."
        }, 
        {
            "metadata": {}, 
            "cell_type": "markdown", 
            "source": "<a id=\"visualization\"></a>\n## 5. Predict locally and visualize"
        }, 
        {
            "metadata": {}, 
            "cell_type": "markdown", 
            "source": "In this section you will learn how to score test data using loaded model and visualize the prediction results with plotly package."
        }, 
        {
            "metadata": {}, 
            "cell_type": "markdown", 
            "source": "### 5.1: Make local prediction using previously loaded model and test data"
        }, 
        {
            "metadata": {}, 
            "cell_type": "markdown", 
            "source": "In this subsection you will score ``predict_data`` data set."
        }, 
        {
            "metadata": {
                "collapsed": true
            }, 
            "cell_type": "code", 
            "outputs": [], 
            "source": "predictions = loadedModelArtifact.model_instance().transform(predict_data)", 
            "execution_count": 23
        }, 
        {
            "metadata": {}, 
            "cell_type": "markdown", 
            "source": "Preview the results by calling the *show()* method on the predictions DataFrame."
        }, 
        {
            "metadata": {}, 
            "cell_type": "code", 
            "outputs": [
                {
                    "output_type": "stream", 
                    "name": "stdout", 
                    "text": "+---+--------------------+-----+--------------------+--------------------+--------------------+--------------------+----------+\n| id|                text|label|               words|            features|       rawPrediction|         probability|prediction|\n+---+--------------------+-----+--------------------+--------------------+--------------------+--------------------+----------+\n|254|realdonaldtrump t...|    1|[realdonaldtrump,...|(262144,[4312,961...|[-1.3150612511415...|[0.21164114610918...|       1.0|\n|256|realdonaldtrump j...|    0|[realdonaldtrump,...|(262144,[14,13396...|[5.48207446382385...|[0.99585655006955...|       0.0|\n|296|realdonaldtrump t...|    1|[realdonaldtrump,...|(262144,[15889,21...|[-1.3175186267989...|[0.21123142555360...|       1.0|\n|312|sensanders keep t...|    0|[sensanders, keep...|(262144,[32890,91...|[3.29411163264101...|[0.96422625174639...|       0.0|\n|362|katiedaviscourt i...|    0|[katiedaviscourt,...|(262144,[16332,21...|[3.83815328742005...|[0.97892057960460...|       0.0|\n+---+--------------------+-----+--------------------+--------------------+--------------------+--------------------+----------+\nonly showing top 5 rows\n\n"
                }
            ], 
            "source": "predictions.show(5)", 
            "execution_count": 24
        }, 
        {
            "metadata": {}, 
            "cell_type": "markdown", 
            "source": "By tabulating a count, you can see the split by sentiment."
        }, 
        {
            "metadata": {}, 
            "cell_type": "code", 
            "outputs": [
                {
                    "output_type": "stream", 
                    "name": "stdout", 
                    "text": "+-----+-----+\n|label|count|\n+-----+-----+\n|    1|   49|\n|    0|   79|\n+-----+-----+\n\n"
                }
            ], 
            "source": "predictions.select(\"label\").groupBy(\"label\").count().show()", 
            "execution_count": 25
        }, 
        {
            "metadata": {}, 
            "cell_type": "markdown", 
            "source": "### 5.2: Sample visualization of data with Plotly package"
        }, 
        {
            "metadata": {}, 
            "cell_type": "markdown", 
            "source": "In this subsection you will explore prediction results with Plotly, which is an online analytics and data visualization tool."
        }, 
        {
            "metadata": {}, 
            "cell_type": "markdown", 
            "source": "**Tip**: First, you need to install required packages. You can do it by running the following code. Run it only one time."
        }, 
        {
            "metadata": {}, 
            "cell_type": "raw", 
            "source": "!pip install plotly --user\n!pip install cufflinks --user"
        }, 
        {
            "metadata": {}, 
            "cell_type": "code", 
            "outputs": [
                {
                    "metadata": {}, 
                    "output_type": "display_data", 
                    "data": {
                        "text/html": "<script>requirejs.config({paths: { 'plotly': ['https://cdn.plot.ly/plotly-latest.min']},});if(!window.Plotly) {{require(['plotly'],function(plotly) {window.Plotly=plotly;});}}</script>", 
                        "text/vnd.plotly.v1+html": "<script>requirejs.config({paths: { 'plotly': ['https://cdn.plot.ly/plotly-latest.min']},});if(!window.Plotly) {{require(['plotly'],function(plotly) {window.Plotly=plotly;});}}</script>"
                    }
                }
            ], 
            "source": "import sys\nimport pandas\nimport plotly.plotly as py\nfrom plotly.offline import download_plotlyjs, init_notebook_mode, plot, iplot\nimport cufflinks as cf\nimport plotly.graph_objs as go\n\ninit_notebook_mode(connected=True)\nsys.path.append(\"\".join([os.environ[\"HOME\"]])) ", 
            "execution_count": 26
        }, 
        {
            "metadata": {}, 
            "cell_type": "markdown", 
            "source": "You have to convert the Apache Spark DataFrame to a Pandas DataFrame to be used by ploting function."
        }, 
        {
            "metadata": {
                "collapsed": true
            }, 
            "cell_type": "code", 
            "outputs": [], 
            "source": "predictions_pdf = predictions.select(\"prediction\", \"label\", \"text\").toPandas()\ncumulative_stats = predictions_pdf.groupby(['label']).count()\nlabels_data_plot = cumulative_stats.index\nvalues_data_plot = cumulative_stats['text']", 
            "execution_count": 27
        }, 
        {
            "metadata": {}, 
            "cell_type": "markdown", 
            "source": "Plot a pie chart that shows the predicted sentiment label."
        }, 
        {
            "metadata": {}, 
            "cell_type": "code", 
            "outputs": [
                {
                    "metadata": {}, 
                    "output_type": "display_data", 
                    "data": {
                        "application/vnd.plotly.v1+json": {
                            "layout": {
                                "title": "Sentiment"
                            }, 
                            "data": [
                                {
                                    "labels": [
                                        0, 
                                        1
                                    ], 
                                    "values": [
                                        79, 
                                        49
                                    ], 
                                    "type": "pie"
                                }
                            ]
                        }, 
                        "text/html": "<div id=\"fe1cb2ff-6d06-4bcc-8ece-673ffa5041b4\" style=\"height: 525px; width: 100%;\" class=\"plotly-graph-div\"></div><script type=\"text/javascript\">require([\"plotly\"], function(Plotly) { window.PLOTLYENV=window.PLOTLYENV || {};window.PLOTLYENV.BASE_URL=\"https://plot.ly\";Plotly.newPlot(\"fe1cb2ff-6d06-4bcc-8ece-673ffa5041b4\", [{\"type\": \"pie\", \"labels\": [0, 1], \"values\": [79, 49]}], {\"title\": \"Sentiment\"}, {\"linkText\": \"Export to plot.ly\", \"showLink\": true})});</script>", 
                        "text/vnd.plotly.v1+html": "<div id=\"fe1cb2ff-6d06-4bcc-8ece-673ffa5041b4\" style=\"height: 525px; width: 100%;\" class=\"plotly-graph-div\"></div><script type=\"text/javascript\">require([\"plotly\"], function(Plotly) { window.PLOTLYENV=window.PLOTLYENV || {};window.PLOTLYENV.BASE_URL=\"https://plot.ly\";Plotly.newPlot(\"fe1cb2ff-6d06-4bcc-8ece-673ffa5041b4\", [{\"type\": \"pie\", \"labels\": [0, 1], \"values\": [79, 49]}], {\"title\": \"Sentiment\"}, {\"linkText\": \"Export to plot.ly\", \"showLink\": true})});</script>"
                    }
                }
            ], 
            "source": "product_data = [go.Pie(\n            labels=labels_data_plot,\n            values=values_data_plot,\n    )]\n\nproduct_layout = go.Layout(\n    title='Sentiment',\n)\n\nfig = go.Figure(data=product_data, layout=product_layout)\niplot(fig)", 
            "execution_count": 28
        }, 
        {
            "metadata": {}, 
            "cell_type": "markdown", 
            "source": "<a id=\"scoring\"></a>\n## 6. Deploy and score in a Cloud"
        }, 
        {
            "metadata": {}, 
            "cell_type": "markdown", 
            "source": "In this section you will learn how to create streaming deployment by using the Watson Machine Learning REST API and work with Bluemix MessageHub. \nFor more information about REST APIs, see the [Swagger Documentation](http://watson-ml-api.mybluemix.net/)."
        }, 
        {
            "metadata": {
                "collapsed": true
            }, 
            "cell_type": "markdown", 
            "source": "To work with the Watson Machine Leraning REST API you must generate an access token. To do that you can use the following sample code:"
        }, 
        {
            "metadata": {
                "collapsed": true
            }, 
            "cell_type": "code", 
            "outputs": [], 
            "source": "import urllib3, requests, json, base64\n\nheaders = urllib3.util.make_headers(basic_auth='{username}:{password}'.format(username=wml_credentials['username'], password=wml_credentials['password']))\nurl = '{url}/v3/identity/token'.format(url=wml_credentials['url'])\nresponse = requests.get(url, headers=headers)\nmltoken = json.loads(response.text).get('token')", 
            "execution_count": 29
        }, 
        {
            "metadata": {}, 
            "cell_type": "markdown", 
            "source": "### 6.1: Create streaming deployment"
        }, 
        {
            "metadata": {}, 
            "cell_type": "markdown", 
            "source": "#### Get published models url from instance details"
        }, 
        {
            "metadata": {}, 
            "cell_type": "code", 
            "outputs": [
                {
                    "output_type": "stream", 
                    "name": "stdout", 
                    "text": "<Response [200]>\n{ u'entity': { u'account': { u'id': u'8dba8395f5b8dc6fcab49d43161ab9f1',\n                             u'name': u\"Wojciech Sobala's Account\",\n                             u'type': u'TRIAL'},\n               u'deployments': { u'url': u'https://ibm-watson-ml.mybluemix.net/v3/wml_instances/a153b37a-2b65-47e6-b0ef-2d71da079c4f/deployments'},\n               u'organization_guid': u'a7b3ef43-5dc2-41fc-8fa7-29b0846e5807',\n               u'owner': { u'beta_user': True,\n                           u'country_code': u'POL',\n                           u'email': u'wojciech.sobala@pl.ibm.com',\n                           u'ibm_id': u'3100020VJR',\n                           u'user_id': u'1c54455e-c23b-4506-b184-27494b507536'},\n               u'plan': u'free',\n               u'plan_id': u'3f6acf43-ede8-413a-ac69-f8af3bb0cbfe',\n               u'published_models': { u'url': u'https://ibm-watson-ml.mybluemix.net/v3/wml_instances/a153b37a-2b65-47e6-b0ef-2d71da079c4f/published_models'},\n               u'region': u'us-south',\n               u'source': u'Bluemix',\n               u'space_guid': u'a6b628f9-3f64-45c0-bf38-739876b63fec',\n               u'status': u'Active',\n               u'usage': { u'computation_time': {...},\n                           u'deployment_count': {...},\n                           u'expiration_date': u'2017-10-01T00:00:00.000Z',\n                           u'model_count': {...},\n                           u'prediction_count': {...}}},\n  u'metadata': { u'created_at': u'2017-06-26T11:49:37.500Z',\n                 u'guid': u'a153b37a-2b65-47e6-b0ef-2d71da079c4f',\n                 u'modified_at': u'2017-09-15T12:09:26.242Z',\n                 u'url': u'https://ibm-watson-ml.mybluemix.net/v3/wml_instances/a153b37a-2b65-47e6-b0ef-2d71da079c4f'}}\n"
                }
            ], 
            "source": "endpoint_instance = \"{url}/v3/wml_instances/{instance_id}\".format(url=wml_credentials['url'], instance_id=wml_credentials['instance_id'])\nheader = {'Content-Type': 'application/json', 'Authorization': 'Bearer ' + mltoken}\n\nresponse_get_instance = requests.get(endpoint_instance, headers=header)\n\nprint(response_get_instance)\npp(json.loads(response_get_instance.text))", 
            "execution_count": 30
        }, 
        {
            "metadata": {}, 
            "cell_type": "code", 
            "outputs": [
                {
                    "output_type": "stream", 
                    "name": "stdout", 
                    "text": "https://ibm-watson-ml.mybluemix.net/v3/wml_instances/a153b37a-2b65-47e6-b0ef-2d71da079c4f/published_models\n"
                }
            ], 
            "source": "endpoint_published_models = json.loads(response_get_instance.text).get('entity').get('published_models').get('url')\n\nprint(endpoint_published_models)", 
            "execution_count": 31
        }, 
        {
            "metadata": {}, 
            "cell_type": "markdown", 
            "source": "Execute the following sample code that uses the published_models endpoint to get deployments url."
        }, 
        {
            "metadata": {}, 
            "cell_type": "markdown", 
            "source": "#### Get the list of published models"
        }, 
        {
            "metadata": {}, 
            "cell_type": "code", 
            "outputs": [
                {
                    "output_type": "stream", 
                    "name": "stdout", 
                    "text": "<Response [200]>\n[ { u'entity': { u'author': {},\n                 u'deployments': {...},\n                 u'input_data_schema': {...},\n                 u'label_col': u'label',\n                 u'latest_version': {...},\n                 u'model_type': u'sparkml-model-2.0',\n                 u'name': u'Sentiment Prediction Model',\n                 u'runtime_environment': u'spark-2.0',\n                 u'training_data_schema': {...}},\n    u'metadata': { u'created_at': u'2017-09-15T12:09:26.167Z',\n                   u'guid': u'c575aac9-1dad-4e29-98d4-1f8c7dc8c764',\n                   u'modified_at': u'2017-09-15T12:09:26.276Z',\n                   u'url': u'https://ibm-watson-ml.mybluemix.net/v3/wml_instances/a153b37a-2b65-47e6-b0ef-2d71da079c4f/published_models/c575aac9-1dad-4e29-98d4-1f8c7dc8c764'}}]\n"
                }
            ], 
            "source": "header = {'Content-Type': 'application/json', 'Authorization': 'Bearer ' + mltoken}\nresponse_get = requests.get(endpoint_published_models, headers=header)\n\nprint(response_get)\npp(json.loads(response_get.text).get('resources'))", 
            "execution_count": 32
        }, 
        {
            "metadata": {}, 
            "cell_type": "code", 
            "outputs": [
                {
                    "output_type": "stream", 
                    "name": "stdout", 
                    "text": "https://ibm-watson-ml.mybluemix.net/v3/wml_instances/a153b37a-2b65-47e6-b0ef-2d71da079c4f/published_models/c575aac9-1dad-4e29-98d4-1f8c7dc8c764/deployments\n"
                }
            ], 
            "source": "for x in json.loads(response_get.text).get('resources'):\n    if (x.get('metadata').get('guid') == saved_model.uid):\n        endpoint_deployments = x.get('entity').get('deployments').get('url') \n\nprint(endpoint_deployments)", 
            "execution_count": 33
        }, 
        {
            "metadata": {}, 
            "cell_type": "markdown", 
            "source": "#### Create streaming deployment for published model"
        }, 
        {
            "metadata": {}, 
            "cell_type": "markdown", 
            "source": "**Action**: Put credentials from your instance of **Spark Service** in cell bellow."
        }, 
        {
            "metadata": {
                "collapsed": true
            }, 
            "cell_type": "code", 
            "outputs": [], 
            "source": "spark_credentials={\n  \"tenant_id\": \"****\",\n  \"tenant_id_full\": \"****\",\n  \"cluster_master_url\": \"https://spark.bluemix.net\",\n  \"tenant_secret\": \"****\",\n  \"instance_id\": \"****\",\n  \"plan\": \"ibm.SparkService.PayGoPersonal\"\n}", 
            "execution_count": 34
        }, 
        {
            "metadata": {}, 
            "cell_type": "markdown", 
            "source": "Encode the spark credentials."
        }, 
        {
            "metadata": {
                "collapsed": true
            }, 
            "cell_type": "code", 
            "outputs": [], 
            "source": "spark_instance = {\n    \"credentials\": spark_credentials,\n    \"version\": \"2.0\"\n}\nencoded_spark_instance = base64.b64encode(json.dumps(spark_instance))", 
            "execution_count": 35
        }, 
        {
            "metadata": {}, 
            "cell_type": "markdown", 
            "source": "#### Create streaming deployment for published model"
        }, 
        {
            "metadata": {
                "collapsed": true
            }, 
            "cell_type": "code", 
            "outputs": [], 
            "source": "input_topic_name = 'streamingi'\noutput_topic_name = 'streamingo'", 
            "execution_count": 36
        }, 
        {
            "metadata": {}, 
            "cell_type": "markdown", 
            "source": "**Action**: Please paste credentials of your **MessageHub Service** to cell bellow."
        }, 
        {
            "metadata": {
                "collapsed": true
            }, 
            "cell_type": "code", 
            "outputs": [], 
            "source": "messagehub_credentials={\n  \"instance_id\": \"****\",\n  \"mqlight_lookup_url\": \"https://mqlight-lookup-prod01.messagehub.services.us-south.bluemix.net/Lookup?serviceId=fa4d499e-b908-4982-84f0-69c30c1b30a0\",\n  \"api_key\": \"****\",\n  \"kafka_admin_url\": \"https://kafka-admin-prod01.messagehub.services.us-south.bluemix.net:443\",\n  \"kafka_rest_url\": \"https://kafka-rest-prod01.messagehub.services.us-south.bluemix.net:443\",\n  \"kafka_brokers_sasl\": [\n    \"kafka03-prod01.messagehub.services.us-south.bluemix.net:9093\",\n    \"kafka04-prod01.messagehub.services.us-south.bluemix.net:9093\",\n    \"kafka01-prod01.messagehub.services.us-south.bluemix.net:9093\",\n    \"kafka02-prod01.messagehub.services.us-south.bluemix.net:9093\",\n    \"kafka05-prod01.messagehub.services.us-south.bluemix.net:9093\"\n  ],\n  \"user\": \"****\",\n  \"password\": \"****\"\n}", 
            "execution_count": 37
        }, 
        {
            "metadata": {}, 
            "cell_type": "code", 
            "outputs": [
                {
                    "output_type": "stream", 
                    "name": "stdout", 
                    "text": "<Response [201]>\n{ u'entity': { u'deployed_version': { u'created_at': u'2017-09-15T12:09:26.276Z',\n                                      u'guid': u'58d2fe5b-7661-459b-b342-a262f5846e61',\n                                      u'url': u'https://ibm-watson-ml.mybluemix.net/v2/artifacts/models/c575aac9-1dad-4e29-98d4-1f8c7dc8c764/versions/58d2fe5b-7661-459b-b342-a262f5846e61'},\n               u'description': u'Streaming Deployment',\n               u'input': { u'connection': {...}, u'source': {...}},\n               u'model_type': u'sparkml-model-2.0',\n               u'name': u'Sentiment Prediction',\n               u'output': { u'connection': {...}, u'target': {...}},\n               u'published_model': { u'author': {},\n                                     u'created_at': u'2017-09-15T12:12:17.328Z',\n                                     u'guid': u'c575aac9-1dad-4e29-98d4-1f8c7dc8c764',\n                                     u'name': u'Sentiment Prediction Model',\n                                     u'url': u'https://ibm-watson-ml.mybluemix.net/v3/wml_instances/a153b37a-2b65-47e6-b0ef-2d71da079c4f/published_models/c575aac9-1dad-4e29-98d4-1f8c7dc8c764'},\n               u'runtime_environment': u'spark-2.0',\n               u'spark_service': { u'credentials': {...}, u'version': u'2.0'},\n               u'status': u'INITIALIZING',\n               u'type': u'stream'},\n  u'metadata': { u'created_at': u'2017-09-15T12:12:17.391Z',\n                 u'guid': u'6f94c68e-b561-4c83-b822-b19ff049cbe8',\n                 u'modified_at': u'2017-09-15T12:12:17.938Z',\n                 u'url': u'https://ibm-watson-ml.mybluemix.net/v3/wml_instances/a153b37a-2b65-47e6-b0ef-2d71da079c4f/published_models/c575aac9-1dad-4e29-98d4-1f8c7dc8c764/deployments/6f94c68e-b561-4c83-b822-b19ff049cbe8'}}\n"
                }
            ], 
            "source": "messagehub_instance = {x: messagehub_credentials[x] for x in messagehub_credentials.keys() if x != \"instance_id\"}\nheader_streaming = {'Content-Type': 'application/json', 'Authorization': 'Bearer {token}'.format(token=mltoken), 'X-Spark-Service-Instance': encoded_spark_instance}\npayload_streaming = {\"type\":\"stream\", \"name\": \"Sentiment Prediction\", \"description\": \"Streaming Deployment\", \n                     \"input\": {\"connection\": messagehub_instance, \"source\": { \"type\": \"kafka\", \"topic\": input_topic_name}}, \n                     \"output\": {\"connection\": messagehub_instance, \"target\": {\"type\": \"kafka\", \"topic\": output_topic_name}}}\n\nresponse_streaming = requests.post(endpoint_deployments, json=payload_streaming, headers=header_streaming)\n\nprint(response_streaming)\npp(json.loads(response_streaming.text))", 
            "execution_count": 38
        }, 
        {
            "metadata": {}, 
            "cell_type": "markdown", 
            "source": "Now, you have streaming deployment of your model ready to make predictions."
        }, 
        {
            "metadata": {}, 
            "cell_type": "markdown", 
            "source": "<a id=\"messagehub\"></a>\n## 7. Making predictions with streaming deployment"
        }, 
        {
            "metadata": {}, 
            "cell_type": "markdown", 
            "source": "When we want to make predictions with streaming deployment of our model we have to push messages to input topic. Streaming deployment will process that message and write results to output topic."
        }, 
        {
            "metadata": {}, 
            "cell_type": "markdown", 
            "source": "#### Get the list of topics from MessageHub"
        }, 
        {
            "metadata": {}, 
            "cell_type": "code", 
            "outputs": [
                {
                    "output_type": "stream", 
                    "name": "stdout", 
                    "text": "<Response [200]>\n[u'streamingi', u'streamingo']\n"
                }
            ], 
            "source": "messagehub_topic_header = {'X-Auth-Token': messagehub_credentials['api_key']}\nmessagehub_endpoint = 'https://kafka-rest-prod01.messagehub.services.us-south.bluemix.net:443/topics/'\n\nmessagehub_response = requests.get(messagehub_endpoint, headers=messagehub_topic_header)\n\nprint(messagehub_response)\npp(json.loads(messagehub_response.text))", 
            "execution_count": 39
        }, 
        {
            "metadata": {}, 
            "cell_type": "markdown", 
            "source": "**Note**: You should see two topics: **streamingi** and **streamingo** created in setup step."
        }, 
        {
            "metadata": {}, 
            "cell_type": "markdown", 
            "source": "### Send scoring data to input topic"
        }, 
        {
            "metadata": {}, 
            "cell_type": "markdown", 
            "source": "We have to encode input data to send it to stream."
        }, 
        {
            "metadata": {}, 
            "cell_type": "code", 
            "outputs": [
                {
                    "output_type": "stream", 
                    "name": "stdout", 
                    "text": "eyJ0ZXh0IjogIk15IGZpcnN0IHN0cmVhbWluZyBkZXBsb3ltZW50ISBJdCBmZWVscyBzbyBhd2Vzb21lISEiLCAiaWQiOiAxfQ==\n"
                }
            ], 
            "source": "encoded_payload_value = base64.b64encode(json.dumps({'id': 1, 'text':'My first streaming deployment! It feels so awesome!!'}))\n\nprint(encoded_payload_value)", 
            "execution_count": 40
        }, 
        {
            "metadata": {}, 
            "cell_type": "markdown", 
            "source": "In order to push encoded data to our topic, we will use below curl call."
        }, 
        {
            "metadata": {}, 
            "cell_type": "code", 
            "outputs": [
                {
                    "output_type": "stream", 
                    "name": "stdout", 
                    "text": "<Response [200]>\n{ u'key_schema_id': None,\n  u'offsets': [ { u'error': None,\n                  u'error_code': None,\n                  u'offset': 0,\n                  u'partition': 0}],\n  u'value_schema_id': None}\n"
                }
            ], 
            "source": "messagehub_header = dict({'Content-Type': 'application/vnd.kafka.binary.v1+json'}, **messagehub_topic_header)\ninput_payload = {'records':[{ 'key': 'null', 'value': encoded_payload_value}]}\nmessagehub_input_endpoint = messagehub_endpoint + 'streamingi'\n\nresponse_message_input = requests.post(messagehub_input_endpoint, json=input_payload, headers=messagehub_header)\n                                \nprint(response_message_input)                                \npp(json.loads(response_message_input.text))", 
            "execution_count": 41
        }, 
        {
            "metadata": {}, 
            "cell_type": "markdown", 
            "source": "### Receive scored data from output topic"
        }, 
        {
            "metadata": {}, 
            "cell_type": "markdown", 
            "source": "Create MessageHub consumer"
        }, 
        {
            "metadata": {}, 
            "cell_type": "code", 
            "outputs": [
                {
                    "output_type": "stream", 
                    "name": "stdout", 
                    "text": "<Response [200]>\n{ u'base_uri': u'https://kafka-rest-prod01.messagehub.services.us-south.bluemix.net/consumers/my_output_consumer/instances/rest-consumer-kafka-rest.7d5404a6-99e8-11e7-97d9-c25cd54a1102-1d4dbe5a-4d0c-43e3-a3dc-8546a5eb7eae',\n  u'instance_id': u'rest-consumer-kafka-rest.7d5404a6-99e8-11e7-97d9-c25cd54a1102-1d4dbe5a-4d0c-43e3-a3dc-8546a5eb7eae'}\n"
                }
            ], 
            "source": "output_consumer_payload = {\"format\": \"binary\", \"auto.offset.reset\": \"smallest\"}\nmessagehub_output_consumer_endpoint = 'https://kafka-rest-prod01.messagehub.services.us-south.bluemix.net:443/consumers/my_output_consumer'\nmessagehub_output_consumer_response = requests.post(messagehub_output_consumer_endpoint, json=output_consumer_payload, headers=messagehub_header)\n\nprint(messagehub_output_consumer_response)\npp(json.loads(messagehub_output_consumer_response.text))", 
            "execution_count": 42
        }, 
        {
            "metadata": {}, 
            "cell_type": "markdown", 
            "source": "Read messages from output topic"
        }, 
        {
            "metadata": {}, 
            "cell_type": "code", 
            "outputs": [
                {
                    "output_type": "stream", 
                    "name": "stdout", 
                    "text": "<Response [200]>\n[ { u'key': None,\n    u'offset': 0,\n    u'partition': 0,\n    u'value': u'eyJpZCI6MSwidGV4dCI6Ik15IGZpcnN0IHN0cmVhbWluZyBkZXBsb3ltZW50ISBJdCBmZWVscyBzbyBhd2Vzb21lISEiLCJ3b3JkcyI6WyJteSIsImZpcnN0Iiwic3RyZWFtaW5nIiwiZGVwbG95bWVudCEiLCJpdCIsImZlZWxzIiwic28iLCJhd2Vzb21lISEiXSwiZmVhdHVyZXMiOnsidHlwZSI6MCwic2l6ZSI6MjYyMTQ0LCJpbmRpY2VzIjpbMzc4NTIsODIxMTEsODYxNzUsMTQxMDYzLDE1MzA3NywxODg0MjQsMTk2NzY2LDI1NjE3N10sInZhbHVlcyI6WzEuMCwxLjAsMS4wLDEuMCwxLjAsMS4wLDEuMCwxLjBdfSwicmF3UHJlZGljdGlvbiI6eyJ0eXBlIjoxLCJ2YWx1ZXMiOlswLjk1MTU4MDk2MDUzNzY0OTcsLTAuOTUxNTgwOTYwNTM3NjQ5N119LCJwcm9iYWJpbGl0eSI6eyJ0eXBlIjoxLCJ2YWx1ZXMiOlswLjcyMTQzMzAxMDc4NTY3MTEsMC4yNzg1NjY5ODkyMTQzMjg5XX0sInByZWRpY3Rpb24iOjAuMH0='}]\n"
                }
            ], 
            "source": "messagehub_read_output_endpoint = \"{uri}/topics/{output_topic}\".format(uri=json.loads(messagehub_output_consumer_response.text).get('base_uri'), output_topic=output_topic_name)\nmessagehub_read_output_response = requests.get(messagehub_read_output_endpoint, headers=messagehub_header)\n\nprint(messagehub_read_output_response)\npp(json.loads(messagehub_read_output_response.text))", 
            "execution_count": 43
        }, 
        {
            "metadata": {}, 
            "cell_type": "markdown", 
            "source": "Decode the output message"
        }, 
        {
            "metadata": {}, 
            "cell_type": "code", 
            "outputs": [
                {
                    "output_type": "stream", 
                    "name": "stdout", 
                    "text": "'{\"id\":1,\"text\":\"My first streaming deployment! It feels so awesome!!\",\"words\":[\"my\",\"first\",\"streaming\",\"deployment!\",\"it\",\"feels\",\"so\",\"awesome!!\"],\"features\":{\"type\":0,\"size\":262144,\"indices\":[37852,82111,86175,141063,153077,188424,196766,256177],\"values\":[1.0,1.0,1.0,1.0,1.0,1.0,1.0,1.0]},\"rawPrediction\":{\"type\":1,\"values\":[0.9515809605376497,-0.9515809605376497]},\"probability\":{\"type\":1,\"values\":[0.7214330107856711,0.2785669892143289]},\"prediction\":0.0}'\n"
                }
            ], 
            "source": "message_output_encoded = json.loads(messagehub_read_output_response.text)[0].get('value')\nmessage_output_decoded = base64.b64decode(message_output_encoded)\n\npp(message_output_decoded)", 
            "execution_count": 44
        }, 
        {
            "metadata": {
                "collapsed": true
            }, 
            "cell_type": "markdown", 
            "source": "<a id=\"summary\"></a>\n## 8. Summary and next steps     "
        }, 
        {
            "metadata": {
                "collapsed": true
            }, 
            "cell_type": "markdown", 
            "source": " You successfully completed this notebook! You learned how to use Apache Spark machine learning as well as Watson Machine Learning for model creation and deployment. Check out our _[Online Documentation](https://console.ng.bluemix.net/docs/services/PredictiveModeling/index.html?pos=2)_ for more samples, tutorials, documentation, how-tos, and blog posts. "
        }, 
        {
            "metadata": {}, 
            "cell_type": "markdown", 
            "source": "### Authors\n\n**Umit Mert Cakmak**, is a Data Scientist in IBM with a track record of developing enterprise-level applications that substantially increases clients' ability to turn data into actionable knowledge."
        }, 
        {
            "metadata": {}, 
            "cell_type": "markdown", 
            "source": "Copyright \u00a9 2017 IBM. This notebook and its source code are released under the terms of the MIT License."
        }
    ], 
    "nbformat_minor": 1, 
    "nbformat": 4
}