{
    "nbformat_minor": 1, 
    "cells": [
        {
            "cell_type": "markdown", 
            "metadata": {}, 
            "source": "<table style=\"border: none\" align=\"left\">\n   <tr style=\"border: none\">\n      <th style=\"border: none\"><font face=\"verdana\" size=\"5\" color=\"black\"><b>Twitter sentiment analysis with IBM Watson Machine Learning</b></th>\n      <th style=\"border: none\"><img src=\"https://github.com/pmservice/customer-satisfaction-prediction/blob/master/app/static/images/ml_icon_gray.png?raw=true\" alt=\"Watson Machine Learning icon\" height=\"40\" width=\"40\"></th>\n   <tr style=\"border: none\">\n       <th style=\"border: none\"><img src=\"https://github.com/pmservice/wml-sample-models/blob/master/spark/sentiment-prediction/images/sentiment_banner_3-04.png?raw=true\" width=\"600\" alt=\"Icon\"> </th>\n   </tr>\n</table>"
        }, 
        {
            "cell_type": "markdown", 
            "metadata": {}, 
            "source": "This notebook contains steps and code to develop a predictive model, and start scoring new data. This notebook introduces commands for getting data and for basic data cleaning and exploration, pipeline creation, model training, model persistance to Watson Machine Learning repository, model deployment, and scoring.\n\nSome familiarity with Python is helpful. This notebook uses Python 2.0 and Apache\u00ae Spark 2.0.\n\nYou will use a data set named **Twitter Sentiment**, which includes many tweets and their binary labels (e.g. POSITIVE or NEGATIVE). Use the details of this data set to predict sentiment of tweets.\n\n## Learning goals\n\nThe learning goals of this notebook are:\n\n-  Load a CSV file into an Apache\u00ae Spark DataFrame.\n-  Explore data.\n-  Prepare data for training and evaluation.\n-  Create an Apache\u00ae Spark machine learning pipeline.\n-  Train and evaluate a model.\n-  Persist a pipeline and model in Watson Machine Learning repository.\n-  Explore and visualize prediction result using the plotly package.\n-  Deploy a model for streaming using Wastson Machine Learning API.\n-  Working with Bluemix MessageHub.\n\n\n## Contents\n\nThis notebook contains the following parts:\n\n1.\t[Setup](#setup)\n2.\t[Load and explore data](#load)\n3.\t[Create spark ml model](#model)\n4.\t[Persist model](#persistence)\n5.\t[Predict locally and visualize](#visualization)\n6.\t[Deploy and score in a Cloud](#scoring)\n7.\t[Summary and next steps](#summary)"
        }, 
        {
            "cell_type": "markdown", 
            "metadata": {}, 
            "source": "<a id=\"setup\"></a>\n## 1. Setup\n\nBefore you use the sample code in this notebook, you must perform the following setup tasks:\n\n-  Create a [Watson Machine Learning Service](https://console.ng.bluemix.net/catalog/services/ibm-watson-machine-learning/) instance (a free plan is offered). \n-  Make sure that you are using a Spark 2.0 kernel.\n\n### Create the Twitter Sentiment Data Asset  \n\nThe Twitter Sentiment data is available on project's Github page.\n\n1.  On [Sentiment Prediction project page](https://github.com/pmservice/wml-sample-models/tree/master/spark/sentiment-prediction) and copy the link for the dataset in [data folder](https://github.com/pmservice/wml-sample-models/tree/master/spark/sentiment-prediction/data) by right clicking on file name and selecting \"Copy Link Address\".\n2. Paste the link to any cell and change \"blob\" with \"raw\", this will be the link you will be using to download the data in next section."
        }, 
        {
            "cell_type": "markdown", 
            "metadata": {}, 
            "source": "<a id=\"load\"></a>\n## 2. Load and explore data"
        }, 
        {
            "cell_type": "markdown", 
            "metadata": {}, 
            "source": "In this section you will load the data as an Apache\u00ae Spark DataFrame and perform a basic exploration.\n\nLoad the data to the Spark DataFrame by using wget to upload the data to gpfs and then read method.\n\nExample: First, you need to install required packages. You can do it by running the following code. Run it only one time.\n\n!pip install wget --user "
        }, 
        {
            "outputs": [
                {
                    "output_type": "stream", 
                    "name": "stdout", 
                    "text": "trainingTweets.csv\n"
                }
            ], 
            "cell_type": "code", 
            "metadata": {}, 
            "source": "import wget\n\nlink_to_data = 'https://github.com/pmservice/wml-sample-models/raw/master/spark/sentiment-prediction/data/trainingTweets.csv'\nfilename = wget.download(link_to_data)\n\nprint filename", 
            "execution_count": 3
        }, 
        {
            "cell_type": "markdown", 
            "metadata": {}, 
            "source": "The csv file trainingTweets.csv is availble on gpfs now. Load the file to Apache\u00ae Spark DataFrame using code below."
        }, 
        {
            "outputs": [
                {
                    "output_type": "execute_result", 
                    "metadata": {}, 
                    "data": {
                        "text/plain": "[Row(id=1, text=u'realdonaldtrump sse slashes offshore wind investmentwants british government to pay for its losses on these monstrosities   ', label=1),\n Row(id=2, text=u'cnnvideo hillaryclinton dammit why she missed', label=1),\n Row(id=3, text=u'realdonaldtrump thepodiumeffect without passion you dont have energy without energy you have nothing donald trump ', label=1),\n Row(id=4, text=u'sensanders the american higher education system is beginning to fall behind those in the rest of the world fairshot', label=1),\n Row(id=5, text=u'billburton realdonaldtrump as someone who demonstrated such bravery in combat i can see why youd have so many questions oh wait i mean stfu', label=0)]"
                    }, 
                    "execution_count": 4
                }
            ], 
            "cell_type": "code", 
            "metadata": {}, 
            "source": "spark = SparkSession.builder.getOrCreate()\n\ndf_data = spark.read\\\n  .format('org.apache.spark.sql.execution.datasources.csv.CSVFileFormat')\\\n  .option('header', 'true')\\\n  .option('inferSchema', 'true')\\\n  .load(filename)", 
            "execution_count": 4
        }, 
        {
            "cell_type": "markdown", 
            "metadata": {}, 
            "source": "Explore the loaded data by using the following Apache\u00ae Spark DataFrame methods:\n-  print schema\n-  print top ten records\n-  count all records"
        }, 
        {
            "outputs": [
                {
                    "output_type": "stream", 
                    "name": "stdout", 
                    "text": "root\n |-- id: integer (nullable = true)\n |-- text: string (nullable = true)\n |-- label: integer (nullable = true)\n\n"
                }
            ], 
            "cell_type": "code", 
            "metadata": {}, 
            "source": "df_data.printSchema()", 
            "execution_count": 5
        }, 
        {
            "cell_type": "markdown", 
            "metadata": {}, 
            "source": "As you can see, the data contains 3 fields. \"label\" field is the one we would like to classify tweets."
        }, 
        {
            "outputs": [
                {
                    "output_type": "stream", 
                    "name": "stdout", 
                    "text": "+---+--------------------+-----+\n| id|                text|label|\n+---+--------------------+-----+\n|  1|realdonaldtrump s...|    1|\n|  2|cnnvideo hillaryc...|    1|\n|  3|realdonaldtrump t...|    1|\n|  4|sensanders the am...|    1|\n|  5|billburton realdo...|    0|\n|  6|reince hillarycli...|    0|\n|  7|bentechpro realdo...|    1|\n|  8|dahbigj hopeobama...|    0|\n|  9|theosmelek thuddy...|    0|\n| 10|realdonaldtrump r...|    0|\n| 11|jnjinnovation nee...|    0|\n| 12|sen tedcruz halbi...|    1|\n| 13|progressiveswin t...|    1|\n| 14|mclem retward rea...|    1|\n| 15|sometimes the onl...|    0|\n| 16|cassandra17lina e...|    1|\n| 17|realdonaldtrump d...|    1|\n| 18|willmcavoyacn hey...|    0|\n| 19|hillaryclinton i ...|    0|\n| 20|realdonaldtrump d...|    0|\n+---+--------------------+-----+\nonly showing top 20 rows\n\n"
                }
            ], 
            "cell_type": "code", 
            "metadata": {}, 
            "source": "df_data.show()", 
            "execution_count": 6
        }, 
        {
            "outputs": [
                {
                    "output_type": "execute_result", 
                    "metadata": {}, 
                    "data": {
                        "text/plain": "5987"
                    }, 
                    "execution_count": 7
                }
            ], 
            "cell_type": "code", 
            "metadata": {}, 
            "source": "print \"Total number of records: \" + str(df_data.count())", 
            "execution_count": 7
        }, 
        {
            "cell_type": "markdown", 
            "metadata": {}, 
            "source": "Data set contains 5987 records."
        }, 
        {
            "cell_type": "markdown", 
            "metadata": {}, 
            "source": "<a id=\"model\"></a>\n## 3. Create an Apache\u00ae Spark machine learning model\n\nIn this section you will learn how to prepare data, create an Apache\u00ae Spark machine learning pipeline, and train a model."
        }, 
        {
            "cell_type": "markdown", 
            "metadata": {}, 
            "source": "### 3.1: Prepare data\n\nIn this subsection you will split your data into: train, test and predict datasets."
        }, 
        {
            "outputs": [
                {
                    "output_type": "stream", 
                    "name": "stdout", 
                    "text": "Number of training records: 4783\nNumber of testing records : 1076\nNumber of prediction records : 128\n"
                }
            ], 
            "cell_type": "code", 
            "metadata": {}, 
            "source": "splitted_data = df_data.randomSplit([0.8, 0.18, 0.02], 24)\ntrain_data = splitted_data[0]\ntest_data = splitted_data[1]\npredict_data = splitted_data[2]\n\nprint \"Number of training records: \" + str(train_data.count())\nprint \"Number of testing records : \" + str(test_data.count())\nprint \"Number of prediction records : \" + str(predict_data.count())", 
            "execution_count": 8
        }, 
        {
            "cell_type": "markdown", 
            "metadata": {}, 
            "source": "As you can see our data has been successfully split into three datasets: \n\n-  The train data set, which is the largest group, is used for training.\n-  The test data set will be used for model evaluation and is used to test the assumptions of the model.\n-  The predict data set will be used for prediction."
        }, 
        {
            "cell_type": "markdown", 
            "metadata": {}, 
            "source": "### 3.2: Create pipeline and train a model"
        }, 
        {
            "cell_type": "markdown", 
            "metadata": {}, 
            "source": "In this section you will create an Apache\u00ae Spark machine learning pipeline and then train the model."
        }, 
        {
            "cell_type": "markdown", 
            "metadata": {}, 
            "source": "In the first step you need to import the Apache\u00ae Spark machine learning packages that will be needed in the subsequent steps."
        }, 
        {
            "outputs": [], 
            "cell_type": "code", 
            "metadata": {
                "collapsed": true
            }, 
            "source": "from pyspark.ml.feature import Tokenizer, OneHotEncoder, StringIndexer, HashingTF\nfrom pyspark.ml.classification import LogisticRegression\nfrom pyspark.ml.evaluation import BinaryClassificationEvaluator\nfrom pyspark.ml.tuning import ParamGridBuilder, CrossValidator # TrainValidationSplit\nfrom pyspark.ml import Pipeline, Model", 
            "execution_count": 9
        }, 
        {
            "cell_type": "markdown", 
            "metadata": {}, 
            "source": "In the following step, convert all the string fields to numeric ones by using the HashingTF transformer."
        }, 
        {
            "outputs": [], 
            "cell_type": "code", 
            "metadata": {
                "collapsed": true
            }, 
            "source": "tokenizer = Tokenizer(inputCol=\"text\", outputCol=\"words\")\nhashingTF = HashingTF(inputCol=tokenizer.getOutputCol(), outputCol=\"features\")", 
            "execution_count": 10
        }, 
        {
            "cell_type": "markdown", 
            "metadata": {}, 
            "source": "Next, define estimators you want to use for classification. Logistic Regression is used in the following example."
        }, 
        {
            "outputs": [], 
            "cell_type": "code", 
            "metadata": {
                "collapsed": true
            }, 
            "source": "lr = LogisticRegression(maxIter=10, regParam=0.01)", 
            "execution_count": 11
        }, 
        {
            "cell_type": "markdown", 
            "metadata": {}, 
            "source": "Let's build the pipeline now. A pipeline consists of transformers and an estimator. \n\nML pipeline will consist of tree stages: tokenizer, hashingTF, and lr."
        }, 
        {
            "outputs": [], 
            "cell_type": "code", 
            "metadata": {
                "collapsed": true
            }, 
            "source": "pipeline_lr = Pipeline(stages=[tokenizer, hashingTF, lr])", 
            "execution_count": 12
        }, 
        {
            "cell_type": "markdown", 
            "metadata": {}, 
            "source": "Now, you can train your Logistic Regression model by using previously defined **pipeline** and **train data**."
        }, 
        {
            "outputs": [], 
            "cell_type": "code", 
            "metadata": {
                "collapsed": true
            }, 
            "source": "model_lr = pipeline_lr.fit(train_data)", 
            "execution_count": 13
        }, 
        {
            "cell_type": "markdown", 
            "metadata": {}, 
            "source": "You can check your **model accuracy** now. To evaluate the model, use **test data**."
        }, 
        {
            "outputs": [
                {
                    "output_type": "stream", 
                    "name": "stdout", 
                    "text": "Accuracy = 0.761854\nTest Error = 0.238146\n"
                }
            ], 
            "cell_type": "code", 
            "metadata": {}, 
            "source": "predictions = model_lr.transform(test_data)\nevaluatorRF = BinaryClassificationEvaluator(labelCol=\"label\", rawPredictionCol=\"prediction\", metricName=\"areaUnderROC\")\naccuracy = evaluatorRF.evaluate(predictions)\n\nprint(\"Accuracy = %g\" % accuracy)\nprint(\"Test Error = %g\" % (1.0 - accuracy))", 
            "execution_count": 14
        }, 
        {
            "cell_type": "markdown", 
            "metadata": {
                "collapsed": true
            }, 
            "source": "You can tune your model now to achieve better accuracy. For simplicity of this notebook, tuning section is omitted."
        }, 
        {
            "cell_type": "markdown", 
            "metadata": {
                "collapsed": true
            }, 
            "source": "<a id=\"persistence\"></a>\n## 4. Persist model"
        }, 
        {
            "cell_type": "markdown", 
            "metadata": {}, 
            "source": "In this section you will learn how to store your pipeline and model in Watson Machine Learning repository by using python client libraries."
        }, 
        {
            "cell_type": "markdown", 
            "metadata": {
                "collapsed": true
            }, 
            "source": "First, you must import client libraries.\n\n**Note**: Apache\u00ae Spark 2.0 or higher is required."
        }, 
        {
            "outputs": [], 
            "cell_type": "code", 
            "metadata": {
                "collapsed": true
            }, 
            "source": "from repository.mlrepositoryclient import MLRepositoryClient\nfrom repository.mlrepositoryartifact import MLRepositoryArtifact\nfrom repository.mlrepository import MetaProps", 
            "execution_count": 15
        }, 
        {
            "cell_type": "markdown", 
            "metadata": {
                "collapsed": true
            }, 
            "source": "Authenticate to Watson Machine Learning service on Bluemix."
        }, 
        {
            "cell_type": "markdown", 
            "metadata": {}, 
            "source": "**Action**: Put authentication information from your instance of Watson Machine Learning service here.</div>"
        }, 
        {
            "outputs": [], 
            "cell_type": "code", 
            "metadata": {
                "collapsed": true
            }, 
            "source": "wml_credentials={\n  \"url\": \"https://ibm-watson-ml.mybluemix.net\",\n  \"access_key\": \"***\",\n  \"username\": \"***\",\n  \"password\": \"***\",\n  \"instance_id\": \"***\"\n}", 
            "execution_count": 16
        }, 
        {
            "cell_type": "markdown", 
            "metadata": {
                "collapsed": true
            }, 
            "source": "**Tip**: service_path, user and password can be found on **Service Credentials** tab of service instance created in Bluemix."
        }, 
        {
            "outputs": [], 
            "cell_type": "code", 
            "metadata": {
                "collapsed": true
            }, 
            "source": "ml_repository_client = MLRepositoryClient(wml_credentials['url'])\nml_repository_client.authorize(wml_credentials['username'], wml_credentials['password'])", 
            "execution_count": 17
        }, 
        {
            "cell_type": "markdown", 
            "metadata": {}, 
            "source": "Create model artifact (abstraction layer)."
        }, 
        {
            "outputs": [], 
            "cell_type": "code", 
            "metadata": {
                "collapsed": true
            }, 
            "source": "model_artifact = MLRepositoryArtifact(model_lr, training_data=train_data, name=\"Sentiment Prediction Model\" )", 
            "execution_count": 18
        }, 
        {
            "cell_type": "markdown", 
            "metadata": {}, 
            "source": "**Tip**: The MLRepositoryArtifact method expects a trained model object, training data, and a model name. (It is this model name that is displayed by the Watson Machine Learning service)."
        }, 
        {
            "cell_type": "markdown", 
            "metadata": {}, 
            "source": "### 4.1: Save pipeline and model"
        }, 
        {
            "cell_type": "markdown", 
            "metadata": {}, 
            "source": "In this subsection you will learn how to save pipeline and model artifacts to your Watson Machine Learning instance."
        }, 
        {
            "outputs": [], 
            "cell_type": "code", 
            "metadata": {
                "collapsed": true
            }, 
            "source": "saved_model = ml_repository_client.models.save(model_artifact)", 
            "execution_count": 19
        }, 
        {
            "cell_type": "markdown", 
            "metadata": {}, 
            "source": "Get saved model metadata from Watson Machine Learning."
        }, 
        {
            "cell_type": "markdown", 
            "metadata": {}, 
            "source": "**Tip**: Use *meta.available_props()* to get the list of available props."
        }, 
        {
            "outputs": [
                {
                    "output_type": "execute_result", 
                    "metadata": {}, 
                    "data": {
                        "text/plain": "['inputDataSchema',\n 'evaluationMetrics',\n 'pipelineVersionHref',\n 'modelVersionHref',\n 'trainingDataRef',\n 'pipelineType',\n 'creationTime',\n 'lastUpdated',\n 'label',\n 'authorEmail',\n 'trainingDataSchema',\n 'authorName',\n 'version',\n 'modelType',\n 'runtime',\n 'evaluationMethod']"
                    }, 
                    "execution_count": 20
                }
            ], 
            "cell_type": "code", 
            "metadata": {}, 
            "source": "saved_model.meta.available_props()", 
            "execution_count": 20
        }, 
        {
            "outputs": [
                {
                    "output_type": "stream", 
                    "name": "stdout", 
                    "text": "modelType: sparkml-model-2.0\ntrainingDataSchema: {u'fields': [{u'nullable': True, u'type': u'integer', u'name': u'id', u'metadata': {}}, {u'nullable': True, u'type': u'string', u'name': u'text', u'metadata': {}}, {u'nullable': True, u'type': u'integer', u'name': u'label', u'metadata': {}}], u'type': u'struct'}\ncreationTime: 2017-09-11 21:54:06.675000+00:00\nmodelVersionHref: https://ibm-watson-ml.mybluemix.net/v2/artifacts/models/ddc9f747-de2e-411b-892b-e9bd9b7846a3/versions/7f42543b-4617-433c-a489-00fa6cac304a\nlabel: label\n"
                }
            ], 
            "cell_type": "code", 
            "metadata": {}, 
            "source": "print \"modelType: \" + saved_model.meta.prop(\"modelType\")\nprint \"trainingDataSchema: \" + str(saved_model.meta.prop(\"trainingDataSchema\"))\nprint \"creationTime: \" + str(saved_model.meta.prop(\"creationTime\"))\nprint \"modelVersionHref: \" + saved_model.meta.prop(\"modelVersionHref\")\nprint \"label: \" + saved_model.meta.prop(\"label\")", 
            "execution_count": 21
        }, 
        {
            "cell_type": "markdown", 
            "metadata": {}, 
            "source": "**Tip**: **modelVersionHref** is our model unique indentifier in the Watson Machine Learning repository."
        }, 
        {
            "cell_type": "markdown", 
            "metadata": {}, 
            "source": "### 4.2: Load model"
        }, 
        {
            "cell_type": "markdown", 
            "metadata": {}, 
            "source": "In this subsection you will learn how to load back saved model from specified instance of Watson Machine Learning."
        }, 
        {
            "outputs": [], 
            "cell_type": "code", 
            "metadata": {
                "collapsed": true
            }, 
            "source": "loadedModelArtifact = ml_repository_client.models.get(saved_model.uid)", 
            "execution_count": 24
        }, 
        {
            "cell_type": "markdown", 
            "metadata": {}, 
            "source": "You can print for example model name to make sure that model has been loaded correctly."
        }, 
        {
            "outputs": [
                {
                    "output_type": "stream", 
                    "name": "stdout", 
                    "text": "Sentiment Prediction Model\n"
                }
            ], 
            "cell_type": "code", 
            "metadata": {}, 
            "source": "print str(loadedModelArtifact.name)", 
            "execution_count": 25
        }, 
        {
            "cell_type": "markdown", 
            "metadata": {}, 
            "source": "As you can see the name is correct. You have already learned how save and load the model from Watson Machine Learning repository."
        }, 
        {
            "cell_type": "markdown", 
            "metadata": {}, 
            "source": "<a id=\"visualization\"></a>\n## 5. Predict locally and visualize"
        }, 
        {
            "cell_type": "markdown", 
            "metadata": {}, 
            "source": "In this section you will learn how to score test data using loaded model and visualize the prediction results with plotly package."
        }, 
        {
            "cell_type": "markdown", 
            "metadata": {}, 
            "source": "### 5.1: Make local prediction using previously loaded model and test data"
        }, 
        {
            "cell_type": "markdown", 
            "metadata": {}, 
            "source": "In this subsection you will score *predict_data* data set."
        }, 
        {
            "outputs": [], 
            "cell_type": "code", 
            "metadata": {
                "collapsed": true
            }, 
            "source": "predictions = loadedModelArtifact.model_instance().transform(predict_data)", 
            "execution_count": 26
        }, 
        {
            "cell_type": "markdown", 
            "metadata": {}, 
            "source": "Preview the results by calling the *show()* method on the predictions DataFrame."
        }, 
        {
            "outputs": [
                {
                    "output_type": "stream", 
                    "name": "stdout", 
                    "text": "+---+--------------------+-----+--------------------+--------------------+--------------------+--------------------+----------+\n| id|                text|label|               words|            features|       rawPrediction|         probability|prediction|\n+---+--------------------+-----+--------------------+--------------------+--------------------+--------------------+----------+\n|254|realdonaldtrump t...|    1|[realdonaldtrump,...|(262144,[4312,961...|[-1.3150612511415...|[0.21164114610918...|       1.0|\n|256|realdonaldtrump j...|    0|[realdonaldtrump,...|(262144,[14,13396...|[5.48207446382385...|[0.99585655006955...|       0.0|\n|296|realdonaldtrump t...|    1|[realdonaldtrump,...|(262144,[15889,21...|[-1.3175186267989...|[0.21123142555360...|       1.0|\n|312|sensanders keep t...|    0|[sensanders, keep...|(262144,[32890,91...|[3.29411163264101...|[0.96422625174639...|       0.0|\n|362|katiedaviscourt i...|    0|[katiedaviscourt,...|(262144,[16332,21...|[3.83815328742005...|[0.97892057960460...|       0.0|\n+---+--------------------+-----+--------------------+--------------------+--------------------+--------------------+----------+\nonly showing top 5 rows\n\n"
                }
            ], 
            "cell_type": "code", 
            "metadata": {}, 
            "source": "predictions.show(5)", 
            "execution_count": 27
        }, 
        {
            "cell_type": "markdown", 
            "metadata": {}, 
            "source": "By tabulating a count, you can see the split by sentiment."
        }, 
        {
            "outputs": [
                {
                    "output_type": "stream", 
                    "name": "stdout", 
                    "text": "+-----+-----+\n|label|count|\n+-----+-----+\n|    1|   49|\n|    0|   79|\n+-----+-----+\n\n"
                }
            ], 
            "cell_type": "code", 
            "metadata": {}, 
            "source": "predictions.select(\"label\").groupBy(\"label\").count().show()", 
            "execution_count": 28
        }, 
        {
            "cell_type": "markdown", 
            "metadata": {}, 
            "source": "### 5.2: Sample visualization of data with Plotly package"
        }, 
        {
            "cell_type": "markdown", 
            "metadata": {}, 
            "source": "In this subsection you will explore prediction results with Plotly, which is an online analytics and data visualization tool."
        }, 
        {
            "cell_type": "markdown", 
            "metadata": {}, 
            "source": "**Example**: First, you need to install required packages. You can do it by running the following code. Run it only one time.<BR><BR>\n!pip install plotly --user <BR>\n!pip install cufflinks --user"
        }, 
        {
            "outputs": [
                {
                    "output_type": "display_data", 
                    "metadata": {}, 
                    "data": {
                        "text/html": "<script>requirejs.config({paths: { 'plotly': ['https://cdn.plot.ly/plotly-latest.min']},});if(!window.Plotly) {{require(['plotly'],function(plotly) {window.Plotly=plotly;});}}</script>", 
                        "text/vnd.plotly.v1+html": "<script>requirejs.config({paths: { 'plotly': ['https://cdn.plot.ly/plotly-latest.min']},});if(!window.Plotly) {{require(['plotly'],function(plotly) {window.Plotly=plotly;});}}</script>"
                    }
                }
            ], 
            "cell_type": "code", 
            "metadata": {}, 
            "source": "import sys\nimport pandas\nimport plotly.plotly as py\nfrom plotly.offline import download_plotlyjs, init_notebook_mode, plot, iplot\nimport cufflinks as cf\nimport plotly.graph_objs as go\n\ninit_notebook_mode(connected=True)\nsys.path.append(\"\".join([os.environ[\"HOME\"]])) ", 
            "execution_count": 29
        }, 
        {
            "cell_type": "markdown", 
            "metadata": {}, 
            "source": "Convert the Apache Spark DataFrame to a Pandas DataFrame."
        }, 
        {
            "outputs": [], 
            "cell_type": "code", 
            "metadata": {
                "collapsed": true
            }, 
            "source": "predictions_pdf = predictions.select(\"prediction\", \"label\", \"text\").toPandas()\ncumulative_stats = predictions_pdf.groupby(['label']).count()\nlabels_data_plot = cumulative_stats.index\nvalues_data_plot = cumulative_stats['text']", 
            "execution_count": 30
        }, 
        {
            "cell_type": "markdown", 
            "metadata": {}, 
            "source": "Plot a pie chart that shows the predicted sentiment label."
        }, 
        {
            "outputs": [
                {
                    "output_type": "display_data", 
                    "metadata": {}, 
                    "data": {
                        "text/html": "<div id=\"9b763cef-c498-45c5-bae6-6802d20a2b5f\" style=\"height: 525px; width: 100%;\" class=\"plotly-graph-div\"></div><script type=\"text/javascript\">require([\"plotly\"], function(Plotly) { window.PLOTLYENV=window.PLOTLYENV || {};window.PLOTLYENV.BASE_URL=\"https://plot.ly\";Plotly.newPlot(\"9b763cef-c498-45c5-bae6-6802d20a2b5f\", [{\"type\": \"pie\", \"labels\": [0, 1], \"values\": [79, 49]}], {\"title\": \"Sentiment\"}, {\"linkText\": \"Export to plot.ly\", \"showLink\": true})});</script>", 
                        "application/vnd.plotly.v1+json": {
                            "data": [
                                {
                                    "values": [
                                        79, 
                                        49
                                    ], 
                                    "labels": [
                                        0, 
                                        1
                                    ], 
                                    "type": "pie"
                                }
                            ], 
                            "layout": {
                                "title": "Sentiment"
                            }
                        }, 
                        "text/vnd.plotly.v1+html": "<div id=\"9b763cef-c498-45c5-bae6-6802d20a2b5f\" style=\"height: 525px; width: 100%;\" class=\"plotly-graph-div\"></div><script type=\"text/javascript\">require([\"plotly\"], function(Plotly) { window.PLOTLYENV=window.PLOTLYENV || {};window.PLOTLYENV.BASE_URL=\"https://plot.ly\";Plotly.newPlot(\"9b763cef-c498-45c5-bae6-6802d20a2b5f\", [{\"type\": \"pie\", \"labels\": [0, 1], \"values\": [79, 49]}], {\"title\": \"Sentiment\"}, {\"linkText\": \"Export to plot.ly\", \"showLink\": true})});</script>"
                    }
                }
            ], 
            "cell_type": "code", 
            "metadata": {}, 
            "source": "product_data = [go.Pie(\n            labels=labels_data_plot,\n            values=values_data_plot,\n    )]\n\nproduct_layout = go.Layout(\n    title='Sentiment',\n)\n\nfig = go.Figure(data=product_data, layout=product_layout)\niplot(fig)", 
            "execution_count": 31
        }, 
        {
            "cell_type": "markdown", 
            "metadata": {}, 
            "source": "<a id=\"scoring\"></a>\n## 6. Deploy and score in a Cloud"
        }, 
        {
            "cell_type": "markdown", 
            "metadata": {}, 
            "source": "In this section you will learn how to create streaming deployment by using the Watson Machine Learning REST API and work with Bluemix MessageHub. \nFor more information about REST APIs, see the [Swagger Documentation](http://watson-ml-api.mybluemix.net/)."
        }, 
        {
            "cell_type": "markdown", 
            "metadata": {
                "collapsed": true
            }, 
            "source": "To work with the Watson Machine Leraning REST API you must generate an access token. To do that you can use the following sample code:"
        }, 
        {
            "outputs": [], 
            "cell_type": "code", 
            "metadata": {
                "collapsed": true
            }, 
            "source": "import urllib3, requests, json, base64\n\nheaders = urllib3.util.make_headers(basic_auth='{username}:{password}'.format(username=wml_credentials['username'], password=wml_credentials['password']))\nurl = '{url}/v3/identity/token'.format(url=wml_credentials['url'])\nresponse = requests.get(url, headers=headers)\nmltoken = json.loads(response.text).get('token')", 
            "execution_count": 32
        }, 
        {
            "cell_type": "markdown", 
            "metadata": {}, 
            "source": "### 6.1: Create streaming deployment"
        }, 
        {
            "cell_type": "markdown", 
            "metadata": {}, 
            "source": "#### Get published_models url from instance details"
        }, 
        {
            "outputs": [
                {
                    "output_type": "stream", 
                    "name": "stdout", 
                    "text": "<Response [200]>\n{\"metadata\":{\"guid\":\"360c510b-012c-4793-ae3f-063410081c3e\",\"url\":\"https://ibm-watson-ml.mybluemix.net/v3/wml_instances/360c510b-012c-4793-ae3f-063410081c3e\",\"created_at\":\"2017-08-04T09:15:48.344Z\",\"modified_at\":\"2017-09-11T21:54:06.800Z\"},\"entity\":{\"source\":\"Bluemix\",\"published_models\":{\"url\":\"https://ibm-watson-ml.mybluemix.net/v3/wml_instances/360c510b-012c-4793-ae3f-063410081c3e/published_models\"},\"usage\":{\"expiration_date\":\"2017-10-01T00:00:00.000Z\",\"computation_time\":{\"current\":24},\"model_count\":{\"limit\":1000,\"current\":0},\"prediction_count\":{\"current\":39},\"deployment_count\":{\"limit\":1000,\"current\":7}},\"plan_id\":\"0f2a3c2c-456b-40f3-9b19-726d2740b11c\",\"status\":\"Active\",\"organization_guid\":\"b0e61605-a82e-4f03-9e9f-2767973c084d\",\"region\":\"us-south\",\"account\":{\"id\":\"f52968f3dbbe7b0b53e15743d45e5e90\",\"name\":\"Umit Cakmak's Account\",\"type\":\"TRIAL\"},\"owner\":{\"ibm_id\":\"31000292EV\",\"email\":\"umit.cakmak@pl.ibm.com\",\"user_id\":\"43e0ee0e-6bfb-48fc-bcd8-d61e40d19253\",\"country_code\":\"POL\",\"beta_user\":true},\"deployments\":{\"url\":\"https://ibm-watson-ml.mybluemix.net/v3/wml_instances/360c510b-012c-4793-ae3f-063410081c3e/deployments\"},\"space_guid\":\"4c55eb1c-d6fe-4f0a-9390-35c9a7ecf27a\",\"plan\":\"standard\"}}\n"
                }
            ], 
            "cell_type": "code", 
            "metadata": {}, 
            "source": "endpoint_instance = \"{url}/v3/wml_instances/{instance_id}\".format(url=wml_credentials['url'], instance_id=wml_credentials['instance_id'])\nheader = {'Content-Type': 'application/json', 'Authorization': 'Bearer ' + mltoken}\n\nresponse_get_instance = requests.get(endpoint_instance, headers=header)\n\nprint response_get_instance\nprint response_get_instance.text", 
            "execution_count": 33
        }, 
        {
            "outputs": [
                {
                    "output_type": "stream", 
                    "name": "stdout", 
                    "text": "https://ibm-watson-ml.mybluemix.net/v3/wml_instances/360c510b-012c-4793-ae3f-063410081c3e/published_models\n"
                }
            ], 
            "cell_type": "code", 
            "metadata": {}, 
            "source": "endpoint_published_models = json.loads(response_get_instance.text).get('entity').get('published_models').get('url')\n\nprint endpoint_published_models", 
            "execution_count": 34
        }, 
        {
            "cell_type": "markdown", 
            "metadata": {}, 
            "source": "Execute the following sample code that uses the published_models endpoint to get deployments url."
        }, 
        {
            "cell_type": "markdown", 
            "metadata": {}, 
            "source": "#### Get the list of published models"
        }, 
        {
            "outputs": [
                {
                    "output_type": "stream", 
                    "name": "stdout", 
                    "text": "<Response [200]>\n{\"count\":1,\"resources\":[{\"metadata\":{\"guid\":\"ddc9f747-de2e-411b-892b-e9bd9b7846a3\",\"url\":\"https://ibm-watson-ml.mybluemix.net/v3/wml_instances/360c510b-012c-4793-ae3f-063410081c3e/published_models/ddc9f747-de2e-411b-892b-e9bd9b7846a3\",\"created_at\":\"2017-09-11T21:54:06.675Z\",\"modified_at\":\"2017-09-11T21:54:06.814Z\"},\"entity\":{\"runtime_environment\":\"spark-2.0\",\"author\":{},\"name\":\"Sentiment Prediction Model\",\"label_col\":\"label\",\"training_data_schema\":{\"fields\":[{\"metadata\":{},\"type\":\"integer\",\"name\":\"id\",\"nullable\":true},{\"metadata\":{},\"type\":\"string\",\"name\":\"text\",\"nullable\":true},{\"metadata\":{},\"type\":\"integer\",\"name\":\"label\",\"nullable\":true}],\"type\":\"struct\"},\"latest_version\":{\"url\":\"https://ibm-watson-ml.mybluemix.net/v2/artifacts/models/ddc9f747-de2e-411b-892b-e9bd9b7846a3/versions/7f42543b-4617-433c-a489-00fa6cac304a\",\"guid\":\"7f42543b-4617-433c-a489-00fa6cac304a\",\"created_at\":\"2017-09-11T21:54:06.814Z\"},\"model_type\":\"sparkml-model-2.0\",\"deployments\":{\"count\":0,\"url\":\"https://ibm-watson-ml.mybluemix.net/v3/wml_instances/360c510b-012c-4793-ae3f-063410081c3e/published_models/ddc9f747-de2e-411b-892b-e9bd9b7846a3/deployments\"},\"input_data_schema\":{\"fields\":[{\"metadata\":{},\"type\":\"integer\",\"name\":\"id\",\"nullable\":true},{\"metadata\":{},\"type\":\"string\",\"name\":\"text\",\"nullable\":true}],\"type\":\"struct\"}}}]}\n"
                }
            ], 
            "cell_type": "code", 
            "metadata": {}, 
            "source": "header = {'Content-Type': 'application/json', 'Authorization': 'Bearer ' + mltoken}\nresponse_get = requests.get(endpoint_published_models, headers=header)\n\nprint response_get\nprint response_get.text", 
            "execution_count": 35
        }, 
        {
            "outputs": [
                {
                    "output_type": "stream", 
                    "name": "stdout", 
                    "text": "https://ibm-watson-ml.mybluemix.net/v3/wml_instances/360c510b-012c-4793-ae3f-063410081c3e/published_models/ddc9f747-de2e-411b-892b-e9bd9b7846a3/deployments\n"
                }
            ], 
            "cell_type": "code", 
            "metadata": {}, 
            "source": "[endpoint_deployments] = [x.get('entity').get('deployments').get('url') for x in json.loads(response_get.text).get('resources') if x.get('metadata').get('guid') == saved_model.uid]\n\nprint endpoint_deployments", 
            "execution_count": 36
        }, 
        {
            "cell_type": "markdown", 
            "metadata": {}, 
            "source": "#### Create streaming deployment for published model"
        }, 
        {
            "cell_type": "markdown", 
            "metadata": {}, 
            "source": "Encode the spark credentials"
        }, 
        {
            "outputs": [], 
            "cell_type": "code", 
            "metadata": {
                "collapsed": true
            }, 
            "source": "spark_credentials = {\n      \"tenant_id\": \"***\",\n      \"tenant_id_full\": \"***\",\n      \"cluster_master_url\": \"https://spark.bluemix.net\",\n      \"tenant_secret\": \"***\",\n      \"instance_id\": \"***\",\n      \"plan\": \"***\"\n    }", 
            "execution_count": null
        }, 
        {
            "outputs": [], 
            "cell_type": "code", 
            "metadata": {
                "collapsed": true
            }, 
            "source": "spark_instance = {\n    \"credentials\": spark_credentials,\n    \"version\": \"2.0\"\n}\nencoded_spark_instance = base64.b64encode(json.dumps(spark_instance))", 
            "execution_count": 38
        }, 
        {
            "cell_type": "markdown", 
            "metadata": {}, 
            "source": "#### Create streaming deployment for published model"
        }, 
        {
            "cell_type": "markdown", 
            "metadata": {}, 
            "source": "In order to create a streaming deployment, you need to provision MessageHub instance from [Bluemix Catalog](https://console.bluemix.net/catalog). \n\nOnce your instance is provisioned, click on your instance from your Services to open your intance's page.\n\nWe will create topics for streaming deployment to work with. Create 2 topics named \"streamingi\" and \"streamingo\". \n\nAfter input and output topics are created, get your credentials from \"Manage Credentials\" section."
        }, 
        {
            "outputs": [
                {
                    "output_type": "stream", 
                    "name": "stdout", 
                    "text": "<Response [201]>\n{\"metadata\":{\"guid\":\"78ed5757-6654-4322-bb78-1f276f7087c7\",\"href\":\"https://ibm-watson-ml.mybluemix.net/v2/published_models/044564b4-5f12-4a2f-b4b8-9f638b7a359a/deployments/78ed5757-6654-4322-bb78-1f276f7087c7\",\"created_at\":\"2017-06-20T08:09:01.592Z\",\"modified_at\":\"2017-06-20T08:09:02.609Z\"},\"entity\":{\"runtime_environment\":\"spark-2.0\",\"name\":\"Sentiment Prediction\",\"instance_href\":\"https://ibm-watson-ml.mybluemix.net/v2/streaming/deployments/699480ef-9df5-42d6-b851-85f6af443ff2\",\"description\":\"Streaming Deployment\",\"published_model\":{\"author\":{},\"name\":\"Sentiment Prediction Model\",\"guid\":\"044564b4-5f12-4a2f-b4b8-9f638b7a359a\",\"created_at\":\"2017-06-20T08:09:01.572Z\",\"href\":\"https://ibm-watson-ml.mybluemix.net/v2/published_models/044564b4-5f12-4a2f-b4b8-9f638b7a359a\"},\"model_type\":\"sparkml-model-2.0\",\"status\":\"INITIALIZING\",\"output\":{\"connection\":{\"kafka_brokers_sasl\":[\"kafka01-prod01.messagehub.services.us-south.bluemix.net:9093\",\"kafka02-prod01.messagehub.services.us-south.bluemix.net:9093\",\"kafka03-prod01.messagehub.services.us-south.bluemix.net:9093\",\"kafka04-prod01.messagehub.services.us-south.bluemix.net:9093\",\"kafka05-prod01.messagehub.services.us-south.bluemix.net:9093\"],\"kafka_admin_url\":\"https://kafka-admin-prod01.messagehub.services.us-south.bluemix.net:443\",\"api_key\":\"gDic7zCjvBJQjMjBMGcVHeBLI5VkqELVQsiuMx8Ka0XtddRk\",\"mqlight_lookup_url\":\"https://mqlight-lookup-prod01.messagehub.services.us-south.bluemix.net/Lookup?serviceId=2e9e624d-967b-4bf3-8eda-504e10fbc14d\",\"kafka_rest_url\":\"https://kafka-rest-prod01.messagehub.services.us-south.bluemix.net:443\",\"user\":\"gDic7zCjvBJQjMjB\",\"password\":\"MGcVHeBLI5VkqELVQsiuMx8Ka0XtddRk\"},\"target\":{\"topic\":\"streamingo\",\"type\":\"kafka\"}},\"type\":\"stream\",\"deployed_version\":{\"href\":\"https://ibm-watson-ml.mybluemix.net/v2/artifacts/models/044564b4-5f12-4a2f-b4b8-9f638b7a359a/versions/cdbe12d9-834a-4d30-a04b-68856997a077\",\"guid\":\"cdbe12d9-834a-4d30-a04b-68856997a077\",\"created_at\":\"2017-06-20T07:57:39.482Z\"},\"spark_service\":{\"credentials\":{\"tenant_id\":\"s21c-48a823ff40e190-35c9a7ecf27a\",\"cluster_master_url\":\"https://spark.bluemix.net\",\"tenant_id_full\":\"23feba1f-f746-4f36-b21c-48a823ff40e1_4c55eb1c-d6fe-4f0a-9390-35c9a7ecf27a\",\"tenant_secret\":\"635df489-dd17-46e3-a73b-50306426ea17\",\"instance_id\":\"23feba1f-f746-4f36-b21c-48a823ff40e1\",\"plan\":\"ibm.SparkService.PayGoPersonal\"},\"version\":\"2.0\"},\"input\":{\"source\":{\"topic\":\"streamingi\",\"type\":\"kafka\"},\"connection\":{\"kafka_brokers_sasl\":[\"kafka01-prod01.messagehub.services.us-south.bluemix.net:9093\",\"kafka02-prod01.messagehub.services.us-south.bluemix.net:9093\",\"kafka03-prod01.messagehub.services.us-south.bluemix.net:9093\",\"kafka04-prod01.messagehub.services.us-south.bluemix.net:9093\",\"kafka05-prod01.messagehub.services.us-south.bluemix.net:9093\"],\"kafka_admin_url\":\"https://kafka-admin-prod01.messagehub.services.us-south.bluemix.net:443\",\"api_key\":\"gDic7zCjvBJQjMjBMGcVHeBLI5VkqELVQsiuMx8Ka0XtddRk\",\"mqlight_lookup_url\":\"https://mqlight-lookup-prod01.messagehub.services.us-south.bluemix.net/Lookup?serviceId=2e9e624d-967b-4bf3-8eda-504e10fbc14d\",\"kafka_rest_url\":\"https://kafka-rest-prod01.messagehub.services.us-south.bluemix.net:443\",\"user\":\"gDic7zCjvBJQjMjB\",\"password\":\"MGcVHeBLI5VkqELVQsiuMx8Ka0XtddRk\"}}}}\n"
                }
            ], 
            "cell_type": "code", 
            "metadata": {}, 
            "source": "header_streaming = {'Content-Type': 'application/json', 'Authorization': mltoken, 'X-Spark-Service-Instance': encoded_spark_instance}\npayload_streaming = {\"type\":\"stream\", \"name\": \"Sentiment Prediction\", \"description\": \"Streaming Deployment\", \"input\": { \"connection\": { \"kafka_brokers_sasl\": [\"kafka01-prod01.messagehub.services.us-south.bluemix.net:9093\",\"kafka02-prod01.messagehub.services.us-south.bluemix.net:9093\", \"kafka03-prod01.messagehub.services.us-south.bluemix.net:9093\", \"kafka04-prod01.messagehub.services.us-south.bluemix.net:9093\", \"kafka05-prod01.messagehub.services.us-south.bluemix.net:9093\"], \"kafka_admin_url\": \"https://kafka-admin-prod01.messagehub.services.us-south.bluemix.net:443\", \"api_key\": \"gDic7zCjvBJQjMjBMGcVHeBLI5VkqELVQsiuMx8Ka0XtddRk\", \"mqlight_lookup_url\": \"https://mqlight-lookup-prod01.messagehub.services.us-south.bluemix.net/Lookup?serviceId=2e9e624d-967b-4bf3-8eda-504e10fbc14d\", \"kafka_rest_url\": \"https://kafka-rest-prod01.messagehub.services.us-south.bluemix.net:443\", \"user\": \"gDic7zCjvBJQjMjB\", \"password\": \"MGcVHeBLI5VkqELVQsiuMx8Ka0XtddRk\"}, \"source\": { \"type\": \"kafka\", \"topic\": \"streamingi\" }}, \"output\": { \"connection\": { \"kafka_brokers_sasl\": [ \"kafka01-prod01.messagehub.services.us-south.bluemix.net:9093\", \"kafka02-prod01.messagehub.services.us-south.bluemix.net:9093\", \"kafka03-prod01.messagehub.services.us-south.bluemix.net:9093\", \"kafka04-prod01.messagehub.services.us-south.bluemix.net:9093\", \"kafka05-prod01.messagehub.services.us-south.bluemix.net:9093\"], \"kafka_admin_url\": \"https://kafka-admin-prod01.messagehub.services.us-south.bluemix.net:443\", \"api_key\": \"gDic7zCjvBJQjMjBMGcVHeBLI5VkqELVQsiuMx8Ka0XtddRk\", \"mqlight_lookup_url\": \"https://mqlight-lookup-prod01.messagehub.services.us-south.bluemix.net/Lookup?serviceId=2e9e624d-967b-4bf3-8eda-504e10fbc14d\", \"kafka_rest_url\": \"https://kafka-rest-prod01.messagehub.services.us-south.bluemix.net:443\", \"user\": \"gDic7zCjvBJQjMjB\", \"password\": \"MGcVHeBLI5VkqELVQsiuMx8Ka0XtddRk\"},\"target\": {\"type\": \"kafka\", \"topic\": \"streamingo\"}}}\n\nresponse_streaming = requests.post(endpoint_deployments, json=payload_streaming, headers=header_streaming)\n\nprint response_streaming\nprint response_streaming.text", 
            "execution_count": 33
        }, 
        {
            "cell_type": "markdown", 
            "metadata": {}, 
            "source": "Now, you can start produce messages to your topics in MessageHub to make predictions."
        }, 
        {
            "cell_type": "markdown", 
            "metadata": {}, 
            "source": "<a id=\"messagehub\"></a>\n## 7. Working with Bluemix MessageHub"
        }, 
        {
            "cell_type": "markdown", 
            "metadata": {}, 
            "source": "In this section, we will use simple curl calls to work with MessageHub. We will use API key from MessageHub credentials and input/output topic names."
        }, 
        {
            "cell_type": "markdown", 
            "metadata": {}, 
            "source": "#### Get the list of topics from MessageHub"
        }, 
        {
            "outputs": [
                {
                    "output_type": "stream", 
                    "name": "stdout", 
                    "text": "[\"streamingi\",\"streamingo\"]"
                }
            ], 
            "cell_type": "code", 
            "metadata": {}, 
            "source": "!curl -H \"X-Auth-Token: gDic7zCjvBJQjMjBMGcVHeBLI5VkqELVQsiuMx8Ka0XtddRk\" \"https://kafka-rest-prod01.messagehub.services.us-south.bluemix.net:443/topics/\"", 
            "execution_count": 35
        }, 
        {
            "cell_type": "markdown", 
            "metadata": {}, 
            "source": "### Produce message"
        }, 
        {
            "cell_type": "markdown", 
            "metadata": {}, 
            "source": "#### Encode input data"
        }, 
        {
            "outputs": [
                {
                    "output_type": "stream", 
                    "name": "stdout", 
                    "text": "eydpZCc6IDEsICd0ZXh0JzonTXkgZmlyc3Qgc3RyZWFtaW5nIGRlcGxveW1lbnQhIEl0IGZlZWxz\r\nIHNvIGF3ZXNvbWUhISd9Cg==\r\n"
                }
            ], 
            "cell_type": "code", 
            "metadata": {}, 
            "source": "!echo \"{'id': 1, 'text':'My first streaming deployment! It feels so awesome!!'}\" | base64", 
            "execution_count": 36
        }, 
        {
            "cell_type": "markdown", 
            "metadata": {}, 
            "source": "In order to push this message to our topic, we will use below curl call"
        }, 
        {
            "outputs": [
                {
                    "output_type": "stream", 
                    "name": "stdout", 
                    "text": "{\"offsets\":[{\"partition\":0,\"offset\":8,\"error_code\":null,\"error\":null}],\"key_schema_id\":null,\"value_schema_id\":null}"
                }
            ], 
            "cell_type": "code", 
            "metadata": {}, 
            "source": "!curl -X POST -H \"Content-Type: application/vnd.kafka.binary.v1+json\" \\\n-H \"X-Auth-Token: gDic7zCjvBJQjMjBMGcVHeBLI5VkqELVQsiuMx8Ka0XtddRk\" \\\n-d '{\"records\":[{ \"key\": \"null\", \"value\": \"eydpZCc6IDEsICd0ZXh0JzonTXkgZmlyc3Qgc3RyZWFtaW5nIGRlcGxveW1lbnQhIEl0IGZlZWxzIHNvIGF3ZXNvbWUhISd9Cg==\"}]}' \\\nhttps://kafka-rest-prod01.messagehub.services.us-south.bluemix.net:443/topics/streamingi", 
            "execution_count": 38
        }, 
        {
            "cell_type": "markdown", 
            "metadata": {}, 
            "source": "### Create Input consumer"
        }, 
        {
            "cell_type": "markdown", 
            "metadata": {}, 
            "source": "We can read messages from input topic by creating a consumer."
        }, 
        {
            "outputs": [
                {
                    "output_type": "stream", 
                    "name": "stdout", 
                    "text": "{\"instance_id\":\"my_input_consumer\",\"base_uri\":\"https://kafka-rest-prod01.messagehub.services.us-south.bluemix.net/consumers/my_json_consumer/instances/my_input_consumer\"}"
                }
            ], 
            "cell_type": "code", 
            "metadata": {}, 
            "source": "!curl -X POST -H \"Content-Type: application/vnd.kafka.v1+json\" \\\n-H \"X-Auth-Token: gDic7zCjvBJQjMjBMGcVHeBLI5VkqELVQsiuMx8Ka0XtddRk\" \\\n--data '{\"name\": \"my_input_consumer\", \"format\": \"binary\", \"auto.offset.reset\": \"smallest\"}' \\\nhttps://kafka-rest-prod01.messagehub.services.us-south.bluemix.net:443/consumers/my_json_consumer ", 
            "execution_count": 39
        }, 
        {
            "cell_type": "markdown", 
            "metadata": {}, 
            "source": "#### Read messages from input topic"
        }, 
        {
            "outputs": [
                {
                    "output_type": "stream", 
                    "name": "stdout", 
                    "text": "[{\"key\":\"null\",\"value\":\"eydpZCc6IDEsICd0ZXh0JzonTXkgZmlyc3Qgc3RyZWFtaW5nIGRlcGxveW1lbnQhIEl0IGZlZWxzIHNvIGF3ZXNvbWUhISd9Cg==\",\"partition\":0,\"offset\":8}]"
                }
            ], 
            "cell_type": "code", 
            "metadata": {}, 
            "source": "!curl -X GET -H \"Accept: application/vnd.kafka.binary.v1+json\" \\\n-H \"X-Auth-Token: gDic7zCjvBJQjMjBMGcVHeBLI5VkqELVQsiuMx8Ka0XtddRk\" \\\nhttps://kafka-rest-prod01.messagehub.services.us-south.bluemix.net:443/consumers/my_json_consumer/instances/my_input_consumer/topics/streamingi", 
            "execution_count": 41
        }, 
        {
            "cell_type": "markdown", 
            "metadata": {}, 
            "source": "#### Decode the input message"
        }, 
        {
            "outputs": [
                {
                    "output_type": "stream", 
                    "name": "stdout", 
                    "text": "{'id': 1, 'text':'My first streaming deployment! It feels so awesome!!'}\r\n"
                }
            ], 
            "cell_type": "code", 
            "metadata": {}, 
            "source": "!echo \"eydpZCc6IDEsICd0ZXh0JzonTXkgZmlyc3Qgc3RyZWFtaW5nIGRlcGxveW1lbnQhIEl0IGZlZWxzIHNvIGF3ZXNvbWUhISd9Cg==\" | base64 -d", 
            "execution_count": 44
        }, 
        {
            "cell_type": "markdown", 
            "metadata": {}, 
            "source": "### Create Output consumer"
        }, 
        {
            "cell_type": "markdown", 
            "metadata": {}, 
            "source": "When we push messages to input topic, streaming deployment will process that message and write results to output topic. Similarly, we will create consumer to read from output topic."
        }, 
        {
            "outputs": [
                {
                    "output_type": "stream", 
                    "name": "stdout", 
                    "text": "{\"instance_id\":\"my_output_consumer\",\"base_uri\":\"https://kafka-rest-prod01.messagehub.services.us-south.bluemix.net/consumers/my_json_consumer/instances/my_output_consumer\"}"
                }
            ], 
            "cell_type": "code", 
            "metadata": {}, 
            "source": "!curl -X POST -H \"Content-Type: application/vnd.kafka.v1+json\" \\\n-H \"X-Auth-Token: gDic7zCjvBJQjMjBMGcVHeBLI5VkqELVQsiuMx8Ka0XtddRk\" \\\n--data '{\"name\": \"my_output_consumer\", \"format\": \"binary\", \"auto.offset.reset\": \"smallest\"}' \\\nhttps://kafka-rest-prod01.messagehub.services.us-south.bluemix.net:443/consumers/my_json_consumer ", 
            "execution_count": 40
        }, 
        {
            "cell_type": "markdown", 
            "metadata": {}, 
            "source": "#### Read messages from output topic"
        }, 
        {
            "outputs": [
                {
                    "output_type": "stream", 
                    "name": "stdout", 
                    "text": "[{\"key\":null,\"value\":\"eyJpZCI6MSwidGV4dCI6Ik15IGZpcnN0IHN0cmVhbWluZyBkZXBsb3ltZW50ISBJdCBmZWVscyBzbyBhd2Vzb21lISEiLCJ3b3JkcyI6WyJteSIsImZpcnN0Iiwic3RyZWFtaW5nIiwiZGVwbG95bWVudCEiLCJpdCIsImZlZWxzIiwic28iLCJhd2Vzb21lISEiXSwiZmVhdHVyZXMiOnsidHlwZSI6MCwic2l6ZSI6MjYyMTQ0LCJpbmRpY2VzIjpbMzc4NTIsODIxMTEsODYxNzUsMTQxMDYzLDE1MzA3NywxODg0MjQsMTk2NzY2LDI1NjE3N10sInZhbHVlcyI6WzEuMCwxLjAsMS4wLDEuMCwxLjAsMS4wLDEuMCwxLjBdfSwicmF3UHJlZGljdGlvbiI6eyJ0eXBlIjoxLCJ2YWx1ZXMiOlswLjk1MTU4MDk2MDUzNzY0OTcsLTAuOTUxNTgwOTYwNTM3NjQ5N119LCJwcm9iYWJpbGl0eSI6eyJ0eXBlIjoxLCJ2YWx1ZXMiOlswLjcyMTQzMzAxMDc4NTY3MTEsMC4yNzg1NjY5ODkyMTQzMjg5XX0sInByZWRpY3Rpb24iOjAuMH0=\",\"partition\":0,\"offset\":5}]"
                }
            ], 
            "cell_type": "code", 
            "metadata": {}, 
            "source": "!curl -X GET -H \"Accept: application/vnd.kafka.binary.v1+json\" \\\n-H \"X-Auth-Token: gDic7zCjvBJQjMjBMGcVHeBLI5VkqELVQsiuMx8Ka0XtddRk\" \\\nhttps://kafka-rest-prod01.messagehub.services.us-south.bluemix.net:443/consumers/my_json_consumer/instances/my_output_consumer/topics/streamingo", 
            "execution_count": 46
        }, 
        {
            "cell_type": "markdown", 
            "metadata": {}, 
            "source": "#### Decode the output message"
        }, 
        {
            "outputs": [
                {
                    "output_type": "stream", 
                    "name": "stdout", 
                    "text": "{\"id\":1,\"text\":\"My first streaming deployment! It feels so awesome!!\",\"words\":[\"my\",\"first\",\"streaming\",\"deployment!\",\"it\",\"feels\",\"so\",\"awesome!!\"],\"features\":{\"type\":0,\"size\":262144,\"indices\":[37852,82111,86175,141063,153077,188424,196766,256177],\"values\":[1.0,1.0,1.0,1.0,1.0,1.0,1.0,1.0]},\"rawPrediction\":{\"type\":1,\"values\":[0.9515809605376497,-0.9515809605376497]},\"probability\":{\"type\":1,\"values\":[0.7214330107856711,0.2785669892143289]},\"prediction\":0.0}"
                }
            ], 
            "cell_type": "code", 
            "metadata": {}, 
            "source": "!echo \"eyJpZCI6MSwidGV4dCI6Ik15IGZpcnN0IHN0cmVhbWluZyBkZXBsb3ltZW50ISBJdCBmZWVscyBzbyBhd2Vzb21lISEiLCJ3b3JkcyI6WyJteSIsImZpcnN0Iiwic3RyZWFtaW5nIiwiZGVwbG95bWVudCEiLCJpdCIsImZlZWxzIiwic28iLCJhd2Vzb21lISEiXSwiZmVhdHVyZXMiOnsidHlwZSI6MCwic2l6ZSI6MjYyMTQ0LCJpbmRpY2VzIjpbMzc4NTIsODIxMTEsODYxNzUsMTQxMDYzLDE1MzA3NywxODg0MjQsMTk2NzY2LDI1NjE3N10sInZhbHVlcyI6WzEuMCwxLjAsMS4wLDEuMCwxLjAsMS4wLDEuMCwxLjBdfSwicmF3UHJlZGljdGlvbiI6eyJ0eXBlIjoxLCJ2YWx1ZXMiOlswLjk1MTU4MDk2MDUzNzY0OTcsLTAuOTUxNTgwOTYwNTM3NjQ5N119LCJwcm9iYWJpbGl0eSI6eyJ0eXBlIjoxLCJ2YWx1ZXMiOlswLjcyMTQzMzAxMDc4NTY3MTEsMC4yNzg1NjY5ODkyMTQzMjg5XX0sInByZWRpY3Rpb24iOjAuMH0=\" | base64 -d", 
            "execution_count": 47
        }, 
        {
            "cell_type": "markdown", 
            "metadata": {
                "collapsed": true
            }, 
            "source": "<a id=\"summary\"></a>\n## 8. Summary and next steps     "
        }, 
        {
            "cell_type": "markdown", 
            "metadata": {
                "collapsed": true
            }, 
            "source": " You successfully completed this notebook! You learned how to use Apache Spark machine learning as well as Watson Machine Learning for model creation and deployment. Check out our _[Online Documentation](https://console.ng.bluemix.net/docs/services/PredictiveModeling/index.html?pos=2)_ for more samples, tutorials, documentation, how-tos, and blog posts. "
        }, 
        {
            "cell_type": "markdown", 
            "metadata": {}, 
            "source": "### Authors\n\n**Umit Mert Cakmak**, is a Data Scientist in IBM with a track record of developing enterprise-level applications that substantially increases clients' ability to turn data into actionable knowledge."
        }, 
        {
            "cell_type": "markdown", 
            "metadata": {}, 
            "source": "Copyright \u00a9 2017 IBM. This notebook and its source code are released under the terms of the MIT License."
        }
    ], 
    "metadata": {
        "kernelspec": {
            "display_name": "Python 2 with Spark 2.0", 
            "name": "python2-spark20", 
            "language": "python"
        }, 
        "language_info": {
            "mimetype": "text/x-python", 
            "codemirror_mode": {
                "name": "ipython", 
                "version": 2
            }, 
            "pygments_lexer": "ipython2", 
            "version": "2.7.11", 
            "name": "python", 
            "file_extension": ".py", 
            "nbconvert_exporter": "python"
        }
    }, 
    "nbformat": 4
}