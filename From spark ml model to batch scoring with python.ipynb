{
    "metadata": {
        "kernelspec": {
            "name": "python2-spark20", 
            "display_name": "Python 2 with Spark 2.0", 
            "language": "python"
        }, 
        "language_info": {
            "version": "2.7.11", 
            "name": "python", 
            "mimetype": "text/x-python", 
            "pygments_lexer": "ipython2", 
            "codemirror_mode": {
                "version": 2, 
                "name": "ipython"
            }, 
            "file_extension": ".py", 
            "nbconvert_exporter": "python"
        }
    }, 
    "cells": [
        {
            "metadata": {}, 
            "cell_type": "markdown", 
            "source": "<table style=\"border: none\" align=\"left\">\n   <tr style=\"border: none\">\n      <th style=\"border: none\"><font face=\"verdana\" size=\"5\" color=\"black\"><b>Predicting customer churn with IBM Watson Machine Learning</b></th>\n      <th style=\"border: none\"><img src=\"https://github.com/pmservice/customer-satisfaction-prediction/blob/master/app/static/images/ml_icon_gray.png?raw=true\" alt=\"Watson Machine Learning icon\" height=\"40\" width=\"40\"></th>\n  <tr style=\"border: none\">\n       <th style=\"border: none\"><img src=\"https://github.com/pmservice/wml-sample-models/blob/master/spark/customer-satisfaction-prediction/images/users_banner_2-03.png?raw=true\" width=\"600\" alt=\"Icon\"> </th>\n   </tr>\n</table>"
        }, 
        {
            "metadata": {}, 
            "cell_type": "markdown", 
            "source": "This notebook contains steps and code to develop a predictive model, and start scoring new data. This notebook introduces commands for getting data and for basic data cleaning and exploration, pipeline creation, model training, model persistance to Watson Machine Learning repository, model deployment, and scoring.\n\nSome familiarity with Python is helpful. This notebook uses Python 2.7 and Apache\u00ae Spark 2.0.\n\nYou will use a data set, **Telco Customer Churn**, which details anonymous customers data of telecommunication company. Use the details of this data set to predict customer churn which is very critical to business as it's easier to retain existing customers rather than acquiring new ones.\n\n## Learning goals\n\nThe learning goals of this notebook are:\n\n-  Load a CSV file into an Apache\u00ae Spark DataFrame.\n-  Explore data.\n-  Prepare data for training and evaluation.\n-  Create an Apache\u00ae Spark machine learning pipeline.\n-  Train and evaluate a model.\n-  Persist a pipeline and model in Watson Machine Learning repository.\n-  Explore and visualize prediction result using the plotly package.\n-  Deploy a model for batch scoring using Wastson Machine Learning API.\n\n\n## Contents\n\nThis notebook contains the following parts:\n\n1.\t[Setup](#setup)\n2.\t[Load and explore data](#load)\n3.\t[Create spark ml model](#model)\n4.\t[Persist model](#persistence)\n5.\t[Predict locally and visualize](#visualization)\n6.\t[Deploy and score in a Cloud](#scoring)\n7.\t[Summary and next steps](#summary)"
        }, 
        {
            "metadata": {}, 
            "cell_type": "markdown", 
            "source": "<a id=\"setup\"></a>\n## 1. Setup\n\nBefore you use the sample code in this notebook, you must perform the following setup tasks:\n\n-  Create a [Watson Machine Learning Service](https://console.ng.bluemix.net/catalog/services/ibm-watson-machine-learning/) instance required for model storing and deployment (a free plan is offered).\n- Create a [Cloud Object Storage Service](https://console.bluemix.net/catalog/infrastructure/cloud_object_storage/) instance required for storing scoring data (a free plan is offered).\n- Create a [Apache Spark Service](https://console.bluemix.net/catalog/services/apache-spark/) instance required for batch scoring (a free plan is offered).\n-  Make sure that you are using a Spark 2.0 kernel in notebook.\n\n### Create the Telco Customer Churn Data Asset  \n\nThe Telco Customer Churn data is available on project's Github page.\n\n1.  Download dataset from **Telco Customer Churn project** page [data folder](https://github.com/pmservice/wml-sample-models/tree/master/spark/customer-satisfaction-prediction/data) to local machine filesystem.\n2.  After downloading the dataset to your local machine, read it into Spark DataFrame."
        }, 
        {
            "metadata": {
                "collapsed": true
            }, 
            "cell_type": "code", 
            "outputs": [], 
            "execution_count": null, 
            "source": "# The code was removed by DSX for sharing."
        }, 
        {
            "metadata": {}, 
            "cell_type": "code", 
            "outputs": [], 
            "execution_count": null, 
            "source": "import wget\n\nlink_to_data = 'https://github.com/pmservice/wml-sample-models/raw/master/spark/customer-satisfaction-prediction/data/WA_Fn%20UseC_%20Telco%20Customer%20Churn.csv'\nfilename = wget.download(link_to_data)\n\nprint(filename)"
        }, 
        {
            "metadata": {}, 
            "cell_type": "markdown", 
            "source": "<a id=\"load\"></a>\n## 2. Load and explore data"
        }, 
        {
            "metadata": {}, 
            "cell_type": "markdown", 
            "source": "In this section you will load the data as an Apache\u00ae Spark DataFrame and perform a basic exploration. "
        }, 
        {
            "metadata": {}, 
            "cell_type": "markdown", 
            "source": "Once you see the file on **Files** section, you can insert it to your notebook by selecting **Insert SparkSession DataFrame**"
        }, 
        {
            "metadata": {}, 
            "cell_type": "code", 
            "outputs": [], 
            "execution_count": null, 
            "source": "spark = SparkSession.builder.getOrCreate()\n\ndf_data = spark.read\\\n  .format('org.apache.spark.sql.execution.datasources.csv.CSVFileFormat')\\\n  .option('header', 'true')\\\n  .option('inferSchema', 'true')\\\n  .option('nanValue', ' ')\\\n  .option('nullValue', ' ')\\\n  .load(filename)"
        }, 
        {
            "metadata": {}, 
            "cell_type": "markdown", 
            "source": "Explore the loaded data by using the following Apache\u00ae Spark DataFrame methods:\n-  print schema\n-  count all records\n-  show distribution of label classes"
        }, 
        {
            "metadata": {}, 
            "cell_type": "code", 
            "outputs": [], 
            "execution_count": null, 
            "source": "df_data.printSchema()\n\nprint(\"Number of fields: %3g\" % len(df_data.schema))"
        }, 
        {
            "metadata": {}, 
            "cell_type": "markdown", 
            "source": "As you can see, the data contains 21 fields. \"Churn\" field is the one we would like to predict (label)."
        }, 
        {
            "metadata": {}, 
            "cell_type": "code", 
            "outputs": [], 
            "execution_count": null, 
            "source": "print(\"Total number of records: \" + str(df_data.count()))"
        }, 
        {
            "metadata": {}, 
            "cell_type": "markdown", 
            "source": "Data set contains 7043 records."
        }, 
        {
            "metadata": {}, 
            "cell_type": "markdown", 
            "source": "Now you will check if all records have complete data."
        }, 
        {
            "metadata": {}, 
            "cell_type": "code", 
            "outputs": [], 
            "execution_count": null, 
            "source": "df_complete = df_data.dropna()\n\nprint(\"Number of records with complete data: %3g\" % df_complete.count())"
        }, 
        {
            "metadata": {}, 
            "cell_type": "markdown", 
            "source": "You can see that there are some missing values you can investigate that all missing values are present in `TotalCharges` feature. We will use dataset with missing values removed for model training and evaluation."
        }, 
        {
            "metadata": {}, 
            "cell_type": "markdown", 
            "source": "Now you will inspect distribution of classes in label column."
        }, 
        {
            "metadata": {}, 
            "cell_type": "code", 
            "outputs": [], 
            "execution_count": null, 
            "source": "df_complete.groupBy('Churn').count().show()"
        }, 
        {
            "metadata": {}, 
            "cell_type": "markdown", 
            "source": "<a id=\"model\"></a>\n## 3. Create an Apache\u00ae Spark machine learning model\n\nIn this section you will learn how to prepare data, create an Apache\u00ae Spark machine learning pipeline, and train a model."
        }, 
        {
            "metadata": {}, 
            "cell_type": "markdown", 
            "source": "### 3.1: Prepare data\n\nIn this subsection you will split your data into: train, test and predict datasets."
        }, 
        {
            "metadata": {}, 
            "cell_type": "code", 
            "outputs": [], 
            "execution_count": null, 
            "source": "(train_data, test_data, predict_data) = df_complete.randomSplit([0.8, 0.18, 0.02], 24)\n\nprint(\"Number of records for training: \" + str(train_data.count()))\nprint(\"Number of records for evaluation: \" + str(test_data.count()))\nprint(\"Number of records for prediction: \" + str(predict_data.count()))"
        }, 
        {
            "metadata": {}, 
            "cell_type": "markdown", 
            "source": "As you can see our data has been successfully split into three datasets: \n\n-  The train data set, which is the largest group, is used for training.\n-  The test data set will be used for model evaluation and is used to test the assumptions of the model.\n-  The predict data set will be used for prediction."
        }, 
        {
            "metadata": {}, 
            "cell_type": "markdown", 
            "source": "### 3.2: Create pipeline and train a model"
        }, 
        {
            "metadata": {}, 
            "cell_type": "markdown", 
            "source": "In this section you will create an Apache\u00ae Spark machine learning pipeline and then train the model."
        }, 
        {
            "metadata": {}, 
            "cell_type": "markdown", 
            "source": "In the first step you need to import the Apache\u00ae Spark machine learning packages that will be needed in the subsequent steps."
        }, 
        {
            "metadata": {
                "collapsed": true
            }, 
            "cell_type": "code", 
            "outputs": [], 
            "execution_count": null, 
            "source": "from pyspark.ml.feature import StringIndexer, IndexToString, RFormula\nfrom pyspark.ml.classification import LogisticRegression\nfrom pyspark.ml.evaluation import MulticlassClassificationEvaluator\nfrom pyspark.ml import Pipeline, Model"
        }, 
        {
            "metadata": {}, 
            "cell_type": "markdown", 
            "source": "In the following step, convert all the predictors to features vector and label feature convert to numeric."
        }, 
        {
            "metadata": {
                "collapsed": true
            }, 
            "cell_type": "code", 
            "outputs": [], 
            "execution_count": null, 
            "source": "lab = StringIndexer(inputCol = 'Churn', outputCol = 'label')\nfeatures = RFormula(formula = \"~ gender + SeniorCitizen +  Partner + Dependents + tenure + PhoneService + MultipleLines + InternetService + OnlineSecurity + OnlineBackup + DeviceProtection + TechSupport + StreamingTV + StreamingMovies + Contract + PaperlessBilling + PaymentMethod + MonthlyCharges + TotalCharges - 1\")"
        }, 
        {
            "metadata": {}, 
            "cell_type": "markdown", 
            "source": "Next, define estimators you want to use for classification. Logistic Regression is used in the following example."
        }, 
        {
            "metadata": {
                "collapsed": true
            }, 
            "cell_type": "code", 
            "outputs": [], 
            "execution_count": null, 
            "source": "lr = LogisticRegression(maxIter = 10)"
        }, 
        {
            "metadata": {}, 
            "cell_type": "markdown", 
            "source": "Let's build the pipeline now. A pipeline consists of transformers and an estimator."
        }, 
        {
            "metadata": {
                "collapsed": true
            }, 
            "cell_type": "code", 
            "outputs": [], 
            "execution_count": null, 
            "source": "pipeline_lr = Pipeline(stages = [features, lab , lr])"
        }, 
        {
            "metadata": {}, 
            "cell_type": "markdown", 
            "source": "Now, you can train your Logistic Regression model by using the previously defined **pipeline** and **train data**."
        }, 
        {
            "metadata": {
                "collapsed": true
            }, 
            "cell_type": "code", 
            "outputs": [], 
            "execution_count": null, 
            "source": "model_lr = pipeline_lr.fit(train_data)"
        }, 
        {
            "metadata": {}, 
            "cell_type": "markdown", 
            "source": "You can check your **model accuracy** now. To evaluate the model, use **test data**."
        }, 
        {
            "metadata": {}, 
            "cell_type": "code", 
            "outputs": [], 
            "execution_count": null, 
            "source": "predictions = model_lr.transform(test_data)\nevaluator = MulticlassClassificationEvaluator(labelCol=\"label\", predictionCol=\"prediction\", metricName=\"accuracy\")\naccuracy = evaluator.evaluate(predictions)\n\nprint(\"Test dataset:\")\nprint(\"Accuracy = %3.2f\" % accuracy)"
        }, 
        {
            "metadata": {
                "collapsed": true
            }, 
            "cell_type": "markdown", 
            "source": "You can tune your model now to achieve better accuracy. For simplicity of this example tuning section is omitted."
        }, 
        {
            "metadata": {
                "collapsed": true
            }, 
            "cell_type": "markdown", 
            "source": "<a id=\"persistence\"></a>\n## 4. Persist model"
        }, 
        {
            "metadata": {}, 
            "cell_type": "markdown", 
            "source": "In this section you will learn how to store your pipeline and model in Watson Machine Learning repository by using python client libraries."
        }, 
        {
            "metadata": {
                "collapsed": true
            }, 
            "cell_type": "markdown", 
            "source": "First, you must import Watson Machine Learning repository client libraries.\n\n**Note**: Apache\u00ae Spark 2.0 is required."
        }, 
        {
            "metadata": {
                "collapsed": true
            }, 
            "cell_type": "code", 
            "outputs": [], 
            "execution_count": null, 
            "source": "from repository.mlrepositoryclient import MLRepositoryClient\nfrom repository.mlrepositoryartifact import MLRepositoryArtifact\nfrom repository.mlrepository import MetaProps"
        }, 
        {
            "metadata": {
                "collapsed": true
            }, 
            "cell_type": "markdown", 
            "source": "Authenticate to Watson Machine Learning service on Bluemix."
        }, 
        {
            "metadata": {}, 
            "cell_type": "markdown", 
            "source": "**Action**: Put credentials from your instance of Watson Machine Learning service in Bluemix here.</div>"
        }, 
        {
            "metadata": {
                "collapsed": true
            }, 
            "cell_type": "code", 
            "outputs": [], 
            "execution_count": null, 
            "source": "wml_credentials={\n  \"url\": \"https://ibm-watson-ml.mybluemix.net\",\n  \"access_key\": \"***\",\n  \"username\": \"***\",\n  \"password\": \"***\",\n  \"instance_id\": \"***\"\n}"
        }, 
        {
            "metadata": {
                "collapsed": true
            }, 
            "cell_type": "code", 
            "outputs": [], 
            "execution_count": null, 
            "source": "ml_repository_client = MLRepositoryClient(wml_credentials['url'])\nml_repository_client.authorize(wml_credentials['username'], wml_credentials['password'])"
        }, 
        {
            "metadata": {}, 
            "cell_type": "markdown", 
            "source": "Create model artifact (abstraction layer)."
        }, 
        {
            "metadata": {
                "collapsed": true
            }, 
            "cell_type": "code", 
            "outputs": [], 
            "execution_count": null, 
            "source": "model_artifact = MLRepositoryArtifact(ml_artifact=model_lr, training_data=train_data, name=\"Customer Churn Model\" )"
        }, 
        {
            "metadata": {}, 
            "cell_type": "markdown", 
            "source": "**Tip**: The MLRepositoryArtifact method expects a trained model object, training data, and a model name. (It is this model name that is displayed by the Watson Machine Learning service)."
        }, 
        {
            "metadata": {}, 
            "cell_type": "markdown", 
            "source": "### 4.1: Save pipeline and model"
        }, 
        {
            "metadata": {}, 
            "cell_type": "markdown", 
            "source": "In this subsection you will learn how to save pipeline and model artifacts to your Watson Machine Learning instance."
        }, 
        {
            "metadata": {
                "collapsed": true
            }, 
            "cell_type": "code", 
            "outputs": [], 
            "execution_count": null, 
            "source": "saved_model = ml_repository_client.models.save(model_artifact)"
        }, 
        {
            "metadata": {}, 
            "cell_type": "markdown", 
            "source": "Get saved model metadata from Watson Machine Learning."
        }, 
        {
            "metadata": {}, 
            "cell_type": "markdown", 
            "source": "**Tip**: Use *meta.available_props()* to get the list of available props."
        }, 
        {
            "metadata": {}, 
            "cell_type": "code", 
            "outputs": [], 
            "execution_count": null, 
            "source": "print(saved_model.meta.available_props())"
        }, 
        {
            "metadata": {}, 
            "cell_type": "code", 
            "outputs": [], 
            "execution_count": null, 
            "source": "print(\"creationTime: \" + str(saved_model.meta.prop(\"creationTime\")))\nprint(\"modelType: \" + saved_model.meta.prop(\"modelType\"))\nprint(\"pipelineType: \" + saved_model.meta.prop(\"pipelineType\"))\nprint(\"runtime: \" + str(saved_model.meta.prop(\"runtime\")))\nprint(\"label: \" + saved_model.meta.prop(\"label\"))\nprint(\"modelVersionHref: \" + saved_model.meta.prop(\"modelVersionHref\"))"
        }, 
        {
            "metadata": {}, 
            "cell_type": "markdown", 
            "source": "**Tip**: **modelVersionHref** is our model unique indentifier in the Watson Machine Learning repository."
        }, 
        {
            "metadata": {}, 
            "cell_type": "code", 
            "outputs": [], 
            "execution_count": null, 
            "source": "published_model_ID = saved_model.uid\n\nprint(\"Model Id: \" + str(published_model_ID))"
        }, 
        {
            "metadata": {}, 
            "cell_type": "markdown", 
            "source": "**Model Id** can be used to retrive latest model version from Watson Machine Learning instance."
        }, 
        {
            "metadata": {}, 
            "cell_type": "markdown", 
            "source": "### 4.2: Load model"
        }, 
        {
            "metadata": {}, 
            "cell_type": "markdown", 
            "source": "In this subsection you will learn how to load back saved model from specified instance of Watson Machine Learning."
        }, 
        {
            "metadata": {
                "collapsed": true
            }, 
            "cell_type": "code", 
            "outputs": [], 
            "execution_count": null, 
            "source": "loadedModelArtifact = ml_repository_client.models.get(saved_model.uid)"
        }, 
        {
            "metadata": {}, 
            "cell_type": "markdown", 
            "source": "You can print for example model name to make sure that model has been loaded correctly."
        }, 
        {
            "metadata": {
                "collapsed": true
            }, 
            "cell_type": "code", 
            "outputs": [], 
            "execution_count": null, 
            "source": "print(str(loadedModelArtifact.name))"
        }, 
        {
            "metadata": {}, 
            "cell_type": "markdown", 
            "source": "As you can see the name is correct. You have already learned how save and load the model from Watson Machine Learning repository."
        }, 
        {
            "metadata": {}, 
            "cell_type": "markdown", 
            "source": "<a id=\"visualization\"></a>\n## 5. Predict locally and visualize"
        }, 
        {
            "metadata": {}, 
            "cell_type": "markdown", 
            "source": "In this section you will learn how to load data from batch scoring and visualize the prediction results with plotly package."
        }, 
        {
            "metadata": {}, 
            "cell_type": "markdown", 
            "source": "### 5.1: Make local prediction using previously loaded model and test data"
        }, 
        {
            "metadata": {
                "collapsed": true
            }, 
            "cell_type": "markdown", 
            "source": "In this subsection you will score *predict_data* data set."
        }, 
        {
            "metadata": {
                "collapsed": true
            }, 
            "cell_type": "code", 
            "outputs": [], 
            "execution_count": null, 
            "source": "predictions = loadedModelArtifact.model_instance().transform(predict_data)"
        }, 
        {
            "metadata": {}, 
            "cell_type": "markdown", 
            "source": "Preview the results by calling the *show()* method on the predictions DataFrame."
        }, 
        {
            "metadata": {}, 
            "cell_type": "code", 
            "outputs": [], 
            "execution_count": null, 
            "source": "predictions.show(5)"
        }, 
        {
            "metadata": {}, 
            "cell_type": "markdown", 
            "source": "By tabulating a count, you can see the split between labels."
        }, 
        {
            "metadata": {}, 
            "cell_type": "code", 
            "outputs": [], 
            "execution_count": null, 
            "source": "predictions.select(\"prediction\").groupBy(\"prediction\").count().show(truncate=False)"
        }, 
        {
            "metadata": {}, 
            "cell_type": "markdown", 
            "source": "### 5.2: Sample visualization of data with Plotly package"
        }, 
        {
            "metadata": {}, 
            "cell_type": "markdown", 
            "source": "In this subsection you will explore prediction results with Plotly, which is an online analytics and data visualization tool."
        }, 
        {
            "metadata": {}, 
            "cell_type": "markdown", 
            "source": "**Example**: First, you need to install required packages. You can do it by running the following code. Run it only one time.\n\n    !pip install plotly --user \n    !pip install cufflinks --user"
        }, 
        {
            "metadata": {}, 
            "cell_type": "code", 
            "outputs": [], 
            "execution_count": null, 
            "source": "import sys\nimport pandas\nimport plotly.plotly as py\nfrom plotly.offline import download_plotlyjs, init_notebook_mode, plot, iplot\nimport cufflinks as cf\nimport plotly.graph_objs as go\n\ninit_notebook_mode(connected=True)\nsys.path.append(\"\".join([os.environ[\"HOME\"]])) "
        }, 
        {
            "metadata": {}, 
            "cell_type": "markdown", 
            "source": "Plot a pie chart that shows the predicted churn split. !!! By most important features: Contract, MonthlyCharges !!! predicted vs observed churns."
        }, 
        {
            "metadata": {
                "collapsed": true
            }, 
            "cell_type": "code", 
            "outputs": [], 
            "execution_count": null, 
            "source": "cumulative_stats = predictions.groupby(['label']).count()\nlabels_data_plot = [cumulative_stats.select('label').collect()[x][0] for x in range(2)]\nvalues_data_plot = [cumulative_stats.select('count').collect()[x][0] for x in range(2)]"
        }, 
        {
            "metadata": {}, 
            "cell_type": "code", 
            "outputs": [], 
            "execution_count": null, 
            "source": "product_data = [go.Pie(\n            labels=labels_data_plot,\n            values=values_data_plot,\n    )]\n\nproduct_layout = go.Layout(\n    title='Label split',\n)\n\nfig = go.Figure(data=product_data, layout=product_layout)\niplot(fig)"
        }, 
        {
            "metadata": {}, 
            "cell_type": "markdown", 
            "source": "With this data set, you might want to do some analysis of Mean Monthly Charges per churn class"
        }, 
        {
            "metadata": {}, 
            "cell_type": "code", 
            "outputs": [], 
            "execution_count": null, 
            "source": "y_data_plot = [predictions.groupby(['label']).mean().collect()[x][3] for x in range(2)]\nx_data_plot = [cumulative_stats.select('label').collect()[x][0] for x in range(2)]"
        }, 
        {
            "metadata": {}, 
            "cell_type": "code", 
            "outputs": [], 
            "execution_count": null, 
            "source": "age_data = [go.Bar(\n            y= x_data_plot,\n            x= y_data_plot\n            \n    )]\n\nage_layout = go.Layout(\n    title='Mean Monthly Charges per churn class',\n    xaxis=dict(\n        title = \"Churn\",\n        showline=False,),\n    yaxis=dict(\n        title = \"Mean Monthly Charges\",\n        ),\n)\n\nfig = go.Figure(data=age_data, layout=age_layout)\niplot(fig)"
        }, 
        {
            "metadata": {}, 
            "cell_type": "markdown", 
            "source": "Based on bar plot you created, you might make the following conclusion: The mean monthly charges for churn customers is higher than non-churn customers as you may expect."
        }, 
        {
            "metadata": {}, 
            "cell_type": "markdown", 
            "source": "<a id=\"scoring\"></a>\n## 6. Deploy model and score in a Cloud"
        }, 
        {
            "metadata": {}, 
            "cell_type": "markdown", 
            "source": "In this section you will learn how to create batch deployment and to score a new data record by using the Watson Machine Learning REST API. \nFor more information about REST APIs, see the [Swagger Documentation](http://watson-ml-api.mybluemix.net/)."
        }, 
        {
            "metadata": {}, 
            "cell_type": "markdown", 
            "source": "#### 6.1 Save data for prediction to Object Storage"
        }, 
        {
            "metadata": {}, 
            "cell_type": "markdown", 
            "source": "Bla bla bla ..."
        }, 
        {
            "metadata": {}, 
            "cell_type": "markdown", 
            "source": "**Example**: First, you need to install required packages. You can do it by running the following code. Run it only one time.\n\n    !pip install python-swiftclient --user"
        }, 
        {
            "metadata": {}, 
            "cell_type": "markdown", 
            "source": "First, you must import Object Storage client libraries."
        }, 
        {
            "metadata": {
                "collapsed": true
            }, 
            "cell_type": "code", 
            "outputs": [], 
            "execution_count": null, 
            "source": "import swiftclient.client as swiftclient\nimport urllib"
        }, 
        {
            "metadata": {}, 
            "cell_type": "markdown", 
            "source": "<div>**Action**: Put credentials from Object Storage Service in Bluemix here.</div>"
        }, 
        {
            "metadata": {
                "collapsed": true
            }, 
            "cell_type": "code", 
            "outputs": [], 
            "execution_count": null, 
            "source": "objectstorage_credentials = {\n  \"auth_url\": \"https://identity.open.softlayer.com\",\n  \"project\": \"***\",\n  \"projectId\": \"***\",\n  \"region\": \"***\",\n  \"userId\": \"***\",\n  \"username\": \"***\",\n  \"password\": \"***\",\n  \"domainId\": \"***\",\n  \"domainName\": \"***\",\n  \"role\": \"***\"\n}"
        }, 
        {
            "metadata": {
                "collapsed": true
            }, 
            "cell_type": "code", 
            "outputs": [], 
            "execution_count": null, 
            "source": "connection_userid = objectstorage_credentials.get(\"userId\")\nconnection_projectid = objectstorage_credentials.get(\"projectId\")\nconnection_password = objectstorage_credentials.get(\"password\")\nconnection_region = objectstorage_credentials.get(\"region\")\nconnection_authurl = objectstorage_credentials.get(\"auth_url\")"
        }, 
        {
            "metadata": {}, 
            "cell_type": "markdown", 
            "source": "Now you will create container in Object Storage and copy [dataset](https://raw.githubusercontent.com/pmservice/wml-sample-models/master/spark/customer-satisfaction-prediction/data/scoreInput.csv) for batch scoring from **Telco Customer Churn project**."
        }, 
        {
            "metadata": {
                "collapsed": true
            }, 
            "cell_type": "code", 
            "outputs": [], 
            "execution_count": null, 
            "source": "score_filename = \"scoreInput.csv\"\ncontainer_name = \"batchjob\""
        }, 
        {
            "metadata": {}, 
            "cell_type": "code", 
            "outputs": [], 
            "execution_count": null, 
            "source": "conn = swiftclient.Connection(key = connection_password, authurl = connection_authurl + \"/v3\", auth_version = '3', os_options = {\"project_id\": connection_projectid, \"user_id\": connection_userid, \"region\": connection_region})\nobject_storage_info = conn.get_account()\nif(container_name not in [x.get('name') for x in object_storage_info[1]]):\n    conn.put_container(container = container_name)\ncontainer_info = conn.get_container(container_name)\nif(score_filename not in [x.get('name') for x in container_info[1]]):\n    scoring_data_connection = urllib.urlopen('https://raw.githubusercontent.com/pmservice/wml-sample-models/master/spark/customer-satisfaction-prediction/data/scoreInput.csv')\n    conn.put_object(container = container_name, obj = score_filename, contents = scoring_data_connection, content_type = 'text/plain')\n    scoring_data_connection.close()\n    print \"File '%s' successfully uploaded to container '%s'\" % (score_filename, container_name)\nelse:\n    print \"File '%s' already exists in container '%s'\" % (score_filename, container_name)\nconn.close()"
        }, 
        {
            "metadata": {}, 
            "cell_type": "markdown", 
            "source": "### 6.2: Create model deployment"
        }, 
        {
            "metadata": {}, 
            "cell_type": "markdown", 
            "source": "Now you can create a batch scoring endpoint. Execute the following sample code that uses the **published Model Id** value to create the scoring endpoint to the Bluemix repository."
        }, 
        {
            "metadata": {}, 
            "cell_type": "markdown", 
            "source": "#### Create access token to Watson Machine Learning Service\n\nTo work with the Watson Machine Leraning REST API you must generate an access token. To do that you can use the following sample code:"
        }, 
        {
            "metadata": {}, 
            "cell_type": "markdown", 
            "source": "First, you must import standard python libraries."
        }, 
        {
            "metadata": {
                "collapsed": true
            }, 
            "cell_type": "code", 
            "outputs": [], 
            "execution_count": null, 
            "source": "import urllib3, requests, json\n\nheaders = urllib3.util.make_headers(basic_auth='{username}:{password}'.format(username=wml_credentials['username'], password=wml_credentials['password']))\nurl = '{url}/v3/identity/token'.format(url=wml_credentials['url'])\nresponse = requests.get(url, headers=headers)\nmltoken = json.loads(response.text).get('token')"
        }, 
        {
            "metadata": {}, 
            "cell_type": "markdown", 
            "source": "### 6.1: Create batch deployment"
        }, 
        {
            "metadata": {}, 
            "cell_type": "markdown", 
            "source": "#### Get published_models url from instance details"
        }, 
        {
            "metadata": {}, 
            "cell_type": "code", 
            "outputs": [], 
            "execution_count": null, 
            "source": "endpoint_instance = wml_credentials['url'] + \"/v3/wml_instances/\" + wml_credentials['instance_id']\nheader = {'Content-Type': 'application/json', 'Authorization': 'Bearer ' + mltoken}\n\nresponse_get_instance = requests.get(endpoint_instance, headers=header)\n\nprint(response_get_instance)\nprint(json.dumps(response_get_instance.text, indent=2))"
        }, 
        {
            "metadata": {}, 
            "cell_type": "code", 
            "outputs": [], 
            "execution_count": null, 
            "source": "endpoint_published_models = json.loads(response_get_instance.text).get('entity').get('published_models').get('url')\n\nprint(endpoint_published_models)"
        }, 
        {
            "metadata": {}, 
            "cell_type": "markdown", 
            "source": "Execute the following sample code that uses the published_models endpoint to get deployments url."
        }, 
        {
            "metadata": {}, 
            "cell_type": "markdown", 
            "source": "#### Get the list of published models"
        }, 
        {
            "metadata": {}, 
            "cell_type": "code", 
            "outputs": [], 
            "execution_count": null, 
            "source": "header = {'Content-Type': 'application/json', 'Authorization': 'Bearer ' + mltoken}\nresponse_get = requests.get(endpoint_published_models, headers=header)\n\nprint(response_get)\nprint(json.dumps(response_get.text, indent=2))"
        }, 
        {
            "metadata": {}, 
            "cell_type": "markdown", 
            "source": "#### Get published model deployment url"
        }, 
        {
            "metadata": {}, 
            "cell_type": "code", 
            "outputs": [], 
            "execution_count": null, 
            "source": "[endpoint_deployments] = [x.get('entity').get('deployments').get('url') for x in json.loads(response_get.text).get('resources') if x.get('metadata').get('guid') == saved_model.uid]\n\nprint(endpoint_deployments)"
        }, 
        {
            "metadata": {}, 
            "cell_type": "markdown", 
            "source": "#### Create batch deployment for published model"
        }, 
        {
            "metadata": {}, 
            "cell_type": "markdown", 
            "source": "First import standard python library."
        }, 
        {
            "metadata": {
                "collapsed": true
            }, 
            "cell_type": "code", 
            "outputs": [], 
            "execution_count": null, 
            "source": "import base64"
        }, 
        {
            "metadata": {}, 
            "cell_type": "markdown", 
            "source": "<div>**Action**:  Put your credentials from Apache Spark Service in Bluemix here</div>"
        }, 
        {
            "metadata": {
                "collapsed": true
            }, 
            "cell_type": "code", 
            "outputs": [], 
            "execution_count": null, 
            "source": "spark_credentials = {\n  \"tenant_id\": \"****\",\n  \"tenant_id_full\": \"****\",\n  \"cluster_master_url\": \"https://spark.bluemix.net\",\n  \"tenant_secret\": \"****\",\n  \"instance_id\": \"****\",\n  \"plan\": \"ibm.SparkService.PayGoPersonal\"\n}"
        }, 
        {
            "metadata": {
                "collapsed": true
            }, 
            "cell_type": "code", 
            "outputs": [], 
            "execution_count": null, 
            "source": "encoded_spark_credentials_header = base64.b64encode(json.dumps({\"credentials\": spark_credentials, \"version\": \"2.0\"}))\nresult_filename = \"result.csv\""
        }, 
        {
            "metadata": {}, 
            "cell_type": "code", 
            "outputs": [], 
            "execution_count": null, 
            "source": "header_batch = {'Content-Type': 'application/json', 'Authorization': \"Bearer \" + mltoken, 'X-Spark-Service-Instance': encoded_spark_credentials_header}\npayload_batch = {\"type\":\"batch\", \"name\": \"Customer Churn Prediction\", \"description\": \"Batch Deployment\", \"input\": {\"source\": { \"container\": container_name, \"filename\": score_filename, \"fileformat\": \"csv\", \"inferschema\": 1, \"firstlineheader\": \"true\", \"type\": \"bluemixobjectstorage\"}, \"connection\": {\"userid\": connection_userid, \"projectid\": connection_projectid, \"password\": connection_password, \"region\": connection_region, \"authurl\": connection_authurl}}, \"output\": { \"target\": { \"container\": container_name, \"filename\": result_filename, \"fileformat\": \"csv\", \"firstlineheader\": \"true\", \"type\": \"bluemixobjectstorage\"}, \"connection\": {\"userid\": connection_userid, \"projectid\": connection_projectid, \"password\": connection_password, \"region\": connection_region, \"authurl\": connection_authurl}}}\n\nresponse_batch = requests.post(endpoint_deployments, json=payload_batch, headers=header_batch)\n\nprint(response_batch)\nprint(json.loads(response_batch.text).get(\"entity\").get(\"status\"))"
        }, 
        {
            "metadata": {}, 
            "cell_type": "markdown", 
            "source": "You can see that your job has been submited to Spark."
        }, 
        {
            "metadata": {}, 
            "cell_type": "markdown", 
            "source": "#### Monitor job execution"
        }, 
        {
            "metadata": {}, 
            "cell_type": "markdown", 
            "source": "Here you can check status of your batch scoring. When status of Spark job is `FINNISHED` the results will be written to result.csv file in Object Storage."
        }, 
        {
            "metadata": {}, 
            "cell_type": "code", 
            "outputs": [], 
            "execution_count": null, 
            "source": "header_monitor_job = {'Content-Type': 'application/json', 'Authorization': \"Bearer \" + mltoken, 'X-Spark-Service-Instance': encoded_spark_credentials_header}\n\nresponse_monitor_job = requests.get(endpoint_deployments, headers=header_monitor_job)\n\nprint(response_monitor_job)\nprint(json.dumps(response_monitor_job.text, indent=2))"
        }, 
        {
            "metadata": {}, 
            "cell_type": "markdown", 
            "source": "**Preview scored data**"
        }, 
        {
            "metadata": {}, 
            "cell_type": "markdown", 
            "source": "In this subsection you will load scored data.\n\nGet data with scores from Object Storage Service in Bluemix."
        }, 
        {
            "metadata": {
                "collapsed": true
            }, 
            "cell_type": "code", 
            "outputs": [], 
            "execution_count": null, 
            "source": "conn = swiftclient.Connection(key = connection_password, authurl = connection_authurl + \"/v3\", auth_version = '3', os_options = {\"project_id\": connection_projectid, \"user_id\": connection_userid, \"region\": connection_region})"
        }, 
        {
            "metadata": {
                "collapsed": true
            }, 
            "cell_type": "code", 
            "outputs": [], 
            "execution_count": null, 
            "source": "from StringIO import StringIO"
        }, 
        {
            "metadata": {
                "collapsed": true
            }, 
            "cell_type": "code", 
            "outputs": [], 
            "execution_count": null, 
            "source": "results = conn.get_object(container_name, result_filename)\nresults_pdf = pandas.read_csv(StringIO(results[1]))"
        }, 
        {
            "metadata": {}, 
            "cell_type": "markdown", 
            "source": "Preview the results by calling the *show()* method on the predictions in Pandas data frame."
        }, 
        {
            "metadata": {}, 
            "cell_type": "code", 
            "outputs": [], 
            "execution_count": null, 
            "source": "results_pdf"
        }, 
        {
            "metadata": {}, 
            "cell_type": "markdown", 
            "source": "You can see the predictions for all the records in pandas data frame."
        }, 
        {
            "metadata": {
                "collapsed": true
            }, 
            "cell_type": "markdown", 
            "source": "<a id=\"summary\"></a>\n## 7. Summary and next steps     "
        }, 
        {
            "metadata": {
                "collapsed": true
            }, 
            "cell_type": "markdown", 
            "source": " You successfully completed this notebook! You learned how to use Apache Spark machine learning as well as Watson Machine Learning for model creation and deployment. Check out our _[Online Documentation](https://console.ng.bluemix.net/docs/services/PredictiveModeling/index.html?pos=2)_ for more samples, tutorials, documentation, how-tos, and blog posts. "
        }, 
        {
            "metadata": {}, 
            "cell_type": "markdown", 
            "source": "### Authors\n\n**Lukasz Cmielowski**, PhD, is a Automation Architect and Data Scientist in IBM with a track record of developing enterprise-level applications that substantially increases clients' ability to turn data into actionable knowledge."
        }, 
        {
            "metadata": {}, 
            "cell_type": "markdown", 
            "source": "Copyright \u00a9 2017 IBM. This notebook and its source code are released under the terms of the MIT License."
        }
    ], 
    "nbformat_minor": 1, 
    "nbformat": 4
}