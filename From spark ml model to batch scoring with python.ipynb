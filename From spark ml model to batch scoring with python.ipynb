{
    "metadata": {
        "kernelspec": {
            "language": "python", 
            "display_name": "Python 2 with Spark 2.0", 
            "name": "python2-spark20"
        }, 
        "language_info": {
            "version": "2.7.11", 
            "file_extension": ".py", 
            "mimetype": "text/x-python", 
            "name": "python", 
            "nbconvert_exporter": "python", 
            "pygments_lexer": "ipython2", 
            "codemirror_mode": {
                "version": 2, 
                "name": "ipython"
            }
        }
    }, 
    "cells": [
        {
            "metadata": {}, 
            "cell_type": "markdown", 
            "source": "<table style=\"border: none\" align=\"left\">\n   <tr style=\"border: none\">\n      <th style=\"border: none\"><font face=\"verdana\" size=\"5\" color=\"black\"><b>Predicting customer churn with IBM Watson Machine Learning</b></th>\n      <th style=\"border: none\"><img src=\"https://github.com/pmservice/customer-satisfaction-prediction/blob/master/app/static/images/ml_icon_gray.png?raw=true\" alt=\"Watson Machine Learning icon\" height=\"40\" width=\"40\"></th>\n  <tr style=\"border: none\">\n       <th style=\"border: none\"><img src=\"https://github.com/pmservice/wml-sample-models/blob/master/spark/customer-satisfaction-prediction/images/users_banner_2-03.png?raw=true\" width=\"600\" alt=\"Icon\"> </th>\n   </tr>\n</table>"
        }, 
        {
            "metadata": {}, 
            "cell_type": "markdown", 
            "source": "This notebook contains steps and code to develop a predictive model, and start scoring new data. This notebook introduces commands for getting data and for basic data cleaning and exploration, pipeline creation, model training, model persistance to Watson Machine Learning repository, model deployment, and scoring.\n\nSome familiarity with Python is helpful. This notebook uses Python 2.7 and Apache\u00ae Spark 2.0.\n\nYou will use a data set, **Telco Customer Churn**, which details anonymous customers data of telecommunication company. Use the details of this data set to predict customer churn which is very critical to business as it's easier to retain existing customers rather than acquiring new ones.\n\n## Learning goals\n\nThe learning goals of this notebook are:\n\n-  Load a CSV file into an Apache\u00ae Spark DataFrame.\n-  Explore data.\n-  Prepare data for training and evaluation.\n-  Create an Apache\u00ae Spark machine learning pipeline.\n-  Train and evaluate a model.\n-  Persist a pipeline and model in Watson Machine Learning repository.\n-  Explore and visualize prediction result using the plotly package.\n-  Deploy a model for batch scoring using Wastson Machine Learning API.\n\n\n## Contents\n\nThis notebook contains the following parts:\n\n1.\t[Setup](#setup)\n2.\t[Load and explore data](#load)\n3.\t[Create spark ml model](#model)\n4.\t[Persist model](#persistence)\n5.\t[Predict locally and visualize](#visualization)\n6.\t[Deploy and score in a Cloud](#scoring)\n7.\t[Summary and next steps](#summary)"
        }, 
        {
            "metadata": {}, 
            "cell_type": "markdown", 
            "source": "<a id=\"setup\"></a>\n## 1. Setup\n\nBefore you use the sample code in this notebook, you must perform the following setup tasks:\n\n-  Create a [Watson Machine Learning Service](https://console.ng.bluemix.net/catalog/services/ibm-watson-machine-learning/) instance required for model storing and deployment (a free plan is offered).\n- Create a [Cloud Object Storage Service](https://console.bluemix.net/catalog/infrastructure/cloud_object_storage/) instance required for storing scoring data (a free plan is offered).\n- Create a [Apache Spark Service](https://console.bluemix.net/catalog/services/apache-spark/) instance required for batch scoring (a free plan is offered).\n-  Make sure that you are using a Spark 2.0 kernel in notebook.\n\n### Create the Telco Customer Churn Data Asset  \n\nThe Telco Customer Churn data is available on project's Github page.\n\n1.  Download dataset from **Telco Customer Churn project** page [data folder](https://github.com/pmservice/wml-sample-models/tree/master/spark/customer-satisfaction-prediction/data) to local machine filesystem.\n2.  After downloading the dataset to your local machine, read it into Spark DataFrame."
        }, 
        {
            "execution_count": 1, 
            "cell_type": "code", 
            "source": "import wget\n\nlink_to_data = 'https://github.com/pmservice/wml-sample-models/raw/master/spark/customer-satisfaction-prediction/data/WA_Fn%20UseC_%20Telco%20Customer%20Churn.csv'\nfilename = wget.download(link_to_data)\n\nprint(filename)", 
            "metadata": {}, 
            "outputs": [
                {
                    "output_type": "stream", 
                    "name": "stdout", 
                    "text": "trainingTweets.csv\n"
                }
            ]
        }, 
        {
            "metadata": {}, 
            "cell_type": "markdown", 
            "source": "<a id=\"load\"></a>\n## 2. Load and explore data"
        }, 
        {
            "metadata": {}, 
            "cell_type": "markdown", 
            "source": "In this section you will load the data as an Apache\u00ae Spark DataFrame and perform a basic exploration. "
        }, 
        {
            "metadata": {}, 
            "cell_type": "markdown", 
            "source": "Once you see the file on **Files** section, you can insert it to your notebook by selecting **Insert SparkSession DataFrame**"
        }, 
        {
            "execution_count": 2, 
            "cell_type": "code", 
            "source": "spark = SparkSession.builder.getOrCreate()\n\ndf_data = spark.read\\\n  .format('org.apache.spark.sql.execution.datasources.csv.CSVFileFormat')\\\n  .option('header', 'true')\\\n  .option('inferSchema', 'true')\\\n  .option('nanValue', ' ')\\\n  .option('nullValue', ' ')\\\n  .load(filename)", 
            "metadata": {}, 
            "outputs": [
                {
                    "output_type": "execute_result", 
                    "data": {
                        "text/plain": "[Row(id=1, text=u'realdonaldtrump sse slashes offshore wind investmentwants british government to pay for its losses on these monstrosities   ', label=1),\n Row(id=2, text=u'cnnvideo hillaryclinton dammit why she missed', label=1),\n Row(id=3, text=u'realdonaldtrump thepodiumeffect without passion you dont have energy without energy you have nothing donald trump ', label=1),\n Row(id=4, text=u'sensanders the american higher education system is beginning to fall behind those in the rest of the world fairshot', label=1),\n Row(id=5, text=u'billburton realdonaldtrump as someone who demonstrated such bravery in combat i can see why youd have so many questions oh wait i mean stfu', label=0)]"
                    }, 
                    "execution_count": 2, 
                    "metadata": {}
                }
            ]
        }, 
        {
            "metadata": {}, 
            "cell_type": "markdown", 
            "source": "Explore the loaded data by using the following Apache\u00ae Spark DataFrame methods:\n-  print schema\n-  count all records\n-  show distribution of label classes"
        }, 
        {
            "execution_count": 3, 
            "cell_type": "code", 
            "source": "df_data.printSchema()\n\nprint(\"Number of fields: %3g\" % len(df_data.schema))", 
            "metadata": {}, 
            "outputs": [
                {
                    "output_type": "stream", 
                    "name": "stdout", 
                    "text": "root\n |-- id: integer (nullable = true)\n |-- text: string (nullable = true)\n |-- label: integer (nullable = true)\n\nNumber of fields:   3\n"
                }
            ]
        }, 
        {
            "metadata": {}, 
            "cell_type": "markdown", 
            "source": "As you can see, the data contains 21 fields. \"Churn\" field is the one we would like to predict (label)."
        }, 
        {
            "execution_count": 4, 
            "cell_type": "code", 
            "source": "print(\"Total number of records: \" + str(df_data.count()))", 
            "metadata": {}, 
            "outputs": [
                {
                    "output_type": "stream", 
                    "name": "stdout", 
                    "text": "Total number of records: 5987\n"
                }
            ]
        }, 
        {
            "metadata": {}, 
            "cell_type": "markdown", 
            "source": "Data set contains 7043 records."
        }, 
        {
            "metadata": {}, 
            "cell_type": "markdown", 
            "source": "Now you will check if all records have complete data."
        }, 
        {
            "execution_count": 18, 
            "cell_type": "code", 
            "source": "df_complete = df_data.dropna()\n\nprint(\"Number of records with complete data: %3g\" % df_complete.count())", 
            "metadata": {}, 
            "outputs": [
                {
                    "output_type": "stream", 
                    "name": "stdout", 
                    "text": "Number of records with complete data: 7032\n"
                }
            ]
        }, 
        {
            "metadata": {}, 
            "cell_type": "markdown", 
            "source": "You can see that there are some missing values you can investigate that all missing values are present in `TotalCharges` feature. We will use dataset with missing values removed for model training and evaluation."
        }, 
        {
            "metadata": {}, 
            "cell_type": "markdown", 
            "source": "Now you will inspect distribution of classes in label column."
        }, 
        {
            "execution_count": 19, 
            "cell_type": "code", 
            "source": "df_complete.groupBy('Churn').count().show()", 
            "metadata": {}, 
            "outputs": [
                {
                    "output_type": "stream", 
                    "name": "stdout", 
                    "text": "+-----+-----+\n|Churn|count|\n+-----+-----+\n|   No| 5163|\n|  Yes| 1869|\n+-----+-----+\n\n"
                }
            ]
        }, 
        {
            "metadata": {}, 
            "cell_type": "markdown", 
            "source": "<a id=\"model\"></a>\n## 3. Create an Apache\u00ae Spark machine learning model\n\nIn this section you will learn how to prepare data, create an Apache\u00ae Spark machine learning pipeline, and train a model."
        }, 
        {
            "metadata": {}, 
            "cell_type": "markdown", 
            "source": "### 3.1: Prepare data\n\nIn this subsection you will split your data into: train, test and predict datasets."
        }, 
        {
            "execution_count": 20, 
            "cell_type": "code", 
            "source": "(train_data, test_data, predict_data) = df_complete.randomSplit([0.8, 0.18, 0.02], 24)\n\nprint(\"Number of records for training: \" + str(train_data.count()))\nprint(\"Number of records for evaluation: \" + str(test_data.count()))\nprint(\"Number of records for prediction: \" + str(predict_data.count()))", 
            "metadata": {}, 
            "outputs": [
                {
                    "output_type": "stream", 
                    "name": "stdout", 
                    "text": "Number of records for training: 5621\nNumber of records for evaluation: 1263\nNumber of records for prediction: 148\n"
                }
            ]
        }, 
        {
            "metadata": {}, 
            "cell_type": "markdown", 
            "source": "As you can see our data has been successfully split into three datasets: \n\n-  The train data set, which is the largest group, is used for training.\n-  The test data set will be used for model evaluation and is used to test the assumptions of the model.\n-  The predict data set will be used for prediction."
        }, 
        {
            "metadata": {}, 
            "cell_type": "markdown", 
            "source": "### 3.2: Create pipeline and train a model"
        }, 
        {
            "metadata": {}, 
            "cell_type": "markdown", 
            "source": "In this section you will create an Apache\u00ae Spark machine learning pipeline and then train the model."
        }, 
        {
            "metadata": {}, 
            "cell_type": "markdown", 
            "source": "In the first step you need to import the Apache\u00ae Spark machine learning packages that will be needed in the subsequent steps."
        }, 
        {
            "execution_count": 21, 
            "cell_type": "code", 
            "source": "from pyspark.ml.feature import StringIndexer, IndexToString, RFormula\nfrom pyspark.ml.classification import LogisticRegression\nfrom pyspark.ml.evaluation import MulticlassClassificationEvaluator\nfrom pyspark.ml import Pipeline, Model", 
            "metadata": {
                "collapsed": true
            }, 
            "outputs": []
        }, 
        {
            "metadata": {}, 
            "cell_type": "markdown", 
            "source": "In the following step, convert all the predictors to features vector and label feature convert to numeric."
        }, 
        {
            "execution_count": 22, 
            "cell_type": "code", 
            "source": "lab = StringIndexer(inputCol = 'Churn', outputCol = 'label')\nfeatures = RFormula(formula = \"~ gender + SeniorCitizen +  Partner + Dependents + tenure + PhoneService + MultipleLines + InternetService + OnlineSecurity + OnlineBackup + DeviceProtection + TechSupport + StreamingTV + StreamingMovies + Contract + PaperlessBilling + PaymentMethod + MonthlyCharges + TotalCharges - 1\")", 
            "metadata": {
                "collapsed": true
            }, 
            "outputs": []
        }, 
        {
            "metadata": {}, 
            "cell_type": "markdown", 
            "source": "Next, define estimators you want to use for classification. Logistic Regression is used in the following example."
        }, 
        {
            "execution_count": 23, 
            "cell_type": "code", 
            "source": "lr = LogisticRegression(maxIter = 10)", 
            "metadata": {
                "collapsed": true
            }, 
            "outputs": []
        }, 
        {
            "metadata": {}, 
            "cell_type": "markdown", 
            "source": "Let's build the pipeline now. A pipeline consists of transformers and an estimator."
        }, 
        {
            "execution_count": 24, 
            "cell_type": "code", 
            "source": "pipeline_lr = Pipeline(stages = [features, lab , lr])", 
            "metadata": {
                "collapsed": true
            }, 
            "outputs": []
        }, 
        {
            "metadata": {}, 
            "cell_type": "markdown", 
            "source": "Now, you can train your Logistic Regression model by using the previously defined **pipeline** and **train data**."
        }, 
        {
            "execution_count": 25, 
            "cell_type": "code", 
            "source": "model_lr = pipeline_lr.fit(train_data)", 
            "metadata": {
                "collapsed": true
            }, 
            "outputs": []
        }, 
        {
            "metadata": {}, 
            "cell_type": "markdown", 
            "source": "You can check your **model accuracy** now. To evaluate the model, use **test data**."
        }, 
        {
            "execution_count": 26, 
            "cell_type": "code", 
            "source": "predictions = model_lr.transform(test_data)\nevaluator = MulticlassClassificationEvaluator(labelCol=\"label\", predictionCol=\"prediction\", metricName=\"accuracy\")\naccuracy = evaluator.evaluate(predictions)\n\nprint(\"Test dataset:\")\nprint(\"Accuracy = %3.2f\" % accuracy)", 
            "metadata": {}, 
            "outputs": [
                {
                    "output_type": "stream", 
                    "name": "stdout", 
                    "text": "Test dataset:\nAccuracy = 0.81\nError = 0.19\n"
                }
            ]
        }, 
        {
            "metadata": {
                "collapsed": true
            }, 
            "cell_type": "markdown", 
            "source": "You can tune your model now to achieve better accuracy. For simplicity of this example tuning section is omitted."
        }, 
        {
            "metadata": {
                "collapsed": true
            }, 
            "cell_type": "markdown", 
            "source": "<a id=\"persistence\"></a>\n## 4. Persist model"
        }, 
        {
            "metadata": {}, 
            "cell_type": "markdown", 
            "source": "In this section you will learn how to store your pipeline and model in Watson Machine Learning repository by using python client libraries."
        }, 
        {
            "metadata": {
                "collapsed": true
            }, 
            "cell_type": "markdown", 
            "source": "First, you must import Watson Machine Learning repository client libraries.\n\n**Note**: Apache\u00ae Spark 2.0 is required."
        }, 
        {
            "execution_count": 36, 
            "cell_type": "code", 
            "source": "from repository.mlrepositoryclient import MLRepositoryClient\nfrom repository.mlrepositoryartifact import MLRepositoryArtifact\nfrom repository.mlrepository import MetaProps", 
            "metadata": {
                "collapsed": true
            }, 
            "outputs": []
        }, 
        {
            "metadata": {
                "collapsed": true
            }, 
            "cell_type": "markdown", 
            "source": "Authenticate to Watson Machine Learning service on Bluemix."
        }, 
        {
            "metadata": {}, 
            "cell_type": "markdown", 
            "source": "**Action**: Put credentials from your instance of Watson Machine Learning service in Bluemix here.</div>"
        }, 
        {
            "execution_count": 28, 
            "cell_type": "code", 
            "source": "wml_credentials={\n  \"url\": \"https://ibm-watson-ml.mybluemix.net\",\n  \"access_key\": \"***\",\n  \"username\": \"***\",\n  \"password\": \"***\",\n  \"instance_id\": \"***\"\n}", 
            "metadata": {
                "collapsed": true
            }, 
            "outputs": []
        }, 
        {
            "execution_count": 29, 
            "cell_type": "code", 
            "source": "ml_repository_client = MLRepositoryClient(wml_credentials['url'])\nml_repository_client.authorize(wml_credentials['username'], wml_credentials['password'])", 
            "metadata": {
                "collapsed": true
            }, 
            "outputs": []
        }, 
        {
            "metadata": {}, 
            "cell_type": "markdown", 
            "source": "Create model artifact (abstraction layer)."
        }, 
        {
            "execution_count": 30, 
            "cell_type": "code", 
            "source": "model_artifact = MLRepositoryArtifact(ml_artifact=model_lr, training_data=train_data, name=\"Customer Churn Model\" )", 
            "metadata": {
                "collapsed": true
            }, 
            "outputs": []
        }, 
        {
            "metadata": {}, 
            "cell_type": "markdown", 
            "source": "**Tip**: The MLRepositoryArtifact method expects a trained model object, training data, and a model name. (It is this model name that is displayed by the Watson Machine Learning service)."
        }, 
        {
            "metadata": {}, 
            "cell_type": "markdown", 
            "source": "### 4.1: Save pipeline and model"
        }, 
        {
            "metadata": {}, 
            "cell_type": "markdown", 
            "source": "In this subsection you will learn how to save pipeline and model artifacts to your Watson Machine Learning instance."
        }, 
        {
            "execution_count": 31, 
            "cell_type": "code", 
            "source": "saved_model = ml_repository_client.models.save(model_artifact)", 
            "metadata": {
                "collapsed": true
            }, 
            "outputs": []
        }, 
        {
            "metadata": {}, 
            "cell_type": "markdown", 
            "source": "Get saved model metadata from Watson Machine Learning."
        }, 
        {
            "metadata": {}, 
            "cell_type": "markdown", 
            "source": "**Tip**: Use *meta.available_props()* to get the list of available props."
        }, 
        {
            "execution_count": 32, 
            "cell_type": "code", 
            "source": "print(json.dumps(saved_model.meta.available_props(), indent=2))", 
            "metadata": {}, 
            "outputs": [
                {
                    "output_type": "stream", 
                    "name": "stdout", 
                    "text": "inputDataSchema\nevaluationMetrics\npipelineVersionHref\nmodelVersionHref\ntrainingDataRef\npipelineType\ncreationTime\nlastUpdated\nlabel\nauthorEmail\ntrainingDataSchema\nauthorName\nversion\nmodelType\nruntime\nevaluationMethod\n"
                }
            ]
        }, 
        {
            "execution_count": 33, 
            "cell_type": "code", 
            "source": "print(\"creationTime: \" + str(saved_model.meta.prop(\"creationTime\")))\nprint(\"modelType: \" + saved_model.meta.prop(\"modelType\"))\nprint(\"pipelineType: \" + saved_model.meta.prop(\"pipelineType\"))\nprint(\"runtime: \" + str(saved_model.meta.prop(\"runtime\")))\nprint(\"label: \" + saved_model.meta.prop(\"label\"))\nprint(\"modelVersionHref: \" + saved_model.meta.prop(\"modelVersionHref\"))", 
            "metadata": {}, 
            "outputs": [
                {
                    "output_type": "stream", 
                    "name": "stdout", 
                    "text": "creationTime: 2017-09-11 21:23:06.471000+00:00\nmodelType: sparkml-model-2.0\npipelineType: sparkml-pipeline-2.0\nruntime: spark-2.0\nlabel: Churn\nmodelVersionHref: https://ibm-watson-ml.mybluemix.net/v2/artifacts/models/6428ee3a-2fb5-4a62-b6ce-205284a28804/versions/f5a13ec2-65c7-4704-adc1-e74c82bbebf5\n"
                }
            ]
        }, 
        {
            "metadata": {}, 
            "cell_type": "markdown", 
            "source": "**Tip**: **modelVersionHref** is our model unique indentifier in the Watson Machine Learning repository."
        }, 
        {
            "execution_count": 34, 
            "cell_type": "code", 
            "source": "published_model_ID = saved_model.uid\n\nprint(\"Model Id: \" + str(published_model_ID))", 
            "metadata": {}, 
            "outputs": [
                {
                    "output_type": "stream", 
                    "name": "stdout", 
                    "text": "Model Id: 6428ee3a-2fb5-4a62-b6ce-205284a28804\n"
                }
            ]
        }, 
        {
            "metadata": {}, 
            "cell_type": "markdown", 
            "source": "**Model Id** can be used to retrive latest model version from Watson Machine Learning instance."
        }, 
        {
            "metadata": {}, 
            "cell_type": "markdown", 
            "source": "### 4.2: Load model"
        }, 
        {
            "metadata": {}, 
            "cell_type": "markdown", 
            "source": "In this subsection you will learn how to load back saved model from specified instance of Watson Machine Learning."
        }, 
        {
            "execution_count": null, 
            "cell_type": "code", 
            "source": "loadedModelArtifact = ml_repository_client.models.get(saved_model.uid)", 
            "metadata": {
                "collapsed": true
            }, 
            "outputs": []
        }, 
        {
            "metadata": {}, 
            "cell_type": "markdown", 
            "source": "You can print for example model name to make sure that model has been loaded correctly."
        }, 
        {
            "execution_count": null, 
            "cell_type": "code", 
            "source": "print(str(loadedModelArtifact.name))", 
            "metadata": {
                "collapsed": true
            }, 
            "outputs": []
        }, 
        {
            "metadata": {}, 
            "cell_type": "markdown", 
            "source": "As you can see the name is correct. You have already learned how save and load the model from Watson Machine Learning repository."
        }, 
        {
            "metadata": {}, 
            "cell_type": "markdown", 
            "source": "<a id=\"visualization\"></a>\n## 5. Predict locally and visualize"
        }, 
        {
            "metadata": {}, 
            "cell_type": "markdown", 
            "source": "In this section you will learn how to load data from batch scoring and visualize the prediction results with plotly package."
        }, 
        {
            "metadata": {}, 
            "cell_type": "markdown", 
            "source": "### 5.1: Make local prediction using previously loaded model and test data"
        }, 
        {
            "metadata": {
                "collapsed": true
            }, 
            "cell_type": "markdown", 
            "source": "In this subsection you will score *predict_data* data set."
        }, 
        {
            "execution_count": 40, 
            "cell_type": "code", 
            "source": "predictions = loadedModelArtifact.model_instance().transform(predict_data)", 
            "metadata": {
                "collapsed": true
            }, 
            "outputs": []
        }, 
        {
            "metadata": {}, 
            "cell_type": "markdown", 
            "source": "Preview the results by calling the *show()* method on the predictions DataFrame."
        }, 
        {
            "execution_count": 41, 
            "cell_type": "code", 
            "source": "predictions.show(5)", 
            "metadata": {}, 
            "outputs": [
                {
                    "output_type": "stream", 
                    "name": "stdout", 
                    "text": "+----------+------+-------------+-------+----------+------+------------+-------------+---------------+--------------+------------+----------------+-----------+-----------+---------------+--------------+----------------+--------------------+--------------+------------+-----+--------------------+-----+--------------------+--------------------+----------+\n|customerID|gender|SeniorCitizen|Partner|Dependents|tenure|PhoneService|MultipleLines|InternetService|OnlineSecurity|OnlineBackup|DeviceProtection|TechSupport|StreamingTV|StreamingMovies|      Contract|PaperlessBilling|       PaymentMethod|MonthlyCharges|TotalCharges|Churn|            features|label|       rawPrediction|         probability|prediction|\n+----------+------+-------------+-------+----------+------+------------+-------------+---------------+--------------+------------+----------------+-----------+-----------+---------------+--------------+----------------+--------------------+--------------+------------+-----+--------------------+-----+--------------------+--------------------+----------+\n|0378-XSZPU|  Male|            0|    Yes|        No|    58|         Yes|           No|            DSL|           Yes|         Yes|             Yes|         No|         No|             No|      One year|              No|Credit card (auto...|          60.3|      3563.8|  Yes|(30,[0,3,4,5,6,9,...|  1.0|[3.74236489664807...|[0.97685060080642...|       0.0|\n|0380-NEAVX|  Male|            1|     No|        No|    34|         Yes|           No|    Fiber optic|            No|         Yes|             Yes|         No|        Yes|            Yes|      One year|             Yes|    Electronic check|         99.85|     3343.15|   No|(30,[0,1,2,3,4,5,...|  0.0|[0.41319069172896...|[0.60185269953567...|       0.0|\n|0434-CSFON|Female|            0|    Yes|        No|    47|         Yes|          Yes|    Fiber optic|            No|          No|             Yes|         No|        Yes|            Yes|Month-to-month|             Yes|    Electronic check|         100.5|      4707.1|   No|(30,[3,4,5,7,8,10...|  0.0|[-0.0516148385850...|[0.48709915431274...|       1.0|\n|0461-CVKMU|Female|            0|    Yes|       Yes|    23|         Yes|           No|    Fiber optic|            No|         Yes|             Yes|        Yes|         No|             No|Month-to-month|              No|    Electronic check|          83.8|     1900.25|  Yes|(30,[4,5,6,8,10,1...|  1.0|[0.76974420811323...|[0.68346555821718...|       0.0|\n|0531-XBKMM|  Male|            0|     No|       Yes|    66|         Yes|          Yes|            DSL|           Yes|         Yes|              No|        Yes|         No|             No|      Two year|              No|Bank transfer (au...|          65.7|      4378.9|   No|(30,[0,2,4,5,7,9,...|  0.0|[5.07103459048970...|[0.99376321779986...|       0.0|\n+----------+------+-------------+-------+----------+------+------------+-------------+---------------+--------------+------------+----------------+-----------+-----------+---------------+--------------+----------------+--------------------+--------------+------------+-----+--------------------+-----+--------------------+--------------------+----------+\nonly showing top 5 rows\n\n"
                }
            ]
        }, 
        {
            "metadata": {}, 
            "cell_type": "markdown", 
            "source": "By tabulating a count, you can see the split between labels."
        }, 
        {
            "execution_count": 43, 
            "cell_type": "code", 
            "source": "predictions.select(\"prediction\").groupBy(\"prediction\").count().show(truncate=False)", 
            "metadata": {}, 
            "outputs": [
                {
                    "output_type": "stream", 
                    "name": "stdout", 
                    "text": "+----------+-----+\n|prediction|count|\n+----------+-----+\n|0.0       |114  |\n|1.0       |34   |\n+----------+-----+\n\n"
                }
            ]
        }, 
        {
            "metadata": {}, 
            "cell_type": "markdown", 
            "source": "### 5.2: Sample visualization of data with Plotly package"
        }, 
        {
            "metadata": {}, 
            "cell_type": "markdown", 
            "source": "In this subsection you will explore prediction results with Plotly, which is an online analytics and data visualization tool."
        }, 
        {
            "metadata": {}, 
            "cell_type": "markdown", 
            "source": "**Example**: First, you need to install required packages. You can do it by running the following code. Run it only one time.\n\n    !pip install plotly --user \n    !pip install cufflinks --user"
        }, 
        {
            "execution_count": 47, 
            "cell_type": "code", 
            "source": "import sys\nimport pandas\nimport plotly.plotly as py\nfrom plotly.offline import download_plotlyjs, init_notebook_mode, plot, iplot\nimport cufflinks as cf\nimport plotly.graph_objs as go\n\ninit_notebook_mode(connected=True)\nsys.path.append(\"\".join([os.environ[\"HOME\"]])) ", 
            "metadata": {}, 
            "outputs": [
                {
                    "output_type": "display_data", 
                    "data": {
                        "text/html": "<script>requirejs.config({paths: { 'plotly': ['https://cdn.plot.ly/plotly-latest.min']},});if(!window.Plotly) {{require(['plotly'],function(plotly) {window.Plotly=plotly;});}}</script>", 
                        "text/vnd.plotly.v1+html": "<script>requirejs.config({paths: { 'plotly': ['https://cdn.plot.ly/plotly-latest.min']},});if(!window.Plotly) {{require(['plotly'],function(plotly) {window.Plotly=plotly;});}}</script>"
                    }, 
                    "metadata": {}
                }
            ]
        }, 
        {
            "metadata": {}, 
            "cell_type": "markdown", 
            "source": "Plot a pie chart that shows the predicted churn split. !!! By most important features: Contract, MonthlyCharges !!! predicted vs observed churns."
        }, 
        {
            "execution_count": null, 
            "cell_type": "code", 
            "source": "labels_data_plot = [cumulative_stats.select('label').collect()[x][0] for x in range(2)]\nvalues_data_plot = [cumulative_stats.select('count').collect()[x][0] for x in range(2)]\ncumulative_stats = predictions.groupby(['label']).count()", 
            "metadata": {
                "collapsed": true
            }, 
            "outputs": []
        }, 
        {
            "execution_count": 67, 
            "cell_type": "code", 
            "source": "product_data = [go.Pie(\n            labels=labels_data_plot,\n            values=values_data_plot,\n    )]\n\nproduct_layout = go.Layout(\n    title='Label split',\n)\n\nfig = go.Figure(data=product_data, layout=product_layout)\niplot(fig)", 
            "metadata": {}, 
            "outputs": [
                {
                    "output_type": "display_data", 
                    "data": {
                        "application/vnd.plotly.v1+json": {
                            "layout": {
                                "title": "Label split"
                            }, 
                            "data": [
                                {
                                    "labels": [
                                        0, 
                                        1
                                    ], 
                                    "type": "pie", 
                                    "values": [
                                        111, 
                                        37
                                    ]
                                }
                            ]
                        }, 
                        "text/html": "<div id=\"2e97ac8c-c9db-4a58-841c-fadc93c5c5c0\" style=\"height: 525px; width: 100%;\" class=\"plotly-graph-div\"></div><script type=\"text/javascript\">require([\"plotly\"], function(Plotly) { window.PLOTLYENV=window.PLOTLYENV || {};window.PLOTLYENV.BASE_URL=\"https://plot.ly\";Plotly.newPlot(\"2e97ac8c-c9db-4a58-841c-fadc93c5c5c0\", [{\"type\": \"pie\", \"labels\": [0.0, 1.0], \"values\": [111, 37]}], {\"title\": \"Label split\"}, {\"linkText\": \"Export to plot.ly\", \"showLink\": true})});</script>", 
                        "text/vnd.plotly.v1+html": "<div id=\"2e97ac8c-c9db-4a58-841c-fadc93c5c5c0\" style=\"height: 525px; width: 100%;\" class=\"plotly-graph-div\"></div><script type=\"text/javascript\">require([\"plotly\"], function(Plotly) { window.PLOTLYENV=window.PLOTLYENV || {};window.PLOTLYENV.BASE_URL=\"https://plot.ly\";Plotly.newPlot(\"2e97ac8c-c9db-4a58-841c-fadc93c5c5c0\", [{\"type\": \"pie\", \"labels\": [0.0, 1.0], \"values\": [111, 37]}], {\"title\": \"Label split\"}, {\"linkText\": \"Export to plot.ly\", \"showLink\": true})});</script>"
                    }, 
                    "metadata": {}
                }
            ]
        }, 
        {
            "metadata": {}, 
            "cell_type": "markdown", 
            "source": "With this data set, you might want to do some analysis of Mean Monthly Charges per churn class"
        }, 
        {
            "execution_count": 84, 
            "cell_type": "code", 
            "source": "y_data_plot = [predictions.groupby(['label']).mean().collect()[x][3] for x in range(2)]\nx_data_plot = [cumulative_stats.select('label').collect()[x][0] for x in range(2)]", 
            "metadata": {}, 
            "outputs": [
                {
                    "execution_count": 84, 
                    "data": {
                        "text/plain": "63.44144144144145"
                    }, 
                    "output_type": "execute_result", 
                    "metadata": {}
                }
            ]
        }, 
        {
            "execution_count": 85, 
            "cell_type": "code", 
            "source": "age_data = [go.Bar(\n            y= x_data_plot,\n            x= y_data_plot\n            \n    )]\n\nage_layout = go.Layout(\n    title='Mean Monthly Charges per churn class',\n    xaxis=dict(\n        title = \"Churn\",\n        showline=False,),\n    yaxis=dict(\n        title = \"Mean Monthly Charges\",\n        ),\n)\n\nfig = go.Figure(data=age_data, layout=age_layout)\niplot(fig)", 
            "metadata": {}, 
            "outputs": [
                {
                    "output_type": "display_data", 
                    "data": {
                        "application/vnd.plotly.v1+json": {
                            "layout": {
                                "xaxis": {
                                    "showline": false, 
                                    "title": "Churn"
                                }, 
                                "yaxis": {
                                    "title": "Mean Monthly Charges"
                                }, 
                                "title": "Mean Monthly Charges per churn class"
                            }, 
                            "data": [
                                {
                                    "type": "bar", 
                                    "y": [
                                        63.44144144144145, 
                                        81.10540540540539
                                    ], 
                                    "x": [
                                        0, 
                                        1
                                    ]
                                }
                            ]
                        }, 
                        "text/html": "<div id=\"73170c2b-1ff1-4649-a5ce-8250034e0f06\" style=\"height: 525px; width: 100%;\" class=\"plotly-graph-div\"></div><script type=\"text/javascript\">require([\"plotly\"], function(Plotly) { window.PLOTLYENV=window.PLOTLYENV || {};window.PLOTLYENV.BASE_URL=\"https://plot.ly\";Plotly.newPlot(\"73170c2b-1ff1-4649-a5ce-8250034e0f06\", [{\"y\": [63.44144144144145, 81.10540540540539], \"x\": [0.0, 1.0], \"type\": \"bar\"}], {\"title\": \"Mean Monthly Charges per churn class\", \"xaxis\": {\"showline\": false, \"title\": \"Churn\"}, \"yaxis\": {\"title\": \"Mean Monthly Charges\"}}, {\"linkText\": \"Export to plot.ly\", \"showLink\": true})});</script>", 
                        "text/vnd.plotly.v1+html": "<div id=\"73170c2b-1ff1-4649-a5ce-8250034e0f06\" style=\"height: 525px; width: 100%;\" class=\"plotly-graph-div\"></div><script type=\"text/javascript\">require([\"plotly\"], function(Plotly) { window.PLOTLYENV=window.PLOTLYENV || {};window.PLOTLYENV.BASE_URL=\"https://plot.ly\";Plotly.newPlot(\"73170c2b-1ff1-4649-a5ce-8250034e0f06\", [{\"y\": [63.44144144144145, 81.10540540540539], \"x\": [0.0, 1.0], \"type\": \"bar\"}], {\"title\": \"Mean Monthly Charges per churn class\", \"xaxis\": {\"showline\": false, \"title\": \"Churn\"}, \"yaxis\": {\"title\": \"Mean Monthly Charges\"}}, {\"linkText\": \"Export to plot.ly\", \"showLink\": true})});</script>"
                    }, 
                    "metadata": {}
                }
            ]
        }, 
        {
            "metadata": {}, 
            "cell_type": "markdown", 
            "source": "Based on bar plot you created, you might make the following conclusion: The mean monthly charges for churn customers is higher than non-churn customers as you may expect."
        }, 
        {
            "metadata": {}, 
            "cell_type": "markdown", 
            "source": "<a id=\"scoring\"></a>\n## 6. Deploy model and score in a Cloud"
        }, 
        {
            "metadata": {}, 
            "cell_type": "markdown", 
            "source": "In this section you will learn how to create batch deployment and to score a new data record by using the Watson Machine Learning REST API. \nFor more information about REST APIs, see the [Swagger Documentation](http://watson-ml-api.mybluemix.net/)."
        }, 
        {
            "metadata": {}, 
            "cell_type": "markdown", 
            "source": "#### 6.1 Save data for prediction to Object Storage"
        }, 
        {
            "metadata": {}, 
            "cell_type": "markdown", 
            "source": "Bla bla bla ..."
        }, 
        {
            "metadata": {}, 
            "cell_type": "markdown", 
            "source": "**Example**: First, you need to install required packages. You can do it by running the following code. Run it only one time.\n\n    !pip install python-swiftclient --user"
        }, 
        {
            "metadata": {}, 
            "cell_type": "markdown", 
            "source": "First, you must import Object Storage client libraries."
        }, 
        {
            "execution_count": 87, 
            "cell_type": "code", 
            "source": "import swiftclient.client as swiftclient\nimport urllib", 
            "metadata": {
                "collapsed": true
            }, 
            "outputs": []
        }, 
        {
            "metadata": {}, 
            "cell_type": "markdown", 
            "source": "<div>**Action**: Put credentials from Object Storage Service in Bluemix here.</div>"
        }, 
        {
            "execution_count": null, 
            "cell_type": "code", 
            "source": "objectstorage_credentials = {\n  \"auth_url\": \"https://identity.open.softlayer.com\",\n  \"project\": \"***\",\n  \"projectId\": \"***\",\n  \"region\": \"***\",\n  \"userId\": \"***\",\n  \"username\": \"***\",\n  \"password\": \"***\",\n  \"domainId\": \"***\",\n  \"domainName\": \"***\",\n  \"role\": \"***\"\n}", 
            "metadata": {
                "collapsed": true
            }, 
            "outputs": []
        }, 
        {
            "execution_count": 88, 
            "cell_type": "code", 
            "source": "connection_userid = objectstorage_credentials.get(\"userId\")\nconnection_projectid = objectstorage_credentials.get(\"projectId\")\nconnection_password = objectstorage_credentials.get(\"password\")\nconnection_region = objectstorage_credentials.get(\"region\")\nconnection_authurl = objectstorage_credentials.get(\"auth_url\")", 
            "metadata": {
                "collapsed": true
            }, 
            "outputs": []
        }, 
        {
            "metadata": {}, 
            "cell_type": "markdown", 
            "source": "Now you will create container in Object Storage and copy [dataset](https://raw.githubusercontent.com/pmservice/wml-sample-models/master/spark/customer-satisfaction-prediction/data/scoreInput.csv) for batch scoring from **Telco Customer Churn project**."
        }, 
        {
            "execution_count": 90, 
            "cell_type": "code", 
            "source": "score_filename = \"scoreInput.csv\"\ncontainer_name = \"batchjob\"", 
            "metadata": {
                "collapsed": true
            }, 
            "outputs": []
        }, 
        {
            "execution_count": 91, 
            "cell_type": "code", 
            "source": "conn = swiftclient.Connection(key = connection_password, authurl = connection_authurl + \"/v3\", auth_version = '3', os_options = {\"project_id\": connection_projectid, \"user_id\": connection_userid, \"region\": connection_region})\nobject_storage_info = conn.get_account()\nif(container_name not in [x.get('name') for x in object_storage_info[1]]):\n    conn.put_container(container = container_name)\ncontainer_info = conn.get_container(container_name)\nif(score_filename not in [x.get('name') for x in container_info[1]]):\n    scoring_data_connection = urllib.urlopen('https://raw.githubusercontent.com/pmservice/wml-sample-models/master/spark/customer-satisfaction-prediction/data/scoreInput.csv')\n    conn.put_object(container = container_name, obj = score_filename, contents = scoring_data_connection, content_type = 'text/plain')\n    scoring_data_connection.close()\n    print \"File '%s' successfully uploaded to container '%s'\" % (score_filename, container_name)\nelse:\n    print \"File '%s' already exists in container '%s'\" % (score_filename, container_name)\nconn.close()", 
            "metadata": {}, 
            "outputs": [
                {
                    "output_type": "stream", 
                    "name": "stdout", 
                    "text": "File 'scoreInput.csv' successfully uploaded to container 'batchjob'\n"
                }
            ]
        }, 
        {
            "metadata": {}, 
            "cell_type": "markdown", 
            "source": "### 6.2: Create model deployment"
        }, 
        {
            "metadata": {}, 
            "cell_type": "markdown", 
            "source": "Now you can create a batch scoring endpoint. Execute the following sample code that uses the **published Model Id** value to create the scoring endpoint to the Bluemix repository."
        }, 
        {
            "metadata": {}, 
            "cell_type": "markdown", 
            "source": "#### Create access token to Watson Machine Learning Service\n\nTo work with the Watson Machine Leraning REST API you must generate an access token. To do that you can use the following sample code:"
        }, 
        {
            "metadata": {}, 
            "cell_type": "markdown", 
            "source": "First, you must import standard python libraries."
        }, 
        {
            "execution_count": 92, 
            "cell_type": "code", 
            "source": "import urllib3, requests, json\n\nheaders = urllib3.util.make_headers(basic_auth='{username}:{password}'.format(username=wml_credentials['username'], password=wml_credentials['password']))\nurl = '{url}/v3/identity/token'.format(url=wml_credentials['url'])\nresponse = requests.get(url, headers=headers)\nmltoken = json.loads(response.text).get('token')", 
            "metadata": {
                "collapsed": true
            }, 
            "outputs": []
        }, 
        {
            "metadata": {}, 
            "cell_type": "markdown", 
            "source": "### 6.1: Create batch deployment"
        }, 
        {
            "metadata": {}, 
            "cell_type": "markdown", 
            "source": "#### Get published_models url from instance details"
        }, 
        {
            "execution_count": 93, 
            "cell_type": "code", 
            "source": "endpoint_instance = wml_credentials['url'] + \"/v3/wml_instances/\" + wml_credentials['instance_id']\nheader = {'Content-Type': 'application/json', 'Authorization': 'Bearer ' + mltoken}\n\nresponse_get_instance = requests.get(endpoint_instance, headers=header)\n\nprint(response_get_instance)\nprint(json.dumps(response_get_instance.text, indent=2))", 
            "metadata": {}, 
            "outputs": [
                {
                    "output_type": "stream", 
                    "name": "stdout", 
                    "text": "<Response [200]>\n{\"metadata\":{\"guid\":\"360c510b-012c-4793-ae3f-063410081c3e\",\"url\":\"https://ibm-watson-ml.mybluemix.net/v3/wml_instances/360c510b-012c-4793-ae3f-063410081c3e\",\"created_at\":\"2017-08-04T09:15:48.344Z\",\"modified_at\":\"2017-09-11T21:23:06.628Z\"},\"entity\":{\"source\":\"Bluemix\",\"published_models\":{\"url\":\"https://ibm-watson-ml.mybluemix.net/v3/wml_instances/360c510b-012c-4793-ae3f-063410081c3e/published_models\"},\"usage\":{\"expiration_date\":\"2017-10-01T00:00:00.000Z\",\"computation_time\":{\"current\":18},\"model_count\":{\"limit\":1000,\"current\":1},\"prediction_count\":{\"current\":29},\"deployment_count\":{\"limit\":1000,\"current\":7}},\"plan_id\":\"0f2a3c2c-456b-40f3-9b19-726d2740b11c\",\"status\":\"Active\",\"organization_guid\":\"b0e61605-a82e-4f03-9e9f-2767973c084d\",\"region\":\"us-south\",\"account\":{\"id\":\"f52968f3dbbe7b0b53e15743d45e5e90\",\"name\":\"Umit Cakmak's Account\",\"type\":\"TRIAL\"},\"owner\":{\"ibm_id\":\"31000292EV\",\"email\":\"umit.cakmak@pl.ibm.com\",\"user_id\":\"43e0ee0e-6bfb-48fc-bcd8-d61e40d19253\",\"country_code\":\"POL\",\"beta_user\":true},\"deployments\":{\"url\":\"https://ibm-watson-ml.mybluemix.net/v3/wml_instances/360c510b-012c-4793-ae3f-063410081c3e/deployments\"},\"space_guid\":\"4c55eb1c-d6fe-4f0a-9390-35c9a7ecf27a\",\"plan\":\"standard\"}}\n"
                }
            ]
        }, 
        {
            "execution_count": 94, 
            "cell_type": "code", 
            "source": "endpoint_published_models = json.loads(response_get_instance.text).get('entity').get('published_models').get('url')\n\nprint(endpoint_published_models)", 
            "metadata": {}, 
            "outputs": [
                {
                    "output_type": "stream", 
                    "name": "stdout", 
                    "text": "https://ibm-watson-ml.mybluemix.net/v3/wml_instances/360c510b-012c-4793-ae3f-063410081c3e/published_models\n"
                }
            ]
        }, 
        {
            "metadata": {}, 
            "cell_type": "markdown", 
            "source": "Execute the following sample code that uses the published_models endpoint to get deployments url."
        }, 
        {
            "metadata": {}, 
            "cell_type": "markdown", 
            "source": "#### Get the list of published models"
        }, 
        {
            "execution_count": 95, 
            "cell_type": "code", 
            "source": "header = {'Content-Type': 'application/json', 'Authorization': 'Bearer ' + mltoken}\nresponse_get = requests.get(endpoint_published_models, headers=header)\n\nprint(response_get)\nprint(json.dumps(response_get.text, indent=2))", 
            "metadata": {}, 
            "outputs": [
                {
                    "output_type": "stream", 
                    "name": "stdout", 
                    "text": "<Response [200]>\n{\"count\":1,\"resources\":[{\"metadata\":{\"guid\":\"6428ee3a-2fb5-4a62-b6ce-205284a28804\",\"url\":\"https://ibm-watson-ml.mybluemix.net/v3/wml_instances/360c510b-012c-4793-ae3f-063410081c3e/published_models/6428ee3a-2fb5-4a62-b6ce-205284a28804\",\"created_at\":\"2017-09-11T21:23:06.471Z\",\"modified_at\":\"2017-09-11T21:23:06.988Z\"},\"entity\":{\"runtime_environment\":\"spark-2.0\",\"author\":{},\"name\":\"Customer Churn Model\",\"label_col\":\"Churn\",\"training_data_schema\":{\"fields\":[{\"metadata\":{},\"type\":\"string\",\"name\":\"customerID\",\"nullable\":true},{\"metadata\":{},\"type\":\"string\",\"name\":\"gender\",\"nullable\":true},{\"metadata\":{},\"type\":\"integer\",\"name\":\"SeniorCitizen\",\"nullable\":true},{\"metadata\":{},\"type\":\"string\",\"name\":\"Partner\",\"nullable\":true},{\"metadata\":{},\"type\":\"string\",\"name\":\"Dependents\",\"nullable\":true},{\"metadata\":{},\"type\":\"integer\",\"name\":\"tenure\",\"nullable\":true},{\"metadata\":{},\"type\":\"string\",\"name\":\"PhoneService\",\"nullable\":true},{\"metadata\":{},\"type\":\"string\",\"name\":\"MultipleLines\",\"nullable\":true},{\"metadata\":{},\"type\":\"string\",\"name\":\"InternetService\",\"nullable\":true},{\"metadata\":{},\"type\":\"string\",\"name\":\"OnlineSecurity\",\"nullable\":true},{\"metadata\":{},\"type\":\"string\",\"name\":\"OnlineBackup\",\"nullable\":true},{\"metadata\":{},\"type\":\"string\",\"name\":\"DeviceProtection\",\"nullable\":true},{\"metadata\":{},\"type\":\"string\",\"name\":\"TechSupport\",\"nullable\":true},{\"metadata\":{},\"type\":\"string\",\"name\":\"StreamingTV\",\"nullable\":true},{\"metadata\":{},\"type\":\"string\",\"name\":\"StreamingMovies\",\"nullable\":true},{\"metadata\":{},\"type\":\"string\",\"name\":\"Contract\",\"nullable\":true},{\"metadata\":{},\"type\":\"string\",\"name\":\"PaperlessBilling\",\"nullable\":true},{\"metadata\":{},\"type\":\"string\",\"name\":\"PaymentMethod\",\"nullable\":true},{\"metadata\":{},\"type\":\"double\",\"name\":\"MonthlyCharges\",\"nullable\":true},{\"metadata\":{},\"type\":\"double\",\"name\":\"TotalCharges\",\"nullable\":true},{\"metadata\":{},\"type\":\"string\",\"name\":\"Churn\",\"nullable\":true}],\"type\":\"struct\"},\"latest_version\":{\"url\":\"https://ibm-watson-ml.mybluemix.net/v2/artifacts/models/6428ee3a-2fb5-4a62-b6ce-205284a28804/versions/f5a13ec2-65c7-4704-adc1-e74c82bbebf5\",\"guid\":\"f5a13ec2-65c7-4704-adc1-e74c82bbebf5\",\"created_at\":\"2017-09-11T21:23:06.988Z\"},\"model_type\":\"sparkml-model-2.0\",\"deployments\":{\"count\":0,\"url\":\"https://ibm-watson-ml.mybluemix.net/v3/wml_instances/360c510b-012c-4793-ae3f-063410081c3e/published_models/6428ee3a-2fb5-4a62-b6ce-205284a28804/deployments\"},\"input_data_schema\":{\"fields\":[{\"metadata\":{},\"type\":\"string\",\"name\":\"customerID\",\"nullable\":true},{\"metadata\":{},\"type\":\"string\",\"name\":\"gender\",\"nullable\":true},{\"metadata\":{},\"type\":\"integer\",\"name\":\"SeniorCitizen\",\"nullable\":true},{\"metadata\":{},\"type\":\"string\",\"name\":\"Partner\",\"nullable\":true},{\"metadata\":{},\"type\":\"string\",\"name\":\"Dependents\",\"nullable\":true},{\"metadata\":{},\"type\":\"integer\",\"name\":\"tenure\",\"nullable\":true},{\"metadata\":{},\"type\":\"string\",\"name\":\"PhoneService\",\"nullable\":true},{\"metadata\":{},\"type\":\"string\",\"name\":\"MultipleLines\",\"nullable\":true},{\"metadata\":{},\"type\":\"string\",\"name\":\"InternetService\",\"nullable\":true},{\"metadata\":{},\"type\":\"string\",\"name\":\"OnlineSecurity\",\"nullable\":true},{\"metadata\":{},\"type\":\"string\",\"name\":\"OnlineBackup\",\"nullable\":true},{\"metadata\":{},\"type\":\"string\",\"name\":\"DeviceProtection\",\"nullable\":true},{\"metadata\":{},\"type\":\"string\",\"name\":\"TechSupport\",\"nullable\":true},{\"metadata\":{},\"type\":\"string\",\"name\":\"StreamingTV\",\"nullable\":true},{\"metadata\":{},\"type\":\"string\",\"name\":\"StreamingMovies\",\"nullable\":true},{\"metadata\":{},\"type\":\"string\",\"name\":\"Contract\",\"nullable\":true},{\"metadata\":{},\"type\":\"string\",\"name\":\"PaperlessBilling\",\"nullable\":true},{\"metadata\":{},\"type\":\"string\",\"name\":\"PaymentMethod\",\"nullable\":true},{\"metadata\":{},\"type\":\"double\",\"name\":\"MonthlyCharges\",\"nullable\":true},{\"metadata\":{},\"type\":\"double\",\"name\":\"TotalCharges\",\"nullable\":true}],\"type\":\"struct\"}}}]}\n"
                }
            ]
        }, 
        {
            "metadata": {}, 
            "cell_type": "markdown", 
            "source": "#### Get published model deployment url"
        }, 
        {
            "execution_count": 96, 
            "cell_type": "code", 
            "source": "[endpoint_deployments] = [x.get('entity').get('deployments').get('url') for x in json.loads(response_get.text).get('resources') if x.get('metadata').get('guid') == saved_model.uid]\n\nprint(endpoint_deployments)", 
            "metadata": {}, 
            "outputs": [
                {
                    "output_type": "stream", 
                    "name": "stdout", 
                    "text": "https://ibm-watson-ml.mybluemix.net/v3/wml_instances/360c510b-012c-4793-ae3f-063410081c3e/published_models/6428ee3a-2fb5-4a62-b6ce-205284a28804/deployments\n"
                }
            ]
        }, 
        {
            "metadata": {}, 
            "cell_type": "markdown", 
            "source": "#### Create batch deployment for published model"
        }, 
        {
            "metadata": {}, 
            "cell_type": "markdown", 
            "source": "First import standard python library."
        }, 
        {
            "execution_count": 97, 
            "cell_type": "code", 
            "source": "import base64", 
            "metadata": {
                "collapsed": true
            }, 
            "outputs": []
        }, 
        {
            "metadata": {}, 
            "cell_type": "markdown", 
            "source": "<div>**Action**:  Put your credentials from Apache Spark Service in Bluemix here</div>"
        }, 
        {
            "execution_count": 98, 
            "cell_type": "code", 
            "source": "spark_credentials = {\n  \"tenant_id\": \"****\",\n  \"tenant_id_full\": \"****\",\n  \"cluster_master_url\": \"https://spark.bluemix.net\",\n  \"tenant_secret\": \"****\",\n  \"instance_id\": \"****\",\n  \"plan\": \"ibm.SparkService.PayGoPersonal\"\n}", 
            "metadata": {
                "collapsed": true
            }, 
            "outputs": []
        }, 
        {
            "execution_count": 99, 
            "cell_type": "code", 
            "source": "encoded_spark_credentials_header = base64.b64encode(json.dumps({\"credentials\": spark_credentials, \"version\": \"2.0\"}))\nresult_filename = \"result.csv\"", 
            "metadata": {
                "collapsed": true
            }, 
            "outputs": []
        }, 
        {
            "execution_count": 101, 
            "cell_type": "code", 
            "source": "header_batch = {'Content-Type': 'application/json', 'Authorization': \"Bearer \" + mltoken, 'X-Spark-Service-Instance': encoded_spark_credentials_header}\npayload_batch = {\"type\":\"batch\", \"name\": \"Customer Churn Prediction\", \"description\": \"Batch Deployment\", \"input\": {\"source\": { \"container\": container_name, \"filename\": score_filename, \"fileformat\": \"csv\", \"inferschema\": 1, \"firstlineheader\": \"true\", \"type\": \"bluemixobjectstorage\"}, \"connection\": {\"userid\": connection_userid, \"projectid\": connection_projectid, \"password\": connection_password, \"region\": connection_region, \"authurl\": connection_authurl}}, \"output\": { \"target\": { \"container\": container_name, \"filename\": result_filename, \"fileformat\": \"csv\", \"firstlineheader\": \"true\", \"type\": \"bluemixobjectstorage\"}, \"connection\": {\"userid\": connection_userid, \"projectid\": connection_projectid, \"password\": connection_password, \"region\": connection_region, \"authurl\": connection_authurl}}}\n\nresponse_batch = requests.post(endpoint_deployments, json=payload_batch, headers=header_batch)\n\nprint(response_batch)\nprint(json.loads(response_batch.text).get(\"entity\").get(\"status\"))", 
            "metadata": {}, 
            "outputs": [
                {
                    "output_type": "stream", 
                    "name": "stdout", 
                    "text": "<Response [201]>\nINITIALIZING\n"
                }
            ]
        }, 
        {
            "metadata": {}, 
            "cell_type": "markdown", 
            "source": "You can see that your job has been submited to Spark."
        }, 
        {
            "metadata": {}, 
            "cell_type": "markdown", 
            "source": "#### Monitor job execution"
        }, 
        {
            "metadata": {}, 
            "cell_type": "markdown", 
            "source": "Here you can check status of your batch scoring. When status of Spark job is `FINNISHED` the results will be written to result.csv file in Object Storage."
        }, 
        {
            "execution_count": 104, 
            "cell_type": "code", 
            "source": "header_monitor_job = {'Content-Type': 'application/json', 'Authorization': \"Bearer \" + mltoken, 'X-Spark-Service-Instance': encoded_spark_credentials_header}\n\nresponse_monitor_job = requests.get(endpoint_deployments, headers=header_monitor_job)\n\nprint(response_monitor_job)\nprint(json.dumps(response_monitor_job.text, indent=2))", 
            "metadata": {}, 
            "outputs": [
                {
                    "output_type": "stream", 
                    "name": "stdout", 
                    "text": "<Response [200]>\n{\"count\":1,\"resources\":[{\"metadata\":{\"guid\":\"2756d942-75b2-4127-88a6-611cd211739e\",\"url\":\"https://ibm-watson-ml.mybluemix.net/v3/wml_instances/360c510b-012c-4793-ae3f-063410081c3e/published_models/6428ee3a-2fb5-4a62-b6ce-205284a28804/deployments/2756d942-75b2-4127-88a6-611cd211739e\",\"created_at\":\"2017-09-11T21:40:52.170Z\",\"modified_at\":\"2017-09-11T21:41:12.399Z\"},\"entity\":{\"runtime_environment\":\"spark-2.0\",\"name\":\"Customer Churn Prediction\",\"description\":\"Batch Deployment\",\"published_model\":{\"author\":{},\"name\":\"Customer Churn Model\",\"url\":\"https://ibm-watson-ml.mybluemix.net/v3/wml_instances/360c510b-012c-4793-ae3f-063410081c3e/published_models/6428ee3a-2fb5-4a62-b6ce-205284a28804\",\"guid\":\"6428ee3a-2fb5-4a62-b6ce-205284a28804\",\"created_at\":\"2017-09-11T21:40:52.126Z\"},\"model_type\":\"sparkml-model-2.0\",\"status\":\"COMPLETED\",\"output\":{\"connection\":{\"projectid\":\"a574e627c6f34c67996c28f65aa675e0\",\"userid\":\"2a92211c534a4c908dd0dd4e901036a2\",\"region\":\"dallas\",\"authurl\":\"https://identity.open.softlayer.com\",\"password\":\"Q0wCi]I/DWC/q2{z\"},\"target\":{\"fileformat\":\"csv\",\"firstlineheader\":\"true\",\"container\":\"batchjob\",\"filename\":\"result.csv\",\"type\":\"bluemixobjectstorage\"}},\"type\":\"batch\",\"deployed_version\":{\"url\":\"https://ibm-watson-ml.mybluemix.net/v2/artifacts/models/6428ee3a-2fb5-4a62-b6ce-205284a28804/versions/f5a13ec2-65c7-4704-adc1-e74c82bbebf5\",\"guid\":\"f5a13ec2-65c7-4704-adc1-e74c82bbebf5\",\"created_at\":\"2017-09-11T21:23:06.988Z\"},\"spark_service\":{\"credentials\":{\"tenant_id\":\"s37a-8ea2eec65e9690-35c9a7ecf27a\",\"cluster_master_url\":\"https://spark.bluemix.net\",\"tenant_id_full\":\"9577bb8c-9986-42c1-b37a-8ea2eec65e96_4c55eb1c-d6fe-4f0a-9390-35c9a7ecf27a\",\"tenant_secret\":\"2942a6ca-ac77-4d63-805e-9f0e2aae716d\",\"instance_id\":\"9577bb8c-9986-42c1-b37a-8ea2eec65e96\",\"plan\":\"ibm.SparkService.PayGoPersonal\"},\"version\":\"2.0\"},\"input\":{\"source\":{\"fileformat\":\"csv\",\"firstlineheader\":\"true\",\"container\":\"batchjob\",\"inferschema\":1,\"filename\":\"scoreInput.csv\",\"type\":\"bluemixobjectstorage\"},\"connection\":{\"projectid\":\"a574e627c6f34c67996c28f65aa675e0\",\"userid\":\"2a92211c534a4c908dd0dd4e901036a2\",\"region\":\"dallas\",\"authurl\":\"https://identity.open.softlayer.com\",\"password\":\"Q0wCi]I/DWC/q2{z\"}}}}]}\n"
                }
            ]
        }, 
        {
            "metadata": {}, 
            "cell_type": "markdown", 
            "source": "**Preview scored data**"
        }, 
        {
            "metadata": {}, 
            "cell_type": "markdown", 
            "source": "In this subsection you will load scored data.\n\nGet data with scores from Object Storage Service in Bluemix."
        }, 
        {
            "execution_count": 105, 
            "cell_type": "code", 
            "source": "conn = swiftclient.Connection(key = connection_password, authurl = connection_authurl + \"/v3\", auth_version = '3', os_options = {\"project_id\": connection_projectid, \"user_id\": connection_userid, \"region\": connection_region})", 
            "metadata": {
                "collapsed": true
            }, 
            "outputs": []
        }, 
        {
            "execution_count": 110, 
            "cell_type": "code", 
            "source": "from StringIO import StringIO", 
            "metadata": {
                "collapsed": true
            }, 
            "outputs": []
        }, 
        {
            "execution_count": 111, 
            "cell_type": "code", 
            "source": "results = conn.get_object(container_name, result_filename)\nresults_pdf = pandas.read_csv(StringIO(results[1]))", 
            "metadata": {
                "collapsed": true
            }, 
            "outputs": []
        }, 
        {
            "metadata": {}, 
            "cell_type": "markdown", 
            "source": "Preview the results by calling the *show()* method on the predictions in Pandas data frame."
        }, 
        {
            "execution_count": 113, 
            "cell_type": "code", 
            "source": "results_pdf", 
            "metadata": {}, 
            "outputs": [
                {
                    "execution_count": 113, 
                    "data": {
                        "text/html": "<div>\n<table border=\"1\" class=\"dataframe\">\n  <thead>\n    <tr style=\"text-align: right;\">\n      <th></th>\n      <th>customerID</th>\n      <th>gender</th>\n      <th>SeniorCitizen</th>\n      <th>Partner</th>\n      <th>Dependents</th>\n      <th>tenure</th>\n      <th>PhoneService</th>\n      <th>MultipleLines</th>\n      <th>InternetService</th>\n      <th>OnlineSecurity</th>\n      <th>...</th>\n      <th>StreamingMovies</th>\n      <th>Contract</th>\n      <th>PaperlessBilling</th>\n      <th>PaymentMethod</th>\n      <th>Churn</th>\n      <th>features</th>\n      <th>label</th>\n      <th>rawPrediction</th>\n      <th>probability</th>\n      <th>prediction</th>\n    </tr>\n  </thead>\n  <tbody>\n    <tr>\n      <th>0</th>\n      <td>9237-HQITU</td>\n      <td>Female</td>\n      <td>0</td>\n      <td>No</td>\n      <td>No</td>\n      <td>2</td>\n      <td>Yes</td>\n      <td>No</td>\n      <td>Fiber optic</td>\n      <td>No</td>\n      <td>...</td>\n      <td>No</td>\n      <td>Month-to-month</td>\n      <td>Yes</td>\n      <td>Electronic check</td>\n      <td>Yes</td>\n      <td>(30,[2,3,4,5,6,8,10,12,14,16,18,20,22,24,25,28...</td>\n      <td>1</td>\n      <td>[-0.6683985606091145,0.6683985606091145]</td>\n      <td>[0.3388555225599606,0.6611444774400395]</td>\n      <td>1</td>\n    </tr>\n    <tr>\n      <th>1</th>\n      <td>3638-WEABW</td>\n      <td>Female</td>\n      <td>0</td>\n      <td>Yes</td>\n      <td>No</td>\n      <td>58</td>\n      <td>Yes</td>\n      <td>Yes</td>\n      <td>DSL</td>\n      <td>No</td>\n      <td>...</td>\n      <td>No</td>\n      <td>Two year</td>\n      <td>Yes</td>\n      <td>Credit card (automatic)</td>\n      <td>No</td>\n      <td>(30,[3,4,5,7,9,10,13,14,17,18,20,23,24,28,29],...</td>\n      <td>0</td>\n      <td>[3.94407920167498,-3.94407920167498]</td>\n      <td>[0.9809989882724504,0.019001011727549564]</td>\n      <td>0</td>\n    </tr>\n    <tr>\n      <th>2</th>\n      <td>8665-UTDHZ</td>\n      <td>Male</td>\n      <td>0</td>\n      <td>Yes</td>\n      <td>Yes</td>\n      <td>1</td>\n      <td>No</td>\n      <td>No phone service</td>\n      <td>DSL</td>\n      <td>No</td>\n      <td>...</td>\n      <td>No</td>\n      <td>Month-to-month</td>\n      <td>No</td>\n      <td>Electronic check</td>\n      <td>Yes</td>\n      <td>(30,[0,4,9,10,13,14,16,18,20,22,25,28,29],[1.0...</td>\n      <td>1</td>\n      <td>[-0.09214192316229042,0.09214192316229042]</td>\n      <td>[0.4769808032441,0.5230191967558999]</td>\n      <td>1</td>\n    </tr>\n    <tr>\n      <th>3</th>\n      <td>8773-HHUOZ</td>\n      <td>Female</td>\n      <td>0</td>\n      <td>No</td>\n      <td>Yes</td>\n      <td>17</td>\n      <td>Yes</td>\n      <td>No</td>\n      <td>DSL</td>\n      <td>No</td>\n      <td>...</td>\n      <td>Yes</td>\n      <td>Month-to-month</td>\n      <td>Yes</td>\n      <td>Mailed check</td>\n      <td>Yes</td>\n      <td>(30,[2,4,5,6,9,10,12,14,16,19,21,22,24,26,28,2...</td>\n      <td>1</td>\n      <td>[0.747504546477989,-0.747504546477989]</td>\n      <td>[0.6786347093927774,0.32136529060722263]</td>\n      <td>0</td>\n    </tr>\n    <tr>\n      <th>4</th>\n      <td>4080-IIARD</td>\n      <td>Female</td>\n      <td>0</td>\n      <td>Yes</td>\n      <td>No</td>\n      <td>13</td>\n      <td>Yes</td>\n      <td>Yes</td>\n      <td>DSL</td>\n      <td>Yes</td>\n      <td>...</td>\n      <td>No</td>\n      <td>Month-to-month</td>\n      <td>Yes</td>\n      <td>Electronic check</td>\n      <td>No</td>\n      <td>(30,[3,4,5,7,9,11,13,14,17,19,20,22,24,25,28,2...</td>\n      <td>0</td>\n      <td>[0.5917942689227103,-0.5917942689227103]</td>\n      <td>[0.6437767283180145,0.3562232716819854]</td>\n      <td>0</td>\n    </tr>\n    <tr>\n      <th>5</th>\n      <td>6575-SUVOI</td>\n      <td>Female</td>\n      <td>1</td>\n      <td>Yes</td>\n      <td>No</td>\n      <td>25</td>\n      <td>Yes</td>\n      <td>Yes</td>\n      <td>DSL</td>\n      <td>Yes</td>\n      <td>...</td>\n      <td>No</td>\n      <td>Month-to-month</td>\n      <td>Yes</td>\n      <td>Credit card (automatic)</td>\n      <td>No</td>\n      <td>(30,[1,3,4,5,7,9,11,12,14,17,19,20,22,24,28,29...</td>\n      <td>0</td>\n      <td>[1.0950900449544492,-1.0950900449544492]</td>\n      <td>[0.749338997934473,0.25066100206552694]</td>\n      <td>0</td>\n    </tr>\n    <tr>\n      <th>6</th>\n      <td>7495-OOKFY</td>\n      <td>Female</td>\n      <td>1</td>\n      <td>Yes</td>\n      <td>No</td>\n      <td>8</td>\n      <td>Yes</td>\n      <td>Yes</td>\n      <td>Fiber optic</td>\n      <td>No</td>\n      <td>...</td>\n      <td>No</td>\n      <td>Month-to-month</td>\n      <td>Yes</td>\n      <td>Credit card (automatic)</td>\n      <td>Yes</td>\n      <td>(30,[1,3,4,5,7,8,10,13,14,16,18,20,22,24,28,29...</td>\n      <td>1</td>\n      <td>[-0.7967750064589325,0.7967750064589325]</td>\n      <td>[0.31071579857499326,0.6892842014250067]</td>\n      <td>1</td>\n    </tr>\n    <tr>\n      <th>7</th>\n      <td>0731-EBJQB</td>\n      <td>Female</td>\n      <td>0</td>\n      <td>Yes</td>\n      <td>Yes</td>\n      <td>52</td>\n      <td>Yes</td>\n      <td>No</td>\n      <td>No</td>\n      <td>No internet service</td>\n      <td>...</td>\n      <td>No internet service</td>\n      <td>One year</td>\n      <td>Yes</td>\n      <td>Electronic check</td>\n      <td>No</td>\n      <td>(30,[4,5,6,24,25,28,29],[52.0,1.0,1.0,1.0,1.0,...</td>\n      <td>0</td>\n      <td>[3.4144782057040937,-3.4144782057040937]</td>\n      <td>[0.9681539637912697,0.031846036208730215]</td>\n      <td>0</td>\n    </tr>\n    <tr>\n      <th>8</th>\n      <td>1891-QRQSA</td>\n      <td>Male</td>\n      <td>1</td>\n      <td>Yes</td>\n      <td>Yes</td>\n      <td>64</td>\n      <td>Yes</td>\n      <td>Yes</td>\n      <td>Fiber optic</td>\n      <td>Yes</td>\n      <td>...</td>\n      <td>Yes</td>\n      <td>Two year</td>\n      <td>Yes</td>\n      <td>Bank transfer (automatic)</td>\n      <td>No</td>\n      <td>(30,[0,1,4,5,7,8,11,12,15,17,19,21,23,24,27,28...</td>\n      <td>0</td>\n      <td>[2.837589689486215,-2.837589689486215]</td>\n      <td>[0.944673621382491,0.05532637861750898]</td>\n      <td>0</td>\n    </tr>\n    <tr>\n      <th>9</th>\n      <td>5919-TMRGD</td>\n      <td>Female</td>\n      <td>0</td>\n      <td>No</td>\n      <td>Yes</td>\n      <td>1</td>\n      <td>Yes</td>\n      <td>No</td>\n      <td>Fiber optic</td>\n      <td>No</td>\n      <td>...</td>\n      <td>No</td>\n      <td>Month-to-month</td>\n      <td>Yes</td>\n      <td>Electronic check</td>\n      <td>Yes</td>\n      <td>(30,[2,4,5,6,8,10,12,14,16,19,20,22,24,25,28,2...</td>\n      <td>1</td>\n      <td>[-0.7697688966511269,0.7697688966511269]</td>\n      <td>[0.3165291006791172,0.6834708993208828]</td>\n      <td>1</td>\n    </tr>\n  </tbody>\n</table>\n<p>10 rows \u00d7 24 columns</p>\n</div>", 
                        "text/plain": "   customerID  gender  SeniorCitizen Partner Dependents  tenure PhoneService  \\\n0  9237-HQITU  Female              0      No         No       2          Yes   \n1  3638-WEABW  Female              0     Yes         No      58          Yes   \n2  8665-UTDHZ    Male              0     Yes        Yes       1           No   \n3  8773-HHUOZ  Female              0      No        Yes      17          Yes   \n4  4080-IIARD  Female              0     Yes         No      13          Yes   \n5  6575-SUVOI  Female              1     Yes         No      25          Yes   \n6  7495-OOKFY  Female              1     Yes         No       8          Yes   \n7  0731-EBJQB  Female              0     Yes        Yes      52          Yes   \n8  1891-QRQSA    Male              1     Yes        Yes      64          Yes   \n9  5919-TMRGD  Female              0      No        Yes       1          Yes   \n\n      MultipleLines InternetService       OnlineSecurity    ...      \\\n0                No     Fiber optic                   No    ...       \n1               Yes             DSL                   No    ...       \n2  No phone service             DSL                   No    ...       \n3                No             DSL                   No    ...       \n4               Yes             DSL                  Yes    ...       \n5               Yes             DSL                  Yes    ...       \n6               Yes     Fiber optic                   No    ...       \n7                No              No  No internet service    ...       \n8               Yes     Fiber optic                  Yes    ...       \n9                No     Fiber optic                   No    ...       \n\n       StreamingMovies        Contract PaperlessBilling  \\\n0                   No  Month-to-month              Yes   \n1                   No        Two year              Yes   \n2                   No  Month-to-month               No   \n3                  Yes  Month-to-month              Yes   \n4                   No  Month-to-month              Yes   \n5                   No  Month-to-month              Yes   \n6                   No  Month-to-month              Yes   \n7  No internet service        One year              Yes   \n8                  Yes        Two year              Yes   \n9                   No  Month-to-month              Yes   \n\n               PaymentMethod Churn  \\\n0           Electronic check   Yes   \n1    Credit card (automatic)    No   \n2           Electronic check   Yes   \n3               Mailed check   Yes   \n4           Electronic check    No   \n5    Credit card (automatic)    No   \n6    Credit card (automatic)   Yes   \n7           Electronic check    No   \n8  Bank transfer (automatic)    No   \n9           Electronic check   Yes   \n\n                                            features label  \\\n0  (30,[2,3,4,5,6,8,10,12,14,16,18,20,22,24,25,28...     1   \n1  (30,[3,4,5,7,9,10,13,14,17,18,20,23,24,28,29],...     0   \n2  (30,[0,4,9,10,13,14,16,18,20,22,25,28,29],[1.0...     1   \n3  (30,[2,4,5,6,9,10,12,14,16,19,21,22,24,26,28,2...     1   \n4  (30,[3,4,5,7,9,11,13,14,17,19,20,22,24,25,28,2...     0   \n5  (30,[1,3,4,5,7,9,11,12,14,17,19,20,22,24,28,29...     0   \n6  (30,[1,3,4,5,7,8,10,13,14,16,18,20,22,24,28,29...     1   \n7  (30,[4,5,6,24,25,28,29],[52.0,1.0,1.0,1.0,1.0,...     0   \n8  (30,[0,1,4,5,7,8,11,12,15,17,19,21,23,24,27,28...     0   \n9  (30,[2,4,5,6,8,10,12,14,16,19,20,22,24,25,28,2...     1   \n\n                                rawPrediction  \\\n0    [-0.6683985606091145,0.6683985606091145]   \n1        [3.94407920167498,-3.94407920167498]   \n2  [-0.09214192316229042,0.09214192316229042]   \n3      [0.747504546477989,-0.747504546477989]   \n4    [0.5917942689227103,-0.5917942689227103]   \n5    [1.0950900449544492,-1.0950900449544492]   \n6    [-0.7967750064589325,0.7967750064589325]   \n7    [3.4144782057040937,-3.4144782057040937]   \n8      [2.837589689486215,-2.837589689486215]   \n9    [-0.7697688966511269,0.7697688966511269]   \n\n                                 probability prediction  \n0    [0.3388555225599606,0.6611444774400395]          1  \n1  [0.9809989882724504,0.019001011727549564]          0  \n2       [0.4769808032441,0.5230191967558999]          1  \n3   [0.6786347093927774,0.32136529060722263]          0  \n4    [0.6437767283180145,0.3562232716819854]          0  \n5    [0.749338997934473,0.25066100206552694]          0  \n6   [0.31071579857499326,0.6892842014250067]          1  \n7  [0.9681539637912697,0.031846036208730215]          0  \n8    [0.944673621382491,0.05532637861750898]          0  \n9    [0.3165291006791172,0.6834708993208828]          1  \n\n[10 rows x 24 columns]"
                    }, 
                    "output_type": "execute_result", 
                    "metadata": {}
                }
            ]
        }, 
        {
            "metadata": {}, 
            "cell_type": "markdown", 
            "source": "You can see the predictions for all the records in pandas data frame."
        }, 
        {
            "metadata": {
                "collapsed": true
            }, 
            "cell_type": "markdown", 
            "source": "<a id=\"summary\"></a>\n## 7. Summary and next steps     "
        }, 
        {
            "metadata": {
                "collapsed": true
            }, 
            "cell_type": "markdown", 
            "source": " You successfully completed this notebook! You learned how to use Apache Spark machine learning as well as Watson Machine Learning for model creation and deployment. Check out our _[Online Documentation](https://console.ng.bluemix.net/docs/services/PredictiveModeling/index.html?pos=2)_ for more samples, tutorials, documentation, how-tos, and blog posts. "
        }, 
        {
            "metadata": {}, 
            "cell_type": "markdown", 
            "source": "### Authors\n\n**Lukasz Cmielowski**, PhD, is a Automation Architect and Data Scientist in IBM with a track record of developing enterprise-level applications that substantially increases clients' ability to turn data into actionable knowledge."
        }, 
        {
            "metadata": {}, 
            "cell_type": "markdown", 
            "source": "Copyright \u00a9 2017 IBM. This notebook and its source code are released under the terms of the MIT License."
        }
    ], 
    "nbformat": 4, 
    "nbformat_minor": 1
}